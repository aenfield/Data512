{
 "cells": [
  {
   "cell_type": "markdown",
   "metadata": {},
   "source": [
    "# Enfield, Andrew - DATA 512, A2: Bias in Data"
   ]
  },
  {
   "cell_type": "markdown",
   "metadata": {},
   "source": [
    "TBD UPDATE\n",
    "\n",
    "The assignment is at https://wiki.communitydata.cc/HCDS_(Fall_2017)/Assignments#A2:_Bias_in_data.\n",
    "\n",
    "TBD remove\n",
    "\n",
    "This notebook pulls, prepares, and analyzes data about the amount of monthly English Wikipedia traffic from January 1, 2008 through September 30, 2017. For more information about the work and data, refer to the [README](Readme.md).\n",
    "\n",
    "A few notes:\n",
    "- Normally I'd prefer to keep the explanation and background that's in the README here in the notebook, so everything's in a single file, but I've split it up this time as that's what the assignment requested. I won't copy/paste because keeping duplicate content in sync is horrible.\n",
    "- Real reproducibility needs tests for the code. A lot of my implementation below is in functions. I'd normally put these functions in at least one separate file that I import into this notebook, and I'd have tests in an additional file. For this assignment I'll just keep everything in this file, for simplicity, even though it means I can't test the code the way I normally would."
   ]
  },
  {
   "cell_type": "markdown",
   "metadata": {},
   "source": [
    "# Prereqs"
   ]
  },
  {
   "cell_type": "markdown",
   "metadata": {},
   "source": [
    "This code requires the libraries as described below."
   ]
  },
  {
   "cell_type": "code",
   "execution_count": 32,
   "metadata": {
    "collapsed": true
   },
   "outputs": [],
   "source": [
    "# load data\n",
    "import requests\n",
    "import json\n",
    "# import os\n",
    "\n",
    "# load, prepare, and analyze data\n",
    "import pandas as pd\n",
    "import numpy as np\n",
    "import matplotlib.pyplot as plt\n",
    "#from mpl_toolkits.axes_grid.anchored_artists import AnchoredText # for addtl annotations in charts\n",
    "#from matplotlib.ticker import FuncFormatter # for custom axis labels\n",
    "from IPython.core.pylabtools import figsize\n",
    "import seaborn as sns # for formatting\n",
    "%matplotlib inline "
   ]
  },
  {
   "cell_type": "code",
   "execution_count": 3,
   "metadata": {
    "collapsed": true
   },
   "outputs": [],
   "source": [
    "sns.set_style(\"whitegrid\")\n",
    "figsize(14,7)"
   ]
  },
  {
   "cell_type": "markdown",
   "metadata": {},
   "source": [
    "# Load data"
   ]
  },
  {
   "cell_type": "markdown",
   "metadata": {},
   "source": [
    "TBD UPDATE\n",
    "\n",
    "This section loads the data from the two APIs described in the README, producing five separate .json files, one for each API and access combination."
   ]
  },
  {
   "cell_type": "code",
   "execution_count": 30,
   "metadata": {},
   "outputs": [
    {
     "data": {
      "text/plain": [
       "(47997, 3)"
      ]
     },
     "execution_count": 30,
     "metadata": {},
     "output_type": "execute_result"
    }
   ],
   "source": [
    "d_wikipedia = pd.read_csv('page_data.csv')\n",
    "d_wikipedia.shape"
   ]
  },
  {
   "cell_type": "code",
   "execution_count": 31,
   "metadata": {},
   "outputs": [
    {
     "data": {
      "text/html": [
       "<div>\n",
       "<style>\n",
       "    .dataframe thead tr:only-child th {\n",
       "        text-align: right;\n",
       "    }\n",
       "\n",
       "    .dataframe thead th {\n",
       "        text-align: left;\n",
       "    }\n",
       "\n",
       "    .dataframe tbody tr th {\n",
       "        vertical-align: top;\n",
       "    }\n",
       "</style>\n",
       "<table border=\"1\" class=\"dataframe\">\n",
       "  <thead>\n",
       "    <tr style=\"text-align: right;\">\n",
       "      <th></th>\n",
       "      <th>country</th>\n",
       "      <th>page</th>\n",
       "      <th>last_edit</th>\n",
       "    </tr>\n",
       "  </thead>\n",
       "  <tbody>\n",
       "    <tr>\n",
       "      <th>0</th>\n",
       "      <td>Abkhazia</td>\n",
       "      <td>Zurab Achba</td>\n",
       "      <td>802551672</td>\n",
       "    </tr>\n",
       "    <tr>\n",
       "      <th>1</th>\n",
       "      <td>Abkhazia</td>\n",
       "      <td>Garri Aiba</td>\n",
       "      <td>774499188</td>\n",
       "    </tr>\n",
       "    <tr>\n",
       "      <th>2</th>\n",
       "      <td>Abkhazia</td>\n",
       "      <td>Zaur Avidzba</td>\n",
       "      <td>803841397</td>\n",
       "    </tr>\n",
       "  </tbody>\n",
       "</table>\n",
       "</div>"
      ],
      "text/plain": [
       "    country          page  last_edit\n",
       "0  Abkhazia   Zurab Achba  802551672\n",
       "1  Abkhazia    Garri Aiba  774499188\n",
       "2  Abkhazia  Zaur Avidzba  803841397"
      ]
     },
     "execution_count": 31,
     "metadata": {},
     "output_type": "execute_result"
    }
   ],
   "source": [
    "d_wikipedia[:3]"
   ]
  },
  {
   "cell_type": "code",
   "execution_count": 18,
   "metadata": {},
   "outputs": [
    {
     "data": {
      "text/plain": [
       "(210, 6)"
      ]
     },
     "execution_count": 18,
     "metadata": {},
     "output_type": "execute_result"
    }
   ],
   "source": [
    "d_population = pd.read_csv('Population Mid-2015.csv', skiprows=2, thousands=',')\n",
    "d_population.shape"
   ]
  },
  {
   "cell_type": "code",
   "execution_count": 29,
   "metadata": {},
   "outputs": [
    {
     "data": {
      "text/plain": [
       "country\n",
       "France           1858\n",
       "Australia        1610\n",
       "Pakistan         1268\n",
       "China            1261\n",
       "Mexico           1137\n",
       "United States    1115\n",
       "Russia           1109\n",
       "Iran             1055\n",
       "Spain            1003\n",
       "India             993\n",
       "dtype: int64"
      ]
     },
     "execution_count": 29,
     "metadata": {},
     "output_type": "execute_result"
    }
   ],
   "source": [
    "d_wikipedia.groupby(['country']).size().sort_values(ascending=False)[:10]"
   ]
  },
  {
   "cell_type": "code",
   "execution_count": 19,
   "metadata": {},
   "outputs": [
    {
     "data": {
      "text/html": [
       "<div>\n",
       "<style>\n",
       "    .dataframe thead tr:only-child th {\n",
       "        text-align: right;\n",
       "    }\n",
       "\n",
       "    .dataframe thead th {\n",
       "        text-align: left;\n",
       "    }\n",
       "\n",
       "    .dataframe tbody tr th {\n",
       "        vertical-align: top;\n",
       "    }\n",
       "</style>\n",
       "<table border=\"1\" class=\"dataframe\">\n",
       "  <thead>\n",
       "    <tr style=\"text-align: right;\">\n",
       "      <th></th>\n",
       "      <th>Location</th>\n",
       "      <th>Location Type</th>\n",
       "      <th>TimeFrame</th>\n",
       "      <th>Data Type</th>\n",
       "      <th>Data</th>\n",
       "      <th>Footnotes</th>\n",
       "    </tr>\n",
       "  </thead>\n",
       "  <tbody>\n",
       "    <tr>\n",
       "      <th>0</th>\n",
       "      <td>Afghanistan</td>\n",
       "      <td>Country</td>\n",
       "      <td>Mid-2015</td>\n",
       "      <td>Number</td>\n",
       "      <td>32247000</td>\n",
       "      <td>NaN</td>\n",
       "    </tr>\n",
       "    <tr>\n",
       "      <th>1</th>\n",
       "      <td>Albania</td>\n",
       "      <td>Country</td>\n",
       "      <td>Mid-2015</td>\n",
       "      <td>Number</td>\n",
       "      <td>2892000</td>\n",
       "      <td>NaN</td>\n",
       "    </tr>\n",
       "    <tr>\n",
       "      <th>2</th>\n",
       "      <td>Algeria</td>\n",
       "      <td>Country</td>\n",
       "      <td>Mid-2015</td>\n",
       "      <td>Number</td>\n",
       "      <td>39948000</td>\n",
       "      <td>NaN</td>\n",
       "    </tr>\n",
       "  </tbody>\n",
       "</table>\n",
       "</div>"
      ],
      "text/plain": [
       "      Location Location Type TimeFrame Data Type      Data  Footnotes\n",
       "0  Afghanistan       Country  Mid-2015    Number  32247000        NaN\n",
       "1      Albania       Country  Mid-2015    Number   2892000        NaN\n",
       "2      Algeria       Country  Mid-2015    Number  39948000        NaN"
      ]
     },
     "execution_count": 19,
     "metadata": {},
     "output_type": "execute_result"
    }
   ],
   "source": [
    "d_population[:3]"
   ]
  },
  {
   "cell_type": "markdown",
   "metadata": {},
   "source": [
    "## Pull article scores"
   ]
  },
  {
   "cell_type": "markdown",
   "metadata": {},
   "source": [
    "Docs: https://ores.wikimedia.org/v3/#!/scoring/get_v3_scores_context_revid_model and https://ores.wikimedia.org/v3/#!/scoring/get_v3_scores_context"
   ]
  },
  {
   "cell_type": "markdown",
   "metadata": {},
   "source": [
    "Note that when I try the multiple rev ID API with a bunch of valid IDs and one that's a text string, then it gives me a 500 and no data at all. However when I try with a bunch of valid IDs and an ID that's not valid - like -1 - then I get valid/good data for the valid IDs and output like the following. This seems good: I'll go ahead and try just pulling batches of IDs w/o further error handling.\n",
    "\n",
    "    \"-1\": {\n",
    "        \"wp10\": {\n",
    "          \"error\": {\n",
    "            \"message\": \"RevisionNotFound: Could not find revision ({revision}:-1)\",\n",
    "            \"type\": \"RevisionNotFound\"\n",
    "          }\n",
    "        }"
   ]
  },
  {
   "cell_type": "code",
   "execution_count": null,
   "metadata": {
    "collapsed": true
   },
   "outputs": [],
   "source": []
  },
  {
   "cell_type": "code",
   "execution_count": 225,
   "metadata": {},
   "outputs": [],
   "source": [
    "user_agent = 'https://github.com/aenfield'\n",
    "\n",
    "def get_full_ores_score_json(rev_id):\n",
    "    \"\"\"TBD referring to https://ores.wikimedia.org/v3/#!/scoring/get_v3_scores_context_revid_model\"\"\"\n",
    "    endpoint = 'https://ores.wikimedia.org/v3/scores/{project}/{revid}/{model}'\n",
    "\n",
    "    # TODO update to hardcode enwiki and wp10?\n",
    "    params = {'project' : 'enwiki',\n",
    "              'model' : 'wp10',\n",
    "              'revid' : rev_id\n",
    "              }\n",
    "\n",
    "    api_call = requests.get(endpoint.format(**params), headers = {'User-Agent':'{}'.format(user_agent)})\n",
    "    return api_call.json()\n",
    "\n",
    "def get_multiple_full_ores_score_json(rev_ids):\n",
    "    \"\"\"TBD referring to ..., with rev_ids as a list\"\"\"\n",
    "    endpoint = 'https://ores.wikimedia.org/v3/scores/enwiki?models=wp10&revids={rev_ids_delimited}'\n",
    "\n",
    "    #https://ores.wikimedia.org/v3/scores/enwiki?models=wp10&revids=802551672%7C774499188%7C785284614\n",
    "        \n",
    "    #rev_ids_delimited = '802551672|774499188|803841397|789818648|785284614|798644673|728644481|788591677|758713659|802860970|797469371|804349394|799618550|805063877|718383950|805775169|778690357|779839643|803055503|805920528'\n",
    "    #rev_ids_delimited = '802551672|774499188|803841397|789818648|785284614|798644673|728644481|788591677|758713659|802860970|797469371|804349394|799618550|805063877|718383950|805775169|778690357|779839643|803055503|805920528'\n",
    "    #rev_ids_delimited = '802551672|774499188|803841397'\n",
    "    #rev_ids_delimited = '802551672|foo|803841397'\n",
    "    \n",
    "    rev_ids_delimited = '|'.join([str(i) for i in rev_ids])\n",
    "\n",
    "    params = { 'rev_ids_delimited' : rev_ids_delimited }\n",
    "\n",
    "    api_call = requests.get(endpoint.format(**params), headers = {'User-Agent':'{}'.format(user_agent)})\n",
    "    return api_call.json()\n",
    "    \n",
    "\n",
    "def get_ores_prediction_from_score_json(json, index=0):\n",
    "    \"\"\"Return the most likely article type, per ORES. Assumes a JSON dict from Ores. \"\"\"\n",
    "    return json['enwiki']['scores'][list(json['enwiki']['scores'].keys())[index]]['wp10']['score']['prediction']\n",
    "\n",
    "def get_ores_prediction(rev_id):\n",
    "    j = get_full_ores_score_json(rev_id)\n",
    "    return get_ores_prediction_from_score_json(j)"
   ]
  },
  {
   "cell_type": "code",
   "execution_count": 226,
   "metadata": {
    "collapsed": true
   },
   "outputs": [],
   "source": [
    "#'|'.join([str(i) for i in d_wikipedia['last_edit'][:20].values])"
   ]
  },
  {
   "cell_type": "code",
   "execution_count": 263,
   "metadata": {},
   "outputs": [
    {
     "name": "stdout",
     "output_type": "stream",
     "text": [
      "CPU times: user 28.1 ms, sys: 2.96 ms, total: 31.1 ms\n",
      "Wall time: 536 ms\n"
     ]
    },
    {
     "data": {
      "text/plain": [
       "{'enwiki': {'models': {'wp10': {'version': '0.5.0'}},\n",
       "  'scores': {'694519009': {'wp10': {'score': {'prediction': 'Start',\n",
       "      'probability': {'B': 0.029359095171311092,\n",
       "       'C': 0.11916048206971676,\n",
       "       'FA': 0.0029901130419836336,\n",
       "       'GA': 0.010481718372479139,\n",
       "       'Start': 0.6910917675092474,\n",
       "       'Stub': 0.1469168238352618}}}},\n",
       "   '704938340': {'wp10': {'score': {'prediction': 'Start',\n",
       "      'probability': {'B': 0.08272077478631484,\n",
       "       'C': 0.3140824592593759,\n",
       "       'FA': 0.002478638522166586,\n",
       "       'GA': 0.007568940244467742,\n",
       "       'Start': 0.5791897791197611,\n",
       "       'Stub': 0.013959408067913919}}}},\n",
       "   '709439380': {'wp10': {'score': {'prediction': 'Stub',\n",
       "      'probability': {'B': 0.01861322617747163,\n",
       "       'C': 0.03517913093148799,\n",
       "       'FA': 0.0019566250305082912,\n",
       "       'GA': 0.005513461119386502,\n",
       "       'Start': 0.12446779450816998,\n",
       "       'Stub': 0.8142697622329755}}}},\n",
       "   '710498813': {'wp10': {'score': {'prediction': 'Stub',\n",
       "      'probability': {'B': 0.010712854634425579,\n",
       "       'C': 0.012525384748379062,\n",
       "       'FA': 0.0014389928988059548,\n",
       "       'GA': 0.0037808187976229608,\n",
       "       'Start': 0.11349825299731112,\n",
       "       'Stub': 0.8580436959234553}}}},\n",
       "   '716814855': {'wp10': {'score': {'prediction': 'Stub',\n",
       "      'probability': {'B': 0.006071310181165431,\n",
       "       'C': 0.008064432853711362,\n",
       "       'FA': 0.0009223567705973797,\n",
       "       'GA': 0.0024012697009413077,\n",
       "       'Start': 0.028464769636505953,\n",
       "       'Stub': 0.9540758608570785}}}},\n",
       "   '717733887': {'wp10': {'score': {'prediction': 'Stub',\n",
       "      'probability': {'B': 0.006649382295445663,\n",
       "       'C': 0.008457123140548794,\n",
       "       'FA': 0.000994017071464694,\n",
       "       'GA': 0.002099692697200365,\n",
       "       'Start': 0.059717848333851374,\n",
       "       'Stub': 0.9220819364614892}}}},\n",
       "   '717743144': {'wp10': {'score': {'prediction': 'Stub',\n",
       "      'probability': {'B': 0.007393884366002909,\n",
       "       'C': 0.009988694558397375,\n",
       "       'FA': 0.0010725208330315467,\n",
       "       'GA': 0.002700867802203627,\n",
       "       'Start': 0.049227664286737846,\n",
       "       'Stub': 0.9296163681536269}}}},\n",
       "   '718382045': {'wp10': {'score': {'prediction': 'Stub',\n",
       "      'probability': {'B': 0.005097581497046385,\n",
       "       'C': 0.0073429483340531525,\n",
       "       'FA': 0.0007549565460027817,\n",
       "       'GA': 0.001788494323124594,\n",
       "       'Start': 0.034767362130107934,\n",
       "       'Stub': 0.9502486571696651}}}},\n",
       "   '718383950': {'wp10': {'score': {'prediction': 'Stub',\n",
       "      'probability': {'B': 0.00867108446083565,\n",
       "       'C': 0.010201201419512923,\n",
       "       'FA': 0.0012308185869063053,\n",
       "       'GA': 0.002347248512459868,\n",
       "       'Start': 0.08362945430408676,\n",
       "       'Stub': 0.8939201927161984}}}},\n",
       "   '718384584': {'wp10': {'score': {'prediction': 'Start',\n",
       "      'probability': {'B': 0.0337584358465061,\n",
       "       'C': 0.10334660147463923,\n",
       "       'FA': 0.003331178284964511,\n",
       "       'GA': 0.011783655852653754,\n",
       "       'Start': 0.4843830238343569,\n",
       "       'Stub': 0.3633971047068793}}}},\n",
       "   '718384771': {'wp10': {'score': {'prediction': 'Stub',\n",
       "      'probability': {'B': 0.009013264184054124,\n",
       "       'C': 0.013354672904650965,\n",
       "       'FA': 0.0013330560817804908,\n",
       "       'GA': 0.003318896547565993,\n",
       "       'Start': 0.0791658463396242,\n",
       "       'Stub': 0.8938142639423243}}}},\n",
       "   '721094337': {'wp10': {'score': {'prediction': 'Stub',\n",
       "      'probability': {'B': 0.00967774168388432,\n",
       "       'C': 0.011358571882119457,\n",
       "       'FA': 0.0013339539633884174,\n",
       "       'GA': 0.0032195932840096233,\n",
       "       'Start': 0.13069455941249147,\n",
       "       'Stub': 0.8437155797741069}}}},\n",
       "   '722893996': {'wp10': {'score': {'prediction': 'Stub',\n",
       "      'probability': {'B': 0.0278169170410044,\n",
       "       'C': 0.028636709907141903,\n",
       "       'FA': 0.0026301385307960726,\n",
       "       'GA': 0.007485462466660866,\n",
       "       'Start': 0.3939317304608702,\n",
       "       'Stub': 0.5394990415935265}}}},\n",
       "   '723736482': {'wp10': {'score': {'prediction': 'Stub',\n",
       "      'probability': {'B': 0.007925525775897582,\n",
       "       'C': 0.00770227167262576,\n",
       "       'FA': 0.000992167730055701,\n",
       "       'GA': 0.0020286906558376954,\n",
       "       'Start': 0.03059136124522994,\n",
       "       'Stub': 0.9507599829203534}}}},\n",
       "   '727899635': {'wp10': {'score': {'prediction': 'Stub',\n",
       "      'probability': {'B': 0.0037307113406826534,\n",
       "       'C': 0.0032344586347621508,\n",
       "       'FA': 0.00061063784703897,\n",
       "       'GA': 0.000790741389618434,\n",
       "       'Start': 0.00956765043077911,\n",
       "       'Stub': 0.9820658003571187}}}},\n",
       "   '728644481': {'wp10': {'score': {'prediction': 'Stub',\n",
       "      'probability': {'B': 0.011743849354179213,\n",
       "       'C': 0.018551150267917215,\n",
       "       'FA': 0.0017216633333940244,\n",
       "       'GA': 0.004963145860590862,\n",
       "       'Start': 0.2475321059686044,\n",
       "       'Stub': 0.7154880852153144}}}},\n",
       "   '741518574': {'wp10': {'score': {'prediction': 'Start',\n",
       "      'probability': {'B': 0.029798195104632216,\n",
       "       'C': 0.07463929886063322,\n",
       "       'FA': 0.0018919165878414107,\n",
       "       'GA': 0.00557922901915613,\n",
       "       'Start': 0.831931260329674,\n",
       "       'Stub': 0.05616010009806306}}}},\n",
       "   '749355761': {'wp10': {'score': {'prediction': 'Stub',\n",
       "      'probability': {'B': 0.012702308722054948,\n",
       "       'C': 0.012279036259187373,\n",
       "       'FA': 0.0012875260390123498,\n",
       "       'GA': 0.003286416104250541,\n",
       "       'Start': 0.07962719997861734,\n",
       "       'Stub': 0.8908175128968776}}}},\n",
       "   '750347412': {'wp10': {'score': {'prediction': 'Start',\n",
       "      'probability': {'B': 0.023049546008480994,\n",
       "       'C': 0.06887707644037785,\n",
       "       'FA': 0.0027010425010642576,\n",
       "       'GA': 0.005866921935485066,\n",
       "       'Start': 0.7204769363447924,\n",
       "       'Stub': 0.17902847676979952}}}},\n",
       "   '750561890': {'wp10': {'score': {'prediction': 'Start',\n",
       "      'probability': {'B': 0.034461293408872815,\n",
       "       'C': 0.03282124013542519,\n",
       "       'FA': 0.0024296696032437524,\n",
       "       'GA': 0.005224822915841397,\n",
       "       'Start': 0.512385976150443,\n",
       "       'Stub': 0.41267699778617384}}}},\n",
       "   '755193428': {'wp10': {'score': {'prediction': 'Stub',\n",
       "      'probability': {'B': 0.0033246230815916376,\n",
       "       'C': 0.003448184345188406,\n",
       "       'FA': 0.00046698064333056653,\n",
       "       'GA': 0.0007805662452331089,\n",
       "       'Start': 0.010483775764714261,\n",
       "       'Stub': 0.9814958699199419}}}},\n",
       "   '758713659': {'wp10': {'score': {'prediction': 'C',\n",
       "      'probability': {'B': 0.13051629022094477,\n",
       "       'C': 0.661331647033431,\n",
       "       'FA': 0.008345185189334319,\n",
       "       'GA': 0.0506476033411268,\n",
       "       'Start': 0.13543386979975322,\n",
       "       'Stub': 0.01372540441540996}}}},\n",
       "   '759405630': {'wp10': {'score': {'prediction': 'Start',\n",
       "      'probability': {'B': 0.045842386293152314,\n",
       "       'C': 0.17453434909131862,\n",
       "       'FA': 0.002125683192297411,\n",
       "       'GA': 0.0048182274585753535,\n",
       "       'Start': 0.7573171004745616,\n",
       "       'Stub': 0.015362253490094601}}}},\n",
       "   '763083773': {'wp10': {'score': {'prediction': 'Stub',\n",
       "      'probability': {'B': 0.0173511171545163,\n",
       "       'C': 0.03235043365444532,\n",
       "       'FA': 0.0027620693347915537,\n",
       "       'GA': 0.004970908672684679,\n",
       "       'Start': 0.32478242088335046,\n",
       "       'Stub': 0.6177830503002119}}}},\n",
       "   '770239277': {'wp10': {'score': {'prediction': 'Stub',\n",
       "      'probability': {'B': 0.007066515334752496,\n",
       "       'C': 0.01035249105808592,\n",
       "       'FA': 0.001056483071752487,\n",
       "       'GA': 0.0026978555683103258,\n",
       "       'Start': 0.04319719992871729,\n",
       "       'Stub': 0.9356294550383815}}}},\n",
       "   '770658277': {'wp10': {'score': {'prediction': 'Start',\n",
       "      'probability': {'B': 0.1065922431465686,\n",
       "       'C': 0.15742104760546016,\n",
       "       'FA': 0.0035726138166682574,\n",
       "       'GA': 0.005923950871016504,\n",
       "       'Start': 0.6396175976385475,\n",
       "       'Stub': 0.08687254692173878}}}},\n",
       "   '772804054': {'wp10': {'score': {'prediction': 'Stub',\n",
       "      'probability': {'B': 0.023028930592628175,\n",
       "       'C': 0.023891015941775274,\n",
       "       'FA': 0.002730684628211314,\n",
       "       'GA': 0.004492358343572606,\n",
       "       'Start': 0.381062138471567,\n",
       "       'Stub': 0.5647948720222459}}}},\n",
       "   '774499188': {'wp10': {'score': {'prediction': 'Stub',\n",
       "      'probability': {'B': 0.03488477079112925,\n",
       "       'C': 0.06953258948284814,\n",
       "       'FA': 0.0025762575670963965,\n",
       "       'GA': 0.007911851615317388,\n",
       "       'Start': 0.4106575723489943,\n",
       "       'Stub': 0.4744369581946146}}}},\n",
       "   '775966269': {'wp10': {'score': {'prediction': 'C',\n",
       "      'probability': {'B': 0.07418566514665453,\n",
       "       'C': 0.8350718682840256,\n",
       "       'FA': 0.0035147469531849208,\n",
       "       'GA': 0.011345983113415212,\n",
       "       'Start': 0.07440057281064821,\n",
       "       'Stub': 0.0014811636920718397}}}},\n",
       "   '777525023': {'wp10': {'score': {'prediction': 'Stub',\n",
       "      'probability': {'B': 0.0046130176531632636,\n",
       "       'C': 0.006576505320280363,\n",
       "       'FA': 0.0006769623676347254,\n",
       "       'GA': 0.001781188620161349,\n",
       "       'Start': 0.02671631082820344,\n",
       "       'Stub': 0.9596360152105567}}}},\n",
       "   '778690357': {'wp10': {'score': {'prediction': 'Start',\n",
       "      'probability': {'B': 0.02297674671423472,\n",
       "       'C': 0.0861074813114808,\n",
       "       'FA': 0.002422756597764642,\n",
       "       'GA': 0.00486559372582058,\n",
       "       'Start': 0.8319728634090546,\n",
       "       'Stub': 0.051654558241644735}}}},\n",
       "   '779389407': {'wp10': {'score': {'prediction': 'Stub',\n",
       "      'probability': {'B': 0.005636493142980844,\n",
       "       'C': 0.0051275634984417244,\n",
       "       'FA': 0.0006942634069881487,\n",
       "       'GA': 0.001415960234177088,\n",
       "       'Start': 0.016568859727797817,\n",
       "       'Stub': 0.9705568599896144}}}},\n",
       "   '779389809': {'wp10': {'score': {'prediction': 'Stub',\n",
       "      'probability': {'B': 0.004423616745202981,\n",
       "       'C': 0.006093998623503547,\n",
       "       'FA': 0.0006444320604979311,\n",
       "       'GA': 0.0017041312127418144,\n",
       "       'Start': 0.027532676519770222,\n",
       "       'Stub': 0.9596011448382836}}}},\n",
       "   '779839643': {'wp10': {'score': {'prediction': 'Stub',\n",
       "      'probability': {'B': 0.005812277144201996,\n",
       "       'C': 0.005903365138454951,\n",
       "       'FA': 0.0007044022311522287,\n",
       "       'GA': 0.0014771677716918482,\n",
       "       'Start': 0.017543294400020636,\n",
       "       'Stub': 0.9685594933144783}}}},\n",
       "   '780940202': {'wp10': {'score': {'prediction': 'Start',\n",
       "      'probability': {'B': 0.042327471176535576,\n",
       "       'C': 0.08697642434614239,\n",
       "       'FA': 0.003976911356721348,\n",
       "       'GA': 0.018055701340292014,\n",
       "       'Start': 0.7889506186135931,\n",
       "       'Stub': 0.059712873166715565}}}},\n",
       "   '781002628': {'wp10': {'score': {'prediction': 'Start',\n",
       "      'probability': {'B': 0.03293059861941764,\n",
       "       'C': 0.06766890426795932,\n",
       "       'FA': 0.00366186281906905,\n",
       "       'GA': 0.012947572782196633,\n",
       "       'Start': 0.5495855489801612,\n",
       "       'Stub': 0.333205512531196}}}},\n",
       "   '785284556': {'wp10': {'score': {'prediction': 'Start',\n",
       "      'probability': {'B': 0.04106185001837237,\n",
       "       'C': 0.07514292212416514,\n",
       "       'FA': 0.0019137600510098227,\n",
       "       'GA': 0.010747605364287809,\n",
       "       'Start': 0.8422668341138037,\n",
       "       'Stub': 0.02886702832836112}}}},\n",
       "   '785284614': {'wp10': {'score': {'prediction': 'Start',\n",
       "      'probability': {'B': 0.038275722083665996,\n",
       "       'C': 0.10192509737063972,\n",
       "       'FA': 0.002304638025838147,\n",
       "       'GA': 0.01439572915013765,\n",
       "       'Start': 0.8180319224222182,\n",
       "       'Stub': 0.025066890947500402}}}},\n",
       "   '786203824': {'wp10': {'score': {'prediction': 'Start',\n",
       "      'probability': {'B': 0.02985651858236323,\n",
       "       'C': 0.08633140511348103,\n",
       "       'FA': 0.0032126073388198118,\n",
       "       'GA': 0.009810050667885534,\n",
       "       'Start': 0.7494118105697697,\n",
       "       'Stub': 0.12137760772768083}}}},\n",
       "   '787258680': {'wp10': {'score': {'prediction': 'Start',\n",
       "      'probability': {'B': 0.019202963618006552,\n",
       "       'C': 0.034144194053238056,\n",
       "       'FA': 0.002498739248431996,\n",
       "       'GA': 0.005069296875674145,\n",
       "       'Start': 0.5738261853292014,\n",
       "       'Stub': 0.36525862087544775}}}},\n",
       "   '787347770': {'wp10': {'score': {'prediction': 'C',\n",
       "      'probability': {'B': 0.20694042744259983,\n",
       "       'C': 0.561857079910417,\n",
       "       'FA': 0.006977009414080709,\n",
       "       'GA': 0.06944410928409318,\n",
       "       'Start': 0.15102836920557058,\n",
       "       'Stub': 0.0037530047432384906}}}},\n",
       "   '787914141': {'wp10': {'score': {'prediction': 'Start',\n",
       "      'probability': {'B': 0.04950551981198007,\n",
       "       'C': 0.10078708428553353,\n",
       "       'FA': 0.005554610587454158,\n",
       "       'GA': 0.011589349832215391,\n",
       "       'Start': 0.6684841052775575,\n",
       "       'Stub': 0.1640793302052594}}}},\n",
       "   '788520176': {'wp10': {'score': {'prediction': 'C',\n",
       "      'probability': {'B': 0.21944985566767003,\n",
       "       'C': 0.39614072797391564,\n",
       "       'FA': 0.004796787726628701,\n",
       "       'GA': 0.025946314862364848,\n",
       "       'Start': 0.34567880027023795,\n",
       "       'Stub': 0.007987513499182907}}}},\n",
       "   '788591677': {'wp10': {'score': {'prediction': 'Start',\n",
       "      'probability': {'B': 0.06406208521481899,\n",
       "       'C': 0.2597475279770066,\n",
       "       'FA': 0.0041369402109122325,\n",
       "       'GA': 0.024158092693711455,\n",
       "       'Start': 0.6380480318062743,\n",
       "       'Stub': 0.009847322097276373}}}},\n",
       "   '788684997': {'wp10': {'score': {'prediction': 'Start',\n",
       "      'probability': {'B': 0.17997943679476563,\n",
       "       'C': 0.32665268078857806,\n",
       "       'FA': 0.00607316515491114,\n",
       "       'GA': 0.03012404191688542,\n",
       "       'Start': 0.4494241811968296,\n",
       "       'Stub': 0.007746494148030098}}}},\n",
       "   '789039267': {'wp10': {'score': {'prediction': 'Stub',\n",
       "      'probability': {'B': 0.0038144453989117436,\n",
       "       'C': 0.00410040552338123,\n",
       "       'FA': 0.0005353628313081551,\n",
       "       'GA': 0.0009026496408190297,\n",
       "       'Start': 0.021359616918998157,\n",
       "       'Stub': 0.9692875196865818}}}},\n",
       "   '789787876': {'wp10': {'score': {'prediction': 'Start',\n",
       "      'probability': {'B': 0.05862517318031963,\n",
       "       'C': 0.12178104290723757,\n",
       "       'FA': 0.004809667887211635,\n",
       "       'GA': 0.015284969158332133,\n",
       "       'Start': 0.6708874475481627,\n",
       "       'Stub': 0.12861169931873614}}}},\n",
       "   '789818648': {'wp10': {'score': {'prediction': 'Start',\n",
       "      'probability': {'B': 0.02941560029957346,\n",
       "       'C': 0.055087519959750295,\n",
       "       'FA': 0.0023862738697030465,\n",
       "       'GA': 0.0034467642562264924,\n",
       "       'Start': 0.8003062073936903,\n",
       "       'Stub': 0.10935763422105636}}}},\n",
       "   '789818730': {'wp10': {'score': {'prediction': 'Start',\n",
       "      'probability': {'B': 0.0383704019240267,\n",
       "       'C': 0.0945220626448207,\n",
       "       'FA': 0.004602942863390393,\n",
       "       'GA': 0.007743456772395571,\n",
       "       'Start': 0.7369558524981898,\n",
       "       'Stub': 0.11780528329717661}}}},\n",
       "   '791417213': {'wp10': {'score': {'prediction': 'Start',\n",
       "      'probability': {'B': 0.029846495140600317,\n",
       "       'C': 0.2242124325777991,\n",
       "       'FA': 0.0019327889967734296,\n",
       "       'GA': 0.004067388659705633,\n",
       "       'Start': 0.7319634750221341,\n",
       "       'Stub': 0.007977419602987331}}}},\n",
       "   '792853350': {'wp10': {'score': {'prediction': 'Start',\n",
       "      'probability': {'B': 0.029553001898366325,\n",
       "       'C': 0.06176236135656306,\n",
       "       'FA': 0.003089983681621306,\n",
       "       'GA': 0.009644834248780543,\n",
       "       'Start': 0.7775634030717968,\n",
       "       'Stub': 0.11838641574287198}}}},\n",
       "   '793950185': {'wp10': {'score': {'prediction': 'C',\n",
       "      'probability': {'B': 0.10657431846844635,\n",
       "       'C': 0.5834044226193148,\n",
       "       'FA': 0.007931023389096969,\n",
       "       'GA': 0.034762114416320725,\n",
       "       'Start': 0.16619049149788964,\n",
       "       'Stub': 0.10113762960893155}}}},\n",
       "   '794072920': {'wp10': {'score': {'prediction': 'Stub',\n",
       "      'probability': {'B': 0.005768643128819184,\n",
       "       'C': 0.006944074321602872,\n",
       "       'FA': 0.0008379851171645111,\n",
       "       'GA': 0.001863945521187382,\n",
       "       'Start': 0.04191085863021376,\n",
       "       'Stub': 0.9426744932810122}}}},\n",
       "   '794478106': {'wp10': {'score': {'prediction': 'GA',\n",
       "      'probability': {'B': 0.17867133300749863,\n",
       "       'C': 0.24913807674511546,\n",
       "       'FA': 0.006304919109882271,\n",
       "       'GA': 0.5323999608768142,\n",
       "       'Start': 0.0317508985815882,\n",
       "       'Stub': 0.001734811679101397}}}},\n",
       "   '795223533': {'wp10': {'score': {'prediction': 'C',\n",
       "      'probability': {'B': 0.15365514125174085,\n",
       "       'C': 0.40917299293563053,\n",
       "       'FA': 0.004317754492468252,\n",
       "       'GA': 0.02059471601317824,\n",
       "       'Start': 0.40653176350667447,\n",
       "       'Stub': 0.005727631800307478}}}},\n",
       "   '795268854': {'wp10': {'score': {'prediction': 'Stub',\n",
       "      'probability': {'B': 0.005332368707892815,\n",
       "       'C': 0.006956510124884051,\n",
       "       'FA': 0.0007152125996701455,\n",
       "       'GA': 0.001604082698771096,\n",
       "       'Start': 0.033803472664243155,\n",
       "       'Stub': 0.9515883532045387}}}},\n",
       "   '795269744': {'wp10': {'score': {'prediction': 'Stub',\n",
       "      'probability': {'B': 0.00578773314515485,\n",
       "       'C': 0.006377539849177532,\n",
       "       'FA': 0.0007899489551152673,\n",
       "       'GA': 0.0014315453041007715,\n",
       "       'Start': 0.04149543258052361,\n",
       "       'Stub': 0.9441178001659277}}}},\n",
       "   '795274242': {'wp10': {'score': {'prediction': 'C',\n",
       "      'probability': {'B': 0.0947896855258835,\n",
       "       'C': 0.7645248324955034,\n",
       "       'FA': 0.0027099477681210545,\n",
       "       'GA': 0.011711017879819777,\n",
       "       'Start': 0.12484498213012372,\n",
       "       'Stub': 0.0014195342005486832}}}},\n",
       "   '795275051': {'wp10': {'score': {'prediction': 'Start',\n",
       "      'probability': {'B': 0.04249860755291068,\n",
       "       'C': 0.12971515779368423,\n",
       "       'FA': 0.002199161621919083,\n",
       "       'GA': 0.006565152525477326,\n",
       "       'Start': 0.8024842697533403,\n",
       "       'Stub': 0.016537650752668363}}}},\n",
       "   '795275238': {'wp10': {'score': {'prediction': 'Start',\n",
       "      'probability': {'B': 0.09538166841642975,\n",
       "       'C': 0.43191160389872907,\n",
       "       'FA': 0.00433196404140941,\n",
       "       'GA': 0.01434518825508592,\n",
       "       'Start': 0.43303482918944264,\n",
       "       'Stub': 0.02099474619890324}}}},\n",
       "   '795275279': {'wp10': {'score': {'prediction': 'Start',\n",
       "      'probability': {'B': 0.09847098377875033,\n",
       "       'C': 0.3869836582555947,\n",
       "       'FA': 0.003832473895484961,\n",
       "       'GA': 0.007107963392431712,\n",
       "       'Start': 0.4931506303854806,\n",
       "       'Stub': 0.010454290292257414}}}},\n",
       "   '795276004': {'wp10': {'score': {'prediction': 'Start',\n",
       "      'probability': {'B': 0.11402941569267135,\n",
       "       'C': 0.20038858005272794,\n",
       "       'FA': 0.0033356990124470322,\n",
       "       'GA': 0.007553109816495944,\n",
       "       'Start': 0.651850470343522,\n",
       "       'Stub': 0.022842725082135775}}}},\n",
       "   '795276382': {'wp10': {'score': {'prediction': 'C',\n",
       "      'probability': {'B': 0.1549784319722608,\n",
       "       'C': 0.40267531780315785,\n",
       "       'FA': 0.004960555975573943,\n",
       "       'GA': 0.02982873705081626,\n",
       "       'Start': 0.3924066065984881,\n",
       "       'Stub': 0.015150350599703068}}}},\n",
       "   '795276435': {'wp10': {'score': {'prediction': 'Stub',\n",
       "      'probability': {'B': 0.020855766519686635,\n",
       "       'C': 0.004902320108738828,\n",
       "       'FA': 0.001016507198931669,\n",
       "       'GA': 0.0011448689936978053,\n",
       "       'Start': 0.01680445423281568,\n",
       "       'Stub': 0.9552760829461294}}}},\n",
       "   '795276759': {'wp10': {'score': {'prediction': 'C',\n",
       "      'probability': {'B': 0.08315982612547786,\n",
       "       'C': 0.5937715623891324,\n",
       "       'FA': 0.0027689398309741447,\n",
       "       'GA': 0.007176892279540184,\n",
       "       'Start': 0.31003323365810526,\n",
       "       'Stub': 0.0030895457167701133}}}},\n",
       "   '795278213': {'wp10': {'score': {'prediction': 'Stub',\n",
       "      'probability': {'B': 0.017106966150069042,\n",
       "       'C': 0.030318192924994464,\n",
       "       'FA': 0.0020322091483187966,\n",
       "       'GA': 0.006176375672839602,\n",
       "       'Start': 0.17203203103256648,\n",
       "       'Stub': 0.7723342250712117}}}},\n",
       "   '795279646': {'wp10': {'score': {'prediction': 'GA',\n",
       "      'probability': {'B': 0.21693227175810922,\n",
       "       'C': 0.24663797845093577,\n",
       "       'FA': 0.023729511777809555,\n",
       "       'GA': 0.44565756890098446,\n",
       "       'Start': 0.06328237364295951,\n",
       "       'Stub': 0.0037602954692014996}}}},\n",
       "   '795280443': {'wp10': {'score': {'prediction': 'C',\n",
       "      'probability': {'B': 0.22178194160605372,\n",
       "       'C': 0.46268275244285184,\n",
       "       'FA': 0.004450171465657646,\n",
       "       'GA': 0.015056466395539243,\n",
       "       'Start': 0.29230533182674184,\n",
       "       'Stub': 0.0037233362631557384}}}},\n",
       "   '795282116': {'wp10': {'score': {'prediction': 'C',\n",
       "      'probability': {'B': 0.1819212597428012,\n",
       "       'C': 0.43872202230022184,\n",
       "       'FA': 0.0029290367728553187,\n",
       "       'GA': 0.006836113144744185,\n",
       "       'Start': 0.3654555501843092,\n",
       "       'Stub': 0.004136017855068249}}}},\n",
       "   '795282600': {'wp10': {'score': {'prediction': 'Stub',\n",
       "      'probability': {'B': 0.02243492735733538,\n",
       "       'C': 0.01710606729859633,\n",
       "       'FA': 0.0018898497642012126,\n",
       "       'GA': 0.004487180286904863,\n",
       "       'Start': 0.2647067819765118,\n",
       "       'Stub': 0.6893751933164506}}}},\n",
       "   '795282782': {'wp10': {'score': {'prediction': 'Start',\n",
       "      'probability': {'B': 0.035930912774869705,\n",
       "       'C': 0.12178787972384209,\n",
       "       'FA': 0.003269404312720012,\n",
       "       'GA': 0.008095623390475462,\n",
       "       'Start': 0.7413356417935764,\n",
       "       'Stub': 0.08958053800451651}}}},\n",
       "   '795283296': {'wp10': {'score': {'prediction': 'Start',\n",
       "      'probability': {'B': 0.05856772464441162,\n",
       "       'C': 0.1521526913676024,\n",
       "       'FA': 0.004383396919356371,\n",
       "       'GA': 0.011703296136331871,\n",
       "       'Start': 0.6005568844261386,\n",
       "       'Stub': 0.17263600650615912}}}},\n",
       "   '795283501': {'wp10': {'score': {'prediction': 'Stub',\n",
       "      'probability': {'B': 0.008810902869997757,\n",
       "       'C': 0.0067133399630162315,\n",
       "       'FA': 0.0008350726554462708,\n",
       "       'GA': 0.0015144763161393008,\n",
       "       'Start': 0.030800844789861278,\n",
       "       'Stub': 0.9513253634055391}}}},\n",
       "   '795285982': {'wp10': {'score': {'prediction': 'C',\n",
       "      'probability': {'B': 0.1902802556660931,\n",
       "       'C': 0.5204474882313747,\n",
       "       'FA': 0.011898333553536491,\n",
       "       'GA': 0.17458195168525537,\n",
       "       'Start': 0.0969828307380322,\n",
       "       'Stub': 0.005809140125708393}}}},\n",
       "   '795287565': {'wp10': {'score': {'prediction': 'Start',\n",
       "      'probability': {'B': 0.02342243600339298,\n",
       "       'C': 0.0688670233480328,\n",
       "       'FA': 0.0026933741732445937,\n",
       "       'GA': 0.011740138325180642,\n",
       "       'Start': 0.7027443941380919,\n",
       "       'Stub': 0.19053263401205697}}}},\n",
       "   '795919634': {'wp10': {'score': {'prediction': 'C',\n",
       "      'probability': {'B': 0.2456740422241209,\n",
       "       'C': 0.5579593641298133,\n",
       "       'FA': 0.006067590437998218,\n",
       "       'GA': 0.13411050626651808,\n",
       "       'Start': 0.053796115788818225,\n",
       "       'Stub': 0.0023923811527312875}}}},\n",
       "   '796493730': {'wp10': {'score': {'prediction': 'C',\n",
       "      'probability': {'B': 0.3384557893717521,\n",
       "       'C': 0.34029293650090214,\n",
       "       'FA': 0.03511729306516771,\n",
       "       'GA': 0.25607332127406446,\n",
       "       'Start': 0.027337318659317735,\n",
       "       'Stub': 0.0027233411287960717}}}},\n",
       "   '796569814': {'wp10': {'score': {'prediction': 'GA',\n",
       "      'probability': {'B': 0.13219193452925018,\n",
       "       'C': 0.15951102432106057,\n",
       "       'FA': 0.009073190523378622,\n",
       "       'GA': 0.6826296819259553,\n",
       "       'Start': 0.014949123480274723,\n",
       "       'Stub': 0.001645045220080468}}}},\n",
       "   '796885432': {'wp10': {'score': {'prediction': 'Stub',\n",
       "      'probability': {'B': 0.02173527228016444,\n",
       "       'C': 0.033405217740771105,\n",
       "       'FA': 0.002439783676185807,\n",
       "       'GA': 0.008042514023156658,\n",
       "       'Start': 0.24920519938219107,\n",
       "       'Stub': 0.6851720128975308}}}},\n",
       "   '796885985': {'wp10': {'score': {'prediction': 'C',\n",
       "      'probability': {'B': 0.1266965344279977,\n",
       "       'C': 0.49113550920841154,\n",
       "       'FA': 0.005244234638574714,\n",
       "       'GA': 0.03930338530912508,\n",
       "       'Start': 0.3322983334780181,\n",
       "       'Stub': 0.005322002937872915}}}},\n",
       "   '796930327': {'wp10': {'score': {'prediction': 'C',\n",
       "      'probability': {'B': 0.06591657410180529,\n",
       "       'C': 0.7593267983628874,\n",
       "       'FA': 0.0026314616701016385,\n",
       "       'GA': 0.0042380260872282895,\n",
       "       'Start': 0.16608813947742337,\n",
       "       'Stub': 0.0017990003005536929}}}},\n",
       "   '796975361': {'wp10': {'score': {'prediction': 'Start',\n",
       "      'probability': {'B': 0.02897191276657136,\n",
       "       'C': 0.036881348367813,\n",
       "       'FA': 0.002383959319982434,\n",
       "       'GA': 0.005227981256911001,\n",
       "       'Start': 0.5773729867736861,\n",
       "       'Stub': 0.3491618115150361}}}},\n",
       "   '797002885': {'wp10': {'score': {'prediction': 'B',\n",
       "      'probability': {'B': 0.34673748392214315,\n",
       "       'C': 0.26999566678835446,\n",
       "       'FA': 0.013619273590555342,\n",
       "       'GA': 0.29879086546316425,\n",
       "       'Start': 0.0679041695652473,\n",
       "       'Stub': 0.0029525406705353963}}}},\n",
       "   '797048177': {'wp10': {'score': {'prediction': 'C',\n",
       "      'probability': {'B': 0.18443997958594915,\n",
       "       'C': 0.7272873797941393,\n",
       "       'FA': 0.006652930315532498,\n",
       "       'GA': 0.014710984552622413,\n",
       "       'Start': 0.06471747690755834,\n",
       "       'Stub': 0.0021912488441985316}}}},\n",
       "   '797072546': {'wp10': {'score': {'prediction': 'Start',\n",
       "      'probability': {'B': 0.06363059586901933,\n",
       "       'C': 0.14128995795275529,\n",
       "       'FA': 0.002931772527529429,\n",
       "       'GA': 0.004782118078028323,\n",
       "       'Start': 0.7701431650822196,\n",
       "       'Stub': 0.017222390490447863}}}},\n",
       "   '797074740': {'wp10': {'score': {'prediction': 'GA',\n",
       "      'probability': {'B': 0.2662300332105938,\n",
       "       'C': 0.295224057859496,\n",
       "       'FA': 0.06539250780475903,\n",
       "       'GA': 0.35778378173469544,\n",
       "       'Start': 0.012472574423974486,\n",
       "       'Stub': 0.0028970449664810338}}}},\n",
       "   '797089185': {'wp10': {'score': {'prediction': 'C',\n",
       "      'probability': {'B': 0.10736422519604509,\n",
       "       'C': 0.8151721707009649,\n",
       "       'FA': 0.00591775741105477,\n",
       "       'GA': 0.013373527368525094,\n",
       "       'Start': 0.05629716389173037,\n",
       "       'Stub': 0.00187515543167984}}}},\n",
       "   '797153892': {'wp10': {'score': {'prediction': 'Stub',\n",
       "      'probability': {'B': 0.018006195003392882,\n",
       "       'C': 0.035088727871736766,\n",
       "       'FA': 0.0021703418291384733,\n",
       "       'GA': 0.005490498641378201,\n",
       "       'Start': 0.3296959338374324,\n",
       "       'Stub': 0.6095483028169211}}}},\n",
       "   '797155187': {'wp10': {'score': {'prediction': 'GA',\n",
       "      'probability': {'B': 0.16077544381097525,\n",
       "       'C': 0.11893057479093688,\n",
       "       'FA': 0.18128896282150525,\n",
       "       'GA': 0.5229123748089047,\n",
       "       'Start': 0.013696540921263498,\n",
       "       'Stub': 0.002396102846414245}}}},\n",
       "   '797156968': {'wp10': {'score': {'prediction': 'Stub',\n",
       "      'probability': {'B': 0.007696013665213613,\n",
       "       'C': 0.010188952974489426,\n",
       "       'FA': 0.00102781945575675,\n",
       "       'GA': 0.002859207786706302,\n",
       "       'Start': 0.07021811360947856,\n",
       "       'Stub': 0.9080098925083553}}}},\n",
       "   '797157277': {'wp10': {'score': {'prediction': 'Stub',\n",
       "      'probability': {'B': 0.007144001183730681,\n",
       "       'C': 0.009892086302432757,\n",
       "       'FA': 0.0009805185166900058,\n",
       "       'GA': 0.0021622364917374165,\n",
       "       'Start': 0.06807128462564789,\n",
       "       'Stub': 0.9117498728797613}}}},\n",
       "   '797469371': {'wp10': {'score': {'prediction': 'GA',\n",
       "      'probability': {'B': 0.2268992768209362,\n",
       "       'C': 0.28687285891224934,\n",
       "       'FA': 0.026747557677269784,\n",
       "       'GA': 0.4383600708507178,\n",
       "       'Start': 0.018552043857823577,\n",
       "       'Stub': 0.002568191881003295}}}},\n",
       "   '797673897': {'wp10': {'score': {'prediction': 'Start',\n",
       "      'probability': {'B': 0.10348386880758575,\n",
       "       'C': 0.3350857835046068,\n",
       "       'FA': 0.004936551483459082,\n",
       "       'GA': 0.02289403230017518,\n",
       "       'Start': 0.5121447612829432,\n",
       "       'Stub': 0.02145500262123}}}},\n",
       "   '797728695': {'wp10': {'score': {'prediction': 'Start',\n",
       "      'probability': {'B': 0.056260885622490125,\n",
       "       'C': 0.04566062251180417,\n",
       "       'FA': 0.00353850926786102,\n",
       "       'GA': 0.011035144733830314,\n",
       "       'Start': 0.4503520563127212,\n",
       "       'Stub': 0.433152781551293}}}},\n",
       "   '798059926': {'wp10': {'score': {'prediction': 'C',\n",
       "      'probability': {'B': 0.14016524339074346,\n",
       "       'C': 0.5845857141322119,\n",
       "       'FA': 0.004940451845347086,\n",
       "       'GA': 0.17578495679350647,\n",
       "       'Start': 0.09094902559561759,\n",
       "       'Stub': 0.0035746082425734773}}}},\n",
       "   '798644673': {'wp10': {'score': {'prediction': 'Stub',\n",
       "      'probability': {'B': 0.006026123678198464,\n",
       "       'C': 0.006399724408744964,\n",
       "       'FA': 0.000836616661304519,\n",
       "       'GA': 0.001442319776226022,\n",
       "       'Start': 0.040387564418622214,\n",
       "       'Stub': 0.9449076510569039}}}},\n",
       "   '798873145': {'wp10': {'score': {'prediction': 'Stub',\n",
       "      'probability': {'B': 0.007374948691257069,\n",
       "       'C': 0.014541805955576166,\n",
       "       'FA': 0.001217071942221798,\n",
       "       'GA': 0.0030036739607508505,\n",
       "       'Start': 0.07791992836633131,\n",
       "       'Stub': 0.895942571083863}}}},\n",
       "   '799046878': {'wp10': {'score': {'prediction': 'Stub',\n",
       "      'probability': {'B': 0.007181520405341843,\n",
       "       'C': 0.007217245025058096,\n",
       "       'FA': 0.0011469718639608739,\n",
       "       'GA': 0.0016306720533200091,\n",
       "       'Start': 0.025768704258127866,\n",
       "       'Stub': 0.9570548863941915}}}},\n",
       "   '799618550': {'wp10': {'score': {'prediction': 'Start',\n",
       "      'probability': {'B': 0.019799456073066286,\n",
       "       'C': 0.17218247709823392,\n",
       "       'FA': 0.002679553165782313,\n",
       "       'GA': 0.0056842882831369245,\n",
       "       'Start': 0.651080443413521,\n",
       "       'Stub': 0.14857378196625967}}}},\n",
       "   '799980094': {'wp10': {'score': {'prediction': 'C',\n",
       "      'probability': {'B': 0.14522256870032976,\n",
       "       'C': 0.5211251855139221,\n",
       "       'FA': 0.004094264971899324,\n",
       "       'GA': 0.018009318768010575,\n",
       "       'Start': 0.3050789039391441,\n",
       "       'Stub': 0.006469758106694281}}}},\n",
       "   '800053449': {'wp10': {'score': {'prediction': 'C',\n",
       "      'probability': {'B': 0.08152941414107129,\n",
       "       'C': 0.5938859086782021,\n",
       "       'FA': 0.0028291535603968405,\n",
       "       'GA': 0.006766339366830598,\n",
       "       'Start': 0.3119753644236086,\n",
       "       'Stub': 0.0030138198298907256}}}},\n",
       "   '800128121': {'wp10': {'score': {'prediction': 'Start',\n",
       "      'probability': {'B': 0.12677192785623176,\n",
       "       'C': 0.2899373373857229,\n",
       "       'FA': 0.004478664310905511,\n",
       "       'GA': 0.02114233472613566,\n",
       "       'Start': 0.5411271640910108,\n",
       "       'Stub': 0.01654257162999312}}}},\n",
       "   '800175991': {'wp10': {'score': {'prediction': 'Start',\n",
       "      'probability': {'B': 0.026893279020347622,\n",
       "       'C': 0.08309177450087067,\n",
       "       'FA': 0.0022057075044362583,\n",
       "       'GA': 0.005164863505515889,\n",
       "       'Start': 0.8554196739927005,\n",
       "       'Stub': 0.02722470147612932}}}},\n",
       "   '800408372': {'wp10': {'score': {'prediction': 'C',\n",
       "      'probability': {'B': 0.1339353385815744,\n",
       "       'C': 0.8078854830044485,\n",
       "       'FA': 0.011461640383937344,\n",
       "       'GA': 0.024810856658738775,\n",
       "       'Start': 0.020632064380639848,\n",
       "       'Stub': 0.0012746169906610175}}}},\n",
       "   '801436815': {'wp10': {'score': {'prediction': 'Start',\n",
       "      'probability': {'B': 0.014749461980457151,\n",
       "       'C': 0.06624841403169675,\n",
       "       'FA': 0.0019434167330225315,\n",
       "       'GA': 0.0037532710749484098,\n",
       "       'Start': 0.7076216956212525,\n",
       "       'Stub': 0.20568374055862262}}}},\n",
       "   '802029007': {'wp10': {'score': {'prediction': 'Start',\n",
       "      'probability': {'B': 0.04486798717300794,\n",
       "       'C': 0.13978756437278553,\n",
       "       'FA': 0.0028684324664565992,\n",
       "       'GA': 0.0063040593820696865,\n",
       "       'Start': 0.7916413795933218,\n",
       "       'Stub': 0.014530577012358324}}}},\n",
       "   '802280148': {'wp10': {'score': {'prediction': 'Stub',\n",
       "      'probability': {'B': 0.004913497585809954,\n",
       "       'C': 0.006921566991754778,\n",
       "       'FA': 0.0008173079856303112,\n",
       "       'GA': 0.002013572605782499,\n",
       "       'Start': 0.025586206088781472,\n",
       "       'Stub': 0.9597478487422407}}}},\n",
       "   '802286319': {'wp10': {'score': {'prediction': 'Start',\n",
       "      'probability': {'B': 0.04975227507022988,\n",
       "       'C': 0.2222748686071558,\n",
       "       'FA': 0.0035120063628820163,\n",
       "       'GA': 0.012190668070354715,\n",
       "       'Start': 0.6641429042540002,\n",
       "       'Stub': 0.048127277635377136}}}},\n",
       "   '802320704': {'wp10': {'score': {'prediction': 'Start',\n",
       "      'probability': {'B': 0.0601243504400037,\n",
       "       'C': 0.14731537013339077,\n",
       "       'FA': 0.002669536638504934,\n",
       "       'GA': 0.007539431736794319,\n",
       "       'Start': 0.7621954996027759,\n",
       "       'Stub': 0.02015581144853034}}}},\n",
       "   '802320895': {'wp10': {'score': {'prediction': 'C',\n",
       "      'probability': {'B': 0.17017565294068807,\n",
       "       'C': 0.45840123767251045,\n",
       "       'FA': 0.0027333376467965796,\n",
       "       'GA': 0.007363734411664313,\n",
       "       'Start': 0.3585920718171018,\n",
       "       'Stub': 0.002733965511238864}}}},\n",
       "   '802550537': {'wp10': {'score': {'prediction': 'Start',\n",
       "      'probability': {'B': 0.060625020743896106,\n",
       "       'C': 0.09386492447835793,\n",
       "       'FA': 0.004416457443557508,\n",
       "       'GA': 0.014242016068041817,\n",
       "       'Start': 0.7839852288034197,\n",
       "       'Stub': 0.042866352462726874}}}},\n",
       "   '802551672': {'wp10': {'score': {'prediction': 'C',\n",
       "      'probability': {'B': 0.17804496652032606,\n",
       "       'C': 0.4950097267737061,\n",
       "       'FA': 0.010481758617897869,\n",
       "       'GA': 0.05901957893404478,\n",
       "       'Start': 0.25371601149510725,\n",
       "       'Stub': 0.0037279576589180907}}}},\n",
       "   '802697878': {'wp10': {'score': {'prediction': 'B',\n",
       "      'probability': {'B': 0.3062717729003772,\n",
       "       'C': 0.24672780545533934,\n",
       "       'FA': 0.23392809517779573,\n",
       "       'GA': 0.19649355189521728,\n",
       "       'Start': 0.014669285292826507,\n",
       "       'Stub': 0.001909489278444137}}}},\n",
       "   '802860970': {'wp10': {'score': {'prediction': 'Start',\n",
       "      'probability': {'B': 0.02558165138396921,\n",
       "       'C': 0.04039765792427712,\n",
       "       'FA': 0.0022545678420246825,\n",
       "       'GA': 0.010449711271859131,\n",
       "       'Start': 0.7544192760613261,\n",
       "       'Stub': 0.16689713551654367}}}},\n",
       "   '803018106': {'wp10': {'score': {'prediction': 'Stub',\n",
       "      'probability': {'B': 0.005560785544789277,\n",
       "       'C': 0.008681359137228145,\n",
       "       'FA': 0.0009109575977261136,\n",
       "       'GA': 0.0018984130626564578,\n",
       "       'Start': 0.06362682238377228,\n",
       "       'Stub': 0.9193216622738275}}}},\n",
       "   '803055503': {'wp10': {'score': {'prediction': 'GA',\n",
       "      'probability': {'B': 0.16897311403187978,\n",
       "       'C': 0.259038440077987,\n",
       "       'FA': 0.01017127453793035,\n",
       "       'GA': 0.5419463836514296,\n",
       "       'Start': 0.01836768594668512,\n",
       "       'Stub': 0.0015031017540882302}}}},\n",
       "   '803705974': {'wp10': {'score': {'prediction': 'B',\n",
       "      'probability': {'B': 0.458307513227685,\n",
       "       'C': 0.18643585917293792,\n",
       "       'FA': 0.05137225265847789,\n",
       "       'GA': 0.2886238415699495,\n",
       "       'Start': 0.013105736608103645,\n",
       "       'Stub': 0.0021547967628458894}}}},\n",
       "   '803706243': {'wp10': {'score': {'prediction': 'Stub',\n",
       "      'probability': {'B': 0.014208895113503383,\n",
       "       'C': 0.05297710995738172,\n",
       "       'FA': 0.0016215694905112438,\n",
       "       'GA': 0.003811242482989454,\n",
       "       'Start': 0.17792659502658678,\n",
       "       'Stub': 0.7494545879290274}}}},\n",
       "   '803762075': {'wp10': {'score': {'prediction': 'C',\n",
       "      'probability': {'B': 0.2479426957548241,\n",
       "       'C': 0.4779872741800518,\n",
       "       'FA': 0.0129519143838395,\n",
       "       'GA': 0.03959457626057647,\n",
       "       'Start': 0.21545875438603687,\n",
       "       'Stub': 0.006064785034671173}}}},\n",
       "   '803775914': {'wp10': {'score': {'prediction': 'C',\n",
       "      'probability': {'B': 0.45590423819119646,\n",
       "       'C': 0.5129916812493274,\n",
       "       'FA': 0.00680334762392745,\n",
       "       'GA': 0.01640550039810812,\n",
       "       'Start': 0.00708118354848369,\n",
       "       'Stub': 0.0008140489889569359}}}},\n",
       "   '803792380': {'wp10': {'score': {'prediction': 'C',\n",
       "      'probability': {'B': 0.1863169039505406,\n",
       "       'C': 0.581952682021669,\n",
       "       'FA': 0.061218742498024004,\n",
       "       'GA': 0.14915150287911702,\n",
       "       'Start': 0.019007080007159092,\n",
       "       'Stub': 0.0023530886434901454}}}},\n",
       "   '803811852': {'wp10': {'score': {'prediction': 'GA',\n",
       "      'probability': {'B': 0.28698575638276375,\n",
       "       'C': 0.1893006901738459,\n",
       "       'FA': 0.18856712884428717,\n",
       "       'GA': 0.32320000198357574,\n",
       "       'Start': 0.009865501927434177,\n",
       "       'Stub': 0.002080920688093386}}}},\n",
       "   '803841397': {'wp10': {'score': {'prediction': 'C',\n",
       "      'probability': {'B': 0.1265128338460164,\n",
       "       'C': 0.466677586014158,\n",
       "       'FA': 0.005082317062613911,\n",
       "       'GA': 0.023992768391783027,\n",
       "       'Start': 0.3617315459225463,\n",
       "       'Stub': 0.016002948762882458}}}},\n",
       "   '803983131': {'wp10': {'score': {'prediction': 'GA',\n",
       "      'probability': {'B': 0.26364968474961953,\n",
       "       'C': 0.14889642097451275,\n",
       "       'FA': 0.256119401364534,\n",
       "       'GA': 0.31707284852402345,\n",
       "       'Start': 0.012499199340548819,\n",
       "       'Stub': 0.001762445046761441}}}},\n",
       "   '804299877': {'wp10': {'score': {'prediction': 'GA',\n",
       "      'probability': {'B': 0.12626704911107547,\n",
       "       'C': 0.14158767842712747,\n",
       "       'FA': 0.288711403905163,\n",
       "       'GA': 0.4082055838138254,\n",
       "       'Start': 0.03070691736628025,\n",
       "       'Stub': 0.004521367376528236}}}},\n",
       "   '804349394': {'wp10': {'score': {'prediction': 'Start',\n",
       "      'probability': {'B': 0.05991219960122166,\n",
       "       'C': 0.17947528505281388,\n",
       "       'FA': 0.0044767678521823616,\n",
       "       'GA': 0.047624309544830726,\n",
       "       'Start': 0.662402618457737,\n",
       "       'Stub': 0.04610881949121449}}}},\n",
       "   '804938633': {'wp10': {'score': {'prediction': 'C',\n",
       "      'probability': {'B': 0.1414807682874495,\n",
       "       'C': 0.7955474669764818,\n",
       "       'FA': 0.016525432097283535,\n",
       "       'GA': 0.033039078879720137,\n",
       "       'Start': 0.012093363091046071,\n",
       "       'Stub': 0.0013138906680185633}}}},\n",
       "   '805063877': {'wp10': {'score': {'prediction': 'Stub',\n",
       "      'probability': {'B': 0.007876007462043963,\n",
       "       'C': 0.011133224052929918,\n",
       "       'FA': 0.0012157580330957867,\n",
       "       'GA': 0.0027564059048268575,\n",
       "       'Start': 0.052619383973001775,\n",
       "       'Stub': 0.9243992205741016}}}},\n",
       "   '805772298': {'wp10': {'score': {'prediction': 'GA',\n",
       "      'probability': {'B': 0.11940434477769911,\n",
       "       'C': 0.11909305362529349,\n",
       "       'FA': 0.2416041283848591,\n",
       "       'GA': 0.5073307285042288,\n",
       "       'Start': 0.010389798259577983,\n",
       "       'Stub': 0.002177946448341624}}}},\n",
       "   '805775169': {'wp10': {'score': {'prediction': 'Start',\n",
       "      'probability': {'B': 0.05049766900209879,\n",
       "       'C': 0.12329713718688096,\n",
       "       'FA': 0.003235367931432042,\n",
       "       'GA': 0.004870197426292483,\n",
       "       'Start': 0.8020940288738824,\n",
       "       'Stub': 0.016005599579413436}}}},\n",
       "   '805821343': {'wp10': {'score': {'prediction': 'GA',\n",
       "      'probability': {'B': 0.186115367782967,\n",
       "       'C': 0.10776318362367315,\n",
       "       'FA': 0.1189920956872229,\n",
       "       'GA': 0.5714537753314649,\n",
       "       'Start': 0.012944493852678447,\n",
       "       'Stub': 0.0027310837219936203}}}},\n",
       "   '805920528': {'wp10': {'score': {'prediction': 'GA',\n",
       "      'probability': {'B': 0.04309406362813584,\n",
       "       'C': 0.03250432933432678,\n",
       "       'FA': 0.3128520777225997,\n",
       "       'GA': 0.6041499838553698,\n",
       "       'Start': 0.005998917072506066,\n",
       "       'Stub': 0.0014006283870616927}}}},\n",
       "   '805922525': {'wp10': {'score': {'prediction': 'Start',\n",
       "      'probability': {'B': 0.02682483414802032,\n",
       "       'C': 0.07925466988619773,\n",
       "       'FA': 0.0029905561888850193,\n",
       "       'GA': 0.006045376015000295,\n",
       "       'Start': 0.5693623735345362,\n",
       "       'Stub': 0.3155221902273603}}}},\n",
       "   '805924089': {'wp10': {'score': {'prediction': 'GA',\n",
       "      'probability': {'B': 0.1383127700674485,\n",
       "       'C': 0.29094027063697986,\n",
       "       'FA': 0.17957854398614598,\n",
       "       'GA': 0.37638716463205524,\n",
       "       'Start': 0.012800482837257146,\n",
       "       'Stub': 0.0019807678401131948}}}},\n",
       "   '805957551': {'wp10': {'score': {'prediction': 'C',\n",
       "      'probability': {'B': 0.20093769731509364,\n",
       "       'C': 0.47570045590941284,\n",
       "       'FA': 0.005459991920754603,\n",
       "       'GA': 0.03861596754946951,\n",
       "       'Start': 0.2689519319653971,\n",
       "       'Stub': 0.010333955339872412}}}},\n",
       "   '805967589': {'wp10': {'score': {'prediction': 'B',\n",
       "      'probability': {'B': 0.39512422514542517,\n",
       "       'C': 0.23471185088122312,\n",
       "       'FA': 0.05916750662236734,\n",
       "       'GA': 0.28775213070167865,\n",
       "       'Start': 0.020713337951403326,\n",
       "       'Stub': 0.0025309486979023113}}}},\n",
       "   '806029147': {'wp10': {'score': {'prediction': 'GA',\n",
       "      'probability': {'B': 0.2003508747563458,\n",
       "       'C': 0.11191710708113166,\n",
       "       'FA': 0.27785451677279066,\n",
       "       'GA': 0.3953208051879537,\n",
       "       'Start': 0.012738096423411904,\n",
       "       'Stub': 0.00181859977836615}}}},\n",
       "   '806216425': {'wp10': {'score': {'prediction': 'GA',\n",
       "      'probability': {'B': 0.17510525576012942,\n",
       "       'C': 0.2201155741056704,\n",
       "       'FA': 0.2339557195985582,\n",
       "       'GA': 0.313110787336302,\n",
       "       'Start': 0.05060207074319232,\n",
       "       'Stub': 0.007110592456147788}}}},\n",
       "   '806245882': {'wp10': {'score': {'prediction': 'GA',\n",
       "      'probability': {'B': 0.19756260968067582,\n",
       "       'C': 0.31075616808124873,\n",
       "       'FA': 0.046314920468684774,\n",
       "       'GA': 0.4278581832672072,\n",
       "       'Start': 0.015425924457850362,\n",
       "       'Stub': 0.0020821940443331503}}}},\n",
       "   '806291544': {'wp10': {'score': {'prediction': 'C',\n",
       "      'probability': {'B': 0.1489882879105487,\n",
       "       'C': 0.8138635226005676,\n",
       "       'FA': 0.013031010667366052,\n",
       "       'GA': 0.011056882772002412,\n",
       "       'Start': 0.01214913075725404,\n",
       "       'Stub': 0.0009111652922611403}}}}}}}"
      ]
     },
     "execution_count": 263,
     "metadata": {},
     "output_type": "execute_result"
    }
   ],
   "source": [
    "%time foo = get_multiple_full_ores_score_json(d_wikipedia['last_edit'][:140].values)\n",
    "foo"
   ]
  },
  {
   "cell_type": "code",
   "execution_count": 264,
   "metadata": {},
   "outputs": [
    {
     "data": {
      "text/plain": [
       "140"
      ]
     },
     "execution_count": 264,
     "metadata": {},
     "output_type": "execute_result"
    }
   ],
   "source": [
    "len(foo['enwiki']['scores'])"
   ]
  },
  {
   "cell_type": "code",
   "execution_count": 265,
   "metadata": {},
   "outputs": [
    {
     "name": "stdout",
     "output_type": "stream",
     "text": [
      "140\n"
     ]
    },
    {
     "data": {
      "text/plain": [
       "['Start',\n",
       " 'Start',\n",
       " 'Stub',\n",
       " 'Stub',\n",
       " 'Stub',\n",
       " 'Stub',\n",
       " 'Stub',\n",
       " 'Stub',\n",
       " 'Stub',\n",
       " 'Start',\n",
       " 'Stub',\n",
       " 'Stub',\n",
       " 'Stub',\n",
       " 'Stub',\n",
       " 'Stub',\n",
       " 'Stub',\n",
       " 'Start',\n",
       " 'Stub',\n",
       " 'Start',\n",
       " 'Start',\n",
       " 'Stub',\n",
       " 'C',\n",
       " 'Start',\n",
       " 'Stub',\n",
       " 'Stub',\n",
       " 'Start',\n",
       " 'Stub',\n",
       " 'Stub',\n",
       " 'C',\n",
       " 'Stub',\n",
       " 'Start',\n",
       " 'Stub',\n",
       " 'Stub',\n",
       " 'Stub',\n",
       " 'Start',\n",
       " 'Start',\n",
       " 'Start',\n",
       " 'Start',\n",
       " 'Start',\n",
       " 'Start',\n",
       " 'C',\n",
       " 'Start',\n",
       " 'C',\n",
       " 'Start',\n",
       " 'Start',\n",
       " 'Stub',\n",
       " 'Start',\n",
       " 'Start',\n",
       " 'Start',\n",
       " 'Start',\n",
       " 'Start',\n",
       " 'C',\n",
       " 'Stub',\n",
       " 'GA',\n",
       " 'C',\n",
       " 'Stub',\n",
       " 'Stub',\n",
       " 'C',\n",
       " 'Start',\n",
       " 'Start',\n",
       " 'Start',\n",
       " 'Start',\n",
       " 'C',\n",
       " 'Stub',\n",
       " 'C',\n",
       " 'Stub',\n",
       " 'GA',\n",
       " 'C',\n",
       " 'C',\n",
       " 'Stub',\n",
       " 'Start',\n",
       " 'Start',\n",
       " 'Stub',\n",
       " 'C',\n",
       " 'Start',\n",
       " 'C',\n",
       " 'C',\n",
       " 'GA',\n",
       " 'Stub',\n",
       " 'C',\n",
       " 'C',\n",
       " 'Start',\n",
       " 'B',\n",
       " 'C',\n",
       " 'Start',\n",
       " 'GA',\n",
       " 'C',\n",
       " 'Stub',\n",
       " 'GA',\n",
       " 'Stub',\n",
       " 'Stub',\n",
       " 'GA',\n",
       " 'Start',\n",
       " 'Start',\n",
       " 'C',\n",
       " 'Stub',\n",
       " 'Stub',\n",
       " 'Stub',\n",
       " 'Start',\n",
       " 'C',\n",
       " 'C',\n",
       " 'Start',\n",
       " 'Start',\n",
       " 'C',\n",
       " 'Start',\n",
       " 'Start',\n",
       " 'Stub',\n",
       " 'Start',\n",
       " 'Start',\n",
       " 'C',\n",
       " 'Start',\n",
       " 'C',\n",
       " 'B',\n",
       " 'Start',\n",
       " 'Stub',\n",
       " 'GA',\n",
       " 'B',\n",
       " 'Stub',\n",
       " 'C',\n",
       " 'C',\n",
       " 'C',\n",
       " 'GA',\n",
       " 'C',\n",
       " 'GA',\n",
       " 'GA',\n",
       " 'Start',\n",
       " 'C',\n",
       " 'Stub',\n",
       " 'GA',\n",
       " 'Start',\n",
       " 'GA',\n",
       " 'GA',\n",
       " 'Start',\n",
       " 'GA',\n",
       " 'C',\n",
       " 'B',\n",
       " 'GA',\n",
       " 'GA',\n",
       " 'GA',\n",
       " 'C']"
      ]
     },
     "execution_count": 265,
     "metadata": {},
     "output_type": "execute_result"
    }
   ],
   "source": [
    "bar = [get_ores_prediction_from_score_json(foo, i) for i in range(len(foo['enwiki']['scores']))]\n",
    "print(len(bar))\n",
    "bar"
   ]
  },
  {
   "cell_type": "code",
   "execution_count": 268,
   "metadata": {},
   "outputs": [],
   "source": [
    "import csv\n",
    "with open('article_scores.csv', 'w') as output_file:\n",
    "    writer = csv.writer(output_file, delimiter=',')\n",
    "    \n",
    "    rev_ids = d_wikipedia['last_edit'][:140].values\n",
    "    scores_json = get_multiple_full_ores_score_json(rev_ids)\n",
    "    for (rev_id, index) in zip(rev_ids, range(len(rev_ids))):\n",
    "        writer.writerow([rev_id, get_ores_prediction_from_score_json(scores_json, index)])\n"
   ]
  },
  {
   "cell_type": "code",
   "execution_count": 269,
   "metadata": {},
   "outputs": [
    {
     "data": {
      "text/plain": [
       "47997"
      ]
     },
     "execution_count": 269,
     "metadata": {},
     "output_type": "execute_result"
    }
   ],
   "source": [
    "len(d_wikipedia['last_edit'])"
   ]
  },
  {
   "cell_type": "code",
   "execution_count": 278,
   "metadata": {
    "collapsed": true
   },
   "outputs": [],
   "source": [
    "def chunker(seq, size):\n",
    "    \"\"\"Get a generator that returns chunks of size 'size' of the sequence in 'seq'.\n",
    "    \n",
    "    From: https://stackoverflow.com/questions/434287/what-is-the-most-pythonic-way-to-iterate-over-a-list-in-chunks\n",
    "    \"\"\"\n",
    "    return (seq[pos:pos + size] for pos in range(0, len(seq), size))"
   ]
  },
  {
   "cell_type": "code",
   "execution_count": 285,
   "metadata": {},
   "outputs": [
    {
     "name": "stdout",
     "output_type": "stream",
     "text": [
      "343\n"
     ]
    }
   ],
   "source": [
    "seqs = [x for x in chunker(range(1,len(d_wikipedia['last_edit'])), 140)]\n",
    "print(len(seqs))"
   ]
  },
  {
   "cell_type": "code",
   "execution_count": 291,
   "metadata": {},
   "outputs": [
    {
     "data": {
      "text/plain": [
       "[421,\n",
       " 422,\n",
       " 423,\n",
       " 424,\n",
       " 425,\n",
       " 426,\n",
       " 427,\n",
       " 428,\n",
       " 429,\n",
       " 430,\n",
       " 431,\n",
       " 432,\n",
       " 433,\n",
       " 434,\n",
       " 435,\n",
       " 436,\n",
       " 437,\n",
       " 438,\n",
       " 439,\n",
       " 440,\n",
       " 441,\n",
       " 442,\n",
       " 443,\n",
       " 444,\n",
       " 445,\n",
       " 446,\n",
       " 447,\n",
       " 448,\n",
       " 449,\n",
       " 450,\n",
       " 451,\n",
       " 452,\n",
       " 453,\n",
       " 454,\n",
       " 455,\n",
       " 456,\n",
       " 457,\n",
       " 458,\n",
       " 459,\n",
       " 460,\n",
       " 461,\n",
       " 462,\n",
       " 463,\n",
       " 464,\n",
       " 465,\n",
       " 466,\n",
       " 467,\n",
       " 468,\n",
       " 469,\n",
       " 470,\n",
       " 471,\n",
       " 472,\n",
       " 473,\n",
       " 474,\n",
       " 475,\n",
       " 476,\n",
       " 477,\n",
       " 478,\n",
       " 479,\n",
       " 480,\n",
       " 481,\n",
       " 482,\n",
       " 483,\n",
       " 484,\n",
       " 485,\n",
       " 486,\n",
       " 487,\n",
       " 488,\n",
       " 489,\n",
       " 490,\n",
       " 491,\n",
       " 492,\n",
       " 493,\n",
       " 494,\n",
       " 495,\n",
       " 496,\n",
       " 497,\n",
       " 498,\n",
       " 499,\n",
       " 500,\n",
       " 501,\n",
       " 502,\n",
       " 503,\n",
       " 504,\n",
       " 505,\n",
       " 506,\n",
       " 507,\n",
       " 508,\n",
       " 509,\n",
       " 510,\n",
       " 511,\n",
       " 512,\n",
       " 513,\n",
       " 514,\n",
       " 515,\n",
       " 516,\n",
       " 517,\n",
       " 518,\n",
       " 519,\n",
       " 520,\n",
       " 521,\n",
       " 522,\n",
       " 523,\n",
       " 524,\n",
       " 525,\n",
       " 526,\n",
       " 527,\n",
       " 528,\n",
       " 529,\n",
       " 530,\n",
       " 531,\n",
       " 532,\n",
       " 533,\n",
       " 534,\n",
       " 535,\n",
       " 536,\n",
       " 537,\n",
       " 538,\n",
       " 539,\n",
       " 540,\n",
       " 541,\n",
       " 542,\n",
       " 543,\n",
       " 544,\n",
       " 545,\n",
       " 546,\n",
       " 547,\n",
       " 548,\n",
       " 549,\n",
       " 550,\n",
       " 551,\n",
       " 552,\n",
       " 553,\n",
       " 554,\n",
       " 555,\n",
       " 556,\n",
       " 557,\n",
       " 558,\n",
       " 559,\n",
       " 560]"
      ]
     },
     "execution_count": 291,
     "metadata": {},
     "output_type": "execute_result"
    }
   ],
   "source": [
    "list(seqs[3])"
   ]
  },
  {
   "cell_type": "code",
   "execution_count": 290,
   "metadata": {},
   "outputs": [
    {
     "data": {
      "text/plain": [
       "array([791693230, 786975664, 786628383, 789270814, 779725350, 801084884,\n",
       "       790720159, 788182293, 790720559, 790720433, 788250379, 798610427,\n",
       "       802444424, 797116789, 799304187, 799467293, 799450784, 786199183,\n",
       "       790719984, 788182602, 802437823, 799695433, 745805099, 790208674,\n",
       "       788889966, 789270784, 788890514, 802437830, 788182587, 797855253,\n",
       "       796896129, 788180240, 778418380, 802442569, 802437953, 802438008,\n",
       "       802437918, 796600327, 791415808, 795321320, 802438004, 782099774,\n",
       "       789270614, 803812055, 751432945, 789270021, 802444443, 789270004,\n",
       "       801554031, 788181008, 802437935, 802444467, 764898690, 796371886,\n",
       "       789269944, 747064542, 802437981, 749473060, 789270096, 789270087,\n",
       "       790720862, 798292485, 789270464, 802438011, 791694358, 790721337,\n",
       "       751070415, 802438016, 802438013, 788910415, 747887240, 789270517,\n",
       "       749828657, 802444462, 750648438, 789270025, 789269991, 802437920,\n",
       "       788182594, 789451460, 750544980, 752913381, 795293112, 798610685,\n",
       "       798610693, 783769131, 802442709, 789948931, 802740752, 757354231,\n",
       "       723561468, 805873702, 789270602, 769689871, 789270185, 774573300,\n",
       "       770035856, 763731518, 692123101, 789270161, 798552371, 805298454,\n",
       "       750637295, 756676475, 789270579, 789270148, 798617596, 782089225,\n",
       "       805535874, 789270480, 803818094, 798610664, 804736157, 785021038,\n",
       "       790107288, 788819297, 766524458, 805810754, 790240137, 756676581,\n",
       "       789270455, 789270521, 761708375, 789270450, 803420950, 800150501,\n",
       "       801939407, 758633802, 789818165, 756676145, 789610969, 790016758,\n",
       "       756676226, 770033843, 756676244, 786498223, 756676271, 805176809,\n",
       "       804882538, 794083377])"
      ]
     },
     "execution_count": 290,
     "metadata": {},
     "output_type": "execute_result"
    }
   ],
   "source": [
    "d_wikipedia['last_edit'][421:561].values"
   ]
  },
  {
   "cell_type": "code",
   "execution_count": 289,
   "metadata": {},
   "outputs": [
    {
     "ename": "KeyError",
     "evalue": "range(421, 561)",
     "output_type": "error",
     "traceback": [
      "\u001b[0;31m---------------------------------------------------------------------------\u001b[0m",
      "\u001b[0;31mTypeError\u001b[0m                                 Traceback (most recent call last)",
      "\u001b[0;32mpandas/_libs/index.pyx\u001b[0m in \u001b[0;36mpandas._libs.index.IndexEngine.get_loc (pandas/_libs/index.c:5126)\u001b[0;34m()\u001b[0m\n",
      "\u001b[0;32mpandas/_libs/hashtable_class_helper.pxi\u001b[0m in \u001b[0;36mpandas._libs.hashtable.Int64HashTable.get_item (pandas/_libs/hashtable.c:14010)\u001b[0;34m()\u001b[0m\n",
      "\u001b[0;31mTypeError\u001b[0m: an integer is required",
      "\nDuring handling of the above exception, another exception occurred:\n",
      "\u001b[0;31mKeyError\u001b[0m                                  Traceback (most recent call last)",
      "\u001b[0;32m<ipython-input-289-d2ff465442db>\u001b[0m in \u001b[0;36m<module>\u001b[0;34m()\u001b[0m\n\u001b[0;32m----> 1\u001b[0;31m \u001b[0md_wikipedia\u001b[0m\u001b[0;34m[\u001b[0m\u001b[0;34m'last_edit'\u001b[0m\u001b[0;34m]\u001b[0m\u001b[0;34m[\u001b[0m\u001b[0mseqs\u001b[0m\u001b[0;34m[\u001b[0m\u001b[0;36m3\u001b[0m\u001b[0;34m]\u001b[0m\u001b[0;34m]\u001b[0m\u001b[0;34m.\u001b[0m\u001b[0mvalues\u001b[0m\u001b[0;34m\u001b[0m\u001b[0m\n\u001b[0m",
      "\u001b[0;32m~/miniconda3/envs/anaconda/lib/python3.6/site-packages/pandas/core/series.py\u001b[0m in \u001b[0;36m__getitem__\u001b[0;34m(self, key)\u001b[0m\n\u001b[1;32m    599\u001b[0m         \u001b[0mkey\u001b[0m \u001b[0;34m=\u001b[0m \u001b[0mcom\u001b[0m\u001b[0;34m.\u001b[0m\u001b[0m_apply_if_callable\u001b[0m\u001b[0;34m(\u001b[0m\u001b[0mkey\u001b[0m\u001b[0;34m,\u001b[0m \u001b[0mself\u001b[0m\u001b[0;34m)\u001b[0m\u001b[0;34m\u001b[0m\u001b[0m\n\u001b[1;32m    600\u001b[0m         \u001b[0;32mtry\u001b[0m\u001b[0;34m:\u001b[0m\u001b[0;34m\u001b[0m\u001b[0m\n\u001b[0;32m--> 601\u001b[0;31m             \u001b[0mresult\u001b[0m \u001b[0;34m=\u001b[0m \u001b[0mself\u001b[0m\u001b[0;34m.\u001b[0m\u001b[0mindex\u001b[0m\u001b[0;34m.\u001b[0m\u001b[0mget_value\u001b[0m\u001b[0;34m(\u001b[0m\u001b[0mself\u001b[0m\u001b[0;34m,\u001b[0m \u001b[0mkey\u001b[0m\u001b[0;34m)\u001b[0m\u001b[0;34m\u001b[0m\u001b[0m\n\u001b[0m\u001b[1;32m    602\u001b[0m \u001b[0;34m\u001b[0m\u001b[0m\n\u001b[1;32m    603\u001b[0m             \u001b[0;32mif\u001b[0m \u001b[0;32mnot\u001b[0m \u001b[0mis_scalar\u001b[0m\u001b[0;34m(\u001b[0m\u001b[0mresult\u001b[0m\u001b[0;34m)\u001b[0m\u001b[0;34m:\u001b[0m\u001b[0;34m\u001b[0m\u001b[0m\n",
      "\u001b[0;32m~/miniconda3/envs/anaconda/lib/python3.6/site-packages/pandas/core/indexes/base.py\u001b[0m in \u001b[0;36mget_value\u001b[0;34m(self, series, key)\u001b[0m\n\u001b[1;32m   2475\u001b[0m         \u001b[0;32mtry\u001b[0m\u001b[0;34m:\u001b[0m\u001b[0;34m\u001b[0m\u001b[0m\n\u001b[1;32m   2476\u001b[0m             return self._engine.get_value(s, k,\n\u001b[0;32m-> 2477\u001b[0;31m                                           tz=getattr(series.dtype, 'tz', None))\n\u001b[0m\u001b[1;32m   2478\u001b[0m         \u001b[0;32mexcept\u001b[0m \u001b[0mKeyError\u001b[0m \u001b[0;32mas\u001b[0m \u001b[0me1\u001b[0m\u001b[0;34m:\u001b[0m\u001b[0;34m\u001b[0m\u001b[0m\n\u001b[1;32m   2479\u001b[0m             \u001b[0;32mif\u001b[0m \u001b[0mlen\u001b[0m\u001b[0;34m(\u001b[0m\u001b[0mself\u001b[0m\u001b[0;34m)\u001b[0m \u001b[0;34m>\u001b[0m \u001b[0;36m0\u001b[0m \u001b[0;32mand\u001b[0m \u001b[0mself\u001b[0m\u001b[0;34m.\u001b[0m\u001b[0minferred_type\u001b[0m \u001b[0;32min\u001b[0m \u001b[0;34m[\u001b[0m\u001b[0;34m'integer'\u001b[0m\u001b[0;34m,\u001b[0m \u001b[0;34m'boolean'\u001b[0m\u001b[0;34m]\u001b[0m\u001b[0;34m:\u001b[0m\u001b[0;34m\u001b[0m\u001b[0m\n",
      "\u001b[0;32mpandas/_libs/index.pyx\u001b[0m in \u001b[0;36mpandas._libs.index.IndexEngine.get_value (pandas/_libs/index.c:4404)\u001b[0;34m()\u001b[0m\n",
      "\u001b[0;32mpandas/_libs/index.pyx\u001b[0m in \u001b[0;36mpandas._libs.index.IndexEngine.get_value (pandas/_libs/index.c:4087)\u001b[0;34m()\u001b[0m\n",
      "\u001b[0;32mpandas/_libs/index.pyx\u001b[0m in \u001b[0;36mpandas._libs.index.IndexEngine.get_loc (pandas/_libs/index.c:5210)\u001b[0;34m()\u001b[0m\n",
      "\u001b[0;31mKeyError\u001b[0m: range(421, 561)"
     ]
    }
   ],
   "source": [
    "d_wikipedia['last_edit'][seqs[3]].values"
   ]
  },
  {
   "cell_type": "code",
   "execution_count": null,
   "metadata": {
    "collapsed": true
   },
   "outputs": [],
   "source": []
  },
  {
   "cell_type": "code",
   "execution_count": null,
   "metadata": {
    "collapsed": true
   },
   "outputs": [],
   "source": []
  },
  {
   "cell_type": "code",
   "execution_count": 272,
   "metadata": {},
   "outputs": [
    {
     "data": {
      "text/plain": [
       "range(31, 51)"
      ]
     },
     "execution_count": 272,
     "metadata": {},
     "output_type": "execute_result"
    }
   ],
   "source": [
    "range(1, 5000)[30:50]"
   ]
  },
  {
   "cell_type": "code",
   "execution_count": 229,
   "metadata": {},
   "outputs": [
    {
     "data": {
      "text/plain": [
       "'Stub'"
      ]
     },
     "execution_count": 229,
     "metadata": {},
     "output_type": "execute_result"
    }
   ],
   "source": [
    "get_ores_prediction_from_score_json(foo)"
   ]
  },
  {
   "cell_type": "code",
   "execution_count": 230,
   "metadata": {},
   "outputs": [
    {
     "data": {
      "text/plain": [
       "'C'"
      ]
     },
     "execution_count": 230,
     "metadata": {},
     "output_type": "execute_result"
    }
   ],
   "source": [
    "get_ores_prediction_from_score_json(foo, 1)"
   ]
  },
  {
   "cell_type": "code",
   "execution_count": 231,
   "metadata": {},
   "outputs": [
    {
     "ename": "IndexError",
     "evalue": "list index out of range",
     "output_type": "error",
     "traceback": [
      "\u001b[0;31m---------------------------------------------------------------------------\u001b[0m",
      "\u001b[0;31mIndexError\u001b[0m                                Traceback (most recent call last)",
      "\u001b[0;32m<ipython-input-231-a6b8242fc9ae>\u001b[0m in \u001b[0;36m<module>\u001b[0;34m()\u001b[0m\n\u001b[0;32m----> 1\u001b[0;31m \u001b[0mget_ores_prediction_from_score_json\u001b[0m\u001b[0;34m(\u001b[0m\u001b[0mfoo\u001b[0m\u001b[0;34m,\u001b[0m \u001b[0;36m2\u001b[0m\u001b[0;34m)\u001b[0m\u001b[0;34m\u001b[0m\u001b[0m\n\u001b[0m",
      "\u001b[0;32m<ipython-input-225-6bfad19ca3f0>\u001b[0m in \u001b[0;36mget_ores_prediction_from_score_json\u001b[0;34m(json, index)\u001b[0m\n\u001b[1;32m     35\u001b[0m \u001b[0;32mdef\u001b[0m \u001b[0mget_ores_prediction_from_score_json\u001b[0m\u001b[0;34m(\u001b[0m\u001b[0mjson\u001b[0m\u001b[0;34m,\u001b[0m \u001b[0mindex\u001b[0m\u001b[0;34m=\u001b[0m\u001b[0;36m0\u001b[0m\u001b[0;34m)\u001b[0m\u001b[0;34m:\u001b[0m\u001b[0;34m\u001b[0m\u001b[0m\n\u001b[1;32m     36\u001b[0m     \u001b[0;34m\"\"\"Return the most likely article type, per ORES. Assumes a JSON dict from Ores. \"\"\"\u001b[0m\u001b[0;34m\u001b[0m\u001b[0m\n\u001b[0;32m---> 37\u001b[0;31m     \u001b[0;32mreturn\u001b[0m \u001b[0mjson\u001b[0m\u001b[0;34m[\u001b[0m\u001b[0;34m'enwiki'\u001b[0m\u001b[0;34m]\u001b[0m\u001b[0;34m[\u001b[0m\u001b[0;34m'scores'\u001b[0m\u001b[0;34m]\u001b[0m\u001b[0;34m[\u001b[0m\u001b[0mlist\u001b[0m\u001b[0;34m(\u001b[0m\u001b[0mjson\u001b[0m\u001b[0;34m[\u001b[0m\u001b[0;34m'enwiki'\u001b[0m\u001b[0;34m]\u001b[0m\u001b[0;34m[\u001b[0m\u001b[0;34m'scores'\u001b[0m\u001b[0;34m]\u001b[0m\u001b[0;34m.\u001b[0m\u001b[0mkeys\u001b[0m\u001b[0;34m(\u001b[0m\u001b[0;34m)\u001b[0m\u001b[0;34m)\u001b[0m\u001b[0;34m[\u001b[0m\u001b[0mindex\u001b[0m\u001b[0;34m]\u001b[0m\u001b[0;34m]\u001b[0m\u001b[0;34m[\u001b[0m\u001b[0;34m'wp10'\u001b[0m\u001b[0;34m]\u001b[0m\u001b[0;34m[\u001b[0m\u001b[0;34m'score'\u001b[0m\u001b[0;34m]\u001b[0m\u001b[0;34m[\u001b[0m\u001b[0;34m'prediction'\u001b[0m\u001b[0;34m]\u001b[0m\u001b[0;34m\u001b[0m\u001b[0m\n\u001b[0m\u001b[1;32m     38\u001b[0m \u001b[0;34m\u001b[0m\u001b[0m\n\u001b[1;32m     39\u001b[0m \u001b[0;32mdef\u001b[0m \u001b[0mget_ores_prediction\u001b[0m\u001b[0;34m(\u001b[0m\u001b[0mrev_id\u001b[0m\u001b[0;34m)\u001b[0m\u001b[0;34m:\u001b[0m\u001b[0;34m\u001b[0m\u001b[0m\n",
      "\u001b[0;31mIndexError\u001b[0m: list index out of range"
     ]
    }
   ],
   "source": [
    "get_ores_prediction_from_score_json(foo, 2)"
   ]
  },
  {
   "cell_type": "code",
   "execution_count": null,
   "metadata": {
    "collapsed": true
   },
   "outputs": [],
   "source": []
  },
  {
   "cell_type": "code",
   "execution_count": null,
   "metadata": {
    "collapsed": true
   },
   "outputs": [],
   "source": []
  },
  {
   "cell_type": "code",
   "execution_count": 211,
   "metadata": {},
   "outputs": [
    {
     "data": {
      "text/plain": [
       "array([802551672, 774499188, 803841397, 789818648, 785284614, 798644673,\n",
       "       728644481, 788591677, 758713659, 802860970, 797469371, 804349394,\n",
       "       799618550, 805063877, 718383950, 805775169, 778690357, 779839643,\n",
       "       803055503, 805920528])"
      ]
     },
     "execution_count": 211,
     "metadata": {},
     "output_type": "execute_result"
    }
   ],
   "source": [
    "d_wikipedia['last_edit'][:20].values"
   ]
  },
  {
   "cell_type": "code",
   "execution_count": null,
   "metadata": {
    "collapsed": true
   },
   "outputs": [],
   "source": []
  },
  {
   "cell_type": "code",
   "execution_count": 208,
   "metadata": {},
   "outputs": [
    {
     "name": "stdout",
     "output_type": "stream",
     "text": [
      "CPU times: user 25.3 ms, sys: 4.28 ms, total: 29.6 ms\n",
      "Wall time: 294 ms\n"
     ]
    },
    {
     "data": {
      "text/plain": [
       "<Response [500]>"
      ]
     },
     "execution_count": 208,
     "metadata": {},
     "output_type": "execute_result"
    }
   ],
   "source": [
    "%time foo = get_multiple_full_ores_score_json('foo')\n",
    "foo"
   ]
  },
  {
   "cell_type": "code",
   "execution_count": 200,
   "metadata": {},
   "outputs": [
    {
     "data": {
      "text/plain": [
       "'Start'"
      ]
     },
     "execution_count": 200,
     "metadata": {},
     "output_type": "execute_result"
    }
   ],
   "source": [
    "foo['enwiki']['scores'][list(foo['enwiki']['scores'].keys())[4]]['wp10']['score']['prediction']"
   ]
  },
  {
   "cell_type": "code",
   "execution_count": null,
   "metadata": {
    "collapsed": true
   },
   "outputs": [],
   "source": []
  },
  {
   "cell_type": "code",
   "execution_count": 191,
   "metadata": {},
   "outputs": [
    {
     "name": "stdout",
     "output_type": "stream",
     "text": [
      "CPU times: user 26.4 ms, sys: 3.56 ms, total: 29.9 ms\n",
      "Wall time: 313 ms\n"
     ]
    }
   ],
   "source": [
    "%time bar = get_multiple_full_ores_score_json(3)"
   ]
  },
  {
   "cell_type": "code",
   "execution_count": 178,
   "metadata": {},
   "outputs": [
    {
     "data": {
      "text/plain": [
       "{'enwiki': {'models': {'wp10': {'version': '0.5.0'}},\n",
       "  'scores': {'718383950': {'wp10': {'score': {'prediction': 'Stub',\n",
       "      'probability': {'B': 0.00867108446083565,\n",
       "       'C': 0.010201201419512923,\n",
       "       'FA': 0.0012308185869063053,\n",
       "       'GA': 0.002347248512459868,\n",
       "       'Start': 0.08362945430408676,\n",
       "       'Stub': 0.8939201927161984}}}},\n",
       "   '728644481': {'wp10': {'score': {'prediction': 'Stub',\n",
       "      'probability': {'B': 0.011743849354179213,\n",
       "       'C': 0.018551150267917215,\n",
       "       'FA': 0.0017216633333940244,\n",
       "       'GA': 0.004963145860590862,\n",
       "       'Start': 0.2475321059686044,\n",
       "       'Stub': 0.7154880852153144}}}},\n",
       "   '758713659': {'wp10': {'score': {'prediction': 'C',\n",
       "      'probability': {'B': 0.13051629022094477,\n",
       "       'C': 0.661331647033431,\n",
       "       'FA': 0.008345185189334319,\n",
       "       'GA': 0.0506476033411268,\n",
       "       'Start': 0.13543386979975322,\n",
       "       'Stub': 0.01372540441540996}}}},\n",
       "   '774499188': {'wp10': {'score': {'prediction': 'Stub',\n",
       "      'probability': {'B': 0.03488477079112925,\n",
       "       'C': 0.06953258948284814,\n",
       "       'FA': 0.0025762575670963965,\n",
       "       'GA': 0.007911851615317388,\n",
       "       'Start': 0.4106575723489943,\n",
       "       'Stub': 0.4744369581946146}}}},\n",
       "   '778690357': {'wp10': {'score': {'prediction': 'Start',\n",
       "      'probability': {'B': 0.02297674671423472,\n",
       "       'C': 0.0861074813114808,\n",
       "       'FA': 0.002422756597764642,\n",
       "       'GA': 0.00486559372582058,\n",
       "       'Start': 0.8319728634090546,\n",
       "       'Stub': 0.051654558241644735}}}},\n",
       "   '779839643': {'wp10': {'score': {'prediction': 'Stub',\n",
       "      'probability': {'B': 0.005812277144201996,\n",
       "       'C': 0.005903365138454951,\n",
       "       'FA': 0.0007044022311522287,\n",
       "       'GA': 0.0014771677716918482,\n",
       "       'Start': 0.017543294400020636,\n",
       "       'Stub': 0.9685594933144783}}}},\n",
       "   '785284614': {'wp10': {'score': {'prediction': 'Start',\n",
       "      'probability': {'B': 0.038275722083665996,\n",
       "       'C': 0.10192509737063972,\n",
       "       'FA': 0.002304638025838147,\n",
       "       'GA': 0.01439572915013765,\n",
       "       'Start': 0.8180319224222182,\n",
       "       'Stub': 0.025066890947500402}}}},\n",
       "   '788591677': {'wp10': {'score': {'prediction': 'Start',\n",
       "      'probability': {'B': 0.06406208521481899,\n",
       "       'C': 0.2597475279770066,\n",
       "       'FA': 0.0041369402109122325,\n",
       "       'GA': 0.024158092693711455,\n",
       "       'Start': 0.6380480318062743,\n",
       "       'Stub': 0.009847322097276373}}}},\n",
       "   '789818648': {'wp10': {'score': {'prediction': 'Start',\n",
       "      'probability': {'B': 0.02941560029957346,\n",
       "       'C': 0.055087519959750295,\n",
       "       'FA': 0.0023862738697030465,\n",
       "       'GA': 0.0034467642562264924,\n",
       "       'Start': 0.8003062073936903,\n",
       "       'Stub': 0.10935763422105636}}}},\n",
       "   '797469371': {'wp10': {'score': {'prediction': 'GA',\n",
       "      'probability': {'B': 0.2268992768209362,\n",
       "       'C': 0.28687285891224934,\n",
       "       'FA': 0.026747557677269784,\n",
       "       'GA': 0.4383600708507178,\n",
       "       'Start': 0.018552043857823577,\n",
       "       'Stub': 0.002568191881003295}}}},\n",
       "   '798644673': {'wp10': {'score': {'prediction': 'Stub',\n",
       "      'probability': {'B': 0.006026123678198464,\n",
       "       'C': 0.006399724408744964,\n",
       "       'FA': 0.000836616661304519,\n",
       "       'GA': 0.001442319776226022,\n",
       "       'Start': 0.040387564418622214,\n",
       "       'Stub': 0.9449076510569039}}}},\n",
       "   '799618550': {'wp10': {'score': {'prediction': 'Start',\n",
       "      'probability': {'B': 0.019799456073066286,\n",
       "       'C': 0.17218247709823392,\n",
       "       'FA': 0.002679553165782313,\n",
       "       'GA': 0.0056842882831369245,\n",
       "       'Start': 0.651080443413521,\n",
       "       'Stub': 0.14857378196625967}}}},\n",
       "   '802551672': {'wp10': {'score': {'prediction': 'C',\n",
       "      'probability': {'B': 0.17804496652032606,\n",
       "       'C': 0.4950097267737061,\n",
       "       'FA': 0.010481758617897869,\n",
       "       'GA': 0.05901957893404478,\n",
       "       'Start': 0.25371601149510725,\n",
       "       'Stub': 0.0037279576589180907}}}},\n",
       "   '802860970': {'wp10': {'score': {'prediction': 'Start',\n",
       "      'probability': {'B': 0.02558165138396921,\n",
       "       'C': 0.04039765792427712,\n",
       "       'FA': 0.0022545678420246825,\n",
       "       'GA': 0.010449711271859131,\n",
       "       'Start': 0.7544192760613261,\n",
       "       'Stub': 0.16689713551654367}}}},\n",
       "   '803055503': {'wp10': {'score': {'prediction': 'GA',\n",
       "      'probability': {'B': 0.16897311403187978,\n",
       "       'C': 0.259038440077987,\n",
       "       'FA': 0.01017127453793035,\n",
       "       'GA': 0.5419463836514296,\n",
       "       'Start': 0.01836768594668512,\n",
       "       'Stub': 0.0015031017540882302}}}},\n",
       "   '803841397': {'wp10': {'score': {'prediction': 'C',\n",
       "      'probability': {'B': 0.1265128338460164,\n",
       "       'C': 0.466677586014158,\n",
       "       'FA': 0.005082317062613911,\n",
       "       'GA': 0.023992768391783027,\n",
       "       'Start': 0.3617315459225463,\n",
       "       'Stub': 0.016002948762882458}}}},\n",
       "   '804349394': {'wp10': {'score': {'prediction': 'Start',\n",
       "      'probability': {'B': 0.05991219960122166,\n",
       "       'C': 0.17947528505281388,\n",
       "       'FA': 0.0044767678521823616,\n",
       "       'GA': 0.047624309544830726,\n",
       "       'Start': 0.662402618457737,\n",
       "       'Stub': 0.04610881949121449}}}},\n",
       "   '805063877': {'wp10': {'score': {'prediction': 'Stub',\n",
       "      'probability': {'B': 0.007876007462043963,\n",
       "       'C': 0.011133224052929918,\n",
       "       'FA': 0.0012157580330957867,\n",
       "       'GA': 0.0027564059048268575,\n",
       "       'Start': 0.052619383973001775,\n",
       "       'Stub': 0.9243992205741016}}}},\n",
       "   '805775169': {'wp10': {'score': {'prediction': 'Start',\n",
       "      'probability': {'B': 0.05049766900209879,\n",
       "       'C': 0.12329713718688096,\n",
       "       'FA': 0.003235367931432042,\n",
       "       'GA': 0.004870197426292483,\n",
       "       'Start': 0.8020940288738824,\n",
       "       'Stub': 0.016005599579413436}}}},\n",
       "   '805920528': {'wp10': {'score': {'prediction': 'GA',\n",
       "      'probability': {'B': 0.04309406362813584,\n",
       "       'C': 0.03250432933432678,\n",
       "       'FA': 0.3128520777225997,\n",
       "       'GA': 0.6041499838553698,\n",
       "       'Start': 0.005998917072506066,\n",
       "       'Stub': 0.0014006283870616927}}}}}}}"
      ]
     },
     "execution_count": 178,
     "metadata": {},
     "output_type": "execute_result"
    }
   ],
   "source": [
    "bar"
   ]
  },
  {
   "cell_type": "code",
   "execution_count": 179,
   "metadata": {},
   "outputs": [
    {
     "ename": "IndexError",
     "evalue": "list index out of range",
     "output_type": "error",
     "traceback": [
      "\u001b[0;31m---------------------------------------------------------------------------\u001b[0m",
      "\u001b[0;31mIndexError\u001b[0m                                Traceback (most recent call last)",
      "\u001b[0;32m<ipython-input-179-e1df84c16406>\u001b[0m in \u001b[0;36m<module>\u001b[0;34m()\u001b[0m\n\u001b[0;32m----> 1\u001b[0;31m \u001b[0mbar\u001b[0m\u001b[0;34m[\u001b[0m\u001b[0;34m'enwiki'\u001b[0m\u001b[0;34m]\u001b[0m\u001b[0;34m[\u001b[0m\u001b[0;34m'scores'\u001b[0m\u001b[0;34m]\u001b[0m\u001b[0;34m[\u001b[0m\u001b[0mlist\u001b[0m\u001b[0;34m(\u001b[0m\u001b[0mj\u001b[0m\u001b[0;34m[\u001b[0m\u001b[0;34m'enwiki'\u001b[0m\u001b[0;34m]\u001b[0m\u001b[0;34m[\u001b[0m\u001b[0;34m'scores'\u001b[0m\u001b[0;34m]\u001b[0m\u001b[0;34m.\u001b[0m\u001b[0mkeys\u001b[0m\u001b[0;34m(\u001b[0m\u001b[0;34m)\u001b[0m\u001b[0;34m)\u001b[0m\u001b[0;34m[\u001b[0m\u001b[0;36m5\u001b[0m\u001b[0;34m]\u001b[0m\u001b[0;34m]\u001b[0m\u001b[0;34m[\u001b[0m\u001b[0;34m'wp10'\u001b[0m\u001b[0;34m]\u001b[0m\u001b[0;34m[\u001b[0m\u001b[0;34m'score'\u001b[0m\u001b[0;34m]\u001b[0m\u001b[0;34m[\u001b[0m\u001b[0;34m'prediction'\u001b[0m\u001b[0;34m]\u001b[0m\u001b[0;34m\u001b[0m\u001b[0m\n\u001b[0m",
      "\u001b[0;31mIndexError\u001b[0m: list index out of range"
     ]
    }
   ],
   "source": [
    "#bar['enwiki']['scores'][list(j['enwiki']['scores'].keys())[0]]['wp10']['score']['prediction']"
   ]
  },
  {
   "cell_type": "markdown",
   "metadata": {},
   "source": [
    "**TODO** check that the output of the below matches the output of calling it individually (way below). At a glance the results didn't match, but i was only looking at the results - i should check w/ the rev_ids for each, since the ordering could be different."
   ]
  },
  {
   "cell_type": "code",
   "execution_count": null,
   "metadata": {
    "collapsed": true
   },
   "outputs": [],
   "source": []
  },
  {
   "cell_type": "code",
   "execution_count": 188,
   "metadata": {},
   "outputs": [
    {
     "data": {
      "text/plain": [
       "['Stub', 'Stub', 'C', 'Stub', 'Start', 'Stub', 'Start', 'Start', 'Start', 'GA']"
      ]
     },
     "execution_count": 188,
     "metadata": {},
     "output_type": "execute_result"
    }
   ],
   "source": [
    "[bar['enwiki']['scores'][list(bar['enwiki']['scores'].keys())[i]]['wp10']['score']['prediction'] for i in range(10)]"
   ]
  },
  {
   "cell_type": "code",
   "execution_count": null,
   "metadata": {
    "collapsed": true
   },
   "outputs": [],
   "source": []
  },
  {
   "cell_type": "code",
   "execution_count": null,
   "metadata": {
    "collapsed": true
   },
   "outputs": [],
   "source": []
  },
  {
   "cell_type": "code",
   "execution_count": 128,
   "metadata": {},
   "outputs": [
    {
     "data": {
      "text/plain": [
       "dict"
      ]
     },
     "execution_count": 128,
     "metadata": {},
     "output_type": "execute_result"
    }
   ],
   "source": [
    "type(j)"
   ]
  },
  {
   "cell_type": "code",
   "execution_count": 129,
   "metadata": {},
   "outputs": [
    {
     "data": {
      "text/plain": [
       "'Start'"
      ]
     },
     "execution_count": 129,
     "metadata": {},
     "output_type": "execute_result"
    }
   ],
   "source": [
    "get_ores_prediction('797882120')"
   ]
  },
  {
   "cell_type": "code",
   "execution_count": 130,
   "metadata": {},
   "outputs": [
    {
     "data": {
      "text/plain": [
       "{'enwiki': {'models': {'wp10': {'version': '0.5.0'}},\n",
       "  'scores': {'797882120': {'wp10': {'score': {'prediction': 'Start',\n",
       "      'probability': {'B': 0.0325056273665757,\n",
       "       'C': 0.10161634736900718,\n",
       "       'FA': 0.003680032854794337,\n",
       "       'GA': 0.021044772033944954,\n",
       "       'Start': 0.8081343649161963,\n",
       "       'Stub': 0.033018855459481376}}}}}}}"
      ]
     },
     "execution_count": 130,
     "metadata": {},
     "output_type": "execute_result"
    }
   ],
   "source": [
    "j = get_full_ores_score_json('797882120')\n",
    "j"
   ]
  },
  {
   "cell_type": "code",
   "execution_count": 131,
   "metadata": {},
   "outputs": [
    {
     "data": {
      "text/plain": [
       "'797882120'"
      ]
     },
     "execution_count": 131,
     "metadata": {},
     "output_type": "execute_result"
    }
   ],
   "source": [
    "list(j['enwiki']['scores'].keys())[0]"
   ]
  },
  {
   "cell_type": "code",
   "execution_count": null,
   "metadata": {
    "collapsed": true
   },
   "outputs": [],
   "source": []
  },
  {
   "cell_type": "code",
   "execution_count": 138,
   "metadata": {},
   "outputs": [
    {
     "data": {
      "text/plain": [
       "0    802551672\n",
       "1    774499188\n",
       "2    803841397\n",
       "3    789818648\n",
       "4    785284614\n",
       "5    798644673\n",
       "6    728644481\n",
       "7    788591677\n",
       "8    758713659\n",
       "9    802860970\n",
       "Name: last_edit, dtype: int64"
      ]
     },
     "execution_count": 138,
     "metadata": {},
     "output_type": "execute_result"
    }
   ],
   "source": [
    "d_wikipedia['last_edit'][:10]"
   ]
  },
  {
   "cell_type": "code",
   "execution_count": 143,
   "metadata": {},
   "outputs": [
    {
     "data": {
      "text/plain": [
       "array([802551672, 774499188, 803841397, 789818648, 785284614, 798644673,\n",
       "       728644481, 788591677, 758713659, 802860970])"
      ]
     },
     "execution_count": 143,
     "metadata": {},
     "output_type": "execute_result"
    }
   ],
   "source": [
    "d_wikipedia['last_edit'][:10].values"
   ]
  },
  {
   "cell_type": "code",
   "execution_count": 151,
   "metadata": {},
   "outputs": [
    {
     "data": {
      "text/plain": [
       "'802551672|774499188|803841397|789818648|785284614|798644673|728644481|788591677|758713659|802860970|797469371|804349394|799618550|805063877|718383950|805775169|778690357|779839643|803055503|805920528'"
      ]
     },
     "execution_count": 151,
     "metadata": {},
     "output_type": "execute_result"
    }
   ],
   "source": [
    "'|'.join([str(i) for i in d_wikipedia['last_edit'][:20].values])"
   ]
  },
  {
   "cell_type": "code",
   "execution_count": null,
   "metadata": {
    "collapsed": true
   },
   "outputs": [],
   "source": []
  },
  {
   "cell_type": "code",
   "execution_count": 146,
   "metadata": {},
   "outputs": [
    {
     "data": {
      "text/plain": [
       "'1|2|3'"
      ]
     },
     "execution_count": 146,
     "metadata": {},
     "output_type": "execute_result"
    }
   ],
   "source": [
    "'|'.join(['1','2','3'])"
   ]
  },
  {
   "cell_type": "code",
   "execution_count": 132,
   "metadata": {},
   "outputs": [
    {
     "data": {
      "text/plain": [
       "'Start'"
      ]
     },
     "execution_count": 132,
     "metadata": {},
     "output_type": "execute_result"
    }
   ],
   "source": [
    "j['enwiki']['scores']['797882120']['wp10']['score']['prediction']"
   ]
  },
  {
   "cell_type": "code",
   "execution_count": 133,
   "metadata": {},
   "outputs": [
    {
     "data": {
      "text/plain": [
       "'797882120'"
      ]
     },
     "execution_count": 133,
     "metadata": {},
     "output_type": "execute_result"
    }
   ],
   "source": [
    "list(j['enwiki']['scores'].keys())[0]"
   ]
  },
  {
   "cell_type": "code",
   "execution_count": 134,
   "metadata": {},
   "outputs": [
    {
     "data": {
      "text/plain": [
       "'Start'"
      ]
     },
     "execution_count": 134,
     "metadata": {},
     "output_type": "execute_result"
    }
   ],
   "source": [
    "j['enwiki']['scores'][list(j['enwiki']['scores'].keys())[0]]['wp10']['score']['prediction']"
   ]
  },
  {
   "cell_type": "markdown",
   "metadata": {},
   "source": [
    "Based on one run of the below, it takes 29.2s to process 100 IDs, or 0.292 sec/ID. Since we have 48000 IDs, this is ~3.9 hrs. The 'many at the same time' API appears much faster - at least requesting 20 (not pulling out the results, but just getting the data) takes 300-800ms."
   ]
  },
  {
   "cell_type": "code",
   "execution_count": 137,
   "metadata": {},
   "outputs": [
    {
     "name": "stdout",
     "output_type": "stream",
     "text": [
      "CPU times: user 2.6 s, sys: 117 ms, total: 2.72 s\n",
      "Wall time: 29.2 s\n"
     ]
    },
    {
     "data": {
      "text/plain": [
       "0         C\n",
       "1      Stub\n",
       "2         C\n",
       "3     Start\n",
       "4     Start\n",
       "5      Stub\n",
       "6      Stub\n",
       "7     Start\n",
       "8         C\n",
       "9     Start\n",
       "10       GA\n",
       "11    Start\n",
       "12    Start\n",
       "13     Stub\n",
       "14     Stub\n",
       "15    Start\n",
       "16    Start\n",
       "17     Stub\n",
       "18       GA\n",
       "19       GA\n",
       "20     Stub\n",
       "21        C\n",
       "22    Start\n",
       "23    Start\n",
       "24        B\n",
       "25        C\n",
       "26     Stub\n",
       "27     Stub\n",
       "28        C\n",
       "29     Stub\n",
       "      ...  \n",
       "70        C\n",
       "71       GA\n",
       "72     Stub\n",
       "73     Stub\n",
       "74       GA\n",
       "75    Start\n",
       "76     Stub\n",
       "77     Stub\n",
       "78     Stub\n",
       "79    Start\n",
       "80        B\n",
       "81    Start\n",
       "82        C\n",
       "83        C\n",
       "84       GA\n",
       "85    Start\n",
       "86       GA\n",
       "87    Start\n",
       "88    Start\n",
       "89        C\n",
       "90    Start\n",
       "91    Start\n",
       "92     Stub\n",
       "93        C\n",
       "94     Stub\n",
       "95        C\n",
       "96    Start\n",
       "97     Stub\n",
       "98        C\n",
       "99     Stub\n",
       "Name: last_edit, Length: 100, dtype: object"
      ]
     },
     "execution_count": 137,
     "metadata": {},
     "output_type": "execute_result"
    }
   ],
   "source": [
    "%time d_wikipedia['last_edit'][:100].apply(get_ores_prediction)"
   ]
  },
  {
   "cell_type": "code",
   "execution_count": null,
   "metadata": {
    "collapsed": true
   },
   "outputs": [],
   "source": []
  }
 ],
 "metadata": {
  "kernelspec": {
   "display_name": "Python 3",
   "language": "python",
   "name": "python3"
  },
  "language_info": {
   "codemirror_mode": {
    "name": "ipython",
    "version": 3
   },
   "file_extension": ".py",
   "mimetype": "text/x-python",
   "name": "python",
   "nbconvert_exporter": "python",
   "pygments_lexer": "ipython3",
   "version": "3.6.2"
  }
 },
 "nbformat": 4,
 "nbformat_minor": 2
}
