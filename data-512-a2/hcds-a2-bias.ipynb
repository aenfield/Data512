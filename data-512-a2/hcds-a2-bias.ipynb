{
 "cells": [
  {
   "cell_type": "markdown",
   "metadata": {},
   "source": [
    "# Enfield, Andrew - DATA 512, A2: Bias in Data"
   ]
  },
  {
   "cell_type": "markdown",
   "metadata": {},
   "source": [
    "This notebook implements [DATA 512 assignment two](https://wiki.communitydata.cc/HCDS_(Fall_2017)/Assignments#A2:_Bias_in_data), to explore bias using the number and quality of Wikipedia articles about politicians, by country.\n",
    "\n",
    "Per updates via Slack, there ultimate deliverable is a set of lists, not charts. These lists are:\n",
    "\n",
    "- TBD\n",
    "\n",
    "For more information about the work and, especially, about the data, refer to the [README](Readme.md)."
   ]
  },
  {
   "cell_type": "markdown",
   "metadata": {},
   "source": [
    "**TODO** I want a data section, where i note that there are issues, in one place. These include:\n",
    "\n",
    "- articles that aren't actually a single politician, like 'History of monarchy in Canada\tCanada\t806849461\n",
    "'\n",
    "- follow on to above bullet that i deleted the Template: articles and why \n",
    "- something about Oliver's comments about multiple levels of hierarchy\n",
    "- incomplete mapping of countries even after Oliver's and my follow on remapping\n",
    "- "
   ]
  },
  {
   "cell_type": "markdown",
   "metadata": {},
   "source": [
    "# Prereqs"
   ]
  },
  {
   "cell_type": "markdown",
   "metadata": {},
   "source": [
    "This code requires the libraries as described below."
   ]
  },
  {
   "cell_type": "code",
   "execution_count": 1,
   "metadata": {
    "collapsed": true
   },
   "outputs": [],
   "source": [
    "# retrieve, load data\n",
    "import requests\n",
    "import json\n",
    "import csv\n",
    "import os\n",
    "\n",
    "# prepare and analyze data\n",
    "import pandas as pd\n",
    "import numpy as np\n",
    "import matplotlib.pyplot as plt\n",
    "from IPython.core.pylabtools import figsize\n",
    "import seaborn as sns # for formatting\n",
    "%matplotlib inline "
   ]
  },
  {
   "cell_type": "code",
   "execution_count": 2,
   "metadata": {
    "collapsed": true
   },
   "outputs": [],
   "source": [
    "sns.set_style(\"whitegrid\")\n",
    "figsize(14,7)"
   ]
  },
  {
   "cell_type": "markdown",
   "metadata": {},
   "source": [
    "# Load and do basic data cleaning"
   ]
  },
  {
   "cell_type": "markdown",
   "metadata": {},
   "source": [
    "The code in this section loads data from the three sources (described in the [README](README.md)). It also does some minimal cleaning."
   ]
  },
  {
   "cell_type": "markdown",
   "metadata": {},
   "source": [
    "## First off, load the Wikipedia articles"
   ]
  },
  {
   "cell_type": "code",
   "execution_count": 107,
   "metadata": {},
   "outputs": [
    {
     "data": {
      "text/plain": [
       "(47197, 3)"
      ]
     },
     "execution_count": 107,
     "metadata": {},
     "output_type": "execute_result"
    }
   ],
   "source": [
    "d_wikipedia = pd.read_csv('page_data.csv')\n",
    "d_wikipedia.shape"
   ]
  },
  {
   "cell_type": "code",
   "execution_count": 108,
   "metadata": {},
   "outputs": [
    {
     "data": {
      "text/html": [
       "<div>\n",
       "<style>\n",
       "    .dataframe thead tr:only-child th {\n",
       "        text-align: right;\n",
       "    }\n",
       "\n",
       "    .dataframe thead th {\n",
       "        text-align: left;\n",
       "    }\n",
       "\n",
       "    .dataframe tbody tr th {\n",
       "        vertical-align: top;\n",
       "    }\n",
       "</style>\n",
       "<table border=\"1\" class=\"dataframe\">\n",
       "  <thead>\n",
       "    <tr style=\"text-align: right;\">\n",
       "      <th></th>\n",
       "      <th>page</th>\n",
       "      <th>country</th>\n",
       "      <th>rev_id</th>\n",
       "    </tr>\n",
       "  </thead>\n",
       "  <tbody>\n",
       "    <tr>\n",
       "      <th>0</th>\n",
       "      <td>Template:ZambiaProvincialMinisters</td>\n",
       "      <td>Zambia</td>\n",
       "      <td>235107991</td>\n",
       "    </tr>\n",
       "    <tr>\n",
       "      <th>1</th>\n",
       "      <td>Bir I of Kanem</td>\n",
       "      <td>Chad</td>\n",
       "      <td>355319463</td>\n",
       "    </tr>\n",
       "    <tr>\n",
       "      <th>2</th>\n",
       "      <td>Template:Zimbabwe-politician-stub</td>\n",
       "      <td>Zimbabwe</td>\n",
       "      <td>391862046</td>\n",
       "    </tr>\n",
       "  </tbody>\n",
       "</table>\n",
       "</div>"
      ],
      "text/plain": [
       "                                 page   country     rev_id\n",
       "0  Template:ZambiaProvincialMinisters    Zambia  235107991\n",
       "1                      Bir I of Kanem      Chad  355319463\n",
       "2   Template:Zimbabwe-politician-stub  Zimbabwe  391862046"
      ]
     },
     "execution_count": 108,
     "metadata": {},
     "output_type": "execute_result"
    }
   ],
   "source": [
    "d_wikipedia[:3]"
   ]
  },
  {
   "cell_type": "markdown",
   "metadata": {},
   "source": [
    "And, before we use the data to pull scores, we'll filter out the 'Template' entries.\n",
    "\n",
    "On Slack, Oliver said he'd keep these entries, as they're evidence of coverage/activity. I'm going to drop them. I agree with Oliver, but I'm not sure that template articles are the same _kind_ of coverage - are these apples to the actual per-politician page oranges? Do we know that a template article indicates the same amount of interest/coverage as an average actual article? Does ORES work equally well estimating the quality of a template article? Rather than make a statement on these questions, I'm just going to remove them from the analysis at this point."
   ]
  },
  {
   "cell_type": "code",
   "execution_count": 109,
   "metadata": {},
   "outputs": [
    {
     "data": {
      "text/plain": [
       "(46701, 3)"
      ]
     },
     "execution_count": 109,
     "metadata": {},
     "output_type": "execute_result"
    }
   ],
   "source": [
    "d_wikipedia.drop(d_wikipedia[d_wikipedia['page'].str.startswith('Template:')].index, inplace=True)\n",
    "d_wikipedia.shape"
   ]
  },
  {
   "cell_type": "code",
   "execution_count": 110,
   "metadata": {},
   "outputs": [
    {
     "data": {
      "text/html": [
       "<div>\n",
       "<style>\n",
       "    .dataframe thead tr:only-child th {\n",
       "        text-align: right;\n",
       "    }\n",
       "\n",
       "    .dataframe thead th {\n",
       "        text-align: left;\n",
       "    }\n",
       "\n",
       "    .dataframe tbody tr th {\n",
       "        vertical-align: top;\n",
       "    }\n",
       "</style>\n",
       "<table border=\"1\" class=\"dataframe\">\n",
       "  <thead>\n",
       "    <tr style=\"text-align: right;\">\n",
       "      <th></th>\n",
       "      <th>page</th>\n",
       "      <th>country</th>\n",
       "      <th>rev_id</th>\n",
       "    </tr>\n",
       "  </thead>\n",
       "  <tbody>\n",
       "    <tr>\n",
       "      <th>1</th>\n",
       "      <td>Bir I of Kanem</td>\n",
       "      <td>Chad</td>\n",
       "      <td>355319463</td>\n",
       "    </tr>\n",
       "    <tr>\n",
       "      <th>10</th>\n",
       "      <td>Information Minister of the Palestinian Nation...</td>\n",
       "      <td>Palestinian Territory</td>\n",
       "      <td>393276188</td>\n",
       "    </tr>\n",
       "    <tr>\n",
       "      <th>12</th>\n",
       "      <td>Yos Por</td>\n",
       "      <td>Cambodia</td>\n",
       "      <td>393822005</td>\n",
       "    </tr>\n",
       "  </tbody>\n",
       "</table>\n",
       "</div>"
      ],
      "text/plain": [
       "                                                 page                country  \\\n",
       "1                                      Bir I of Kanem                   Chad   \n",
       "10  Information Minister of the Palestinian Nation...  Palestinian Territory   \n",
       "12                                            Yos Por               Cambodia   \n",
       "\n",
       "       rev_id  \n",
       "1   355319463  \n",
       "10  393276188  \n",
       "12  393822005  "
      ]
     },
     "execution_count": 110,
     "metadata": {},
     "output_type": "execute_result"
    }
   ],
   "source": [
    "d_wikipedia[:3]"
   ]
  },
  {
   "cell_type": "markdown",
   "metadata": {},
   "source": [
    "## Then load the population data"
   ]
  },
  {
   "cell_type": "markdown",
   "metadata": {},
   "source": [
    "Per Oliver on Slack we shouldn't persist the population data in the repository. Accordingly, the code here downloads it from the source site, and then saves the copy locally. On future runs, if the file exists the code just loads it. The data isn't in the repo."
   ]
  },
  {
   "cell_type": "code",
   "execution_count": 138,
   "metadata": {},
   "outputs": [
    {
     "data": {
      "text/plain": [
       "(210, 6)"
      ]
     },
     "execution_count": 138,
     "metadata": {},
     "output_type": "execute_result"
    }
   ],
   "source": [
    "population_url = 'http://www.prb.org/RawData.axd?ind=14&fmt=14&tf=76&loc=34235%2c249%2c250%2c251%2c252%2c253%2c254%2c34227%2c255%2c257%2c258%2c259%2c260%2c261%2c262%2c263%2c264%2c265%2c266%2c267%2c268%2c269%2c270%2c271%2c272%2c274%2c275%2c276%2c277%2c278%2c279%2c280%2c281%2c282%2c283%2c284%2c285%2c286%2c287%2c288%2c289%2c290%2c291%2c292%2c294%2c295%2c296%2c297%2c298%2c299%2c300%2c301%2c302%2c304%2c305%2c306%2c307%2c308%2c311%2c312%2c315%2c316%2c317%2c318%2c319%2c320%2c321%2c322%2c324%2c325%2c326%2c327%2c328%2c34234%2c329%2c330%2c331%2c332%2c333%2c334%2c336%2c337%2c338%2c339%2c340%2c342%2c343%2c344%2c345%2c346%2c347%2c348%2c349%2c350%2c351%2c352%2c353%2c354%2c358%2c359%2c360%2c361%2c362%2c363%2c364%2c365%2c366%2c367%2c368%2c369%2c370%2c371%2c372%2c373%2c374%2c375%2c377%2c378%2c379%2c380%2c381%2c382%2c383%2c384%2c385%2c386%2c387%2c388%2c389%2c390%2c392%2c393%2c394%2c395%2c396%2c397%2c398%2c399%2c400%2c401%2c402%2c404%2c405%2c406%2c407%2c408%2c409%2c410%2c411%2c415%2c416%2c417%2c418%2c419%2c420%2c421%2c422%2c423%2c424%2c425%2c427%2c428%2c429%2c430%2c431%2c432%2c433%2c434%2c435%2c437%2c438%2c439%2c440%2c441%2c442%2c443%2c444%2c445%2c446%2c448%2c449%2c450%2c451%2c452%2c453%2c454%2c455%2c456%2c457%2c458%2c459%2c460%2c461%2c462%2c464%2c465%2c466%2c467%2c468%2c469%2c470%2c471%2c472%2c473%2c474%2c475%2c476%2c477%2c478%2c479%2c480'\n",
    "population_filename = 'population_mid_2015.csv'\n",
    "population_force_download = False\n",
    "\n",
    "if (not os.path.exists(population_filename)) | (population_force_download == True):\n",
    "    d_population = pd.read_csv(population_url, skiprows=2, thousands=',')\n",
    "    d_population.to_csv(population_filename, index=False)\n",
    "else:\n",
    "    d_population = pd.read_csv(population_filename, thousands=',')\n",
    "    \n",
    "d_population.shape"
   ]
  },
  {
   "cell_type": "code",
   "execution_count": 140,
   "metadata": {},
   "outputs": [
    {
     "data": {
      "text/plain": [
       "country\n",
       "France            1681\n",
       "Australia         1561\n",
       "China             1133\n",
       "United States     1092\n",
       "Mexico            1077\n",
       "Pakistan          1040\n",
       "India              985\n",
       "Russia             877\n",
       "Spain              876\n",
       "United Kingdom     863\n",
       "dtype: int64"
      ]
     },
     "execution_count": 140,
     "metadata": {},
     "output_type": "execute_result"
    }
   ],
   "source": [
    "d_wikipedia.groupby(['country']).size().sort_values(ascending=False)[:10]"
   ]
  },
  {
   "cell_type": "code",
   "execution_count": 141,
   "metadata": {},
   "outputs": [
    {
     "data": {
      "text/html": [
       "<div>\n",
       "<style>\n",
       "    .dataframe thead tr:only-child th {\n",
       "        text-align: right;\n",
       "    }\n",
       "\n",
       "    .dataframe thead th {\n",
       "        text-align: left;\n",
       "    }\n",
       "\n",
       "    .dataframe tbody tr th {\n",
       "        vertical-align: top;\n",
       "    }\n",
       "</style>\n",
       "<table border=\"1\" class=\"dataframe\">\n",
       "  <thead>\n",
       "    <tr style=\"text-align: right;\">\n",
       "      <th></th>\n",
       "      <th>Location</th>\n",
       "      <th>Location Type</th>\n",
       "      <th>TimeFrame</th>\n",
       "      <th>Data Type</th>\n",
       "      <th>Data</th>\n",
       "      <th>Footnotes</th>\n",
       "    </tr>\n",
       "  </thead>\n",
       "  <tbody>\n",
       "    <tr>\n",
       "      <th>0</th>\n",
       "      <td>Afghanistan</td>\n",
       "      <td>Country</td>\n",
       "      <td>Mid-2015</td>\n",
       "      <td>Number</td>\n",
       "      <td>32247000</td>\n",
       "      <td>nan</td>\n",
       "    </tr>\n",
       "    <tr>\n",
       "      <th>1</th>\n",
       "      <td>Albania</td>\n",
       "      <td>Country</td>\n",
       "      <td>Mid-2015</td>\n",
       "      <td>Number</td>\n",
       "      <td>2892000</td>\n",
       "      <td>nan</td>\n",
       "    </tr>\n",
       "    <tr>\n",
       "      <th>2</th>\n",
       "      <td>Algeria</td>\n",
       "      <td>Country</td>\n",
       "      <td>Mid-2015</td>\n",
       "      <td>Number</td>\n",
       "      <td>39948000</td>\n",
       "      <td>nan</td>\n",
       "    </tr>\n",
       "  </tbody>\n",
       "</table>\n",
       "</div>"
      ],
      "text/plain": [
       "      Location Location Type TimeFrame Data Type      Data  Footnotes\n",
       "0  Afghanistan       Country  Mid-2015    Number  32247000        nan\n",
       "1      Albania       Country  Mid-2015    Number   2892000        nan\n",
       "2      Algeria       Country  Mid-2015    Number  39948000        nan"
      ]
     },
     "execution_count": 141,
     "metadata": {},
     "output_type": "execute_result"
    }
   ],
   "source": [
    "d_population[:3]"
   ]
  },
  {
   "cell_type": "markdown",
   "metadata": {},
   "source": [
    "## And finally retrieve the article scores"
   ]
  },
  {
   "cell_type": "markdown",
   "metadata": {},
   "source": [
    "The code in this section retrieves [ORES](https://ores.wikimedia.org) article scores for each article in the data set. For more information about this source, refer to the [README](README.md). I use the https://ores.wikimedia.org/v3/#!/scoring/get_v3_scores_context API as it enables downloading many scores at a time and reduces the time needed to obtain ~47000 scores from hours (with the [score-per-call API](https://ores.wikimedia.org/v3/#!/scoring/get_v3_scores_context_revid_model)) to just a few minutes.\n",
    "\n",
    "My implementation uses a few functions, to keep separate operations separate. To retrieve article scores for a list of revision IDs and save the results to a local file, call the top-level function get_article_scores_data."
   ]
  },
  {
   "cell_type": "code",
   "execution_count": 10,
   "metadata": {
    "collapsed": true
   },
   "outputs": [],
   "source": [
    "user_agent = 'https://github.com/aenfield'\n",
    "\n",
    "def get_multiple_full_ores_score_json(rev_ids):\n",
    "    \"\"\"Call the ORES web API to retrieve and return the JSON for all revision IDs \n",
    "    specified in the rev_ids parameter. In practice I found that asking for 140 or\n",
    "    fewer IDs at a time worked fine.\"\"\"\n",
    "    \n",
    "    endpoint = 'https://ores.wikimedia.org/v3/scores/enwiki?models=wp10&revids={rev_ids_delimited}'\n",
    "    rev_ids_delimited = '|'.join([str(i) for i in rev_ids])\n",
    "    params = { 'rev_ids_delimited' : rev_ids_delimited }\n",
    "\n",
    "    api_call = requests.get(endpoint.format(**params), headers = {'User-Agent':'{}'.format(user_agent)})\n",
    "    return api_call.json()\n",
    "    \n",
    "    \n",
    "def get_ores_prediction_from_score_json(score_json, rev_id):\n",
    "    \"\"\"Return the most likely article quality value for the specified rev_id. The\n",
    "    score_json parameter must be a JSON dict from ORES.\"\"\"\n",
    "    try:\n",
    "        return score_json['enwiki']['scores'][str(rev_id)]['wp10']['score']['prediction']\n",
    "    except KeyError as err: # to handle cases where the article has been deleted\n",
    "        return f\"KeyError: {err}.\"\n",
    "            \n",
    "def chunker(seq, size):\n",
    "    \"\"\"Get a generator that returns chunks of size 'size' of the sequence in 'seq'.\n",
    "    What I get from this function enables me to call get_multiple_full_ores_score_json \n",
    "    multiple times with a separate (smaller) set of rev_ids each time.\n",
    "    \n",
    "    From: https://stackoverflow.com/questions/434287/what-is-the-most-pythonic-way-to-iterate-over-a-list-in-chunks\n",
    "    \"\"\"\n",
    "    return (seq[pos:pos + size] for pos in range(0, len(seq), size))\n",
    "\n",
    "def get_article_scores_data(rev_ids, force=False, verbose=False):\n",
    "    \"\"\"Retrieve article scores from ORES for the specified 'rev_ids', save locally, \n",
    "    and return a dataframe. If 'force' is True, download regardless; otherwise retrieve\n",
    "    the scores only if the local file doesn't exist.\n",
    "    \"\"\"\n",
    "    \n",
    "    filename = 'article_scores.csv'\n",
    "\n",
    "    if (not os.path.exists(filename)) | (force == True):\n",
    "        # download and save the data locally\n",
    "        if verbose: print(\"Local file doesn't exist or download was forced. Downloading...\")\n",
    "        with open(filename, 'w') as output_file:\n",
    "            writer = csv.writer(output_file, delimiter=',')\n",
    "            writer.writerow(['RevisionId','Score'])\n",
    "\n",
    "            progress_frequency = 25\n",
    "            count_of_rev_ids_in_chunk = 140\n",
    "            rev_ids_in_chunks = [x for x in chunker(rev_ids, count_of_rev_ids_in_chunk)]\n",
    "\n",
    "            #rev_ids_in_chunks = rev_ids_in_chunks[300:]\n",
    "            \n",
    "            for chunk_index, chunk_of_rev_ids in enumerate(rev_ids_in_chunks):\n",
    "                if (chunk_index % progress_frequency == 0): print(f\"Retrieving chunk with index {chunk_index}.\")\n",
    "\n",
    "                scores_json = get_multiple_full_ores_score_json(chunk_of_rev_ids)\n",
    "                #print(scores_json)\n",
    "                for rev_id in chunk_of_rev_ids:\n",
    "                    writer.writerow([rev_id, get_ores_prediction_from_score_json(scores_json, rev_id)])\n",
    "\n",
    "            if verbose: print(f\"Retrieved {chunk_index + 1} chunks and saved to {filename}. Done.\")        \n",
    "    else:\n",
    "        if verbose: print(\"Local file exists already.\")\n",
    "                  \n",
    "    # now open and return dataframe\n",
    "    return pd.read_csv(filename, index_col='RevisionId')"
   ]
  },
  {
   "cell_type": "code",
   "execution_count": 11,
   "metadata": {},
   "outputs": [
    {
     "data": {
      "text/plain": [
       "(46701, 1)"
      ]
     },
     "execution_count": 11,
     "metadata": {},
     "output_type": "execute_result"
    }
   ],
   "source": [
    "d_scores = get_article_scores_data(d_wikipedia['rev_id'].values)\n",
    "d_scores.shape"
   ]
  },
  {
   "cell_type": "markdown",
   "metadata": {},
   "source": [
    "Some articles may have been deleted since the page_data list was created. How many of these occurred? And then we'll filter them out, since we can't get a score for something that doesn't exist."
   ]
  },
  {
   "cell_type": "code",
   "execution_count": 12,
   "metadata": {},
   "outputs": [
    {
     "data": {
      "text/plain": [
       "2"
      ]
     },
     "execution_count": 12,
     "metadata": {},
     "output_type": "execute_result"
    }
   ],
   "source": [
    "len(d_scores[d_scores['Score'].str.startswith('KeyError')])"
   ]
  },
  {
   "cell_type": "code",
   "execution_count": 13,
   "metadata": {},
   "outputs": [
    {
     "data": {
      "text/html": [
       "<div>\n",
       "<style>\n",
       "    .dataframe thead tr:only-child th {\n",
       "        text-align: right;\n",
       "    }\n",
       "\n",
       "    .dataframe thead th {\n",
       "        text-align: left;\n",
       "    }\n",
       "\n",
       "    .dataframe tbody tr th {\n",
       "        vertical-align: top;\n",
       "    }\n",
       "</style>\n",
       "<table border=\"1\" class=\"dataframe\">\n",
       "  <thead>\n",
       "    <tr style=\"text-align: right;\">\n",
       "      <th></th>\n",
       "      <th>Score</th>\n",
       "    </tr>\n",
       "    <tr>\n",
       "      <th>RevisionId</th>\n",
       "      <th></th>\n",
       "    </tr>\n",
       "  </thead>\n",
       "  <tbody>\n",
       "    <tr>\n",
       "      <th>807367030</th>\n",
       "      <td>KeyError: 'score'.</td>\n",
       "    </tr>\n",
       "    <tr>\n",
       "      <th>807367166</th>\n",
       "      <td>KeyError: 'score'.</td>\n",
       "    </tr>\n",
       "  </tbody>\n",
       "</table>\n",
       "</div>"
      ],
      "text/plain": [
       "                         Score\n",
       "RevisionId                    \n",
       "807367030   KeyError: 'score'.\n",
       "807367166   KeyError: 'score'."
      ]
     },
     "execution_count": 13,
     "metadata": {},
     "output_type": "execute_result"
    }
   ],
   "source": [
    "d_scores[d_scores['Score'].str.startswith('KeyError')]"
   ]
  },
  {
   "cell_type": "code",
   "execution_count": 14,
   "metadata": {},
   "outputs": [
    {
     "data": {
      "text/plain": [
       "(46699, 1)"
      ]
     },
     "execution_count": 14,
     "metadata": {},
     "output_type": "execute_result"
    }
   ],
   "source": [
    "d_scores.drop(d_scores[d_scores['Score'].str.startswith('KeyError')].index, inplace=True)\n",
    "d_scores.shape"
   ]
  },
  {
   "cell_type": "code",
   "execution_count": 15,
   "metadata": {},
   "outputs": [
    {
     "data": {
      "text/plain": [
       "0"
      ]
     },
     "execution_count": 15,
     "metadata": {},
     "output_type": "execute_result"
    }
   ],
   "source": [
    "len(d_scores[d_scores['Score'].str.startswith('KeyError')])"
   ]
  },
  {
   "cell_type": "markdown",
   "metadata": {},
   "source": [
    "And now join to pull in the score data.\n",
    "\n",
    "If there are rows with no score data, the page data will have nulls for the new score column. I'll filter these rows out below when I clean up rows with incomplete data."
   ]
  },
  {
   "cell_type": "code",
   "execution_count": 16,
   "metadata": {},
   "outputs": [
    {
     "data": {
      "text/plain": [
       "(46701, 4)"
      ]
     },
     "execution_count": 16,
     "metadata": {},
     "output_type": "execute_result"
    }
   ],
   "source": [
    "d_wikipedia_with_scores = pd.merge(left=d_wikipedia, right=d_scores, left_on='rev_id', right_index=True, how='left')\n",
    "d_wikipedia_with_scores.shape"
   ]
  },
  {
   "cell_type": "code",
   "execution_count": 17,
   "metadata": {},
   "outputs": [
    {
     "data": {
      "text/html": [
       "<div>\n",
       "<style>\n",
       "    .dataframe thead tr:only-child th {\n",
       "        text-align: right;\n",
       "    }\n",
       "\n",
       "    .dataframe thead th {\n",
       "        text-align: left;\n",
       "    }\n",
       "\n",
       "    .dataframe tbody tr th {\n",
       "        vertical-align: top;\n",
       "    }\n",
       "</style>\n",
       "<table border=\"1\" class=\"dataframe\">\n",
       "  <thead>\n",
       "    <tr style=\"text-align: right;\">\n",
       "      <th></th>\n",
       "      <th>page</th>\n",
       "      <th>country</th>\n",
       "      <th>rev_id</th>\n",
       "      <th>Score</th>\n",
       "    </tr>\n",
       "  </thead>\n",
       "  <tbody>\n",
       "    <tr>\n",
       "      <th>1</th>\n",
       "      <td>Bir I of Kanem</td>\n",
       "      <td>Chad</td>\n",
       "      <td>355319463</td>\n",
       "      <td>Stub</td>\n",
       "    </tr>\n",
       "    <tr>\n",
       "      <th>10</th>\n",
       "      <td>Information Minister of the Palestinian Nation...</td>\n",
       "      <td>Palestinian Territory</td>\n",
       "      <td>393276188</td>\n",
       "      <td>Stub</td>\n",
       "    </tr>\n",
       "    <tr>\n",
       "      <th>12</th>\n",
       "      <td>Yos Por</td>\n",
       "      <td>Cambodia</td>\n",
       "      <td>393822005</td>\n",
       "      <td>Stub</td>\n",
       "    </tr>\n",
       "  </tbody>\n",
       "</table>\n",
       "</div>"
      ],
      "text/plain": [
       "                                                 page                country  \\\n",
       "1                                      Bir I of Kanem                   Chad   \n",
       "10  Information Minister of the Palestinian Nation...  Palestinian Territory   \n",
       "12                                            Yos Por               Cambodia   \n",
       "\n",
       "       rev_id Score  \n",
       "1   355319463  Stub  \n",
       "10  393276188  Stub  \n",
       "12  393822005  Stub  "
      ]
     },
     "execution_count": 17,
     "metadata": {},
     "output_type": "execute_result"
    }
   ],
   "source": [
    "d_wikipedia_with_scores[:3]"
   ]
  },
  {
   "cell_type": "code",
   "execution_count": 18,
   "metadata": {},
   "outputs": [
    {
     "data": {
      "text/plain": [
       "Stub     23707\n",
       "Start    15341\n",
       "C         5764\n",
       "GA         872\n",
       "B          735\n",
       "FA         280\n",
       "NaN          2\n",
       "Name: Score, dtype: int64"
      ]
     },
     "execution_count": 18,
     "metadata": {},
     "output_type": "execute_result"
    }
   ],
   "source": [
    "d_wikipedia_with_scores['Score'].value_counts(dropna=False)"
   ]
  },
  {
   "cell_type": "code",
   "execution_count": 19,
   "metadata": {},
   "outputs": [
    {
     "data": {
      "text/plain": [
       "(46701, 3)"
      ]
     },
     "execution_count": 19,
     "metadata": {},
     "output_type": "execute_result"
    }
   ],
   "source": [
    "d_wikipedia.shape"
   ]
  },
  {
   "cell_type": "code",
   "execution_count": 20,
   "metadata": {},
   "outputs": [
    {
     "data": {
      "text/plain": [
       "0"
      ]
     },
     "execution_count": 20,
     "metadata": {},
     "output_type": "execute_result"
    }
   ],
   "source": [
    "len(d_wikipedia_with_scores) - len(d_wikipedia)"
   ]
  },
  {
   "cell_type": "code",
   "execution_count": 21,
   "metadata": {},
   "outputs": [
    {
     "data": {
      "text/plain": [
       "(46699, 1)"
      ]
     },
     "execution_count": 21,
     "metadata": {},
     "output_type": "execute_result"
    }
   ],
   "source": [
    "d_scores.shape"
   ]
  },
  {
   "cell_type": "code",
   "execution_count": 22,
   "metadata": {},
   "outputs": [
    {
     "name": "stdout",
     "output_type": "stream",
     "text": [
      "<class 'pandas.core.frame.DataFrame'>\n",
      "Int64Index: 46701 entries, 1 to 47196\n",
      "Data columns (total 4 columns):\n",
      "page       46701 non-null object\n",
      "country    46701 non-null object\n",
      "rev_id     46701 non-null int64\n",
      "Score      46699 non-null object\n",
      "dtypes: int64(1), object(3)\n",
      "memory usage: 1.8+ MB\n"
     ]
    }
   ],
   "source": [
    "d_wikipedia_with_scores.info()"
   ]
  },
  {
   "cell_type": "markdown",
   "metadata": {},
   "source": [
    "Originally the page_data data set had duplicates. It looks like that's no longer the case, but I'll check for them here to confirm."
   ]
  },
  {
   "cell_type": "code",
   "execution_count": 27,
   "metadata": {},
   "outputs": [
    {
     "data": {
      "text/html": [
       "<div>\n",
       "<style>\n",
       "    .dataframe thead tr:only-child th {\n",
       "        text-align: right;\n",
       "    }\n",
       "\n",
       "    .dataframe thead th {\n",
       "        text-align: left;\n",
       "    }\n",
       "\n",
       "    .dataframe tbody tr th {\n",
       "        vertical-align: top;\n",
       "    }\n",
       "</style>\n",
       "<table border=\"1\" class=\"dataframe\">\n",
       "  <thead>\n",
       "    <tr style=\"text-align: right;\">\n",
       "      <th></th>\n",
       "      <th>page</th>\n",
       "      <th>country</th>\n",
       "      <th>rev_id</th>\n",
       "      <th>Score</th>\n",
       "    </tr>\n",
       "  </thead>\n",
       "  <tbody>\n",
       "  </tbody>\n",
       "</table>\n",
       "</div>"
      ],
      "text/plain": [
       "Empty DataFrame\n",
       "Columns: [page, country, rev_id, Score]\n",
       "Index: []"
      ]
     },
     "execution_count": 27,
     "metadata": {},
     "output_type": "execute_result"
    }
   ],
   "source": [
    "dupes = d_wikipedia_with_scores[d_wikipedia_with_scores.duplicated(subset='rev_id', keep=False)].sort_values(['rev_id','page'])\n",
    "dupes"
   ]
  },
  {
   "cell_type": "markdown",
   "metadata": {},
   "source": [
    "Finally, I'll join to pull in the population data. For now I'll do an outer join so we can see the country values that don't exist on _both_ sides of the join. This isn't needed for the assignment because it says to just remove all rows that don't have matching data. But, I'm curious and I also want to at least see if there are places where I could do any further matching to expand/improve the data."
   ]
  },
  {
   "cell_type": "code",
   "execution_count": 28,
   "metadata": {},
   "outputs": [
    {
     "data": {
      "text/plain": [
       "(46724, 6)"
      ]
     },
     "execution_count": 28,
     "metadata": {},
     "output_type": "execute_result"
    }
   ],
   "source": [
    "d_all = pd.merge(left=d_wikipedia_with_scores, right=d_population[['Location','Data']],\n",
    "                 how='outer', left_on='country', right_on='Location')\n",
    "d_all.shape"
   ]
  },
  {
   "cell_type": "code",
   "execution_count": 29,
   "metadata": {},
   "outputs": [
    {
     "data": {
      "text/html": [
       "<div>\n",
       "<style>\n",
       "    .dataframe thead tr:only-child th {\n",
       "        text-align: right;\n",
       "    }\n",
       "\n",
       "    .dataframe thead th {\n",
       "        text-align: left;\n",
       "    }\n",
       "\n",
       "    .dataframe tbody tr th {\n",
       "        vertical-align: top;\n",
       "    }\n",
       "</style>\n",
       "<table border=\"1\" class=\"dataframe\">\n",
       "  <thead>\n",
       "    <tr style=\"text-align: right;\">\n",
       "      <th></th>\n",
       "      <th>page</th>\n",
       "      <th>country</th>\n",
       "      <th>rev_id</th>\n",
       "      <th>Score</th>\n",
       "      <th>Location</th>\n",
       "      <th>Data</th>\n",
       "    </tr>\n",
       "  </thead>\n",
       "  <tbody>\n",
       "    <tr>\n",
       "      <th>0</th>\n",
       "      <td>Bir I of Kanem</td>\n",
       "      <td>Chad</td>\n",
       "      <td>355319463.0</td>\n",
       "      <td>Stub</td>\n",
       "      <td>Chad</td>\n",
       "      <td>13707000.0</td>\n",
       "    </tr>\n",
       "    <tr>\n",
       "      <th>1</th>\n",
       "      <td>Abdullah II of Kanem</td>\n",
       "      <td>Chad</td>\n",
       "      <td>498683267.0</td>\n",
       "      <td>Stub</td>\n",
       "      <td>Chad</td>\n",
       "      <td>13707000.0</td>\n",
       "    </tr>\n",
       "    <tr>\n",
       "      <th>2</th>\n",
       "      <td>Salmama II of Kanem</td>\n",
       "      <td>Chad</td>\n",
       "      <td>565745353.0</td>\n",
       "      <td>Stub</td>\n",
       "      <td>Chad</td>\n",
       "      <td>13707000.0</td>\n",
       "    </tr>\n",
       "  </tbody>\n",
       "</table>\n",
       "</div>"
      ],
      "text/plain": [
       "                   page country       rev_id Score Location        Data\n",
       "0        Bir I of Kanem    Chad  355319463.0  Stub     Chad  13707000.0\n",
       "1  Abdullah II of Kanem    Chad  498683267.0  Stub     Chad  13707000.0\n",
       "2   Salmama II of Kanem    Chad  565745353.0  Stub     Chad  13707000.0"
      ]
     },
     "execution_count": 29,
     "metadata": {},
     "output_type": "execute_result"
    }
   ],
   "source": [
    "d_all[:3]"
   ]
  },
  {
   "cell_type": "markdown",
   "metadata": {},
   "source": [
    "What countries exist on one side but not on the other?"
   ]
  },
  {
   "cell_type": "markdown",
   "metadata": {},
   "source": [
    "First, what countries exist in the Wikipedia data but not in the population data, w/ the number of rows - here, the number of pages - for each?"
   ]
  },
  {
   "cell_type": "code",
   "execution_count": 30,
   "metadata": {},
   "outputs": [
    {
     "data": {
      "text/plain": [
       "Hondura                             187\n",
       "Salvadoran                          116\n",
       "South Korean                         96\n",
       "Cape Colony                          81\n",
       "Samoan                               76\n",
       "Rhodesian                            75\n",
       "Faroese                              74\n",
       "Ivorian                              73\n",
       "Cook Island                          67\n",
       "Jersey                               61\n",
       "Saint Lucian                         47\n",
       "Pitcairn Islands                     43\n",
       "Chechen                              38\n",
       "East Timorese                        36\n",
       "Saint Kitts and Nevis                30\n",
       "Montserratian                        27\n",
       "Guernsey                             25\n",
       "Omani                                24\n",
       "Niuean                               22\n",
       "Carniolan                            22\n",
       "Saint Vincent and the Grenadines     21\n",
       "Palauan                              21\n",
       "South Ossetian                       18\n",
       "Tokelauan                            17\n",
       "Abkhazia                             16\n",
       "South African Republic               15\n",
       "Greenlandic                          13\n",
       "Ossetian                              9\n",
       "Dagestani                             7\n",
       "Incan                                 7\n",
       "Somaliland                            4\n",
       "Rojava                                2\n",
       "Name: country, dtype: int64"
      ]
     },
     "execution_count": 30,
     "metadata": {},
     "output_type": "execute_result"
    }
   ],
   "source": [
    "d_all[d_all['Location'].isnull()]['country'].value_counts(dropna=False)"
   ]
  },
  {
   "cell_type": "markdown",
   "metadata": {},
   "source": [
    "And now the countries that exist in the population data but not in the Wikipedia data."
   ]
  },
  {
   "cell_type": "code",
   "execution_count": 31,
   "metadata": {},
   "outputs": [
    {
     "data": {
      "text/plain": [
       "Channel Islands                 1\n",
       "Macao, SAR                      1\n",
       "Reunion                         1\n",
       "Cote d'Ivoire                   1\n",
       "Palau                           1\n",
       "St. Kitts-Nevis                 1\n",
       "Oman                            1\n",
       "Curacao                         1\n",
       "St. Vincent & the Grenadines    1\n",
       "Western Sahara                  1\n",
       "French Polynesia                1\n",
       "Guam                            1\n",
       "Georgia                         1\n",
       "Samoa                           1\n",
       "St. Lucia                       1\n",
       "El Salvador                     1\n",
       "Timor-Leste                     1\n",
       "Hong Kong, SAR                  1\n",
       "Mayotte                         1\n",
       "Honduras                        1\n",
       "New Caledonia                   1\n",
       "Puerto Rico                     1\n",
       "Brunei                          1\n",
       "Name: Location, dtype: int64"
      ]
     },
     "execution_count": 31,
     "metadata": {},
     "output_type": "execute_result"
    }
   ],
   "source": [
    "d_all[d_all['country'].isnull()]['Location'].value_counts(dropna=False)"
   ]
  },
  {
   "cell_type": "markdown",
   "metadata": {},
   "source": [
    "Based on eyeballing of the most common Wikipedia countries for which we have no population data - I included all countries with 70 or more pages - I came up with the following mapping that I'll use to update the country field in the Wikipedia data, so we _will_ have population data. This is probably clearly better for some countries that map directly - for example updating 'South Korean' to 'Korea, South'. It's fuzzier for at least some others, including for example Wikipedia countries that aren't around anymore in the way they were when the leader was in power, like Cape Colony and Rhodesia. Good enough for now though.\n",
    "\n",
    "In addition, there are clearly others that I could also map - for example, 'Saint Vincent and the Grenadines' in the Wikipedia data could be changed to 'St. Vincent & the Grenadines', but all of the ones I didn't manually map have fewer than 70 pages."
   ]
  },
  {
   "cell_type": "code",
   "execution_count": 33,
   "metadata": {
    "collapsed": true
   },
   "outputs": [],
   "source": [
    "wikipedia_country_to_population_map = {'Burkinabé':'Burkina Faso',\n",
    "                                       'Ivorian':\"Cote d'Ivoire\",\n",
    "                                       'Faroese':'Denmark',\n",
    "                                       'Salvadoran':'El Salvador',\n",
    "                                       'Hondura':'Honduras',\n",
    "                                       'South Korean':'Korea, South',\n",
    "                                       'Samoan':'Samoa',\n",
    "                                       'Cape Colony':'United Kingdom',\n",
    "                                       'Rhodesian':'Zimbabwe'}"
   ]
  },
  {
   "cell_type": "code",
   "execution_count": 34,
   "metadata": {
    "collapsed": true
   },
   "outputs": [],
   "source": [
    "d_wikipedia_with_scores['country'].update(d_wikipedia_with_scores['country'].map(wikipedia_country_to_population_map))"
   ]
  },
  {
   "cell_type": "markdown",
   "metadata": {},
   "source": [
    "And then we need to re-merge the population data. (This is duplication and not DRY. It's only one line, so I won't worry about it here.)"
   ]
  },
  {
   "cell_type": "code",
   "execution_count": 35,
   "metadata": {},
   "outputs": [
    {
     "data": {
      "text/plain": [
       "(46720, 6)"
      ]
     },
     "execution_count": 35,
     "metadata": {},
     "output_type": "execute_result"
    }
   ],
   "source": [
    "d_all = pd.merge(left=d_wikipedia_with_scores, right=d_population[['Location','Data']],\n",
    "                 how='outer', left_on='country', right_on='Location')\n",
    "d_all.shape"
   ]
  },
  {
   "cell_type": "code",
   "execution_count": 36,
   "metadata": {},
   "outputs": [
    {
     "data": {
      "text/plain": [
       "Cook Island                         67\n",
       "Jersey                              61\n",
       "Saint Lucian                        47\n",
       "Pitcairn Islands                    43\n",
       "Chechen                             38\n",
       "East Timorese                       36\n",
       "Saint Kitts and Nevis               30\n",
       "Montserratian                       27\n",
       "Guernsey                            25\n",
       "Omani                               24\n",
       "Niuean                              22\n",
       "Carniolan                           22\n",
       "Saint Vincent and the Grenadines    21\n",
       "Palauan                             21\n",
       "South Ossetian                      18\n",
       "Tokelauan                           17\n",
       "Abkhazia                            16\n",
       "South African Republic              15\n",
       "Greenlandic                         13\n",
       "Ossetian                             9\n",
       "Dagestani                            7\n",
       "Incan                                7\n",
       "Somaliland                           4\n",
       "Rojava                               2\n",
       "Name: country, dtype: int64"
      ]
     },
     "execution_count": 36,
     "metadata": {},
     "output_type": "execute_result"
    }
   ],
   "source": [
    "d_all[d_all['Location'].isnull()]['country'].value_counts(dropna=False)"
   ]
  },
  {
   "cell_type": "code",
   "execution_count": 37,
   "metadata": {},
   "outputs": [
    {
     "data": {
      "text/plain": [
       "Brunei                          1\n",
       "New Caledonia                   1\n",
       "Reunion                         1\n",
       "French Polynesia                1\n",
       "St. Kitts-Nevis                 1\n",
       "Oman                            1\n",
       "Curacao                         1\n",
       "St. Vincent & the Grenadines    1\n",
       "Western Sahara                  1\n",
       "Macao, SAR                      1\n",
       "Georgia                         1\n",
       "Guam                            1\n",
       "Channel Islands                 1\n",
       "St. Lucia                       1\n",
       "Puerto Rico                     1\n",
       "Timor-Leste                     1\n",
       "Mayotte                         1\n",
       "Hong Kong, SAR                  1\n",
       "Palau                           1\n",
       "Name: Location, dtype: int64"
      ]
     },
     "execution_count": 37,
     "metadata": {},
     "output_type": "execute_result"
    }
   ],
   "source": [
    "d_all[d_all['country'].isnull()]['Location'].value_counts(dropna=False)"
   ]
  },
  {
   "cell_type": "code",
   "execution_count": 38,
   "metadata": {},
   "outputs": [
    {
     "data": {
      "text/html": [
       "<div>\n",
       "<style>\n",
       "    .dataframe thead tr:only-child th {\n",
       "        text-align: right;\n",
       "    }\n",
       "\n",
       "    .dataframe thead th {\n",
       "        text-align: left;\n",
       "    }\n",
       "\n",
       "    .dataframe tbody tr th {\n",
       "        vertical-align: top;\n",
       "    }\n",
       "</style>\n",
       "<table border=\"1\" class=\"dataframe\">\n",
       "  <thead>\n",
       "    <tr style=\"text-align: right;\">\n",
       "      <th></th>\n",
       "      <th>page</th>\n",
       "      <th>country</th>\n",
       "      <th>rev_id</th>\n",
       "      <th>Score</th>\n",
       "      <th>Location</th>\n",
       "      <th>Data</th>\n",
       "    </tr>\n",
       "  </thead>\n",
       "  <tbody>\n",
       "    <tr>\n",
       "      <th>0</th>\n",
       "      <td>Bir I of Kanem</td>\n",
       "      <td>Chad</td>\n",
       "      <td>355319463.0</td>\n",
       "      <td>Stub</td>\n",
       "      <td>Chad</td>\n",
       "      <td>13707000.0</td>\n",
       "    </tr>\n",
       "    <tr>\n",
       "      <th>1</th>\n",
       "      <td>Abdullah II of Kanem</td>\n",
       "      <td>Chad</td>\n",
       "      <td>498683267.0</td>\n",
       "      <td>Stub</td>\n",
       "      <td>Chad</td>\n",
       "      <td>13707000.0</td>\n",
       "    </tr>\n",
       "    <tr>\n",
       "      <th>2</th>\n",
       "      <td>Salmama II of Kanem</td>\n",
       "      <td>Chad</td>\n",
       "      <td>565745353.0</td>\n",
       "      <td>Stub</td>\n",
       "      <td>Chad</td>\n",
       "      <td>13707000.0</td>\n",
       "    </tr>\n",
       "  </tbody>\n",
       "</table>\n",
       "</div>"
      ],
      "text/plain": [
       "                   page country       rev_id Score Location        Data\n",
       "0        Bir I of Kanem    Chad  355319463.0  Stub     Chad  13707000.0\n",
       "1  Abdullah II of Kanem    Chad  498683267.0  Stub     Chad  13707000.0\n",
       "2   Salmama II of Kanem    Chad  565745353.0  Stub     Chad  13707000.0"
      ]
     },
     "execution_count": 38,
     "metadata": {},
     "output_type": "execute_result"
    }
   ],
   "source": [
    "d_all[:3]"
   ]
  },
  {
   "cell_type": "markdown",
   "metadata": {},
   "source": [
    "Finally, now that we've added in the additional remappings here, rows that still have a NaN 'Location' value are rows for which we have no population data and, per the assignment, we can get rid of them."
   ]
  },
  {
   "cell_type": "code",
   "execution_count": 39,
   "metadata": {},
   "outputs": [
    {
     "data": {
      "text/plain": [
       "(46720, 6)"
      ]
     },
     "execution_count": 39,
     "metadata": {},
     "output_type": "execute_result"
    }
   ],
   "source": [
    "d_all.shape"
   ]
  },
  {
   "cell_type": "code",
   "execution_count": 40,
   "metadata": {},
   "outputs": [
    {
     "data": {
      "text/plain": [
       "592"
      ]
     },
     "execution_count": 40,
     "metadata": {},
     "output_type": "execute_result"
    }
   ],
   "source": [
    "sum(d_all['Location'].isnull())"
   ]
  },
  {
   "cell_type": "code",
   "execution_count": 41,
   "metadata": {},
   "outputs": [
    {
     "data": {
      "text/plain": [
       "(46128, 6)"
      ]
     },
     "execution_count": 41,
     "metadata": {},
     "output_type": "execute_result"
    }
   ],
   "source": [
    "d_all.dropna(subset=['Location'], inplace=True)\n",
    "d_all.shape"
   ]
  },
  {
   "cell_type": "markdown",
   "metadata": {},
   "source": [
    "Since we did an outer join above so we could understand data without matches on both sides of the join, we also need to drop the rows with location/population data but with no matching articles. These rows have nulls for the page data fields - for page, country, rev_id, and Score."
   ]
  },
  {
   "cell_type": "code",
   "execution_count": 42,
   "metadata": {},
   "outputs": [
    {
     "data": {
      "text/plain": [
       "(46109, 6)"
      ]
     },
     "execution_count": 42,
     "metadata": {},
     "output_type": "execute_result"
    }
   ],
   "source": [
    "d_all.dropna(subset=['page', 'country', 'rev_id', 'Score'], how='all', inplace=True)\n",
    "d_all.shape"
   ]
  },
  {
   "cell_type": "markdown",
   "metadata": {},
   "source": [
    "And we'll also get rid of any rows where we don't have score data - these can come from, for example as noted above, cases where the actual page has been deleted on Wikipedia."
   ]
  },
  {
   "cell_type": "code",
   "execution_count": 43,
   "metadata": {},
   "outputs": [
    {
     "data": {
      "text/html": [
       "<div>\n",
       "<style>\n",
       "    .dataframe thead tr:only-child th {\n",
       "        text-align: right;\n",
       "    }\n",
       "\n",
       "    .dataframe thead th {\n",
       "        text-align: left;\n",
       "    }\n",
       "\n",
       "    .dataframe tbody tr th {\n",
       "        vertical-align: top;\n",
       "    }\n",
       "</style>\n",
       "<table border=\"1\" class=\"dataframe\">\n",
       "  <thead>\n",
       "    <tr style=\"text-align: right;\">\n",
       "      <th></th>\n",
       "      <th>page</th>\n",
       "      <th>country</th>\n",
       "      <th>rev_id</th>\n",
       "      <th>Score</th>\n",
       "      <th>Location</th>\n",
       "      <th>Data</th>\n",
       "    </tr>\n",
       "  </thead>\n",
       "  <tbody>\n",
       "    <tr>\n",
       "      <th>9352</th>\n",
       "      <td>Jalal Movaghar</td>\n",
       "      <td>Iran</td>\n",
       "      <td>807367030.0</td>\n",
       "      <td>NaN</td>\n",
       "      <td>Iran</td>\n",
       "      <td>78483446.0</td>\n",
       "    </tr>\n",
       "    <tr>\n",
       "      <th>9353</th>\n",
       "      <td>Mohsen Movaghar</td>\n",
       "      <td>Iran</td>\n",
       "      <td>807367166.0</td>\n",
       "      <td>NaN</td>\n",
       "      <td>Iran</td>\n",
       "      <td>78483446.0</td>\n",
       "    </tr>\n",
       "  </tbody>\n",
       "</table>\n",
       "</div>"
      ],
      "text/plain": [
       "                 page country       rev_id Score Location        Data\n",
       "9352   Jalal Movaghar    Iran  807367030.0   NaN     Iran  78483446.0\n",
       "9353  Mohsen Movaghar    Iran  807367166.0   NaN     Iran  78483446.0"
      ]
     },
     "execution_count": 43,
     "metadata": {},
     "output_type": "execute_result"
    }
   ],
   "source": [
    "d_all[d_all['Score'].isnull()]"
   ]
  },
  {
   "cell_type": "code",
   "execution_count": 44,
   "metadata": {},
   "outputs": [
    {
     "data": {
      "text/plain": [
       "(46107, 6)"
      ]
     },
     "execution_count": 44,
     "metadata": {},
     "output_type": "execute_result"
    }
   ],
   "source": [
    "d_all.dropna(subset=['Score'], inplace=True)\n",
    "d_all.shape"
   ]
  },
  {
   "cell_type": "markdown",
   "metadata": {},
   "source": [
    "And finally, I'll rename columns to match assignment instructions and drop the extra join column."
   ]
  },
  {
   "cell_type": "code",
   "execution_count": 45,
   "metadata": {},
   "outputs": [
    {
     "data": {
      "text/html": [
       "<div>\n",
       "<style>\n",
       "    .dataframe thead tr:only-child th {\n",
       "        text-align: right;\n",
       "    }\n",
       "\n",
       "    .dataframe thead th {\n",
       "        text-align: left;\n",
       "    }\n",
       "\n",
       "    .dataframe tbody tr th {\n",
       "        vertical-align: top;\n",
       "    }\n",
       "</style>\n",
       "<table border=\"1\" class=\"dataframe\">\n",
       "  <thead>\n",
       "    <tr style=\"text-align: right;\">\n",
       "      <th></th>\n",
       "      <th>article_name</th>\n",
       "      <th>country</th>\n",
       "      <th>revision_id</th>\n",
       "      <th>article_quality</th>\n",
       "      <th>population</th>\n",
       "    </tr>\n",
       "  </thead>\n",
       "  <tbody>\n",
       "    <tr>\n",
       "      <th>0</th>\n",
       "      <td>Bir I of Kanem</td>\n",
       "      <td>Chad</td>\n",
       "      <td>355319463.0</td>\n",
       "      <td>Stub</td>\n",
       "      <td>13707000.0</td>\n",
       "    </tr>\n",
       "    <tr>\n",
       "      <th>1</th>\n",
       "      <td>Abdullah II of Kanem</td>\n",
       "      <td>Chad</td>\n",
       "      <td>498683267.0</td>\n",
       "      <td>Stub</td>\n",
       "      <td>13707000.0</td>\n",
       "    </tr>\n",
       "    <tr>\n",
       "      <th>2</th>\n",
       "      <td>Salmama II of Kanem</td>\n",
       "      <td>Chad</td>\n",
       "      <td>565745353.0</td>\n",
       "      <td>Stub</td>\n",
       "      <td>13707000.0</td>\n",
       "    </tr>\n",
       "  </tbody>\n",
       "</table>\n",
       "</div>"
      ],
      "text/plain": [
       "           article_name country  revision_id article_quality  population\n",
       "0        Bir I of Kanem    Chad  355319463.0            Stub  13707000.0\n",
       "1  Abdullah II of Kanem    Chad  498683267.0            Stub  13707000.0\n",
       "2   Salmama II of Kanem    Chad  565745353.0            Stub  13707000.0"
      ]
     },
     "execution_count": 45,
     "metadata": {},
     "output_type": "execute_result"
    }
   ],
   "source": [
    "del d_all['Location']\n",
    "d_all.rename(columns={'page':'article_name',\n",
    "                      'rev_id':'revision_id',\n",
    "                      'Score':'article_quality',\n",
    "                      'Data':'population'}, inplace=True)\n",
    "d_all[:3]"
   ]
  },
  {
   "cell_type": "markdown",
   "metadata": {},
   "source": [
    "# Analysis"
   ]
  },
  {
   "cell_type": "markdown",
   "metadata": {},
   "source": [
    "## Articles per person"
   ]
  },
  {
   "cell_type": "code",
   "execution_count": 143,
   "metadata": {},
   "outputs": [
    {
     "data": {
      "text/plain": [
       "country\n",
       "Afghanistan   0.00000999\n",
       "Albania       0.00015802\n",
       "Algeria       0.00000290\n",
       "dtype: float64"
      ]
     },
     "execution_count": 143,
     "metadata": {},
     "output_type": "execute_result"
    }
   ],
   "source": [
    "articles_per_person = d_all.groupby(['country']).apply(lambda g: len(g) / g.iloc[0]['population'])\n",
    "articles_per_person[:3]"
   ]
  },
  {
   "cell_type": "code",
   "execution_count": 147,
   "metadata": {
    "collapsed": true
   },
   "outputs": [],
   "source": [
    "# we want to display the full list, and to not use scientific notation\n",
    "pd.options.display.max_rows = 250\n",
    "pd.options.display.float_format = '{:.8f}'.format"
   ]
  },
  {
   "cell_type": "markdown",
   "metadata": {},
   "source": [
    "### Countries with the most articles per person"
   ]
  },
  {
   "cell_type": "code",
   "execution_count": 148,
   "metadata": {
    "scrolled": false
   },
   "outputs": [
    {
     "data": {
      "text/plain": [
       "country\n",
       "Nauru                            0.00478821\n",
       "Tuvalu                           0.00457627\n",
       "San Marino                       0.00245455\n",
       "Monaco                           0.00105020\n",
       "Liechtenstein                    0.00074528\n",
       "Marshall Islands                 0.00067273\n",
       "Iceland                          0.00061059\n",
       "Tonga                            0.00060987\n",
       "Andorra                          0.00043590\n",
       "Samoa                            0.00039133\n",
       "Federated States of Micronesia   0.00034951\n",
       "Grenada                          0.00032432\n",
       "Luxembourg                       0.00031272\n",
       "Antigua and Barbuda              0.00026667\n",
       "Kiribati                         0.00026455\n",
       "Maldives                         0.00023923\n",
       "Malta                            0.00023871\n",
       "Fiji                             0.00022837\n",
       "Seychelles                       0.00022621\n",
       "Vanuatu                          0.00021622\n",
       "Dominica                         0.00017647\n",
       "New Zealand                      0.00017051\n",
       "Albania                          0.00015802\n",
       "Solomon Islands                  0.00015111\n",
       "Norway                           0.00012629\n",
       "Guadeloupe                       0.00012039\n",
       "Montenegro                       0.00011568\n",
       "Estonia                          0.00011370\n",
       "French Guiana                    0.00010757\n",
       "Sao Tome and Principe            0.00010738\n",
       "Finland                          0.00010409\n",
       "Moldova                          0.00010319\n",
       "Martinique                       0.00008971\n",
       "Cyprus                           0.00008500\n",
       "Lithuania                        0.00008381\n",
       "Ireland                          0.00008164\n",
       "Uruguay                          0.00008029\n",
       "Cape Verde                       0.00007198\n",
       "Suriname                         0.00006944\n",
       "Comoros                          0.00006675\n",
       "Australia                        0.00006535\n",
       "Namibia                          0.00006527\n",
       "Armenia                          0.00006496\n",
       "Denmark                          0.00006360\n",
       "Hungary                          0.00006212\n",
       "Israel                           0.00005910\n",
       "Gabon                            0.00005597\n",
       "Bahamas                          0.00005305\n",
       "Mauritius                        0.00005148\n",
       "Barbados                         0.00005036\n",
       "Switzerland                      0.00004860\n",
       "Bosnia-Herzegovina               0.00004685\n",
       "Belgium                          0.00004638\n",
       "Bhutan                           0.00004359\n",
       "Belize                           0.00004348\n",
       "Netherlands                      0.00004132\n",
       "Djibouti                         0.00004111\n",
       "Gambia                           0.00004056\n",
       "Palestinian Territory            0.00003994\n",
       "Austria                          0.00003900\n",
       "Croatia                          0.00003891\n",
       "Sweden                           0.00003835\n",
       "Equatorial Guinea                0.00003727\n",
       "Liberia                          0.00003442\n",
       "Macedonia                        0.00003140\n",
       "Bulgaria                         0.00003105\n",
       "Portugal                         0.00003092\n",
       "Congo                            0.00003091\n",
       "Botswana                         0.00003084\n",
       "Serbia                           0.00003058\n",
       "Costa Rica                       0.00003042\n",
       "Mongolia                         0.00003037\n",
       "Lebanon                          0.00003007\n",
       "Jamaica                          0.00003007\n",
       "Somalia                          0.00003003\n",
       "Bahrain                          0.00002974\n",
       "Latvia                           0.00002830\n",
       "Panama                           0.00002714\n",
       "Slovenia                         0.00002713\n",
       "Guyana                           0.00002692\n",
       "Greece                           0.00002673\n",
       "France                           0.00002612\n",
       "Kosovo                           0.00002553\n",
       "Sierra Leone                     0.00002507\n",
       "Swaziland                        0.00002411\n",
       "Czech Republic                   0.00002379\n",
       "Canada                           0.00002367\n",
       "Honduras                         0.00002242\n",
       "Sri Lanka                        0.00002209\n",
       "Slovakia                         0.00002139\n",
       "Taiwan                           0.00002131\n",
       "Poland                           0.00002092\n",
       "Qatar                            0.00002088\n",
       "Paraguay                         0.00002080\n",
       "Trinidad and Tobago              0.00002073\n",
       "Papua New Guinea                 0.00002066\n",
       "Chile                            0.00001931\n",
       "Spain                            0.00001889\n",
       "Azerbaijan                       0.00001855\n",
       "El Salvador                      0.00001822\n",
       "Nicaragua                        0.00001821\n",
       "Bolivia                          0.00001747\n",
       "Libya                            0.00001741\n",
       "Romania                          0.00001729\n",
       "Laos                             0.00001550\n",
       "Cuba                             0.00001544\n",
       "Lesotho                          0.00001507\n",
       "Haiti                            0.00001483\n",
       "United Kingdom                   0.00001450\n",
       "Ghana                            0.00001420\n",
       "Zimbabwe                         0.00001383\n",
       "Cambodia                         0.00001382\n",
       "Italy                            0.00001319\n",
       "Mauritania                       0.00001318\n",
       "Nepal                            0.00001287\n",
       "Malaysia                         0.00001263\n",
       "Tunisia                          0.00001252\n",
       "Singapore                        0.00001245\n",
       "Central African Republic         0.00001189\n",
       "Kyrgyzstan                       0.00001176\n",
       "Argentina                        0.00001157\n",
       "Ecuador                          0.00001124\n",
       "Peru                             0.00001124\n",
       "Guinea-Bissau                    0.00001119\n",
       "South Sudan                      0.00001086\n",
       "Iran                             0.00001046\n",
       "Madagascar                       0.00001028\n",
       "Afghanistan                      0.00000999\n",
       "Kuwait                           0.00000964\n",
       "Rwanda                           0.00000918\n",
       "Togo                             0.00000899\n",
       "Benin                            0.00000860\n",
       "Germany                          0.00000852\n",
       "Kenya                            0.00000849\n",
       "Mexico                           0.00000848\n",
       "Iraq                             0.00000804\n",
       "Guinea                           0.00000792\n",
       "Tanzania                         0.00000775\n",
       "Belarus                          0.00000756\n",
       "Syria                            0.00000756\n",
       "Korea, South                     0.00000739\n",
       "Malawi                           0.00000710\n",
       "Chad                             0.00000708\n",
       "Ukraine                          0.00000700\n",
       "Burundi                          0.00000698\n",
       "South Africa                     0.00000687\n",
       "Mali                             0.00000675\n",
       "United Arab Emirates             0.00000616\n",
       "Dominican Republic               0.00000609\n",
       "Russia                           0.00000608\n",
       "Morocco                          0.00000604\n",
       "Turkmenistan                     0.00000596\n",
       "Jordan                           0.00000591\n",
       "Colombia                         0.00000591\n",
       "Pakistan                         0.00000522\n",
       "Burkina Faso                     0.00000515\n",
       "Guatemala                        0.00000513\n",
       "Philippines                      0.00000494\n",
       "Tajikistan                       0.00000461\n",
       "Uganda                           0.00000461\n",
       "Myanmar                          0.00000454\n",
       "Turkey                           0.00000445\n",
       "Kazakhstan                       0.00000445\n",
       "Yemen                            0.00000441\n",
       "Cameroon                         0.00000438\n",
       "Venezuela                        0.00000428\n",
       "Angola                           0.00000424\n",
       "Niger                            0.00000402\n",
       "Saudi Arabia                     0.00000374\n",
       "Nigeria                          0.00000373\n",
       "Japan                            0.00000344\n",
       "United States                    0.00000340\n",
       "Cote d'Ivoire                    0.00000314\n",
       "Eritrea                          0.00000308\n",
       "Algeria                          0.00000290\n",
       "Senegal                          0.00000286\n",
       "Brazil                           0.00000270\n",
       "Egypt                            0.00000266\n",
       "Sudan                            0.00000232\n",
       "Mozambique                       0.00000225\n",
       "Vietnam                          0.00000204\n",
       "Bangladesh                       0.00000200\n",
       "Congo, Dem. Rep. of              0.00000194\n",
       "Thailand                         0.00000172\n",
       "Zambia                           0.00000162\n",
       "Korea, North                     0.00000144\n",
       "Ethiopia                         0.00000103\n",
       "Uzbekistan                       0.00000089\n",
       "China                            0.00000083\n",
       "Indonesia                        0.00000083\n",
       "India                            0.00000075\n",
       "dtype: float64"
      ]
     },
     "execution_count": 148,
     "metadata": {},
     "output_type": "execute_result"
    }
   ],
   "source": [
    "articles_per_person.sort_values(ascending=False)"
   ]
  },
  {
   "cell_type": "markdown",
   "metadata": {},
   "source": [
    "### Countries with the fewest articles per person"
   ]
  },
  {
   "cell_type": "code",
   "execution_count": 156,
   "metadata": {
    "scrolled": false
   },
   "outputs": [
    {
     "data": {
      "text/plain": [
       "country\n",
       "India                            0.00000075\n",
       "Indonesia                        0.00000083\n",
       "China                            0.00000083\n",
       "Uzbekistan                       0.00000089\n",
       "Ethiopia                         0.00000103\n",
       "Korea, North                     0.00000144\n",
       "Zambia                           0.00000162\n",
       "Thailand                         0.00000172\n",
       "Congo, Dem. Rep. of              0.00000194\n",
       "Bangladesh                       0.00000200\n",
       "Vietnam                          0.00000204\n",
       "Mozambique                       0.00000225\n",
       "Sudan                            0.00000232\n",
       "Egypt                            0.00000266\n",
       "Brazil                           0.00000270\n",
       "Senegal                          0.00000286\n",
       "Algeria                          0.00000290\n",
       "Eritrea                          0.00000308\n",
       "Cote d'Ivoire                    0.00000314\n",
       "United States                    0.00000340\n",
       "Japan                            0.00000344\n",
       "Nigeria                          0.00000373\n",
       "Saudi Arabia                     0.00000374\n",
       "Niger                            0.00000402\n",
       "Angola                           0.00000424\n",
       "Venezuela                        0.00000428\n",
       "Cameroon                         0.00000438\n",
       "Yemen                            0.00000441\n",
       "Kazakhstan                       0.00000445\n",
       "Turkey                           0.00000445\n",
       "Myanmar                          0.00000454\n",
       "Uganda                           0.00000461\n",
       "Tajikistan                       0.00000461\n",
       "Philippines                      0.00000494\n",
       "Guatemala                        0.00000513\n",
       "Burkina Faso                     0.00000515\n",
       "Pakistan                         0.00000522\n",
       "Colombia                         0.00000591\n",
       "Jordan                           0.00000591\n",
       "Turkmenistan                     0.00000596\n",
       "Morocco                          0.00000604\n",
       "Russia                           0.00000608\n",
       "Dominican Republic               0.00000609\n",
       "United Arab Emirates             0.00000616\n",
       "Mali                             0.00000675\n",
       "South Africa                     0.00000687\n",
       "Burundi                          0.00000698\n",
       "Ukraine                          0.00000700\n",
       "Chad                             0.00000708\n",
       "Malawi                           0.00000710\n",
       "Korea, South                     0.00000739\n",
       "Syria                            0.00000756\n",
       "Belarus                          0.00000756\n",
       "Tanzania                         0.00000775\n",
       "Guinea                           0.00000792\n",
       "Iraq                             0.00000804\n",
       "Mexico                           0.00000848\n",
       "Kenya                            0.00000849\n",
       "Germany                          0.00000852\n",
       "Benin                            0.00000860\n",
       "Togo                             0.00000899\n",
       "Rwanda                           0.00000918\n",
       "Kuwait                           0.00000964\n",
       "Afghanistan                      0.00000999\n",
       "Madagascar                       0.00001028\n",
       "Iran                             0.00001046\n",
       "South Sudan                      0.00001086\n",
       "Guinea-Bissau                    0.00001119\n",
       "Peru                             0.00001124\n",
       "Ecuador                          0.00001124\n",
       "Argentina                        0.00001157\n",
       "Kyrgyzstan                       0.00001176\n",
       "Central African Republic         0.00001189\n",
       "Singapore                        0.00001245\n",
       "Tunisia                          0.00001252\n",
       "Malaysia                         0.00001263\n",
       "Nepal                            0.00001287\n",
       "Mauritania                       0.00001318\n",
       "Italy                            0.00001319\n",
       "Cambodia                         0.00001382\n",
       "Zimbabwe                         0.00001383\n",
       "Ghana                            0.00001420\n",
       "United Kingdom                   0.00001450\n",
       "Haiti                            0.00001483\n",
       "Lesotho                          0.00001507\n",
       "Cuba                             0.00001544\n",
       "Laos                             0.00001550\n",
       "Romania                          0.00001729\n",
       "Libya                            0.00001741\n",
       "Bolivia                          0.00001747\n",
       "Nicaragua                        0.00001821\n",
       "El Salvador                      0.00001822\n",
       "Azerbaijan                       0.00001855\n",
       "Spain                            0.00001889\n",
       "Chile                            0.00001931\n",
       "Papua New Guinea                 0.00002066\n",
       "Trinidad and Tobago              0.00002073\n",
       "Paraguay                         0.00002080\n",
       "Qatar                            0.00002088\n",
       "Poland                           0.00002092\n",
       "Taiwan                           0.00002131\n",
       "Slovakia                         0.00002139\n",
       "Sri Lanka                        0.00002209\n",
       "Honduras                         0.00002242\n",
       "Canada                           0.00002367\n",
       "Czech Republic                   0.00002379\n",
       "Swaziland                        0.00002411\n",
       "Sierra Leone                     0.00002507\n",
       "Kosovo                           0.00002553\n",
       "France                           0.00002612\n",
       "Greece                           0.00002673\n",
       "Guyana                           0.00002692\n",
       "Slovenia                         0.00002713\n",
       "Panama                           0.00002714\n",
       "Latvia                           0.00002830\n",
       "Bahrain                          0.00002974\n",
       "Somalia                          0.00003003\n",
       "Jamaica                          0.00003007\n",
       "Lebanon                          0.00003007\n",
       "Mongolia                         0.00003037\n",
       "Costa Rica                       0.00003042\n",
       "Serbia                           0.00003058\n",
       "Botswana                         0.00003084\n",
       "Congo                            0.00003091\n",
       "Portugal                         0.00003092\n",
       "Bulgaria                         0.00003105\n",
       "Macedonia                        0.00003140\n",
       "Liberia                          0.00003442\n",
       "Equatorial Guinea                0.00003727\n",
       "Sweden                           0.00003835\n",
       "Croatia                          0.00003891\n",
       "Austria                          0.00003900\n",
       "Palestinian Territory            0.00003994\n",
       "Gambia                           0.00004056\n",
       "Djibouti                         0.00004111\n",
       "Netherlands                      0.00004132\n",
       "Belize                           0.00004348\n",
       "Bhutan                           0.00004359\n",
       "Belgium                          0.00004638\n",
       "Bosnia-Herzegovina               0.00004685\n",
       "Switzerland                      0.00004860\n",
       "Barbados                         0.00005036\n",
       "Mauritius                        0.00005148\n",
       "Bahamas                          0.00005305\n",
       "Gabon                            0.00005597\n",
       "Israel                           0.00005910\n",
       "Hungary                          0.00006212\n",
       "Denmark                          0.00006360\n",
       "Armenia                          0.00006496\n",
       "Namibia                          0.00006527\n",
       "Australia                        0.00006535\n",
       "Comoros                          0.00006675\n",
       "Suriname                         0.00006944\n",
       "Cape Verde                       0.00007198\n",
       "Uruguay                          0.00008029\n",
       "Ireland                          0.00008164\n",
       "Lithuania                        0.00008381\n",
       "Cyprus                           0.00008500\n",
       "Martinique                       0.00008971\n",
       "Moldova                          0.00010319\n",
       "Finland                          0.00010409\n",
       "Sao Tome and Principe            0.00010738\n",
       "French Guiana                    0.00010757\n",
       "Estonia                          0.00011370\n",
       "Montenegro                       0.00011568\n",
       "Guadeloupe                       0.00012039\n",
       "Norway                           0.00012629\n",
       "Solomon Islands                  0.00015111\n",
       "Albania                          0.00015802\n",
       "New Zealand                      0.00017051\n",
       "Dominica                         0.00017647\n",
       "Vanuatu                          0.00021622\n",
       "Seychelles                       0.00022621\n",
       "Fiji                             0.00022837\n",
       "Malta                            0.00023871\n",
       "Maldives                         0.00023923\n",
       "Kiribati                         0.00026455\n",
       "Antigua and Barbuda              0.00026667\n",
       "Luxembourg                       0.00031272\n",
       "Grenada                          0.00032432\n",
       "Federated States of Micronesia   0.00034951\n",
       "Samoa                            0.00039133\n",
       "Andorra                          0.00043590\n",
       "Tonga                            0.00060987\n",
       "Iceland                          0.00061059\n",
       "Marshall Islands                 0.00067273\n",
       "Liechtenstein                    0.00074528\n",
       "Monaco                           0.00105020\n",
       "San Marino                       0.00245455\n",
       "Tuvalu                           0.00457627\n",
       "Nauru                            0.00478821\n",
       "dtype: float64"
      ]
     },
     "execution_count": 156,
     "metadata": {},
     "output_type": "execute_result"
    }
   ],
   "source": [
    "articles_per_person.sort_values()"
   ]
  },
  {
   "cell_type": "markdown",
   "metadata": {},
   "source": [
    "## High quality articles per all articles"
   ]
  },
  {
   "cell_type": "code",
   "execution_count": 157,
   "metadata": {
    "collapsed": true
   },
   "outputs": [],
   "source": [
    "def is_high_quality(score):\n",
    "    if (score == 'FA') | (score == 'GA'):\n",
    "        return True\n",
    "    else:\n",
    "        return False"
   ]
  },
  {
   "cell_type": "code",
   "execution_count": 158,
   "metadata": {},
   "outputs": [
    {
     "data": {
      "text/plain": [
       "Stub     23456\n",
       "Start    15103\n",
       "C         5685\n",
       "GA         862\n",
       "B          722\n",
       "FA         279\n",
       "Name: article_quality, dtype: int64"
      ]
     },
     "execution_count": 158,
     "metadata": {},
     "output_type": "execute_result"
    }
   ],
   "source": [
    "d_all['article_quality'].value_counts(dropna=False)"
   ]
  },
  {
   "cell_type": "code",
   "execution_count": 159,
   "metadata": {},
   "outputs": [
    {
     "data": {
      "text/plain": [
       "False    44966\n",
       "True      1141\n",
       "Name: article_quality, dtype: int64"
      ]
     },
     "execution_count": 159,
     "metadata": {},
     "output_type": "execute_result"
    }
   ],
   "source": [
    "(d_all['article_quality'].apply(is_high_quality)).value_counts(dropna=False)"
   ]
  },
  {
   "cell_type": "code",
   "execution_count": 160,
   "metadata": {},
   "outputs": [
    {
     "data": {
      "text/plain": [
       "country\n",
       "Afghanistan   0.05900621\n",
       "Albania       0.01094092\n",
       "Algeria       0.02586207\n",
       "dtype: float64"
      ]
     },
     "execution_count": 160,
     "metadata": {},
     "output_type": "execute_result"
    }
   ],
   "source": [
    "# define this instead of using a lambda, like above, so we can keep the lines around 80 chars wide\n",
    "# a lambda would be fine as the actual function is still pretty short/a single liner\n",
    "def get_high_quality_article_proportion(articles):\n",
    "    return sum(articles['article_quality'].apply(is_high_quality)) / len(articles)\n",
    "\n",
    "high_quality_articles_per_all_articles = d_all.groupby(['country']).apply(get_high_quality_article_proportion)\n",
    "high_quality_articles_per_all_articles[:3]"
   ]
  },
  {
   "cell_type": "markdown",
   "metadata": {},
   "source": [
    "## Countries with the most high quality articles per all articles"
   ]
  },
  {
   "cell_type": "code",
   "execution_count": 161,
   "metadata": {
    "scrolled": false
   },
   "outputs": [
    {
     "data": {
      "text/plain": [
       "country\n",
       "Korea, North                     0.25000000\n",
       "Romania                          0.13119534\n",
       "Saudi Arabia                     0.12711864\n",
       "Central African Republic         0.12121212\n",
       "Guinea-Bissau                    0.10000000\n",
       "Qatar                            0.10000000\n",
       "Vietnam                          0.09625668\n",
       "Bhutan                           0.09090909\n",
       "Mauritania                       0.08333333\n",
       "Ireland                          0.08201058\n",
       "United States                    0.07875458\n",
       "Singapore                        0.07246377\n",
       "Guatemala                        0.07228916\n",
       "Uzbekistan                       0.07142857\n",
       "Palestinian Territory            0.06703911\n",
       "Benin                            0.06593407\n",
       "Syria                            0.06201550\n",
       "Gabon                            0.06122449\n",
       "United Kingdom                   0.06038136\n",
       "Afghanistan                      0.05900621\n",
       "Ukraine                          0.05666667\n",
       "Vanuatu                          0.05000000\n",
       "Congo, Dem. Rep. of              0.04929577\n",
       "Jamaica                          0.04878049\n",
       "Gambia                           0.04878049\n",
       "Spain                            0.04680365\n",
       "Egypt                            0.04641350\n",
       "Panama                           0.04629630\n",
       "Mongolia                         0.04347826\n",
       "Philippines                      0.04322200\n",
       "Indonesia                        0.04265403\n",
       "Burkina Faso                     0.04210526\n",
       "Zimbabwe                         0.04166667\n",
       "Cote d'Ivoire                    0.04109589\n",
       "Russia                           0.03990878\n",
       "Israel                           0.03838384\n",
       "Myanmar                          0.03797468\n",
       "Papua New Guinea                 0.03750000\n",
       "China                            0.03706973\n",
       "Libya                            0.03636364\n",
       "Trinidad and Tobago              0.03571429\n",
       "Bosnia-Herzegovina               0.03508772\n",
       "United Arab Emirates             0.03389831\n",
       "Equatorial Guinea                0.03333333\n",
       "Argentina                        0.03258656\n",
       "Greece                           0.03246753\n",
       "Lebanon                          0.03225806\n",
       "South Africa                     0.03174603\n",
       "Sudan                            0.03157895\n",
       "Dominican Republic               0.03125000\n",
       "Haiti                            0.03086420\n",
       "Armenia                          0.03061224\n",
       "Venezuela                        0.03053435\n",
       "Iraq                             0.03020134\n",
       "Somalia                          0.02994012\n",
       "Canada                           0.02948113\n",
       "Martinique                       0.02941176\n",
       "Australia                        0.02818706\n",
       "Cambodia                         0.02816901\n",
       "Montenegro                       0.02777778\n",
       "Grenada                          0.02777778\n",
       "Belarus                          0.02777778\n",
       "Germany                          0.02749638\n",
       "Paraguay                         0.02739726\n",
       "Kuwait                           0.02702703\n",
       "Thailand                         0.02678571\n",
       "Mali                             0.02654867\n",
       "Niger                            0.02631579\n",
       "Algeria                          0.02586207\n",
       "Madagascar                       0.02531646\n",
       "Malawi                           0.02459016\n",
       "Maldives                         0.02409639\n",
       "Senegal                          0.02380952\n",
       "Guinea                           0.02298851\n",
       "Kosovo                           0.02173913\n",
       "Jordan                           0.02083333\n",
       "Iran                             0.02070646\n",
       "Chad                             0.02061856\n",
       "Malaysia                         0.02056555\n",
       "Ethiopia                         0.01980198\n",
       "Liberia                          0.01935484\n",
       "Rwanda                           0.01923077\n",
       "Angola                           0.01886792\n",
       "Laos                             0.01869159\n",
       "Bangladesh                       0.01869159\n",
       "Korea, South                     0.01866667\n",
       "Kenya                            0.01861702\n",
       "Tuvalu                           0.01851852\n",
       "Latvia                           0.01785714\n",
       "Slovenia                         0.01785714\n",
       "France                           0.01784652\n",
       "Slovakia                         0.01724138\n",
       "Yemen                            0.01694915\n",
       "Azerbaijan                       0.01675978\n",
       "Bolivia                          0.01639344\n",
       "Ecuador                          0.01639344\n",
       "Hungary                          0.01636661\n",
       "Poland                           0.01614907\n",
       "Japan                            0.01601831\n",
       "Sweden                           0.01595745\n",
       "Togo                             0.01538462\n",
       "Mauritius                        0.01538462\n",
       "Ghana                            0.01526718\n",
       "India                            0.01522843\n",
       "Botswana                         0.01515152\n",
       "Iceland                          0.01485149\n",
       "Netherlands                      0.01428571\n",
       "Kyrgyzstan                       0.01428571\n",
       "New Zealand                      0.01403061\n",
       "Congo                            0.01360544\n",
       "Pakistan                         0.01346154\n",
       "Bulgaria                         0.01345291\n",
       "Estonia                          0.01342282\n",
       "Samoa                            0.01315789\n",
       "Sri Lanka                        0.01301518\n",
       "Portugal                         0.01250000\n",
       "Sierra Leone                     0.01226994\n",
       "Norway                           0.01219512\n",
       "Croatia                          0.01219512\n",
       "Cuba                             0.01162791\n",
       "Chile                            0.01149425\n",
       "Turkey                           0.01149425\n",
       "Albania                          0.01094092\n",
       "Colombia                         0.01052632\n",
       "Cyprus                           0.01020408\n",
       "Taiwan                           0.01000000\n",
       "Malta                            0.00970874\n",
       "Italy                            0.00970874\n",
       "Morocco                          0.00970874\n",
       "Cameroon                         0.00961538\n",
       "Serbia                           0.00921659\n",
       "Brazil                           0.00905797\n",
       "Austria                          0.00892857\n",
       "Nicaragua                        0.00877193\n",
       "El Salvador                      0.00862069\n",
       "Denmark                          0.00831025\n",
       "South Sudan                      0.00757576\n",
       "Uruguay                          0.00699301\n",
       "Costa Rica                       0.00680272\n",
       "Mexico                           0.00649954\n",
       "Namibia                          0.00617284\n",
       "Nigeria                          0.00589102\n",
       "Luxembourg                       0.00561798\n",
       "Uganda                           0.00540541\n",
       "Fiji                             0.00505051\n",
       "Moldova                          0.00471698\n",
       "Lithuania                        0.00409836\n",
       "Czech Republic                   0.00398406\n",
       "Peru                             0.00285714\n",
       "Tanzania                         0.00246914\n",
       "Finland                          0.00175439\n",
       "Seychelles                       0.00000000\n",
       "Belize                           0.00000000\n",
       "Belgium                          0.00000000\n",
       "Barbados                         0.00000000\n",
       "Monaco                           0.00000000\n",
       "Bahrain                          0.00000000\n",
       "Bahamas                          0.00000000\n",
       "Marshall Islands                 0.00000000\n",
       "Antigua and Barbuda              0.00000000\n",
       "Andorra                          0.00000000\n",
       "Solomon Islands                  0.00000000\n",
       "Burundi                          0.00000000\n",
       "Kiribati                         0.00000000\n",
       "Sao Tome and Principe            0.00000000\n",
       "Turkmenistan                     0.00000000\n",
       "Kazakhstan                       0.00000000\n",
       "Nepal                            0.00000000\n",
       "Nauru                            0.00000000\n",
       "Tonga                            0.00000000\n",
       "Honduras                         0.00000000\n",
       "Guyana                           0.00000000\n",
       "Switzerland                      0.00000000\n",
       "Zambia                           0.00000000\n",
       "Tunisia                          0.00000000\n",
       "Guadeloupe                       0.00000000\n",
       "Swaziland                        0.00000000\n",
       "French Guiana                    0.00000000\n",
       "Cape Verde                       0.00000000\n",
       "Lesotho                          0.00000000\n",
       "Tajikistan                       0.00000000\n",
       "Mozambique                       0.00000000\n",
       "Eritrea                          0.00000000\n",
       "Liechtenstein                    0.00000000\n",
       "Suriname                         0.00000000\n",
       "Dominica                         0.00000000\n",
       "Djibouti                         0.00000000\n",
       "Comoros                          0.00000000\n",
       "Macedonia                        0.00000000\n",
       "San Marino                       0.00000000\n",
       "Federated States of Micronesia   0.00000000\n",
       "dtype: float64"
      ]
     },
     "execution_count": 161,
     "metadata": {},
     "output_type": "execute_result"
    }
   ],
   "source": [
    "high_quality_articles_per_all_articles.sort_values(ascending=False)"
   ]
  },
  {
   "cell_type": "markdown",
   "metadata": {},
   "source": [
    "## Countries with the fewest high quality articles per all articles"
   ]
  },
  {
   "cell_type": "code",
   "execution_count": 162,
   "metadata": {
    "scrolled": false
   },
   "outputs": [
    {
     "data": {
      "text/plain": [
       "country\n",
       "Federated States of Micronesia   0.00000000\n",
       "San Marino                       0.00000000\n",
       "Macedonia                        0.00000000\n",
       "Comoros                          0.00000000\n",
       "Djibouti                         0.00000000\n",
       "Dominica                         0.00000000\n",
       "Suriname                         0.00000000\n",
       "Liechtenstein                    0.00000000\n",
       "Eritrea                          0.00000000\n",
       "Mozambique                       0.00000000\n",
       "Tajikistan                       0.00000000\n",
       "Lesotho                          0.00000000\n",
       "Cape Verde                       0.00000000\n",
       "French Guiana                    0.00000000\n",
       "Swaziland                        0.00000000\n",
       "Guadeloupe                       0.00000000\n",
       "Tunisia                          0.00000000\n",
       "Zambia                           0.00000000\n",
       "Switzerland                      0.00000000\n",
       "Guyana                           0.00000000\n",
       "Honduras                         0.00000000\n",
       "Tonga                            0.00000000\n",
       "Nauru                            0.00000000\n",
       "Nepal                            0.00000000\n",
       "Kazakhstan                       0.00000000\n",
       "Turkmenistan                     0.00000000\n",
       "Sao Tome and Principe            0.00000000\n",
       "Kiribati                         0.00000000\n",
       "Burundi                          0.00000000\n",
       "Solomon Islands                  0.00000000\n",
       "Andorra                          0.00000000\n",
       "Antigua and Barbuda              0.00000000\n",
       "Marshall Islands                 0.00000000\n",
       "Bahamas                          0.00000000\n",
       "Bahrain                          0.00000000\n",
       "Monaco                           0.00000000\n",
       "Barbados                         0.00000000\n",
       "Belgium                          0.00000000\n",
       "Belize                           0.00000000\n",
       "Seychelles                       0.00000000\n",
       "Finland                          0.00175439\n",
       "Tanzania                         0.00246914\n",
       "Peru                             0.00285714\n",
       "Czech Republic                   0.00398406\n",
       "Lithuania                        0.00409836\n",
       "Moldova                          0.00471698\n",
       "Fiji                             0.00505051\n",
       "Uganda                           0.00540541\n",
       "Luxembourg                       0.00561798\n",
       "Nigeria                          0.00589102\n",
       "Namibia                          0.00617284\n",
       "Mexico                           0.00649954\n",
       "Costa Rica                       0.00680272\n",
       "Uruguay                          0.00699301\n",
       "South Sudan                      0.00757576\n",
       "Denmark                          0.00831025\n",
       "El Salvador                      0.00862069\n",
       "Nicaragua                        0.00877193\n",
       "Austria                          0.00892857\n",
       "Brazil                           0.00905797\n",
       "Serbia                           0.00921659\n",
       "Cameroon                         0.00961538\n",
       "Morocco                          0.00970874\n",
       "Italy                            0.00970874\n",
       "Malta                            0.00970874\n",
       "Taiwan                           0.01000000\n",
       "Cyprus                           0.01020408\n",
       "Colombia                         0.01052632\n",
       "Albania                          0.01094092\n",
       "Turkey                           0.01149425\n",
       "Chile                            0.01149425\n",
       "Cuba                             0.01162791\n",
       "Croatia                          0.01219512\n",
       "Norway                           0.01219512\n",
       "Sierra Leone                     0.01226994\n",
       "Portugal                         0.01250000\n",
       "Sri Lanka                        0.01301518\n",
       "Samoa                            0.01315789\n",
       "Estonia                          0.01342282\n",
       "Bulgaria                         0.01345291\n",
       "Pakistan                         0.01346154\n",
       "Congo                            0.01360544\n",
       "New Zealand                      0.01403061\n",
       "Kyrgyzstan                       0.01428571\n",
       "Netherlands                      0.01428571\n",
       "Iceland                          0.01485149\n",
       "Botswana                         0.01515152\n",
       "India                            0.01522843\n",
       "Ghana                            0.01526718\n",
       "Mauritius                        0.01538462\n",
       "Togo                             0.01538462\n",
       "Sweden                           0.01595745\n",
       "Japan                            0.01601831\n",
       "Poland                           0.01614907\n",
       "Hungary                          0.01636661\n",
       "Ecuador                          0.01639344\n",
       "Bolivia                          0.01639344\n",
       "Azerbaijan                       0.01675978\n",
       "Yemen                            0.01694915\n",
       "Slovakia                         0.01724138\n",
       "France                           0.01784652\n",
       "Slovenia                         0.01785714\n",
       "Latvia                           0.01785714\n",
       "Tuvalu                           0.01851852\n",
       "Kenya                            0.01861702\n",
       "Korea, South                     0.01866667\n",
       "Bangladesh                       0.01869159\n",
       "Laos                             0.01869159\n",
       "Angola                           0.01886792\n",
       "Rwanda                           0.01923077\n",
       "Liberia                          0.01935484\n",
       "Ethiopia                         0.01980198\n",
       "Malaysia                         0.02056555\n",
       "Chad                             0.02061856\n",
       "Iran                             0.02070646\n",
       "Jordan                           0.02083333\n",
       "Kosovo                           0.02173913\n",
       "Guinea                           0.02298851\n",
       "Senegal                          0.02380952\n",
       "Maldives                         0.02409639\n",
       "Malawi                           0.02459016\n",
       "Madagascar                       0.02531646\n",
       "Algeria                          0.02586207\n",
       "Niger                            0.02631579\n",
       "Mali                             0.02654867\n",
       "Thailand                         0.02678571\n",
       "Kuwait                           0.02702703\n",
       "Paraguay                         0.02739726\n",
       "Germany                          0.02749638\n",
       "Belarus                          0.02777778\n",
       "Grenada                          0.02777778\n",
       "Montenegro                       0.02777778\n",
       "Cambodia                         0.02816901\n",
       "Australia                        0.02818706\n",
       "Martinique                       0.02941176\n",
       "Canada                           0.02948113\n",
       "Somalia                          0.02994012\n",
       "Iraq                             0.03020134\n",
       "Venezuela                        0.03053435\n",
       "Armenia                          0.03061224\n",
       "Haiti                            0.03086420\n",
       "Dominican Republic               0.03125000\n",
       "Sudan                            0.03157895\n",
       "South Africa                     0.03174603\n",
       "Lebanon                          0.03225806\n",
       "Greece                           0.03246753\n",
       "Argentina                        0.03258656\n",
       "Equatorial Guinea                0.03333333\n",
       "United Arab Emirates             0.03389831\n",
       "Bosnia-Herzegovina               0.03508772\n",
       "Trinidad and Tobago              0.03571429\n",
       "Libya                            0.03636364\n",
       "China                            0.03706973\n",
       "Papua New Guinea                 0.03750000\n",
       "Myanmar                          0.03797468\n",
       "Israel                           0.03838384\n",
       "Russia                           0.03990878\n",
       "Cote d'Ivoire                    0.04109589\n",
       "Zimbabwe                         0.04166667\n",
       "Burkina Faso                     0.04210526\n",
       "Indonesia                        0.04265403\n",
       "Philippines                      0.04322200\n",
       "Mongolia                         0.04347826\n",
       "Panama                           0.04629630\n",
       "Egypt                            0.04641350\n",
       "Spain                            0.04680365\n",
       "Gambia                           0.04878049\n",
       "Jamaica                          0.04878049\n",
       "Congo, Dem. Rep. of              0.04929577\n",
       "Vanuatu                          0.05000000\n",
       "Ukraine                          0.05666667\n",
       "Afghanistan                      0.05900621\n",
       "United Kingdom                   0.06038136\n",
       "Gabon                            0.06122449\n",
       "Syria                            0.06201550\n",
       "Benin                            0.06593407\n",
       "Palestinian Territory            0.06703911\n",
       "Uzbekistan                       0.07142857\n",
       "Guatemala                        0.07228916\n",
       "Singapore                        0.07246377\n",
       "United States                    0.07875458\n",
       "Ireland                          0.08201058\n",
       "Mauritania                       0.08333333\n",
       "Bhutan                           0.09090909\n",
       "Vietnam                          0.09625668\n",
       "Qatar                            0.10000000\n",
       "Guinea-Bissau                    0.10000000\n",
       "Central African Republic         0.12121212\n",
       "Saudi Arabia                     0.12711864\n",
       "Romania                          0.13119534\n",
       "Korea, North                     0.25000000\n",
       "dtype: float64"
      ]
     },
     "execution_count": 162,
     "metadata": {},
     "output_type": "execute_result"
    }
   ],
   "source": [
    "high_quality_articles_per_all_articles.sort_values()"
   ]
  },
  {
   "cell_type": "markdown",
   "metadata": {},
   "source": [
    "## Large countries only"
   ]
  },
  {
   "cell_type": "markdown",
   "metadata": {},
   "source": [
    "**TBD** consider putting in a short description here of why small countries are more likely to be in the extreme, or refer to the explanation section where I'll describe this at least a bit more.\n",
    "\n",
    "If we filter out countries with 'smaller' populations, what do we see for the same lists? First we'll add in the population data and then we can use that to filter the lists."
   ]
  },
  {
   "cell_type": "code",
   "execution_count": 102,
   "metadata": {},
   "outputs": [
    {
     "data": {
      "text/html": [
       "<div>\n",
       "<style>\n",
       "    .dataframe thead tr:only-child th {\n",
       "        text-align: right;\n",
       "    }\n",
       "\n",
       "    .dataframe thead th {\n",
       "        text-align: left;\n",
       "    }\n",
       "\n",
       "    .dataframe tbody tr th {\n",
       "        vertical-align: top;\n",
       "    }\n",
       "</style>\n",
       "<table border=\"1\" class=\"dataframe\">\n",
       "  <thead>\n",
       "    <tr style=\"text-align: right;\">\n",
       "      <th></th>\n",
       "      <th>proportion</th>\n",
       "      <th>population</th>\n",
       "    </tr>\n",
       "  </thead>\n",
       "  <tbody>\n",
       "    <tr>\n",
       "      <th>Afghanistan</th>\n",
       "      <td>0.00000999</td>\n",
       "      <td>32247000</td>\n",
       "    </tr>\n",
       "    <tr>\n",
       "      <th>Albania</th>\n",
       "      <td>0.00015802</td>\n",
       "      <td>2892000</td>\n",
       "    </tr>\n",
       "    <tr>\n",
       "      <th>Algeria</th>\n",
       "      <td>0.00000290</td>\n",
       "      <td>39948000</td>\n",
       "    </tr>\n",
       "  </tbody>\n",
       "</table>\n",
       "</div>"
      ],
      "text/plain": [
       "             proportion  population\n",
       "Afghanistan  0.00000999    32247000\n",
       "Albania      0.00015802     2892000\n",
       "Algeria      0.00000290    39948000"
      ]
     },
     "execution_count": 102,
     "metadata": {},
     "output_type": "execute_result"
    }
   ],
   "source": [
    "articles_per_person = pd.concat([articles_per_person, \n",
    "           d_population[['Location','Data']].set_index('Location')['Data']],\n",
    "           axis=1).rename(columns={0:'proportion','Data':'population'})\n",
    "articles_per_person[:3]"
   ]
  },
  {
   "cell_type": "code",
   "execution_count": 103,
   "metadata": {},
   "outputs": [
    {
     "data": {
      "text/html": [
       "<div>\n",
       "<style>\n",
       "    .dataframe thead tr:only-child th {\n",
       "        text-align: right;\n",
       "    }\n",
       "\n",
       "    .dataframe thead th {\n",
       "        text-align: left;\n",
       "    }\n",
       "\n",
       "    .dataframe tbody tr th {\n",
       "        vertical-align: top;\n",
       "    }\n",
       "</style>\n",
       "<table border=\"1\" class=\"dataframe\">\n",
       "  <thead>\n",
       "    <tr style=\"text-align: right;\">\n",
       "      <th></th>\n",
       "      <th>proportion</th>\n",
       "      <th>population</th>\n",
       "    </tr>\n",
       "  </thead>\n",
       "  <tbody>\n",
       "    <tr>\n",
       "      <th>Afghanistan</th>\n",
       "      <td>0.05900621</td>\n",
       "      <td>32247000</td>\n",
       "    </tr>\n",
       "    <tr>\n",
       "      <th>Albania</th>\n",
       "      <td>0.01094092</td>\n",
       "      <td>2892000</td>\n",
       "    </tr>\n",
       "    <tr>\n",
       "      <th>Algeria</th>\n",
       "      <td>0.02586207</td>\n",
       "      <td>39948000</td>\n",
       "    </tr>\n",
       "  </tbody>\n",
       "</table>\n",
       "</div>"
      ],
      "text/plain": [
       "             proportion  population\n",
       "Afghanistan  0.05900621    32247000\n",
       "Albania      0.01094092     2892000\n",
       "Algeria      0.02586207    39948000"
      ]
     },
     "execution_count": 103,
     "metadata": {},
     "output_type": "execute_result"
    }
   ],
   "source": [
    "high_quality_articles_per_all_articles = pd.concat([high_quality_articles_per_all_articles, \n",
    "           d_population[['Location','Data']].set_index('Location')['Data']],\n",
    "           axis=1).rename(columns={0:'proportion','Data':'population'})\n",
    "high_quality_articles_per_all_articles[:3]"
   ]
  },
  {
   "cell_type": "markdown",
   "metadata": {},
   "source": [
    "And now we can look at the lists again, with a threshold population."
   ]
  },
  {
   "cell_type": "code",
   "execution_count": 104,
   "metadata": {
    "collapsed": true
   },
   "outputs": [],
   "source": [
    "pop_thresh = 50000000"
   ]
  },
  {
   "cell_type": "markdown",
   "metadata": {},
   "source": [
    "### Large countries, articles per person"
   ]
  },
  {
   "cell_type": "code",
   "execution_count": 105,
   "metadata": {},
   "outputs": [
    {
     "data": {
      "text/plain": [
       "France                0.00002612\n",
       "United Kingdom        0.00001450\n",
       "Italy                 0.00001319\n",
       "Iran                  0.00001046\n",
       "Germany               0.00000852\n",
       "Mexico                0.00000848\n",
       "Tanzania              0.00000775\n",
       "Korea, South          0.00000739\n",
       "South Africa          0.00000687\n",
       "Russia                0.00000608\n",
       "Pakistan              0.00000522\n",
       "Philippines           0.00000494\n",
       "Myanmar               0.00000454\n",
       "Turkey                0.00000445\n",
       "Nigeria               0.00000373\n",
       "Japan                 0.00000344\n",
       "United States         0.00000340\n",
       "Brazil                0.00000270\n",
       "Egypt                 0.00000266\n",
       "Vietnam               0.00000204\n",
       "Bangladesh            0.00000200\n",
       "Congo, Dem. Rep. of   0.00000194\n",
       "Thailand              0.00000172\n",
       "Ethiopia              0.00000103\n",
       "China                 0.00000083\n",
       "Indonesia             0.00000083\n",
       "India                 0.00000075\n",
       "Name: proportion, dtype: float64"
      ]
     },
     "execution_count": 105,
     "metadata": {},
     "output_type": "execute_result"
    }
   ],
   "source": [
    "articles_per_person[articles_per_person['population'] > pop_thresh].sort_values(by='proportion', ascending=False)['proportion']"
   ]
  },
  {
   "cell_type": "markdown",
   "metadata": {},
   "source": [
    "### Large countries, high quality articles per all articles"
   ]
  },
  {
   "cell_type": "code",
   "execution_count": 106,
   "metadata": {},
   "outputs": [
    {
     "data": {
      "text/plain": [
       "Vietnam               0.09625668\n",
       "United States         0.07875458\n",
       "United Kingdom        0.06038136\n",
       "Congo, Dem. Rep. of   0.04929577\n",
       "Egypt                 0.04641350\n",
       "Philippines           0.04322200\n",
       "Indonesia             0.04265403\n",
       "Russia                0.03990878\n",
       "Myanmar               0.03797468\n",
       "China                 0.03706973\n",
       "South Africa          0.03174603\n",
       "Germany               0.02749638\n",
       "Thailand              0.02678571\n",
       "Iran                  0.02070646\n",
       "Ethiopia              0.01980198\n",
       "Bangladesh            0.01869159\n",
       "Korea, South          0.01866667\n",
       "France                0.01784652\n",
       "Japan                 0.01601831\n",
       "India                 0.01522843\n",
       "Pakistan              0.01346154\n",
       "Turkey                0.01149425\n",
       "Italy                 0.00970874\n",
       "Brazil                0.00905797\n",
       "Mexico                0.00649954\n",
       "Nigeria               0.00589102\n",
       "Tanzania              0.00246914\n",
       "Name: proportion, dtype: float64"
      ]
     },
     "execution_count": 106,
     "metadata": {},
     "output_type": "execute_result"
    }
   ],
   "source": [
    "high_quality_articles_per_all_articles[high_quality_articles_per_all_articles['population'] > pop_thresh].sort_values(by='proportion', ascending=False)['proportion']"
   ]
  },
  {
   "cell_type": "markdown",
   "metadata": {
    "collapsed": true
   },
   "source": [
    "## Persist data to a file"
   ]
  },
  {
   "cell_type": "code",
   "execution_count": 64,
   "metadata": {
    "collapsed": true
   },
   "outputs": [],
   "source": [
    "d_all.to_csv('en-wikipedia-politician-scores.csv', index=False)"
   ]
  },
  {
   "cell_type": "code",
   "execution_count": null,
   "metadata": {
    "collapsed": true
   },
   "outputs": [],
   "source": []
  }
 ],
 "metadata": {
  "kernelspec": {
   "display_name": "Python 3",
   "language": "python",
   "name": "python3"
  },
  "language_info": {
   "codemirror_mode": {
    "name": "ipython",
    "version": 3
   },
   "file_extension": ".py",
   "mimetype": "text/x-python",
   "name": "python",
   "nbconvert_exporter": "python",
   "pygments_lexer": "ipython3",
   "version": "3.6.2"
  }
 },
 "nbformat": 4,
 "nbformat_minor": 2
}
