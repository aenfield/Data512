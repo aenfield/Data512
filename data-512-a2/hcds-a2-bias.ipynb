{
 "cells": [
  {
   "cell_type": "markdown",
   "metadata": {},
   "source": [
    "# Enfield, Andrew - DATA 512, A2: Bias in Data"
   ]
  },
  {
   "cell_type": "markdown",
   "metadata": {},
   "source": [
    "TBD UPDATE\n",
    "\n",
    "The assignment is at https://wiki.communitydata.cc/HCDS_(Fall_2017)/Assignments#A2:_Bias_in_data.\n",
    "\n",
    "TBD remove\n",
    "\n",
    "This notebook pulls, prepares, and analyzes data about the amount of monthly English Wikipedia traffic from January 1, 2008 through September 30, 2017. For more information about the work and data, refer to the [README](Readme.md).\n",
    "\n",
    "A few notes:\n",
    "- Normally I'd prefer to keep the explanation and background that's in the README here in the notebook, so everything's in a single file, but I've split it up this time as that's what the assignment requested. I won't copy/paste because keeping duplicate content in sync is horrible.\n",
    "- Real reproducibility needs tests for the code. A lot of my implementation below is in functions. I'd normally put these functions in at least one separate file that I import into this notebook, and I'd have tests in an additional file. For this assignment I'll just keep everything in this file, for simplicity, even though it means I can't test the code the way I normally would."
   ]
  },
  {
   "cell_type": "markdown",
   "metadata": {},
   "source": [
    "# Prereqs"
   ]
  },
  {
   "cell_type": "markdown",
   "metadata": {},
   "source": [
    "This code requires the libraries as described below."
   ]
  },
  {
   "cell_type": "code",
   "execution_count": 32,
   "metadata": {
    "collapsed": true
   },
   "outputs": [],
   "source": [
    "# load data\n",
    "import requests\n",
    "import json\n",
    "# import os\n",
    "\n",
    "# load, prepare, and analyze data\n",
    "import pandas as pd\n",
    "import numpy as np\n",
    "import matplotlib.pyplot as plt\n",
    "#from mpl_toolkits.axes_grid.anchored_artists import AnchoredText # for addtl annotations in charts\n",
    "#from matplotlib.ticker import FuncFormatter # for custom axis labels\n",
    "from IPython.core.pylabtools import figsize\n",
    "import seaborn as sns # for formatting\n",
    "%matplotlib inline "
   ]
  },
  {
   "cell_type": "code",
   "execution_count": 3,
   "metadata": {
    "collapsed": true
   },
   "outputs": [],
   "source": [
    "sns.set_style(\"whitegrid\")\n",
    "figsize(14,7)"
   ]
  },
  {
   "cell_type": "markdown",
   "metadata": {},
   "source": [
    "# Load data"
   ]
  },
  {
   "cell_type": "markdown",
   "metadata": {},
   "source": [
    "TBD UPDATE\n",
    "\n",
    "This section loads the data from the two APIs described in the README, producing five separate .json files, one for each API and access combination."
   ]
  },
  {
   "cell_type": "code",
   "execution_count": 30,
   "metadata": {},
   "outputs": [
    {
     "data": {
      "text/plain": [
       "(47997, 3)"
      ]
     },
     "execution_count": 30,
     "metadata": {},
     "output_type": "execute_result"
    }
   ],
   "source": [
    "d_wikipedia = pd.read_csv('page_data.csv')\n",
    "d_wikipedia.shape"
   ]
  },
  {
   "cell_type": "code",
   "execution_count": 31,
   "metadata": {},
   "outputs": [
    {
     "data": {
      "text/html": [
       "<div>\n",
       "<style>\n",
       "    .dataframe thead tr:only-child th {\n",
       "        text-align: right;\n",
       "    }\n",
       "\n",
       "    .dataframe thead th {\n",
       "        text-align: left;\n",
       "    }\n",
       "\n",
       "    .dataframe tbody tr th {\n",
       "        vertical-align: top;\n",
       "    }\n",
       "</style>\n",
       "<table border=\"1\" class=\"dataframe\">\n",
       "  <thead>\n",
       "    <tr style=\"text-align: right;\">\n",
       "      <th></th>\n",
       "      <th>country</th>\n",
       "      <th>page</th>\n",
       "      <th>last_edit</th>\n",
       "    </tr>\n",
       "  </thead>\n",
       "  <tbody>\n",
       "    <tr>\n",
       "      <th>0</th>\n",
       "      <td>Abkhazia</td>\n",
       "      <td>Zurab Achba</td>\n",
       "      <td>802551672</td>\n",
       "    </tr>\n",
       "    <tr>\n",
       "      <th>1</th>\n",
       "      <td>Abkhazia</td>\n",
       "      <td>Garri Aiba</td>\n",
       "      <td>774499188</td>\n",
       "    </tr>\n",
       "    <tr>\n",
       "      <th>2</th>\n",
       "      <td>Abkhazia</td>\n",
       "      <td>Zaur Avidzba</td>\n",
       "      <td>803841397</td>\n",
       "    </tr>\n",
       "  </tbody>\n",
       "</table>\n",
       "</div>"
      ],
      "text/plain": [
       "    country          page  last_edit\n",
       "0  Abkhazia   Zurab Achba  802551672\n",
       "1  Abkhazia    Garri Aiba  774499188\n",
       "2  Abkhazia  Zaur Avidzba  803841397"
      ]
     },
     "execution_count": 31,
     "metadata": {},
     "output_type": "execute_result"
    }
   ],
   "source": [
    "d_wikipedia[:3]"
   ]
  },
  {
   "cell_type": "code",
   "execution_count": 18,
   "metadata": {},
   "outputs": [
    {
     "data": {
      "text/plain": [
       "(210, 6)"
      ]
     },
     "execution_count": 18,
     "metadata": {},
     "output_type": "execute_result"
    }
   ],
   "source": [
    "d_population = pd.read_csv('Population Mid-2015.csv', skiprows=2, thousands=',')\n",
    "d_population.shape"
   ]
  },
  {
   "cell_type": "code",
   "execution_count": 29,
   "metadata": {},
   "outputs": [
    {
     "data": {
      "text/plain": [
       "country\n",
       "France           1858\n",
       "Australia        1610\n",
       "Pakistan         1268\n",
       "China            1261\n",
       "Mexico           1137\n",
       "United States    1115\n",
       "Russia           1109\n",
       "Iran             1055\n",
       "Spain            1003\n",
       "India             993\n",
       "dtype: int64"
      ]
     },
     "execution_count": 29,
     "metadata": {},
     "output_type": "execute_result"
    }
   ],
   "source": [
    "d_wikipedia.groupby(['country']).size().sort_values(ascending=False)[:10]"
   ]
  },
  {
   "cell_type": "code",
   "execution_count": 19,
   "metadata": {},
   "outputs": [
    {
     "data": {
      "text/html": [
       "<div>\n",
       "<style>\n",
       "    .dataframe thead tr:only-child th {\n",
       "        text-align: right;\n",
       "    }\n",
       "\n",
       "    .dataframe thead th {\n",
       "        text-align: left;\n",
       "    }\n",
       "\n",
       "    .dataframe tbody tr th {\n",
       "        vertical-align: top;\n",
       "    }\n",
       "</style>\n",
       "<table border=\"1\" class=\"dataframe\">\n",
       "  <thead>\n",
       "    <tr style=\"text-align: right;\">\n",
       "      <th></th>\n",
       "      <th>Location</th>\n",
       "      <th>Location Type</th>\n",
       "      <th>TimeFrame</th>\n",
       "      <th>Data Type</th>\n",
       "      <th>Data</th>\n",
       "      <th>Footnotes</th>\n",
       "    </tr>\n",
       "  </thead>\n",
       "  <tbody>\n",
       "    <tr>\n",
       "      <th>0</th>\n",
       "      <td>Afghanistan</td>\n",
       "      <td>Country</td>\n",
       "      <td>Mid-2015</td>\n",
       "      <td>Number</td>\n",
       "      <td>32247000</td>\n",
       "      <td>NaN</td>\n",
       "    </tr>\n",
       "    <tr>\n",
       "      <th>1</th>\n",
       "      <td>Albania</td>\n",
       "      <td>Country</td>\n",
       "      <td>Mid-2015</td>\n",
       "      <td>Number</td>\n",
       "      <td>2892000</td>\n",
       "      <td>NaN</td>\n",
       "    </tr>\n",
       "    <tr>\n",
       "      <th>2</th>\n",
       "      <td>Algeria</td>\n",
       "      <td>Country</td>\n",
       "      <td>Mid-2015</td>\n",
       "      <td>Number</td>\n",
       "      <td>39948000</td>\n",
       "      <td>NaN</td>\n",
       "    </tr>\n",
       "  </tbody>\n",
       "</table>\n",
       "</div>"
      ],
      "text/plain": [
       "      Location Location Type TimeFrame Data Type      Data  Footnotes\n",
       "0  Afghanistan       Country  Mid-2015    Number  32247000        NaN\n",
       "1      Albania       Country  Mid-2015    Number   2892000        NaN\n",
       "2      Algeria       Country  Mid-2015    Number  39948000        NaN"
      ]
     },
     "execution_count": 19,
     "metadata": {},
     "output_type": "execute_result"
    }
   ],
   "source": [
    "d_population[:3]"
   ]
  },
  {
   "cell_type": "markdown",
   "metadata": {},
   "source": [
    "## Pull article scores"
   ]
  },
  {
   "cell_type": "markdown",
   "metadata": {},
   "source": [
    "Docs: https://ores.wikimedia.org/v3/#!/scoring/get_v3_scores_context_revid_model and https://ores.wikimedia.org/v3/#!/scoring/get_v3_scores_context"
   ]
  },
  {
   "cell_type": "markdown",
   "metadata": {},
   "source": [
    "Note that when I try the multiple rev ID API with a bunch of valid IDs and one that's a text string, then it gives me a 500 and no data at all. However when I try with a bunch of valid IDs and an ID that's not valid - like -1 - then I get valid/good data for the valid IDs and output like the following. This seems good: I'll go ahead and try just pulling batches of IDs w/o further error handling.\n",
    "\n",
    "    \"-1\": {\n",
    "        \"wp10\": {\n",
    "          \"error\": {\n",
    "            \"message\": \"RevisionNotFound: Could not find revision ({revision}:-1)\",\n",
    "            \"type\": \"RevisionNotFound\"\n",
    "          }\n",
    "        }"
   ]
  },
  {
   "cell_type": "code",
   "execution_count": null,
   "metadata": {
    "collapsed": true
   },
   "outputs": [],
   "source": []
  },
  {
   "cell_type": "code",
   "execution_count": 351,
   "metadata": {},
   "outputs": [],
   "source": [
    "user_agent = 'https://github.com/aenfield'\n",
    "\n",
    "def get_full_ores_score_json(rev_id):\n",
    "    \"\"\"TBD referring to https://ores.wikimedia.org/v3/#!/scoring/get_v3_scores_context_revid_model\"\"\"\n",
    "    endpoint = 'https://ores.wikimedia.org/v3/scores/{project}/{revid}/{model}'\n",
    "\n",
    "    # TODO update to hardcode enwiki and wp10?\n",
    "    params = {'project' : 'enwiki',\n",
    "              'model' : 'wp10',\n",
    "              'revid' : rev_id\n",
    "              }\n",
    "\n",
    "    api_call = requests.get(endpoint.format(**params), headers = {'User-Agent':'{}'.format(user_agent)})\n",
    "    return api_call.json()\n",
    "\n",
    "def get_multiple_full_ores_score_json(rev_ids):\n",
    "    \"\"\"TBD referring to ..., with rev_ids as a list\"\"\"\n",
    "    endpoint = 'https://ores.wikimedia.org/v3/scores/enwiki?models=wp10&revids={rev_ids_delimited}'\n",
    "\n",
    "    #rev_ids_delimited = '802551672|774499188|803841397'\n",
    "    rev_ids_delimited = '|'.join([str(i) for i in rev_ids])\n",
    "    #print(rev_ids_delimited)\n",
    "    #print()\n",
    "\n",
    "    params = { 'rev_ids_delimited' : rev_ids_delimited }\n",
    "\n",
    "    api_call = requests.get(endpoint.format(**params), headers = {'User-Agent':'{}'.format(user_agent)})\n",
    "    return api_call.json()\n",
    "    \n",
    "\n",
    "#def get_ores_prediction_from_score_json(score_json, index=0):\n",
    "def get_ores_prediction_from_score_json(score_json, rev_id):\n",
    "    \"\"\"Return the most likely article type, per ORES. Assumes a JSON dict from Ores. \"\"\"\n",
    "    #return score_json['enwiki']['scores'][list(score_json['enwiki']['scores'].keys())[index]]['wp10']['score']['prediction']\n",
    "    return score_json['enwiki']['scores'][str(rev_id)]['wp10']['score']['prediction']\n",
    "\n",
    "def get_ores_prediction(rev_id):\n",
    "    j = get_full_ores_score_json(rev_id)\n",
    "    return get_ores_prediction_from_score_json(j)"
   ]
  },
  {
   "cell_type": "code",
   "execution_count": null,
   "metadata": {
    "collapsed": true
   },
   "outputs": [],
   "source": []
  },
  {
   "cell_type": "markdown",
   "metadata": {},
   "source": [
    "**TODO** Update above code to handle the fact that the rev IDs in the JSON don't/aren't guaranteed to come back in the same order as they were specified in the call. It might be as simple as just using the rev ID itself as the parameter instead of the index, and then using the rev ID in the dict itself instead of looking up something w/ an index?\n",
    "\n",
    "**TODO** Then eyeball the results in the file and make sure they match the results the single-ID call gives."
   ]
  },
  {
   "cell_type": "code",
   "execution_count": 345,
   "metadata": {},
   "outputs": [
    {
     "name": "stdout",
     "output_type": "stream",
     "text": [
      "802551672|774499188\n",
      "\n",
      "CPU times: user 26.1 ms, sys: 6.64 ms, total: 32.7 ms\n",
      "Wall time: 267 ms\n"
     ]
    },
    {
     "data": {
      "text/plain": [
       "{'enwiki': {'models': {'wp10': {'version': '0.5.0'}},\n",
       "  'scores': {'774499188': {'wp10': {'score': {'prediction': 'Stub',\n",
       "      'probability': {'B': 0.03488477079112925,\n",
       "       'C': 0.06953258948284814,\n",
       "       'FA': 0.0025762575670963965,\n",
       "       'GA': 0.007911851615317388,\n",
       "       'Start': 0.4106575723489943,\n",
       "       'Stub': 0.4744369581946146}}}},\n",
       "   '802551672': {'wp10': {'score': {'prediction': 'C',\n",
       "      'probability': {'B': 0.17804496652032606,\n",
       "       'C': 0.4950097267737061,\n",
       "       'FA': 0.010481758617897869,\n",
       "       'GA': 0.05901957893404478,\n",
       "       'Start': 0.25371601149510725,\n",
       "       'Stub': 0.0037279576589180907}}}}}}}"
      ]
     },
     "execution_count": 345,
     "metadata": {},
     "output_type": "execute_result"
    }
   ],
   "source": [
    "%time foo = get_multiple_full_ores_score_json(d_wikipedia['last_edit'][:2].values)\n",
    "foo"
   ]
  },
  {
   "cell_type": "code",
   "execution_count": 346,
   "metadata": {},
   "outputs": [
    {
     "data": {
      "text/plain": [
       "'Stub'"
      ]
     },
     "execution_count": 346,
     "metadata": {},
     "output_type": "execute_result"
    }
   ],
   "source": [
    "foo['enwiki']['scores']['774499188']['wp10']['score']['prediction']"
   ]
  },
  {
   "cell_type": "code",
   "execution_count": 347,
   "metadata": {},
   "outputs": [
    {
     "data": {
      "text/plain": [
       "'C'"
      ]
     },
     "execution_count": 347,
     "metadata": {},
     "output_type": "execute_result"
    }
   ],
   "source": [
    "get_ores_prediction_from_score_json(foo, '802551672')"
   ]
  },
  {
   "cell_type": "code",
   "execution_count": 348,
   "metadata": {
    "collapsed": true
   },
   "outputs": [],
   "source": [
    "def chunker(seq, size):\n",
    "    \"\"\"Get a generator that returns chunks of size 'size' of the sequence in 'seq'.\n",
    "    \n",
    "    From: https://stackoverflow.com/questions/434287/what-is-the-most-pythonic-way-to-iterate-over-a-list-in-chunks\n",
    "    \"\"\"\n",
    "    return (seq[pos:pos + size] for pos in range(0, len(seq), size))"
   ]
  },
  {
   "cell_type": "code",
   "execution_count": 352,
   "metadata": {},
   "outputs": [
    {
     "name": "stdout",
     "output_type": "stream",
     "text": [
      "Retrieving chunk with index 0.\n",
      "Retrieving chunk with index 5.\n",
      "Retrieving chunk with index 10.\n",
      "Retrieving chunk with index 15.\n",
      "Retrieving chunk with index 20.\n",
      "Retrieving chunk with index 25.\n",
      "Retrieving chunk with index 30.\n",
      "Retrieving chunk with index 35.\n",
      "Retrieving chunk with index 40.\n",
      "Retrieving chunk with index 45.\n",
      "Retrieving chunk with index 50.\n",
      "Retrieving chunk with index 55.\n",
      "Retrieving chunk with index 60.\n",
      "Retrieving chunk with index 65.\n",
      "Retrieving chunk with index 70.\n",
      "Retrieving chunk with index 75.\n",
      "Retrieving chunk with index 80.\n",
      "Retrieving chunk with index 85.\n",
      "Retrieving chunk with index 90.\n",
      "Retrieving chunk with index 95.\n",
      "Retrieving chunk with index 100.\n",
      "Retrieving chunk with index 105.\n",
      "Retrieving chunk with index 110.\n",
      "Retrieving chunk with index 115.\n",
      "Retrieving chunk with index 120.\n",
      "Retrieving chunk with index 125.\n",
      "Retrieving chunk with index 130.\n",
      "Retrieving chunk with index 135.\n",
      "Retrieving chunk with index 140.\n",
      "Retrieving chunk with index 145.\n",
      "Retrieving chunk with index 150.\n",
      "Retrieving chunk with index 155.\n",
      "Retrieving chunk with index 160.\n",
      "Retrieving chunk with index 165.\n",
      "Retrieving chunk with index 170.\n",
      "Retrieving chunk with index 175.\n",
      "Retrieving chunk with index 180.\n",
      "Retrieving chunk with index 185.\n",
      "Retrieving chunk with index 190.\n",
      "Retrieving chunk with index 195.\n",
      "Retrieving chunk with index 200.\n",
      "Retrieving chunk with index 205.\n",
      "Retrieving chunk with index 210.\n",
      "Retrieving chunk with index 215.\n",
      "Retrieving chunk with index 220.\n",
      "Retrieving chunk with index 225.\n",
      "Retrieving chunk with index 230.\n",
      "Retrieving chunk with index 235.\n",
      "Retrieving chunk with index 240.\n",
      "Retrieving chunk with index 245.\n",
      "Retrieving chunk with index 250.\n",
      "Retrieving chunk with index 255.\n",
      "Retrieving chunk with index 260.\n",
      "Retrieving chunk with index 265.\n",
      "Retrieving chunk with index 270.\n",
      "Retrieving chunk with index 275.\n",
      "Retrieving chunk with index 280.\n",
      "Retrieving chunk with index 285.\n",
      "Retrieving chunk with index 290.\n",
      "Retrieving chunk with index 295.\n",
      "Retrieving chunk with index 300.\n",
      "Retrieving chunk with index 305.\n",
      "Retrieving chunk with index 310.\n",
      "Retrieving chunk with index 315.\n",
      "Retrieving chunk with index 320.\n",
      "Retrieving chunk with index 325.\n",
      "Retrieving chunk with index 330.\n",
      "Retrieving chunk with index 335.\n",
      "Retrieving chunk with index 340.\n",
      "Retrieved 343 chunks. Done.\n"
     ]
    }
   ],
   "source": [
    "import csv\n",
    "with open('article_scores.csv', 'w') as output_file:\n",
    "    writer = csv.writer(output_file, delimiter=',')\n",
    "    \n",
    "    progress_frequency = 5\n",
    "    count_of_rev_ids_in_chunk = 140\n",
    "    rev_ids_in_chunks = [x for x in chunker(d_wikipedia['last_edit'].values, count_of_rev_ids_in_chunk)]\n",
    "    \n",
    "    #for chunk_index, chunk_of_rev_ids in enumerate(rev_ids_in_chunks[:2]):\n",
    "    for chunk_index, chunk_of_rev_ids in enumerate(rev_ids_in_chunks):\n",
    "        if (chunk_index % progress_frequency == 0): print(f\"Retrieving chunk with index {chunk_index}.\")\n",
    "        \n",
    "        #print(chunk_of_rev_ids)\n",
    "        #print()\n",
    "        \n",
    "        scores_json = get_multiple_full_ores_score_json(chunk_of_rev_ids)\n",
    "        for rev_id in chunk_of_rev_ids:\n",
    "        #for (rev_id, rev_id_index) in zip(chunk_of_rev_ids, range(len(chunk_of_rev_ids))):\n",
    "            #print(f'Processing {rev_id}.')\n",
    "            #print(f'With {scores_json}.')\n",
    "            writer.writerow([rev_id, get_ores_prediction_from_score_json(scores_json, rev_id)])\n",
    "            \n",
    "    print(f\"Retrieved {chunk_index + 1} chunks. Done.\")"
   ]
  },
  {
   "cell_type": "code",
   "execution_count": 317,
   "metadata": {},
   "outputs": [
    {
     "data": {
      "text/plain": [
       "47997"
      ]
     },
     "execution_count": 317,
     "metadata": {},
     "output_type": "execute_result"
    }
   ],
   "source": [
    "len(d_wikipedia['last_edit'])"
   ]
  },
  {
   "cell_type": "code",
   "execution_count": 310,
   "metadata": {},
   "outputs": [
    {
     "name": "stdout",
     "output_type": "stream",
     "text": [
      "0\n",
      "5\n",
      "10\n",
      "15\n",
      "20\n",
      "25\n",
      "30\n",
      "35\n",
      "40\n",
      "45\n"
     ]
    }
   ],
   "source": [
    "for i in range(50):\n",
    "    if (i % 5 == 0): print(i)"
   ]
  },
  {
   "cell_type": "code",
   "execution_count": null,
   "metadata": {
    "collapsed": true
   },
   "outputs": [],
   "source": []
  },
  {
   "cell_type": "code",
   "execution_count": 291,
   "metadata": {},
   "outputs": [
    {
     "data": {
      "text/plain": [
       "[421,\n",
       " 422,\n",
       " 423,\n",
       " 424,\n",
       " 425,\n",
       " 426,\n",
       " 427,\n",
       " 428,\n",
       " 429,\n",
       " 430,\n",
       " 431,\n",
       " 432,\n",
       " 433,\n",
       " 434,\n",
       " 435,\n",
       " 436,\n",
       " 437,\n",
       " 438,\n",
       " 439,\n",
       " 440,\n",
       " 441,\n",
       " 442,\n",
       " 443,\n",
       " 444,\n",
       " 445,\n",
       " 446,\n",
       " 447,\n",
       " 448,\n",
       " 449,\n",
       " 450,\n",
       " 451,\n",
       " 452,\n",
       " 453,\n",
       " 454,\n",
       " 455,\n",
       " 456,\n",
       " 457,\n",
       " 458,\n",
       " 459,\n",
       " 460,\n",
       " 461,\n",
       " 462,\n",
       " 463,\n",
       " 464,\n",
       " 465,\n",
       " 466,\n",
       " 467,\n",
       " 468,\n",
       " 469,\n",
       " 470,\n",
       " 471,\n",
       " 472,\n",
       " 473,\n",
       " 474,\n",
       " 475,\n",
       " 476,\n",
       " 477,\n",
       " 478,\n",
       " 479,\n",
       " 480,\n",
       " 481,\n",
       " 482,\n",
       " 483,\n",
       " 484,\n",
       " 485,\n",
       " 486,\n",
       " 487,\n",
       " 488,\n",
       " 489,\n",
       " 490,\n",
       " 491,\n",
       " 492,\n",
       " 493,\n",
       " 494,\n",
       " 495,\n",
       " 496,\n",
       " 497,\n",
       " 498,\n",
       " 499,\n",
       " 500,\n",
       " 501,\n",
       " 502,\n",
       " 503,\n",
       " 504,\n",
       " 505,\n",
       " 506,\n",
       " 507,\n",
       " 508,\n",
       " 509,\n",
       " 510,\n",
       " 511,\n",
       " 512,\n",
       " 513,\n",
       " 514,\n",
       " 515,\n",
       " 516,\n",
       " 517,\n",
       " 518,\n",
       " 519,\n",
       " 520,\n",
       " 521,\n",
       " 522,\n",
       " 523,\n",
       " 524,\n",
       " 525,\n",
       " 526,\n",
       " 527,\n",
       " 528,\n",
       " 529,\n",
       " 530,\n",
       " 531,\n",
       " 532,\n",
       " 533,\n",
       " 534,\n",
       " 535,\n",
       " 536,\n",
       " 537,\n",
       " 538,\n",
       " 539,\n",
       " 540,\n",
       " 541,\n",
       " 542,\n",
       " 543,\n",
       " 544,\n",
       " 545,\n",
       " 546,\n",
       " 547,\n",
       " 548,\n",
       " 549,\n",
       " 550,\n",
       " 551,\n",
       " 552,\n",
       " 553,\n",
       " 554,\n",
       " 555,\n",
       " 556,\n",
       " 557,\n",
       " 558,\n",
       " 559,\n",
       " 560]"
      ]
     },
     "execution_count": 291,
     "metadata": {},
     "output_type": "execute_result"
    }
   ],
   "source": [
    "list(seqs[3])"
   ]
  },
  {
   "cell_type": "code",
   "execution_count": 290,
   "metadata": {},
   "outputs": [
    {
     "data": {
      "text/plain": [
       "array([791693230, 786975664, 786628383, 789270814, 779725350, 801084884,\n",
       "       790720159, 788182293, 790720559, 790720433, 788250379, 798610427,\n",
       "       802444424, 797116789, 799304187, 799467293, 799450784, 786199183,\n",
       "       790719984, 788182602, 802437823, 799695433, 745805099, 790208674,\n",
       "       788889966, 789270784, 788890514, 802437830, 788182587, 797855253,\n",
       "       796896129, 788180240, 778418380, 802442569, 802437953, 802438008,\n",
       "       802437918, 796600327, 791415808, 795321320, 802438004, 782099774,\n",
       "       789270614, 803812055, 751432945, 789270021, 802444443, 789270004,\n",
       "       801554031, 788181008, 802437935, 802444467, 764898690, 796371886,\n",
       "       789269944, 747064542, 802437981, 749473060, 789270096, 789270087,\n",
       "       790720862, 798292485, 789270464, 802438011, 791694358, 790721337,\n",
       "       751070415, 802438016, 802438013, 788910415, 747887240, 789270517,\n",
       "       749828657, 802444462, 750648438, 789270025, 789269991, 802437920,\n",
       "       788182594, 789451460, 750544980, 752913381, 795293112, 798610685,\n",
       "       798610693, 783769131, 802442709, 789948931, 802740752, 757354231,\n",
       "       723561468, 805873702, 789270602, 769689871, 789270185, 774573300,\n",
       "       770035856, 763731518, 692123101, 789270161, 798552371, 805298454,\n",
       "       750637295, 756676475, 789270579, 789270148, 798617596, 782089225,\n",
       "       805535874, 789270480, 803818094, 798610664, 804736157, 785021038,\n",
       "       790107288, 788819297, 766524458, 805810754, 790240137, 756676581,\n",
       "       789270455, 789270521, 761708375, 789270450, 803420950, 800150501,\n",
       "       801939407, 758633802, 789818165, 756676145, 789610969, 790016758,\n",
       "       756676226, 770033843, 756676244, 786498223, 756676271, 805176809,\n",
       "       804882538, 794083377])"
      ]
     },
     "execution_count": 290,
     "metadata": {},
     "output_type": "execute_result"
    }
   ],
   "source": [
    "d_wikipedia['last_edit'][421:561].values"
   ]
  },
  {
   "cell_type": "code",
   "execution_count": 289,
   "metadata": {},
   "outputs": [
    {
     "ename": "KeyError",
     "evalue": "range(421, 561)",
     "output_type": "error",
     "traceback": [
      "\u001b[0;31m---------------------------------------------------------------------------\u001b[0m",
      "\u001b[0;31mTypeError\u001b[0m                                 Traceback (most recent call last)",
      "\u001b[0;32mpandas/_libs/index.pyx\u001b[0m in \u001b[0;36mpandas._libs.index.IndexEngine.get_loc (pandas/_libs/index.c:5126)\u001b[0;34m()\u001b[0m\n",
      "\u001b[0;32mpandas/_libs/hashtable_class_helper.pxi\u001b[0m in \u001b[0;36mpandas._libs.hashtable.Int64HashTable.get_item (pandas/_libs/hashtable.c:14010)\u001b[0;34m()\u001b[0m\n",
      "\u001b[0;31mTypeError\u001b[0m: an integer is required",
      "\nDuring handling of the above exception, another exception occurred:\n",
      "\u001b[0;31mKeyError\u001b[0m                                  Traceback (most recent call last)",
      "\u001b[0;32m<ipython-input-289-d2ff465442db>\u001b[0m in \u001b[0;36m<module>\u001b[0;34m()\u001b[0m\n\u001b[0;32m----> 1\u001b[0;31m \u001b[0md_wikipedia\u001b[0m\u001b[0;34m[\u001b[0m\u001b[0;34m'last_edit'\u001b[0m\u001b[0;34m]\u001b[0m\u001b[0;34m[\u001b[0m\u001b[0mseqs\u001b[0m\u001b[0;34m[\u001b[0m\u001b[0;36m3\u001b[0m\u001b[0;34m]\u001b[0m\u001b[0;34m]\u001b[0m\u001b[0;34m.\u001b[0m\u001b[0mvalues\u001b[0m\u001b[0;34m\u001b[0m\u001b[0m\n\u001b[0m",
      "\u001b[0;32m~/miniconda3/envs/anaconda/lib/python3.6/site-packages/pandas/core/series.py\u001b[0m in \u001b[0;36m__getitem__\u001b[0;34m(self, key)\u001b[0m\n\u001b[1;32m    599\u001b[0m         \u001b[0mkey\u001b[0m \u001b[0;34m=\u001b[0m \u001b[0mcom\u001b[0m\u001b[0;34m.\u001b[0m\u001b[0m_apply_if_callable\u001b[0m\u001b[0;34m(\u001b[0m\u001b[0mkey\u001b[0m\u001b[0;34m,\u001b[0m \u001b[0mself\u001b[0m\u001b[0;34m)\u001b[0m\u001b[0;34m\u001b[0m\u001b[0m\n\u001b[1;32m    600\u001b[0m         \u001b[0;32mtry\u001b[0m\u001b[0;34m:\u001b[0m\u001b[0;34m\u001b[0m\u001b[0m\n\u001b[0;32m--> 601\u001b[0;31m             \u001b[0mresult\u001b[0m \u001b[0;34m=\u001b[0m \u001b[0mself\u001b[0m\u001b[0;34m.\u001b[0m\u001b[0mindex\u001b[0m\u001b[0;34m.\u001b[0m\u001b[0mget_value\u001b[0m\u001b[0;34m(\u001b[0m\u001b[0mself\u001b[0m\u001b[0;34m,\u001b[0m \u001b[0mkey\u001b[0m\u001b[0;34m)\u001b[0m\u001b[0;34m\u001b[0m\u001b[0m\n\u001b[0m\u001b[1;32m    602\u001b[0m \u001b[0;34m\u001b[0m\u001b[0m\n\u001b[1;32m    603\u001b[0m             \u001b[0;32mif\u001b[0m \u001b[0;32mnot\u001b[0m \u001b[0mis_scalar\u001b[0m\u001b[0;34m(\u001b[0m\u001b[0mresult\u001b[0m\u001b[0;34m)\u001b[0m\u001b[0;34m:\u001b[0m\u001b[0;34m\u001b[0m\u001b[0m\n",
      "\u001b[0;32m~/miniconda3/envs/anaconda/lib/python3.6/site-packages/pandas/core/indexes/base.py\u001b[0m in \u001b[0;36mget_value\u001b[0;34m(self, series, key)\u001b[0m\n\u001b[1;32m   2475\u001b[0m         \u001b[0;32mtry\u001b[0m\u001b[0;34m:\u001b[0m\u001b[0;34m\u001b[0m\u001b[0m\n\u001b[1;32m   2476\u001b[0m             return self._engine.get_value(s, k,\n\u001b[0;32m-> 2477\u001b[0;31m                                           tz=getattr(series.dtype, 'tz', None))\n\u001b[0m\u001b[1;32m   2478\u001b[0m         \u001b[0;32mexcept\u001b[0m \u001b[0mKeyError\u001b[0m \u001b[0;32mas\u001b[0m \u001b[0me1\u001b[0m\u001b[0;34m:\u001b[0m\u001b[0;34m\u001b[0m\u001b[0m\n\u001b[1;32m   2479\u001b[0m             \u001b[0;32mif\u001b[0m \u001b[0mlen\u001b[0m\u001b[0;34m(\u001b[0m\u001b[0mself\u001b[0m\u001b[0;34m)\u001b[0m \u001b[0;34m>\u001b[0m \u001b[0;36m0\u001b[0m \u001b[0;32mand\u001b[0m \u001b[0mself\u001b[0m\u001b[0;34m.\u001b[0m\u001b[0minferred_type\u001b[0m \u001b[0;32min\u001b[0m \u001b[0;34m[\u001b[0m\u001b[0;34m'integer'\u001b[0m\u001b[0;34m,\u001b[0m \u001b[0;34m'boolean'\u001b[0m\u001b[0;34m]\u001b[0m\u001b[0;34m:\u001b[0m\u001b[0;34m\u001b[0m\u001b[0m\n",
      "\u001b[0;32mpandas/_libs/index.pyx\u001b[0m in \u001b[0;36mpandas._libs.index.IndexEngine.get_value (pandas/_libs/index.c:4404)\u001b[0;34m()\u001b[0m\n",
      "\u001b[0;32mpandas/_libs/index.pyx\u001b[0m in \u001b[0;36mpandas._libs.index.IndexEngine.get_value (pandas/_libs/index.c:4087)\u001b[0;34m()\u001b[0m\n",
      "\u001b[0;32mpandas/_libs/index.pyx\u001b[0m in \u001b[0;36mpandas._libs.index.IndexEngine.get_loc (pandas/_libs/index.c:5210)\u001b[0;34m()\u001b[0m\n",
      "\u001b[0;31mKeyError\u001b[0m: range(421, 561)"
     ]
    }
   ],
   "source": [
    "d_wikipedia['last_edit'][seqs[3]].values"
   ]
  },
  {
   "cell_type": "code",
   "execution_count": null,
   "metadata": {
    "collapsed": true
   },
   "outputs": [],
   "source": []
  },
  {
   "cell_type": "code",
   "execution_count": null,
   "metadata": {
    "collapsed": true
   },
   "outputs": [],
   "source": []
  },
  {
   "cell_type": "code",
   "execution_count": 272,
   "metadata": {},
   "outputs": [
    {
     "data": {
      "text/plain": [
       "range(31, 51)"
      ]
     },
     "execution_count": 272,
     "metadata": {},
     "output_type": "execute_result"
    }
   ],
   "source": [
    "range(1, 5000)[30:50]"
   ]
  },
  {
   "cell_type": "code",
   "execution_count": 229,
   "metadata": {},
   "outputs": [
    {
     "data": {
      "text/plain": [
       "'Stub'"
      ]
     },
     "execution_count": 229,
     "metadata": {},
     "output_type": "execute_result"
    }
   ],
   "source": [
    "get_ores_prediction_from_score_json(foo)"
   ]
  },
  {
   "cell_type": "code",
   "execution_count": 230,
   "metadata": {},
   "outputs": [
    {
     "data": {
      "text/plain": [
       "'C'"
      ]
     },
     "execution_count": 230,
     "metadata": {},
     "output_type": "execute_result"
    }
   ],
   "source": [
    "get_ores_prediction_from_score_json(foo, 1)"
   ]
  },
  {
   "cell_type": "code",
   "execution_count": 231,
   "metadata": {},
   "outputs": [
    {
     "ename": "IndexError",
     "evalue": "list index out of range",
     "output_type": "error",
     "traceback": [
      "\u001b[0;31m---------------------------------------------------------------------------\u001b[0m",
      "\u001b[0;31mIndexError\u001b[0m                                Traceback (most recent call last)",
      "\u001b[0;32m<ipython-input-231-a6b8242fc9ae>\u001b[0m in \u001b[0;36m<module>\u001b[0;34m()\u001b[0m\n\u001b[0;32m----> 1\u001b[0;31m \u001b[0mget_ores_prediction_from_score_json\u001b[0m\u001b[0;34m(\u001b[0m\u001b[0mfoo\u001b[0m\u001b[0;34m,\u001b[0m \u001b[0;36m2\u001b[0m\u001b[0;34m)\u001b[0m\u001b[0;34m\u001b[0m\u001b[0m\n\u001b[0m",
      "\u001b[0;32m<ipython-input-225-6bfad19ca3f0>\u001b[0m in \u001b[0;36mget_ores_prediction_from_score_json\u001b[0;34m(json, index)\u001b[0m\n\u001b[1;32m     35\u001b[0m \u001b[0;32mdef\u001b[0m \u001b[0mget_ores_prediction_from_score_json\u001b[0m\u001b[0;34m(\u001b[0m\u001b[0mjson\u001b[0m\u001b[0;34m,\u001b[0m \u001b[0mindex\u001b[0m\u001b[0;34m=\u001b[0m\u001b[0;36m0\u001b[0m\u001b[0;34m)\u001b[0m\u001b[0;34m:\u001b[0m\u001b[0;34m\u001b[0m\u001b[0m\n\u001b[1;32m     36\u001b[0m     \u001b[0;34m\"\"\"Return the most likely article type, per ORES. Assumes a JSON dict from Ores. \"\"\"\u001b[0m\u001b[0;34m\u001b[0m\u001b[0m\n\u001b[0;32m---> 37\u001b[0;31m     \u001b[0;32mreturn\u001b[0m \u001b[0mjson\u001b[0m\u001b[0;34m[\u001b[0m\u001b[0;34m'enwiki'\u001b[0m\u001b[0;34m]\u001b[0m\u001b[0;34m[\u001b[0m\u001b[0;34m'scores'\u001b[0m\u001b[0;34m]\u001b[0m\u001b[0;34m[\u001b[0m\u001b[0mlist\u001b[0m\u001b[0;34m(\u001b[0m\u001b[0mjson\u001b[0m\u001b[0;34m[\u001b[0m\u001b[0;34m'enwiki'\u001b[0m\u001b[0;34m]\u001b[0m\u001b[0;34m[\u001b[0m\u001b[0;34m'scores'\u001b[0m\u001b[0;34m]\u001b[0m\u001b[0;34m.\u001b[0m\u001b[0mkeys\u001b[0m\u001b[0;34m(\u001b[0m\u001b[0;34m)\u001b[0m\u001b[0;34m)\u001b[0m\u001b[0;34m[\u001b[0m\u001b[0mindex\u001b[0m\u001b[0;34m]\u001b[0m\u001b[0;34m]\u001b[0m\u001b[0;34m[\u001b[0m\u001b[0;34m'wp10'\u001b[0m\u001b[0;34m]\u001b[0m\u001b[0;34m[\u001b[0m\u001b[0;34m'score'\u001b[0m\u001b[0;34m]\u001b[0m\u001b[0;34m[\u001b[0m\u001b[0;34m'prediction'\u001b[0m\u001b[0;34m]\u001b[0m\u001b[0;34m\u001b[0m\u001b[0m\n\u001b[0m\u001b[1;32m     38\u001b[0m \u001b[0;34m\u001b[0m\u001b[0m\n\u001b[1;32m     39\u001b[0m \u001b[0;32mdef\u001b[0m \u001b[0mget_ores_prediction\u001b[0m\u001b[0;34m(\u001b[0m\u001b[0mrev_id\u001b[0m\u001b[0;34m)\u001b[0m\u001b[0;34m:\u001b[0m\u001b[0;34m\u001b[0m\u001b[0m\n",
      "\u001b[0;31mIndexError\u001b[0m: list index out of range"
     ]
    }
   ],
   "source": [
    "get_ores_prediction_from_score_json(foo, 2)"
   ]
  },
  {
   "cell_type": "code",
   "execution_count": null,
   "metadata": {
    "collapsed": true
   },
   "outputs": [],
   "source": []
  },
  {
   "cell_type": "code",
   "execution_count": null,
   "metadata": {
    "collapsed": true
   },
   "outputs": [],
   "source": []
  },
  {
   "cell_type": "code",
   "execution_count": 211,
   "metadata": {},
   "outputs": [
    {
     "data": {
      "text/plain": [
       "array([802551672, 774499188, 803841397, 789818648, 785284614, 798644673,\n",
       "       728644481, 788591677, 758713659, 802860970, 797469371, 804349394,\n",
       "       799618550, 805063877, 718383950, 805775169, 778690357, 779839643,\n",
       "       803055503, 805920528])"
      ]
     },
     "execution_count": 211,
     "metadata": {},
     "output_type": "execute_result"
    }
   ],
   "source": [
    "d_wikipedia['last_edit'][:20].values"
   ]
  },
  {
   "cell_type": "code",
   "execution_count": null,
   "metadata": {
    "collapsed": true
   },
   "outputs": [],
   "source": []
  },
  {
   "cell_type": "code",
   "execution_count": 208,
   "metadata": {},
   "outputs": [
    {
     "name": "stdout",
     "output_type": "stream",
     "text": [
      "CPU times: user 25.3 ms, sys: 4.28 ms, total: 29.6 ms\n",
      "Wall time: 294 ms\n"
     ]
    },
    {
     "data": {
      "text/plain": [
       "<Response [500]>"
      ]
     },
     "execution_count": 208,
     "metadata": {},
     "output_type": "execute_result"
    }
   ],
   "source": [
    "%time foo = get_multiple_full_ores_score_json('foo')\n",
    "foo"
   ]
  },
  {
   "cell_type": "code",
   "execution_count": 200,
   "metadata": {},
   "outputs": [
    {
     "data": {
      "text/plain": [
       "'Start'"
      ]
     },
     "execution_count": 200,
     "metadata": {},
     "output_type": "execute_result"
    }
   ],
   "source": [
    "foo['enwiki']['scores'][list(foo['enwiki']['scores'].keys())[4]]['wp10']['score']['prediction']"
   ]
  },
  {
   "cell_type": "code",
   "execution_count": null,
   "metadata": {
    "collapsed": true
   },
   "outputs": [],
   "source": []
  },
  {
   "cell_type": "code",
   "execution_count": 191,
   "metadata": {},
   "outputs": [
    {
     "name": "stdout",
     "output_type": "stream",
     "text": [
      "CPU times: user 26.4 ms, sys: 3.56 ms, total: 29.9 ms\n",
      "Wall time: 313 ms\n"
     ]
    }
   ],
   "source": [
    "%time bar = get_multiple_full_ores_score_json(3)"
   ]
  },
  {
   "cell_type": "code",
   "execution_count": 178,
   "metadata": {},
   "outputs": [
    {
     "data": {
      "text/plain": [
       "{'enwiki': {'models': {'wp10': {'version': '0.5.0'}},\n",
       "  'scores': {'718383950': {'wp10': {'score': {'prediction': 'Stub',\n",
       "      'probability': {'B': 0.00867108446083565,\n",
       "       'C': 0.010201201419512923,\n",
       "       'FA': 0.0012308185869063053,\n",
       "       'GA': 0.002347248512459868,\n",
       "       'Start': 0.08362945430408676,\n",
       "       'Stub': 0.8939201927161984}}}},\n",
       "   '728644481': {'wp10': {'score': {'prediction': 'Stub',\n",
       "      'probability': {'B': 0.011743849354179213,\n",
       "       'C': 0.018551150267917215,\n",
       "       'FA': 0.0017216633333940244,\n",
       "       'GA': 0.004963145860590862,\n",
       "       'Start': 0.2475321059686044,\n",
       "       'Stub': 0.7154880852153144}}}},\n",
       "   '758713659': {'wp10': {'score': {'prediction': 'C',\n",
       "      'probability': {'B': 0.13051629022094477,\n",
       "       'C': 0.661331647033431,\n",
       "       'FA': 0.008345185189334319,\n",
       "       'GA': 0.0506476033411268,\n",
       "       'Start': 0.13543386979975322,\n",
       "       'Stub': 0.01372540441540996}}}},\n",
       "   '774499188': {'wp10': {'score': {'prediction': 'Stub',\n",
       "      'probability': {'B': 0.03488477079112925,\n",
       "       'C': 0.06953258948284814,\n",
       "       'FA': 0.0025762575670963965,\n",
       "       'GA': 0.007911851615317388,\n",
       "       'Start': 0.4106575723489943,\n",
       "       'Stub': 0.4744369581946146}}}},\n",
       "   '778690357': {'wp10': {'score': {'prediction': 'Start',\n",
       "      'probability': {'B': 0.02297674671423472,\n",
       "       'C': 0.0861074813114808,\n",
       "       'FA': 0.002422756597764642,\n",
       "       'GA': 0.00486559372582058,\n",
       "       'Start': 0.8319728634090546,\n",
       "       'Stub': 0.051654558241644735}}}},\n",
       "   '779839643': {'wp10': {'score': {'prediction': 'Stub',\n",
       "      'probability': {'B': 0.005812277144201996,\n",
       "       'C': 0.005903365138454951,\n",
       "       'FA': 0.0007044022311522287,\n",
       "       'GA': 0.0014771677716918482,\n",
       "       'Start': 0.017543294400020636,\n",
       "       'Stub': 0.9685594933144783}}}},\n",
       "   '785284614': {'wp10': {'score': {'prediction': 'Start',\n",
       "      'probability': {'B': 0.038275722083665996,\n",
       "       'C': 0.10192509737063972,\n",
       "       'FA': 0.002304638025838147,\n",
       "       'GA': 0.01439572915013765,\n",
       "       'Start': 0.8180319224222182,\n",
       "       'Stub': 0.025066890947500402}}}},\n",
       "   '788591677': {'wp10': {'score': {'prediction': 'Start',\n",
       "      'probability': {'B': 0.06406208521481899,\n",
       "       'C': 0.2597475279770066,\n",
       "       'FA': 0.0041369402109122325,\n",
       "       'GA': 0.024158092693711455,\n",
       "       'Start': 0.6380480318062743,\n",
       "       'Stub': 0.009847322097276373}}}},\n",
       "   '789818648': {'wp10': {'score': {'prediction': 'Start',\n",
       "      'probability': {'B': 0.02941560029957346,\n",
       "       'C': 0.055087519959750295,\n",
       "       'FA': 0.0023862738697030465,\n",
       "       'GA': 0.0034467642562264924,\n",
       "       'Start': 0.8003062073936903,\n",
       "       'Stub': 0.10935763422105636}}}},\n",
       "   '797469371': {'wp10': {'score': {'prediction': 'GA',\n",
       "      'probability': {'B': 0.2268992768209362,\n",
       "       'C': 0.28687285891224934,\n",
       "       'FA': 0.026747557677269784,\n",
       "       'GA': 0.4383600708507178,\n",
       "       'Start': 0.018552043857823577,\n",
       "       'Stub': 0.002568191881003295}}}},\n",
       "   '798644673': {'wp10': {'score': {'prediction': 'Stub',\n",
       "      'probability': {'B': 0.006026123678198464,\n",
       "       'C': 0.006399724408744964,\n",
       "       'FA': 0.000836616661304519,\n",
       "       'GA': 0.001442319776226022,\n",
       "       'Start': 0.040387564418622214,\n",
       "       'Stub': 0.9449076510569039}}}},\n",
       "   '799618550': {'wp10': {'score': {'prediction': 'Start',\n",
       "      'probability': {'B': 0.019799456073066286,\n",
       "       'C': 0.17218247709823392,\n",
       "       'FA': 0.002679553165782313,\n",
       "       'GA': 0.0056842882831369245,\n",
       "       'Start': 0.651080443413521,\n",
       "       'Stub': 0.14857378196625967}}}},\n",
       "   '802551672': {'wp10': {'score': {'prediction': 'C',\n",
       "      'probability': {'B': 0.17804496652032606,\n",
       "       'C': 0.4950097267737061,\n",
       "       'FA': 0.010481758617897869,\n",
       "       'GA': 0.05901957893404478,\n",
       "       'Start': 0.25371601149510725,\n",
       "       'Stub': 0.0037279576589180907}}}},\n",
       "   '802860970': {'wp10': {'score': {'prediction': 'Start',\n",
       "      'probability': {'B': 0.02558165138396921,\n",
       "       'C': 0.04039765792427712,\n",
       "       'FA': 0.0022545678420246825,\n",
       "       'GA': 0.010449711271859131,\n",
       "       'Start': 0.7544192760613261,\n",
       "       'Stub': 0.16689713551654367}}}},\n",
       "   '803055503': {'wp10': {'score': {'prediction': 'GA',\n",
       "      'probability': {'B': 0.16897311403187978,\n",
       "       'C': 0.259038440077987,\n",
       "       'FA': 0.01017127453793035,\n",
       "       'GA': 0.5419463836514296,\n",
       "       'Start': 0.01836768594668512,\n",
       "       'Stub': 0.0015031017540882302}}}},\n",
       "   '803841397': {'wp10': {'score': {'prediction': 'C',\n",
       "      'probability': {'B': 0.1265128338460164,\n",
       "       'C': 0.466677586014158,\n",
       "       'FA': 0.005082317062613911,\n",
       "       'GA': 0.023992768391783027,\n",
       "       'Start': 0.3617315459225463,\n",
       "       'Stub': 0.016002948762882458}}}},\n",
       "   '804349394': {'wp10': {'score': {'prediction': 'Start',\n",
       "      'probability': {'B': 0.05991219960122166,\n",
       "       'C': 0.17947528505281388,\n",
       "       'FA': 0.0044767678521823616,\n",
       "       'GA': 0.047624309544830726,\n",
       "       'Start': 0.662402618457737,\n",
       "       'Stub': 0.04610881949121449}}}},\n",
       "   '805063877': {'wp10': {'score': {'prediction': 'Stub',\n",
       "      'probability': {'B': 0.007876007462043963,\n",
       "       'C': 0.011133224052929918,\n",
       "       'FA': 0.0012157580330957867,\n",
       "       'GA': 0.0027564059048268575,\n",
       "       'Start': 0.052619383973001775,\n",
       "       'Stub': 0.9243992205741016}}}},\n",
       "   '805775169': {'wp10': {'score': {'prediction': 'Start',\n",
       "      'probability': {'B': 0.05049766900209879,\n",
       "       'C': 0.12329713718688096,\n",
       "       'FA': 0.003235367931432042,\n",
       "       'GA': 0.004870197426292483,\n",
       "       'Start': 0.8020940288738824,\n",
       "       'Stub': 0.016005599579413436}}}},\n",
       "   '805920528': {'wp10': {'score': {'prediction': 'GA',\n",
       "      'probability': {'B': 0.04309406362813584,\n",
       "       'C': 0.03250432933432678,\n",
       "       'FA': 0.3128520777225997,\n",
       "       'GA': 0.6041499838553698,\n",
       "       'Start': 0.005998917072506066,\n",
       "       'Stub': 0.0014006283870616927}}}}}}}"
      ]
     },
     "execution_count": 178,
     "metadata": {},
     "output_type": "execute_result"
    }
   ],
   "source": [
    "bar"
   ]
  },
  {
   "cell_type": "code",
   "execution_count": 179,
   "metadata": {},
   "outputs": [
    {
     "ename": "IndexError",
     "evalue": "list index out of range",
     "output_type": "error",
     "traceback": [
      "\u001b[0;31m---------------------------------------------------------------------------\u001b[0m",
      "\u001b[0;31mIndexError\u001b[0m                                Traceback (most recent call last)",
      "\u001b[0;32m<ipython-input-179-e1df84c16406>\u001b[0m in \u001b[0;36m<module>\u001b[0;34m()\u001b[0m\n\u001b[0;32m----> 1\u001b[0;31m \u001b[0mbar\u001b[0m\u001b[0;34m[\u001b[0m\u001b[0;34m'enwiki'\u001b[0m\u001b[0;34m]\u001b[0m\u001b[0;34m[\u001b[0m\u001b[0;34m'scores'\u001b[0m\u001b[0;34m]\u001b[0m\u001b[0;34m[\u001b[0m\u001b[0mlist\u001b[0m\u001b[0;34m(\u001b[0m\u001b[0mj\u001b[0m\u001b[0;34m[\u001b[0m\u001b[0;34m'enwiki'\u001b[0m\u001b[0;34m]\u001b[0m\u001b[0;34m[\u001b[0m\u001b[0;34m'scores'\u001b[0m\u001b[0;34m]\u001b[0m\u001b[0;34m.\u001b[0m\u001b[0mkeys\u001b[0m\u001b[0;34m(\u001b[0m\u001b[0;34m)\u001b[0m\u001b[0;34m)\u001b[0m\u001b[0;34m[\u001b[0m\u001b[0;36m5\u001b[0m\u001b[0;34m]\u001b[0m\u001b[0;34m]\u001b[0m\u001b[0;34m[\u001b[0m\u001b[0;34m'wp10'\u001b[0m\u001b[0;34m]\u001b[0m\u001b[0;34m[\u001b[0m\u001b[0;34m'score'\u001b[0m\u001b[0;34m]\u001b[0m\u001b[0;34m[\u001b[0m\u001b[0;34m'prediction'\u001b[0m\u001b[0;34m]\u001b[0m\u001b[0;34m\u001b[0m\u001b[0m\n\u001b[0m",
      "\u001b[0;31mIndexError\u001b[0m: list index out of range"
     ]
    }
   ],
   "source": [
    "#bar['enwiki']['scores'][list(j['enwiki']['scores'].keys())[0]]['wp10']['score']['prediction']"
   ]
  },
  {
   "cell_type": "code",
   "execution_count": null,
   "metadata": {
    "collapsed": true
   },
   "outputs": [],
   "source": []
  },
  {
   "cell_type": "code",
   "execution_count": 188,
   "metadata": {},
   "outputs": [
    {
     "data": {
      "text/plain": [
       "['Stub', 'Stub', 'C', 'Stub', 'Start', 'Stub', 'Start', 'Start', 'Start', 'GA']"
      ]
     },
     "execution_count": 188,
     "metadata": {},
     "output_type": "execute_result"
    }
   ],
   "source": [
    "[bar['enwiki']['scores'][list(bar['enwiki']['scores'].keys())[i]]['wp10']['score']['prediction'] for i in range(10)]"
   ]
  },
  {
   "cell_type": "code",
   "execution_count": null,
   "metadata": {
    "collapsed": true
   },
   "outputs": [],
   "source": []
  },
  {
   "cell_type": "code",
   "execution_count": null,
   "metadata": {
    "collapsed": true
   },
   "outputs": [],
   "source": []
  },
  {
   "cell_type": "code",
   "execution_count": 128,
   "metadata": {},
   "outputs": [
    {
     "data": {
      "text/plain": [
       "dict"
      ]
     },
     "execution_count": 128,
     "metadata": {},
     "output_type": "execute_result"
    }
   ],
   "source": [
    "type(j)"
   ]
  },
  {
   "cell_type": "code",
   "execution_count": 129,
   "metadata": {},
   "outputs": [
    {
     "data": {
      "text/plain": [
       "'Start'"
      ]
     },
     "execution_count": 129,
     "metadata": {},
     "output_type": "execute_result"
    }
   ],
   "source": [
    "get_ores_prediction('797882120')"
   ]
  },
  {
   "cell_type": "code",
   "execution_count": 130,
   "metadata": {},
   "outputs": [
    {
     "data": {
      "text/plain": [
       "{'enwiki': {'models': {'wp10': {'version': '0.5.0'}},\n",
       "  'scores': {'797882120': {'wp10': {'score': {'prediction': 'Start',\n",
       "      'probability': {'B': 0.0325056273665757,\n",
       "       'C': 0.10161634736900718,\n",
       "       'FA': 0.003680032854794337,\n",
       "       'GA': 0.021044772033944954,\n",
       "       'Start': 0.8081343649161963,\n",
       "       'Stub': 0.033018855459481376}}}}}}}"
      ]
     },
     "execution_count": 130,
     "metadata": {},
     "output_type": "execute_result"
    }
   ],
   "source": [
    "j = get_full_ores_score_json('797882120')\n",
    "j"
   ]
  },
  {
   "cell_type": "code",
   "execution_count": 131,
   "metadata": {},
   "outputs": [
    {
     "data": {
      "text/plain": [
       "'797882120'"
      ]
     },
     "execution_count": 131,
     "metadata": {},
     "output_type": "execute_result"
    }
   ],
   "source": [
    "list(j['enwiki']['scores'].keys())[0]"
   ]
  },
  {
   "cell_type": "code",
   "execution_count": null,
   "metadata": {
    "collapsed": true
   },
   "outputs": [],
   "source": []
  },
  {
   "cell_type": "code",
   "execution_count": 138,
   "metadata": {},
   "outputs": [
    {
     "data": {
      "text/plain": [
       "0    802551672\n",
       "1    774499188\n",
       "2    803841397\n",
       "3    789818648\n",
       "4    785284614\n",
       "5    798644673\n",
       "6    728644481\n",
       "7    788591677\n",
       "8    758713659\n",
       "9    802860970\n",
       "Name: last_edit, dtype: int64"
      ]
     },
     "execution_count": 138,
     "metadata": {},
     "output_type": "execute_result"
    }
   ],
   "source": [
    "d_wikipedia['last_edit'][:10]"
   ]
  },
  {
   "cell_type": "code",
   "execution_count": 143,
   "metadata": {},
   "outputs": [
    {
     "data": {
      "text/plain": [
       "array([802551672, 774499188, 803841397, 789818648, 785284614, 798644673,\n",
       "       728644481, 788591677, 758713659, 802860970])"
      ]
     },
     "execution_count": 143,
     "metadata": {},
     "output_type": "execute_result"
    }
   ],
   "source": [
    "d_wikipedia['last_edit'][:10].values"
   ]
  },
  {
   "cell_type": "code",
   "execution_count": 151,
   "metadata": {},
   "outputs": [
    {
     "data": {
      "text/plain": [
       "'802551672|774499188|803841397|789818648|785284614|798644673|728644481|788591677|758713659|802860970|797469371|804349394|799618550|805063877|718383950|805775169|778690357|779839643|803055503|805920528'"
      ]
     },
     "execution_count": 151,
     "metadata": {},
     "output_type": "execute_result"
    }
   ],
   "source": [
    "'|'.join([str(i) for i in d_wikipedia['last_edit'][:20].values])"
   ]
  },
  {
   "cell_type": "code",
   "execution_count": null,
   "metadata": {
    "collapsed": true
   },
   "outputs": [],
   "source": []
  },
  {
   "cell_type": "code",
   "execution_count": 146,
   "metadata": {},
   "outputs": [
    {
     "data": {
      "text/plain": [
       "'1|2|3'"
      ]
     },
     "execution_count": 146,
     "metadata": {},
     "output_type": "execute_result"
    }
   ],
   "source": [
    "'|'.join(['1','2','3'])"
   ]
  },
  {
   "cell_type": "code",
   "execution_count": 132,
   "metadata": {},
   "outputs": [
    {
     "data": {
      "text/plain": [
       "'Start'"
      ]
     },
     "execution_count": 132,
     "metadata": {},
     "output_type": "execute_result"
    }
   ],
   "source": [
    "j['enwiki']['scores']['797882120']['wp10']['score']['prediction']"
   ]
  },
  {
   "cell_type": "code",
   "execution_count": 133,
   "metadata": {},
   "outputs": [
    {
     "data": {
      "text/plain": [
       "'797882120'"
      ]
     },
     "execution_count": 133,
     "metadata": {},
     "output_type": "execute_result"
    }
   ],
   "source": [
    "list(j['enwiki']['scores'].keys())[0]"
   ]
  },
  {
   "cell_type": "code",
   "execution_count": 134,
   "metadata": {},
   "outputs": [
    {
     "data": {
      "text/plain": [
       "'Start'"
      ]
     },
     "execution_count": 134,
     "metadata": {},
     "output_type": "execute_result"
    }
   ],
   "source": [
    "j['enwiki']['scores'][list(j['enwiki']['scores'].keys())[0]]['wp10']['score']['prediction']"
   ]
  },
  {
   "cell_type": "markdown",
   "metadata": {},
   "source": [
    "Based on one run of the below, it takes 29.2s to process 100 IDs, or 0.292 sec/ID. Since we have 48000 IDs, this is ~3.9 hrs. The 'many at the same time' API appears much faster - at least requesting 20 (not pulling out the results, but just getting the data) takes 300-800ms."
   ]
  },
  {
   "cell_type": "code",
   "execution_count": 137,
   "metadata": {},
   "outputs": [
    {
     "name": "stdout",
     "output_type": "stream",
     "text": [
      "CPU times: user 2.6 s, sys: 117 ms, total: 2.72 s\n",
      "Wall time: 29.2 s\n"
     ]
    },
    {
     "data": {
      "text/plain": [
       "0         C\n",
       "1      Stub\n",
       "2         C\n",
       "3     Start\n",
       "4     Start\n",
       "5      Stub\n",
       "6      Stub\n",
       "7     Start\n",
       "8         C\n",
       "9     Start\n",
       "10       GA\n",
       "11    Start\n",
       "12    Start\n",
       "13     Stub\n",
       "14     Stub\n",
       "15    Start\n",
       "16    Start\n",
       "17     Stub\n",
       "18       GA\n",
       "19       GA\n",
       "20     Stub\n",
       "21        C\n",
       "22    Start\n",
       "23    Start\n",
       "24        B\n",
       "25        C\n",
       "26     Stub\n",
       "27     Stub\n",
       "28        C\n",
       "29     Stub\n",
       "      ...  \n",
       "70        C\n",
       "71       GA\n",
       "72     Stub\n",
       "73     Stub\n",
       "74       GA\n",
       "75    Start\n",
       "76     Stub\n",
       "77     Stub\n",
       "78     Stub\n",
       "79    Start\n",
       "80        B\n",
       "81    Start\n",
       "82        C\n",
       "83        C\n",
       "84       GA\n",
       "85    Start\n",
       "86       GA\n",
       "87    Start\n",
       "88    Start\n",
       "89        C\n",
       "90    Start\n",
       "91    Start\n",
       "92     Stub\n",
       "93        C\n",
       "94     Stub\n",
       "95        C\n",
       "96    Start\n",
       "97     Stub\n",
       "98        C\n",
       "99     Stub\n",
       "Name: last_edit, Length: 100, dtype: object"
      ]
     },
     "execution_count": 137,
     "metadata": {},
     "output_type": "execute_result"
    }
   ],
   "source": [
    "%time d_wikipedia['last_edit'][:100].apply(get_ores_prediction)"
   ]
  },
  {
   "cell_type": "code",
   "execution_count": null,
   "metadata": {
    "collapsed": true
   },
   "outputs": [],
   "source": []
  }
 ],
 "metadata": {
  "kernelspec": {
   "display_name": "Python 3",
   "language": "python",
   "name": "python3"
  },
  "language_info": {
   "codemirror_mode": {
    "name": "ipython",
    "version": 3
   },
   "file_extension": ".py",
   "mimetype": "text/x-python",
   "name": "python",
   "nbconvert_exporter": "python",
   "pygments_lexer": "ipython3",
   "version": "3.6.2"
  }
 },
 "nbformat": 4,
 "nbformat_minor": 2
}
