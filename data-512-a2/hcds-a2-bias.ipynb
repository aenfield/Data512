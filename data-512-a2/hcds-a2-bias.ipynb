{
 "cells": [
  {
   "cell_type": "markdown",
   "metadata": {},
   "source": [
    "# Enfield, Andrew - DATA 512, A2: Bias in Data"
   ]
  },
  {
   "cell_type": "markdown",
   "metadata": {},
   "source": [
    "TBD UPDATE\n",
    "\n",
    "The assignment is at https://wiki.communitydata.cc/HCDS_(Fall_2017)/Assignments#A2:_Bias_in_data.\n",
    "\n",
    "TBD remove\n",
    "\n",
    "This notebook pulls, prepares, and analyzes data about the amount of monthly English Wikipedia traffic from January 1, 2008 through September 30, 2017. For more information about the work and data, refer to the [README](Readme.md).\n",
    "\n",
    "A few notes:\n",
    "- Normally I'd prefer to keep the explanation and background that's in the README here in the notebook, so everything's in a single file, but I've split it up this time as that's what the assignment requested. I won't copy/paste because keeping duplicate content in sync is horrible.\n",
    "- Real reproducibility needs tests for the code. A lot of my implementation below is in functions. I'd normally put these functions in at least one separate file that I import into this notebook, and I'd have tests in an additional file. For this assignment I'll just keep everything in this file, for simplicity, even though it means I can't test the code the way I normally would."
   ]
  },
  {
   "cell_type": "markdown",
   "metadata": {},
   "source": [
    "# Prereqs"
   ]
  },
  {
   "cell_type": "markdown",
   "metadata": {},
   "source": [
    "This code requires the libraries as described below."
   ]
  },
  {
   "cell_type": "code",
   "execution_count": 1,
   "metadata": {
    "collapsed": true
   },
   "outputs": [],
   "source": [
    "# retrieve, load data\n",
    "import requests\n",
    "import json\n",
    "import csv\n",
    "import os\n",
    "\n",
    "# prepare and analyze data\n",
    "import pandas as pd\n",
    "import numpy as np\n",
    "import matplotlib.pyplot as plt\n",
    "#from mpl_toolkits.axes_grid.anchored_artists import AnchoredText # for addtl annotations in charts\n",
    "#from matplotlib.ticker import FuncFormatter # for custom axis labels\n",
    "from IPython.core.pylabtools import figsize\n",
    "import seaborn as sns # for formatting\n",
    "%matplotlib inline "
   ]
  },
  {
   "cell_type": "code",
   "execution_count": 2,
   "metadata": {
    "collapsed": true
   },
   "outputs": [],
   "source": [
    "sns.set_style(\"whitegrid\")\n",
    "figsize(14,7)"
   ]
  },
  {
   "cell_type": "markdown",
   "metadata": {},
   "source": [
    "# Load data"
   ]
  },
  {
   "cell_type": "markdown",
   "metadata": {},
   "source": [
    "TBD UPDATE\n",
    "\n",
    "This section loads the data from the two APIs described in the README, producing five separate .json files, one for each API and access combination."
   ]
  },
  {
   "cell_type": "code",
   "execution_count": 3,
   "metadata": {},
   "outputs": [
    {
     "data": {
      "text/plain": [
       "(47997, 3)"
      ]
     },
     "execution_count": 3,
     "metadata": {},
     "output_type": "execute_result"
    }
   ],
   "source": [
    "d_wikipedia = pd.read_csv('page_data.csv')\n",
    "d_wikipedia.shape"
   ]
  },
  {
   "cell_type": "code",
   "execution_count": 4,
   "metadata": {},
   "outputs": [
    {
     "data": {
      "text/html": [
       "<div>\n",
       "<style>\n",
       "    .dataframe thead tr:only-child th {\n",
       "        text-align: right;\n",
       "    }\n",
       "\n",
       "    .dataframe thead th {\n",
       "        text-align: left;\n",
       "    }\n",
       "\n",
       "    .dataframe tbody tr th {\n",
       "        vertical-align: top;\n",
       "    }\n",
       "</style>\n",
       "<table border=\"1\" class=\"dataframe\">\n",
       "  <thead>\n",
       "    <tr style=\"text-align: right;\">\n",
       "      <th></th>\n",
       "      <th>country</th>\n",
       "      <th>page</th>\n",
       "      <th>last_edit</th>\n",
       "    </tr>\n",
       "  </thead>\n",
       "  <tbody>\n",
       "    <tr>\n",
       "      <th>0</th>\n",
       "      <td>Abkhazia</td>\n",
       "      <td>Zurab Achba</td>\n",
       "      <td>802551672</td>\n",
       "    </tr>\n",
       "    <tr>\n",
       "      <th>1</th>\n",
       "      <td>Abkhazia</td>\n",
       "      <td>Garri Aiba</td>\n",
       "      <td>774499188</td>\n",
       "    </tr>\n",
       "    <tr>\n",
       "      <th>2</th>\n",
       "      <td>Abkhazia</td>\n",
       "      <td>Zaur Avidzba</td>\n",
       "      <td>803841397</td>\n",
       "    </tr>\n",
       "  </tbody>\n",
       "</table>\n",
       "</div>"
      ],
      "text/plain": [
       "    country          page  last_edit\n",
       "0  Abkhazia   Zurab Achba  802551672\n",
       "1  Abkhazia    Garri Aiba  774499188\n",
       "2  Abkhazia  Zaur Avidzba  803841397"
      ]
     },
     "execution_count": 4,
     "metadata": {},
     "output_type": "execute_result"
    }
   ],
   "source": [
    "d_wikipedia[:3]"
   ]
  },
  {
   "cell_type": "code",
   "execution_count": 5,
   "metadata": {},
   "outputs": [
    {
     "data": {
      "text/plain": [
       "(210, 6)"
      ]
     },
     "execution_count": 5,
     "metadata": {},
     "output_type": "execute_result"
    }
   ],
   "source": [
    "d_population = pd.read_csv('Population Mid-2015.csv', skiprows=2, thousands=',')\n",
    "d_population.shape"
   ]
  },
  {
   "cell_type": "code",
   "execution_count": 6,
   "metadata": {},
   "outputs": [
    {
     "data": {
      "text/plain": [
       "country\n",
       "France            1695\n",
       "Australia         1568\n",
       "China             1138\n",
       "United States     1097\n",
       "Mexico            1079\n",
       "Pakistan          1069\n",
       "India              981\n",
       "Russia             956\n",
       "Spain              907\n",
       "United Kingdom     865\n",
       "dtype: int64"
      ]
     },
     "execution_count": 6,
     "metadata": {},
     "output_type": "execute_result"
    }
   ],
   "source": [
    "d_wikipedia.groupby(['country']).size().sort_values(ascending=False)[:10]"
   ]
  },
  {
   "cell_type": "code",
   "execution_count": 7,
   "metadata": {},
   "outputs": [
    {
     "data": {
      "text/html": [
       "<div>\n",
       "<style>\n",
       "    .dataframe thead tr:only-child th {\n",
       "        text-align: right;\n",
       "    }\n",
       "\n",
       "    .dataframe thead th {\n",
       "        text-align: left;\n",
       "    }\n",
       "\n",
       "    .dataframe tbody tr th {\n",
       "        vertical-align: top;\n",
       "    }\n",
       "</style>\n",
       "<table border=\"1\" class=\"dataframe\">\n",
       "  <thead>\n",
       "    <tr style=\"text-align: right;\">\n",
       "      <th></th>\n",
       "      <th>Location</th>\n",
       "      <th>Location Type</th>\n",
       "      <th>TimeFrame</th>\n",
       "      <th>Data Type</th>\n",
       "      <th>Data</th>\n",
       "      <th>Footnotes</th>\n",
       "    </tr>\n",
       "  </thead>\n",
       "  <tbody>\n",
       "    <tr>\n",
       "      <th>0</th>\n",
       "      <td>Afghanistan</td>\n",
       "      <td>Country</td>\n",
       "      <td>Mid-2015</td>\n",
       "      <td>Number</td>\n",
       "      <td>32247000</td>\n",
       "      <td>NaN</td>\n",
       "    </tr>\n",
       "    <tr>\n",
       "      <th>1</th>\n",
       "      <td>Albania</td>\n",
       "      <td>Country</td>\n",
       "      <td>Mid-2015</td>\n",
       "      <td>Number</td>\n",
       "      <td>2892000</td>\n",
       "      <td>NaN</td>\n",
       "    </tr>\n",
       "    <tr>\n",
       "      <th>2</th>\n",
       "      <td>Algeria</td>\n",
       "      <td>Country</td>\n",
       "      <td>Mid-2015</td>\n",
       "      <td>Number</td>\n",
       "      <td>39948000</td>\n",
       "      <td>NaN</td>\n",
       "    </tr>\n",
       "  </tbody>\n",
       "</table>\n",
       "</div>"
      ],
      "text/plain": [
       "      Location Location Type TimeFrame Data Type      Data  Footnotes\n",
       "0  Afghanistan       Country  Mid-2015    Number  32247000        NaN\n",
       "1      Albania       Country  Mid-2015    Number   2892000        NaN\n",
       "2      Algeria       Country  Mid-2015    Number  39948000        NaN"
      ]
     },
     "execution_count": 7,
     "metadata": {},
     "output_type": "execute_result"
    }
   ],
   "source": [
    "d_population[:3]"
   ]
  },
  {
   "cell_type": "markdown",
   "metadata": {},
   "source": [
    "## Pull article scores"
   ]
  },
  {
   "cell_type": "markdown",
   "metadata": {},
   "source": [
    "Docs: https://ores.wikimedia.org/v3/#!/scoring/get_v3_scores_context_revid_model and https://ores.wikimedia.org/v3/#!/scoring/get_v3_scores_context"
   ]
  },
  {
   "cell_type": "markdown",
   "metadata": {},
   "source": [
    "Note that when I try the multiple rev ID API with a bunch of valid IDs and one that's a text string, then it gives me a 500 and no data at all. However when I try with a bunch of valid IDs and an ID that's not valid - like -1 - then I get valid/good data for the valid IDs and output like the following. This seems good: I'll go ahead and try just pulling batches of IDs w/o further error handling.\n",
    "\n",
    "    \"-1\": {\n",
    "        \"wp10\": {\n",
    "          \"error\": {\n",
    "            \"message\": \"RevisionNotFound: Could not find revision ({revision}:-1)\",\n",
    "            \"type\": \"RevisionNotFound\"\n",
    "          }\n",
    "        }"
   ]
  },
  {
   "cell_type": "code",
   "execution_count": 8,
   "metadata": {
    "collapsed": true
   },
   "outputs": [],
   "source": [
    "user_agent = 'https://github.com/aenfield'\n",
    "\n",
    "def get_multiple_full_ores_score_json(rev_ids):\n",
    "    \"\"\"TBD referring to ..., with rev_ids as a list\"\"\"\n",
    "    endpoint = 'https://ores.wikimedia.org/v3/scores/enwiki?models=wp10&revids={rev_ids_delimited}'\n",
    "\n",
    "    rev_ids_delimited = '|'.join([str(i) for i in rev_ids])\n",
    "\n",
    "    params = { 'rev_ids_delimited' : rev_ids_delimited }\n",
    "\n",
    "    api_call = requests.get(endpoint.format(**params), headers = {'User-Agent':'{}'.format(user_agent)})\n",
    "    return api_call.json()\n",
    "    \n",
    "def get_ores_prediction_from_score_json(score_json, rev_id):\n",
    "    \"\"\"Return the most likely article type, per ORES. Assumes a JSON dict from Ores. \"\"\"\n",
    "    return score_json['enwiki']['scores'][str(rev_id)]['wp10']['score']['prediction']\n",
    "            \n",
    "def chunker(seq, size):\n",
    "    \"\"\"Get a generator that returns chunks of size 'size' of the sequence in 'seq'.\n",
    "    \n",
    "    From: https://stackoverflow.com/questions/434287/what-is-the-most-pythonic-way-to-iterate-over-a-list-in-chunks\n",
    "    \"\"\"\n",
    "    return (seq[pos:pos + size] for pos in range(0, len(seq), size))\n",
    "\n",
    "def get_article_scores_data(rev_ids, force=False, verbose=False):\n",
    "    \"\"\"TBD update Download and save results from the specified API to a local file, by default only if local file doesn't exist.\n",
    "    TBD call with d_wikipedia['last_edit'].values for 'rev_ids'\n",
    "    \n",
    "    apiname - 'pagecounts' or 'pageviews'\n",
    "    params - a dict containing 'access', 'start', and 'end' keys; use get_param_dict_from_params\n",
    "    user_agent - an identifier for the user making the request; can be a GitHub user URL or general email address\n",
    "    force - download data and overwrite local file, even if file already exists; default is False\n",
    "    verbose - print diagnostic data; default is false\n",
    "    \"\"\"\n",
    "    \n",
    "    filename = 'article_scores.csv'\n",
    "\n",
    "    if (not os.path.exists(filename)) | (force == True):\n",
    "        # download and save the data locally\n",
    "        if verbose: print(\"Local file doesn't exist or download was forced. Downloading...\")\n",
    "        with open(filename, 'w') as output_file:\n",
    "            writer = csv.writer(output_file, delimiter=',')\n",
    "            writer.writerow(['RevisionId','Score'])\n",
    "\n",
    "            progress_frequency = 25\n",
    "            count_of_rev_ids_in_chunk = 140\n",
    "            rev_ids_in_chunks = [x for x in chunker(rev_ids, count_of_rev_ids_in_chunk)]\n",
    "\n",
    "            for chunk_index, chunk_of_rev_ids in enumerate(rev_ids_in_chunks):\n",
    "                if (chunk_index % progress_frequency == 0): print(f\"Retrieving chunk with index {chunk_index}.\")\n",
    "\n",
    "                scores_json = get_multiple_full_ores_score_json(chunk_of_rev_ids)\n",
    "                for rev_id in chunk_of_rev_ids:\n",
    "                    writer.writerow([rev_id, get_ores_prediction_from_score_json(scores_json, rev_id)])\n",
    "\n",
    "            if verbose: print(f\"Retrieved {chunk_index + 1} chunks and saved to {filename}. Done.\")        \n",
    "    else:\n",
    "        if verbose: print(\"Local file exists already.\")\n",
    "                  \n",
    "    # now open and return dataframe\n",
    "    return pd.read_csv(filename, index_col='RevisionId')"
   ]
  },
  {
   "cell_type": "code",
   "execution_count": 9,
   "metadata": {},
   "outputs": [
    {
     "data": {
      "text/plain": [
       "(47997, 1)"
      ]
     },
     "execution_count": 9,
     "metadata": {},
     "output_type": "execute_result"
    }
   ],
   "source": [
    "d_scores = get_article_scores_data(d_wikipedia['last_edit'].values)\n",
    "d_scores.shape"
   ]
  },
  {
   "cell_type": "code",
   "execution_count": 10,
   "metadata": {},
   "outputs": [
    {
     "data": {
      "text/html": [
       "<div>\n",
       "<style>\n",
       "    .dataframe thead tr:only-child th {\n",
       "        text-align: right;\n",
       "    }\n",
       "\n",
       "    .dataframe thead th {\n",
       "        text-align: left;\n",
       "    }\n",
       "\n",
       "    .dataframe tbody tr th {\n",
       "        vertical-align: top;\n",
       "    }\n",
       "</style>\n",
       "<table border=\"1\" class=\"dataframe\">\n",
       "  <thead>\n",
       "    <tr style=\"text-align: right;\">\n",
       "      <th></th>\n",
       "      <th>Score</th>\n",
       "    </tr>\n",
       "    <tr>\n",
       "      <th>RevisionId</th>\n",
       "      <th></th>\n",
       "    </tr>\n",
       "  </thead>\n",
       "  <tbody>\n",
       "    <tr>\n",
       "      <th>802551672</th>\n",
       "      <td>C</td>\n",
       "    </tr>\n",
       "    <tr>\n",
       "      <th>774499188</th>\n",
       "      <td>Stub</td>\n",
       "    </tr>\n",
       "    <tr>\n",
       "      <th>803841397</th>\n",
       "      <td>C</td>\n",
       "    </tr>\n",
       "  </tbody>\n",
       "</table>\n",
       "</div>"
      ],
      "text/plain": [
       "           Score\n",
       "RevisionId      \n",
       "802551672      C\n",
       "774499188   Stub\n",
       "803841397      C"
      ]
     },
     "execution_count": 10,
     "metadata": {},
     "output_type": "execute_result"
    }
   ],
   "source": [
    "d_scores[:3]"
   ]
  },
  {
   "cell_type": "code",
   "execution_count": 11,
   "metadata": {},
   "outputs": [
    {
     "data": {
      "text/plain": [
       "(49827, 4)"
      ]
     },
     "execution_count": 11,
     "metadata": {},
     "output_type": "execute_result"
    }
   ],
   "source": [
    "d_wikipedia_with_scores = pd.merge(left=d_wikipedia, right=d_scores, left_on='last_edit', right_index=True, how='left')\n",
    "d_wikipedia_with_scores.shape"
   ]
  },
  {
   "cell_type": "code",
   "execution_count": 12,
   "metadata": {},
   "outputs": [
    {
     "data": {
      "text/html": [
       "<div>\n",
       "<style>\n",
       "    .dataframe thead tr:only-child th {\n",
       "        text-align: right;\n",
       "    }\n",
       "\n",
       "    .dataframe thead th {\n",
       "        text-align: left;\n",
       "    }\n",
       "\n",
       "    .dataframe tbody tr th {\n",
       "        vertical-align: top;\n",
       "    }\n",
       "</style>\n",
       "<table border=\"1\" class=\"dataframe\">\n",
       "  <thead>\n",
       "    <tr style=\"text-align: right;\">\n",
       "      <th></th>\n",
       "      <th>country</th>\n",
       "      <th>page</th>\n",
       "      <th>last_edit</th>\n",
       "      <th>Score</th>\n",
       "    </tr>\n",
       "  </thead>\n",
       "  <tbody>\n",
       "    <tr>\n",
       "      <th>0</th>\n",
       "      <td>Abkhazia</td>\n",
       "      <td>Zurab Achba</td>\n",
       "      <td>802551672</td>\n",
       "      <td>C</td>\n",
       "    </tr>\n",
       "    <tr>\n",
       "      <th>1</th>\n",
       "      <td>Abkhazia</td>\n",
       "      <td>Garri Aiba</td>\n",
       "      <td>774499188</td>\n",
       "      <td>Stub</td>\n",
       "    </tr>\n",
       "    <tr>\n",
       "      <th>2</th>\n",
       "      <td>Abkhazia</td>\n",
       "      <td>Zaur Avidzba</td>\n",
       "      <td>803841397</td>\n",
       "      <td>C</td>\n",
       "    </tr>\n",
       "  </tbody>\n",
       "</table>\n",
       "</div>"
      ],
      "text/plain": [
       "    country          page  last_edit Score\n",
       "0  Abkhazia   Zurab Achba  802551672     C\n",
       "1  Abkhazia    Garri Aiba  774499188  Stub\n",
       "2  Abkhazia  Zaur Avidzba  803841397     C"
      ]
     },
     "execution_count": 12,
     "metadata": {},
     "output_type": "execute_result"
    }
   ],
   "source": [
    "d_wikipedia_with_scores[:3]"
   ]
  },
  {
   "cell_type": "code",
   "execution_count": 13,
   "metadata": {},
   "outputs": [
    {
     "data": {
      "text/plain": [
       "Stub     25336\n",
       "Start    16239\n",
       "C         6203\n",
       "GA         937\n",
       "B          777\n",
       "FA         335\n",
       "Name: Score, dtype: int64"
      ]
     },
     "execution_count": 13,
     "metadata": {},
     "output_type": "execute_result"
    }
   ],
   "source": [
    "d_wikipedia_with_scores['Score'].value_counts(dropna=False)"
   ]
  },
  {
   "cell_type": "code",
   "execution_count": 14,
   "metadata": {},
   "outputs": [
    {
     "data": {
      "text/plain": [
       "(47997, 3)"
      ]
     },
     "execution_count": 14,
     "metadata": {},
     "output_type": "execute_result"
    }
   ],
   "source": [
    "d_wikipedia.shape"
   ]
  },
  {
   "cell_type": "code",
   "execution_count": 15,
   "metadata": {},
   "outputs": [
    {
     "data": {
      "text/plain": [
       "1830"
      ]
     },
     "execution_count": 15,
     "metadata": {},
     "output_type": "execute_result"
    }
   ],
   "source": [
    "len(d_wikipedia_with_scores) - len(d_wikipedia)"
   ]
  },
  {
   "cell_type": "code",
   "execution_count": 16,
   "metadata": {},
   "outputs": [
    {
     "data": {
      "text/plain": [
       "(47997, 1)"
      ]
     },
     "execution_count": 16,
     "metadata": {},
     "output_type": "execute_result"
    }
   ],
   "source": [
    "d_scores.shape"
   ]
  },
  {
   "cell_type": "code",
   "execution_count": 17,
   "metadata": {},
   "outputs": [
    {
     "name": "stdout",
     "output_type": "stream",
     "text": [
      "<class 'pandas.core.frame.DataFrame'>\n",
      "Int64Index: 49827 entries, 0 to 47996\n",
      "Data columns (total 4 columns):\n",
      "country      49827 non-null object\n",
      "page         49827 non-null object\n",
      "last_edit    49827 non-null int64\n",
      "Score        49827 non-null object\n",
      "dtypes: int64(1), object(3)\n",
      "memory usage: 1.9+ MB\n"
     ]
    }
   ],
   "source": [
    "d_wikipedia_with_scores.info()"
   ]
  },
  {
   "cell_type": "code",
   "execution_count": 18,
   "metadata": {
    "collapsed": true
   },
   "outputs": [],
   "source": [
    "# d_wikipedia_with_scores.to_excel('eyeball.xlsx')"
   ]
  },
  {
   "cell_type": "code",
   "execution_count": 19,
   "metadata": {},
   "outputs": [
    {
     "data": {
      "text/plain": [
       "47122"
      ]
     },
     "execution_count": 19,
     "metadata": {},
     "output_type": "execute_result"
    }
   ],
   "source": [
    "len(d_wikipedia_with_scores['last_edit'].unique())"
   ]
  },
  {
   "cell_type": "code",
   "execution_count": 20,
   "metadata": {},
   "outputs": [
    {
     "data": {
      "text/plain": [
       "47122"
      ]
     },
     "execution_count": 20,
     "metadata": {},
     "output_type": "execute_result"
    }
   ],
   "source": [
    "len(d_wikipedia['last_edit'].unique())"
   ]
  },
  {
   "cell_type": "code",
   "execution_count": 21,
   "metadata": {},
   "outputs": [
    {
     "data": {
      "text/plain": [
       "47122"
      ]
     },
     "execution_count": 21,
     "metadata": {},
     "output_type": "execute_result"
    }
   ],
   "source": [
    "len(d_scores.index.unique())"
   ]
  },
  {
   "cell_type": "code",
   "execution_count": 22,
   "metadata": {},
   "outputs": [
    {
     "data": {
      "text/html": [
       "<div>\n",
       "<style>\n",
       "    .dataframe thead tr:only-child th {\n",
       "        text-align: right;\n",
       "    }\n",
       "\n",
       "    .dataframe thead th {\n",
       "        text-align: left;\n",
       "    }\n",
       "\n",
       "    .dataframe tbody tr th {\n",
       "        vertical-align: top;\n",
       "    }\n",
       "</style>\n",
       "<table border=\"1\" class=\"dataframe\">\n",
       "  <thead>\n",
       "    <tr style=\"text-align: right;\">\n",
       "      <th></th>\n",
       "      <th>country</th>\n",
       "      <th>page</th>\n",
       "      <th>last_edit</th>\n",
       "    </tr>\n",
       "  </thead>\n",
       "  <tbody>\n",
       "    <tr>\n",
       "      <th>9821</th>\n",
       "      <td>Cape Colony</td>\n",
       "      <td>George Grey</td>\n",
       "      <td>647367482</td>\n",
       "    </tr>\n",
       "  </tbody>\n",
       "</table>\n",
       "</div>"
      ],
      "text/plain": [
       "          country         page  last_edit\n",
       "9821  Cape Colony  George Grey  647367482"
      ]
     },
     "execution_count": 22,
     "metadata": {},
     "output_type": "execute_result"
    }
   ],
   "source": [
    "d_wikipedia[d_wikipedia['page'] == 'George Grey']"
   ]
  },
  {
   "cell_type": "code",
   "execution_count": 23,
   "metadata": {},
   "outputs": [
    {
     "data": {
      "text/html": [
       "<div>\n",
       "<style>\n",
       "    .dataframe thead tr:only-child th {\n",
       "        text-align: right;\n",
       "    }\n",
       "\n",
       "    .dataframe thead th {\n",
       "        text-align: left;\n",
       "    }\n",
       "\n",
       "    .dataframe tbody tr th {\n",
       "        vertical-align: top;\n",
       "    }\n",
       "</style>\n",
       "<table border=\"1\" class=\"dataframe\">\n",
       "  <thead>\n",
       "    <tr style=\"text-align: right;\">\n",
       "      <th></th>\n",
       "      <th>country</th>\n",
       "      <th>page</th>\n",
       "      <th>last_edit</th>\n",
       "    </tr>\n",
       "  </thead>\n",
       "  <tbody>\n",
       "    <tr>\n",
       "      <th>9821</th>\n",
       "      <td>Cape Colony</td>\n",
       "      <td>George Grey</td>\n",
       "      <td>647367482</td>\n",
       "    </tr>\n",
       "    <tr>\n",
       "      <th>41369</th>\n",
       "      <td>South Africa</td>\n",
       "      <td>Klaas Afrikaner</td>\n",
       "      <td>647367482</td>\n",
       "    </tr>\n",
       "  </tbody>\n",
       "</table>\n",
       "</div>"
      ],
      "text/plain": [
       "            country             page  last_edit\n",
       "9821    Cape Colony      George Grey  647367482\n",
       "41369  South Africa  Klaas Afrikaner  647367482"
      ]
     },
     "execution_count": 23,
     "metadata": {},
     "output_type": "execute_result"
    }
   ],
   "source": [
    "d_wikipedia[d_wikipedia['last_edit'] == 647367482]"
   ]
  },
  {
   "cell_type": "code",
   "execution_count": 24,
   "metadata": {},
   "outputs": [
    {
     "data": {
      "text/html": [
       "<div>\n",
       "<style>\n",
       "    .dataframe thead tr:only-child th {\n",
       "        text-align: right;\n",
       "    }\n",
       "\n",
       "    .dataframe thead th {\n",
       "        text-align: left;\n",
       "    }\n",
       "\n",
       "    .dataframe tbody tr th {\n",
       "        vertical-align: top;\n",
       "    }\n",
       "</style>\n",
       "<table border=\"1\" class=\"dataframe\">\n",
       "  <thead>\n",
       "    <tr style=\"text-align: right;\">\n",
       "      <th></th>\n",
       "      <th>country</th>\n",
       "      <th>page</th>\n",
       "      <th>last_edit</th>\n",
       "      <th>Score</th>\n",
       "    </tr>\n",
       "  </thead>\n",
       "  <tbody>\n",
       "    <tr>\n",
       "      <th>9821</th>\n",
       "      <td>Cape Colony</td>\n",
       "      <td>George Grey</td>\n",
       "      <td>647367482</td>\n",
       "      <td>Start</td>\n",
       "    </tr>\n",
       "    <tr>\n",
       "      <th>9821</th>\n",
       "      <td>Cape Colony</td>\n",
       "      <td>George Grey</td>\n",
       "      <td>647367482</td>\n",
       "      <td>Start</td>\n",
       "    </tr>\n",
       "  </tbody>\n",
       "</table>\n",
       "</div>"
      ],
      "text/plain": [
       "          country         page  last_edit  Score\n",
       "9821  Cape Colony  George Grey  647367482  Start\n",
       "9821  Cape Colony  George Grey  647367482  Start"
      ]
     },
     "execution_count": 24,
     "metadata": {},
     "output_type": "execute_result"
    }
   ],
   "source": [
    "d_wikipedia_with_scores[d_wikipedia_with_scores['page'] == 'George Grey']"
   ]
  },
  {
   "cell_type": "code",
   "execution_count": 25,
   "metadata": {},
   "outputs": [
    {
     "data": {
      "text/html": [
       "<div>\n",
       "<style>\n",
       "    .dataframe thead tr:only-child th {\n",
       "        text-align: right;\n",
       "    }\n",
       "\n",
       "    .dataframe thead th {\n",
       "        text-align: left;\n",
       "    }\n",
       "\n",
       "    .dataframe tbody tr th {\n",
       "        vertical-align: top;\n",
       "    }\n",
       "</style>\n",
       "<table border=\"1\" class=\"dataframe\">\n",
       "  <thead>\n",
       "    <tr style=\"text-align: right;\">\n",
       "      <th></th>\n",
       "      <th>country</th>\n",
       "      <th>page</th>\n",
       "      <th>last_edit</th>\n",
       "      <th>Score</th>\n",
       "    </tr>\n",
       "  </thead>\n",
       "  <tbody>\n",
       "    <tr>\n",
       "      <th>9821</th>\n",
       "      <td>Cape Colony</td>\n",
       "      <td>George Grey</td>\n",
       "      <td>647367482</td>\n",
       "      <td>Start</td>\n",
       "    </tr>\n",
       "    <tr>\n",
       "      <th>9821</th>\n",
       "      <td>Cape Colony</td>\n",
       "      <td>George Grey</td>\n",
       "      <td>647367482</td>\n",
       "      <td>Start</td>\n",
       "    </tr>\n",
       "    <tr>\n",
       "      <th>41369</th>\n",
       "      <td>South Africa</td>\n",
       "      <td>Klaas Afrikaner</td>\n",
       "      <td>647367482</td>\n",
       "      <td>Start</td>\n",
       "    </tr>\n",
       "    <tr>\n",
       "      <th>41369</th>\n",
       "      <td>South Africa</td>\n",
       "      <td>Klaas Afrikaner</td>\n",
       "      <td>647367482</td>\n",
       "      <td>Start</td>\n",
       "    </tr>\n",
       "  </tbody>\n",
       "</table>\n",
       "</div>"
      ],
      "text/plain": [
       "            country             page  last_edit  Score\n",
       "9821    Cape Colony      George Grey  647367482  Start\n",
       "9821    Cape Colony      George Grey  647367482  Start\n",
       "41369  South Africa  Klaas Afrikaner  647367482  Start\n",
       "41369  South Africa  Klaas Afrikaner  647367482  Start"
      ]
     },
     "execution_count": 25,
     "metadata": {},
     "output_type": "execute_result"
    }
   ],
   "source": [
    "d_wikipedia_with_scores[d_wikipedia_with_scores['last_edit'] == 647367482]"
   ]
  },
  {
   "cell_type": "code",
   "execution_count": 26,
   "metadata": {},
   "outputs": [
    {
     "data": {
      "text/html": [
       "<div>\n",
       "<style>\n",
       "    .dataframe thead tr:only-child th {\n",
       "        text-align: right;\n",
       "    }\n",
       "\n",
       "    .dataframe thead th {\n",
       "        text-align: left;\n",
       "    }\n",
       "\n",
       "    .dataframe tbody tr th {\n",
       "        vertical-align: top;\n",
       "    }\n",
       "</style>\n",
       "<table border=\"1\" class=\"dataframe\">\n",
       "  <thead>\n",
       "    <tr style=\"text-align: right;\">\n",
       "      <th></th>\n",
       "      <th>country</th>\n",
       "      <th>page</th>\n",
       "      <th>last_edit</th>\n",
       "      <th>Score</th>\n",
       "    </tr>\n",
       "  </thead>\n",
       "  <tbody>\n",
       "    <tr>\n",
       "      <th>47763</th>\n",
       "      <td>Zimbabwe</td>\n",
       "      <td>John Ralph Beaumont</td>\n",
       "      <td>574571582</td>\n",
       "      <td>Stub</td>\n",
       "    </tr>\n",
       "    <tr>\n",
       "      <th>47763</th>\n",
       "      <td>Zimbabwe</td>\n",
       "      <td>John Ralph Beaumont</td>\n",
       "      <td>574571582</td>\n",
       "      <td>Stub</td>\n",
       "    </tr>\n",
       "    <tr>\n",
       "      <th>38018</th>\n",
       "      <td>Rhodesian</td>\n",
       "      <td>William Fairbridge</td>\n",
       "      <td>574571582</td>\n",
       "      <td>Stub</td>\n",
       "    </tr>\n",
       "    <tr>\n",
       "      <th>38018</th>\n",
       "      <td>Rhodesian</td>\n",
       "      <td>William Fairbridge</td>\n",
       "      <td>574571582</td>\n",
       "      <td>Stub</td>\n",
       "    </tr>\n",
       "    <tr>\n",
       "      <th>40948</th>\n",
       "      <td>Somalia</td>\n",
       "      <td>Qamar Aden Ali</td>\n",
       "      <td>612095066</td>\n",
       "      <td>Stub</td>\n",
       "    </tr>\n",
       "    <tr>\n",
       "      <th>40948</th>\n",
       "      <td>Somalia</td>\n",
       "      <td>Qamar Aden Ali</td>\n",
       "      <td>612095066</td>\n",
       "      <td>Stub</td>\n",
       "    </tr>\n",
       "    <tr>\n",
       "      <th>41298</th>\n",
       "      <td>South Africa</td>\n",
       "      <td>Tasneem Essop</td>\n",
       "      <td>612095066</td>\n",
       "      <td>Stub</td>\n",
       "    </tr>\n",
       "    <tr>\n",
       "      <th>41298</th>\n",
       "      <td>South Africa</td>\n",
       "      <td>Tasneem Essop</td>\n",
       "      <td>612095066</td>\n",
       "      <td>Stub</td>\n",
       "    </tr>\n",
       "    <tr>\n",
       "      <th>9821</th>\n",
       "      <td>Cape Colony</td>\n",
       "      <td>George Grey</td>\n",
       "      <td>647367482</td>\n",
       "      <td>Start</td>\n",
       "    </tr>\n",
       "    <tr>\n",
       "      <th>9821</th>\n",
       "      <td>Cape Colony</td>\n",
       "      <td>George Grey</td>\n",
       "      <td>647367482</td>\n",
       "      <td>Start</td>\n",
       "    </tr>\n",
       "  </tbody>\n",
       "</table>\n",
       "</div>"
      ],
      "text/plain": [
       "            country                 page  last_edit  Score\n",
       "47763      Zimbabwe  John Ralph Beaumont  574571582   Stub\n",
       "47763      Zimbabwe  John Ralph Beaumont  574571582   Stub\n",
       "38018     Rhodesian   William Fairbridge  574571582   Stub\n",
       "38018     Rhodesian   William Fairbridge  574571582   Stub\n",
       "40948       Somalia       Qamar Aden Ali  612095066   Stub\n",
       "40948       Somalia       Qamar Aden Ali  612095066   Stub\n",
       "41298  South Africa        Tasneem Essop  612095066   Stub\n",
       "41298  South Africa        Tasneem Essop  612095066   Stub\n",
       "9821    Cape Colony          George Grey  647367482  Start\n",
       "9821    Cape Colony          George Grey  647367482  Start"
      ]
     },
     "execution_count": 26,
     "metadata": {},
     "output_type": "execute_result"
    }
   ],
   "source": [
    "dupes = d_wikipedia_with_scores[d_wikipedia_with_scores.duplicated(subset='last_edit', keep=False)].sort_values(['last_edit','page'])\n",
    "dupes[:10]"
   ]
  },
  {
   "cell_type": "code",
   "execution_count": 27,
   "metadata": {},
   "outputs": [
    {
     "data": {
      "text/plain": [
       "838"
      ]
     },
     "execution_count": 27,
     "metadata": {},
     "output_type": "execute_result"
    }
   ],
   "source": [
    "len(dupes.groupby(['last_edit']).size())"
   ]
  },
  {
   "cell_type": "code",
   "execution_count": 28,
   "metadata": {},
   "outputs": [
    {
     "data": {
      "text/plain": [
       "806153574    25\n",
       "770939478     9\n",
       "716574519     9\n",
       "Name: last_edit, dtype: int64"
      ]
     },
     "execution_count": 28,
     "metadata": {},
     "output_type": "execute_result"
    }
   ],
   "source": [
    "dupes['last_edit'].value_counts(dropna=False)[:3]"
   ]
  },
  {
   "cell_type": "code",
   "execution_count": 29,
   "metadata": {},
   "outputs": [
    {
     "data": {
      "text/plain": [
       "(47122, 1)"
      ]
     },
     "execution_count": 29,
     "metadata": {},
     "output_type": "execute_result"
    }
   ],
   "source": [
    "# remove duplicate score rows (that come from page_data.csv having duplicate rev IDs)\n",
    "# all index values should have the same score, since the score comes from the API and\n",
    "# is based only on the rev ID/index value, so we can drop all and keep any one\n",
    "d_scores_nodupes = d_scores[~d_scores.index.duplicated(keep='first')]\n",
    "d_scores_nodupes.shape"
   ]
  },
  {
   "cell_type": "code",
   "execution_count": 30,
   "metadata": {},
   "outputs": [
    {
     "data": {
      "text/plain": [
       "True"
      ]
     },
     "execution_count": 30,
     "metadata": {},
     "output_type": "execute_result"
    }
   ],
   "source": [
    "d_scores_nodupes.index.is_unique"
   ]
  },
  {
   "cell_type": "code",
   "execution_count": 31,
   "metadata": {},
   "outputs": [
    {
     "data": {
      "text/plain": [
       "(47997, 4)"
      ]
     },
     "execution_count": 31,
     "metadata": {},
     "output_type": "execute_result"
    }
   ],
   "source": [
    "# and then redo the join\n",
    "d_wikipedia_with_scores = pd.merge(left=d_wikipedia, right=d_scores_nodupes, left_on='last_edit', right_index=True, how='left')\n",
    "d_wikipedia_with_scores.shape"
   ]
  },
  {
   "cell_type": "code",
   "execution_count": 32,
   "metadata": {},
   "outputs": [
    {
     "data": {
      "text/plain": [
       "(47997, 3)"
      ]
     },
     "execution_count": 32,
     "metadata": {},
     "output_type": "execute_result"
    }
   ],
   "source": [
    "d_wikipedia.shape"
   ]
  },
  {
   "cell_type": "code",
   "execution_count": 33,
   "metadata": {},
   "outputs": [
    {
     "data": {
      "text/html": [
       "<div>\n",
       "<style>\n",
       "    .dataframe thead tr:only-child th {\n",
       "        text-align: right;\n",
       "    }\n",
       "\n",
       "    .dataframe thead th {\n",
       "        text-align: left;\n",
       "    }\n",
       "\n",
       "    .dataframe tbody tr th {\n",
       "        vertical-align: top;\n",
       "    }\n",
       "</style>\n",
       "<table border=\"1\" class=\"dataframe\">\n",
       "  <thead>\n",
       "    <tr style=\"text-align: right;\">\n",
       "      <th></th>\n",
       "      <th>country</th>\n",
       "      <th>page</th>\n",
       "      <th>last_edit</th>\n",
       "      <th>Score</th>\n",
       "    </tr>\n",
       "  </thead>\n",
       "  <tbody>\n",
       "    <tr>\n",
       "      <th>0</th>\n",
       "      <td>Abkhazia</td>\n",
       "      <td>Zurab Achba</td>\n",
       "      <td>802551672</td>\n",
       "      <td>C</td>\n",
       "    </tr>\n",
       "    <tr>\n",
       "      <th>1</th>\n",
       "      <td>Abkhazia</td>\n",
       "      <td>Garri Aiba</td>\n",
       "      <td>774499188</td>\n",
       "      <td>Stub</td>\n",
       "    </tr>\n",
       "    <tr>\n",
       "      <th>2</th>\n",
       "      <td>Abkhazia</td>\n",
       "      <td>Zaur Avidzba</td>\n",
       "      <td>803841397</td>\n",
       "      <td>C</td>\n",
       "    </tr>\n",
       "  </tbody>\n",
       "</table>\n",
       "</div>"
      ],
      "text/plain": [
       "    country          page  last_edit Score\n",
       "0  Abkhazia   Zurab Achba  802551672     C\n",
       "1  Abkhazia    Garri Aiba  774499188  Stub\n",
       "2  Abkhazia  Zaur Avidzba  803841397     C"
      ]
     },
     "execution_count": 33,
     "metadata": {},
     "output_type": "execute_result"
    }
   ],
   "source": [
    "d_wikipedia_with_scores[:3]"
   ]
  },
  {
   "cell_type": "markdown",
   "metadata": {},
   "source": [
    "Join to pull in the population data. For now we'll do an outer join so we can see the country values that don't exist on _both_ sides of the join. This isn't needed for the assignment because it says to just remove all rows that don't have matching data. But, I'm curious and I also want to at least see if there are places where I could do any further matching to expand/improve the data."
   ]
  },
  {
   "cell_type": "code",
   "execution_count": 34,
   "metadata": {},
   "outputs": [
    {
     "data": {
      "text/plain": [
       "(48022, 6)"
      ]
     },
     "execution_count": 34,
     "metadata": {},
     "output_type": "execute_result"
    }
   ],
   "source": [
    "d_all = pd.merge(left=d_wikipedia_with_scores, right=d_population[['Location','Data']],\n",
    "                 how='outer', left_on='country', right_on='Location')\n",
    "d_all.shape"
   ]
  },
  {
   "cell_type": "code",
   "execution_count": 35,
   "metadata": {},
   "outputs": [
    {
     "data": {
      "text/html": [
       "<div>\n",
       "<style>\n",
       "    .dataframe thead tr:only-child th {\n",
       "        text-align: right;\n",
       "    }\n",
       "\n",
       "    .dataframe thead th {\n",
       "        text-align: left;\n",
       "    }\n",
       "\n",
       "    .dataframe tbody tr th {\n",
       "        vertical-align: top;\n",
       "    }\n",
       "</style>\n",
       "<table border=\"1\" class=\"dataframe\">\n",
       "  <thead>\n",
       "    <tr style=\"text-align: right;\">\n",
       "      <th></th>\n",
       "      <th>country</th>\n",
       "      <th>page</th>\n",
       "      <th>last_edit</th>\n",
       "      <th>Score</th>\n",
       "      <th>Location</th>\n",
       "      <th>Data</th>\n",
       "    </tr>\n",
       "  </thead>\n",
       "  <tbody>\n",
       "    <tr>\n",
       "      <th>0</th>\n",
       "      <td>Abkhazia</td>\n",
       "      <td>Zurab Achba</td>\n",
       "      <td>802551672.0</td>\n",
       "      <td>C</td>\n",
       "      <td>NaN</td>\n",
       "      <td>NaN</td>\n",
       "    </tr>\n",
       "    <tr>\n",
       "      <th>1</th>\n",
       "      <td>Abkhazia</td>\n",
       "      <td>Garri Aiba</td>\n",
       "      <td>774499188.0</td>\n",
       "      <td>Stub</td>\n",
       "      <td>NaN</td>\n",
       "      <td>NaN</td>\n",
       "    </tr>\n",
       "    <tr>\n",
       "      <th>2</th>\n",
       "      <td>Abkhazia</td>\n",
       "      <td>Zaur Avidzba</td>\n",
       "      <td>803841397.0</td>\n",
       "      <td>C</td>\n",
       "      <td>NaN</td>\n",
       "      <td>NaN</td>\n",
       "    </tr>\n",
       "  </tbody>\n",
       "</table>\n",
       "</div>"
      ],
      "text/plain": [
       "    country          page    last_edit Score Location  Data\n",
       "0  Abkhazia   Zurab Achba  802551672.0     C      NaN   NaN\n",
       "1  Abkhazia    Garri Aiba  774499188.0  Stub      NaN   NaN\n",
       "2  Abkhazia  Zaur Avidzba  803841397.0     C      NaN   NaN"
      ]
     },
     "execution_count": 35,
     "metadata": {},
     "output_type": "execute_result"
    }
   ],
   "source": [
    "d_all[:3]"
   ]
  },
  {
   "cell_type": "markdown",
   "metadata": {},
   "source": [
    "Now show the countries that exist on each side but not on the other."
   ]
  },
  {
   "cell_type": "markdown",
   "metadata": {},
   "source": [
    "First, countries that exist in the Wikipedia data but not in the population data, w/ the number of rows - here, the number of pages - for each"
   ]
  },
  {
   "cell_type": "code",
   "execution_count": 36,
   "metadata": {},
   "outputs": [
    {
     "data": {
      "text/plain": [
       "Hondura                             190\n",
       "South Korean                        157\n",
       "Salvadoran                          120\n",
       "Burkinabé                            97\n",
       "Faroese                              85\n",
       "Cape Colony                          81\n",
       "Ivorian                              79\n",
       "Samoan                               78\n",
       "Rhodesian                            78\n",
       "Cook Island                          67\n",
       "Jersey                               61\n",
       "Saint Lucian                         48\n",
       "Pitcairn Islands                     46\n",
       "Chechen                              38\n",
       "East Timorese                        36\n",
       "Saint Kitts and Nevis                32\n",
       "South African Republic               31\n",
       "Montserratian                        29\n",
       "Tokelauan                            27\n",
       "Greenlandic                          26\n",
       "Guernsey                             25\n",
       "Niuean                               25\n",
       "Somaliland                           25\n",
       "Omani                                25\n",
       "Palauan                              23\n",
       "Carniolan                            22\n",
       "Saint Vincent and the Grenadines     22\n",
       "São Tomé and Príncipe                22\n",
       "South Ossetian                       19\n",
       "Abkhazia                             16\n",
       "Ossetian                              9\n",
       "Dagestani                             7\n",
       "Rojava                                3\n",
       "Name: country, dtype: int64"
      ]
     },
     "execution_count": 36,
     "metadata": {},
     "output_type": "execute_result"
    }
   ],
   "source": [
    "d_all[d_all['Location'].isnull()]['country'].value_counts(dropna=False)"
   ]
  },
  {
   "cell_type": "markdown",
   "metadata": {},
   "source": [
    "And the countries that exist in the population data but not in the Wikipedia data."
   ]
  },
  {
   "cell_type": "code",
   "execution_count": 37,
   "metadata": {},
   "outputs": [
    {
     "data": {
      "text/plain": [
       "Channel Islands                 1\n",
       "French Polynesia                1\n",
       "Sao Tome and Principe           1\n",
       "Georgia                         1\n",
       "Palau                           1\n",
       "Puerto Rico                     1\n",
       "Mayotte                         1\n",
       "Brunei                          1\n",
       "Honduras                        1\n",
       "St. Kitts-Nevis                 1\n",
       "Samoa                           1\n",
       "Burkina Faso                    1\n",
       "St. Vincent & the Grenadines    1\n",
       "Timor-Leste                     1\n",
       "Hong Kong, SAR                  1\n",
       "New Caledonia                   1\n",
       "Western Sahara                  1\n",
       "Macao, SAR                      1\n",
       "Curacao                         1\n",
       "St. Lucia                       1\n",
       "Cote d'Ivoire                   1\n",
       "El Salvador                     1\n",
       "Reunion                         1\n",
       "Oman                            1\n",
       "Guam                            1\n",
       "Name: Location, dtype: int64"
      ]
     },
     "execution_count": 37,
     "metadata": {},
     "output_type": "execute_result"
    }
   ],
   "source": [
    "d_all[d_all['country'].isnull()]['Location'].value_counts(dropna=False)"
   ]
  },
  {
   "cell_type": "code",
   "execution_count": 39,
   "metadata": {
    "collapsed": true
   },
   "outputs": [],
   "source": [
    "#d_population.to_excel('population.xlsx')\n",
    "#d_wikipedia_with_scores['country'].value_counts(dropna=False).reset_index().to_excel('page countries.xlsx')"
   ]
  },
  {
   "cell_type": "markdown",
   "metadata": {},
   "source": [
    "Based on eyeballing of the most common Wikipedia countries for which we have no population data - I included all countries with 70 or more pages - I came up with the following mapping that I'll use to update the country field in the Wikipedia data, so we _will_ have population data. This is probably clearly better for some countries that map directly - for example updating 'South Korean' to 'Korea, South'. It's fuzzier for at least some others, including for example Wikipedia countries that aren't around anymore in the way they were when the leader was in power, like Cape Colony and Rhodesia. Good enough for now though.\n",
    "\n",
    "In addition, there are clearly others that I could also map - for example, 'Saint Vincent and the Grenadines' in the Wikipedia data could be changed to 'St. Vincent & the Grenadines', but all of the ones I didn't manually map have fewer than 70 pages."
   ]
  },
  {
   "cell_type": "code",
   "execution_count": 40,
   "metadata": {
    "collapsed": true
   },
   "outputs": [],
   "source": [
    "wikipedia_country_to_population_map = {'Burkinabé':'Burkina Faso',\n",
    "                                       'Ivorian':\"Cote d'Ivoire\",\n",
    "                                       'Faroese':'Denmark',\n",
    "                                       'Salvadoran':'El Salvador',\n",
    "                                       'Hondura':'Honduras',\n",
    "                                       'South Korean':'Korea, South',\n",
    "                                       'Samoan':'Samoa',\n",
    "                                       'Cape Colony':'United Kingdom',\n",
    "                                       'Rhodesian':'Zimbabwe'}"
   ]
  },
  {
   "cell_type": "code",
   "execution_count": 41,
   "metadata": {
    "collapsed": true
   },
   "outputs": [],
   "source": [
    "d_wikipedia_with_scores['country'].update(d_wikipedia_with_scores['country'].map(wikipedia_country_to_population_map))"
   ]
  },
  {
   "cell_type": "markdown",
   "metadata": {},
   "source": [
    "And then we need to re-merge the population data.\n",
    "\n",
    "**TODO** This is duplication. DRY."
   ]
  },
  {
   "cell_type": "code",
   "execution_count": 57,
   "metadata": {},
   "outputs": [
    {
     "data": {
      "text/plain": [
       "(48017, 6)"
      ]
     },
     "execution_count": 57,
     "metadata": {},
     "output_type": "execute_result"
    }
   ],
   "source": [
    "d_all = pd.merge(left=d_wikipedia_with_scores, right=d_population[['Location','Data']],\n",
    "                 how='outer', left_on='country', right_on='Location')\n",
    "d_all.shape"
   ]
  },
  {
   "cell_type": "code",
   "execution_count": 58,
   "metadata": {},
   "outputs": [
    {
     "data": {
      "text/plain": [
       "Cook Island                         67\n",
       "Jersey                              61\n",
       "Saint Lucian                        48\n",
       "Pitcairn Islands                    46\n",
       "Chechen                             38\n",
       "East Timorese                       36\n",
       "Saint Kitts and Nevis               32\n",
       "South African Republic              31\n",
       "Montserratian                       29\n",
       "Tokelauan                           27\n",
       "Greenlandic                         26\n",
       "Somaliland                          25\n",
       "Niuean                              25\n",
       "Guernsey                            25\n",
       "Omani                               25\n",
       "Palauan                             23\n",
       "São Tomé and Príncipe               22\n",
       "Saint Vincent and the Grenadines    22\n",
       "Carniolan                           22\n",
       "South Ossetian                      19\n",
       "Abkhazia                            16\n",
       "Ossetian                             9\n",
       "Dagestani                            7\n",
       "Rojava                               3\n",
       "Name: country, dtype: int64"
      ]
     },
     "execution_count": 58,
     "metadata": {},
     "output_type": "execute_result"
    }
   ],
   "source": [
    "d_all[d_all['Location'].isnull()]['country'].value_counts(dropna=False)"
   ]
  },
  {
   "cell_type": "code",
   "execution_count": 59,
   "metadata": {},
   "outputs": [
    {
     "data": {
      "text/plain": [
       "Oman                            1\n",
       "Timor-Leste                     1\n",
       "Brunei                          1\n",
       "Channel Islands                 1\n",
       "Puerto Rico                     1\n",
       "Mayotte                         1\n",
       "Macao, SAR                      1\n",
       "St. Kitts-Nevis                 1\n",
       "Sao Tome and Principe           1\n",
       "St. Lucia                       1\n",
       "New Caledonia                   1\n",
       "St. Vincent & the Grenadines    1\n",
       "Hong Kong, SAR                  1\n",
       "Western Sahara                  1\n",
       "Palau                           1\n",
       "Curacao                         1\n",
       "French Polynesia                1\n",
       "Georgia                         1\n",
       "Reunion                         1\n",
       "Guam                            1\n",
       "Name: Location, dtype: int64"
      ]
     },
     "execution_count": 59,
     "metadata": {},
     "output_type": "execute_result"
    }
   ],
   "source": [
    "d_all[d_all['country'].isnull()]['Location'].value_counts(dropna=False)"
   ]
  },
  {
   "cell_type": "code",
   "execution_count": 60,
   "metadata": {},
   "outputs": [
    {
     "data": {
      "text/html": [
       "<div>\n",
       "<style>\n",
       "    .dataframe thead tr:only-child th {\n",
       "        text-align: right;\n",
       "    }\n",
       "\n",
       "    .dataframe thead th {\n",
       "        text-align: left;\n",
       "    }\n",
       "\n",
       "    .dataframe tbody tr th {\n",
       "        vertical-align: top;\n",
       "    }\n",
       "</style>\n",
       "<table border=\"1\" class=\"dataframe\">\n",
       "  <thead>\n",
       "    <tr style=\"text-align: right;\">\n",
       "      <th></th>\n",
       "      <th>country</th>\n",
       "      <th>page</th>\n",
       "      <th>last_edit</th>\n",
       "      <th>Score</th>\n",
       "      <th>Location</th>\n",
       "      <th>Data</th>\n",
       "    </tr>\n",
       "  </thead>\n",
       "  <tbody>\n",
       "    <tr>\n",
       "      <th>0</th>\n",
       "      <td>Abkhazia</td>\n",
       "      <td>Zurab Achba</td>\n",
       "      <td>802551672.0</td>\n",
       "      <td>C</td>\n",
       "      <td>NaN</td>\n",
       "      <td>NaN</td>\n",
       "    </tr>\n",
       "    <tr>\n",
       "      <th>1</th>\n",
       "      <td>Abkhazia</td>\n",
       "      <td>Garri Aiba</td>\n",
       "      <td>774499188.0</td>\n",
       "      <td>Stub</td>\n",
       "      <td>NaN</td>\n",
       "      <td>NaN</td>\n",
       "    </tr>\n",
       "    <tr>\n",
       "      <th>2</th>\n",
       "      <td>Abkhazia</td>\n",
       "      <td>Zaur Avidzba</td>\n",
       "      <td>803841397.0</td>\n",
       "      <td>C</td>\n",
       "      <td>NaN</td>\n",
       "      <td>NaN</td>\n",
       "    </tr>\n",
       "  </tbody>\n",
       "</table>\n",
       "</div>"
      ],
      "text/plain": [
       "    country          page    last_edit Score Location  Data\n",
       "0  Abkhazia   Zurab Achba  802551672.0     C      NaN   NaN\n",
       "1  Abkhazia    Garri Aiba  774499188.0  Stub      NaN   NaN\n",
       "2  Abkhazia  Zaur Avidzba  803841397.0     C      NaN   NaN"
      ]
     },
     "execution_count": 60,
     "metadata": {},
     "output_type": "execute_result"
    }
   ],
   "source": [
    "d_all[:3]"
   ]
  },
  {
   "cell_type": "markdown",
   "metadata": {},
   "source": [
    "And now that we've added in the additional remappings here, rows that still have a NaN 'Location' value are rows for which we have no population data and, per the assignment, we can get rid of them."
   ]
  },
  {
   "cell_type": "code",
   "execution_count": 62,
   "metadata": {},
   "outputs": [
    {
     "data": {
      "text/plain": [
       "(48017, 6)"
      ]
     },
     "execution_count": 62,
     "metadata": {},
     "output_type": "execute_result"
    }
   ],
   "source": [
    "d_all.shape"
   ]
  },
  {
   "cell_type": "code",
   "execution_count": 63,
   "metadata": {},
   "outputs": [
    {
     "data": {
      "text/plain": [
       "684"
      ]
     },
     "execution_count": 63,
     "metadata": {},
     "output_type": "execute_result"
    }
   ],
   "source": [
    "sum(d_all['Location'].isnull())"
   ]
  },
  {
   "cell_type": "code",
   "execution_count": 67,
   "metadata": {},
   "outputs": [
    {
     "data": {
      "text/plain": [
       "(47333, 6)"
      ]
     },
     "execution_count": 67,
     "metadata": {},
     "output_type": "execute_result"
    }
   ],
   "source": [
    "d_all.dropna(subset=['Location'], inplace=True)\n",
    "d_all.shape"
   ]
  },
  {
   "cell_type": "code",
   "execution_count": 68,
   "metadata": {},
   "outputs": [
    {
     "data": {
      "text/html": [
       "<div>\n",
       "<style>\n",
       "    .dataframe thead tr:only-child th {\n",
       "        text-align: right;\n",
       "    }\n",
       "\n",
       "    .dataframe thead th {\n",
       "        text-align: left;\n",
       "    }\n",
       "\n",
       "    .dataframe tbody tr th {\n",
       "        vertical-align: top;\n",
       "    }\n",
       "</style>\n",
       "<table border=\"1\" class=\"dataframe\">\n",
       "  <thead>\n",
       "    <tr style=\"text-align: right;\">\n",
       "      <th></th>\n",
       "      <th>country</th>\n",
       "      <th>page</th>\n",
       "      <th>last_edit</th>\n",
       "      <th>Score</th>\n",
       "      <th>Location</th>\n",
       "      <th>Data</th>\n",
       "    </tr>\n",
       "  </thead>\n",
       "  <tbody>\n",
       "    <tr>\n",
       "      <th>16</th>\n",
       "      <td>Afghanistan</td>\n",
       "      <td>Laghman Province</td>\n",
       "      <td>778690357.0</td>\n",
       "      <td>Start</td>\n",
       "      <td>Afghanistan</td>\n",
       "      <td>32247000.0</td>\n",
       "    </tr>\n",
       "    <tr>\n",
       "      <th>17</th>\n",
       "      <td>Afghanistan</td>\n",
       "      <td>Roqia Abubakr</td>\n",
       "      <td>779839643.0</td>\n",
       "      <td>Stub</td>\n",
       "      <td>Afghanistan</td>\n",
       "      <td>32247000.0</td>\n",
       "    </tr>\n",
       "    <tr>\n",
       "      <th>18</th>\n",
       "      <td>Afghanistan</td>\n",
       "      <td>Sitara Achakzai</td>\n",
       "      <td>803055503.0</td>\n",
       "      <td>GA</td>\n",
       "      <td>Afghanistan</td>\n",
       "      <td>32247000.0</td>\n",
       "    </tr>\n",
       "  </tbody>\n",
       "</table>\n",
       "</div>"
      ],
      "text/plain": [
       "        country              page    last_edit  Score     Location        Data\n",
       "16  Afghanistan  Laghman Province  778690357.0  Start  Afghanistan  32247000.0\n",
       "17  Afghanistan     Roqia Abubakr  779839643.0   Stub  Afghanistan  32247000.0\n",
       "18  Afghanistan   Sitara Achakzai  803055503.0     GA  Afghanistan  32247000.0"
      ]
     },
     "execution_count": 68,
     "metadata": {},
     "output_type": "execute_result"
    }
   ],
   "source": [
    "d_all[:3]"
   ]
  },
  {
   "cell_type": "markdown",
   "metadata": {},
   "source": [
    "Clean up columns to match assignment instructions: rename and drop extra join column."
   ]
  },
  {
   "cell_type": "code",
   "execution_count": 69,
   "metadata": {},
   "outputs": [
    {
     "data": {
      "text/html": [
       "<div>\n",
       "<style>\n",
       "    .dataframe thead tr:only-child th {\n",
       "        text-align: right;\n",
       "    }\n",
       "\n",
       "    .dataframe thead th {\n",
       "        text-align: left;\n",
       "    }\n",
       "\n",
       "    .dataframe tbody tr th {\n",
       "        vertical-align: top;\n",
       "    }\n",
       "</style>\n",
       "<table border=\"1\" class=\"dataframe\">\n",
       "  <thead>\n",
       "    <tr style=\"text-align: right;\">\n",
       "      <th></th>\n",
       "      <th>country</th>\n",
       "      <th>article_name</th>\n",
       "      <th>revision_id</th>\n",
       "      <th>article_quality</th>\n",
       "      <th>population</th>\n",
       "    </tr>\n",
       "  </thead>\n",
       "  <tbody>\n",
       "    <tr>\n",
       "      <th>16</th>\n",
       "      <td>Afghanistan</td>\n",
       "      <td>Laghman Province</td>\n",
       "      <td>778690357.0</td>\n",
       "      <td>Start</td>\n",
       "      <td>32247000.0</td>\n",
       "    </tr>\n",
       "    <tr>\n",
       "      <th>17</th>\n",
       "      <td>Afghanistan</td>\n",
       "      <td>Roqia Abubakr</td>\n",
       "      <td>779839643.0</td>\n",
       "      <td>Stub</td>\n",
       "      <td>32247000.0</td>\n",
       "    </tr>\n",
       "    <tr>\n",
       "      <th>18</th>\n",
       "      <td>Afghanistan</td>\n",
       "      <td>Sitara Achakzai</td>\n",
       "      <td>803055503.0</td>\n",
       "      <td>GA</td>\n",
       "      <td>32247000.0</td>\n",
       "    </tr>\n",
       "  </tbody>\n",
       "</table>\n",
       "</div>"
      ],
      "text/plain": [
       "        country      article_name  revision_id article_quality  population\n",
       "16  Afghanistan  Laghman Province  778690357.0           Start  32247000.0\n",
       "17  Afghanistan     Roqia Abubakr  779839643.0            Stub  32247000.0\n",
       "18  Afghanistan   Sitara Achakzai  803055503.0              GA  32247000.0"
      ]
     },
     "execution_count": 69,
     "metadata": {},
     "output_type": "execute_result"
    }
   ],
   "source": [
    "del d_all['Location']\n",
    "d_all.rename(columns={'page':'article_name',\n",
    "                      'last_edit':'revision_id',\n",
    "                      'Score':'article_quality',\n",
    "                      'Data':'population'}, inplace=True)\n",
    "d_all[:3]"
   ]
  },
  {
   "cell_type": "markdown",
   "metadata": {},
   "source": [
    "# Analysis"
   ]
  },
  {
   "cell_type": "code",
   "execution_count": 88,
   "metadata": {},
   "outputs": [
    {
     "data": {
      "text/plain": [
       "country\n",
       "Afghanistan    0.000051\n",
       "Albania        0.000795\n",
       "Algeria        0.000015\n",
       "dtype: float64"
      ]
     },
     "execution_count": 88,
     "metadata": {},
     "output_type": "execute_result"
    }
   ],
   "source": [
    "articles_per_person = d_all.groupby(['country']).apply(lambda g: g.size / g.iloc[0]['population'])\n",
    "articles_per_person[:3]"
   ]
  },
  {
   "cell_type": "code",
   "execution_count": 89,
   "metadata": {},
   "outputs": [
    {
     "data": {
      "text/plain": [
       "1.7074771235732666e-05"
      ]
     },
     "execution_count": 89,
     "metadata": {},
     "output_type": "execute_result"
    }
   ],
   "source": [
    "articles_per_person['United States']"
   ]
  },
  {
   "cell_type": "code",
   "execution_count": 90,
   "metadata": {},
   "outputs": [
    {
     "data": {
      "text/plain": [
       "0.00063529820801626975"
      ]
     },
     "execution_count": 90,
     "metadata": {},
     "output_type": "execute_result"
    }
   ],
   "source": [
    "articles_per_person['Norway']"
   ]
  },
  {
   "cell_type": "code",
   "execution_count": 100,
   "metadata": {},
   "outputs": [
    {
     "data": {
      "text/plain": [
       "country\n",
       "Tuvalu                            0.023305\n",
       "Nauru                             0.022560\n",
       "San Marino                        0.013182\n",
       "Monaco                            0.005645\n",
       "Liechtenstein                     0.003859\n",
       "Marshall Islands                  0.003364\n",
       "Iceland                           0.003113\n",
       "Tonga                             0.003049\n",
       "Andorra                           0.002179\n",
       "Samoa                             0.002008\n",
       "Federated States of Micronesia    0.001845\n",
       "Grenada                           0.001622\n",
       "Luxembourg                        0.001581\n",
       "Kiribati                          0.001455\n",
       "Antigua and Barbuda               0.001389\n",
       "Malta                             0.001194\n",
       "Seychelles                        0.001185\n",
       "Maldives                          0.001182\n",
       "Fiji                              0.001148\n",
       "Vanuatu                           0.001117\n",
       "Dominica                          0.000882\n",
       "New Zealand                       0.000860\n",
       "Albania                           0.000795\n",
       "Solomon Islands                   0.000763\n",
       "Guadeloupe                        0.000700\n",
       "Norway                            0.000635\n",
       "Montenegro                        0.000602\n",
       "Estonia                           0.000584\n",
       "French Guiana                     0.000558\n",
       "Martinique                        0.000554\n",
       "                                    ...   \n",
       "Yemen                             0.000023\n",
       "Myanmar                           0.000023\n",
       "Cameroon                          0.000023\n",
       "Venezuela                         0.000023\n",
       "Kazakhstan                        0.000023\n",
       "Angola                            0.000022\n",
       "Korea, North                      0.000021\n",
       "Niger                             0.000021\n",
       "Saudi Arabia                      0.000019\n",
       "Nigeria                           0.000019\n",
       "Japan                             0.000017\n",
       "United States                     0.000017\n",
       "Cote d'Ivoire                     0.000017\n",
       "Eritrea                           0.000015\n",
       "Algeria                           0.000015\n",
       "Senegal                           0.000015\n",
       "Brazil                            0.000014\n",
       "Egypt                             0.000013\n",
       "Sudan                             0.000013\n",
       "Mozambique                        0.000012\n",
       "Vietnam                           0.000010\n",
       "Bangladesh                        0.000010\n",
       "Congo, Dem. Rep. of               0.000010\n",
       "Thailand                          0.000009\n",
       "Zambia                            0.000008\n",
       "Ethiopia                          0.000005\n",
       "Uzbekistan                        0.000005\n",
       "Indonesia                         0.000004\n",
       "China                             0.000004\n",
       "India                             0.000004\n",
       "Length: 190, dtype: float64"
      ]
     },
     "execution_count": 100,
     "metadata": {},
     "output_type": "execute_result"
    }
   ],
   "source": [
    "articles_per_person.sort_values(ascending=False)"
   ]
  },
  {
   "cell_type": "code",
   "execution_count": 83,
   "metadata": {
    "collapsed": true
   },
   "outputs": [],
   "source": [
    "def is_high_quality(score):\n",
    "    if (score == 'FA') | (score == 'GA'):\n",
    "        return True\n",
    "    else:\n",
    "        return False"
   ]
  },
  {
   "cell_type": "code",
   "execution_count": 84,
   "metadata": {},
   "outputs": [
    {
     "data": {
      "text/plain": [
       "Stub     24272\n",
       "Start    15356\n",
       "C         5787\n",
       "GA         875\n",
       "B          728\n",
       "FA         295\n",
       "NaN         20\n",
       "Name: article_quality, dtype: int64"
      ]
     },
     "execution_count": 84,
     "metadata": {},
     "output_type": "execute_result"
    }
   ],
   "source": [
    "d_all['article_quality'].value_counts(dropna=False)"
   ]
  },
  {
   "cell_type": "markdown",
   "metadata": {},
   "source": [
    "**TODO** Side comment: need to check why we have 20 articles with NaN quality scores."
   ]
  },
  {
   "cell_type": "code",
   "execution_count": 86,
   "metadata": {},
   "outputs": [
    {
     "data": {
      "text/plain": [
       "False    46163\n",
       "True      1170\n",
       "Name: article_quality, dtype: int64"
      ]
     },
     "execution_count": 86,
     "metadata": {},
     "output_type": "execute_result"
    }
   ],
   "source": [
    "(d_all['article_quality'].apply(is_high_quality)).value_counts(dropna=False)"
   ]
  },
  {
   "cell_type": "code",
   "execution_count": 93,
   "metadata": {},
   "outputs": [
    {
     "data": {
      "text/plain": [
       "country\n",
       "Afghanistan    0.011009\n",
       "Albania        0.002174\n",
       "Algeria        0.005042\n",
       "dtype: float64"
      ]
     },
     "execution_count": 93,
     "metadata": {},
     "output_type": "execute_result"
    }
   ],
   "source": [
    "# define this instead of using a lambda, like above, so we can keep the lines around 80 chars wide\n",
    "# a lambda would be fine as the actual function is still pretty short/a single liner\n",
    "def get_high_quality_article_proportion(articles):\n",
    "    return sum(articles['article_quality'].apply(is_high_quality)) / articles.size\n",
    "\n",
    "high_quality_articles_per_all_articles = d_all.groupby(['country']).apply(get_high_quality_article_proportion)\n",
    "high_quality_articles_per_all_articles[:3]"
   ]
  },
  {
   "cell_type": "code",
   "execution_count": 97,
   "metadata": {},
   "outputs": [
    {
     "data": {
      "text/plain": [
       "country\n",
       "Central African Republic          0.023529\n",
       "Romania                           0.021267\n",
       "Vanuatu                           0.019355\n",
       "Guinea-Bissau                     0.019048\n",
       "Saudi Arabia                      0.018487\n",
       "Vietnam                           0.017801\n",
       "Singapore                         0.017391\n",
       "Ireland                           0.016751\n",
       "United States                     0.016044\n",
       "Zambia                            0.015385\n",
       "Qatar                             0.015094\n",
       "Latvia                            0.014286\n",
       "Senegal                           0.013953\n",
       "Palestinian Territory             0.013904\n",
       "Liechtenstein                     0.013793\n",
       "United Arab Emirates              0.013333\n",
       "Korea, North                      0.013208\n",
       "Benin                             0.012766\n",
       "Ukraine                           0.012384\n",
       "United Kingdom                    0.012262\n",
       "Bhutan                            0.012121\n",
       "Gambia                            0.012048\n",
       "Syria                             0.011765\n",
       "Afghanistan                       0.011009\n",
       "Burkina Faso                      0.010309\n",
       "Zimbabwe                          0.010191\n",
       "Cote d'Ivoire                     0.010127\n",
       "Bahamas                           0.010000\n",
       "Martinique                        0.009524\n",
       "Guatemala                         0.009524\n",
       "                                    ...   \n",
       "San Marino                        0.000000\n",
       "Solomon Islands                   0.000000\n",
       "Andorra                           0.000000\n",
       "Suriname                          0.000000\n",
       "Tajikistan                        0.000000\n",
       "Turkmenistan                      0.000000\n",
       "Cape Verde                        0.000000\n",
       "Nauru                             0.000000\n",
       "Guyana                            0.000000\n",
       "Tuvalu                            0.000000\n",
       "Kazakhstan                        0.000000\n",
       "Kiribati                          0.000000\n",
       "Grenada                           0.000000\n",
       "Kosovo                            0.000000\n",
       "Kyrgyzstan                        0.000000\n",
       "Tunisia                           0.000000\n",
       "Trinidad and Tobago               0.000000\n",
       "French Guiana                     0.000000\n",
       "Lesotho                           0.000000\n",
       "Federated States of Micronesia    0.000000\n",
       "Lithuania                         0.000000\n",
       "Eritrea                           0.000000\n",
       "Equatorial Guinea                 0.000000\n",
       "Macedonia                         0.000000\n",
       "Malta                             0.000000\n",
       "Dominica                          0.000000\n",
       "Djibouti                          0.000000\n",
       "Swaziland                         0.000000\n",
       "Mozambique                        0.000000\n",
       "Monaco                            0.000000\n",
       "Length: 190, dtype: float64"
      ]
     },
     "execution_count": 97,
     "metadata": {},
     "output_type": "execute_result"
    }
   ],
   "source": [
    "high_quality_articles_per_all_articles.sort_values(ascending=False)"
   ]
  },
  {
   "cell_type": "markdown",
   "metadata": {},
   "source": [
    "* **TODO** double check at least a few of the above calcs for both sets by calculating the proportions manually.\n",
    "* **TODO** also double check the with population calcs below"
   ]
  },
  {
   "cell_type": "markdown",
   "metadata": {},
   "source": [
    "If we filter out countries with 'smaller' populations, what do we see for the same lists? First we'll add in the population data and then we can use that to filter the lists."
   ]
  },
  {
   "cell_type": "code",
   "execution_count": 126,
   "metadata": {},
   "outputs": [
    {
     "data": {
      "text/html": [
       "<div>\n",
       "<style>\n",
       "    .dataframe thead tr:only-child th {\n",
       "        text-align: right;\n",
       "    }\n",
       "\n",
       "    .dataframe thead th {\n",
       "        text-align: left;\n",
       "    }\n",
       "\n",
       "    .dataframe tbody tr th {\n",
       "        vertical-align: top;\n",
       "    }\n",
       "</style>\n",
       "<table border=\"1\" class=\"dataframe\">\n",
       "  <thead>\n",
       "    <tr style=\"text-align: right;\">\n",
       "      <th></th>\n",
       "      <th>proportion</th>\n",
       "      <th>population</th>\n",
       "    </tr>\n",
       "  </thead>\n",
       "  <tbody>\n",
       "    <tr>\n",
       "      <th>Afghanistan</th>\n",
       "      <td>0.000051</td>\n",
       "      <td>32247000.0</td>\n",
       "    </tr>\n",
       "    <tr>\n",
       "      <th>Albania</th>\n",
       "      <td>0.000795</td>\n",
       "      <td>2892000.0</td>\n",
       "    </tr>\n",
       "    <tr>\n",
       "      <th>Algeria</th>\n",
       "      <td>0.000015</td>\n",
       "      <td>39948000.0</td>\n",
       "    </tr>\n",
       "  </tbody>\n",
       "</table>\n",
       "</div>"
      ],
      "text/plain": [
       "             proportion  population\n",
       "Afghanistan    0.000051  32247000.0\n",
       "Albania        0.000795   2892000.0\n",
       "Algeria        0.000015  39948000.0"
      ]
     },
     "execution_count": 126,
     "metadata": {},
     "output_type": "execute_result"
    }
   ],
   "source": [
    "articles_per_person = pd.concat([articles_per_person, \n",
    "           d_population[['Location','Data']].set_index('Location')['Data']],\n",
    "           axis=1).rename(columns={0:'proportion','Data':'population'})\n",
    "articles_per_person[:3]"
   ]
  },
  {
   "cell_type": "code",
   "execution_count": 127,
   "metadata": {},
   "outputs": [
    {
     "data": {
      "text/html": [
       "<div>\n",
       "<style>\n",
       "    .dataframe thead tr:only-child th {\n",
       "        text-align: right;\n",
       "    }\n",
       "\n",
       "    .dataframe thead th {\n",
       "        text-align: left;\n",
       "    }\n",
       "\n",
       "    .dataframe tbody tr th {\n",
       "        vertical-align: top;\n",
       "    }\n",
       "</style>\n",
       "<table border=\"1\" class=\"dataframe\">\n",
       "  <thead>\n",
       "    <tr style=\"text-align: right;\">\n",
       "      <th></th>\n",
       "      <th>proportion</th>\n",
       "      <th>population</th>\n",
       "    </tr>\n",
       "  </thead>\n",
       "  <tbody>\n",
       "    <tr>\n",
       "      <th>Afghanistan</th>\n",
       "      <td>0.011009</td>\n",
       "      <td>32247000</td>\n",
       "    </tr>\n",
       "    <tr>\n",
       "      <th>Albania</th>\n",
       "      <td>0.002174</td>\n",
       "      <td>2892000</td>\n",
       "    </tr>\n",
       "    <tr>\n",
       "      <th>Algeria</th>\n",
       "      <td>0.005042</td>\n",
       "      <td>39948000</td>\n",
       "    </tr>\n",
       "  </tbody>\n",
       "</table>\n",
       "</div>"
      ],
      "text/plain": [
       "             proportion  population\n",
       "Afghanistan    0.011009    32247000\n",
       "Albania        0.002174     2892000\n",
       "Algeria        0.005042    39948000"
      ]
     },
     "execution_count": 127,
     "metadata": {},
     "output_type": "execute_result"
    }
   ],
   "source": [
    "high_quality_articles_per_all_articles = pd.concat([high_quality_articles_per_all_articles, \n",
    "           d_population[['Location','Data']].set_index('Location')['Data']],\n",
    "           axis=1).rename(columns={0:'proportion','Data':'population'})\n",
    "high_quality_articles_per_all_articles[:3]"
   ]
  },
  {
   "cell_type": "markdown",
   "metadata": {},
   "source": [
    "And now we can look at the lists again, with a threshold population."
   ]
  },
  {
   "cell_type": "code",
   "execution_count": 136,
   "metadata": {
    "collapsed": true
   },
   "outputs": [],
   "source": [
    "pop_thresh = 50000000"
   ]
  },
  {
   "cell_type": "code",
   "execution_count": 138,
   "metadata": {},
   "outputs": [
    {
     "data": {
      "text/plain": [
       "France                 0.000132\n",
       "United Kingdom         0.000073\n",
       "Italy                  0.000067\n",
       "Iran                   0.000053\n",
       "Korea, South           0.000044\n",
       "Germany                0.000044\n",
       "Mexico                 0.000042\n",
       "South Africa           0.000039\n",
       "Tanzania               0.000039\n",
       "Russia                 0.000033\n",
       "Pakistan               0.000027\n",
       "Philippines            0.000025\n",
       "Turkey                 0.000023\n",
       "Myanmar                0.000023\n",
       "Nigeria                0.000019\n",
       "Japan                  0.000017\n",
       "United States          0.000017\n",
       "Brazil                 0.000014\n",
       "Egypt                  0.000013\n",
       "Vietnam                0.000010\n",
       "Bangladesh             0.000010\n",
       "Congo, Dem. Rep. of    0.000010\n",
       "Thailand               0.000009\n",
       "Ethiopia               0.000005\n",
       "Indonesia              0.000004\n",
       "China                  0.000004\n",
       "India                  0.000004\n",
       "Name: proportion, dtype: float64"
      ]
     },
     "execution_count": 138,
     "metadata": {},
     "output_type": "execute_result"
    }
   ],
   "source": [
    "articles_per_person[articles_per_person['population'] > pop_thresh].sort_values(by='proportion', ascending=False)['proportion']"
   ]
  },
  {
   "cell_type": "code",
   "execution_count": 139,
   "metadata": {},
   "outputs": [
    {
     "data": {
      "text/plain": [
       "Vietnam                0.017801\n",
       "United States          0.016044\n",
       "United Kingdom         0.012262\n",
       "Egypt                  0.009244\n",
       "Indonesia              0.008219\n",
       "Philippines            0.007797\n",
       "Russia                 0.007741\n",
       "China                  0.007557\n",
       "Congo, Dem. Rep. of    0.006993\n",
       "South Africa           0.006928\n",
       "Myanmar                0.005907\n",
       "Germany                0.005610\n",
       "Japan                  0.004535\n",
       "Bangladesh             0.004321\n",
       "Iran                   0.004067\n",
       "Korea, South           0.004027\n",
       "France                 0.003658\n",
       "Pakistan               0.003181\n",
       "India                  0.003058\n",
       "Brazil                 0.002513\n",
       "Turkey                 0.002222\n",
       "Italy                  0.001921\n",
       "Ethiopia               0.001887\n",
       "Thailand               0.001770\n",
       "Tanzania               0.001471\n",
       "Mexico                 0.001297\n",
       "Nigeria                0.001168\n",
       "Name: proportion, dtype: float64"
      ]
     },
     "execution_count": 139,
     "metadata": {},
     "output_type": "execute_result"
    }
   ],
   "source": [
    "high_quality_articles_per_all_articles[high_quality_articles_per_all_articles['population'] > pop_thresh].sort_values(by='proportion', ascending=False)['proportion']"
   ]
  },
  {
   "cell_type": "code",
   "execution_count": null,
   "metadata": {
    "collapsed": true
   },
   "outputs": [],
   "source": []
  },
  {
   "cell_type": "code",
   "execution_count": null,
   "metadata": {
    "collapsed": true
   },
   "outputs": [],
   "source": []
  },
  {
   "cell_type": "code",
   "execution_count": 116,
   "metadata": {},
   "outputs": [
    {
     "data": {
      "text/html": [
       "<div>\n",
       "<style>\n",
       "    .dataframe thead tr:only-child th {\n",
       "        text-align: right;\n",
       "    }\n",
       "\n",
       "    .dataframe thead th {\n",
       "        text-align: left;\n",
       "    }\n",
       "\n",
       "    .dataframe tbody tr th {\n",
       "        vertical-align: top;\n",
       "    }\n",
       "</style>\n",
       "<table border=\"1\" class=\"dataframe\">\n",
       "  <thead>\n",
       "    <tr style=\"text-align: right;\">\n",
       "      <th></th>\n",
       "      <th>0</th>\n",
       "      <th>Population</th>\n",
       "    </tr>\n",
       "  </thead>\n",
       "  <tbody>\n",
       "    <tr>\n",
       "      <th>foo</th>\n",
       "      <td>3.0</td>\n",
       "      <td>NaN</td>\n",
       "    </tr>\n",
       "  </tbody>\n",
       "</table>\n",
       "</div>"
      ],
      "text/plain": [
       "       0  Population\n",
       "foo  3.0         NaN"
      ]
     },
     "execution_count": 116,
     "metadata": {},
     "output_type": "execute_result"
    }
   ],
   "source": [
    "foo[foo['Population'].isnull()]"
   ]
  },
  {
   "cell_type": "code",
   "execution_count": 121,
   "metadata": {},
   "outputs": [
    {
     "data": {
      "text/plain": [
       "0             2.121443e-05\n",
       "Population    2.498300e+07\n",
       "Name: Korea, North, dtype: float64"
      ]
     },
     "execution_count": 121,
     "metadata": {},
     "output_type": "execute_result"
    }
   ],
   "source": [
    "foo.loc['Korea, North']"
   ]
  },
  {
   "cell_type": "code",
   "execution_count": null,
   "metadata": {
    "collapsed": true
   },
   "outputs": [],
   "source": []
  },
  {
   "cell_type": "code",
   "execution_count": 105,
   "metadata": {
    "collapsed": true
   },
   "outputs": [],
   "source": [
    "d_wikipedia_with_scores['country'].value_counts(dropna=False).to_excel('after_map.xlsx')"
   ]
  },
  {
   "cell_type": "code",
   "execution_count": 107,
   "metadata": {},
   "outputs": [
    {
     "data": {
      "text/plain": [
       "290"
      ]
     },
     "execution_count": 107,
     "metadata": {},
     "output_type": "execute_result"
    }
   ],
   "source": [
    "sum(d_wikipedia['country'] == 'Korea, South')"
   ]
  },
  {
   "cell_type": "code",
   "execution_count": null,
   "metadata": {
    "collapsed": true
   },
   "outputs": [],
   "source": []
  },
  {
   "cell_type": "code",
   "execution_count": 80,
   "metadata": {},
   "outputs": [
    {
     "data": {
      "text/plain": [
       "France                            1695\n",
       "NaN                               1649\n",
       "Australia                         1568\n",
       "China                             1138\n",
       "United States                     1097\n",
       "Mexico                            1079\n",
       "Pakistan                          1069\n",
       "India                              981\n",
       "Russia                             956\n",
       "Spain                              907\n",
       "United Kingdom                     865\n",
       "Canada                             851\n",
       "Iran                               836\n",
       "Italy                              833\n",
       "Poland                             823\n",
       "New Zealand                        791\n",
       "Germany                            713\n",
       "Netherlands                        702\n",
       "Nigeria                            685\n",
       "Norway                             660\n",
       "Hungary                            648\n",
       "Finland                            572\n",
       "Brazil                             557\n",
       "Taiwan                             524\n",
       "Belgium                            523\n",
       "Philippines                        513\n",
       "Israel                             500\n",
       "Argentina                          496\n",
       "Albania                            460\n",
       "Sri Lanka                          459\n",
       "                                  ... \n",
       "Bahrain                             42\n",
       "Suriname                            41\n",
       "Tajikistan                          41\n",
       "Kuwait                              39\n",
       "Djibouti                            39\n",
       "Federated States of Micronesia      38\n",
       "Cape Verde                          37\n",
       "Marshall Islands                    37\n",
       "Grenada                             36\n",
       "Andorra                             34\n",
       "Turkmenistan                        34\n",
       "Bhutan                              33\n",
       "Kiribati                            33\n",
       "Equatorial Guinea                   32\n",
       "Swaziland                           32\n",
       "Lesotho                             30\n",
       "Liechtenstein                       29\n",
       "Uzbekistan                          29\n",
       "Trinidad and Tobago                 28\n",
       "French Guiana                       28\n",
       "Zambia                              26\n",
       "Antigua and Barbuda                 25\n",
       "Seychelles                          22\n",
       "Guinea-Bissau                       21\n",
       "Bahamas                             20\n",
       "Guyana                              20\n",
       "Eritrea                             16\n",
       "Belize                              16\n",
       "Barbados                            14\n",
       "Dominica                            12\n",
       "Name: Location, Length: 186, dtype: int64"
      ]
     },
     "execution_count": 80,
     "metadata": {},
     "output_type": "execute_result"
    }
   ],
   "source": [
    "d_all['Location'].value_counts(dropna=False)"
   ]
  },
  {
   "cell_type": "code",
   "execution_count": null,
   "metadata": {
    "collapsed": true
   },
   "outputs": [],
   "source": []
  },
  {
   "cell_type": "code",
   "execution_count": null,
   "metadata": {
    "collapsed": true
   },
   "outputs": [],
   "source": []
  },
  {
   "cell_type": "code",
   "execution_count": 67,
   "metadata": {},
   "outputs": [
    {
     "data": {
      "text/html": [
       "<div>\n",
       "<style>\n",
       "    .dataframe thead tr:only-child th {\n",
       "        text-align: right;\n",
       "    }\n",
       "\n",
       "    .dataframe thead th {\n",
       "        text-align: left;\n",
       "    }\n",
       "\n",
       "    .dataframe tbody tr th {\n",
       "        vertical-align: top;\n",
       "    }\n",
       "</style>\n",
       "<table border=\"1\" class=\"dataframe\">\n",
       "  <thead>\n",
       "    <tr style=\"text-align: right;\">\n",
       "      <th></th>\n",
       "      <th>Score</th>\n",
       "    </tr>\n",
       "    <tr>\n",
       "      <th>RevisionId</th>\n",
       "      <th></th>\n",
       "    </tr>\n",
       "  </thead>\n",
       "  <tbody>\n",
       "    <tr>\n",
       "      <th>802551672</th>\n",
       "      <td>C</td>\n",
       "    </tr>\n",
       "    <tr>\n",
       "      <th>774499188</th>\n",
       "      <td>Stub</td>\n",
       "    </tr>\n",
       "    <tr>\n",
       "      <th>803841397</th>\n",
       "      <td>C</td>\n",
       "    </tr>\n",
       "    <tr>\n",
       "      <th>789818648</th>\n",
       "      <td>Start</td>\n",
       "    </tr>\n",
       "    <tr>\n",
       "      <th>785284614</th>\n",
       "      <td>Start</td>\n",
       "    </tr>\n",
       "    <tr>\n",
       "      <th>798644673</th>\n",
       "      <td>Stub</td>\n",
       "    </tr>\n",
       "    <tr>\n",
       "      <th>728644481</th>\n",
       "      <td>Stub</td>\n",
       "    </tr>\n",
       "    <tr>\n",
       "      <th>788591677</th>\n",
       "      <td>Start</td>\n",
       "    </tr>\n",
       "    <tr>\n",
       "      <th>758713659</th>\n",
       "      <td>C</td>\n",
       "    </tr>\n",
       "    <tr>\n",
       "      <th>802860970</th>\n",
       "      <td>Start</td>\n",
       "    </tr>\n",
       "    <tr>\n",
       "      <th>797469371</th>\n",
       "      <td>GA</td>\n",
       "    </tr>\n",
       "    <tr>\n",
       "      <th>804349394</th>\n",
       "      <td>Start</td>\n",
       "    </tr>\n",
       "    <tr>\n",
       "      <th>799618550</th>\n",
       "      <td>Start</td>\n",
       "    </tr>\n",
       "    <tr>\n",
       "      <th>805063877</th>\n",
       "      <td>Stub</td>\n",
       "    </tr>\n",
       "    <tr>\n",
       "      <th>718383950</th>\n",
       "      <td>Stub</td>\n",
       "    </tr>\n",
       "    <tr>\n",
       "      <th>805775169</th>\n",
       "      <td>Start</td>\n",
       "    </tr>\n",
       "    <tr>\n",
       "      <th>778690357</th>\n",
       "      <td>Start</td>\n",
       "    </tr>\n",
       "    <tr>\n",
       "      <th>779839643</th>\n",
       "      <td>Stub</td>\n",
       "    </tr>\n",
       "    <tr>\n",
       "      <th>803055503</th>\n",
       "      <td>GA</td>\n",
       "    </tr>\n",
       "    <tr>\n",
       "      <th>805920528</th>\n",
       "      <td>GA</td>\n",
       "    </tr>\n",
       "    <tr>\n",
       "      <th>717743144</th>\n",
       "      <td>Stub</td>\n",
       "    </tr>\n",
       "    <tr>\n",
       "      <th>787347770</th>\n",
       "      <td>C</td>\n",
       "    </tr>\n",
       "    <tr>\n",
       "      <th>759405630</th>\n",
       "      <td>Start</td>\n",
       "    </tr>\n",
       "    <tr>\n",
       "      <th>787258680</th>\n",
       "      <td>Start</td>\n",
       "    </tr>\n",
       "    <tr>\n",
       "      <th>805967589</th>\n",
       "      <td>B</td>\n",
       "    </tr>\n",
       "    <tr>\n",
       "      <th>795223533</th>\n",
       "      <td>C</td>\n",
       "    </tr>\n",
       "    <tr>\n",
       "      <th>779389809</th>\n",
       "      <td>Stub</td>\n",
       "    </tr>\n",
       "    <tr>\n",
       "      <th>789039267</th>\n",
       "      <td>Stub</td>\n",
       "    </tr>\n",
       "    <tr>\n",
       "      <th>799980094</th>\n",
       "      <td>C</td>\n",
       "    </tr>\n",
       "    <tr>\n",
       "      <th>779389407</th>\n",
       "      <td>Stub</td>\n",
       "    </tr>\n",
       "    <tr>\n",
       "      <th>...</th>\n",
       "      <td>...</td>\n",
       "    </tr>\n",
       "    <tr>\n",
       "      <th>777482252</th>\n",
       "      <td>C</td>\n",
       "    </tr>\n",
       "    <tr>\n",
       "      <th>795007156</th>\n",
       "      <td>Stub</td>\n",
       "    </tr>\n",
       "    <tr>\n",
       "      <th>786913202</th>\n",
       "      <td>C</td>\n",
       "    </tr>\n",
       "    <tr>\n",
       "      <th>788792548</th>\n",
       "      <td>Start</td>\n",
       "    </tr>\n",
       "    <tr>\n",
       "      <th>771958995</th>\n",
       "      <td>Stub</td>\n",
       "    </tr>\n",
       "    <tr>\n",
       "      <th>713899377</th>\n",
       "      <td>Stub</td>\n",
       "    </tr>\n",
       "    <tr>\n",
       "      <th>710060929</th>\n",
       "      <td>Start</td>\n",
       "    </tr>\n",
       "    <tr>\n",
       "      <th>788247480</th>\n",
       "      <td>Start</td>\n",
       "    </tr>\n",
       "    <tr>\n",
       "      <th>804895632</th>\n",
       "      <td>C</td>\n",
       "    </tr>\n",
       "    <tr>\n",
       "      <th>783419906</th>\n",
       "      <td>Start</td>\n",
       "    </tr>\n",
       "    <tr>\n",
       "      <th>764826793</th>\n",
       "      <td>Start</td>\n",
       "    </tr>\n",
       "    <tr>\n",
       "      <th>795637625</th>\n",
       "      <td>Start</td>\n",
       "    </tr>\n",
       "    <tr>\n",
       "      <th>714706533</th>\n",
       "      <td>C</td>\n",
       "    </tr>\n",
       "    <tr>\n",
       "      <th>755337199</th>\n",
       "      <td>Start</td>\n",
       "    </tr>\n",
       "    <tr>\n",
       "      <th>794934469</th>\n",
       "      <td>C</td>\n",
       "    </tr>\n",
       "    <tr>\n",
       "      <th>788291899</th>\n",
       "      <td>C</td>\n",
       "    </tr>\n",
       "    <tr>\n",
       "      <th>777623864</th>\n",
       "      <td>Start</td>\n",
       "    </tr>\n",
       "    <tr>\n",
       "      <th>799406056</th>\n",
       "      <td>Stub</td>\n",
       "    </tr>\n",
       "    <tr>\n",
       "      <th>797170378</th>\n",
       "      <td>Start</td>\n",
       "    </tr>\n",
       "    <tr>\n",
       "      <th>803579259</th>\n",
       "      <td>Start</td>\n",
       "    </tr>\n",
       "    <tr>\n",
       "      <th>798140615</th>\n",
       "      <td>C</td>\n",
       "    </tr>\n",
       "    <tr>\n",
       "      <th>716669163</th>\n",
       "      <td>Stub</td>\n",
       "    </tr>\n",
       "    <tr>\n",
       "      <th>806285176</th>\n",
       "      <td>FA</td>\n",
       "    </tr>\n",
       "    <tr>\n",
       "      <th>780098270</th>\n",
       "      <td>Stub</td>\n",
       "    </tr>\n",
       "    <tr>\n",
       "      <th>794934380</th>\n",
       "      <td>Start</td>\n",
       "    </tr>\n",
       "    <tr>\n",
       "      <th>789898624</th>\n",
       "      <td>C</td>\n",
       "    </tr>\n",
       "    <tr>\n",
       "      <th>794241666</th>\n",
       "      <td>C</td>\n",
       "    </tr>\n",
       "    <tr>\n",
       "      <th>710524880</th>\n",
       "      <td>Start</td>\n",
       "    </tr>\n",
       "    <tr>\n",
       "      <th>776943338</th>\n",
       "      <td>Start</td>\n",
       "    </tr>\n",
       "    <tr>\n",
       "      <th>776389556</th>\n",
       "      <td>Start</td>\n",
       "    </tr>\n",
       "  </tbody>\n",
       "</table>\n",
       "<p>47997 rows × 1 columns</p>\n",
       "</div>"
      ],
      "text/plain": [
       "            Score\n",
       "RevisionId       \n",
       "802551672       C\n",
       "774499188    Stub\n",
       "803841397       C\n",
       "789818648   Start\n",
       "785284614   Start\n",
       "798644673    Stub\n",
       "728644481    Stub\n",
       "788591677   Start\n",
       "758713659       C\n",
       "802860970   Start\n",
       "797469371      GA\n",
       "804349394   Start\n",
       "799618550   Start\n",
       "805063877    Stub\n",
       "718383950    Stub\n",
       "805775169   Start\n",
       "778690357   Start\n",
       "779839643    Stub\n",
       "803055503      GA\n",
       "805920528      GA\n",
       "717743144    Stub\n",
       "787347770       C\n",
       "759405630   Start\n",
       "787258680   Start\n",
       "805967589       B\n",
       "795223533       C\n",
       "779389809    Stub\n",
       "789039267    Stub\n",
       "799980094       C\n",
       "779389407    Stub\n",
       "...           ...\n",
       "777482252       C\n",
       "795007156    Stub\n",
       "786913202       C\n",
       "788792548   Start\n",
       "771958995    Stub\n",
       "713899377    Stub\n",
       "710060929   Start\n",
       "788247480   Start\n",
       "804895632       C\n",
       "783419906   Start\n",
       "764826793   Start\n",
       "795637625   Start\n",
       "714706533       C\n",
       "755337199   Start\n",
       "794934469       C\n",
       "788291899       C\n",
       "777623864   Start\n",
       "799406056    Stub\n",
       "797170378   Start\n",
       "803579259   Start\n",
       "798140615       C\n",
       "716669163    Stub\n",
       "806285176      FA\n",
       "780098270    Stub\n",
       "794934380   Start\n",
       "789898624       C\n",
       "794241666       C\n",
       "710524880   Start\n",
       "776943338   Start\n",
       "776389556   Start\n",
       "\n",
       "[47997 rows x 1 columns]"
      ]
     },
     "execution_count": 67,
     "metadata": {},
     "output_type": "execute_result"
    }
   ],
   "source": [
    "d_scores"
   ]
  },
  {
   "cell_type": "code",
   "execution_count": null,
   "metadata": {
    "collapsed": true
   },
   "outputs": [],
   "source": []
  },
  {
   "cell_type": "code",
   "execution_count": null,
   "metadata": {
    "collapsed": true
   },
   "outputs": [],
   "source": []
  },
  {
   "cell_type": "markdown",
   "metadata": {},
   "source": [
    "# Combine"
   ]
  },
  {
   "cell_type": "code",
   "execution_count": null,
   "metadata": {
    "collapsed": true
   },
   "outputs": [],
   "source": []
  }
 ],
 "metadata": {
  "kernelspec": {
   "display_name": "Python 3",
   "language": "python",
   "name": "python3"
  },
  "language_info": {
   "codemirror_mode": {
    "name": "ipython",
    "version": 3
   },
   "file_extension": ".py",
   "mimetype": "text/x-python",
   "name": "python",
   "nbconvert_exporter": "python",
   "pygments_lexer": "ipython3",
   "version": "3.6.2"
  }
 },
 "nbformat": 4,
 "nbformat_minor": 2
}
