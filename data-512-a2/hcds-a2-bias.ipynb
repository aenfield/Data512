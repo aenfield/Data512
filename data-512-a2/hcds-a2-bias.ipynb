{
 "cells": [
  {
   "cell_type": "markdown",
   "metadata": {},
   "source": [
    "# Enfield, Andrew - DATA 512, A2: Bias in Data"
   ]
  },
  {
   "cell_type": "markdown",
   "metadata": {},
   "source": [
    "TBD UPDATE\n",
    "\n",
    "The assignment is at https://wiki.communitydata.cc/HCDS_(Fall_2017)/Assignments#A2:_Bias_in_data.\n",
    "\n",
    "TBD remove\n",
    "\n",
    "This notebook pulls, prepares, and analyzes data about the amount of monthly English Wikipedia traffic from January 1, 2008 through September 30, 2017. For more information about the work and data, refer to the [README](Readme.md).\n",
    "\n",
    "A few notes:\n",
    "- Normally I'd prefer to keep the explanation and background that's in the README here in the notebook, so everything's in a single file, but I've split it up this time as that's what the assignment requested. I won't copy/paste because keeping duplicate content in sync is horrible.\n",
    "- Real reproducibility needs tests for the code. A lot of my implementation below is in functions. I'd normally put these functions in at least one separate file that I import into this notebook, and I'd have tests in an additional file. For this assignment I'll just keep everything in this file, for simplicity, even though it means I can't test the code the way I normally would."
   ]
  },
  {
   "cell_type": "markdown",
   "metadata": {},
   "source": [
    "# Prereqs"
   ]
  },
  {
   "cell_type": "markdown",
   "metadata": {},
   "source": [
    "This code requires the libraries as described below."
   ]
  },
  {
   "cell_type": "code",
   "execution_count": 32,
   "metadata": {
    "collapsed": true
   },
   "outputs": [],
   "source": [
    "# load data\n",
    "import requests\n",
    "import json\n",
    "# import os\n",
    "\n",
    "# load, prepare, and analyze data\n",
    "import pandas as pd\n",
    "import numpy as np\n",
    "import matplotlib.pyplot as plt\n",
    "#from mpl_toolkits.axes_grid.anchored_artists import AnchoredText # for addtl annotations in charts\n",
    "#from matplotlib.ticker import FuncFormatter # for custom axis labels\n",
    "from IPython.core.pylabtools import figsize\n",
    "import seaborn as sns # for formatting\n",
    "%matplotlib inline "
   ]
  },
  {
   "cell_type": "code",
   "execution_count": 3,
   "metadata": {
    "collapsed": true
   },
   "outputs": [],
   "source": [
    "sns.set_style(\"whitegrid\")\n",
    "figsize(14,7)"
   ]
  },
  {
   "cell_type": "markdown",
   "metadata": {},
   "source": [
    "# Load data"
   ]
  },
  {
   "cell_type": "markdown",
   "metadata": {},
   "source": [
    "TBD UPDATE\n",
    "\n",
    "This section loads the data from the two APIs described in the README, producing five separate .json files, one for each API and access combination."
   ]
  },
  {
   "cell_type": "code",
   "execution_count": 30,
   "metadata": {},
   "outputs": [
    {
     "data": {
      "text/plain": [
       "(47997, 3)"
      ]
     },
     "execution_count": 30,
     "metadata": {},
     "output_type": "execute_result"
    }
   ],
   "source": [
    "d_wikipedia = pd.read_csv('page_data.csv')\n",
    "d_wikipedia.shape"
   ]
  },
  {
   "cell_type": "code",
   "execution_count": 31,
   "metadata": {},
   "outputs": [
    {
     "data": {
      "text/html": [
       "<div>\n",
       "<style>\n",
       "    .dataframe thead tr:only-child th {\n",
       "        text-align: right;\n",
       "    }\n",
       "\n",
       "    .dataframe thead th {\n",
       "        text-align: left;\n",
       "    }\n",
       "\n",
       "    .dataframe tbody tr th {\n",
       "        vertical-align: top;\n",
       "    }\n",
       "</style>\n",
       "<table border=\"1\" class=\"dataframe\">\n",
       "  <thead>\n",
       "    <tr style=\"text-align: right;\">\n",
       "      <th></th>\n",
       "      <th>country</th>\n",
       "      <th>page</th>\n",
       "      <th>last_edit</th>\n",
       "    </tr>\n",
       "  </thead>\n",
       "  <tbody>\n",
       "    <tr>\n",
       "      <th>0</th>\n",
       "      <td>Abkhazia</td>\n",
       "      <td>Zurab Achba</td>\n",
       "      <td>802551672</td>\n",
       "    </tr>\n",
       "    <tr>\n",
       "      <th>1</th>\n",
       "      <td>Abkhazia</td>\n",
       "      <td>Garri Aiba</td>\n",
       "      <td>774499188</td>\n",
       "    </tr>\n",
       "    <tr>\n",
       "      <th>2</th>\n",
       "      <td>Abkhazia</td>\n",
       "      <td>Zaur Avidzba</td>\n",
       "      <td>803841397</td>\n",
       "    </tr>\n",
       "  </tbody>\n",
       "</table>\n",
       "</div>"
      ],
      "text/plain": [
       "    country          page  last_edit\n",
       "0  Abkhazia   Zurab Achba  802551672\n",
       "1  Abkhazia    Garri Aiba  774499188\n",
       "2  Abkhazia  Zaur Avidzba  803841397"
      ]
     },
     "execution_count": 31,
     "metadata": {},
     "output_type": "execute_result"
    }
   ],
   "source": [
    "d_wikipedia[:3]"
   ]
  },
  {
   "cell_type": "code",
   "execution_count": 18,
   "metadata": {},
   "outputs": [
    {
     "data": {
      "text/plain": [
       "(210, 6)"
      ]
     },
     "execution_count": 18,
     "metadata": {},
     "output_type": "execute_result"
    }
   ],
   "source": [
    "d_population = pd.read_csv('Population Mid-2015.csv', skiprows=2, thousands=',')\n",
    "d_population.shape"
   ]
  },
  {
   "cell_type": "code",
   "execution_count": 29,
   "metadata": {},
   "outputs": [
    {
     "data": {
      "text/plain": [
       "country\n",
       "France           1858\n",
       "Australia        1610\n",
       "Pakistan         1268\n",
       "China            1261\n",
       "Mexico           1137\n",
       "United States    1115\n",
       "Russia           1109\n",
       "Iran             1055\n",
       "Spain            1003\n",
       "India             993\n",
       "dtype: int64"
      ]
     },
     "execution_count": 29,
     "metadata": {},
     "output_type": "execute_result"
    }
   ],
   "source": [
    "d_wikipedia.groupby(['country']).size().sort_values(ascending=False)[:10]"
   ]
  },
  {
   "cell_type": "code",
   "execution_count": 19,
   "metadata": {},
   "outputs": [
    {
     "data": {
      "text/html": [
       "<div>\n",
       "<style>\n",
       "    .dataframe thead tr:only-child th {\n",
       "        text-align: right;\n",
       "    }\n",
       "\n",
       "    .dataframe thead th {\n",
       "        text-align: left;\n",
       "    }\n",
       "\n",
       "    .dataframe tbody tr th {\n",
       "        vertical-align: top;\n",
       "    }\n",
       "</style>\n",
       "<table border=\"1\" class=\"dataframe\">\n",
       "  <thead>\n",
       "    <tr style=\"text-align: right;\">\n",
       "      <th></th>\n",
       "      <th>Location</th>\n",
       "      <th>Location Type</th>\n",
       "      <th>TimeFrame</th>\n",
       "      <th>Data Type</th>\n",
       "      <th>Data</th>\n",
       "      <th>Footnotes</th>\n",
       "    </tr>\n",
       "  </thead>\n",
       "  <tbody>\n",
       "    <tr>\n",
       "      <th>0</th>\n",
       "      <td>Afghanistan</td>\n",
       "      <td>Country</td>\n",
       "      <td>Mid-2015</td>\n",
       "      <td>Number</td>\n",
       "      <td>32247000</td>\n",
       "      <td>NaN</td>\n",
       "    </tr>\n",
       "    <tr>\n",
       "      <th>1</th>\n",
       "      <td>Albania</td>\n",
       "      <td>Country</td>\n",
       "      <td>Mid-2015</td>\n",
       "      <td>Number</td>\n",
       "      <td>2892000</td>\n",
       "      <td>NaN</td>\n",
       "    </tr>\n",
       "    <tr>\n",
       "      <th>2</th>\n",
       "      <td>Algeria</td>\n",
       "      <td>Country</td>\n",
       "      <td>Mid-2015</td>\n",
       "      <td>Number</td>\n",
       "      <td>39948000</td>\n",
       "      <td>NaN</td>\n",
       "    </tr>\n",
       "  </tbody>\n",
       "</table>\n",
       "</div>"
      ],
      "text/plain": [
       "      Location Location Type TimeFrame Data Type      Data  Footnotes\n",
       "0  Afghanistan       Country  Mid-2015    Number  32247000        NaN\n",
       "1      Albania       Country  Mid-2015    Number   2892000        NaN\n",
       "2      Algeria       Country  Mid-2015    Number  39948000        NaN"
      ]
     },
     "execution_count": 19,
     "metadata": {},
     "output_type": "execute_result"
    }
   ],
   "source": [
    "d_population[:3]"
   ]
  },
  {
   "cell_type": "markdown",
   "metadata": {},
   "source": [
    "## Pull article scores"
   ]
  },
  {
   "cell_type": "markdown",
   "metadata": {},
   "source": [
    "Docs: https://ores.wikimedia.org/v3/#!/scoring/get_v3_scores_context_revid_model"
   ]
  },
  {
   "cell_type": "code",
   "execution_count": 175,
   "metadata": {},
   "outputs": [],
   "source": [
    "user_agent = 'https://github.com/aenfield'\n",
    "\n",
    "def get_full_ores_score_json(rev_id):\n",
    "    \"\"\"TBD referring to https://ores.wikimedia.org/v3/#!/scoring/get_v3_scores_context_revid_model\"\"\"\n",
    "    endpoint = 'https://ores.wikimedia.org/v3/scores/{project}/{revid}/{model}'\n",
    "\n",
    "    # TODO update to hardcode enwiki and wp10?\n",
    "    params = {'project' : 'enwiki',\n",
    "              'model' : 'wp10',\n",
    "              'revid' : rev_id\n",
    "              }\n",
    "\n",
    "    api_call = requests.get(endpoint.format(**params), headers = {'User-Agent':'{}'.format(user_agent)})\n",
    "    return api_call.json()\n",
    "\n",
    "def get_multiple_full_ores_score_json(rev_ids):\n",
    "    \"\"\"TBD referring to ...\"\"\"\n",
    "    endpoint = 'https://ores.wikimedia.org/v3/scores/enwiki?models=wp10&revids={rev_ids_delimited}'\n",
    "\n",
    "    #https://ores.wikimedia.org/v3/scores/enwiki?models=wp10&revids=802551672%7C774499188%7C785284614\n",
    "        \n",
    "    rev_ids_delimited = '802551672|774499188|803841397|789818648|785284614|798644673|728644481|788591677|758713659|802860970|797469371|804349394|799618550|805063877|718383950|805775169|778690357|779839643|803055503|805920528'\n",
    "    params = { 'rev_ids_delimited' : rev_ids_delimited }\n",
    "\n",
    "    api_call = requests.get(endpoint.format(**params), headers = {'User-Agent':'{}'.format(user_agent)})\n",
    "    return api_call.json()\n",
    "\n",
    "    \n",
    "\n",
    "def get_ores_prediction_from_score_json(json):\n",
    "    \"\"\"Return the most likely article type, per ORES. Assumes a JSON dict from Ores with only a single article.\"\"\"\n",
    "    return json['enwiki']['scores'][list(json['enwiki']['scores'].keys())[0]]['wp10']['score']['prediction']\n",
    "\n",
    "def get_ores_prediction(rev_id):\n",
    "    j = get_full_ores_score_json(rev_id)\n",
    "    return get_ores_prediction_from_score_json(j)"
   ]
  },
  {
   "cell_type": "code",
   "execution_count": 173,
   "metadata": {},
   "outputs": [
    {
     "name": "stdout",
     "output_type": "stream",
     "text": [
      "CPU times: user 26.7 ms, sys: 2.91 ms, total: 29.6 ms\n",
      "Wall time: 303 ms\n"
     ]
    },
    {
     "data": {
      "text/plain": [
       "<Response [200]>"
      ]
     },
     "execution_count": 173,
     "metadata": {},
     "output_type": "execute_result"
    }
   ],
   "source": [
    "%time foo = get_multiple_full_ores_score_json('foo')\n",
    "foo"
   ]
  },
  {
   "cell_type": "code",
   "execution_count": 174,
   "metadata": {},
   "outputs": [
    {
     "data": {
      "text/plain": [
       "'{\\n  \"enwiki\": {\\n    \"models\": {\\n      \"wp10\": {\\n        \"version\": \"0.5.0\"\\n      }\\n    },\\n    \"scores\": {\\n      \"718383950\": {\\n        \"wp10\": {\\n          \"score\": {\\n            \"prediction\": \"Stub\",\\n            \"probability\": {\\n              \"B\": 0.00867108446083565,\\n              \"C\": 0.010201201419512923,\\n              \"FA\": 0.0012308185869063053,\\n              \"GA\": 0.002347248512459868,\\n              \"Start\": 0.08362945430408676,\\n              \"Stub\": 0.8939201927161984\\n            }\\n          }\\n        }\\n      },\\n      \"728644481\": {\\n        \"wp10\": {\\n          \"score\": {\\n            \"prediction\": \"Stub\",\\n            \"probability\": {\\n              \"B\": 0.011743849354179213,\\n              \"C\": 0.018551150267917215,\\n              \"FA\": 0.0017216633333940244,\\n              \"GA\": 0.004963145860590862,\\n              \"Start\": 0.2475321059686044,\\n              \"Stub\": 0.7154880852153144\\n            }\\n          }\\n        }\\n      },\\n      \"758713659\": {\\n        \"wp10\": {\\n          \"score\": {\\n            \"prediction\": \"C\",\\n            \"probability\": {\\n              \"B\": 0.13051629022094477,\\n              \"C\": 0.661331647033431,\\n              \"FA\": 0.008345185189334319,\\n              \"GA\": 0.0506476033411268,\\n              \"Start\": 0.13543386979975322,\\n              \"Stub\": 0.01372540441540996\\n            }\\n          }\\n        }\\n      },\\n      \"774499188\": {\\n        \"wp10\": {\\n          \"score\": {\\n            \"prediction\": \"Stub\",\\n            \"probability\": {\\n              \"B\": 0.03488477079112925,\\n              \"C\": 0.06953258948284814,\\n              \"FA\": 0.0025762575670963965,\\n              \"GA\": 0.007911851615317388,\\n              \"Start\": 0.4106575723489943,\\n              \"Stub\": 0.4744369581946146\\n            }\\n          }\\n        }\\n      },\\n      \"778690357\": {\\n        \"wp10\": {\\n          \"score\": {\\n            \"prediction\": \"Start\",\\n            \"probability\": {\\n              \"B\": 0.02297674671423472,\\n              \"C\": 0.0861074813114808,\\n              \"FA\": 0.002422756597764642,\\n              \"GA\": 0.00486559372582058,\\n              \"Start\": 0.8319728634090546,\\n              \"Stub\": 0.051654558241644735\\n            }\\n          }\\n        }\\n      },\\n      \"779839643\": {\\n        \"wp10\": {\\n          \"score\": {\\n            \"prediction\": \"Stub\",\\n            \"probability\": {\\n              \"B\": 0.005812277144201996,\\n              \"C\": 0.005903365138454951,\\n              \"FA\": 0.0007044022311522287,\\n              \"GA\": 0.0014771677716918482,\\n              \"Start\": 0.017543294400020636,\\n              \"Stub\": 0.9685594933144783\\n            }\\n          }\\n        }\\n      },\\n      \"785284614\": {\\n        \"wp10\": {\\n          \"score\": {\\n            \"prediction\": \"Start\",\\n            \"probability\": {\\n              \"B\": 0.038275722083665996,\\n              \"C\": 0.10192509737063972,\\n              \"FA\": 0.002304638025838147,\\n              \"GA\": 0.01439572915013765,\\n              \"Start\": 0.8180319224222182,\\n              \"Stub\": 0.025066890947500402\\n            }\\n          }\\n        }\\n      },\\n      \"788591677\": {\\n        \"wp10\": {\\n          \"score\": {\\n            \"prediction\": \"Start\",\\n            \"probability\": {\\n              \"B\": 0.06406208521481899,\\n              \"C\": 0.2597475279770066,\\n              \"FA\": 0.0041369402109122325,\\n              \"GA\": 0.024158092693711455,\\n              \"Start\": 0.6380480318062743,\\n              \"Stub\": 0.009847322097276373\\n            }\\n          }\\n        }\\n      },\\n      \"789818648\": {\\n        \"wp10\": {\\n          \"score\": {\\n            \"prediction\": \"Start\",\\n            \"probability\": {\\n              \"B\": 0.02941560029957346,\\n              \"C\": 0.055087519959750295,\\n              \"FA\": 0.0023862738697030465,\\n              \"GA\": 0.0034467642562264924,\\n              \"Start\": 0.8003062073936903,\\n              \"Stub\": 0.10935763422105636\\n            }\\n          }\\n        }\\n      },\\n      \"797469371\": {\\n        \"wp10\": {\\n          \"score\": {\\n            \"prediction\": \"GA\",\\n            \"probability\": {\\n              \"B\": 0.2268992768209362,\\n              \"C\": 0.28687285891224934,\\n              \"FA\": 0.026747557677269784,\\n              \"GA\": 0.4383600708507178,\\n              \"Start\": 0.018552043857823577,\\n              \"Stub\": 0.002568191881003295\\n            }\\n          }\\n        }\\n      },\\n      \"798644673\": {\\n        \"wp10\": {\\n          \"score\": {\\n            \"prediction\": \"Stub\",\\n            \"probability\": {\\n              \"B\": 0.006026123678198464,\\n              \"C\": 0.006399724408744964,\\n              \"FA\": 0.000836616661304519,\\n              \"GA\": 0.001442319776226022,\\n              \"Start\": 0.040387564418622214,\\n              \"Stub\": 0.9449076510569039\\n            }\\n          }\\n        }\\n      },\\n      \"799618550\": {\\n        \"wp10\": {\\n          \"score\": {\\n            \"prediction\": \"Start\",\\n            \"probability\": {\\n              \"B\": 0.019799456073066286,\\n              \"C\": 0.17218247709823392,\\n              \"FA\": 0.002679553165782313,\\n              \"GA\": 0.0056842882831369245,\\n              \"Start\": 0.651080443413521,\\n              \"Stub\": 0.14857378196625967\\n            }\\n          }\\n        }\\n      },\\n      \"802551672\": {\\n        \"wp10\": {\\n          \"score\": {\\n            \"prediction\": \"C\",\\n            \"probability\": {\\n              \"B\": 0.17804496652032606,\\n              \"C\": 0.4950097267737061,\\n              \"FA\": 0.010481758617897869,\\n              \"GA\": 0.05901957893404478,\\n              \"Start\": 0.25371601149510725,\\n              \"Stub\": 0.0037279576589180907\\n            }\\n          }\\n        }\\n      },\\n      \"802860970\": {\\n        \"wp10\": {\\n          \"score\": {\\n            \"prediction\": \"Start\",\\n            \"probability\": {\\n              \"B\": 0.02558165138396921,\\n              \"C\": 0.04039765792427712,\\n              \"FA\": 0.0022545678420246825,\\n              \"GA\": 0.010449711271859131,\\n              \"Start\": 0.7544192760613261,\\n              \"Stub\": 0.16689713551654367\\n            }\\n          }\\n        }\\n      },\\n      \"803055503\": {\\n        \"wp10\": {\\n          \"score\": {\\n            \"prediction\": \"GA\",\\n            \"probability\": {\\n              \"B\": 0.16897311403187978,\\n              \"C\": 0.259038440077987,\\n              \"FA\": 0.01017127453793035,\\n              \"GA\": 0.5419463836514296,\\n              \"Start\": 0.01836768594668512,\\n              \"Stub\": 0.0015031017540882302\\n            }\\n          }\\n        }\\n      },\\n      \"803841397\": {\\n        \"wp10\": {\\n          \"score\": {\\n            \"prediction\": \"C\",\\n            \"probability\": {\\n              \"B\": 0.1265128338460164,\\n              \"C\": 0.466677586014158,\\n              \"FA\": 0.005082317062613911,\\n              \"GA\": 0.023992768391783027,\\n              \"Start\": 0.3617315459225463,\\n              \"Stub\": 0.016002948762882458\\n            }\\n          }\\n        }\\n      },\\n      \"804349394\": {\\n        \"wp10\": {\\n          \"score\": {\\n            \"prediction\": \"Start\",\\n            \"probability\": {\\n              \"B\": 0.05991219960122166,\\n              \"C\": 0.17947528505281388,\\n              \"FA\": 0.0044767678521823616,\\n              \"GA\": 0.047624309544830726,\\n              \"Start\": 0.662402618457737,\\n              \"Stub\": 0.04610881949121449\\n            }\\n          }\\n        }\\n      },\\n      \"805063877\": {\\n        \"wp10\": {\\n          \"score\": {\\n            \"prediction\": \"Stub\",\\n            \"probability\": {\\n              \"B\": 0.007876007462043963,\\n              \"C\": 0.011133224052929918,\\n              \"FA\": 0.0012157580330957867,\\n              \"GA\": 0.0027564059048268575,\\n              \"Start\": 0.052619383973001775,\\n              \"Stub\": 0.9243992205741016\\n            }\\n          }\\n        }\\n      },\\n      \"805775169\": {\\n        \"wp10\": {\\n          \"score\": {\\n            \"prediction\": \"Start\",\\n            \"probability\": {\\n              \"B\": 0.05049766900209879,\\n              \"C\": 0.12329713718688096,\\n              \"FA\": 0.003235367931432042,\\n              \"GA\": 0.004870197426292483,\\n              \"Start\": 0.8020940288738824,\\n              \"Stub\": 0.016005599579413436\\n            }\\n          }\\n        }\\n      },\\n      \"805920528\": {\\n        \"wp10\": {\\n          \"score\": {\\n            \"prediction\": \"GA\",\\n            \"probability\": {\\n              \"B\": 0.04309406362813584,\\n              \"C\": 0.03250432933432678,\\n              \"FA\": 0.3128520777225997,\\n              \"GA\": 0.6041499838553698,\\n              \"Start\": 0.005998917072506066,\\n              \"Stub\": 0.0014006283870616927\\n            }\\n          }\\n        }\\n      }\\n    }\\n  }\\n}'"
      ]
     },
     "execution_count": 174,
     "metadata": {},
     "output_type": "execute_result"
    }
   ],
   "source": [
    "foo.text"
   ]
  },
  {
   "cell_type": "code",
   "execution_count": null,
   "metadata": {
    "collapsed": true
   },
   "outputs": [],
   "source": []
  },
  {
   "cell_type": "code",
   "execution_count": null,
   "metadata": {
    "collapsed": true
   },
   "outputs": [],
   "source": []
  },
  {
   "cell_type": "code",
   "execution_count": 177,
   "metadata": {},
   "outputs": [
    {
     "name": "stdout",
     "output_type": "stream",
     "text": [
      "CPU times: user 27.2 ms, sys: 3.81 ms, total: 31 ms\n",
      "Wall time: 298 ms\n"
     ]
    }
   ],
   "source": [
    "%time bar = get_multiple_full_ores_score_json(3)"
   ]
  },
  {
   "cell_type": "code",
   "execution_count": 178,
   "metadata": {},
   "outputs": [
    {
     "data": {
      "text/plain": [
       "{'enwiki': {'models': {'wp10': {'version': '0.5.0'}},\n",
       "  'scores': {'718383950': {'wp10': {'score': {'prediction': 'Stub',\n",
       "      'probability': {'B': 0.00867108446083565,\n",
       "       'C': 0.010201201419512923,\n",
       "       'FA': 0.0012308185869063053,\n",
       "       'GA': 0.002347248512459868,\n",
       "       'Start': 0.08362945430408676,\n",
       "       'Stub': 0.8939201927161984}}}},\n",
       "   '728644481': {'wp10': {'score': {'prediction': 'Stub',\n",
       "      'probability': {'B': 0.011743849354179213,\n",
       "       'C': 0.018551150267917215,\n",
       "       'FA': 0.0017216633333940244,\n",
       "       'GA': 0.004963145860590862,\n",
       "       'Start': 0.2475321059686044,\n",
       "       'Stub': 0.7154880852153144}}}},\n",
       "   '758713659': {'wp10': {'score': {'prediction': 'C',\n",
       "      'probability': {'B': 0.13051629022094477,\n",
       "       'C': 0.661331647033431,\n",
       "       'FA': 0.008345185189334319,\n",
       "       'GA': 0.0506476033411268,\n",
       "       'Start': 0.13543386979975322,\n",
       "       'Stub': 0.01372540441540996}}}},\n",
       "   '774499188': {'wp10': {'score': {'prediction': 'Stub',\n",
       "      'probability': {'B': 0.03488477079112925,\n",
       "       'C': 0.06953258948284814,\n",
       "       'FA': 0.0025762575670963965,\n",
       "       'GA': 0.007911851615317388,\n",
       "       'Start': 0.4106575723489943,\n",
       "       'Stub': 0.4744369581946146}}}},\n",
       "   '778690357': {'wp10': {'score': {'prediction': 'Start',\n",
       "      'probability': {'B': 0.02297674671423472,\n",
       "       'C': 0.0861074813114808,\n",
       "       'FA': 0.002422756597764642,\n",
       "       'GA': 0.00486559372582058,\n",
       "       'Start': 0.8319728634090546,\n",
       "       'Stub': 0.051654558241644735}}}},\n",
       "   '779839643': {'wp10': {'score': {'prediction': 'Stub',\n",
       "      'probability': {'B': 0.005812277144201996,\n",
       "       'C': 0.005903365138454951,\n",
       "       'FA': 0.0007044022311522287,\n",
       "       'GA': 0.0014771677716918482,\n",
       "       'Start': 0.017543294400020636,\n",
       "       'Stub': 0.9685594933144783}}}},\n",
       "   '785284614': {'wp10': {'score': {'prediction': 'Start',\n",
       "      'probability': {'B': 0.038275722083665996,\n",
       "       'C': 0.10192509737063972,\n",
       "       'FA': 0.002304638025838147,\n",
       "       'GA': 0.01439572915013765,\n",
       "       'Start': 0.8180319224222182,\n",
       "       'Stub': 0.025066890947500402}}}},\n",
       "   '788591677': {'wp10': {'score': {'prediction': 'Start',\n",
       "      'probability': {'B': 0.06406208521481899,\n",
       "       'C': 0.2597475279770066,\n",
       "       'FA': 0.0041369402109122325,\n",
       "       'GA': 0.024158092693711455,\n",
       "       'Start': 0.6380480318062743,\n",
       "       'Stub': 0.009847322097276373}}}},\n",
       "   '789818648': {'wp10': {'score': {'prediction': 'Start',\n",
       "      'probability': {'B': 0.02941560029957346,\n",
       "       'C': 0.055087519959750295,\n",
       "       'FA': 0.0023862738697030465,\n",
       "       'GA': 0.0034467642562264924,\n",
       "       'Start': 0.8003062073936903,\n",
       "       'Stub': 0.10935763422105636}}}},\n",
       "   '797469371': {'wp10': {'score': {'prediction': 'GA',\n",
       "      'probability': {'B': 0.2268992768209362,\n",
       "       'C': 0.28687285891224934,\n",
       "       'FA': 0.026747557677269784,\n",
       "       'GA': 0.4383600708507178,\n",
       "       'Start': 0.018552043857823577,\n",
       "       'Stub': 0.002568191881003295}}}},\n",
       "   '798644673': {'wp10': {'score': {'prediction': 'Stub',\n",
       "      'probability': {'B': 0.006026123678198464,\n",
       "       'C': 0.006399724408744964,\n",
       "       'FA': 0.000836616661304519,\n",
       "       'GA': 0.001442319776226022,\n",
       "       'Start': 0.040387564418622214,\n",
       "       'Stub': 0.9449076510569039}}}},\n",
       "   '799618550': {'wp10': {'score': {'prediction': 'Start',\n",
       "      'probability': {'B': 0.019799456073066286,\n",
       "       'C': 0.17218247709823392,\n",
       "       'FA': 0.002679553165782313,\n",
       "       'GA': 0.0056842882831369245,\n",
       "       'Start': 0.651080443413521,\n",
       "       'Stub': 0.14857378196625967}}}},\n",
       "   '802551672': {'wp10': {'score': {'prediction': 'C',\n",
       "      'probability': {'B': 0.17804496652032606,\n",
       "       'C': 0.4950097267737061,\n",
       "       'FA': 0.010481758617897869,\n",
       "       'GA': 0.05901957893404478,\n",
       "       'Start': 0.25371601149510725,\n",
       "       'Stub': 0.0037279576589180907}}}},\n",
       "   '802860970': {'wp10': {'score': {'prediction': 'Start',\n",
       "      'probability': {'B': 0.02558165138396921,\n",
       "       'C': 0.04039765792427712,\n",
       "       'FA': 0.0022545678420246825,\n",
       "       'GA': 0.010449711271859131,\n",
       "       'Start': 0.7544192760613261,\n",
       "       'Stub': 0.16689713551654367}}}},\n",
       "   '803055503': {'wp10': {'score': {'prediction': 'GA',\n",
       "      'probability': {'B': 0.16897311403187978,\n",
       "       'C': 0.259038440077987,\n",
       "       'FA': 0.01017127453793035,\n",
       "       'GA': 0.5419463836514296,\n",
       "       'Start': 0.01836768594668512,\n",
       "       'Stub': 0.0015031017540882302}}}},\n",
       "   '803841397': {'wp10': {'score': {'prediction': 'C',\n",
       "      'probability': {'B': 0.1265128338460164,\n",
       "       'C': 0.466677586014158,\n",
       "       'FA': 0.005082317062613911,\n",
       "       'GA': 0.023992768391783027,\n",
       "       'Start': 0.3617315459225463,\n",
       "       'Stub': 0.016002948762882458}}}},\n",
       "   '804349394': {'wp10': {'score': {'prediction': 'Start',\n",
       "      'probability': {'B': 0.05991219960122166,\n",
       "       'C': 0.17947528505281388,\n",
       "       'FA': 0.0044767678521823616,\n",
       "       'GA': 0.047624309544830726,\n",
       "       'Start': 0.662402618457737,\n",
       "       'Stub': 0.04610881949121449}}}},\n",
       "   '805063877': {'wp10': {'score': {'prediction': 'Stub',\n",
       "      'probability': {'B': 0.007876007462043963,\n",
       "       'C': 0.011133224052929918,\n",
       "       'FA': 0.0012157580330957867,\n",
       "       'GA': 0.0027564059048268575,\n",
       "       'Start': 0.052619383973001775,\n",
       "       'Stub': 0.9243992205741016}}}},\n",
       "   '805775169': {'wp10': {'score': {'prediction': 'Start',\n",
       "      'probability': {'B': 0.05049766900209879,\n",
       "       'C': 0.12329713718688096,\n",
       "       'FA': 0.003235367931432042,\n",
       "       'GA': 0.004870197426292483,\n",
       "       'Start': 0.8020940288738824,\n",
       "       'Stub': 0.016005599579413436}}}},\n",
       "   '805920528': {'wp10': {'score': {'prediction': 'GA',\n",
       "      'probability': {'B': 0.04309406362813584,\n",
       "       'C': 0.03250432933432678,\n",
       "       'FA': 0.3128520777225997,\n",
       "       'GA': 0.6041499838553698,\n",
       "       'Start': 0.005998917072506066,\n",
       "       'Stub': 0.0014006283870616927}}}}}}}"
      ]
     },
     "execution_count": 178,
     "metadata": {},
     "output_type": "execute_result"
    }
   ],
   "source": [
    "bar"
   ]
  },
  {
   "cell_type": "code",
   "execution_count": 179,
   "metadata": {},
   "outputs": [
    {
     "ename": "IndexError",
     "evalue": "list index out of range",
     "output_type": "error",
     "traceback": [
      "\u001b[0;31m---------------------------------------------------------------------------\u001b[0m",
      "\u001b[0;31mIndexError\u001b[0m                                Traceback (most recent call last)",
      "\u001b[0;32m<ipython-input-179-e1df84c16406>\u001b[0m in \u001b[0;36m<module>\u001b[0;34m()\u001b[0m\n\u001b[0;32m----> 1\u001b[0;31m \u001b[0mbar\u001b[0m\u001b[0;34m[\u001b[0m\u001b[0;34m'enwiki'\u001b[0m\u001b[0;34m]\u001b[0m\u001b[0;34m[\u001b[0m\u001b[0;34m'scores'\u001b[0m\u001b[0;34m]\u001b[0m\u001b[0;34m[\u001b[0m\u001b[0mlist\u001b[0m\u001b[0;34m(\u001b[0m\u001b[0mj\u001b[0m\u001b[0;34m[\u001b[0m\u001b[0;34m'enwiki'\u001b[0m\u001b[0;34m]\u001b[0m\u001b[0;34m[\u001b[0m\u001b[0;34m'scores'\u001b[0m\u001b[0;34m]\u001b[0m\u001b[0;34m.\u001b[0m\u001b[0mkeys\u001b[0m\u001b[0;34m(\u001b[0m\u001b[0;34m)\u001b[0m\u001b[0;34m)\u001b[0m\u001b[0;34m[\u001b[0m\u001b[0;36m5\u001b[0m\u001b[0;34m]\u001b[0m\u001b[0;34m]\u001b[0m\u001b[0;34m[\u001b[0m\u001b[0;34m'wp10'\u001b[0m\u001b[0;34m]\u001b[0m\u001b[0;34m[\u001b[0m\u001b[0;34m'score'\u001b[0m\u001b[0;34m]\u001b[0m\u001b[0;34m[\u001b[0m\u001b[0;34m'prediction'\u001b[0m\u001b[0;34m]\u001b[0m\u001b[0;34m\u001b[0m\u001b[0m\n\u001b[0m",
      "\u001b[0;31mIndexError\u001b[0m: list index out of range"
     ]
    }
   ],
   "source": [
    "#bar['enwiki']['scores'][list(j['enwiki']['scores'].keys())[0]]['wp10']['score']['prediction']"
   ]
  },
  {
   "cell_type": "markdown",
   "metadata": {},
   "source": [
    "**TODO** check that the output of the below matches the output of calling it individually (way below). At a glance the results didn't match, but i was only looking at the results - i should check w/ the rev_ids for each, since the ordering could be different."
   ]
  },
  {
   "cell_type": "code",
   "execution_count": null,
   "metadata": {
    "collapsed": true
   },
   "outputs": [],
   "source": []
  },
  {
   "cell_type": "code",
   "execution_count": 188,
   "metadata": {},
   "outputs": [
    {
     "data": {
      "text/plain": [
       "['Stub', 'Stub', 'C', 'Stub', 'Start', 'Stub', 'Start', 'Start', 'Start', 'GA']"
      ]
     },
     "execution_count": 188,
     "metadata": {},
     "output_type": "execute_result"
    }
   ],
   "source": [
    "[bar['enwiki']['scores'][list(bar['enwiki']['scores'].keys())[i]]['wp10']['score']['prediction'] for i in range(10)]"
   ]
  },
  {
   "cell_type": "code",
   "execution_count": null,
   "metadata": {
    "collapsed": true
   },
   "outputs": [],
   "source": []
  },
  {
   "cell_type": "code",
   "execution_count": null,
   "metadata": {
    "collapsed": true
   },
   "outputs": [],
   "source": []
  },
  {
   "cell_type": "code",
   "execution_count": 128,
   "metadata": {},
   "outputs": [
    {
     "data": {
      "text/plain": [
       "dict"
      ]
     },
     "execution_count": 128,
     "metadata": {},
     "output_type": "execute_result"
    }
   ],
   "source": [
    "type(j)"
   ]
  },
  {
   "cell_type": "code",
   "execution_count": 129,
   "metadata": {},
   "outputs": [
    {
     "data": {
      "text/plain": [
       "'Start'"
      ]
     },
     "execution_count": 129,
     "metadata": {},
     "output_type": "execute_result"
    }
   ],
   "source": [
    "get_ores_prediction('797882120')"
   ]
  },
  {
   "cell_type": "code",
   "execution_count": 130,
   "metadata": {},
   "outputs": [
    {
     "data": {
      "text/plain": [
       "{'enwiki': {'models': {'wp10': {'version': '0.5.0'}},\n",
       "  'scores': {'797882120': {'wp10': {'score': {'prediction': 'Start',\n",
       "      'probability': {'B': 0.0325056273665757,\n",
       "       'C': 0.10161634736900718,\n",
       "       'FA': 0.003680032854794337,\n",
       "       'GA': 0.021044772033944954,\n",
       "       'Start': 0.8081343649161963,\n",
       "       'Stub': 0.033018855459481376}}}}}}}"
      ]
     },
     "execution_count": 130,
     "metadata": {},
     "output_type": "execute_result"
    }
   ],
   "source": [
    "j = get_full_ores_score_json('797882120')\n",
    "j"
   ]
  },
  {
   "cell_type": "code",
   "execution_count": 131,
   "metadata": {},
   "outputs": [
    {
     "data": {
      "text/plain": [
       "'797882120'"
      ]
     },
     "execution_count": 131,
     "metadata": {},
     "output_type": "execute_result"
    }
   ],
   "source": [
    "list(j['enwiki']['scores'].keys())[0]"
   ]
  },
  {
   "cell_type": "code",
   "execution_count": null,
   "metadata": {
    "collapsed": true
   },
   "outputs": [],
   "source": []
  },
  {
   "cell_type": "code",
   "execution_count": 138,
   "metadata": {},
   "outputs": [
    {
     "data": {
      "text/plain": [
       "0    802551672\n",
       "1    774499188\n",
       "2    803841397\n",
       "3    789818648\n",
       "4    785284614\n",
       "5    798644673\n",
       "6    728644481\n",
       "7    788591677\n",
       "8    758713659\n",
       "9    802860970\n",
       "Name: last_edit, dtype: int64"
      ]
     },
     "execution_count": 138,
     "metadata": {},
     "output_type": "execute_result"
    }
   ],
   "source": [
    "d_wikipedia['last_edit'][:10]"
   ]
  },
  {
   "cell_type": "code",
   "execution_count": 143,
   "metadata": {},
   "outputs": [
    {
     "data": {
      "text/plain": [
       "array([802551672, 774499188, 803841397, 789818648, 785284614, 798644673,\n",
       "       728644481, 788591677, 758713659, 802860970])"
      ]
     },
     "execution_count": 143,
     "metadata": {},
     "output_type": "execute_result"
    }
   ],
   "source": [
    "d_wikipedia['last_edit'][:10].values"
   ]
  },
  {
   "cell_type": "code",
   "execution_count": 151,
   "metadata": {},
   "outputs": [
    {
     "data": {
      "text/plain": [
       "'802551672|774499188|803841397|789818648|785284614|798644673|728644481|788591677|758713659|802860970|797469371|804349394|799618550|805063877|718383950|805775169|778690357|779839643|803055503|805920528'"
      ]
     },
     "execution_count": 151,
     "metadata": {},
     "output_type": "execute_result"
    }
   ],
   "source": [
    "'|'.join([str(i) for i in d_wikipedia['last_edit'][:20].values])"
   ]
  },
  {
   "cell_type": "code",
   "execution_count": null,
   "metadata": {
    "collapsed": true
   },
   "outputs": [],
   "source": []
  },
  {
   "cell_type": "code",
   "execution_count": 146,
   "metadata": {},
   "outputs": [
    {
     "data": {
      "text/plain": [
       "'1|2|3'"
      ]
     },
     "execution_count": 146,
     "metadata": {},
     "output_type": "execute_result"
    }
   ],
   "source": [
    "'|'.join(['1','2','3'])"
   ]
  },
  {
   "cell_type": "code",
   "execution_count": 132,
   "metadata": {},
   "outputs": [
    {
     "data": {
      "text/plain": [
       "'Start'"
      ]
     },
     "execution_count": 132,
     "metadata": {},
     "output_type": "execute_result"
    }
   ],
   "source": [
    "j['enwiki']['scores']['797882120']['wp10']['score']['prediction']"
   ]
  },
  {
   "cell_type": "code",
   "execution_count": 133,
   "metadata": {},
   "outputs": [
    {
     "data": {
      "text/plain": [
       "'797882120'"
      ]
     },
     "execution_count": 133,
     "metadata": {},
     "output_type": "execute_result"
    }
   ],
   "source": [
    "list(j['enwiki']['scores'].keys())[0]"
   ]
  },
  {
   "cell_type": "code",
   "execution_count": 134,
   "metadata": {},
   "outputs": [
    {
     "data": {
      "text/plain": [
       "'Start'"
      ]
     },
     "execution_count": 134,
     "metadata": {},
     "output_type": "execute_result"
    }
   ],
   "source": [
    "j['enwiki']['scores'][list(j['enwiki']['scores'].keys())[0]]['wp10']['score']['prediction']"
   ]
  },
  {
   "cell_type": "markdown",
   "metadata": {},
   "source": [
    "Based on one run of the below, it takes 29.2s to process 100 IDs, or 0.292 sec/ID. Since we have 48000 IDs, this is ~3.9 hrs. The 'many at the same time' API appears much faster - at least requesting 20 (not pulling out the results, but just getting the data) takes 300-800ms."
   ]
  },
  {
   "cell_type": "code",
   "execution_count": 137,
   "metadata": {},
   "outputs": [
    {
     "name": "stdout",
     "output_type": "stream",
     "text": [
      "CPU times: user 2.6 s, sys: 117 ms, total: 2.72 s\n",
      "Wall time: 29.2 s\n"
     ]
    },
    {
     "data": {
      "text/plain": [
       "0         C\n",
       "1      Stub\n",
       "2         C\n",
       "3     Start\n",
       "4     Start\n",
       "5      Stub\n",
       "6      Stub\n",
       "7     Start\n",
       "8         C\n",
       "9     Start\n",
       "10       GA\n",
       "11    Start\n",
       "12    Start\n",
       "13     Stub\n",
       "14     Stub\n",
       "15    Start\n",
       "16    Start\n",
       "17     Stub\n",
       "18       GA\n",
       "19       GA\n",
       "20     Stub\n",
       "21        C\n",
       "22    Start\n",
       "23    Start\n",
       "24        B\n",
       "25        C\n",
       "26     Stub\n",
       "27     Stub\n",
       "28        C\n",
       "29     Stub\n",
       "      ...  \n",
       "70        C\n",
       "71       GA\n",
       "72     Stub\n",
       "73     Stub\n",
       "74       GA\n",
       "75    Start\n",
       "76     Stub\n",
       "77     Stub\n",
       "78     Stub\n",
       "79    Start\n",
       "80        B\n",
       "81    Start\n",
       "82        C\n",
       "83        C\n",
       "84       GA\n",
       "85    Start\n",
       "86       GA\n",
       "87    Start\n",
       "88    Start\n",
       "89        C\n",
       "90    Start\n",
       "91    Start\n",
       "92     Stub\n",
       "93        C\n",
       "94     Stub\n",
       "95        C\n",
       "96    Start\n",
       "97     Stub\n",
       "98        C\n",
       "99     Stub\n",
       "Name: last_edit, Length: 100, dtype: object"
      ]
     },
     "execution_count": 137,
     "metadata": {},
     "output_type": "execute_result"
    }
   ],
   "source": [
    "%time d_wikipedia['last_edit'][:100].apply(get_ores_prediction)"
   ]
  },
  {
   "cell_type": "code",
   "execution_count": null,
   "metadata": {
    "collapsed": true
   },
   "outputs": [],
   "source": []
  }
 ],
 "metadata": {
  "kernelspec": {
   "display_name": "Python 3",
   "language": "python",
   "name": "python3"
  },
  "language_info": {
   "codemirror_mode": {
    "name": "ipython",
    "version": 3
   },
   "file_extension": ".py",
   "mimetype": "text/x-python",
   "name": "python",
   "nbconvert_exporter": "python",
   "pygments_lexer": "ipython3",
   "version": "3.6.2"
  }
 },
 "nbformat": 4,
 "nbformat_minor": 2
}
