{
 "cells": [
  {
   "cell_type": "code",
   "execution_count": 1,
   "metadata": {
    "collapsed": true
   },
   "outputs": [],
   "source": [
    "import pandas as pd"
   ]
  },
  {
   "cell_type": "code",
   "execution_count": 2,
   "metadata": {},
   "outputs": [
    {
     "data": {
      "text/plain": [
       "(2583, 211)"
      ]
     },
     "execution_count": 2,
     "metadata": {},
     "output_type": "execute_result"
    }
   ],
   "source": [
    "d = pd.read_csv('~/OneDrive/Personal/School/Master\\'s/DATA 512/Project/Oct16/Oct16 public.csv')\n",
    "d.shape"
   ]
  },
  {
   "cell_type": "code",
   "execution_count": 3,
   "metadata": {},
   "outputs": [
    {
     "data": {
      "text/html": [
       "<div>\n",
       "<style scoped>\n",
       "    .dataframe tbody tr th:only-of-type {\n",
       "        vertical-align: middle;\n",
       "    }\n",
       "\n",
       "    .dataframe tbody tr th {\n",
       "        vertical-align: top;\n",
       "    }\n",
       "\n",
       "    .dataframe thead th {\n",
       "        text-align: right;\n",
       "    }\n",
       "</style>\n",
       "<table border=\"1\" class=\"dataframe\">\n",
       "  <thead>\n",
       "    <tr style=\"text-align: right;\">\n",
       "      <th></th>\n",
       "      <th>Unnamed: 0</th>\n",
       "      <th>psraid</th>\n",
       "      <th>sample</th>\n",
       "      <th>int_date</th>\n",
       "      <th>fcall</th>\n",
       "      <th>attempts</th>\n",
       "      <th>refusal</th>\n",
       "      <th>ilang</th>\n",
       "      <th>cregion</th>\n",
       "      <th>state</th>\n",
       "      <th>...</th>\n",
       "      <th>hh3</th>\n",
       "      <th>ql1</th>\n",
       "      <th>ql1a</th>\n",
       "      <th>qc1</th>\n",
       "      <th>money2</th>\n",
       "      <th>ckinfo</th>\n",
       "      <th>iphoneuse</th>\n",
       "      <th>hphoneuse</th>\n",
       "      <th>cellweight</th>\n",
       "      <th>weight</th>\n",
       "    </tr>\n",
       "  </thead>\n",
       "  <tbody>\n",
       "    <tr>\n",
       "      <th>0</th>\n",
       "      <td>1</td>\n",
       "      <td>50003</td>\n",
       "      <td>Landline</td>\n",
       "      <td>102016</td>\n",
       "      <td>161020</td>\n",
       "      <td>1</td>\n",
       "      <td>No</td>\n",
       "      <td>English</td>\n",
       "      <td>Midwest</td>\n",
       "      <td>Minnesota</td>\n",
       "      <td>...</td>\n",
       "      <td>2</td>\n",
       "      <td>Yes, have cell phone</td>\n",
       "      <td>NaN</td>\n",
       "      <td>NaN</td>\n",
       "      <td>NaN</td>\n",
       "      <td>NaN</td>\n",
       "      <td>Dual</td>\n",
       "      <td>Dual HH</td>\n",
       "      <td>NaN</td>\n",
       "      <td>2.088235</td>\n",
       "    </tr>\n",
       "    <tr>\n",
       "      <th>1</th>\n",
       "      <td>2</td>\n",
       "      <td>50004</td>\n",
       "      <td>Landline</td>\n",
       "      <td>102016</td>\n",
       "      <td>161020</td>\n",
       "      <td>1</td>\n",
       "      <td>No</td>\n",
       "      <td>English</td>\n",
       "      <td>South</td>\n",
       "      <td>Delaware</td>\n",
       "      <td>...</td>\n",
       "      <td>2</td>\n",
       "      <td>Yes, have cell phone</td>\n",
       "      <td>NaN</td>\n",
       "      <td>NaN</td>\n",
       "      <td>NaN</td>\n",
       "      <td>NaN</td>\n",
       "      <td>Dual</td>\n",
       "      <td>Dual HH</td>\n",
       "      <td>NaN</td>\n",
       "      <td>1.264706</td>\n",
       "    </tr>\n",
       "  </tbody>\n",
       "</table>\n",
       "<p>2 rows × 211 columns</p>\n",
       "</div>"
      ],
      "text/plain": [
       "   Unnamed: 0  psraid    sample  int_date   fcall  attempts refusal    ilang  \\\n",
       "0           1   50003  Landline    102016  161020         1      No  English   \n",
       "1           2   50004  Landline    102016  161020         1      No  English   \n",
       "\n",
       "   cregion      state    ...    hh3                   ql1 ql1a  qc1 money2  \\\n",
       "0  Midwest  Minnesota    ...      2  Yes, have cell phone  NaN  NaN    NaN   \n",
       "1    South   Delaware    ...      2  Yes, have cell phone  NaN  NaN    NaN   \n",
       "\n",
       "  ckinfo iphoneuse hphoneuse cellweight    weight  \n",
       "0    NaN      Dual   Dual HH        NaN  2.088235  \n",
       "1    NaN      Dual   Dual HH        NaN  1.264706  \n",
       "\n",
       "[2 rows x 211 columns]"
      ]
     },
     "execution_count": 3,
     "metadata": {},
     "output_type": "execute_result"
    }
   ],
   "source": [
    "d[:2]"
   ]
  },
  {
   "cell_type": "code",
   "execution_count": 4,
   "metadata": {
    "collapsed": true
   },
   "outputs": [],
   "source": [
    "pd.set_option('display.max_rows', 500)"
   ]
  },
  {
   "cell_type": "code",
   "execution_count": 5,
   "metadata": {
    "scrolled": false
   },
   "outputs": [
    {
     "data": {
      "text/plain": [
       "Unnamed: 0                                                    1\n",
       "psraid                                                    50003\n",
       "sample                                                 Landline\n",
       "int_date                                                 102016\n",
       "fcall                                                    161020\n",
       "attempts                                                      1\n",
       "refusal                                                      No\n",
       "ilang                                                   English\n",
       "cregion                                                 Midwest\n",
       "state                                                 Minnesota\n",
       "density                                                  Lowest\n",
       "sstate                                                Minnesota\n",
       "form                                                     Form 1\n",
       "stimes                                                        1\n",
       "igender                                                  Female\n",
       "irace                                                     White\n",
       "llitext0                                  Youngest Female First\n",
       "susr                                                   Suburban\n",
       "usr                                                    Suburban\n",
       "scregion                                                Midwest\n",
       "file                                                       SRBI\n",
       "qs1                                                         NaN\n",
       "q1                                                   Disapprove\n",
       "q2                                                 Dissatisfied\n",
       "q3                                                        Angry\n",
       "campnii                                          Fairly closely\n",
       "thought                                                     NaN\n",
       "oftvote                                                  Always\n",
       "q10           for the Republican ticket of Donald Trump and ...\n",
       "q10a                                                        NaN\n",
       "q10horse                                       Trump/lean Trump\n",
       "q10horseGP                                     Trump/lean Trump\n",
       "q11                                                         NaN\n",
       "q11a                                                        NaN\n",
       "Q11HORSE2                                      Trump/lean Trump\n",
       "q12                                                    Strongly\n",
       "q13a                                            Against Clinton\n",
       "q13b                                                        NaN\n",
       "q13c                                                        NaN\n",
       "q13d                                                        NaN\n",
       "q15                                                         NaN\n",
       "q15a                                                        NaN\n",
       "plan1                                              Plan to vote\n",
       "early1                                                      NaN\n",
       "plan2                                           ON Election Day\n",
       "q20af2                                                      NaN\n",
       "q20bf2                                                      NaN\n",
       "q25f1         Things will pretty much be the same regardless...\n",
       "q26f2                                                       NaN\n",
       "q29f2                                                       NaN\n",
       "q30af1                                             Not too well\n",
       "q30bf1                                                Very well\n",
       "q31                                                         NaN\n",
       "q32                      [VOL. DO NOT READ] Don't know/Refused \n",
       "q40af1                                          Some difference\n",
       "q40bf1                                           Big difference\n",
       "q40cf1                                           Big difference\n",
       "q40df2                                                      NaN\n",
       "q40ef2                                                      NaN\n",
       "q40ff2                                                      NaN\n",
       "q50a                                               A great deal\n",
       "q50bf1                                             A great deal\n",
       "q50cf1                                             A great deal\n",
       "q50df1                                             A great deal\n",
       "q50ef1                                             A great deal\n",
       "q50ff1                                             A great deal\n",
       "q50gf1                                             A great deal\n",
       "q50hf2                                                      NaN\n",
       "q50if2                                                      NaN\n",
       "q50jf2                                                      NaN\n",
       "q50kf2                                                      NaN\n",
       "q50lf2                                                      NaN\n",
       "q51a                                               Not too much\n",
       "q51bf1                                             Not too much\n",
       "q51cf1                                             Not too much\n",
       "q51df1                                            A fair amount\n",
       "q51ef1                                             Not too much\n",
       "q51ff1                                            A fair amount\n",
       "q51gf1                                            A fair amount\n",
       "q51hf2                                                      NaN\n",
       "q51if2                                                      NaN\n",
       "q51jf2                                                      NaN\n",
       "q51kf2                                                      NaN\n",
       "q51lf2                                                      NaN\n",
       "q60                                                  Good shape\n",
       "q61                                   Don't know/Refused (VOL.)\n",
       "emp2                                                         No\n",
       "emp1                                                         No\n",
       "emp3                                                  Full-time\n",
       "employ1                                                     NaN\n",
       "employ7                                                     NaN\n",
       "q63                                          Somewhat confident\n",
       "q66f2                                                       NaN\n",
       "q67af1                                       Somewhat important\n",
       "q67bf1                                        Not too important\n",
       "q67cf1                                        Not too important\n",
       "q67df1                                           Very important\n",
       "q67ef1                                       Somewhat important\n",
       "q69f2                                                       NaN\n",
       "q70a                                           Mostly favorable\n",
       "q70b                                           Very unfavorable\n",
       "q71f1                                            Mostly divided\n",
       "q72f2                                                       NaN\n",
       "q75af1                                                       No\n",
       "q75bf1                                                       No\n",
       "q75cf1                                                       No\n",
       "q75df1                           Yes, describes Hillary Clinton\n",
       "q75ef1                                                       No\n",
       "q75if2                                                      NaN\n",
       "q75jf2                                                      NaN\n",
       "q75kf2                                                      NaN\n",
       "q75lf2                                                      NaN\n",
       "q75mf2                                                      NaN\n",
       "q76af1                              Yes, describes Donald Trump\n",
       "q76bf1                                Don't know/Refused (VOL.)\n",
       "q76cf1                              Yes, describes Donald Trump\n",
       "q76df1                                                       No\n",
       "q76ef1                              Yes, describes Donald Trump\n",
       "q76if2                                                      NaN\n",
       "q76jf2                                                      NaN\n",
       "q76kf2                                                      NaN\n",
       "q76lf2                                                      NaN\n",
       "q76mf2                                                      NaN\n",
       "q77af1                                      Stay about the same\n",
       "q77bf1                                      Stay about the same\n",
       "q78af2                                                      NaN\n",
       "q78bf2                                                      NaN\n",
       "q80af1                                             Donald Trump\n",
       "q80bf1                                             Donald Trump\n",
       "q80cf1                                             Donald Trump\n",
       "q80df1                                             Donald Trump\n",
       "q80ef1                                             Donald Trump\n",
       "q80ff1                                             Donald Trump\n",
       "q80if2                                                      NaN\n",
       "q80jf2                                                      NaN\n",
       "q80kf2                                                      NaN\n",
       "q80lf2                                                      NaN\n",
       "q80mf2                                                      NaN\n",
       "q80nf2                                                      NaN\n",
       "q82f2                                                       NaN\n",
       "q83f2                                                       NaN\n",
       "q84f1                              Yes, too personally critical\n",
       "q85f1                              Yes, too personally critical\n",
       "q89f2                                                       NaN\n",
       "q90f1                                                    Raised\n",
       "q91f1                    [VOL. DO NOT READ] Don't know/Refused \n",
       "q92f1                                                       NaN\n",
       "q93f1                                     Illegal in most cases\n",
       "q95f1                                                 Bad thing\n",
       "q96f2                                                       NaN\n",
       "q97f1         U.S. does not have a responsibility to accept ...\n",
       "q98af2                                                      NaN\n",
       "q98bf2                                                      NaN\n",
       "q99                                                    Too much\n",
       "q100f1        The U.S. should deal with its own problems and...\n",
       "q101af1                                            An adversary\n",
       "q101bf2                                                     NaN\n",
       "q102f2                                                      NaN\n",
       "q103f2                                                      NaN\n",
       "q110                           Being held to a higher standard \n",
       "sex                                                        Male\n",
       "age                                                          57\n",
       "gen5                                           Boomer (1946-64)\n",
       "educ2         High school graduate (Grade 12 with diploma or...\n",
       "hisp                                                         No\n",
       "race3m1       White (e.g., Caucasian, European, Irish, Itali...\n",
       "race3m2                                                     NaN\n",
       "race3m3                                                     NaN\n",
       "race3m4                                                     NaN\n",
       "adults                                                        2\n",
       "racethn                                         White, non-Hisp\n",
       "birth_hisp                                                  NaN\n",
       "citizen                                                     NaN\n",
       "child                                               No children\n",
       "relig         Protestant (Baptist, Methodist, Non-denominati...\n",
       "chr                                                         NaN\n",
       "born                                                 Yes, would\n",
       "attend                                              Once a week\n",
       "income                                      50 to under $75,000\n",
       "reg           Are you ABSOLUTELY CERTAIN that you are regist...\n",
       "statereg0                                                   NaN\n",
       "statereg                                                    NaN\n",
       "statenv0                                                    NaN\n",
       "statenv                                                     NaN\n",
       "planreg                                                     NaN\n",
       "regfinalpr                                           Registered\n",
       "dayof                                                        No\n",
       "dayof2                                                       No\n",
       "statebal                                                    NaN\n",
       "sameday                               Pre-registration required\n",
       "regfinal                            Registered/Plan to/N.Dakota\n",
       "party                                                Republican\n",
       "partyln                                                     NaN\n",
       "partysum                                           Rep/lean Rep\n",
       "partyideo                                              Cons Rep\n",
       "q115          Does NOT represent the core principles and pos...\n",
       "q116                                                        NaN\n",
       "q117                                Preferred another candidate\n",
       "q118                                                        NaN\n",
       "ideo                                               Conservative\n",
       "hh1                                                           2\n",
       "hh3                                                           2\n",
       "ql1                                        Yes, have cell phone\n",
       "ql1a                                                        NaN\n",
       "qc1                                                         NaN\n",
       "money2                                                      NaN\n",
       "ckinfo                                                      NaN\n",
       "iphoneuse                                                  Dual\n",
       "hphoneuse                                               Dual HH\n",
       "cellweight                                                  NaN\n",
       "weight                                                  2.08824\n",
       "Name: 0, dtype: object"
      ]
     },
     "execution_count": 5,
     "metadata": {},
     "output_type": "execute_result"
    }
   ],
   "source": [
    "d.iloc[0]"
   ]
  },
  {
   "cell_type": "code",
   "execution_count": 6,
   "metadata": {},
   "outputs": [
    {
     "data": {
      "text/plain": [
       "White, non-Hisp    1793\n",
       "Hispanic            325\n",
       "Black, non-Hisp     237\n",
       "Other               186\n",
       "NaN                  42\n",
       "Name: racethn, dtype: int64"
      ]
     },
     "execution_count": 6,
     "metadata": {},
     "output_type": "execute_result"
    }
   ],
   "source": [
    "d['racethn'].value_counts(dropna=False)"
   ]
  },
  {
   "cell_type": "code",
   "execution_count": 7,
   "metadata": {},
   "outputs": [
    {
     "data": {
      "text/plain": [
       "White (e.g., Caucasian, European, Irish, Italian, Arab, Middle Eastern)                                     1998\n",
       "Black or African-American (e.g., Negro, Kenyan, Nigerian, Haitian)                                           266\n",
       "Hispanic/Latino (VOL.) (e.g., Mexican, Puerto Rican, Cuban)                                                  128\n",
       "Asian or Asian-American (e.g., Asian Indian, Chinese, Filipino, Vietnamese or other Asian origin groups)      85\n",
       "Native American/American Indian/Alaska Native (VOL.)                                                          40\n",
       "Refused (e.g., non-race answers like American, Human, purple) (VOL.)                                          36\n",
       "Don't know (VOL.)                                                                                             22\n",
       "Some other race (SPECIFY____ IF NEEDED: What race or races is that?)                                           5\n",
       "Pacific Islander/Native Hawaiian (VOL.)                                                                        3\n",
       "Name: race3m1, dtype: int64"
      ]
     },
     "execution_count": 7,
     "metadata": {},
     "output_type": "execute_result"
    }
   ],
   "source": [
    "d['race3m1'].value_counts(dropna=False)"
   ]
  },
  {
   "cell_type": "code",
   "execution_count": 8,
   "metadata": {},
   "outputs": [
    {
     "data": {
      "text/plain": [
       "NaN                                                                                                         2506\n",
       "Native American/American Indian/Alaska Native (VOL.)                                                          44\n",
       "Black or African-American (e.g., Negro, Kenyan, Nigerian, Haitian)                                            18\n",
       "White (e.g., Caucasian, European, Irish, Italian, Arab, Middle Eastern)                                        8\n",
       "Asian or Asian-American (e.g., Asian Indian, Chinese, Filipino, Vietnamese or other Asian origin groups)       5\n",
       "Pacific Islander/Native Hawaiian (VOL.)                                                                        2\n",
       "Name: race3m2, dtype: int64"
      ]
     },
     "execution_count": 8,
     "metadata": {},
     "output_type": "execute_result"
    }
   ],
   "source": [
    "d['race3m2'].value_counts(dropna=False)"
   ]
  },
  {
   "cell_type": "code",
   "execution_count": 9,
   "metadata": {},
   "outputs": [
    {
     "data": {
      "text/plain": [
       "NaN                                                                                                         2578\n",
       "Asian or Asian-American (e.g., Asian Indian, Chinese, Filipino, Vietnamese or other Asian origin groups)       4\n",
       "White (e.g., Caucasian, European, Irish, Italian, Arab, Middle Eastern)                                        1\n",
       "Name: race3m3, dtype: int64"
      ]
     },
     "execution_count": 9,
     "metadata": {},
     "output_type": "execute_result"
    }
   ],
   "source": [
    "d['race3m3'].value_counts(dropna=False)"
   ]
  },
  {
   "cell_type": "code",
   "execution_count": 10,
   "metadata": {},
   "outputs": [
    {
     "data": {
      "text/plain": [
       "NaN    2583\n",
       "Name: race3m4, dtype: int64"
      ]
     },
     "execution_count": 10,
     "metadata": {},
     "output_type": "execute_result"
    }
   ],
   "source": [
    "d['race3m4'].value_counts(dropna=False)"
   ]
  },
  {
   "cell_type": "markdown",
   "metadata": {},
   "source": [
    "Here's the text from the readme.txt:\n",
    "\n",
    "    *The combined race variable (racecmb) was computed using the following syntax:\n",
    "    recode race_1 (1=1) (2=2) (3=3) (4 thru 7=5) (8 thru 9=9) into racecmb.\n",
    "    if race_2>0 and race_2 <8 racecmb=4.\n",
    "    variable label racecmb \"Combining Race\".\n",
    "    value label racecmb\n",
    "    1 \"White\"\n",
    "    2 \"Black or African-American\"\n",
    "    3 \"Asian or Asian-American\"\n",
    "    4 \"Mixed Race\"\n",
    "    5 \"Or some other race\"\n",
    "    9 \"Dont know/Refused (VOL.)\"."
   ]
  },
  {
   "cell_type": "code",
   "execution_count": 11,
   "metadata": {
    "collapsed": true
   },
   "outputs": [],
   "source": [
    "#from collections import defaultdict\n",
    "racethn_to_index = {\n",
    "    \"White (e.g., Caucasian, European, Irish, Italian, Arab, Middle Eastern)\": 1,\n",
    "    \"Black or African-American (e.g., Negro, Kenyan, Nigerian, Haitian)\": 2,\n",
    "    \"Asian or Asian-American (e.g., Asian Indian, Chinese, Filipino, Vietnamese or other Asian origin groups)\": 3,\n",
    "    \"Some other race (SPECIFY____ IF NEEDED: What race or races is that?)\": 4,\n",
    "    \"Native American/American Indian/Alaska Native (VOL.)\": 5,\n",
    "    \"Pacific Islander/Native Hawaiian (VOL.)\": 6,\n",
    "    \"Hispanic/Latino (VOL.) (e.g., Mexican, Puerto Rican, Cuban)\": 7,\n",
    "    \"Don't know (VOL.)\": 8,\n",
    "    \"Refused (e.g., non-race answers like American, Human, purple) (VOL.)\": 9\n",
    "}\n"
   ]
  },
  {
   "cell_type": "code",
   "execution_count": 12,
   "metadata": {},
   "outputs": [
    {
     "data": {
      "text/plain": [
       "1    1998\n",
       "2     266\n",
       "7     128\n",
       "3      85\n",
       "5      40\n",
       "9      36\n",
       "8      22\n",
       "4       5\n",
       "6       3\n",
       "Name: race3m1, dtype: int64"
      ]
     },
     "execution_count": 12,
     "metadata": {},
     "output_type": "execute_result"
    }
   ],
   "source": [
    "d['race3m1'].map(racethn_to_index).value_counts(dropna=False)"
   ]
  },
  {
   "cell_type": "code",
   "execution_count": 13,
   "metadata": {},
   "outputs": [
    {
     "data": {
      "text/plain": [
       "White (e.g., Caucasian, European, Irish, Italian, Arab, Middle Eastern)                                     1998\n",
       "Black or African-American (e.g., Negro, Kenyan, Nigerian, Haitian)                                           266\n",
       "Hispanic/Latino (VOL.) (e.g., Mexican, Puerto Rican, Cuban)                                                  128\n",
       "Asian or Asian-American (e.g., Asian Indian, Chinese, Filipino, Vietnamese or other Asian origin groups)      85\n",
       "Native American/American Indian/Alaska Native (VOL.)                                                          40\n",
       "Refused (e.g., non-race answers like American, Human, purple) (VOL.)                                          36\n",
       "Don't know (VOL.)                                                                                             22\n",
       "Some other race (SPECIFY____ IF NEEDED: What race or races is that?)                                           5\n",
       "Pacific Islander/Native Hawaiian (VOL.)                                                                        3\n",
       "Name: race3m1, dtype: int64"
      ]
     },
     "execution_count": 13,
     "metadata": {},
     "output_type": "execute_result"
    }
   ],
   "source": [
    "d['race3m1'].value_counts(dropna=False)"
   ]
  },
  {
   "cell_type": "code",
   "execution_count": 14,
   "metadata": {
    "collapsed": true
   },
   "outputs": [],
   "source": [
    "d['race3m1_index'] = d['race3m1'].map(racethn_to_index)\n",
    "d['race3m2_index'] = d['race3m2'].map(racethn_to_index)"
   ]
  },
  {
   "cell_type": "code",
   "execution_count": 15,
   "metadata": {
    "collapsed": true
   },
   "outputs": [],
   "source": [
    "def get_racecmb(row):\n",
    "    if ((row['race3m2_index'] > 0) & (row['race3m2_index'] < 8)):\n",
    "        return 'Mixed Race'\n",
    "    elif (row['race3m1_index'] == 1):\n",
    "        return 'White'\n",
    "    elif (row['race3m1_index'] == 2):\n",
    "        return 'Black or African-American'\n",
    "    elif (row['race3m1_index'] == 3):\n",
    "        return 'Asian or Asian-American'\n",
    "    elif (row['race3m1_index'] >= 4 & row['race3m1_index'] <= 7):\n",
    "        return 'Or some other race'\n",
    "    elif ((row['race3m1_index'] >= 8) & (row['race3m1_index'] <= 9)):\n",
    "        return 'Dont know/Refused (VOL.)'"
   ]
  },
  {
   "cell_type": "code",
   "execution_count": 16,
   "metadata": {},
   "outputs": [
    {
     "data": {
      "text/plain": [
       "White                        1935\n",
       "Black or African-American     258\n",
       "Or some other race            230\n",
       "Asian or Asian-American        83\n",
       "Mixed Race                     77\n",
       "dtype: int64"
      ]
     },
     "execution_count": 16,
     "metadata": {},
     "output_type": "execute_result"
    }
   ],
   "source": [
    "d.apply(get_racecmb, axis=1).value_counts(dropna=False)"
   ]
  },
  {
   "cell_type": "code",
   "execution_count": 17,
   "metadata": {
    "collapsed": true
   },
   "outputs": [],
   "source": [
    "d['racecmb'] = d.apply(get_racecmb, axis=1)"
   ]
  },
  {
   "cell_type": "markdown",
   "metadata": {},
   "source": [
    "**TODO** sanity check above numbers... are they right?"
   ]
  },
  {
   "cell_type": "code",
   "execution_count": 18,
   "metadata": {},
   "outputs": [
    {
     "data": {
      "text/plain": [
       "White                        1935\n",
       "Black or African-American     258\n",
       "Or some other race            230\n",
       "Asian or Asian-American        83\n",
       "Mixed Race                     77\n",
       "Name: racecmb, dtype: int64"
      ]
     },
     "execution_count": 18,
     "metadata": {},
     "output_type": "execute_result"
    }
   ],
   "source": [
    "d['racecmb'].value_counts(dropna=False)"
   ]
  },
  {
   "cell_type": "markdown",
   "metadata": {},
   "source": [
    "## Filter to a smaller list of fields, for ease of examination"
   ]
  },
  {
   "cell_type": "code",
   "execution_count": 19,
   "metadata": {
    "collapsed": true
   },
   "outputs": [],
   "source": [
    "fields_to_keep = [\n",
    "    'psraid',\n",
    "    'int_date',\n",
    "    'cregion',\n",
    "    'state',\n",
    "    'density',\n",
    "    'usr',\n",
    "    'q10',\n",
    "    'q10a',\n",
    "    'q10horse',\n",
    "    'q10horseGP',\n",
    "    'plan1',\n",
    "    'early1',\n",
    "    'plan2',\n",
    "    'sex',\n",
    "    'age',\n",
    "    'gen5',\n",
    "    'educ2',\n",
    "    'income',\n",
    "    'regfinal',\n",
    "    'cellweight',\n",
    "    'weight',\n",
    "    'racecmb'\n",
    "]"
   ]
  },
  {
   "cell_type": "code",
   "execution_count": 20,
   "metadata": {},
   "outputs": [
    {
     "data": {
      "text/plain": [
       "(2583, 22)"
      ]
     },
     "execution_count": 20,
     "metadata": {},
     "output_type": "execute_result"
    }
   ],
   "source": [
    "d = d[fields_to_keep]\n",
    "d.shape"
   ]
  },
  {
   "cell_type": "code",
   "execution_count": 21,
   "metadata": {},
   "outputs": [
    {
     "data": {
      "text/plain": [
       "['int_date',\n",
       " 'cregion',\n",
       " 'state',\n",
       " 'density',\n",
       " 'usr',\n",
       " 'q10',\n",
       " 'q10a',\n",
       " 'q10horse',\n",
       " 'q10horseGP',\n",
       " 'plan1',\n",
       " 'early1',\n",
       " 'plan2',\n",
       " 'sex',\n",
       " 'age',\n",
       " 'gen5',\n",
       " 'educ2',\n",
       " 'income',\n",
       " 'regfinal',\n",
       " 'racecmb']"
      ]
     },
     "execution_count": 21,
     "metadata": {},
     "output_type": "execute_result"
    }
   ],
   "source": [
    "dont_include_fields = ['psraid','cellweight','weight']\n",
    "fields_for_value_counts = [field for field in d.columns if field not in dont_include_fields]\n",
    "fields_for_value_counts"
   ]
  },
  {
   "cell_type": "code",
   "execution_count": 22,
   "metadata": {
    "scrolled": false
   },
   "outputs": [
    {
     "name": "stdout",
     "output_type": "stream",
     "text": [
      "int_date\n",
      "102116    610\n",
      "102516    520\n",
      "102216    432\n",
      "102316    409\n",
      "102416    326\n",
      "102016    286\n",
      "Name: int_date, dtype: int64\n",
      "\n",
      "cregion\n",
      "South        988\n",
      "West         574\n",
      "Midwest      559\n",
      "Northeast    462\n",
      "Name: cregion, dtype: int64\n",
      "\n",
      "state\n",
      "California              259\n",
      "Texas                   202\n",
      "New York                173\n",
      "Florida                 162\n",
      "Pennsylvania             99\n",
      "Ohio                     96\n",
      "Illinois                 88\n",
      "North Carolina           86\n",
      "New Jersey               84\n",
      "Virginia                 80\n",
      "Georgia                  79\n",
      "Michigan                 79\n",
      "Minnesota                63\n",
      "Wisconsin                63\n",
      "Arizona                  62\n",
      "Washington               60\n",
      "Tennessee                53\n",
      "Missouri                 50\n",
      "Colorado                 46\n",
      "Indiana                  45\n",
      "Maryland                 45\n",
      "Kentucky                 44\n",
      "South Carolina           44\n",
      "Oregon                   42\n",
      "Louisiana                38\n",
      "Oklahoma                 38\n",
      "Alabama                  37\n",
      "Massachusetts            37\n",
      "Connecticut              32\n",
      "Iowa                     28\n",
      "Nevada                   26\n",
      "Kansas                   22\n",
      "Utah                     21\n",
      "Idaho                    20\n",
      "West Virginia            20\n",
      "Mississippi              20\n",
      "Arkansas                 19\n",
      "Maine                    16\n",
      "Nebraska                 15\n",
      "Hawaii                   15\n",
      "District of Columbia     12\n",
      "New Mexico               11\n",
      "North Dakota              9\n",
      "Delaware                  9\n",
      "Alaska                    8\n",
      "Rhode Island              8\n",
      "Vermont                   7\n",
      "New Hampshire             6\n",
      "Wyoming                   3\n",
      "Montana                   1\n",
      "South Dakota              1\n",
      "Name: state, dtype: int64\n",
      "\n",
      "density\n",
      "Lowest     527\n",
      "3          526\n",
      "4          515\n",
      "Highest    512\n",
      "2          503\n",
      "Name: density, dtype: int64\n",
      "\n",
      "usr\n",
      "Suburban    1336\n",
      "Urban        824\n",
      "Rural        423\n",
      "Name: usr, dtype: int64\n",
      "\n",
      "q10\n",
      "for the Democratic ticket of Hillary Clinton and Tim Kaine                 944\n",
      "for the Republican ticket of Donald Trump and Mike Pence                   816\n",
      "NaN                                                                        463\n",
      "for the Libertarian Party ticket headed by Gary Johnson [OR]               108\n",
      "[VOL. DO NOT READ] Don't know                                               90\n",
      "[VOL. DO NOT READ] Refused                                                  56\n",
      "[VOL. DO NOT READ] Other candidate                                          55\n",
      "for the Green Party ticket headed by Jill Stein [PRONOUNCED: St-eye-n]      51\n",
      "Name: q10, dtype: int64\n",
      "\n",
      "q10a\n",
      "NaN                                   2382\n",
      "[VOL. DO NOT READ] Don't know           47\n",
      "Donald Trump, the Republican            42\n",
      "[VOL. DO NOT READ] Refused              31\n",
      "[VOL. DO NOT READ] Other candidate      31\n",
      "Hillary Clinton, the Democrat           28\n",
      "Gary Johnson, the Libertarian [OR]      16\n",
      "Jill Stein of the Green Party            6\n",
      "Name: q10a, dtype: int64\n",
      "\n",
      "q10horse\n",
      "Clinton/lean Clinton     972\n",
      "Trump/lean Trump         858\n",
      "NaN                      463\n",
      "Johnson/lean Johnson     124\n",
      "DK-refused to lean        76\n",
      "Stein/lean Stein          57\n",
      "Other-refused to lean     33\n",
      "Name: q10horse, dtype: int64\n",
      "\n",
      "q10horseGP\n",
      "Clinton/lean Clinton     972\n",
      "Trump/lean Trump         858\n",
      "Not registered           466\n",
      "Johnson/lean Johnson     124\n",
      "DK-refused to lean        76\n",
      "Stein/lean Stein          57\n",
      "Other-refused to lean     30\n",
      "Name: q10horseGP, dtype: int64\n",
      "\n",
      "plan1\n",
      "Plan to vote                 1806\n",
      "NaN                           463\n",
      "Already voted                 246\n",
      "Don't plan to vote             46\n",
      "Don't know/Refused (VOL.)      22\n",
      "Name: plan1, dtype: int64\n",
      "\n",
      "early1\n",
      "NaN                 2337\n",
      "Mailed in ballot     166\n",
      "Voted in person       76\n",
      "Other way (VOL.)       4\n",
      "Name: early1, dtype: int64\n",
      "\n",
      "plan2\n",
      "ON Election Day              1191\n",
      "NaN                           777\n",
      "BEFORE Election Day           558\n",
      "Don't know/Refused (VOL.)      57\n",
      "Name: plan2, dtype: int64\n",
      "\n",
      "sex\n",
      "Male      1394\n",
      "Female    1189\n",
      "Name: sex, dtype: int64\n",
      "\n",
      "age\n",
      "65                           67\n",
      "56                           63\n",
      "55                           61\n",
      "60                           60\n",
      "50                           59\n",
      "59                           57\n",
      "63                           56\n",
      "70                           56\n",
      "62                           56\n",
      "68                           52\n",
      "52                           52\n",
      "48                           52\n",
      "58                           52\n",
      "66                           51\n",
      "64                           51\n",
      "36                           49\n",
      "57                           49\n",
      "69                           47\n",
      "54                           46\n",
      "53                           46\n",
      "29                           44\n",
      "32                           43\n",
      "40                           42\n",
      "Don't know/Refused (VOL.)    41\n",
      "21                           41\n",
      "51                           40\n",
      "45                           39\n",
      "42                           39\n",
      "30                           39\n",
      "19                           38\n",
      "46                           37\n",
      "38                           37\n",
      "35                           36\n",
      "33                           36\n",
      "61                           35\n",
      "20                           35\n",
      "73                           35\n",
      "25                           35\n",
      "37                           34\n",
      "27                           34\n",
      "28                           34\n",
      "41                           33\n",
      "67                           33\n",
      "22                           33\n",
      "18                           33\n",
      "31                           33\n",
      "26                           33\n",
      "49                           32\n",
      "71                           31\n",
      "72                           30\n",
      "43                           29\n",
      "23                           29\n",
      "76                           28\n",
      "74                           28\n",
      "39                           27\n",
      "47                           26\n",
      "75                           25\n",
      "80                           24\n",
      "44                           24\n",
      "79                           21\n",
      "77                           20\n",
      "78                           19\n",
      "34                           18\n",
      "24                           17\n",
      "83                           15\n",
      "81                           13\n",
      "85                           10\n",
      "84                           10\n",
      "82                            8\n",
      "86                            7\n",
      "88                            5\n",
      "90                            4\n",
      "92                            2\n",
      "87                            2\n",
      "89                            2\n",
      "93                            1\n",
      "91                            1\n",
      "94                            1\n",
      "Name: age, dtype: int64\n",
      "\n",
      "gen5\n",
      "Boomer (1946-64)              990\n",
      "Millennial (1981-)            611\n",
      "Xer (1965-80)                 599\n",
      "Silent (1928-45)              331\n",
      "DK/Ref                         41\n",
      "Greatest and older (-1928)     11\n",
      "Name: gen5, dtype: int64\n",
      "\n",
      "educ2\n",
      "Four year college or university degree/Bachelor's degree (e.g., BS, BA, AB)                  680\n",
      "High school graduate (Grade 12 with diploma or GED certificate)                              584\n",
      "Postgraduate or professional degree, including master's, doctorate, medical or law degree    433\n",
      "Some college, no degree (includes some community college)                                    375\n",
      "Two year associate degree from a college or university                                       282\n",
      "High school incomplete (Grades 9-11 or Grade 12 with NO diploma)                              84\n",
      "Some postgraduate or professional schooling, no postgraduate degree                           67\n",
      "Less than high school (Grades 1-8 or no formal schooling)                                     64\n",
      "Don't know/Refused (VOL.)                                                                     14\n",
      "Name: educ2, dtype: int64\n",
      "\n",
      "income\n",
      "$150,000 or more                         345\n",
      "100 to under $150,000 [OR]               343\n",
      "50 to under $75,000                      330\n",
      "75 to under $100,000                     312\n",
      "20 to under $30,000                      249\n",
      "40 to under $50,000                      223\n",
      "[VOL. DO NOT READ] Don't know/Refused    222\n",
      "30 to under $40,000                      218\n",
      "10 to under $20,000                      197\n",
      "Less than $10,000                        144\n",
      "Name: income, dtype: int64\n",
      "\n",
      "regfinal\n",
      "Registered/Plan to/N.Dakota    2120\n",
      "Not registered                  463\n",
      "Name: regfinal, dtype: int64\n",
      "\n",
      "racecmb\n",
      "White                        1935\n",
      "Black or African-American     258\n",
      "Or some other race            230\n",
      "Asian or Asian-American        83\n",
      "Mixed Race                     77\n",
      "Name: racecmb, dtype: int64\n",
      "\n"
     ]
    }
   ],
   "source": [
    "for field in fields_for_value_counts:\n",
    "    print(field)\n",
    "    print(d[field].value_counts(dropna=False))\n",
    "    print()"
   ]
  },
  {
   "cell_type": "markdown",
   "metadata": {},
   "source": [
    "# Weighting investigation"
   ]
  },
  {
   "cell_type": "markdown",
   "metadata": {},
   "source": [
    "From the \"Oct16 methodology.pdf\" file (emphasis added):\n",
    "\n",
    "- \"The first stage of weighting corrected for different probabilities of selection associated with the number of adults in each household and each respondent’s telephone usage patterns.1 This weighting also adjusts for the overlapping landline and cell sample frames and the relative sizes of each frame and each sample.\"\n",
    "- \"The second stage of weighting balances sample demographics to population parameters. The sample is balanced by form to match national population parameters for **sex, age, education, race, Hispanic origin, region (U.S. Census definitions), population density, and telephone usage**. The Hispanic origin was split out based on nativity; U.S. born and non-U.S. born. The White, non-Hispanic subgroup was also balanced on age, education and region. The basic weighting parameters came from the U.S. Census Bureau’s 2014 American Community Survey (ACS) data. The population density parameter was derived from Census 2010 data. The telephone usage parameter came from an analysis of the July-December 2015 National Health Interview Survey.\""
   ]
  },
  {
   "cell_type": "code",
   "execution_count": 23,
   "metadata": {},
   "outputs": [
    {
     "data": {
      "text/html": [
       "<div>\n",
       "<style scoped>\n",
       "    .dataframe tbody tr th:only-of-type {\n",
       "        vertical-align: middle;\n",
       "    }\n",
       "\n",
       "    .dataframe tbody tr th {\n",
       "        vertical-align: top;\n",
       "    }\n",
       "\n",
       "    .dataframe thead th {\n",
       "        text-align: right;\n",
       "    }\n",
       "</style>\n",
       "<table border=\"1\" class=\"dataframe\">\n",
       "  <thead>\n",
       "    <tr style=\"text-align: right;\">\n",
       "      <th></th>\n",
       "      <th>psraid</th>\n",
       "      <th>int_date</th>\n",
       "      <th>cregion</th>\n",
       "      <th>state</th>\n",
       "      <th>density</th>\n",
       "      <th>usr</th>\n",
       "      <th>q10</th>\n",
       "      <th>q10a</th>\n",
       "      <th>q10horse</th>\n",
       "      <th>q10horseGP</th>\n",
       "      <th>...</th>\n",
       "      <th>plan2</th>\n",
       "      <th>sex</th>\n",
       "      <th>age</th>\n",
       "      <th>gen5</th>\n",
       "      <th>educ2</th>\n",
       "      <th>income</th>\n",
       "      <th>regfinal</th>\n",
       "      <th>cellweight</th>\n",
       "      <th>weight</th>\n",
       "      <th>racecmb</th>\n",
       "    </tr>\n",
       "  </thead>\n",
       "  <tbody>\n",
       "    <tr>\n",
       "      <th>328</th>\n",
       "      <td>75012</td>\n",
       "      <td>102016</td>\n",
       "      <td>West</td>\n",
       "      <td>Montana</td>\n",
       "      <td>Lowest</td>\n",
       "      <td>Rural</td>\n",
       "      <td>for the Republican ticket of Donald Trump and ...</td>\n",
       "      <td>NaN</td>\n",
       "      <td>Trump/lean Trump</td>\n",
       "      <td>Trump/lean Trump</td>\n",
       "      <td>...</td>\n",
       "      <td>NaN</td>\n",
       "      <td>Female</td>\n",
       "      <td>64</td>\n",
       "      <td>Boomer (1946-64)</td>\n",
       "      <td>High school graduate (Grade 12 with diploma or...</td>\n",
       "      <td>30 to under $40,000</td>\n",
       "      <td>Registered/Plan to/N.Dakota</td>\n",
       "      <td>3.243243</td>\n",
       "      <td>3.117647</td>\n",
       "      <td>White</td>\n",
       "    </tr>\n",
       "  </tbody>\n",
       "</table>\n",
       "<p>1 rows × 22 columns</p>\n",
       "</div>"
      ],
      "text/plain": [
       "     psraid  int_date cregion    state density    usr  \\\n",
       "328   75012    102016    West  Montana  Lowest  Rural   \n",
       "\n",
       "                                                   q10 q10a          q10horse  \\\n",
       "328  for the Republican ticket of Donald Trump and ...  NaN  Trump/lean Trump   \n",
       "\n",
       "           q10horseGP   ...    plan2     sex age              gen5  \\\n",
       "328  Trump/lean Trump   ...      NaN  Female  64  Boomer (1946-64)   \n",
       "\n",
       "                                                 educ2               income  \\\n",
       "328  High school graduate (Grade 12 with diploma or...  30 to under $40,000   \n",
       "\n",
       "                        regfinal cellweight    weight  racecmb  \n",
       "328  Registered/Plan to/N.Dakota   3.243243  3.117647    White  \n",
       "\n",
       "[1 rows x 22 columns]"
      ]
     },
     "execution_count": 23,
     "metadata": {},
     "output_type": "execute_result"
    }
   ],
   "source": [
    "d[d['state'] == 'Montana']"
   ]
  },
  {
   "cell_type": "markdown",
   "metadata": {},
   "source": [
    "**TODO**"
   ]
  },
  {
   "cell_type": "markdown",
   "metadata": {},
   "source": [
    "# CPS sanity check and basic analysis"
   ]
  },
  {
   "cell_type": "code",
   "execution_count": 24,
   "metadata": {},
   "outputs": [
    {
     "data": {
      "text/plain": [
       "(185487, 18)"
      ]
     },
     "execution_count": 24,
     "metadata": {},
     "output_type": "execute_result"
    }
   ],
   "source": [
    "d_cps = pd.read_csv('~/OneDrive/Personal/School/Master\\'s/DATA 512/Project/cps_00001.csv')\n",
    "d_cps.shape"
   ]
  },
  {
   "cell_type": "code",
   "execution_count": 25,
   "metadata": {},
   "outputs": [
    {
     "data": {
      "text/html": [
       "<div>\n",
       "<style scoped>\n",
       "    .dataframe tbody tr th:only-of-type {\n",
       "        vertical-align: middle;\n",
       "    }\n",
       "\n",
       "    .dataframe tbody tr th {\n",
       "        vertical-align: top;\n",
       "    }\n",
       "\n",
       "    .dataframe thead th {\n",
       "        text-align: right;\n",
       "    }\n",
       "</style>\n",
       "<table border=\"1\" class=\"dataframe\">\n",
       "  <thead>\n",
       "    <tr style=\"text-align: right;\">\n",
       "      <th></th>\n",
       "      <th>Unnamed: 0</th>\n",
       "      <th>YEAR</th>\n",
       "      <th>SERIAL</th>\n",
       "      <th>HWTSUPP</th>\n",
       "      <th>CPSID</th>\n",
       "      <th>REGION</th>\n",
       "      <th>STATEFIP</th>\n",
       "      <th>STATECENSUS</th>\n",
       "      <th>ASECFLAG</th>\n",
       "      <th>MONTH</th>\n",
       "      <th>PERNUM</th>\n",
       "      <th>CPSIDP</th>\n",
       "      <th>WTSUPP</th>\n",
       "      <th>AGE</th>\n",
       "      <th>SEX</th>\n",
       "      <th>RACE</th>\n",
       "      <th>HISPAN</th>\n",
       "      <th>EDUC99</th>\n",
       "    </tr>\n",
       "  </thead>\n",
       "  <tbody>\n",
       "    <tr>\n",
       "      <th>0</th>\n",
       "      <td>1</td>\n",
       "      <td>2016</td>\n",
       "      <td>2</td>\n",
       "      <td>1132.05</td>\n",
       "      <td>2.014120e+13</td>\n",
       "      <td>New England Division</td>\n",
       "      <td>Maine</td>\n",
       "      <td>Maine</td>\n",
       "      <td>ASEC</td>\n",
       "      <td>March</td>\n",
       "      <td>1</td>\n",
       "      <td>20141202933701</td>\n",
       "      <td>1132.05</td>\n",
       "      <td>79</td>\n",
       "      <td>Female</td>\n",
       "      <td>White</td>\n",
       "      <td>Not Hispanic</td>\n",
       "      <td>5th-8th grade</td>\n",
       "    </tr>\n",
       "    <tr>\n",
       "      <th>1</th>\n",
       "      <td>2</td>\n",
       "      <td>2016</td>\n",
       "      <td>7</td>\n",
       "      <td>1077.54</td>\n",
       "      <td>2.015120e+13</td>\n",
       "      <td>New England Division</td>\n",
       "      <td>Maine</td>\n",
       "      <td>Maine</td>\n",
       "      <td>ASEC</td>\n",
       "      <td>March</td>\n",
       "      <td>1</td>\n",
       "      <td>20151202935901</td>\n",
       "      <td>1077.54</td>\n",
       "      <td>60</td>\n",
       "      <td>Female</td>\n",
       "      <td>White</td>\n",
       "      <td>Not Hispanic</td>\n",
       "      <td>10th grade</td>\n",
       "    </tr>\n",
       "    <tr>\n",
       "      <th>2</th>\n",
       "      <td>3</td>\n",
       "      <td>2016</td>\n",
       "      <td>7</td>\n",
       "      <td>1077.54</td>\n",
       "      <td>2.015120e+13</td>\n",
       "      <td>New England Division</td>\n",
       "      <td>Maine</td>\n",
       "      <td>Maine</td>\n",
       "      <td>ASEC</td>\n",
       "      <td>March</td>\n",
       "      <td>2</td>\n",
       "      <td>20151202935902</td>\n",
       "      <td>1077.54</td>\n",
       "      <td>59</td>\n",
       "      <td>Male</td>\n",
       "      <td>White</td>\n",
       "      <td>Not Hispanic</td>\n",
       "      <td>Some college, no degree</td>\n",
       "    </tr>\n",
       "  </tbody>\n",
       "</table>\n",
       "</div>"
      ],
      "text/plain": [
       "   Unnamed: 0  YEAR  SERIAL  HWTSUPP         CPSID                REGION  \\\n",
       "0           1  2016       2  1132.05  2.014120e+13  New England Division   \n",
       "1           2  2016       7  1077.54  2.015120e+13  New England Division   \n",
       "2           3  2016       7  1077.54  2.015120e+13  New England Division   \n",
       "\n",
       "  STATEFIP STATECENSUS ASECFLAG  MONTH  PERNUM          CPSIDP   WTSUPP AGE  \\\n",
       "0    Maine       Maine     ASEC  March       1  20141202933701  1132.05  79   \n",
       "1    Maine       Maine     ASEC  March       1  20151202935901  1077.54  60   \n",
       "2    Maine       Maine     ASEC  March       2  20151202935902  1077.54  59   \n",
       "\n",
       "      SEX   RACE        HISPAN                   EDUC99  \n",
       "0  Female  White  Not Hispanic            5th-8th grade  \n",
       "1  Female  White  Not Hispanic               10th grade  \n",
       "2    Male  White  Not Hispanic  Some college, no degree  "
      ]
     },
     "execution_count": 25,
     "metadata": {},
     "output_type": "execute_result"
    }
   ],
   "source": [
    "d_cps[:3]"
   ]
  },
  {
   "cell_type": "code",
   "execution_count": 26,
   "metadata": {},
   "outputs": [
    {
     "data": {
      "text/plain": [
       "RACE\n",
       "White                                                    2.458050e+08\n",
       "Black/Negro                                              4.170345e+07\n",
       "Asian only                                               1.824928e+07\n",
       "American Indian/Aleut/Eskimo                             4.299843e+06\n",
       "White-Black                                              2.769582e+06\n",
       "White-American Indian                                    2.145419e+06\n",
       "White-Asian                                              1.374479e+06\n",
       "Hawaiian/Pacific Islander only                           1.160598e+06\n",
       "Black-American Indian                                    3.139107e+05\n",
       "White-Black-American Indian                              2.836355e+05\n",
       "White-Hawaiian/Pacific Islander                          2.755069e+05\n",
       "Asian-Hawaiian/Pacific Islander                          1.016896e+05\n",
       "Black-Asian                                              9.687077e+04\n",
       "White-Black-Asian                                        6.684736e+04\n",
       "White-Asian-Hawaiian/Pacific Islander                    6.533051e+04\n",
       "Black-Hawaiian/Pacific Islander                          3.409495e+04\n",
       "White-American Indian-Asian                              2.986187e+04\n",
       "Four or five races, unspecified                          2.226472e+04\n",
       "American Indian-Asian                                    1.580332e+04\n",
       "White-American Indian-Asian-Hawaiian/Pacific Islander    1.309473e+04\n",
       "Two or three races, unspecified                          1.024131e+04\n",
       "White-Black-American Indian-Asian                        9.431210e+03\n",
       "White-American Indian-Hawaiian/Pacific Islander          7.694640e+03\n",
       "White-Black--Hawaiian/Pacific Islander                   7.343220e+03\n",
       "Black-American Indian-Asian                              6.050330e+03\n",
       "American Indian-Hawaiian/Pacific Islander                1.194470e+03\n",
       "Name: WTSUPP, dtype: float64"
      ]
     },
     "execution_count": 26,
     "metadata": {},
     "output_type": "execute_result"
    }
   ],
   "source": [
    "d_cps.groupby(['RACE'])['WTSUPP'].sum().sort_values(ascending=False)"
   ]
  },
  {
   "cell_type": "code",
   "execution_count": 27,
   "metadata": {},
   "outputs": [
    {
     "data": {
      "text/plain": [
       "245800000.0"
      ]
     },
     "execution_count": 27,
     "metadata": {},
     "output_type": "execute_result"
    }
   ],
   "source": [
    "2.458e8"
   ]
  },
  {
   "cell_type": "code",
   "execution_count": 28,
   "metadata": {},
   "outputs": [
    {
     "data": {
      "text/plain": [
       "41700000.0"
      ]
     },
     "execution_count": 28,
     "metadata": {},
     "output_type": "execute_result"
    }
   ],
   "source": [
    "4.17e7"
   ]
  },
  {
   "cell_type": "markdown",
   "metadata": {},
   "source": [
    "The page at https://en.wikipedia.org/wiki/Demography_of_the_United_States#Race_and_ethnicity says that there were 233k people that are white as of 2015, so the 246k number seems at least in the ballpark. The same page says 40k for black, which also matches up w/ the 42k above. "
   ]
  },
  {
   "cell_type": "code",
   "execution_count": null,
   "metadata": {},
   "outputs": [],
   "source": []
  },
  {
   "cell_type": "code",
   "execution_count": null,
   "metadata": {
    "collapsed": true
   },
   "outputs": [],
   "source": []
  }
 ],
 "metadata": {
  "kernelspec": {
   "display_name": "Python 3",
   "language": "python",
   "name": "python3"
  },
  "language_info": {
   "codemirror_mode": {
    "name": "ipython",
    "version": 3
   },
   "file_extension": ".py",
   "mimetype": "text/x-python",
   "name": "python",
   "nbconvert_exporter": "python",
   "pygments_lexer": "ipython3",
   "version": "3.6.1"
  }
 },
 "nbformat": 4,
 "nbformat_minor": 2
}
