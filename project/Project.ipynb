{
 "cells": [
  {
   "cell_type": "code",
   "execution_count": 51,
   "metadata": {
    "collapsed": true
   },
   "outputs": [],
   "source": [
    "import pandas as pd\n",
    "import numpy as np\n",
    "\n",
    "%matplotlib inline"
   ]
  },
  {
   "cell_type": "code",
   "execution_count": 2,
   "metadata": {},
   "outputs": [
    {
     "data": {
      "text/plain": [
       "(2583, 211)"
      ]
     },
     "execution_count": 2,
     "metadata": {},
     "output_type": "execute_result"
    }
   ],
   "source": [
    "d = pd.read_csv('~/OneDrive/Personal/School/Master\\'s/DATA 512/Project/Oct16/Oct16 public.csv')\n",
    "d.shape"
   ]
  },
  {
   "cell_type": "code",
   "execution_count": 3,
   "metadata": {},
   "outputs": [
    {
     "data": {
      "text/html": [
       "<div>\n",
       "<style scoped>\n",
       "    .dataframe tbody tr th:only-of-type {\n",
       "        vertical-align: middle;\n",
       "    }\n",
       "\n",
       "    .dataframe tbody tr th {\n",
       "        vertical-align: top;\n",
       "    }\n",
       "\n",
       "    .dataframe thead th {\n",
       "        text-align: right;\n",
       "    }\n",
       "</style>\n",
       "<table border=\"1\" class=\"dataframe\">\n",
       "  <thead>\n",
       "    <tr style=\"text-align: right;\">\n",
       "      <th></th>\n",
       "      <th>Unnamed: 0</th>\n",
       "      <th>psraid</th>\n",
       "      <th>sample</th>\n",
       "      <th>int_date</th>\n",
       "      <th>fcall</th>\n",
       "      <th>attempts</th>\n",
       "      <th>refusal</th>\n",
       "      <th>ilang</th>\n",
       "      <th>cregion</th>\n",
       "      <th>state</th>\n",
       "      <th>...</th>\n",
       "      <th>hh3</th>\n",
       "      <th>ql1</th>\n",
       "      <th>ql1a</th>\n",
       "      <th>qc1</th>\n",
       "      <th>money2</th>\n",
       "      <th>ckinfo</th>\n",
       "      <th>iphoneuse</th>\n",
       "      <th>hphoneuse</th>\n",
       "      <th>cellweight</th>\n",
       "      <th>weight</th>\n",
       "    </tr>\n",
       "  </thead>\n",
       "  <tbody>\n",
       "    <tr>\n",
       "      <th>0</th>\n",
       "      <td>1</td>\n",
       "      <td>50003</td>\n",
       "      <td>Landline</td>\n",
       "      <td>102016</td>\n",
       "      <td>161020</td>\n",
       "      <td>1</td>\n",
       "      <td>No</td>\n",
       "      <td>English</td>\n",
       "      <td>Midwest</td>\n",
       "      <td>Minnesota</td>\n",
       "      <td>...</td>\n",
       "      <td>2</td>\n",
       "      <td>Yes, have cell phone</td>\n",
       "      <td>NaN</td>\n",
       "      <td>NaN</td>\n",
       "      <td>NaN</td>\n",
       "      <td>NaN</td>\n",
       "      <td>Dual</td>\n",
       "      <td>Dual HH</td>\n",
       "      <td>NaN</td>\n",
       "      <td>2.088235</td>\n",
       "    </tr>\n",
       "    <tr>\n",
       "      <th>1</th>\n",
       "      <td>2</td>\n",
       "      <td>50004</td>\n",
       "      <td>Landline</td>\n",
       "      <td>102016</td>\n",
       "      <td>161020</td>\n",
       "      <td>1</td>\n",
       "      <td>No</td>\n",
       "      <td>English</td>\n",
       "      <td>South</td>\n",
       "      <td>Delaware</td>\n",
       "      <td>...</td>\n",
       "      <td>2</td>\n",
       "      <td>Yes, have cell phone</td>\n",
       "      <td>NaN</td>\n",
       "      <td>NaN</td>\n",
       "      <td>NaN</td>\n",
       "      <td>NaN</td>\n",
       "      <td>Dual</td>\n",
       "      <td>Dual HH</td>\n",
       "      <td>NaN</td>\n",
       "      <td>1.264706</td>\n",
       "    </tr>\n",
       "  </tbody>\n",
       "</table>\n",
       "<p>2 rows × 211 columns</p>\n",
       "</div>"
      ],
      "text/plain": [
       "   Unnamed: 0  psraid    sample  int_date   fcall  attempts refusal    ilang  \\\n",
       "0           1   50003  Landline    102016  161020         1      No  English   \n",
       "1           2   50004  Landline    102016  161020         1      No  English   \n",
       "\n",
       "   cregion      state    ...    hh3                   ql1 ql1a  qc1 money2  \\\n",
       "0  Midwest  Minnesota    ...      2  Yes, have cell phone  NaN  NaN    NaN   \n",
       "1    South   Delaware    ...      2  Yes, have cell phone  NaN  NaN    NaN   \n",
       "\n",
       "  ckinfo iphoneuse hphoneuse cellweight    weight  \n",
       "0    NaN      Dual   Dual HH        NaN  2.088235  \n",
       "1    NaN      Dual   Dual HH        NaN  1.264706  \n",
       "\n",
       "[2 rows x 211 columns]"
      ]
     },
     "execution_count": 3,
     "metadata": {},
     "output_type": "execute_result"
    }
   ],
   "source": [
    "d[:2]"
   ]
  },
  {
   "cell_type": "code",
   "execution_count": 4,
   "metadata": {
    "collapsed": true
   },
   "outputs": [],
   "source": [
    "pd.set_option('display.max_rows', 500)"
   ]
  },
  {
   "cell_type": "code",
   "execution_count": 5,
   "metadata": {
    "scrolled": false
   },
   "outputs": [
    {
     "data": {
      "text/plain": [
       "Unnamed: 0                                                    1\n",
       "psraid                                                    50003\n",
       "sample                                                 Landline\n",
       "int_date                                                 102016\n",
       "fcall                                                    161020\n",
       "attempts                                                      1\n",
       "refusal                                                      No\n",
       "ilang                                                   English\n",
       "cregion                                                 Midwest\n",
       "state                                                 Minnesota\n",
       "density                                                  Lowest\n",
       "sstate                                                Minnesota\n",
       "form                                                     Form 1\n",
       "stimes                                                        1\n",
       "igender                                                  Female\n",
       "irace                                                     White\n",
       "llitext0                                  Youngest Female First\n",
       "susr                                                   Suburban\n",
       "usr                                                    Suburban\n",
       "scregion                                                Midwest\n",
       "file                                                       SRBI\n",
       "qs1                                                         NaN\n",
       "q1                                                   Disapprove\n",
       "q2                                                 Dissatisfied\n",
       "q3                                                        Angry\n",
       "campnii                                          Fairly closely\n",
       "thought                                                     NaN\n",
       "oftvote                                                  Always\n",
       "q10           for the Republican ticket of Donald Trump and ...\n",
       "q10a                                                        NaN\n",
       "q10horse                                       Trump/lean Trump\n",
       "q10horseGP                                     Trump/lean Trump\n",
       "q11                                                         NaN\n",
       "q11a                                                        NaN\n",
       "Q11HORSE2                                      Trump/lean Trump\n",
       "q12                                                    Strongly\n",
       "q13a                                            Against Clinton\n",
       "q13b                                                        NaN\n",
       "q13c                                                        NaN\n",
       "q13d                                                        NaN\n",
       "q15                                                         NaN\n",
       "q15a                                                        NaN\n",
       "plan1                                              Plan to vote\n",
       "early1                                                      NaN\n",
       "plan2                                           ON Election Day\n",
       "q20af2                                                      NaN\n",
       "q20bf2                                                      NaN\n",
       "q25f1         Things will pretty much be the same regardless...\n",
       "q26f2                                                       NaN\n",
       "q29f2                                                       NaN\n",
       "q30af1                                             Not too well\n",
       "q30bf1                                                Very well\n",
       "q31                                                         NaN\n",
       "q32                      [VOL. DO NOT READ] Don't know/Refused \n",
       "q40af1                                          Some difference\n",
       "q40bf1                                           Big difference\n",
       "q40cf1                                           Big difference\n",
       "q40df2                                                      NaN\n",
       "q40ef2                                                      NaN\n",
       "q40ff2                                                      NaN\n",
       "q50a                                               A great deal\n",
       "q50bf1                                             A great deal\n",
       "q50cf1                                             A great deal\n",
       "q50df1                                             A great deal\n",
       "q50ef1                                             A great deal\n",
       "q50ff1                                             A great deal\n",
       "q50gf1                                             A great deal\n",
       "q50hf2                                                      NaN\n",
       "q50if2                                                      NaN\n",
       "q50jf2                                                      NaN\n",
       "q50kf2                                                      NaN\n",
       "q50lf2                                                      NaN\n",
       "q51a                                               Not too much\n",
       "q51bf1                                             Not too much\n",
       "q51cf1                                             Not too much\n",
       "q51df1                                            A fair amount\n",
       "q51ef1                                             Not too much\n",
       "q51ff1                                            A fair amount\n",
       "q51gf1                                            A fair amount\n",
       "q51hf2                                                      NaN\n",
       "q51if2                                                      NaN\n",
       "q51jf2                                                      NaN\n",
       "q51kf2                                                      NaN\n",
       "q51lf2                                                      NaN\n",
       "q60                                                  Good shape\n",
       "q61                                   Don't know/Refused (VOL.)\n",
       "emp2                                                         No\n",
       "emp1                                                         No\n",
       "emp3                                                  Full-time\n",
       "employ1                                                     NaN\n",
       "employ7                                                     NaN\n",
       "q63                                          Somewhat confident\n",
       "q66f2                                                       NaN\n",
       "q67af1                                       Somewhat important\n",
       "q67bf1                                        Not too important\n",
       "q67cf1                                        Not too important\n",
       "q67df1                                           Very important\n",
       "q67ef1                                       Somewhat important\n",
       "q69f2                                                       NaN\n",
       "q70a                                           Mostly favorable\n",
       "q70b                                           Very unfavorable\n",
       "q71f1                                            Mostly divided\n",
       "q72f2                                                       NaN\n",
       "q75af1                                                       No\n",
       "q75bf1                                                       No\n",
       "q75cf1                                                       No\n",
       "q75df1                           Yes, describes Hillary Clinton\n",
       "q75ef1                                                       No\n",
       "q75if2                                                      NaN\n",
       "q75jf2                                                      NaN\n",
       "q75kf2                                                      NaN\n",
       "q75lf2                                                      NaN\n",
       "q75mf2                                                      NaN\n",
       "q76af1                              Yes, describes Donald Trump\n",
       "q76bf1                                Don't know/Refused (VOL.)\n",
       "q76cf1                              Yes, describes Donald Trump\n",
       "q76df1                                                       No\n",
       "q76ef1                              Yes, describes Donald Trump\n",
       "q76if2                                                      NaN\n",
       "q76jf2                                                      NaN\n",
       "q76kf2                                                      NaN\n",
       "q76lf2                                                      NaN\n",
       "q76mf2                                                      NaN\n",
       "q77af1                                      Stay about the same\n",
       "q77bf1                                      Stay about the same\n",
       "q78af2                                                      NaN\n",
       "q78bf2                                                      NaN\n",
       "q80af1                                             Donald Trump\n",
       "q80bf1                                             Donald Trump\n",
       "q80cf1                                             Donald Trump\n",
       "q80df1                                             Donald Trump\n",
       "q80ef1                                             Donald Trump\n",
       "q80ff1                                             Donald Trump\n",
       "q80if2                                                      NaN\n",
       "q80jf2                                                      NaN\n",
       "q80kf2                                                      NaN\n",
       "q80lf2                                                      NaN\n",
       "q80mf2                                                      NaN\n",
       "q80nf2                                                      NaN\n",
       "q82f2                                                       NaN\n",
       "q83f2                                                       NaN\n",
       "q84f1                              Yes, too personally critical\n",
       "q85f1                              Yes, too personally critical\n",
       "q89f2                                                       NaN\n",
       "q90f1                                                    Raised\n",
       "q91f1                    [VOL. DO NOT READ] Don't know/Refused \n",
       "q92f1                                                       NaN\n",
       "q93f1                                     Illegal in most cases\n",
       "q95f1                                                 Bad thing\n",
       "q96f2                                                       NaN\n",
       "q97f1         U.S. does not have a responsibility to accept ...\n",
       "q98af2                                                      NaN\n",
       "q98bf2                                                      NaN\n",
       "q99                                                    Too much\n",
       "q100f1        The U.S. should deal with its own problems and...\n",
       "q101af1                                            An adversary\n",
       "q101bf2                                                     NaN\n",
       "q102f2                                                      NaN\n",
       "q103f2                                                      NaN\n",
       "q110                           Being held to a higher standard \n",
       "sex                                                        Male\n",
       "age                                                          57\n",
       "gen5                                           Boomer (1946-64)\n",
       "educ2         High school graduate (Grade 12 with diploma or...\n",
       "hisp                                                         No\n",
       "race3m1       White (e.g., Caucasian, European, Irish, Itali...\n",
       "race3m2                                                     NaN\n",
       "race3m3                                                     NaN\n",
       "race3m4                                                     NaN\n",
       "adults                                                        2\n",
       "racethn                                         White, non-Hisp\n",
       "birth_hisp                                                  NaN\n",
       "citizen                                                     NaN\n",
       "child                                               No children\n",
       "relig         Protestant (Baptist, Methodist, Non-denominati...\n",
       "chr                                                         NaN\n",
       "born                                                 Yes, would\n",
       "attend                                              Once a week\n",
       "income                                      50 to under $75,000\n",
       "reg           Are you ABSOLUTELY CERTAIN that you are regist...\n",
       "statereg0                                                   NaN\n",
       "statereg                                                    NaN\n",
       "statenv0                                                    NaN\n",
       "statenv                                                     NaN\n",
       "planreg                                                     NaN\n",
       "regfinalpr                                           Registered\n",
       "dayof                                                        No\n",
       "dayof2                                                       No\n",
       "statebal                                                    NaN\n",
       "sameday                               Pre-registration required\n",
       "regfinal                            Registered/Plan to/N.Dakota\n",
       "party                                                Republican\n",
       "partyln                                                     NaN\n",
       "partysum                                           Rep/lean Rep\n",
       "partyideo                                              Cons Rep\n",
       "q115          Does NOT represent the core principles and pos...\n",
       "q116                                                        NaN\n",
       "q117                                Preferred another candidate\n",
       "q118                                                        NaN\n",
       "ideo                                               Conservative\n",
       "hh1                                                           2\n",
       "hh3                                                           2\n",
       "ql1                                        Yes, have cell phone\n",
       "ql1a                                                        NaN\n",
       "qc1                                                         NaN\n",
       "money2                                                      NaN\n",
       "ckinfo                                                      NaN\n",
       "iphoneuse                                                  Dual\n",
       "hphoneuse                                               Dual HH\n",
       "cellweight                                                  NaN\n",
       "weight                                                  2.08824\n",
       "Name: 0, dtype: object"
      ]
     },
     "execution_count": 5,
     "metadata": {},
     "output_type": "execute_result"
    }
   ],
   "source": [
    "d.iloc[0]"
   ]
  },
  {
   "cell_type": "code",
   "execution_count": 6,
   "metadata": {},
   "outputs": [
    {
     "data": {
      "text/plain": [
       "White, non-Hisp    1793\n",
       "Hispanic            325\n",
       "Black, non-Hisp     237\n",
       "Other               186\n",
       "NaN                  42\n",
       "Name: racethn, dtype: int64"
      ]
     },
     "execution_count": 6,
     "metadata": {},
     "output_type": "execute_result"
    }
   ],
   "source": [
    "d['racethn'].value_counts(dropna=False)"
   ]
  },
  {
   "cell_type": "code",
   "execution_count": 7,
   "metadata": {},
   "outputs": [
    {
     "data": {
      "text/plain": [
       "White (e.g., Caucasian, European, Irish, Italian, Arab, Middle Eastern)                                     1998\n",
       "Black or African-American (e.g., Negro, Kenyan, Nigerian, Haitian)                                           266\n",
       "Hispanic/Latino (VOL.) (e.g., Mexican, Puerto Rican, Cuban)                                                  128\n",
       "Asian or Asian-American (e.g., Asian Indian, Chinese, Filipino, Vietnamese or other Asian origin groups)      85\n",
       "Native American/American Indian/Alaska Native (VOL.)                                                          40\n",
       "Refused (e.g., non-race answers like American, Human, purple) (VOL.)                                          36\n",
       "Don't know (VOL.)                                                                                             22\n",
       "Some other race (SPECIFY____ IF NEEDED: What race or races is that?)                                           5\n",
       "Pacific Islander/Native Hawaiian (VOL.)                                                                        3\n",
       "Name: race3m1, dtype: int64"
      ]
     },
     "execution_count": 7,
     "metadata": {},
     "output_type": "execute_result"
    }
   ],
   "source": [
    "d['race3m1'].value_counts(dropna=False)"
   ]
  },
  {
   "cell_type": "code",
   "execution_count": 8,
   "metadata": {},
   "outputs": [
    {
     "data": {
      "text/plain": [
       "NaN                                                                                                         2506\n",
       "Native American/American Indian/Alaska Native (VOL.)                                                          44\n",
       "Black or African-American (e.g., Negro, Kenyan, Nigerian, Haitian)                                            18\n",
       "White (e.g., Caucasian, European, Irish, Italian, Arab, Middle Eastern)                                        8\n",
       "Asian or Asian-American (e.g., Asian Indian, Chinese, Filipino, Vietnamese or other Asian origin groups)       5\n",
       "Pacific Islander/Native Hawaiian (VOL.)                                                                        2\n",
       "Name: race3m2, dtype: int64"
      ]
     },
     "execution_count": 8,
     "metadata": {},
     "output_type": "execute_result"
    }
   ],
   "source": [
    "d['race3m2'].value_counts(dropna=False)"
   ]
  },
  {
   "cell_type": "code",
   "execution_count": 9,
   "metadata": {},
   "outputs": [
    {
     "data": {
      "text/plain": [
       "NaN                                                                                                         2578\n",
       "Asian or Asian-American (e.g., Asian Indian, Chinese, Filipino, Vietnamese or other Asian origin groups)       4\n",
       "White (e.g., Caucasian, European, Irish, Italian, Arab, Middle Eastern)                                        1\n",
       "Name: race3m3, dtype: int64"
      ]
     },
     "execution_count": 9,
     "metadata": {},
     "output_type": "execute_result"
    }
   ],
   "source": [
    "d['race3m3'].value_counts(dropna=False)"
   ]
  },
  {
   "cell_type": "code",
   "execution_count": 10,
   "metadata": {},
   "outputs": [
    {
     "data": {
      "text/plain": [
       "NaN    2583\n",
       "Name: race3m4, dtype: int64"
      ]
     },
     "execution_count": 10,
     "metadata": {},
     "output_type": "execute_result"
    }
   ],
   "source": [
    "d['race3m4'].value_counts(dropna=False)"
   ]
  },
  {
   "cell_type": "markdown",
   "metadata": {},
   "source": [
    "Here's the text from the readme.txt:\n",
    "\n",
    "    *The combined race variable (racecmb) was computed using the following syntax:\n",
    "    recode race_1 (1=1) (2=2) (3=3) (4 thru 7=5) (8 thru 9=9) into racecmb.\n",
    "    if race_2>0 and race_2 <8 racecmb=4.\n",
    "    variable label racecmb \"Combining Race\".\n",
    "    value label racecmb\n",
    "    1 \"White\"\n",
    "    2 \"Black or African-American\"\n",
    "    3 \"Asian or Asian-American\"\n",
    "    4 \"Mixed Race\"\n",
    "    5 \"Or some other race\"\n",
    "    9 \"Dont know/Refused (VOL.)\"."
   ]
  },
  {
   "cell_type": "code",
   "execution_count": 11,
   "metadata": {
    "collapsed": true
   },
   "outputs": [],
   "source": [
    "#from collections import defaultdict\n",
    "racethn_to_index = {\n",
    "    \"White (e.g., Caucasian, European, Irish, Italian, Arab, Middle Eastern)\": 1,\n",
    "    \"Black or African-American (e.g., Negro, Kenyan, Nigerian, Haitian)\": 2,\n",
    "    \"Asian or Asian-American (e.g., Asian Indian, Chinese, Filipino, Vietnamese or other Asian origin groups)\": 3,\n",
    "    \"Some other race (SPECIFY____ IF NEEDED: What race or races is that?)\": 4,\n",
    "    \"Native American/American Indian/Alaska Native (VOL.)\": 5,\n",
    "    \"Pacific Islander/Native Hawaiian (VOL.)\": 6,\n",
    "    \"Hispanic/Latino (VOL.) (e.g., Mexican, Puerto Rican, Cuban)\": 7,\n",
    "    \"Don't know (VOL.)\": 8,\n",
    "    \"Refused (e.g., non-race answers like American, Human, purple) (VOL.)\": 9\n",
    "}\n"
   ]
  },
  {
   "cell_type": "code",
   "execution_count": 12,
   "metadata": {},
   "outputs": [
    {
     "data": {
      "text/plain": [
       "1    1998\n",
       "2     266\n",
       "7     128\n",
       "3      85\n",
       "5      40\n",
       "9      36\n",
       "8      22\n",
       "4       5\n",
       "6       3\n",
       "Name: race3m1, dtype: int64"
      ]
     },
     "execution_count": 12,
     "metadata": {},
     "output_type": "execute_result"
    }
   ],
   "source": [
    "d['race3m1'].map(racethn_to_index).value_counts(dropna=False)"
   ]
  },
  {
   "cell_type": "code",
   "execution_count": 13,
   "metadata": {},
   "outputs": [
    {
     "data": {
      "text/plain": [
       "White (e.g., Caucasian, European, Irish, Italian, Arab, Middle Eastern)                                     1998\n",
       "Black or African-American (e.g., Negro, Kenyan, Nigerian, Haitian)                                           266\n",
       "Hispanic/Latino (VOL.) (e.g., Mexican, Puerto Rican, Cuban)                                                  128\n",
       "Asian or Asian-American (e.g., Asian Indian, Chinese, Filipino, Vietnamese or other Asian origin groups)      85\n",
       "Native American/American Indian/Alaska Native (VOL.)                                                          40\n",
       "Refused (e.g., non-race answers like American, Human, purple) (VOL.)                                          36\n",
       "Don't know (VOL.)                                                                                             22\n",
       "Some other race (SPECIFY____ IF NEEDED: What race or races is that?)                                           5\n",
       "Pacific Islander/Native Hawaiian (VOL.)                                                                        3\n",
       "Name: race3m1, dtype: int64"
      ]
     },
     "execution_count": 13,
     "metadata": {},
     "output_type": "execute_result"
    }
   ],
   "source": [
    "d['race3m1'].value_counts(dropna=False)"
   ]
  },
  {
   "cell_type": "code",
   "execution_count": 14,
   "metadata": {
    "collapsed": true
   },
   "outputs": [],
   "source": [
    "d['race3m1_index'] = d['race3m1'].map(racethn_to_index)\n",
    "d['race3m2_index'] = d['race3m2'].map(racethn_to_index)"
   ]
  },
  {
   "cell_type": "code",
   "execution_count": 15,
   "metadata": {
    "collapsed": true
   },
   "outputs": [],
   "source": [
    "def get_racecmb(row):\n",
    "    if ((row['race3m2_index'] > 0) & (row['race3m2_index'] < 8)):\n",
    "        return 'Mixed Race'\n",
    "    elif (row['race3m1_index'] == 1):\n",
    "        return 'White'\n",
    "    elif (row['race3m1_index'] == 2):\n",
    "        return 'Black or African-American'\n",
    "    elif (row['race3m1_index'] == 3):\n",
    "        return 'Asian or Asian-American'\n",
    "    elif (row['race3m1_index'] >= 4 & row['race3m1_index'] <= 7):\n",
    "        return 'Or some other race'\n",
    "    elif ((row['race3m1_index'] >= 8) & (row['race3m1_index'] <= 9)):\n",
    "        return 'Dont know/Refused (VOL.)'"
   ]
  },
  {
   "cell_type": "code",
   "execution_count": 16,
   "metadata": {},
   "outputs": [
    {
     "data": {
      "text/plain": [
       "White                        1935\n",
       "Black or African-American     258\n",
       "Or some other race            230\n",
       "Asian or Asian-American        83\n",
       "Mixed Race                     77\n",
       "dtype: int64"
      ]
     },
     "execution_count": 16,
     "metadata": {},
     "output_type": "execute_result"
    }
   ],
   "source": [
    "d.apply(get_racecmb, axis=1).value_counts(dropna=False)"
   ]
  },
  {
   "cell_type": "code",
   "execution_count": 17,
   "metadata": {
    "collapsed": true
   },
   "outputs": [],
   "source": [
    "d['racecmb'] = d.apply(get_racecmb, axis=1)"
   ]
  },
  {
   "cell_type": "markdown",
   "metadata": {},
   "source": [
    "**TODO** sanity check above numbers... are they right?"
   ]
  },
  {
   "cell_type": "code",
   "execution_count": 18,
   "metadata": {},
   "outputs": [
    {
     "data": {
      "text/plain": [
       "White                        1935\n",
       "Black or African-American     258\n",
       "Or some other race            230\n",
       "Asian or Asian-American        83\n",
       "Mixed Race                     77\n",
       "Name: racecmb, dtype: int64"
      ]
     },
     "execution_count": 18,
     "metadata": {},
     "output_type": "execute_result"
    }
   ],
   "source": [
    "d['racecmb'].value_counts(dropna=False)"
   ]
  },
  {
   "cell_type": "markdown",
   "metadata": {},
   "source": [
    "## Filter to a smaller list of fields, for ease of examination"
   ]
  },
  {
   "cell_type": "code",
   "execution_count": 19,
   "metadata": {
    "collapsed": true
   },
   "outputs": [],
   "source": [
    "fields_to_keep = [\n",
    "    'psraid',\n",
    "    'int_date',\n",
    "    'cregion',\n",
    "    'state',\n",
    "    'density',\n",
    "    'usr',\n",
    "    'q10',\n",
    "    'q10a',\n",
    "    'q10horse',\n",
    "    'q10horseGP',\n",
    "    'plan1',\n",
    "    'early1',\n",
    "    'plan2',\n",
    "    'sex',\n",
    "    'age',\n",
    "    'gen5',\n",
    "    'educ2',\n",
    "    'income',\n",
    "    'regfinal',\n",
    "    'cellweight',\n",
    "    'weight',\n",
    "    'racecmb'\n",
    "]"
   ]
  },
  {
   "cell_type": "code",
   "execution_count": 20,
   "metadata": {},
   "outputs": [
    {
     "data": {
      "text/plain": [
       "(2583, 22)"
      ]
     },
     "execution_count": 20,
     "metadata": {},
     "output_type": "execute_result"
    }
   ],
   "source": [
    "d = d[fields_to_keep]\n",
    "d.shape"
   ]
  },
  {
   "cell_type": "code",
   "execution_count": 21,
   "metadata": {},
   "outputs": [
    {
     "data": {
      "text/plain": [
       "['int_date',\n",
       " 'cregion',\n",
       " 'state',\n",
       " 'density',\n",
       " 'usr',\n",
       " 'q10',\n",
       " 'q10a',\n",
       " 'q10horse',\n",
       " 'q10horseGP',\n",
       " 'plan1',\n",
       " 'early1',\n",
       " 'plan2',\n",
       " 'sex',\n",
       " 'age',\n",
       " 'gen5',\n",
       " 'educ2',\n",
       " 'income',\n",
       " 'regfinal',\n",
       " 'racecmb']"
      ]
     },
     "execution_count": 21,
     "metadata": {},
     "output_type": "execute_result"
    }
   ],
   "source": [
    "dont_include_fields = ['psraid','cellweight','weight']\n",
    "fields_for_value_counts = [field for field in d.columns if field not in dont_include_fields]\n",
    "fields_for_value_counts"
   ]
  },
  {
   "cell_type": "code",
   "execution_count": 22,
   "metadata": {
    "scrolled": false
   },
   "outputs": [
    {
     "name": "stdout",
     "output_type": "stream",
     "text": [
      "int_date\n",
      "102116    610\n",
      "102516    520\n",
      "102216    432\n",
      "102316    409\n",
      "102416    326\n",
      "102016    286\n",
      "Name: int_date, dtype: int64\n",
      "\n",
      "cregion\n",
      "South        988\n",
      "West         574\n",
      "Midwest      559\n",
      "Northeast    462\n",
      "Name: cregion, dtype: int64\n",
      "\n",
      "state\n",
      "California              259\n",
      "Texas                   202\n",
      "New York                173\n",
      "Florida                 162\n",
      "Pennsylvania             99\n",
      "Ohio                     96\n",
      "Illinois                 88\n",
      "North Carolina           86\n",
      "New Jersey               84\n",
      "Virginia                 80\n",
      "Michigan                 79\n",
      "Georgia                  79\n",
      "Wisconsin                63\n",
      "Minnesota                63\n",
      "Arizona                  62\n",
      "Washington               60\n",
      "Tennessee                53\n",
      "Missouri                 50\n",
      "Colorado                 46\n",
      "Indiana                  45\n",
      "Maryland                 45\n",
      "Kentucky                 44\n",
      "South Carolina           44\n",
      "Oregon                   42\n",
      "Oklahoma                 38\n",
      "Louisiana                38\n",
      "Alabama                  37\n",
      "Massachusetts            37\n",
      "Connecticut              32\n",
      "Iowa                     28\n",
      "Nevada                   26\n",
      "Kansas                   22\n",
      "Utah                     21\n",
      "Mississippi              20\n",
      "West Virginia            20\n",
      "Idaho                    20\n",
      "Arkansas                 19\n",
      "Maine                    16\n",
      "Hawaii                   15\n",
      "Nebraska                 15\n",
      "District of Columbia     12\n",
      "New Mexico               11\n",
      "North Dakota              9\n",
      "Delaware                  9\n",
      "Alaska                    8\n",
      "Rhode Island              8\n",
      "Vermont                   7\n",
      "New Hampshire             6\n",
      "Wyoming                   3\n",
      "Montana                   1\n",
      "South Dakota              1\n",
      "Name: state, dtype: int64\n",
      "\n",
      "density\n",
      "Lowest     527\n",
      "3          526\n",
      "4          515\n",
      "Highest    512\n",
      "2          503\n",
      "Name: density, dtype: int64\n",
      "\n",
      "usr\n",
      "Suburban    1336\n",
      "Urban        824\n",
      "Rural        423\n",
      "Name: usr, dtype: int64\n",
      "\n",
      "q10\n",
      "for the Democratic ticket of Hillary Clinton and Tim Kaine                 944\n",
      "for the Republican ticket of Donald Trump and Mike Pence                   816\n",
      "NaN                                                                        463\n",
      "for the Libertarian Party ticket headed by Gary Johnson [OR]               108\n",
      "[VOL. DO NOT READ] Don't know                                               90\n",
      "[VOL. DO NOT READ] Refused                                                  56\n",
      "[VOL. DO NOT READ] Other candidate                                          55\n",
      "for the Green Party ticket headed by Jill Stein [PRONOUNCED: St-eye-n]      51\n",
      "Name: q10, dtype: int64\n",
      "\n",
      "q10a\n",
      "NaN                                   2382\n",
      "[VOL. DO NOT READ] Don't know           47\n",
      "Donald Trump, the Republican            42\n",
      "[VOL. DO NOT READ] Refused              31\n",
      "[VOL. DO NOT READ] Other candidate      31\n",
      "Hillary Clinton, the Democrat           28\n",
      "Gary Johnson, the Libertarian [OR]      16\n",
      "Jill Stein of the Green Party            6\n",
      "Name: q10a, dtype: int64\n",
      "\n",
      "q10horse\n",
      "Clinton/lean Clinton     972\n",
      "Trump/lean Trump         858\n",
      "NaN                      463\n",
      "Johnson/lean Johnson     124\n",
      "DK-refused to lean        76\n",
      "Stein/lean Stein          57\n",
      "Other-refused to lean     33\n",
      "Name: q10horse, dtype: int64\n",
      "\n",
      "q10horseGP\n",
      "Clinton/lean Clinton     972\n",
      "Trump/lean Trump         858\n",
      "Not registered           466\n",
      "Johnson/lean Johnson     124\n",
      "DK-refused to lean        76\n",
      "Stein/lean Stein          57\n",
      "Other-refused to lean     30\n",
      "Name: q10horseGP, dtype: int64\n",
      "\n",
      "plan1\n",
      "Plan to vote                 1806\n",
      "NaN                           463\n",
      "Already voted                 246\n",
      "Don't plan to vote             46\n",
      "Don't know/Refused (VOL.)      22\n",
      "Name: plan1, dtype: int64\n",
      "\n",
      "early1\n",
      "NaN                 2337\n",
      "Mailed in ballot     166\n",
      "Voted in person       76\n",
      "Other way (VOL.)       4\n",
      "Name: early1, dtype: int64\n",
      "\n",
      "plan2\n",
      "ON Election Day              1191\n",
      "NaN                           777\n",
      "BEFORE Election Day           558\n",
      "Don't know/Refused (VOL.)      57\n",
      "Name: plan2, dtype: int64\n",
      "\n",
      "sex\n",
      "Male      1394\n",
      "Female    1189\n",
      "Name: sex, dtype: int64\n",
      "\n",
      "age\n",
      "65                           67\n",
      "56                           63\n",
      "55                           61\n",
      "60                           60\n",
      "50                           59\n",
      "59                           57\n",
      "62                           56\n",
      "70                           56\n",
      "63                           56\n",
      "48                           52\n",
      "52                           52\n",
      "58                           52\n",
      "68                           52\n",
      "66                           51\n",
      "64                           51\n",
      "57                           49\n",
      "36                           49\n",
      "69                           47\n",
      "53                           46\n",
      "54                           46\n",
      "29                           44\n",
      "32                           43\n",
      "40                           42\n",
      "21                           41\n",
      "Don't know/Refused (VOL.)    41\n",
      "51                           40\n",
      "42                           39\n",
      "30                           39\n",
      "45                           39\n",
      "19                           38\n",
      "46                           37\n",
      "38                           37\n",
      "35                           36\n",
      "33                           36\n",
      "73                           35\n",
      "61                           35\n",
      "25                           35\n",
      "20                           35\n",
      "37                           34\n",
      "28                           34\n",
      "27                           34\n",
      "31                           33\n",
      "41                           33\n",
      "26                           33\n",
      "18                           33\n",
      "67                           33\n",
      "22                           33\n",
      "49                           32\n",
      "71                           31\n",
      "72                           30\n",
      "23                           29\n",
      "43                           29\n",
      "76                           28\n",
      "74                           28\n",
      "39                           27\n",
      "47                           26\n",
      "75                           25\n",
      "80                           24\n",
      "44                           24\n",
      "79                           21\n",
      "77                           20\n",
      "78                           19\n",
      "34                           18\n",
      "24                           17\n",
      "83                           15\n",
      "81                           13\n",
      "85                           10\n",
      "84                           10\n",
      "82                            8\n",
      "86                            7\n",
      "88                            5\n",
      "90                            4\n",
      "87                            2\n",
      "89                            2\n",
      "92                            2\n",
      "93                            1\n",
      "91                            1\n",
      "94                            1\n",
      "Name: age, dtype: int64\n",
      "\n",
      "gen5\n",
      "Boomer (1946-64)              990\n",
      "Millennial (1981-)            611\n",
      "Xer (1965-80)                 599\n",
      "Silent (1928-45)              331\n",
      "DK/Ref                         41\n",
      "Greatest and older (-1928)     11\n",
      "Name: gen5, dtype: int64\n",
      "\n",
      "educ2\n",
      "Four year college or university degree/Bachelor's degree (e.g., BS, BA, AB)                  680\n",
      "High school graduate (Grade 12 with diploma or GED certificate)                              584\n",
      "Postgraduate or professional degree, including master's, doctorate, medical or law degree    433\n",
      "Some college, no degree (includes some community college)                                    375\n",
      "Two year associate degree from a college or university                                       282\n",
      "High school incomplete (Grades 9-11 or Grade 12 with NO diploma)                              84\n",
      "Some postgraduate or professional schooling, no postgraduate degree                           67\n",
      "Less than high school (Grades 1-8 or no formal schooling)                                     64\n",
      "Don't know/Refused (VOL.)                                                                     14\n",
      "Name: educ2, dtype: int64\n",
      "\n",
      "income\n",
      "$150,000 or more                         345\n",
      "100 to under $150,000 [OR]               343\n",
      "50 to under $75,000                      330\n",
      "75 to under $100,000                     312\n",
      "20 to under $30,000                      249\n",
      "40 to under $50,000                      223\n",
      "[VOL. DO NOT READ] Don't know/Refused    222\n",
      "30 to under $40,000                      218\n",
      "10 to under $20,000                      197\n",
      "Less than $10,000                        144\n",
      "Name: income, dtype: int64\n",
      "\n",
      "regfinal\n",
      "Registered/Plan to/N.Dakota    2120\n",
      "Not registered                  463\n",
      "Name: regfinal, dtype: int64\n",
      "\n",
      "racecmb\n",
      "White                        1935\n",
      "Black or African-American     258\n",
      "Or some other race            230\n",
      "Asian or Asian-American        83\n",
      "Mixed Race                     77\n",
      "Name: racecmb, dtype: int64\n",
      "\n"
     ]
    }
   ],
   "source": [
    "for field in fields_for_value_counts:\n",
    "    print(field)\n",
    "    print(d[field].value_counts(dropna=False))\n",
    "    print()"
   ]
  },
  {
   "cell_type": "markdown",
   "metadata": {},
   "source": [
    "# Weighting investigation"
   ]
  },
  {
   "cell_type": "markdown",
   "metadata": {},
   "source": [
    "From the \"Oct16 methodology.pdf\" file (emphasis added):\n",
    "\n",
    "- \"The first stage of weighting corrected for different probabilities of selection associated with the number of adults in each household and each respondent’s telephone usage patterns.1 This weighting also adjusts for the overlapping landline and cell sample frames and the relative sizes of each frame and each sample.\"\n",
    "- \"The second stage of weighting balances sample demographics to population parameters. The sample is balanced by form to match national population parameters for **sex, age, education, race, Hispanic origin, region (U.S. Census definitions), population density, and telephone usage**. The Hispanic origin was split out based on nativity; U.S. born and non-U.S. born. The White, non-Hispanic subgroup was also balanced on age, education and region. The basic weighting parameters came from the U.S. Census Bureau’s 2014 American Community Survey (ACS) data. The population density parameter was derived from Census 2010 data. The telephone usage parameter came from an analysis of the July-December 2015 National Health Interview Survey.\""
   ]
  },
  {
   "cell_type": "code",
   "execution_count": 23,
   "metadata": {},
   "outputs": [
    {
     "data": {
      "text/html": [
       "<div>\n",
       "<style scoped>\n",
       "    .dataframe tbody tr th:only-of-type {\n",
       "        vertical-align: middle;\n",
       "    }\n",
       "\n",
       "    .dataframe tbody tr th {\n",
       "        vertical-align: top;\n",
       "    }\n",
       "\n",
       "    .dataframe thead th {\n",
       "        text-align: right;\n",
       "    }\n",
       "</style>\n",
       "<table border=\"1\" class=\"dataframe\">\n",
       "  <thead>\n",
       "    <tr style=\"text-align: right;\">\n",
       "      <th></th>\n",
       "      <th>psraid</th>\n",
       "      <th>int_date</th>\n",
       "      <th>cregion</th>\n",
       "      <th>state</th>\n",
       "      <th>density</th>\n",
       "      <th>usr</th>\n",
       "      <th>q10</th>\n",
       "      <th>q10a</th>\n",
       "      <th>q10horse</th>\n",
       "      <th>q10horseGP</th>\n",
       "      <th>...</th>\n",
       "      <th>plan2</th>\n",
       "      <th>sex</th>\n",
       "      <th>age</th>\n",
       "      <th>gen5</th>\n",
       "      <th>educ2</th>\n",
       "      <th>income</th>\n",
       "      <th>regfinal</th>\n",
       "      <th>cellweight</th>\n",
       "      <th>weight</th>\n",
       "      <th>racecmb</th>\n",
       "    </tr>\n",
       "  </thead>\n",
       "  <tbody>\n",
       "    <tr>\n",
       "      <th>328</th>\n",
       "      <td>75012</td>\n",
       "      <td>102016</td>\n",
       "      <td>West</td>\n",
       "      <td>Montana</td>\n",
       "      <td>Lowest</td>\n",
       "      <td>Rural</td>\n",
       "      <td>for the Republican ticket of Donald Trump and ...</td>\n",
       "      <td>NaN</td>\n",
       "      <td>Trump/lean Trump</td>\n",
       "      <td>Trump/lean Trump</td>\n",
       "      <td>...</td>\n",
       "      <td>NaN</td>\n",
       "      <td>Female</td>\n",
       "      <td>64</td>\n",
       "      <td>Boomer (1946-64)</td>\n",
       "      <td>High school graduate (Grade 12 with diploma or...</td>\n",
       "      <td>30 to under $40,000</td>\n",
       "      <td>Registered/Plan to/N.Dakota</td>\n",
       "      <td>3.243243</td>\n",
       "      <td>3.117647</td>\n",
       "      <td>White</td>\n",
       "    </tr>\n",
       "  </tbody>\n",
       "</table>\n",
       "<p>1 rows × 22 columns</p>\n",
       "</div>"
      ],
      "text/plain": [
       "     psraid  int_date cregion    state density    usr  \\\n",
       "328   75012    102016    West  Montana  Lowest  Rural   \n",
       "\n",
       "                                                   q10 q10a          q10horse  \\\n",
       "328  for the Republican ticket of Donald Trump and ...  NaN  Trump/lean Trump   \n",
       "\n",
       "           q10horseGP   ...    plan2     sex age              gen5  \\\n",
       "328  Trump/lean Trump   ...      NaN  Female  64  Boomer (1946-64)   \n",
       "\n",
       "                                                 educ2               income  \\\n",
       "328  High school graduate (Grade 12 with diploma or...  30 to under $40,000   \n",
       "\n",
       "                        regfinal cellweight    weight  racecmb  \n",
       "328  Registered/Plan to/N.Dakota   3.243243  3.117647    White  \n",
       "\n",
       "[1 rows x 22 columns]"
      ]
     },
     "execution_count": 23,
     "metadata": {},
     "output_type": "execute_result"
    }
   ],
   "source": [
    "d[d['state'] == 'Montana']"
   ]
  },
  {
   "cell_type": "markdown",
   "metadata": {},
   "source": [
    "**TODO**"
   ]
  },
  {
   "cell_type": "markdown",
   "metadata": {},
   "source": [
    "## Question 10, and filtering to only Clinton or Trump"
   ]
  },
  {
   "cell_type": "code",
   "execution_count": 30,
   "metadata": {},
   "outputs": [
    {
     "data": {
      "text/plain": [
       "for the Democratic ticket of Hillary Clinton and Tim Kaine                 944\n",
       "for the Republican ticket of Donald Trump and Mike Pence                   816\n",
       "NaN                                                                        463\n",
       "for the Libertarian Party ticket headed by Gary Johnson [OR]               108\n",
       "[VOL. DO NOT READ] Don't know                                               90\n",
       "[VOL. DO NOT READ] Refused                                                  56\n",
       "[VOL. DO NOT READ] Other candidate                                          55\n",
       "for the Green Party ticket headed by Jill Stein [PRONOUNCED: St-eye-n]      51\n",
       "Name: q10, dtype: int64"
      ]
     },
     "execution_count": 30,
     "metadata": {},
     "output_type": "execute_result"
    }
   ],
   "source": [
    "d['q10'].value_counts(dropna=False)"
   ]
  },
  {
   "cell_type": "code",
   "execution_count": 31,
   "metadata": {},
   "outputs": [
    {
     "data": {
      "text/plain": [
       "NaN                                   2382\n",
       "[VOL. DO NOT READ] Don't know           47\n",
       "Donald Trump, the Republican            42\n",
       "[VOL. DO NOT READ] Refused              31\n",
       "[VOL. DO NOT READ] Other candidate      31\n",
       "Hillary Clinton, the Democrat           28\n",
       "Gary Johnson, the Libertarian [OR]      16\n",
       "Jill Stein of the Green Party            6\n",
       "Name: q10a, dtype: int64"
      ]
     },
     "execution_count": 31,
     "metadata": {},
     "output_type": "execute_result"
    }
   ],
   "source": [
    "d['q10a'].value_counts(dropna=False)"
   ]
  },
  {
   "cell_type": "code",
   "execution_count": 32,
   "metadata": {},
   "outputs": [
    {
     "data": {
      "text/plain": [
       "Clinton/lean Clinton     972\n",
       "Trump/lean Trump         858\n",
       "NaN                      463\n",
       "Johnson/lean Johnson     124\n",
       "DK-refused to lean        76\n",
       "Stein/lean Stein          57\n",
       "Other-refused to lean     33\n",
       "Name: q10horse, dtype: int64"
      ]
     },
     "execution_count": 32,
     "metadata": {},
     "output_type": "execute_result"
    }
   ],
   "source": [
    "d['q10horse'].value_counts(dropna=False)"
   ]
  },
  {
   "cell_type": "code",
   "execution_count": 33,
   "metadata": {},
   "outputs": [
    {
     "data": {
      "text/plain": [
       "Clinton/lean Clinton     972\n",
       "Trump/lean Trump         858\n",
       "Not registered           466\n",
       "Johnson/lean Johnson     124\n",
       "DK-refused to lean        76\n",
       "Stein/lean Stein          57\n",
       "Other-refused to lean     30\n",
       "Name: q10horseGP, dtype: int64"
      ]
     },
     "execution_count": 33,
     "metadata": {},
     "output_type": "execute_result"
    }
   ],
   "source": [
    "d['q10horseGP'].value_counts(dropna=False)"
   ]
  },
  {
   "cell_type": "code",
   "execution_count": 35,
   "metadata": {},
   "outputs": [
    {
     "data": {
      "text/plain": [
       "(1830, 22)"
      ]
     },
     "execution_count": 35,
     "metadata": {},
     "output_type": "execute_result"
    }
   ],
   "source": [
    "d_only = d[(d['q10horseGP'] == 'Clinton/lean Clinton') | \n",
    "           (d['q10horseGP'] == 'Trump/lean Trump')]\n",
    "d_only.shape"
   ]
  },
  {
   "cell_type": "code",
   "execution_count": 36,
   "metadata": {},
   "outputs": [
    {
     "data": {
      "text/plain": [
       "Clinton/lean Clinton    972\n",
       "Trump/lean Trump        858\n",
       "Name: q10horseGP, dtype: int64"
      ]
     },
     "execution_count": 36,
     "metadata": {},
     "output_type": "execute_result"
    }
   ],
   "source": [
    "d_only['q10horseGP'].value_counts(dropna=False)"
   ]
  },
  {
   "cell_type": "markdown",
   "metadata": {},
   "source": [
    "# CPS sanity check and basic analysis"
   ]
  },
  {
   "cell_type": "code",
   "execution_count": 24,
   "metadata": {},
   "outputs": [
    {
     "data": {
      "text/plain": [
       "(185487, 18)"
      ]
     },
     "execution_count": 24,
     "metadata": {},
     "output_type": "execute_result"
    }
   ],
   "source": [
    "d_cps = pd.read_csv('~/OneDrive/Personal/School/Master\\'s/DATA 512/Project/cps_00001.csv')\n",
    "d_cps.shape"
   ]
  },
  {
   "cell_type": "code",
   "execution_count": 25,
   "metadata": {},
   "outputs": [
    {
     "data": {
      "text/html": [
       "<div>\n",
       "<style scoped>\n",
       "    .dataframe tbody tr th:only-of-type {\n",
       "        vertical-align: middle;\n",
       "    }\n",
       "\n",
       "    .dataframe tbody tr th {\n",
       "        vertical-align: top;\n",
       "    }\n",
       "\n",
       "    .dataframe thead th {\n",
       "        text-align: right;\n",
       "    }\n",
       "</style>\n",
       "<table border=\"1\" class=\"dataframe\">\n",
       "  <thead>\n",
       "    <tr style=\"text-align: right;\">\n",
       "      <th></th>\n",
       "      <th>Unnamed: 0</th>\n",
       "      <th>YEAR</th>\n",
       "      <th>SERIAL</th>\n",
       "      <th>HWTSUPP</th>\n",
       "      <th>CPSID</th>\n",
       "      <th>REGION</th>\n",
       "      <th>STATEFIP</th>\n",
       "      <th>STATECENSUS</th>\n",
       "      <th>ASECFLAG</th>\n",
       "      <th>MONTH</th>\n",
       "      <th>PERNUM</th>\n",
       "      <th>CPSIDP</th>\n",
       "      <th>WTSUPP</th>\n",
       "      <th>AGE</th>\n",
       "      <th>SEX</th>\n",
       "      <th>RACE</th>\n",
       "      <th>HISPAN</th>\n",
       "      <th>EDUC99</th>\n",
       "    </tr>\n",
       "  </thead>\n",
       "  <tbody>\n",
       "    <tr>\n",
       "      <th>0</th>\n",
       "      <td>1</td>\n",
       "      <td>2016</td>\n",
       "      <td>2</td>\n",
       "      <td>1132.05</td>\n",
       "      <td>2.014120e+13</td>\n",
       "      <td>New England Division</td>\n",
       "      <td>Maine</td>\n",
       "      <td>Maine</td>\n",
       "      <td>ASEC</td>\n",
       "      <td>March</td>\n",
       "      <td>1</td>\n",
       "      <td>20141202933701</td>\n",
       "      <td>1132.05</td>\n",
       "      <td>79</td>\n",
       "      <td>Female</td>\n",
       "      <td>White</td>\n",
       "      <td>Not Hispanic</td>\n",
       "      <td>5th-8th grade</td>\n",
       "    </tr>\n",
       "    <tr>\n",
       "      <th>1</th>\n",
       "      <td>2</td>\n",
       "      <td>2016</td>\n",
       "      <td>7</td>\n",
       "      <td>1077.54</td>\n",
       "      <td>2.015120e+13</td>\n",
       "      <td>New England Division</td>\n",
       "      <td>Maine</td>\n",
       "      <td>Maine</td>\n",
       "      <td>ASEC</td>\n",
       "      <td>March</td>\n",
       "      <td>1</td>\n",
       "      <td>20151202935901</td>\n",
       "      <td>1077.54</td>\n",
       "      <td>60</td>\n",
       "      <td>Female</td>\n",
       "      <td>White</td>\n",
       "      <td>Not Hispanic</td>\n",
       "      <td>10th grade</td>\n",
       "    </tr>\n",
       "    <tr>\n",
       "      <th>2</th>\n",
       "      <td>3</td>\n",
       "      <td>2016</td>\n",
       "      <td>7</td>\n",
       "      <td>1077.54</td>\n",
       "      <td>2.015120e+13</td>\n",
       "      <td>New England Division</td>\n",
       "      <td>Maine</td>\n",
       "      <td>Maine</td>\n",
       "      <td>ASEC</td>\n",
       "      <td>March</td>\n",
       "      <td>2</td>\n",
       "      <td>20151202935902</td>\n",
       "      <td>1077.54</td>\n",
       "      <td>59</td>\n",
       "      <td>Male</td>\n",
       "      <td>White</td>\n",
       "      <td>Not Hispanic</td>\n",
       "      <td>Some college, no degree</td>\n",
       "    </tr>\n",
       "  </tbody>\n",
       "</table>\n",
       "</div>"
      ],
      "text/plain": [
       "   Unnamed: 0  YEAR  SERIAL  HWTSUPP         CPSID                REGION  \\\n",
       "0           1  2016       2  1132.05  2.014120e+13  New England Division   \n",
       "1           2  2016       7  1077.54  2.015120e+13  New England Division   \n",
       "2           3  2016       7  1077.54  2.015120e+13  New England Division   \n",
       "\n",
       "  STATEFIP STATECENSUS ASECFLAG  MONTH  PERNUM          CPSIDP   WTSUPP AGE  \\\n",
       "0    Maine       Maine     ASEC  March       1  20141202933701  1132.05  79   \n",
       "1    Maine       Maine     ASEC  March       1  20151202935901  1077.54  60   \n",
       "2    Maine       Maine     ASEC  March       2  20151202935902  1077.54  59   \n",
       "\n",
       "      SEX   RACE        HISPAN                   EDUC99  \n",
       "0  Female  White  Not Hispanic            5th-8th grade  \n",
       "1  Female  White  Not Hispanic               10th grade  \n",
       "2    Male  White  Not Hispanic  Some college, no degree  "
      ]
     },
     "execution_count": 25,
     "metadata": {},
     "output_type": "execute_result"
    }
   ],
   "source": [
    "d_cps[:3]"
   ]
  },
  {
   "cell_type": "code",
   "execution_count": 26,
   "metadata": {},
   "outputs": [
    {
     "data": {
      "text/plain": [
       "RACE\n",
       "White                                                    2.458050e+08\n",
       "Black/Negro                                              4.170345e+07\n",
       "Asian only                                               1.824928e+07\n",
       "American Indian/Aleut/Eskimo                             4.299843e+06\n",
       "White-Black                                              2.769582e+06\n",
       "White-American Indian                                    2.145419e+06\n",
       "White-Asian                                              1.374479e+06\n",
       "Hawaiian/Pacific Islander only                           1.160598e+06\n",
       "Black-American Indian                                    3.139107e+05\n",
       "White-Black-American Indian                              2.836355e+05\n",
       "White-Hawaiian/Pacific Islander                          2.755069e+05\n",
       "Asian-Hawaiian/Pacific Islander                          1.016896e+05\n",
       "Black-Asian                                              9.687077e+04\n",
       "White-Black-Asian                                        6.684736e+04\n",
       "White-Asian-Hawaiian/Pacific Islander                    6.533051e+04\n",
       "Black-Hawaiian/Pacific Islander                          3.409495e+04\n",
       "White-American Indian-Asian                              2.986187e+04\n",
       "Four or five races, unspecified                          2.226472e+04\n",
       "American Indian-Asian                                    1.580332e+04\n",
       "White-American Indian-Asian-Hawaiian/Pacific Islander    1.309473e+04\n",
       "Two or three races, unspecified                          1.024131e+04\n",
       "White-Black-American Indian-Asian                        9.431210e+03\n",
       "White-American Indian-Hawaiian/Pacific Islander          7.694640e+03\n",
       "White-Black--Hawaiian/Pacific Islander                   7.343220e+03\n",
       "Black-American Indian-Asian                              6.050330e+03\n",
       "American Indian-Hawaiian/Pacific Islander                1.194470e+03\n",
       "Name: WTSUPP, dtype: float64"
      ]
     },
     "execution_count": 26,
     "metadata": {},
     "output_type": "execute_result"
    }
   ],
   "source": [
    "d_cps.groupby(['RACE'])['WTSUPP'].sum().sort_values(ascending=False)"
   ]
  },
  {
   "cell_type": "code",
   "execution_count": 27,
   "metadata": {},
   "outputs": [
    {
     "data": {
      "text/plain": [
       "245800000.0"
      ]
     },
     "execution_count": 27,
     "metadata": {},
     "output_type": "execute_result"
    }
   ],
   "source": [
    "2.458e8"
   ]
  },
  {
   "cell_type": "code",
   "execution_count": 28,
   "metadata": {},
   "outputs": [
    {
     "data": {
      "text/plain": [
       "41700000.0"
      ]
     },
     "execution_count": 28,
     "metadata": {},
     "output_type": "execute_result"
    }
   ],
   "source": [
    "4.17e7"
   ]
  },
  {
   "cell_type": "markdown",
   "metadata": {},
   "source": [
    "The page at https://en.wikipedia.org/wiki/Demography_of_the_United_States#Race_and_ethnicity says that there were 233k people that are white as of 2015, so the 246k number seems at least in the ballpark. The same page says 40k for black, which also matches up w/ the 42k above. "
   ]
  },
  {
   "cell_type": "code",
   "execution_count": null,
   "metadata": {
    "collapsed": true
   },
   "outputs": [],
   "source": []
  },
  {
   "cell_type": "markdown",
   "metadata": {},
   "source": [
    "# Experiment with PyMC3"
   ]
  },
  {
   "cell_type": "code",
   "execution_count": 46,
   "metadata": {
    "collapsed": true
   },
   "outputs": [],
   "source": [
    "import pymc3 as pm"
   ]
  },
  {
   "cell_type": "code",
   "execution_count": 55,
   "metadata": {
    "collapsed": true
   },
   "outputs": [],
   "source": [
    "y_obs_categorical = pd.Categorical(d_only['q10horseGP'])\n",
    "y_obs = y_obs_categorical.codes"
   ]
  },
  {
   "cell_type": "code",
   "execution_count": 57,
   "metadata": {},
   "outputs": [
    {
     "data": {
      "text/plain": [
       "(972, 858)"
      ]
     },
     "execution_count": 57,
     "metadata": {},
     "output_type": "execute_result"
    }
   ],
   "source": [
    "sum(y_obs == 0), sum(y_obs == 1)"
   ]
  },
  {
   "cell_type": "code",
   "execution_count": 58,
   "metadata": {},
   "outputs": [
    {
     "data": {
      "text/plain": [
       "Clinton/lean Clinton    972\n",
       "Trump/lean Trump        858\n",
       "Name: q10horseGP, dtype: int64"
      ]
     },
     "execution_count": 58,
     "metadata": {},
     "output_type": "execute_result"
    }
   ],
   "source": [
    "d_only['q10horseGP'].value_counts(dropna=False)"
   ]
  },
  {
   "cell_type": "code",
   "execution_count": 59,
   "metadata": {},
   "outputs": [
    {
     "data": {
      "text/plain": [
       "[Trump/lean Trump, Clinton/lean Clinton, Trump/lean Trump, Trump/lean Trump, Clinton/lean Clinton, ..., Trump/lean Trump, Clinton/lean Clinton, Clinton/lean Clinton, Clinton/lean Clinton, Clinton/lean Clinton]\n",
       "Length: 1830\n",
       "Categories (2, object): [Clinton/lean Clinton, Trump/lean Trump]"
      ]
     },
     "execution_count": 59,
     "metadata": {},
     "output_type": "execute_result"
    }
   ],
   "source": [
    "y_obs_categorical"
   ]
  },
  {
   "cell_type": "markdown",
   "metadata": {},
   "source": [
    "Clinton is 0, Trump is 1."
   ]
  },
  {
   "cell_type": "code",
   "execution_count": 62,
   "metadata": {},
   "outputs": [
    {
     "data": {
      "text/plain": [
       "[Male, Female, Male, Male, Female, ..., Female, Female, Female, Male, Female]\n",
       "Length: 1830\n",
       "Categories (2, object): [Female, Male]"
      ]
     },
     "execution_count": 62,
     "metadata": {},
     "output_type": "execute_result"
    }
   ],
   "source": [
    "sex_categorical = pd.Categorical(d_only['sex'])\n",
    "sex_categorical"
   ]
  },
  {
   "cell_type": "code",
   "execution_count": 64,
   "metadata": {},
   "outputs": [
    {
     "data": {
      "text/plain": [
       "(888, 942)"
      ]
     },
     "execution_count": 64,
     "metadata": {},
     "output_type": "execute_result"
    }
   ],
   "source": [
    "sum(sex_categorical.codes == 0), sum(sex_categorical.codes == 1)"
   ]
  },
  {
   "cell_type": "code",
   "execution_count": 63,
   "metadata": {},
   "outputs": [
    {
     "data": {
      "text/plain": [
       "Male      942\n",
       "Female    888\n",
       "Name: sex, dtype: int64"
      ]
     },
     "execution_count": 63,
     "metadata": {},
     "output_type": "execute_result"
    }
   ],
   "source": [
    "d_only['sex'].value_counts(dropna=False)"
   ]
  },
  {
   "cell_type": "markdown",
   "metadata": {},
   "source": [
    "Female is 0, Male is 1."
   ]
  },
  {
   "cell_type": "code",
   "execution_count": 99,
   "metadata": {},
   "outputs": [],
   "source": [
    "with pm.Model() as model:\n",
    "    alpha = pm.Normal('alpha', mu=0, sd=10)\n",
    "    beta = pm.Normal('beta', mu=0, sd=10)\n",
    "    \n",
    "    mu = alpha + beta * sex_categorical.codes\n",
    "    theta = pm.Deterministic('theta', 1 / (1 + pm.math.exp(-mu)))\n",
    "    \n",
    "    y = pm.Bernoulli('yl', theta, observed=y_obs)"
   ]
  },
  {
   "cell_type": "code",
   "execution_count": 100,
   "metadata": {},
   "outputs": [
    {
     "name": "stderr",
     "output_type": "stream",
     "text": [
      "Auto-assigning NUTS sampler...\n",
      "Initializing NUTS using jitter+adapt_diag...\n",
      "100%|██████████| 2000/2000 [00:04<00:00, 475.96it/s]\n"
     ]
    }
   ],
   "source": [
    "with model:\n",
    "    trace = pm.sample(1000, n_init=50000, tune=1000)"
   ]
  },
  {
   "cell_type": "code",
   "execution_count": 101,
   "metadata": {},
   "outputs": [
    {
     "data": {
      "text/plain": [
       "array([[<matplotlib.axes._subplots.AxesSubplot object at 0x127d32f28>,\n",
       "        <matplotlib.axes._subplots.AxesSubplot object at 0x127d9c320>],\n",
       "       [<matplotlib.axes._subplots.AxesSubplot object at 0x127de8b00>,\n",
       "        <matplotlib.axes._subplots.AxesSubplot object at 0x127e57320>]], dtype=object)"
      ]
     },
     "execution_count": 101,
     "metadata": {},
     "output_type": "execute_result"
    },
    {
     "data": {
      "image/png": "[encoded data removed]",
      "text/plain": [
       "<matplotlib.figure.Figure at 0x127d24da0>"
      ]
     },
     "metadata": {},
     "output_type": "display_data"
    }
   ],
   "source": [
    "pm.traceplot(trace, ['alpha','beta'])"
   ]
  },
  {
   "cell_type": "code",
   "execution_count": 102,
   "metadata": {},
   "outputs": [
    {
     "data": {
      "text/html": [
       "<div>\n",
       "<style scoped>\n",
       "    .dataframe tbody tr th:only-of-type {\n",
       "        vertical-align: middle;\n",
       "    }\n",
       "\n",
       "    .dataframe tbody tr th {\n",
       "        vertical-align: top;\n",
       "    }\n",
       "\n",
       "    .dataframe thead th {\n",
       "        text-align: right;\n",
       "    }\n",
       "</style>\n",
       "<table border=\"1\" class=\"dataframe\">\n",
       "  <thead>\n",
       "    <tr style=\"text-align: right;\">\n",
       "      <th></th>\n",
       "      <th>mean</th>\n",
       "      <th>sd</th>\n",
       "      <th>mc_error</th>\n",
       "      <th>hpd_2.5</th>\n",
       "      <th>hpd_97.5</th>\n",
       "    </tr>\n",
       "  </thead>\n",
       "  <tbody>\n",
       "    <tr>\n",
       "      <th>alpha</th>\n",
       "      <td>-0.355992</td>\n",
       "      <td>0.066024</td>\n",
       "      <td>0.003302</td>\n",
       "      <td>-0.482270</td>\n",
       "      <td>-0.220841</td>\n",
       "    </tr>\n",
       "    <tr>\n",
       "      <th>beta</th>\n",
       "      <td>0.455265</td>\n",
       "      <td>0.093018</td>\n",
       "      <td>0.004806</td>\n",
       "      <td>0.276677</td>\n",
       "      <td>0.649368</td>\n",
       "    </tr>\n",
       "  </tbody>\n",
       "</table>\n",
       "</div>"
      ],
      "text/plain": [
       "           mean        sd  mc_error   hpd_2.5  hpd_97.5\n",
       "alpha -0.355992  0.066024  0.003302 -0.482270 -0.220841\n",
       "beta   0.455265  0.093018  0.004806  0.276677  0.649368"
      ]
     },
     "execution_count": 102,
     "metadata": {},
     "output_type": "execute_result"
    }
   ],
   "source": [
    "pm.df_summary(trace, ['alpha','beta'])"
   ]
  },
  {
   "cell_type": "code",
   "execution_count": 103,
   "metadata": {
    "collapsed": true
   },
   "outputs": [],
   "source": [
    "def classify(n, threshold, trace_data):\n",
    "    n = np.array(n)\n",
    "    mu = trace_data['alpha'].mean() + trace_data['beta'].mean() * n\n",
    "    prob = 1 / (1 + np.exp(-mu))\n",
    "    return prob, prob > threshold"
   ]
  },
  {
   "cell_type": "markdown",
   "metadata": {},
   "source": [
    "So, we pass in an array with 0 and 1, which means we want to see what the model will predict for Clinton/Trump given just the gender of the voter. As noted above, 0 is Female and 1 is Male, and 0 is Clinton, 1 is Trump."
   ]
  },
  {
   "cell_type": "code",
   "execution_count": 104,
   "metadata": {},
   "outputs": [
    {
     "data": {
      "text/plain": [
       "(array([ 0.41193024,  0.52479794]), array([False,  True], dtype=bool))"
      ]
     },
     "execution_count": 104,
     "metadata": {},
     "output_type": "execute_result"
    }
   ],
   "source": [
    "classify([0,1], 0.5, trace)"
   ]
  },
  {
   "cell_type": "markdown",
   "metadata": {},
   "source": [
    "So, I think - if I'm not too tired and haven't made any obtuse or obvious mistakes - this means that a female (the 0 in the array we pass in) has a probability of 0.41 of voting for Trump, and with a threshold - also passed in - of 0.5, she votes for Clinton. A male (1) has a probability of 0.52 of voting for Trump, and with the same threshold he does vote for Trunp."
   ]
  },
  {
   "cell_type": "markdown",
   "metadata": {},
   "source": [
    "What's the crosstab - should, perhaps, the proportions match?"
   ]
  },
  {
   "cell_type": "code",
   "execution_count": 105,
   "metadata": {},
   "outputs": [
    {
     "data": {
      "text/html": [
       "<div>\n",
       "<style scoped>\n",
       "    .dataframe tbody tr th:only-of-type {\n",
       "        vertical-align: middle;\n",
       "    }\n",
       "\n",
       "    .dataframe tbody tr th {\n",
       "        vertical-align: top;\n",
       "    }\n",
       "\n",
       "    .dataframe thead th {\n",
       "        text-align: right;\n",
       "    }\n",
       "</style>\n",
       "<table border=\"1\" class=\"dataframe\">\n",
       "  <thead>\n",
       "    <tr style=\"text-align: right;\">\n",
       "      <th>q10horseGP</th>\n",
       "      <th>Clinton/lean Clinton</th>\n",
       "      <th>Trump/lean Trump</th>\n",
       "      <th>All</th>\n",
       "    </tr>\n",
       "    <tr>\n",
       "      <th>sex</th>\n",
       "      <th></th>\n",
       "      <th></th>\n",
       "      <th></th>\n",
       "    </tr>\n",
       "  </thead>\n",
       "  <tbody>\n",
       "    <tr>\n",
       "      <th>Female</th>\n",
       "      <td>523</td>\n",
       "      <td>365</td>\n",
       "      <td>888</td>\n",
       "    </tr>\n",
       "    <tr>\n",
       "      <th>Male</th>\n",
       "      <td>449</td>\n",
       "      <td>493</td>\n",
       "      <td>942</td>\n",
       "    </tr>\n",
       "    <tr>\n",
       "      <th>All</th>\n",
       "      <td>972</td>\n",
       "      <td>858</td>\n",
       "      <td>1830</td>\n",
       "    </tr>\n",
       "  </tbody>\n",
       "</table>\n",
       "</div>"
      ],
      "text/plain": [
       "q10horseGP  Clinton/lean Clinton  Trump/lean Trump   All\n",
       "sex                                                     \n",
       "Female                       523               365   888\n",
       "Male                         449               493   942\n",
       "All                          972               858  1830"
      ]
     },
     "execution_count": 105,
     "metadata": {},
     "output_type": "execute_result"
    }
   ],
   "source": [
    "pd.crosstab(d_only['sex'], d_only['q10horseGP'], margins=True)"
   ]
  },
  {
   "cell_type": "code",
   "execution_count": 106,
   "metadata": {},
   "outputs": [
    {
     "data": {
      "text/html": [
       "<div>\n",
       "<style scoped>\n",
       "    .dataframe tbody tr th:only-of-type {\n",
       "        vertical-align: middle;\n",
       "    }\n",
       "\n",
       "    .dataframe tbody tr th {\n",
       "        vertical-align: top;\n",
       "    }\n",
       "\n",
       "    .dataframe thead th {\n",
       "        text-align: right;\n",
       "    }\n",
       "</style>\n",
       "<table border=\"1\" class=\"dataframe\">\n",
       "  <thead>\n",
       "    <tr style=\"text-align: right;\">\n",
       "      <th>q10horseGP</th>\n",
       "      <th>Clinton/lean Clinton</th>\n",
       "      <th>Trump/lean Trump</th>\n",
       "    </tr>\n",
       "    <tr>\n",
       "      <th>sex</th>\n",
       "      <th></th>\n",
       "      <th></th>\n",
       "    </tr>\n",
       "  </thead>\n",
       "  <tbody>\n",
       "    <tr>\n",
       "      <th>Female</th>\n",
       "      <td>0.588964</td>\n",
       "      <td>0.411036</td>\n",
       "    </tr>\n",
       "    <tr>\n",
       "      <th>Male</th>\n",
       "      <td>0.476645</td>\n",
       "      <td>0.523355</td>\n",
       "    </tr>\n",
       "  </tbody>\n",
       "</table>\n",
       "</div>"
      ],
      "text/plain": [
       "q10horseGP  Clinton/lean Clinton  Trump/lean Trump\n",
       "sex                                               \n",
       "Female                  0.588964          0.411036\n",
       "Male                    0.476645          0.523355"
      ]
     },
     "execution_count": 106,
     "metadata": {},
     "output_type": "execute_result"
    }
   ],
   "source": [
    "pd.crosstab(d_only['sex'], d_only['q10horseGP'], normalize='index')"
   ]
  },
  {
   "cell_type": "markdown",
   "metadata": {},
   "source": [
    "And... I think this confirms that the Bayesian implementation worked!? See the column for Trump - 0.4110 for Female, which matches the output above, and 0.5233 for Male, which also matches."
   ]
  },
  {
   "cell_type": "markdown",
   "metadata": {},
   "source": [
    "What about with sklearn?"
   ]
  },
  {
   "cell_type": "code",
   "execution_count": 107,
   "metadata": {
    "collapsed": true
   },
   "outputs": [],
   "source": [
    "from sklearn.linear_model import LogisticRegression"
   ]
  },
  {
   "cell_type": "code",
   "execution_count": 84,
   "metadata": {},
   "outputs": [],
   "source": [
    "# X always needs to be a 2-d array, so reshape does this\n",
    "# (for syntax, try calling without the reshape and see the error)\n",
    "lr = LogisticRegression().fit(sex_categorical.codes.reshape(-1, 1), y_obs)"
   ]
  },
  {
   "cell_type": "code",
   "execution_count": 87,
   "metadata": {},
   "outputs": [
    {
     "data": {
      "text/plain": [
       "array([0, 1], dtype=int8)"
      ]
     },
     "execution_count": 87,
     "metadata": {},
     "output_type": "execute_result"
    }
   ],
   "source": [
    "lr.predict(np.array([0, 1]).reshape(-1,1))"
   ]
  },
  {
   "cell_type": "markdown",
   "metadata": {},
   "source": [
    "So, Female has a prediction of Clinton, and Male a prediction of Trump, like we saw before.\n",
    "\n",
    "What about the probabilities?"
   ]
  },
  {
   "cell_type": "code",
   "execution_count": 92,
   "metadata": {},
   "outputs": [
    {
     "data": {
      "text/plain": [
       "array([[ 0.58805886,  0.41194114],\n",
       "       [ 0.47712052,  0.52287948]])"
      ]
     },
     "execution_count": 92,
     "metadata": {},
     "output_type": "execute_result"
    }
   ],
   "source": [
    "lr.predict_proba(np.array([0, 1]).reshape(-1,1))"
   ]
  },
  {
   "cell_type": "markdown",
   "metadata": {},
   "source": [
    "Per http://scikit-learn.org/stable/modules/generated/sklearn.linear_model.LogisticRegression.html#sklearn.linear_model.LogisticRegression.predict_proba, predict_proba gives a row for each row in the input data. Since we pass in 0 and 1, we get a row for 0 (Female) and a row for 1 (Male). The first column is the probability of 0 (Clinton) and the second column is the probability of 1 (Trump). The Bayesian model is predicting the probability of Trump, so we'd expect to see the second column match... and it DOES! Ok. That's awesome, on the first try."
   ]
  },
  {
   "cell_type": "markdown",
   "metadata": {},
   "source": [
    "## Add in another variable"
   ]
  },
  {
   "cell_type": "code",
   "execution_count": 95,
   "metadata": {},
   "outputs": [
    {
     "data": {
      "text/plain": [
       "[White, White, White, White, White, ..., White, White, White, White, Or some other race]\n",
       "Length: 1830\n",
       "Categories (5, object): [Asian or Asian-American, Black or African-American, Mixed Race, Or some other race, White]"
      ]
     },
     "execution_count": 95,
     "metadata": {},
     "output_type": "execute_result"
    }
   ],
   "source": [
    "racecmb_categorical = pd.Categorical(d_only['racecmb'])\n",
    "racecmb_categorical"
   ]
  },
  {
   "cell_type": "code",
   "execution_count": 123,
   "metadata": {},
   "outputs": [
    {
     "data": {
      "text/plain": [
       "5"
      ]
     },
     "execution_count": 123,
     "metadata": {},
     "output_type": "execute_result"
    }
   ],
   "source": [
    "len(np.unique(racecmb_categorical.codes))"
   ]
  },
  {
   "cell_type": "code",
   "execution_count": 124,
   "metadata": {},
   "outputs": [],
   "source": [
    "with pm.Model() as model_with_racecmb:\n",
    "    alpha = pm.Normal('alpha', mu=0, sd=10)\n",
    "    beta_sex = pm.Normal('beta_sex', mu=0, sd=10)\n",
    "    beta_racecmb = pm.Normal('beta_racecmb', mu=0, sd=10, \n",
    "                             shape=len(np.unique(racecmb_categorical.codes)))\n",
    "    \n",
    "    mu = alpha + \\\n",
    "         beta_sex * sex_categorical.codes + \\\n",
    "         beta_racecmb[racecmb_categorical.codes] * sex_categorical.codes\n",
    "    theta = pm.Deterministic('theta', 1 / (1 + pm.math.exp(-mu)))\n",
    "    \n",
    "    y = pm.Bernoulli('y', theta, observed=y_obs)"
   ]
  },
  {
   "cell_type": "code",
   "execution_count": 125,
   "metadata": {},
   "outputs": [
    {
     "name": "stderr",
     "output_type": "stream",
     "text": [
      "Auto-assigning NUTS sampler...\n",
      "Initializing NUTS using jitter+adapt_diag...\n",
      "100%|██████████| 2000/2000 [01:40<00:00, 19.82it/s]\n"
     ]
    }
   ],
   "source": [
    "with model_with_racecmb:\n",
    "    trace_with_racecmb = pm.sample(1000, n_init=50000, tune=1000)\n",
    "    #trace_with_racecmb = pm.sample(1000, n_init=50000, tune=1000)    "
   ]
  },
  {
   "cell_type": "code",
   "execution_count": 126,
   "metadata": {
    "collapsed": true
   },
   "outputs": [],
   "source": [
    "varnames_with_racecmb = ['alpha','beta_sex','beta_racecmb']"
   ]
  },
  {
   "cell_type": "code",
   "execution_count": 127,
   "metadata": {},
   "outputs": [
    {
     "data": {
      "text/plain": [
       "array([[<matplotlib.axes._subplots.AxesSubplot object at 0x12e662c18>,\n",
       "        <matplotlib.axes._subplots.AxesSubplot object at 0x13244aa20>],\n",
       "       [<matplotlib.axes._subplots.AxesSubplot object at 0x1324af240>,\n",
       "        <matplotlib.axes._subplots.AxesSubplot object at 0x132506390>],\n",
       "       [<matplotlib.axes._subplots.AxesSubplot object at 0x132571630>,\n",
       "        <matplotlib.axes._subplots.AxesSubplot object at 0x1325c1ef0>]], dtype=object)"
      ]
     },
     "execution_count": 127,
     "metadata": {},
     "output_type": "execute_result"
    },
    {
     "data": {
      "image/png": "[encoded data removed]",
      "text/plain": [
       "<matplotlib.figure.Figure at 0x12e662438>"
      ]
     },
     "metadata": {},
     "output_type": "display_data"
    }
   ],
   "source": [
    "pm.traceplot(trace_with_racecmb, varnames_with_racecmb)"
   ]
  },
  {
   "cell_type": "code",
   "execution_count": 128,
   "metadata": {
    "scrolled": false
   },
   "outputs": [
    {
     "data": {
      "text/html": [
       "<div>\n",
       "<style scoped>\n",
       "    .dataframe tbody tr th:only-of-type {\n",
       "        vertical-align: middle;\n",
       "    }\n",
       "\n",
       "    .dataframe tbody tr th {\n",
       "        vertical-align: top;\n",
       "    }\n",
       "\n",
       "    .dataframe thead th {\n",
       "        text-align: right;\n",
       "    }\n",
       "</style>\n",
       "<table border=\"1\" class=\"dataframe\">\n",
       "  <thead>\n",
       "    <tr style=\"text-align: right;\">\n",
       "      <th></th>\n",
       "      <th>mean</th>\n",
       "      <th>sd</th>\n",
       "      <th>mc_error</th>\n",
       "      <th>hpd_2.5</th>\n",
       "      <th>hpd_97.5</th>\n",
       "    </tr>\n",
       "  </thead>\n",
       "  <tbody>\n",
       "    <tr>\n",
       "      <th>alpha</th>\n",
       "      <td>-0.360262</td>\n",
       "      <td>0.067090</td>\n",
       "      <td>0.003299</td>\n",
       "      <td>-0.486927</td>\n",
       "      <td>-0.227217</td>\n",
       "    </tr>\n",
       "    <tr>\n",
       "      <th>beta_sex</th>\n",
       "      <td>-0.618728</td>\n",
       "      <td>4.062501</td>\n",
       "      <td>0.270953</td>\n",
       "      <td>-6.951137</td>\n",
       "      <td>8.023335</td>\n",
       "    </tr>\n",
       "    <tr>\n",
       "      <th>beta_racecmb__0</th>\n",
       "      <td>-0.141537</td>\n",
       "      <td>4.089663</td>\n",
       "      <td>0.272236</td>\n",
       "      <td>-8.422962</td>\n",
       "      <td>6.569237</td>\n",
       "    </tr>\n",
       "    <tr>\n",
       "      <th>beta_racecmb__1</th>\n",
       "      <td>-1.839844</td>\n",
       "      <td>4.059838</td>\n",
       "      <td>0.267968</td>\n",
       "      <td>-10.201952</td>\n",
       "      <td>5.085870</td>\n",
       "    </tr>\n",
       "    <tr>\n",
       "      <th>beta_racecmb__2</th>\n",
       "      <td>1.622476</td>\n",
       "      <td>4.089696</td>\n",
       "      <td>0.272453</td>\n",
       "      <td>-7.369271</td>\n",
       "      <td>7.890097</td>\n",
       "    </tr>\n",
       "    <tr>\n",
       "      <th>beta_racecmb__3</th>\n",
       "      <td>1.274545</td>\n",
       "      <td>4.063646</td>\n",
       "      <td>0.271575</td>\n",
       "      <td>-7.470081</td>\n",
       "      <td>7.663031</td>\n",
       "    </tr>\n",
       "    <tr>\n",
       "      <th>beta_racecmb__4</th>\n",
       "      <td>1.266244</td>\n",
       "      <td>4.056369</td>\n",
       "      <td>0.270869</td>\n",
       "      <td>-7.392074</td>\n",
       "      <td>7.651114</td>\n",
       "    </tr>\n",
       "  </tbody>\n",
       "</table>\n",
       "</div>"
      ],
      "text/plain": [
       "                     mean        sd  mc_error    hpd_2.5  hpd_97.5\n",
       "alpha           -0.360262  0.067090  0.003299  -0.486927 -0.227217\n",
       "beta_sex        -0.618728  4.062501  0.270953  -6.951137  8.023335\n",
       "beta_racecmb__0 -0.141537  4.089663  0.272236  -8.422962  6.569237\n",
       "beta_racecmb__1 -1.839844  4.059838  0.267968 -10.201952  5.085870\n",
       "beta_racecmb__2  1.622476  4.089696  0.272453  -7.369271  7.890097\n",
       "beta_racecmb__3  1.274545  4.063646  0.271575  -7.470081  7.663031\n",
       "beta_racecmb__4  1.266244  4.056369  0.270869  -7.392074  7.651114"
      ]
     },
     "execution_count": 128,
     "metadata": {},
     "output_type": "execute_result"
    }
   ],
   "source": [
    "pm.df_summary(trace_with_racecmb, varnames_with_racecmb)"
   ]
  },
  {
   "cell_type": "code",
   "execution_count": 140,
   "metadata": {},
   "outputs": [
    {
     "data": {
      "text/plain": [
       "[Male, Female, Male, Male, Female, ..., Female, Female, Female, Male, Female]\n",
       "Length: 1830\n",
       "Categories (2, object): [Female, Male]"
      ]
     },
     "execution_count": 140,
     "metadata": {},
     "output_type": "execute_result"
    }
   ],
   "source": [
    "sex_categorical"
   ]
  },
  {
   "cell_type": "code",
   "execution_count": 129,
   "metadata": {},
   "outputs": [
    {
     "data": {
      "text/plain": [
       "[White, White, White, White, White, ..., White, White, White, White, Or some other race]\n",
       "Length: 1830\n",
       "Categories (5, object): [Asian or Asian-American, Black or African-American, Mixed Race, Or some other race, White]"
      ]
     },
     "execution_count": 129,
     "metadata": {},
     "output_type": "execute_result"
    }
   ],
   "source": [
    "racecmb_categorical"
   ]
  },
  {
   "cell_type": "code",
   "execution_count": 130,
   "metadata": {},
   "outputs": [
    {
     "name": "stderr",
     "output_type": "stream",
     "text": [
      "Auto-assigning NUTS sampler...\n",
      "Initializing NUTS using jitter+adapt_diag...\n",
      "100%|██████████| 1000/1000 [00:48<00:00, 16.46it/s]\n"
     ]
    }
   ],
   "source": [
    "with model_with_racecmb:\n",
    "    trace_with_racecmb = pm.sample(500, n_init=50000, tune=500)\n",
    "    #trace_with_racecmb = pm.sample(1000, n_init=50000, tune=1000)    "
   ]
  },
  {
   "cell_type": "code",
   "execution_count": 131,
   "metadata": {},
   "outputs": [
    {
     "data": {
      "text/plain": [
       "array([[<matplotlib.axes._subplots.AxesSubplot object at 0x1329f1cc0>,\n",
       "        <matplotlib.axes._subplots.AxesSubplot object at 0x132a2fb70>],\n",
       "       [<matplotlib.axes._subplots.AxesSubplot object at 0x132a8cba8>,\n",
       "        <matplotlib.axes._subplots.AxesSubplot object at 0x132ae8710>],\n",
       "       [<matplotlib.axes._subplots.AxesSubplot object at 0x132b518d0>,\n",
       "        <matplotlib.axes._subplots.AxesSubplot object at 0x132bae2b0>]], dtype=object)"
      ]
     },
     "execution_count": 131,
     "metadata": {},
     "output_type": "execute_result"
    },
    {
     "data": {
      "image/png": "[encoded data removed]",
      "text/plain": [
       "<matplotlib.figure.Figure at 0x1329f14e0>"
      ]
     },
     "metadata": {},
     "output_type": "display_data"
    }
   ],
   "source": [
    "pm.traceplot(trace_with_racecmb, varnames_with_racecmb)"
   ]
  },
  {
   "cell_type": "code",
   "execution_count": 132,
   "metadata": {},
   "outputs": [
    {
     "data": {
      "text/html": [
       "<div>\n",
       "<style scoped>\n",
       "    .dataframe tbody tr th:only-of-type {\n",
       "        vertical-align: middle;\n",
       "    }\n",
       "\n",
       "    .dataframe tbody tr th {\n",
       "        vertical-align: top;\n",
       "    }\n",
       "\n",
       "    .dataframe thead th {\n",
       "        text-align: right;\n",
       "    }\n",
       "</style>\n",
       "<table border=\"1\" class=\"dataframe\">\n",
       "  <thead>\n",
       "    <tr style=\"text-align: right;\">\n",
       "      <th></th>\n",
       "      <th>mean</th>\n",
       "      <th>sd</th>\n",
       "      <th>mc_error</th>\n",
       "      <th>hpd_2.5</th>\n",
       "      <th>hpd_97.5</th>\n",
       "    </tr>\n",
       "  </thead>\n",
       "  <tbody>\n",
       "    <tr>\n",
       "      <th>alpha</th>\n",
       "      <td>-0.353764</td>\n",
       "      <td>0.072971</td>\n",
       "      <td>0.005060</td>\n",
       "      <td>-0.503764</td>\n",
       "      <td>-0.219328</td>\n",
       "    </tr>\n",
       "    <tr>\n",
       "      <th>beta_sex</th>\n",
       "      <td>-0.573645</td>\n",
       "      <td>4.455124</td>\n",
       "      <td>0.372560</td>\n",
       "      <td>-8.693975</td>\n",
       "      <td>8.231394</td>\n",
       "    </tr>\n",
       "    <tr>\n",
       "      <th>beta_racecmb__0</th>\n",
       "      <td>-0.208892</td>\n",
       "      <td>4.482532</td>\n",
       "      <td>0.373964</td>\n",
       "      <td>-9.184006</td>\n",
       "      <td>7.677869</td>\n",
       "    </tr>\n",
       "    <tr>\n",
       "      <th>beta_racecmb__1</th>\n",
       "      <td>-1.871870</td>\n",
       "      <td>4.479658</td>\n",
       "      <td>0.372446</td>\n",
       "      <td>-10.723462</td>\n",
       "      <td>6.556477</td>\n",
       "    </tr>\n",
       "    <tr>\n",
       "      <th>beta_racecmb__2</th>\n",
       "      <td>1.598449</td>\n",
       "      <td>4.472896</td>\n",
       "      <td>0.374165</td>\n",
       "      <td>-7.392703</td>\n",
       "      <td>9.935567</td>\n",
       "    </tr>\n",
       "    <tr>\n",
       "      <th>beta_racecmb__3</th>\n",
       "      <td>1.213370</td>\n",
       "      <td>4.457354</td>\n",
       "      <td>0.372660</td>\n",
       "      <td>-7.550354</td>\n",
       "      <td>9.302019</td>\n",
       "    </tr>\n",
       "    <tr>\n",
       "      <th>beta_racecmb__4</th>\n",
       "      <td>1.216465</td>\n",
       "      <td>4.452707</td>\n",
       "      <td>0.371975</td>\n",
       "      <td>-7.417473</td>\n",
       "      <td>9.464863</td>\n",
       "    </tr>\n",
       "  </tbody>\n",
       "</table>\n",
       "</div>"
      ],
      "text/plain": [
       "                     mean        sd  mc_error    hpd_2.5  hpd_97.5\n",
       "alpha           -0.353764  0.072971  0.005060  -0.503764 -0.219328\n",
       "beta_sex        -0.573645  4.455124  0.372560  -8.693975  8.231394\n",
       "beta_racecmb__0 -0.208892  4.482532  0.373964  -9.184006  7.677869\n",
       "beta_racecmb__1 -1.871870  4.479658  0.372446 -10.723462  6.556477\n",
       "beta_racecmb__2  1.598449  4.472896  0.374165  -7.392703  9.935567\n",
       "beta_racecmb__3  1.213370  4.457354  0.372660  -7.550354  9.302019\n",
       "beta_racecmb__4  1.216465  4.452707  0.371975  -7.417473  9.464863"
      ]
     },
     "execution_count": 132,
     "metadata": {},
     "output_type": "execute_result"
    }
   ],
   "source": [
    "pm.df_summary(trace_with_racecmb, varnames_with_racecmb)"
   ]
  },
  {
   "cell_type": "code",
   "execution_count": 142,
   "metadata": {},
   "outputs": [
    {
     "data": {
      "text/plain": [
       "-0.57364481444136439"
      ]
     },
     "execution_count": 142,
     "metadata": {},
     "output_type": "execute_result"
    }
   ],
   "source": [
    "trace_with_racecmb['beta_sex'].mean()"
   ]
  },
  {
   "cell_type": "code",
   "execution_count": 159,
   "metadata": {
    "collapsed": true
   },
   "outputs": [],
   "source": [
    "def standard_logistic(x):\n",
    "    return 1 / (1 + np.exp(-x))\n",
    "\n",
    "def classify_with_racecmb(n, threshold, trace_data, varnames):\n",
    "    n = np.array(n)\n",
    "    \n",
    "    mean_vals = pm.df_summary(trace_data, varnames)['mean'].values\n",
    "\n",
    "    mu = np.dot(n, mean_vals)\n",
    "\n",
    "    prob = standard_logistic(mu)\n",
    "    return prob, prob > threshold"
   ]
  },
  {
   "cell_type": "code",
   "execution_count": 160,
   "metadata": {},
   "outputs": [
    {
     "data": {
      "text/plain": [
       "array([[1, 0, 1, 0, 0, 0, 0],\n",
       "       [1, 1, 1, 0, 0, 0, 0],\n",
       "       [1, 0, 0, 1, 0, 0, 0],\n",
       "       [1, 1, 0, 1, 0, 0, 0],\n",
       "       [1, 0, 0, 0, 1, 0, 0],\n",
       "       [1, 1, 0, 0, 1, 0, 0],\n",
       "       [1, 0, 0, 0, 0, 1, 0],\n",
       "       [1, 1, 0, 0, 0, 1, 0],\n",
       "       [1, 0, 0, 0, 0, 0, 1],\n",
       "       [1, 1, 0, 0, 0, 0, 1]])"
      ]
     },
     "execution_count": 160,
     "metadata": {},
     "output_type": "execute_result"
    }
   ],
   "source": [
    "a = np.array([1,0,1,0,0,0,0,\n",
    "              1,1,1,0,0,0,0,\n",
    "              1,0,0,1,0,0,0,\n",
    "              1,1,0,1,0,0,0,\n",
    "              1,0,0,0,1,0,0,              \n",
    "              1,1,0,0,1,0,0,\n",
    "              1,0,0,0,0,1,0,\n",
    "              1,1,0,0,0,1,0,\n",
    "              1,0,0,0,0,0,1,              \n",
    "              1,1,0,0,0,0,1,]).reshape(10,-1)\n",
    "a"
   ]
  },
  {
   "cell_type": "code",
   "execution_count": 161,
   "metadata": {},
   "outputs": [
    {
     "data": {
      "text/plain": [
       "(array([ 0.36293326,  0.24300029,  0.09747205,  0.05736316,  0.7763785 ,\n",
       "         0.6617361 ,  0.70257833,  0.57100708,  0.70322481,  0.57176523]),\n",
       " array([False, False, False, False,  True,  True,  True,  True,  True,  True], dtype=bool))"
      ]
     },
     "execution_count": 161,
     "metadata": {},
     "output_type": "execute_result"
    }
   ],
   "source": [
    "classify_with_racecmb(a, 0.5, trace_with_racecmb, varnames_with_racecmb)"
   ]
  },
  {
   "cell_type": "markdown",
   "metadata": {},
   "source": [
    "First off, is the classify function correctly doing the math? If we do it manually, do we get the same results? Looks like yes."
   ]
  },
  {
   "cell_type": "code",
   "execution_count": 165,
   "metadata": {},
   "outputs": [
    {
     "data": {
      "text/plain": [
       "0.3629331355711774"
      ]
     },
     "execution_count": 165,
     "metadata": {},
     "output_type": "execute_result"
    }
   ],
   "source": [
    "# [1, 0, 1, 0, 0, 0, 0]\n",
    "standard_logistic(-0.353764 + -0.208892)"
   ]
  },
  {
   "cell_type": "code",
   "execution_count": 166,
   "metadata": {},
   "outputs": [
    {
     "data": {
      "text/plain": [
       "0.24300014901816597"
      ]
     },
     "execution_count": 166,
     "metadata": {},
     "output_type": "execute_result"
    }
   ],
   "source": [
    "# [1, 1, 1, 0, 0, 0, 0]\n",
    "standard_logistic(-0.353764 + -0.573645 + -0.208892)"
   ]
  },
  {
   "cell_type": "code",
   "execution_count": 167,
   "metadata": {},
   "outputs": [
    {
     "data": {
      "text/plain": [
       "0.57100703258022611"
      ]
     },
     "execution_count": 167,
     "metadata": {},
     "output_type": "execute_result"
    }
   ],
   "source": [
    "# [1, 1, 0, 0, 0, 1, 0]\n",
    "standard_logistic(-0.353764 + -0.573645 + 1.213370)"
   ]
  },
  {
   "cell_type": "markdown",
   "metadata": {},
   "source": [
    "Still, it seems odd that the coefficient for sex is now negative... i.e., that being a male (1) makes you much more likely to vote for Trump. This is opposite of what I'd have thought, and of what we found in the model previously. It could be because after controlling for race this is what we see - and the model and data are right - or that I've messed up something else.\n",
    "\n",
    "What do I see if I try it w/ sklearn?"
   ]
  },
  {
   "cell_type": "markdown",
   "metadata": {},
   "source": [
    "First, I'll use get_dummies to get a matrix - I could instead compose it myself using categoricals and .codes, etc. or w/ custom code, but this seems easiest since it's already written. \n",
    "\n",
    "On the same note, I might want to do this way up at the top and use the result instead of the categoricals i've already used above.\n",
    "\n",
    "Finally, at least for now to match the structure I already have, I want a single column for sex - so can use true for the drop_first arg - and one column per feature for race - and so will use the default false for drop first. I can't do these at the same time, so I'll do them in two separate calls and concatenate the results."
   ]
  },
  {
   "cell_type": "code",
   "execution_count": 176,
   "metadata": {},
   "outputs": [
    {
     "data": {
      "text/plain": [
       "(1830, 6)"
      ]
     },
     "execution_count": 176,
     "metadata": {},
     "output_type": "execute_result"
    }
   ],
   "source": [
    "d_only_dummies = pd.concat([pd.get_dummies(d_only['sex'], drop_first=True),\n",
    "                            pd.get_dummies(d_only['racecmb'])], axis=1)\n",
    "d_only_dummies.shape"
   ]
  },
  {
   "cell_type": "code",
   "execution_count": 177,
   "metadata": {},
   "outputs": [
    {
     "data": {
      "text/html": [
       "<div>\n",
       "<style scoped>\n",
       "    .dataframe tbody tr th:only-of-type {\n",
       "        vertical-align: middle;\n",
       "    }\n",
       "\n",
       "    .dataframe tbody tr th {\n",
       "        vertical-align: top;\n",
       "    }\n",
       "\n",
       "    .dataframe thead th {\n",
       "        text-align: right;\n",
       "    }\n",
       "</style>\n",
       "<table border=\"1\" class=\"dataframe\">\n",
       "  <thead>\n",
       "    <tr style=\"text-align: right;\">\n",
       "      <th></th>\n",
       "      <th>Male</th>\n",
       "      <th>Asian or Asian-American</th>\n",
       "      <th>Black or African-American</th>\n",
       "      <th>Mixed Race</th>\n",
       "      <th>Or some other race</th>\n",
       "      <th>White</th>\n",
       "    </tr>\n",
       "  </thead>\n",
       "  <tbody>\n",
       "    <tr>\n",
       "      <th>0</th>\n",
       "      <td>1</td>\n",
       "      <td>0</td>\n",
       "      <td>0</td>\n",
       "      <td>0</td>\n",
       "      <td>0</td>\n",
       "      <td>1</td>\n",
       "    </tr>\n",
       "    <tr>\n",
       "      <th>1</th>\n",
       "      <td>0</td>\n",
       "      <td>0</td>\n",
       "      <td>0</td>\n",
       "      <td>0</td>\n",
       "      <td>0</td>\n",
       "      <td>1</td>\n",
       "    </tr>\n",
       "  </tbody>\n",
       "</table>\n",
       "</div>"
      ],
      "text/plain": [
       "   Male  Asian or Asian-American  Black or African-American  Mixed Race  \\\n",
       "0     1                        0                          0           0   \n",
       "1     0                        0                          0           0   \n",
       "\n",
       "   Or some other race  White  \n",
       "0                   0      1  \n",
       "1                   0      1  "
      ]
     },
     "execution_count": 177,
     "metadata": {},
     "output_type": "execute_result"
    }
   ],
   "source": [
    "d_only_dummies[:2]"
   ]
  },
  {
   "cell_type": "code",
   "execution_count": 178,
   "metadata": {
    "collapsed": true
   },
   "outputs": [],
   "source": [
    "lr = LogisticRegression().fit(d_only_dummies.values, y_obs)"
   ]
  },
  {
   "cell_type": "code",
   "execution_count": 189,
   "metadata": {},
   "outputs": [
    {
     "data": {
      "text/plain": [
       "array([0, 0, 0, 0, 0, 1, 0, 0, 0, 1], dtype=int8)"
      ]
     },
     "execution_count": 189,
     "metadata": {},
     "output_type": "execute_result"
    }
   ],
   "source": [
    "lr.predict(a[:,1:]) # use slices/indexing to get rid of the first col w/ 1s for the alpha intercept"
   ]
  },
  {
   "cell_type": "code",
   "execution_count": 190,
   "metadata": {},
   "outputs": [
    {
     "data": {
      "text/plain": [
       "array([[ 0.82390962,  0.17609038],\n",
       "       [ 0.74815752,  0.25184248],\n",
       "       [ 0.96154435,  0.03845565],\n",
       "       [ 0.94074273,  0.05925727],\n",
       "       [ 0.5458355 ,  0.4541645 ],\n",
       "       [ 0.43280998,  0.56719002],\n",
       "       [ 0.63804806,  0.36195194],\n",
       "       [ 0.52813236,  0.47186764],\n",
       "       [ 0.53230074,  0.46769926],\n",
       "       [ 0.4194892 ,  0.5805108 ]])"
      ]
     },
     "execution_count": 190,
     "metadata": {},
     "output_type": "execute_result"
    }
   ],
   "source": [
    "lr.predict_proba(a[:,1:])"
   ]
  },
  {
   "cell_type": "markdown",
   "metadata": {},
   "source": [
    "Again, the above is a row per input, with the first col showing the probability of Clinton and the second the probability of Trump. So, the second column should roughly match the Bayesian model's output, I think (like it did previously)."
   ]
  },
  {
   "cell_type": "code",
   "execution_count": 191,
   "metadata": {},
   "outputs": [
    {
     "data": {
      "text/plain": [
       "array([[ 0.45425376, -0.60268981, -2.27866138,  0.75651549,  0.37347149,\n",
       "         0.81099053]])"
      ]
     },
     "execution_count": 191,
     "metadata": {},
     "output_type": "execute_result"
    }
   ],
   "source": [
    "lr.coef_"
   ]
  },
  {
   "cell_type": "code",
   "execution_count": 192,
   "metadata": {},
   "outputs": [
    {
     "data": {
      "text/plain": [
       "array([-0.94037367])"
      ]
     },
     "execution_count": 192,
     "metadata": {},
     "output_type": "execute_result"
    }
   ],
   "source": [
    "lr.intercept_"
   ]
  },
  {
   "cell_type": "markdown",
   "metadata": {},
   "source": [
    "So, the intercept's definitely different. The beta values are too. The first value, which is on when the voter is male, is 0.45, which is positive (like we'd expect) and - fwiw, I don't think I would always expect this to be the case, because I think adding other predictors could change it - also is the same as it was w/ the original model.\n",
    "\n",
    "The race coefficients are negative for Asians, very negative for African Americans, and positive for mixed race, other, and, most so, for white.\n",
    "\n",
    "So, the sklearn model makes sense. The Bayesian model doesn't, and it doesn't match the sklearn model."
   ]
  },
  {
   "cell_type": "markdown",
   "metadata": {},
   "source": [
    "## Another try w/ race, this time with the data from get_dummies"
   ]
  },
  {
   "cell_type": "code",
   "execution_count": 197,
   "metadata": {},
   "outputs": [
    {
     "data": {
      "text/plain": [
       "6"
      ]
     },
     "execution_count": 197,
     "metadata": {},
     "output_type": "execute_result"
    }
   ],
   "source": [
    "d_only_dummies.values.shape[1]"
   ]
  },
  {
   "cell_type": "code",
   "execution_count": 198,
   "metadata": {},
   "outputs": [],
   "source": [
    "with pm.Model() as model_with_racecmb_2:\n",
    "    alpha = pm.Normal('alpha', mu=0, sd=10)\n",
    "    beta = pm.Normal('beta', mu=0, sd=10, shape=d_only_dummies.values.shape[1])\n",
    "    \n",
    "    mu = alpha + pm.math.dot(d_only_dummies.values, beta)\n",
    "    theta = pm.Deterministic('theta', 1 / (1 + pm.math.exp(-mu)))\n",
    "    \n",
    "    y = pm.Bernoulli('y', theta, observed=y_obs)"
   ]
  },
  {
   "cell_type": "code",
   "execution_count": 199,
   "metadata": {},
   "outputs": [
    {
     "name": "stderr",
     "output_type": "stream",
     "text": [
      "Auto-assigning NUTS sampler...\n",
      "Initializing NUTS using jitter+adapt_diag...\n",
      "100%|██████████| 1000/1000 [00:59<00:00, 16.91it/s]\n"
     ]
    }
   ],
   "source": [
    "with model_with_racecmb_2:\n",
    "    trace_with_racecmb_2 = pm.sample(500, n_init=50000, tune=500)"
   ]
  },
  {
   "cell_type": "code",
   "execution_count": 200,
   "metadata": {},
   "outputs": [
    {
     "data": {
      "text/plain": [
       "array([[<matplotlib.axes._subplots.AxesSubplot object at 0x13425ce80>,\n",
       "        <matplotlib.axes._subplots.AxesSubplot object at 0x1342a8940>],\n",
       "       [<matplotlib.axes._subplots.AxesSubplot object at 0x134310ac8>,\n",
       "        <matplotlib.axes._subplots.AxesSubplot object at 0x13436d4e0>]], dtype=object)"
      ]
     },
     "execution_count": 200,
     "metadata": {},
     "output_type": "execute_result"
    },
    {
     "data": {
      "image/png": "[encoded data removed]",
      "text/plain": [
       "<matplotlib.figure.Figure at 0x13425c6a0>"
      ]
     },
     "metadata": {},
     "output_type": "display_data"
    }
   ],
   "source": [
    "pm.traceplot(trace_with_racecmb_2, ['alpha','beta'])"
   ]
  },
  {
   "cell_type": "code",
   "execution_count": 202,
   "metadata": {},
   "outputs": [
    {
     "data": {
      "text/html": [
       "<div>\n",
       "<style scoped>\n",
       "    .dataframe tbody tr th:only-of-type {\n",
       "        vertical-align: middle;\n",
       "    }\n",
       "\n",
       "    .dataframe tbody tr th {\n",
       "        vertical-align: top;\n",
       "    }\n",
       "\n",
       "    .dataframe thead th {\n",
       "        text-align: right;\n",
       "    }\n",
       "</style>\n",
       "<table border=\"1\" class=\"dataframe\">\n",
       "  <thead>\n",
       "    <tr style=\"text-align: right;\">\n",
       "      <th></th>\n",
       "      <th>mean</th>\n",
       "      <th>sd</th>\n",
       "      <th>mc_error</th>\n",
       "      <th>hpd_2.5</th>\n",
       "      <th>hpd_97.5</th>\n",
       "    </tr>\n",
       "  </thead>\n",
       "  <tbody>\n",
       "    <tr>\n",
       "      <th>alpha</th>\n",
       "      <td>-1.489955</td>\n",
       "      <td>4.179763</td>\n",
       "      <td>0.368689</td>\n",
       "      <td>-11.782032</td>\n",
       "      <td>4.811958</td>\n",
       "    </tr>\n",
       "    <tr>\n",
       "      <th>beta__0</th>\n",
       "      <td>0.468029</td>\n",
       "      <td>0.094201</td>\n",
       "      <td>0.006772</td>\n",
       "      <td>0.298105</td>\n",
       "      <td>0.649454</td>\n",
       "    </tr>\n",
       "    <tr>\n",
       "      <th>beta__1</th>\n",
       "      <td>-0.225859</td>\n",
       "      <td>4.160714</td>\n",
       "      <td>0.365681</td>\n",
       "      <td>-6.701860</td>\n",
       "      <td>9.936929</td>\n",
       "    </tr>\n",
       "    <tr>\n",
       "      <th>beta__2</th>\n",
       "      <td>-2.143692</td>\n",
       "      <td>4.195794</td>\n",
       "      <td>0.368515</td>\n",
       "      <td>-9.179256</td>\n",
       "      <td>7.751277</td>\n",
       "    </tr>\n",
       "    <tr>\n",
       "      <th>beta__3</th>\n",
       "      <td>1.367183</td>\n",
       "      <td>4.185021</td>\n",
       "      <td>0.368457</td>\n",
       "      <td>-5.034023</td>\n",
       "      <td>11.743239</td>\n",
       "    </tr>\n",
       "    <tr>\n",
       "      <th>beta__4</th>\n",
       "      <td>0.930670</td>\n",
       "      <td>4.180502</td>\n",
       "      <td>0.367910</td>\n",
       "      <td>-5.255457</td>\n",
       "      <td>11.103317</td>\n",
       "    </tr>\n",
       "    <tr>\n",
       "      <th>beta__5</th>\n",
       "      <td>1.358082</td>\n",
       "      <td>4.171686</td>\n",
       "      <td>0.367825</td>\n",
       "      <td>-4.927967</td>\n",
       "      <td>11.720552</td>\n",
       "    </tr>\n",
       "  </tbody>\n",
       "</table>\n",
       "</div>"
      ],
      "text/plain": [
       "             mean        sd  mc_error    hpd_2.5   hpd_97.5\n",
       "alpha   -1.489955  4.179763  0.368689 -11.782032   4.811958\n",
       "beta__0  0.468029  0.094201  0.006772   0.298105   0.649454\n",
       "beta__1 -0.225859  4.160714  0.365681  -6.701860   9.936929\n",
       "beta__2 -2.143692  4.195794  0.368515  -9.179256   7.751277\n",
       "beta__3  1.367183  4.185021  0.368457  -5.034023  11.743239\n",
       "beta__4  0.930670  4.180502  0.367910  -5.255457  11.103317\n",
       "beta__5  1.358082  4.171686  0.367825  -4.927967  11.720552"
      ]
     },
     "execution_count": 202,
     "metadata": {},
     "output_type": "execute_result"
    }
   ],
   "source": [
    "pm.df_summary(trace_with_racecmb_2, ['alpha', 'beta'])"
   ]
  },
  {
   "cell_type": "markdown",
   "metadata": {},
   "source": [
    "**TODO** need to tweak classify to use differently specified var names, or pass in the full set of beta__x names?"
   ]
  },
  {
   "cell_type": "code",
   "execution_count": null,
   "metadata": {
    "collapsed": true
   },
   "outputs": [],
   "source": []
  }
 ],
 "metadata": {
  "kernelspec": {
   "display_name": "Python 3",
   "language": "python",
   "name": "python3"
  },
  "language_info": {
   "codemirror_mode": {
    "name": "ipython",
    "version": 3
   },
   "file_extension": ".py",
   "mimetype": "text/x-python",
   "name": "python",
   "nbconvert_exporter": "python",
   "pygments_lexer": "ipython3",
   "version": "3.6.1"
  }
 },
 "nbformat": 4,
 "nbformat_minor": 2
}
