{
 "cells": [
  {
   "cell_type": "code",
   "execution_count": 1,
   "metadata": {
    "collapsed": true
   },
   "outputs": [],
   "source": [
    "import pandas as pd"
   ]
  },
  {
   "cell_type": "code",
   "execution_count": 3,
   "metadata": {},
   "outputs": [
    {
     "data": {
      "text/plain": [
       "(2583, 211)"
      ]
     },
     "execution_count": 3,
     "metadata": {},
     "output_type": "execute_result"
    }
   ],
   "source": [
    "d = pd.read_csv('~/OneDrive/Personal/School/Master\\'s/DATA 512/Project/Oct16/Oct16 public.csv')\n",
    "d.shape"
   ]
  },
  {
   "cell_type": "code",
   "execution_count": 4,
   "metadata": {},
   "outputs": [
    {
     "data": {
      "text/html": [
       "<div>\n",
       "<style>\n",
       "    .dataframe thead tr:only-child th {\n",
       "        text-align: right;\n",
       "    }\n",
       "\n",
       "    .dataframe thead th {\n",
       "        text-align: left;\n",
       "    }\n",
       "\n",
       "    .dataframe tbody tr th {\n",
       "        vertical-align: top;\n",
       "    }\n",
       "</style>\n",
       "<table border=\"1\" class=\"dataframe\">\n",
       "  <thead>\n",
       "    <tr style=\"text-align: right;\">\n",
       "      <th></th>\n",
       "      <th>Unnamed: 0</th>\n",
       "      <th>psraid</th>\n",
       "      <th>sample</th>\n",
       "      <th>int_date</th>\n",
       "      <th>fcall</th>\n",
       "      <th>attempts</th>\n",
       "      <th>refusal</th>\n",
       "      <th>ilang</th>\n",
       "      <th>cregion</th>\n",
       "      <th>state</th>\n",
       "      <th>...</th>\n",
       "      <th>hh3</th>\n",
       "      <th>ql1</th>\n",
       "      <th>ql1a</th>\n",
       "      <th>qc1</th>\n",
       "      <th>money2</th>\n",
       "      <th>ckinfo</th>\n",
       "      <th>iphoneuse</th>\n",
       "      <th>hphoneuse</th>\n",
       "      <th>cellweight</th>\n",
       "      <th>weight</th>\n",
       "    </tr>\n",
       "  </thead>\n",
       "  <tbody>\n",
       "    <tr>\n",
       "      <th>0</th>\n",
       "      <td>1</td>\n",
       "      <td>50003</td>\n",
       "      <td>Landline</td>\n",
       "      <td>102016</td>\n",
       "      <td>161020</td>\n",
       "      <td>1</td>\n",
       "      <td>No</td>\n",
       "      <td>English</td>\n",
       "      <td>Midwest</td>\n",
       "      <td>Minnesota</td>\n",
       "      <td>...</td>\n",
       "      <td>2</td>\n",
       "      <td>Yes, have cell phone</td>\n",
       "      <td>NaN</td>\n",
       "      <td>NaN</td>\n",
       "      <td>NaN</td>\n",
       "      <td>NaN</td>\n",
       "      <td>Dual</td>\n",
       "      <td>Dual HH</td>\n",
       "      <td>NaN</td>\n",
       "      <td>2.088235</td>\n",
       "    </tr>\n",
       "    <tr>\n",
       "      <th>1</th>\n",
       "      <td>2</td>\n",
       "      <td>50004</td>\n",
       "      <td>Landline</td>\n",
       "      <td>102016</td>\n",
       "      <td>161020</td>\n",
       "      <td>1</td>\n",
       "      <td>No</td>\n",
       "      <td>English</td>\n",
       "      <td>South</td>\n",
       "      <td>Delaware</td>\n",
       "      <td>...</td>\n",
       "      <td>2</td>\n",
       "      <td>Yes, have cell phone</td>\n",
       "      <td>NaN</td>\n",
       "      <td>NaN</td>\n",
       "      <td>NaN</td>\n",
       "      <td>NaN</td>\n",
       "      <td>Dual</td>\n",
       "      <td>Dual HH</td>\n",
       "      <td>NaN</td>\n",
       "      <td>1.264706</td>\n",
       "    </tr>\n",
       "  </tbody>\n",
       "</table>\n",
       "<p>2 rows × 211 columns</p>\n",
       "</div>"
      ],
      "text/plain": [
       "   Unnamed: 0  psraid    sample  int_date   fcall  attempts refusal    ilang  \\\n",
       "0           1   50003  Landline    102016  161020         1      No  English   \n",
       "1           2   50004  Landline    102016  161020         1      No  English   \n",
       "\n",
       "   cregion      state    ...    hh3                   ql1 ql1a  qc1 money2  \\\n",
       "0  Midwest  Minnesota    ...      2  Yes, have cell phone  NaN  NaN    NaN   \n",
       "1    South   Delaware    ...      2  Yes, have cell phone  NaN  NaN    NaN   \n",
       "\n",
       "  ckinfo iphoneuse hphoneuse cellweight    weight  \n",
       "0    NaN      Dual   Dual HH        NaN  2.088235  \n",
       "1    NaN      Dual   Dual HH        NaN  1.264706  \n",
       "\n",
       "[2 rows x 211 columns]"
      ]
     },
     "execution_count": 4,
     "metadata": {},
     "output_type": "execute_result"
    }
   ],
   "source": [
    "d[:2]"
   ]
  },
  {
   "cell_type": "code",
   "execution_count": 5,
   "metadata": {
    "collapsed": true
   },
   "outputs": [],
   "source": [
    "pd.set_option('display.max_rows', 500)"
   ]
  },
  {
   "cell_type": "code",
   "execution_count": 6,
   "metadata": {
    "scrolled": false
   },
   "outputs": [
    {
     "data": {
      "text/plain": [
       "Unnamed: 0                                                    1\n",
       "psraid                                                    50003\n",
       "sample                                                 Landline\n",
       "int_date                                                 102016\n",
       "fcall                                                    161020\n",
       "attempts                                                      1\n",
       "refusal                                                      No\n",
       "ilang                                                   English\n",
       "cregion                                                 Midwest\n",
       "state                                                 Minnesota\n",
       "density                                                  Lowest\n",
       "sstate                                                Minnesota\n",
       "form                                                     Form 1\n",
       "stimes                                                        1\n",
       "igender                                                  Female\n",
       "irace                                                     White\n",
       "llitext0                                  Youngest Female First\n",
       "susr                                                   Suburban\n",
       "usr                                                    Suburban\n",
       "scregion                                                Midwest\n",
       "file                                                       SRBI\n",
       "qs1                                                         NaN\n",
       "q1                                                   Disapprove\n",
       "q2                                                 Dissatisfied\n",
       "q3                                                        Angry\n",
       "campnii                                          Fairly closely\n",
       "thought                                                     NaN\n",
       "oftvote                                                  Always\n",
       "q10           for the Republican ticket of Donald Trump and ...\n",
       "q10a                                                        NaN\n",
       "q10horse                                       Trump/lean Trump\n",
       "q10horseGP                                     Trump/lean Trump\n",
       "q11                                                         NaN\n",
       "q11a                                                        NaN\n",
       "Q11HORSE2                                      Trump/lean Trump\n",
       "q12                                                    Strongly\n",
       "q13a                                            Against Clinton\n",
       "q13b                                                        NaN\n",
       "q13c                                                        NaN\n",
       "q13d                                                        NaN\n",
       "q15                                                         NaN\n",
       "q15a                                                        NaN\n",
       "plan1                                              Plan to vote\n",
       "early1                                                      NaN\n",
       "plan2                                           ON Election Day\n",
       "q20af2                                                      NaN\n",
       "q20bf2                                                      NaN\n",
       "q25f1         Things will pretty much be the same regardless...\n",
       "q26f2                                                       NaN\n",
       "q29f2                                                       NaN\n",
       "q30af1                                             Not too well\n",
       "q30bf1                                                Very well\n",
       "q31                                                         NaN\n",
       "q32                      [VOL. DO NOT READ] Don't know/Refused \n",
       "q40af1                                          Some difference\n",
       "q40bf1                                           Big difference\n",
       "q40cf1                                           Big difference\n",
       "q40df2                                                      NaN\n",
       "q40ef2                                                      NaN\n",
       "q40ff2                                                      NaN\n",
       "q50a                                               A great deal\n",
       "q50bf1                                             A great deal\n",
       "q50cf1                                             A great deal\n",
       "q50df1                                             A great deal\n",
       "q50ef1                                             A great deal\n",
       "q50ff1                                             A great deal\n",
       "q50gf1                                             A great deal\n",
       "q50hf2                                                      NaN\n",
       "q50if2                                                      NaN\n",
       "q50jf2                                                      NaN\n",
       "q50kf2                                                      NaN\n",
       "q50lf2                                                      NaN\n",
       "q51a                                               Not too much\n",
       "q51bf1                                             Not too much\n",
       "q51cf1                                             Not too much\n",
       "q51df1                                            A fair amount\n",
       "q51ef1                                             Not too much\n",
       "q51ff1                                            A fair amount\n",
       "q51gf1                                            A fair amount\n",
       "q51hf2                                                      NaN\n",
       "q51if2                                                      NaN\n",
       "q51jf2                                                      NaN\n",
       "q51kf2                                                      NaN\n",
       "q51lf2                                                      NaN\n",
       "q60                                                  Good shape\n",
       "q61                                   Don't know/Refused (VOL.)\n",
       "emp2                                                         No\n",
       "emp1                                                         No\n",
       "emp3                                                  Full-time\n",
       "employ1                                                     NaN\n",
       "employ7                                                     NaN\n",
       "q63                                          Somewhat confident\n",
       "q66f2                                                       NaN\n",
       "q67af1                                       Somewhat important\n",
       "q67bf1                                        Not too important\n",
       "q67cf1                                        Not too important\n",
       "q67df1                                           Very important\n",
       "q67ef1                                       Somewhat important\n",
       "q69f2                                                       NaN\n",
       "q70a                                           Mostly favorable\n",
       "q70b                                           Very unfavorable\n",
       "q71f1                                            Mostly divided\n",
       "q72f2                                                       NaN\n",
       "q75af1                                                       No\n",
       "q75bf1                                                       No\n",
       "q75cf1                                                       No\n",
       "q75df1                           Yes, describes Hillary Clinton\n",
       "q75ef1                                                       No\n",
       "q75if2                                                      NaN\n",
       "q75jf2                                                      NaN\n",
       "q75kf2                                                      NaN\n",
       "q75lf2                                                      NaN\n",
       "q75mf2                                                      NaN\n",
       "q76af1                              Yes, describes Donald Trump\n",
       "q76bf1                                Don't know/Refused (VOL.)\n",
       "q76cf1                              Yes, describes Donald Trump\n",
       "q76df1                                                       No\n",
       "q76ef1                              Yes, describes Donald Trump\n",
       "q76if2                                                      NaN\n",
       "q76jf2                                                      NaN\n",
       "q76kf2                                                      NaN\n",
       "q76lf2                                                      NaN\n",
       "q76mf2                                                      NaN\n",
       "q77af1                                      Stay about the same\n",
       "q77bf1                                      Stay about the same\n",
       "q78af2                                                      NaN\n",
       "q78bf2                                                      NaN\n",
       "q80af1                                             Donald Trump\n",
       "q80bf1                                             Donald Trump\n",
       "q80cf1                                             Donald Trump\n",
       "q80df1                                             Donald Trump\n",
       "q80ef1                                             Donald Trump\n",
       "q80ff1                                             Donald Trump\n",
       "q80if2                                                      NaN\n",
       "q80jf2                                                      NaN\n",
       "q80kf2                                                      NaN\n",
       "q80lf2                                                      NaN\n",
       "q80mf2                                                      NaN\n",
       "q80nf2                                                      NaN\n",
       "q82f2                                                       NaN\n",
       "q83f2                                                       NaN\n",
       "q84f1                              Yes, too personally critical\n",
       "q85f1                              Yes, too personally critical\n",
       "q89f2                                                       NaN\n",
       "q90f1                                                    Raised\n",
       "q91f1                    [VOL. DO NOT READ] Don't know/Refused \n",
       "q92f1                                                       NaN\n",
       "q93f1                                     Illegal in most cases\n",
       "q95f1                                                 Bad thing\n",
       "q96f2                                                       NaN\n",
       "q97f1         U.S. does not have a responsibility to accept ...\n",
       "q98af2                                                      NaN\n",
       "q98bf2                                                      NaN\n",
       "q99                                                    Too much\n",
       "q100f1        The U.S. should deal with its own problems and...\n",
       "q101af1                                            An adversary\n",
       "q101bf2                                                     NaN\n",
       "q102f2                                                      NaN\n",
       "q103f2                                                      NaN\n",
       "q110                           Being held to a higher standard \n",
       "sex                                                        Male\n",
       "age                                                          57\n",
       "gen5                                           Boomer (1946-64)\n",
       "educ2         High school graduate (Grade 12 with diploma or...\n",
       "hisp                                                         No\n",
       "race3m1       White (e.g., Caucasian, European, Irish, Itali...\n",
       "race3m2                                                     NaN\n",
       "race3m3                                                     NaN\n",
       "race3m4                                                     NaN\n",
       "adults                                                        2\n",
       "racethn                                         White, non-Hisp\n",
       "birth_hisp                                                  NaN\n",
       "citizen                                                     NaN\n",
       "child                                               No children\n",
       "relig         Protestant (Baptist, Methodist, Non-denominati...\n",
       "chr                                                         NaN\n",
       "born                                                 Yes, would\n",
       "attend                                              Once a week\n",
       "income                                      50 to under $75,000\n",
       "reg           Are you ABSOLUTELY CERTAIN that you are regist...\n",
       "statereg0                                                   NaN\n",
       "statereg                                                    NaN\n",
       "statenv0                                                    NaN\n",
       "statenv                                                     NaN\n",
       "planreg                                                     NaN\n",
       "regfinalpr                                           Registered\n",
       "dayof                                                        No\n",
       "dayof2                                                       No\n",
       "statebal                                                    NaN\n",
       "sameday                               Pre-registration required\n",
       "regfinal                            Registered/Plan to/N.Dakota\n",
       "party                                                Republican\n",
       "partyln                                                     NaN\n",
       "partysum                                           Rep/lean Rep\n",
       "partyideo                                              Cons Rep\n",
       "q115          Does NOT represent the core principles and pos...\n",
       "q116                                                        NaN\n",
       "q117                                Preferred another candidate\n",
       "q118                                                        NaN\n",
       "ideo                                               Conservative\n",
       "hh1                                                           2\n",
       "hh3                                                           2\n",
       "ql1                                        Yes, have cell phone\n",
       "ql1a                                                        NaN\n",
       "qc1                                                         NaN\n",
       "money2                                                      NaN\n",
       "ckinfo                                                      NaN\n",
       "iphoneuse                                                  Dual\n",
       "hphoneuse                                               Dual HH\n",
       "cellweight                                                  NaN\n",
       "weight                                                  2.08824\n",
       "Name: 0, dtype: object"
      ]
     },
     "execution_count": 6,
     "metadata": {},
     "output_type": "execute_result"
    }
   ],
   "source": [
    "d.iloc[0]"
   ]
  },
  {
   "cell_type": "code",
   "execution_count": 7,
   "metadata": {},
   "outputs": [
    {
     "data": {
      "text/plain": [
       "White, non-Hisp    1793\n",
       "Hispanic            325\n",
       "Black, non-Hisp     237\n",
       "Other               186\n",
       "NaN                  42\n",
       "Name: racethn, dtype: int64"
      ]
     },
     "execution_count": 7,
     "metadata": {},
     "output_type": "execute_result"
    }
   ],
   "source": [
    "d['racethn'].value_counts(dropna=False)"
   ]
  },
  {
   "cell_type": "code",
   "execution_count": 8,
   "metadata": {},
   "outputs": [
    {
     "data": {
      "text/plain": [
       "White (e.g., Caucasian, European, Irish, Italian, Arab, Middle Eastern)                                     1998\n",
       "Black or African-American (e.g., Negro, Kenyan, Nigerian, Haitian)                                           266\n",
       "Hispanic/Latino (VOL.) (e.g., Mexican, Puerto Rican, Cuban)                                                  128\n",
       "Asian or Asian-American (e.g., Asian Indian, Chinese, Filipino, Vietnamese or other Asian origin groups)      85\n",
       "Native American/American Indian/Alaska Native (VOL.)                                                          40\n",
       "Refused (e.g., non-race answers like American, Human, purple) (VOL.)                                          36\n",
       "Don't know (VOL.)                                                                                             22\n",
       "Some other race (SPECIFY____ IF NEEDED: What race or races is that?)                                           5\n",
       "Pacific Islander/Native Hawaiian (VOL.)                                                                        3\n",
       "Name: race3m1, dtype: int64"
      ]
     },
     "execution_count": 8,
     "metadata": {},
     "output_type": "execute_result"
    }
   ],
   "source": [
    "d['race3m1'].value_counts(dropna=False)"
   ]
  },
  {
   "cell_type": "code",
   "execution_count": 9,
   "metadata": {},
   "outputs": [
    {
     "data": {
      "text/plain": [
       "NaN                                                                                                         2506\n",
       "Native American/American Indian/Alaska Native (VOL.)                                                          44\n",
       "Black or African-American (e.g., Negro, Kenyan, Nigerian, Haitian)                                            18\n",
       "White (e.g., Caucasian, European, Irish, Italian, Arab, Middle Eastern)                                        8\n",
       "Asian or Asian-American (e.g., Asian Indian, Chinese, Filipino, Vietnamese or other Asian origin groups)       5\n",
       "Pacific Islander/Native Hawaiian (VOL.)                                                                        2\n",
       "Name: race3m2, dtype: int64"
      ]
     },
     "execution_count": 9,
     "metadata": {},
     "output_type": "execute_result"
    }
   ],
   "source": [
    "d['race3m2'].value_counts(dropna=False)"
   ]
  },
  {
   "cell_type": "code",
   "execution_count": 10,
   "metadata": {},
   "outputs": [
    {
     "data": {
      "text/plain": [
       "NaN                                                                                                         2578\n",
       "Asian or Asian-American (e.g., Asian Indian, Chinese, Filipino, Vietnamese or other Asian origin groups)       4\n",
       "White (e.g., Caucasian, European, Irish, Italian, Arab, Middle Eastern)                                        1\n",
       "Name: race3m3, dtype: int64"
      ]
     },
     "execution_count": 10,
     "metadata": {},
     "output_type": "execute_result"
    }
   ],
   "source": [
    "d['race3m3'].value_counts(dropna=False)"
   ]
  },
  {
   "cell_type": "code",
   "execution_count": 11,
   "metadata": {},
   "outputs": [
    {
     "data": {
      "text/plain": [
       "NaN    2583\n",
       "Name: race3m4, dtype: int64"
      ]
     },
     "execution_count": 11,
     "metadata": {},
     "output_type": "execute_result"
    }
   ],
   "source": [
    "d['race3m4'].value_counts(dropna=False)"
   ]
  },
  {
   "cell_type": "markdown",
   "metadata": {},
   "source": [
    "Here's the text from the readme.txt:\n",
    "\n",
    "    *The combined race variable (racecmb) was computed using the following syntax:\n",
    "    recode race_1 (1=1) (2=2) (3=3) (4 thru 7=5) (8 thru 9=9) into racecmb.\n",
    "    if race_2>0 and race_2 <8 racecmb=4.\n",
    "    variable label racecmb \"Combining Race\".\n",
    "    value label racecmb\n",
    "    1 \"White\"\n",
    "    2 \"Black or African-American\"\n",
    "    3 \"Asian or Asian-American\"\n",
    "    4 \"Mixed Race\"\n",
    "    5 \"Or some other race\"\n",
    "    9 \"Dont know/Refused (VOL.)\"."
   ]
  },
  {
   "cell_type": "code",
   "execution_count": 22,
   "metadata": {},
   "outputs": [],
   "source": [
    "#from collections import defaultdict\n",
    "racethn_to_index = {\n",
    "    \"White (e.g., Caucasian, European, Irish, Italian, Arab, Middle Eastern)\": 1,\n",
    "    \"Black or African-American (e.g., Negro, Kenyan, Nigerian, Haitian)\": 2,\n",
    "    \"Asian or Asian-American (e.g., Asian Indian, Chinese, Filipino, Vietnamese or other Asian origin groups)\": 3,\n",
    "    \"Some other race (SPECIFY____ IF NEEDED: What race or races is that?)\": 4,\n",
    "    \"Native American/American Indian/Alaska Native (VOL.)\": 5,\n",
    "    \"Pacific Islander/Native Hawaiian (VOL.)\": 6,\n",
    "    \"Hispanic/Latino (VOL.) (e.g., Mexican, Puerto Rican, Cuban)\": 7,\n",
    "    \"Don't know (VOL.)\": 8,\n",
    "    \"Refused (e.g., non-race answers like American, Human, purple) (VOL.)\": 9\n",
    "}\n"
   ]
  },
  {
   "cell_type": "code",
   "execution_count": 24,
   "metadata": {},
   "outputs": [
    {
     "data": {
      "text/plain": [
       "1    1998\n",
       "2     266\n",
       "7     128\n",
       "3      85\n",
       "5      40\n",
       "9      36\n",
       "8      22\n",
       "4       5\n",
       "6       3\n",
       "Name: race3m1, dtype: int64"
      ]
     },
     "execution_count": 24,
     "metadata": {},
     "output_type": "execute_result"
    }
   ],
   "source": [
    "d['race3m1'].map(racethn_to_index).value_counts(dropna=False)"
   ]
  },
  {
   "cell_type": "code",
   "execution_count": 25,
   "metadata": {},
   "outputs": [
    {
     "data": {
      "text/plain": [
       "White (e.g., Caucasian, European, Irish, Italian, Arab, Middle Eastern)                                     1998\n",
       "Black or African-American (e.g., Negro, Kenyan, Nigerian, Haitian)                                           266\n",
       "Hispanic/Latino (VOL.) (e.g., Mexican, Puerto Rican, Cuban)                                                  128\n",
       "Asian or Asian-American (e.g., Asian Indian, Chinese, Filipino, Vietnamese or other Asian origin groups)      85\n",
       "Native American/American Indian/Alaska Native (VOL.)                                                          40\n",
       "Refused (e.g., non-race answers like American, Human, purple) (VOL.)                                          36\n",
       "Don't know (VOL.)                                                                                             22\n",
       "Some other race (SPECIFY____ IF NEEDED: What race or races is that?)                                           5\n",
       "Pacific Islander/Native Hawaiian (VOL.)                                                                        3\n",
       "Name: race3m1, dtype: int64"
      ]
     },
     "execution_count": 25,
     "metadata": {},
     "output_type": "execute_result"
    }
   ],
   "source": [
    "d['race3m1'].value_counts(dropna=False)"
   ]
  },
  {
   "cell_type": "code",
   "execution_count": 26,
   "metadata": {
    "collapsed": true
   },
   "outputs": [],
   "source": [
    "d['race3m1_index'] = d['race3m1'].map(racethn_to_index)\n",
    "d['race3m2_index'] = d['race3m2'].map(racethn_to_index)"
   ]
  },
  {
   "cell_type": "code",
   "execution_count": 29,
   "metadata": {},
   "outputs": [],
   "source": [
    "def get_racecmb(row):\n",
    "    if ((row['race3m2_index'] > 0) & (row['race3m2_index'] < 8)):\n",
    "        return 'Mixed Race'\n",
    "    elif (row['race3m1_index'] == 1):\n",
    "        return 'White'\n",
    "    elif (row['race3m1_index'] == 2):\n",
    "        return 'Black or African-American'\n",
    "    elif (row['race3m1_index'] == 3):\n",
    "        return 'Asian or Asian-American'\n",
    "    elif (row['race3m1_index'] >= 4 & row['race3m1_index'] <= 7):\n",
    "        return 'Or some other race'\n",
    "    elif ((row['race3m1_index'] >= 8) & (row['race3m1_index'] <= 9)):\n",
    "        return 'Dont know/Refused (VOL.)'"
   ]
  },
  {
   "cell_type": "code",
   "execution_count": 31,
   "metadata": {},
   "outputs": [
    {
     "data": {
      "text/plain": [
       "White                        1935\n",
       "Black or African-American     258\n",
       "Or some other race            230\n",
       "Asian or Asian-American        83\n",
       "Mixed Race                     77\n",
       "dtype: int64"
      ]
     },
     "execution_count": 31,
     "metadata": {},
     "output_type": "execute_result"
    }
   ],
   "source": [
    "d.apply(get_racecmb, axis=1).value_counts(dropna=False)"
   ]
  },
  {
   "cell_type": "code",
   "execution_count": 34,
   "metadata": {
    "collapsed": true
   },
   "outputs": [],
   "source": [
    "d['racecmb'] = d.apply(get_racecmb, axis=1)"
   ]
  },
  {
   "cell_type": "markdown",
   "metadata": {},
   "source": [
    "**TODO** sanity check above numbers... are they right?"
   ]
  },
  {
   "cell_type": "code",
   "execution_count": 35,
   "metadata": {},
   "outputs": [
    {
     "data": {
      "text/plain": [
       "White                        1935\n",
       "Black or African-American     258\n",
       "Or some other race            230\n",
       "Asian or Asian-American        83\n",
       "Mixed Race                     77\n",
       "Name: racecmb, dtype: int64"
      ]
     },
     "execution_count": 35,
     "metadata": {},
     "output_type": "execute_result"
    }
   ],
   "source": [
    "d['racecmb'].value_counts(dropna=False)"
   ]
  },
  {
   "cell_type": "code",
   "execution_count": null,
   "metadata": {
    "collapsed": true
   },
   "outputs": [],
   "source": []
  }
 ],
 "metadata": {
  "kernelspec": {
   "display_name": "Python 3",
   "language": "python",
   "name": "python3"
  },
  "language_info": {
   "codemirror_mode": {
    "name": "ipython",
    "version": 3
   },
   "file_extension": ".py",
   "mimetype": "text/x-python",
   "name": "python",
   "nbconvert_exporter": "python",
   "pygments_lexer": "ipython3",
   "version": "3.6.2"
  }
 },
 "nbformat": 4,
 "nbformat_minor": 2
}
