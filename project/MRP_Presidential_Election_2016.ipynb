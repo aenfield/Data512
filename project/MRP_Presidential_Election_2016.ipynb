{
 "cells": [
  {
   "cell_type": "code",
   "execution_count": 1,
   "metadata": {
    "collapsed": true
   },
   "outputs": [],
   "source": [
    "import pandas as pd\n",
    "import numpy as np\n",
    "import seaborn as sns\n",
    "import matplotlib.pyplot as plt\n",
    "%matplotlib inline\n",
    "\n",
    "import pymc3 as pm\n",
    "\n",
    "# to generate the full matrix of input data from a list of possibilities\n",
    "import itertools \n",
    "\n",
    "# to sanity check some pymc3 results against normal logistic regression results\n",
    "from sklearn.linear_model import LogisticRegression \n",
    "\n",
    "# to enable saving traces that take a long time to generate\n",
    "import pickle"
   ]
  },
  {
   "cell_type": "code",
   "execution_count": 4,
   "metadata": {
    "collapsed": true
   },
   "outputs": [],
   "source": [
    "pd.set_option('display.max_rows', 500)"
   ]
  },
  {
   "cell_type": "markdown",
   "metadata": {},
   "source": [
    "**TODO** Add in all sections before code"
   ]
  },
  {
   "cell_type": "markdown",
   "metadata": {},
   "source": [
    "# Load and prep Pew poll data"
   ]
  },
  {
   "cell_type": "code",
   "execution_count": 8,
   "metadata": {},
   "outputs": [
    {
     "data": {
      "text/plain": [
       "(2583, 6)"
      ]
     },
     "execution_count": 8,
     "metadata": {},
     "output_type": "execute_result"
    }
   ],
   "source": [
    "# TODO move to local dir and check in when it looks good\n",
    "d = pd.read_csv('~/OneDrive/Personal/School/Master\\'s/DATA 512/Project/Oct16/pew_poll.csv')\n",
    "d.shape"
   ]
  },
  {
   "cell_type": "code",
   "execution_count": 9,
   "metadata": {},
   "outputs": [
    {
     "data": {
      "text/html": [
       "<div>\n",
       "<style scoped>\n",
       "    .dataframe tbody tr th:only-of-type {\n",
       "        vertical-align: middle;\n",
       "    }\n",
       "\n",
       "    .dataframe tbody tr th {\n",
       "        vertical-align: top;\n",
       "    }\n",
       "\n",
       "    .dataframe thead th {\n",
       "        text-align: right;\n",
       "    }\n",
       "</style>\n",
       "<table border=\"1\" class=\"dataframe\">\n",
       "  <thead>\n",
       "    <tr style=\"text-align: right;\">\n",
       "      <th></th>\n",
       "      <th>state</th>\n",
       "      <th>sex</th>\n",
       "      <th>q10horseGP</th>\n",
       "      <th>race3m1</th>\n",
       "      <th>race3m2</th>\n",
       "      <th>weight</th>\n",
       "    </tr>\n",
       "  </thead>\n",
       "  <tbody>\n",
       "    <tr>\n",
       "      <th>0</th>\n",
       "      <td>Minnesota</td>\n",
       "      <td>Male</td>\n",
       "      <td>Trump/lean Trump</td>\n",
       "      <td>White (e.g., Caucasian, European, Irish, Itali...</td>\n",
       "      <td>NaN</td>\n",
       "      <td>2.088235</td>\n",
       "    </tr>\n",
       "    <tr>\n",
       "      <th>1</th>\n",
       "      <td>Delaware</td>\n",
       "      <td>Female</td>\n",
       "      <td>Clinton/lean Clinton</td>\n",
       "      <td>White (e.g., Caucasian, European, Irish, Itali...</td>\n",
       "      <td>NaN</td>\n",
       "      <td>1.264706</td>\n",
       "    </tr>\n",
       "  </tbody>\n",
       "</table>\n",
       "</div>"
      ],
      "text/plain": [
       "       state     sex            q10horseGP  \\\n",
       "0  Minnesota    Male      Trump/lean Trump   \n",
       "1   Delaware  Female  Clinton/lean Clinton   \n",
       "\n",
       "                                             race3m1 race3m2    weight  \n",
       "0  White (e.g., Caucasian, European, Irish, Itali...     NaN  2.088235  \n",
       "1  White (e.g., Caucasian, European, Irish, Itali...     NaN  1.264706  "
      ]
     },
     "execution_count": 9,
     "metadata": {},
     "output_type": "execute_result"
    }
   ],
   "source": [
    "d[:2]"
   ]
  },
  {
   "cell_type": "code",
   "execution_count": 10,
   "metadata": {
    "collapsed": true
   },
   "outputs": [],
   "source": [
    "#from collections import defaultdict\n",
    "racethn_to_index = {\n",
    "    \"White (e.g., Caucasian, European, Irish, Italian, Arab, Middle Eastern)\": 1,\n",
    "    \"Black or African-American (e.g., Negro, Kenyan, Nigerian, Haitian)\": 2,\n",
    "    \"Asian or Asian-American (e.g., Asian Indian, Chinese, Filipino, Vietnamese or other Asian origin groups)\": 3,\n",
    "    \"Some other race (SPECIFY____ IF NEEDED: What race or races is that?)\": 4,\n",
    "    \"Native American/American Indian/Alaska Native (VOL.)\": 5,\n",
    "    \"Pacific Islander/Native Hawaiian (VOL.)\": 6,\n",
    "    \"Hispanic/Latino (VOL.) (e.g., Mexican, Puerto Rican, Cuban)\": 7,\n",
    "    \"Don't know (VOL.)\": 8,\n",
    "    \"Refused (e.g., non-race answers like American, Human, purple) (VOL.)\": 9\n",
    "}\n",
    "\n",
    "d['race3m1_index'] = d['race3m1'].map(racethn_to_index)\n",
    "d['race3m2_index'] = d['race3m2'].map(racethn_to_index)"
   ]
  },
  {
   "cell_type": "code",
   "execution_count": 11,
   "metadata": {
    "collapsed": true
   },
   "outputs": [],
   "source": [
    "def get_racecmb(row):\n",
    "    if ((row['race3m2_index'] > 0) & (row['race3m2_index'] < 8)):\n",
    "        return 'Mixed Race'\n",
    "    elif (row['race3m1_index'] == 1):\n",
    "        return 'White'\n",
    "    elif (row['race3m1_index'] == 2):\n",
    "        return 'Black or African-American'\n",
    "    elif (row['race3m1_index'] == 3):\n",
    "        return 'Asian or Asian-American'\n",
    "    elif (row['race3m1_index'] >= 4 & row['race3m1_index'] <= 7):\n",
    "        return 'Or some other race'\n",
    "    elif ((row['race3m1_index'] >= 8) & (row['race3m1_index'] <= 9)):\n",
    "        return 'Dont know/Refused (VOL.)'"
   ]
  },
  {
   "cell_type": "code",
   "execution_count": 12,
   "metadata": {},
   "outputs": [],
   "source": [
    "d['racecmb'] = d.apply(get_racecmb, axis=1)"
   ]
  },
  {
   "cell_type": "code",
   "execution_count": 13,
   "metadata": {},
   "outputs": [
    {
     "data": {
      "text/plain": [
       "White                        1935\n",
       "Black or African-American     258\n",
       "Or some other race            230\n",
       "Asian or Asian-American        83\n",
       "Mixed Race                     77\n",
       "Name: racecmb, dtype: int64"
      ]
     },
     "execution_count": 13,
     "metadata": {},
     "output_type": "execute_result"
    }
   ],
   "source": [
    "d['racecmb'].value_counts(dropna=False)"
   ]
  },
  {
   "cell_type": "markdown",
   "metadata": {},
   "source": [
    "**TODO** sanity check above numbers... are they right?"
   ]
  },
  {
   "cell_type": "code",
   "execution_count": 16,
   "metadata": {},
   "outputs": [
    {
     "data": {
      "text/plain": [
       "Clinton/lean Clinton     972\n",
       "Trump/lean Trump         858\n",
       "Not registered           466\n",
       "Johnson/lean Johnson     124\n",
       "DK-refused to lean        76\n",
       "Stein/lean Stein          57\n",
       "Other-refused to lean     30\n",
       "Name: q10horseGP, dtype: int64"
      ]
     },
     "execution_count": 16,
     "metadata": {},
     "output_type": "execute_result"
    }
   ],
   "source": [
    "d['q10horseGP'].value_counts(dropna=False)"
   ]
  },
  {
   "cell_type": "code",
   "execution_count": 17,
   "metadata": {},
   "outputs": [
    {
     "data": {
      "text/plain": [
       "(1830, 9)"
      ]
     },
     "execution_count": 17,
     "metadata": {},
     "output_type": "execute_result"
    }
   ],
   "source": [
    "d_only = d[(d['q10horseGP'] == 'Clinton/lean Clinton') | \n",
    "           (d['q10horseGP'] == 'Trump/lean Trump')]\n",
    "d_only.shape"
   ]
  },
  {
   "cell_type": "code",
   "execution_count": 18,
   "metadata": {},
   "outputs": [
    {
     "data": {
      "text/plain": [
       "Clinton/lean Clinton    972\n",
       "Trump/lean Trump        858\n",
       "Name: q10horseGP, dtype: int64"
      ]
     },
     "execution_count": 18,
     "metadata": {},
     "output_type": "execute_result"
    }
   ],
   "source": [
    "d_only['q10horseGP'].value_counts(dropna=False)"
   ]
  },
  {
   "cell_type": "markdown",
   "metadata": {},
   "source": [
    "**TODO** note revisit of states now that we've filtered."
   ]
  },
  {
   "cell_type": "code",
   "execution_count": 24,
   "metadata": {},
   "outputs": [
    {
     "data": {
      "text/plain": [
       "50"
      ]
     },
     "execution_count": 24,
     "metadata": {},
     "output_type": "execute_result"
    }
   ],
   "source": [
    "len(d_only['state'].unique())"
   ]
  },
  {
   "cell_type": "markdown",
   "metadata": {},
   "source": [
    "Talk about how we should have 51..."
   ]
  },
  {
   "cell_type": "code",
   "execution_count": 25,
   "metadata": {},
   "outputs": [
    {
     "data": {
      "text/plain": [
       "California              158\n",
       "Texas                   133\n",
       "Florida                 123\n",
       "New York                121\n",
       "Pennsylvania             75\n",
       "Ohio                     72\n",
       "New Jersey               68\n",
       "Georgia                  62\n",
       "Michigan                 61\n",
       "North Carolina           61\n",
       "Virginia                 60\n",
       "Illinois                 57\n",
       "Minnesota                48\n",
       "Arizona                  45\n",
       "Washington               45\n",
       "Wisconsin                43\n",
       "Tennessee                37\n",
       "Kentucky                 34\n",
       "Missouri                 34\n",
       "Colorado                 33\n",
       "Indiana                  33\n",
       "South Carolina           33\n",
       "Maryland                 30\n",
       "Oregon                   29\n",
       "Louisiana                28\n",
       "Massachusetts            28\n",
       "Oklahoma                 26\n",
       "Alabama                  22\n",
       "Iowa                     19\n",
       "Kansas                   19\n",
       "Nevada                   18\n",
       "Idaho                    18\n",
       "Connecticut              17\n",
       "West Virginia            15\n",
       "Utah                     15\n",
       "Mississippi              14\n",
       "Arkansas                 12\n",
       "District of Columbia     11\n",
       "Nebraska                 10\n",
       "Maine                    10\n",
       "Hawaii                    8\n",
       "Delaware                  8\n",
       "New Mexico                8\n",
       "Rhode Island              7\n",
       "North Dakota              7\n",
       "Alaska                    5\n",
       "New Hampshire             4\n",
       "Vermont                   3\n",
       "Wyoming                   2\n",
       "Montana                   1\n",
       "Name: state, dtype: int64"
      ]
     },
     "execution_count": 25,
     "metadata": {},
     "output_type": "execute_result"
    }
   ],
   "source": [
    "d_only['state'].value_counts(dropna=False)"
   ]
  },
  {
   "cell_type": "code",
   "execution_count": 26,
   "metadata": {},
   "outputs": [
    {
     "data": {
      "text/html": [
       "<div>\n",
       "<style scoped>\n",
       "    .dataframe tbody tr th:only-of-type {\n",
       "        vertical-align: middle;\n",
       "    }\n",
       "\n",
       "    .dataframe tbody tr th {\n",
       "        vertical-align: top;\n",
       "    }\n",
       "\n",
       "    .dataframe thead th {\n",
       "        text-align: right;\n",
       "    }\n",
       "</style>\n",
       "<table border=\"1\" class=\"dataframe\">\n",
       "  <thead>\n",
       "    <tr style=\"text-align: right;\">\n",
       "      <th></th>\n",
       "      <th>state</th>\n",
       "      <th>sex</th>\n",
       "      <th>q10horseGP</th>\n",
       "      <th>race3m1</th>\n",
       "      <th>race3m2</th>\n",
       "      <th>weight</th>\n",
       "      <th>race3m1_index</th>\n",
       "      <th>race3m2_index</th>\n",
       "      <th>racecmb</th>\n",
       "    </tr>\n",
       "  </thead>\n",
       "  <tbody>\n",
       "  </tbody>\n",
       "</table>\n",
       "</div>"
      ],
      "text/plain": [
       "Empty DataFrame\n",
       "Columns: [state, sex, q10horseGP, race3m1, race3m2, weight, race3m1_index, race3m2_index, racecmb]\n",
       "Index: []"
      ]
     },
     "execution_count": 26,
     "metadata": {},
     "output_type": "execute_result"
    }
   ],
   "source": [
    "d_only[d_only['state'] == 'South Dakota']"
   ]
  },
  {
   "cell_type": "markdown",
   "metadata": {},
   "source": [
    "We don't have any rows in our two-party data w/ South Dakota, so absent any extra work on our part, we won't have a dummy indicator variable for SD, which'll make it harder to do stuff w/ the state later. We'll add it here when we're forming the dummies w/ states."
   ]
  },
  {
   "cell_type": "code",
   "execution_count": 28,
   "metadata": {},
   "outputs": [
    {
     "data": {
      "text/plain": [
       "(1830, 51)"
      ]
     },
     "execution_count": 28,
     "metadata": {},
     "output_type": "execute_result"
    }
   ],
   "source": [
    "# add South Dakota, using the same index to make sure we don't extra cols (prob a better way to do this)\n",
    "state_dummies = pd.concat([pd.get_dummies(d_only['state']), \n",
    "                           pd.Series(name='South Dakota', data=np.repeat(0, len(d_only)), index=d_only.index)], axis=1)\n",
    "# alphabetize to put SD in the right spot\n",
    "state_dummies = state_dummies.reindex(sorted(state_dummies.columns), axis=1)\n",
    "state_dummies.shape"
   ]
  },
  {
   "cell_type": "code",
   "execution_count": 29,
   "metadata": {},
   "outputs": [
    {
     "data": {
      "text/plain": [
       "51"
      ]
     },
     "execution_count": 29,
     "metadata": {},
     "output_type": "execute_result"
    }
   ],
   "source": [
    "state_count = len(state_dummies.columns.values)\n",
    "state_count"
   ]
  },
  {
   "cell_type": "code",
   "execution_count": 45,
   "metadata": {},
   "outputs": [
    {
     "data": {
      "text/plain": [
       "{0: 'Alabama',\n",
       " 1: 'Alaska',\n",
       " 2: 'Arizona',\n",
       " 3: 'Arkansas',\n",
       " 4: 'California',\n",
       " 5: 'Colorado',\n",
       " 6: 'Connecticut',\n",
       " 7: 'Delaware',\n",
       " 8: 'District of Columbia',\n",
       " 9: 'Florida',\n",
       " 10: 'Georgia',\n",
       " 11: 'Hawaii',\n",
       " 12: 'Idaho',\n",
       " 13: 'Illinois',\n",
       " 14: 'Indiana',\n",
       " 15: 'Iowa',\n",
       " 16: 'Kansas',\n",
       " 17: 'Kentucky',\n",
       " 18: 'Louisiana',\n",
       " 19: 'Maine',\n",
       " 20: 'Maryland',\n",
       " 21: 'Massachusetts',\n",
       " 22: 'Michigan',\n",
       " 23: 'Minnesota',\n",
       " 24: 'Mississippi',\n",
       " 25: 'Missouri',\n",
       " 26: 'Montana',\n",
       " 27: 'Nebraska',\n",
       " 28: 'Nevada',\n",
       " 29: 'New Hampshire',\n",
       " 30: 'New Jersey',\n",
       " 31: 'New Mexico',\n",
       " 32: 'New York',\n",
       " 33: 'North Carolina',\n",
       " 34: 'North Dakota',\n",
       " 35: 'Ohio',\n",
       " 36: 'Oklahoma',\n",
       " 37: 'Oregon',\n",
       " 38: 'Pennsylvania',\n",
       " 39: 'Rhode Island',\n",
       " 40: 'South Carolina',\n",
       " 41: 'South Dakota',\n",
       " 42: 'Tennessee',\n",
       " 43: 'Texas',\n",
       " 44: 'Utah',\n",
       " 45: 'Vermont',\n",
       " 46: 'Virginia',\n",
       " 47: 'Washington',\n",
       " 48: 'West Virginia',\n",
       " 49: 'Wisconsin',\n",
       " 50: 'Wyoming'}"
      ]
     },
     "execution_count": 45,
     "metadata": {},
     "output_type": "execute_result"
    }
   ],
   "source": [
    "state_number_to_name = dict(list(zip(range(0,51), sorted(state_dummies.columns.values))))\n",
    "state_number_to_name"
   ]
  },
  {
   "cell_type": "code",
   "execution_count": 30,
   "metadata": {},
   "outputs": [
    {
     "data": {
      "text/plain": [
       "(1830, 57)"
      ]
     },
     "execution_count": 30,
     "metadata": {},
     "output_type": "execute_result"
    }
   ],
   "source": [
    "d_only_dummies = pd.concat([pd.get_dummies(d_only['sex'], drop_first=True),\n",
    "                            pd.get_dummies(d_only['racecmb']),\n",
    "                            state_dummies], axis=1)\n",
    "d_only_dummies.shape"
   ]
  },
  {
   "cell_type": "code",
   "execution_count": 31,
   "metadata": {},
   "outputs": [
    {
     "data": {
      "text/html": [
       "<div>\n",
       "<style scoped>\n",
       "    .dataframe tbody tr th:only-of-type {\n",
       "        vertical-align: middle;\n",
       "    }\n",
       "\n",
       "    .dataframe tbody tr th {\n",
       "        vertical-align: top;\n",
       "    }\n",
       "\n",
       "    .dataframe thead th {\n",
       "        text-align: right;\n",
       "    }\n",
       "</style>\n",
       "<table border=\"1\" class=\"dataframe\">\n",
       "  <thead>\n",
       "    <tr style=\"text-align: right;\">\n",
       "      <th></th>\n",
       "      <th>Male</th>\n",
       "      <th>Asian or Asian-American</th>\n",
       "      <th>Black or African-American</th>\n",
       "      <th>Mixed Race</th>\n",
       "      <th>Or some other race</th>\n",
       "      <th>White</th>\n",
       "      <th>Alabama</th>\n",
       "      <th>Alaska</th>\n",
       "      <th>Arizona</th>\n",
       "      <th>Arkansas</th>\n",
       "      <th>...</th>\n",
       "      <th>South Dakota</th>\n",
       "      <th>Tennessee</th>\n",
       "      <th>Texas</th>\n",
       "      <th>Utah</th>\n",
       "      <th>Vermont</th>\n",
       "      <th>Virginia</th>\n",
       "      <th>Washington</th>\n",
       "      <th>West Virginia</th>\n",
       "      <th>Wisconsin</th>\n",
       "      <th>Wyoming</th>\n",
       "    </tr>\n",
       "  </thead>\n",
       "  <tbody>\n",
       "    <tr>\n",
       "      <th>0</th>\n",
       "      <td>1</td>\n",
       "      <td>0</td>\n",
       "      <td>0</td>\n",
       "      <td>0</td>\n",
       "      <td>0</td>\n",
       "      <td>1</td>\n",
       "      <td>0</td>\n",
       "      <td>0</td>\n",
       "      <td>0</td>\n",
       "      <td>0</td>\n",
       "      <td>...</td>\n",
       "      <td>0</td>\n",
       "      <td>0</td>\n",
       "      <td>0</td>\n",
       "      <td>0</td>\n",
       "      <td>0</td>\n",
       "      <td>0</td>\n",
       "      <td>0</td>\n",
       "      <td>0</td>\n",
       "      <td>0</td>\n",
       "      <td>0</td>\n",
       "    </tr>\n",
       "    <tr>\n",
       "      <th>1</th>\n",
       "      <td>0</td>\n",
       "      <td>0</td>\n",
       "      <td>0</td>\n",
       "      <td>0</td>\n",
       "      <td>0</td>\n",
       "      <td>1</td>\n",
       "      <td>0</td>\n",
       "      <td>0</td>\n",
       "      <td>0</td>\n",
       "      <td>0</td>\n",
       "      <td>...</td>\n",
       "      <td>0</td>\n",
       "      <td>0</td>\n",
       "      <td>0</td>\n",
       "      <td>0</td>\n",
       "      <td>0</td>\n",
       "      <td>0</td>\n",
       "      <td>0</td>\n",
       "      <td>0</td>\n",
       "      <td>0</td>\n",
       "      <td>0</td>\n",
       "    </tr>\n",
       "  </tbody>\n",
       "</table>\n",
       "<p>2 rows × 57 columns</p>\n",
       "</div>"
      ],
      "text/plain": [
       "   Male  Asian or Asian-American  Black or African-American  Mixed Race  \\\n",
       "0     1                        0                          0           0   \n",
       "1     0                        0                          0           0   \n",
       "\n",
       "   Or some other race  White  Alabama  Alaska  Arizona  Arkansas   ...     \\\n",
       "0                   0      1        0       0        0         0   ...      \n",
       "1                   0      1        0       0        0         0   ...      \n",
       "\n",
       "   South Dakota  Tennessee  Texas  Utah  Vermont  Virginia  Washington  \\\n",
       "0             0          0      0     0        0         0           0   \n",
       "1             0          0      0     0        0         0           0   \n",
       "\n",
       "   West Virginia  Wisconsin  Wyoming  \n",
       "0              0          0        0  \n",
       "1              0          0        0  \n",
       "\n",
       "[2 rows x 57 columns]"
      ]
     },
     "execution_count": 31,
     "metadata": {},
     "output_type": "execute_result"
    }
   ],
   "source": [
    "d_only_dummies[:2]"
   ]
  },
  {
   "cell_type": "markdown",
   "metadata": {},
   "source": [
    "# Model"
   ]
  },
  {
   "cell_type": "code",
   "execution_count": 19,
   "metadata": {},
   "outputs": [
    {
     "data": {
      "text/plain": [
       "(972, 858)"
      ]
     },
     "execution_count": 19,
     "metadata": {},
     "output_type": "execute_result"
    }
   ],
   "source": [
    "y_obs_categorical = pd.Categorical(d_only['q10horseGP'])\n",
    "y_obs = y_obs_categorical.codes\n",
    "\n",
    "sum(y_obs == 0), sum(y_obs == 1)"
   ]
  },
  {
   "cell_type": "code",
   "execution_count": 20,
   "metadata": {},
   "outputs": [
    {
     "data": {
      "text/plain": [
       "[Trump/lean Trump, Clinton/lean Clinton, Trump/lean Trump, Trump/lean Trump, Clinton/lean Clinton, ..., Trump/lean Trump, Clinton/lean Clinton, Clinton/lean Clinton, Clinton/lean Clinton, Clinton/lean Clinton]\n",
       "Length: 1830\n",
       "Categories (2, object): [Clinton/lean Clinton, Trump/lean Trump]"
      ]
     },
     "execution_count": 20,
     "metadata": {},
     "output_type": "execute_result"
    }
   ],
   "source": [
    "y_obs_categorical"
   ]
  },
  {
   "cell_type": "markdown",
   "metadata": {},
   "source": [
    "Clinton is 0, Trump is 1."
   ]
  },
  {
   "cell_type": "markdown",
   "metadata": {},
   "source": [
    "**TODO** Note when writing docs that I have a lot of simpler and other models in the research notebook, and that I'm only showing the final one here."
   ]
  },
  {
   "cell_type": "code",
   "execution_count": 34,
   "metadata": {},
   "outputs": [
    {
     "data": {
      "text/plain": [
       "((1830,), (1830, 5), (1830, 51))"
      ]
     },
     "execution_count": 34,
     "metadata": {},
     "output_type": "execute_result"
    }
   ],
   "source": [
    "vals_sex = d_only_dummies.values[:,0]\n",
    "vals_racecmb = d_only_dummies.values[:,1:6]\n",
    "vals_state = d_only_dummies.values[:,6:]\n",
    "\n",
    "vals_sex.shape, vals_racecmb.shape, vals_state.shape"
   ]
  },
  {
   "cell_type": "code",
   "execution_count": 57,
   "metadata": {
    "collapsed": true
   },
   "outputs": [],
   "source": [
    "with pm.Model() as model_complete:\n",
    "    alpha = pm.Normal('alpha', mu=0, sd=10)\n",
    "    beta_sex = pm.Normal('beta_sex', mu=0, sd=10)\n",
    "    \n",
    "    mu_race = pm.Normal('mu_race', mu=0, sd=10)\n",
    "    sigma_race = pm.HalfCauchy('sigma_race', 5)\n",
    "    beta_race = pm.Normal('beta_race', mu=mu_race, sd=sigma_race, \n",
    "                          shape=len(d_only['racecmb'].unique()))\n",
    "    \n",
    "    mu_state = pm.Normal('mu_state', mu=0, sd=10)\n",
    "    beta_state = pm.Normal('beta_state', mu=mu_state, sd=1, \n",
    "                          shape=state_count)\n",
    "\n",
    "    mu = alpha + \\\n",
    "         vals_sex * beta_sex + \\\n",
    "         pm.math.dot(vals_racecmb, beta_race) + \\\n",
    "         pm.math.dot(vals_state, beta_state)\n",
    "            \n",
    "    theta = pm.Deterministic('theta', 1 / (1 + pm.math.exp(-mu)))\n",
    "    \n",
    "    y = pm.Bernoulli('y', theta, observed=y_obs)"
   ]
  },
  {
   "cell_type": "markdown",
   "metadata": {},
   "source": [
    "**P! TODO** I could try w/ smaller SDs (5), and with potentially diff priors, perhaps think further about how to get more shrinkage, etc?"
   ]
  },
  {
   "cell_type": "code",
   "execution_count": 58,
   "metadata": {},
   "outputs": [
    {
     "name": "stderr",
     "output_type": "stream",
     "text": [
      "Auto-assigning NUTS sampler...\n",
      "Initializing NUTS using jitter+adapt_diag...\n",
      "100%|█████████▉| 1999/2000 [07:00<00:00,  4.04it/s]/Users/andrewenfield/miniconda3/envs/anaconda/lib/python3.6/site-packages/pymc3/step_methods/hmc/nuts.py:459: UserWarning: Chain 0 reached the maximum tree depth. Increase max_treedepth, increase target_accept or reparameterize.\n",
      "  'reparameterize.' % self._chain_id)\n",
      "100%|██████████| 2000/2000 [07:00<00:00,  4.75it/s]\n"
     ]
    }
   ],
   "source": [
    "with model_complete:\n",
    "    trace_complete = pm.sample(1000, n_init=50000, tune=1000)"
   ]
  },
  {
   "cell_type": "code",
   "execution_count": 59,
   "metadata": {
    "collapsed": true
   },
   "outputs": [],
   "source": [
    "varnames_model_complete = ['alpha', 'beta_sex', \n",
    "                           'mu_race', 'sigma_race', 'beta_race',\n",
    "                           'mu_state', 'beta_state']"
   ]
  },
  {
   "cell_type": "code",
   "execution_count": 60,
   "metadata": {},
   "outputs": [
    {
     "data": {
      "text/plain": [
       "array([[<matplotlib.axes._subplots.AxesSubplot object at 0x11d34f550>,\n",
       "        <matplotlib.axes._subplots.AxesSubplot object at 0x11bf6deb8>],\n",
       "       [<matplotlib.axes._subplots.AxesSubplot object at 0x11b04af60>,\n",
       "        <matplotlib.axes._subplots.AxesSubplot object at 0x11a758d30>],\n",
       "       [<matplotlib.axes._subplots.AxesSubplot object at 0x123200cf8>,\n",
       "        <matplotlib.axes._subplots.AxesSubplot object at 0x11c64eb00>],\n",
       "       [<matplotlib.axes._subplots.AxesSubplot object at 0x1231f9d68>,\n",
       "        <matplotlib.axes._subplots.AxesSubplot object at 0x127705438>],\n",
       "       [<matplotlib.axes._subplots.AxesSubplot object at 0x1277122b0>,\n",
       "        <matplotlib.axes._subplots.AxesSubplot object at 0x1277a8f60>],\n",
       "       [<matplotlib.axes._subplots.AxesSubplot object at 0x1277f2b70>,\n",
       "        <matplotlib.axes._subplots.AxesSubplot object at 0x12785e908>],\n",
       "       [<matplotlib.axes._subplots.AxesSubplot object at 0x1278bf208>,\n",
       "        <matplotlib.axes._subplots.AxesSubplot object at 0x1279354e0>]], dtype=object)"
      ]
     },
     "execution_count": 60,
     "metadata": {},
     "output_type": "execute_result"
    },
    {
     "data": {
      "image/png": "[encoded data removed]",
      "text/plain": [
       "<matplotlib.figure.Figure at 0x11d36c588>"
      ]
     },
     "metadata": {},
     "output_type": "display_data"
    }
   ],
   "source": [
    "pm.traceplot(trace_complete, varnames_model_complete)"
   ]
  },
  {
   "cell_type": "code",
   "execution_count": 61,
   "metadata": {},
   "outputs": [
    {
     "data": {
      "text/html": [
       "<div>\n",
       "<style scoped>\n",
       "    .dataframe tbody tr th:only-of-type {\n",
       "        vertical-align: middle;\n",
       "    }\n",
       "\n",
       "    .dataframe tbody tr th {\n",
       "        vertical-align: top;\n",
       "    }\n",
       "\n",
       "    .dataframe thead th {\n",
       "        text-align: right;\n",
       "    }\n",
       "</style>\n",
       "<table border=\"1\" class=\"dataframe\">\n",
       "  <thead>\n",
       "    <tr style=\"text-align: right;\">\n",
       "      <th></th>\n",
       "      <th>mean</th>\n",
       "      <th>sd</th>\n",
       "      <th>mc_error</th>\n",
       "      <th>hpd_2.5</th>\n",
       "      <th>hpd_97.5</th>\n",
       "    </tr>\n",
       "  </thead>\n",
       "  <tbody>\n",
       "    <tr>\n",
       "      <th>alpha</th>\n",
       "      <td>-2.137391</td>\n",
       "      <td>7.636280</td>\n",
       "      <td>0.632411</td>\n",
       "      <td>-18.655108</td>\n",
       "      <td>10.849472</td>\n",
       "    </tr>\n",
       "    <tr>\n",
       "      <th>beta_sex</th>\n",
       "      <td>0.487642</td>\n",
       "      <td>0.107402</td>\n",
       "      <td>0.006095</td>\n",
       "      <td>0.282722</td>\n",
       "      <td>0.701244</td>\n",
       "    </tr>\n",
       "    <tr>\n",
       "      <th>mu_race</th>\n",
       "      <td>-2.363410</td>\n",
       "      <td>7.214707</td>\n",
       "      <td>0.599637</td>\n",
       "      <td>-17.502645</td>\n",
       "      <td>9.800341</td>\n",
       "    </tr>\n",
       "    <tr>\n",
       "      <th>sigma_race</th>\n",
       "      <td>2.158422</td>\n",
       "      <td>1.209690</td>\n",
       "      <td>0.079143</td>\n",
       "      <td>0.782122</td>\n",
       "      <td>4.519896</td>\n",
       "    </tr>\n",
       "    <tr>\n",
       "      <th>beta_race__0</th>\n",
       "      <td>-2.646718</td>\n",
       "      <td>7.209612</td>\n",
       "      <td>0.600702</td>\n",
       "      <td>-16.555696</td>\n",
       "      <td>11.320959</td>\n",
       "    </tr>\n",
       "    <tr>\n",
       "      <th>beta_race__1</th>\n",
       "      <td>-4.882862</td>\n",
       "      <td>7.258150</td>\n",
       "      <td>0.604763</td>\n",
       "      <td>-20.014413</td>\n",
       "      <td>8.218237</td>\n",
       "    </tr>\n",
       "    <tr>\n",
       "      <th>beta_race__2</th>\n",
       "      <td>-1.216341</td>\n",
       "      <td>7.221593</td>\n",
       "      <td>0.601688</td>\n",
       "      <td>-15.366775</td>\n",
       "      <td>12.586352</td>\n",
       "    </tr>\n",
       "    <tr>\n",
       "      <th>beta_race__3</th>\n",
       "      <td>-1.660323</td>\n",
       "      <td>7.209047</td>\n",
       "      <td>0.601198</td>\n",
       "      <td>-15.718048</td>\n",
       "      <td>12.270491</td>\n",
       "    </tr>\n",
       "    <tr>\n",
       "      <th>beta_race__4</th>\n",
       "      <td>-1.300095</td>\n",
       "      <td>7.214427</td>\n",
       "      <td>0.601585</td>\n",
       "      <td>-15.290540</td>\n",
       "      <td>12.613408</td>\n",
       "    </tr>\n",
       "    <tr>\n",
       "      <th>mu_state</th>\n",
       "      <td>3.422217</td>\n",
       "      <td>7.438696</td>\n",
       "      <td>0.714476</td>\n",
       "      <td>-8.343693</td>\n",
       "      <td>18.639932</td>\n",
       "    </tr>\n",
       "    <tr>\n",
       "      <th>beta_state__0</th>\n",
       "      <td>4.282654</td>\n",
       "      <td>7.430462</td>\n",
       "      <td>0.713057</td>\n",
       "      <td>-7.991173</td>\n",
       "      <td>19.174775</td>\n",
       "    </tr>\n",
       "    <tr>\n",
       "      <th>beta_state__1</th>\n",
       "      <td>4.012363</td>\n",
       "      <td>7.423249</td>\n",
       "      <td>0.710931</td>\n",
       "      <td>-7.887061</td>\n",
       "      <td>19.117996</td>\n",
       "    </tr>\n",
       "    <tr>\n",
       "      <th>beta_state__2</th>\n",
       "      <td>3.987741</td>\n",
       "      <td>7.453249</td>\n",
       "      <td>0.715359</td>\n",
       "      <td>-7.610075</td>\n",
       "      <td>19.420970</td>\n",
       "    </tr>\n",
       "    <tr>\n",
       "      <th>beta_state__3</th>\n",
       "      <td>3.372585</td>\n",
       "      <td>7.484568</td>\n",
       "      <td>0.717325</td>\n",
       "      <td>-8.667186</td>\n",
       "      <td>18.625147</td>\n",
       "    </tr>\n",
       "    <tr>\n",
       "      <th>beta_state__4</th>\n",
       "      <td>2.366776</td>\n",
       "      <td>7.443183</td>\n",
       "      <td>0.714638</td>\n",
       "      <td>-9.632680</td>\n",
       "      <td>17.445439</td>\n",
       "    </tr>\n",
       "    <tr>\n",
       "      <th>beta_state__5</th>\n",
       "      <td>2.823034</td>\n",
       "      <td>7.443851</td>\n",
       "      <td>0.713841</td>\n",
       "      <td>-9.204634</td>\n",
       "      <td>17.957353</td>\n",
       "    </tr>\n",
       "    <tr>\n",
       "      <th>beta_state__6</th>\n",
       "      <td>3.348225</td>\n",
       "      <td>7.475558</td>\n",
       "      <td>0.717173</td>\n",
       "      <td>-8.600913</td>\n",
       "      <td>18.685644</td>\n",
       "    </tr>\n",
       "    <tr>\n",
       "      <th>beta_state__7</th>\n",
       "      <td>3.674396</td>\n",
       "      <td>7.473461</td>\n",
       "      <td>0.716764</td>\n",
       "      <td>-8.875341</td>\n",
       "      <td>18.513260</td>\n",
       "    </tr>\n",
       "    <tr>\n",
       "      <th>beta_state__8</th>\n",
       "      <td>2.190802</td>\n",
       "      <td>7.461534</td>\n",
       "      <td>0.715212</td>\n",
       "      <td>-10.154080</td>\n",
       "      <td>17.028648</td>\n",
       "    </tr>\n",
       "    <tr>\n",
       "      <th>beta_state__9</th>\n",
       "      <td>3.326962</td>\n",
       "      <td>7.440274</td>\n",
       "      <td>0.714249</td>\n",
       "      <td>-8.571847</td>\n",
       "      <td>18.532117</td>\n",
       "    </tr>\n",
       "    <tr>\n",
       "      <th>beta_state__10</th>\n",
       "      <td>3.868655</td>\n",
       "      <td>7.443083</td>\n",
       "      <td>0.714224</td>\n",
       "      <td>-8.163074</td>\n",
       "      <td>18.882852</td>\n",
       "    </tr>\n",
       "    <tr>\n",
       "      <th>beta_state__11</th>\n",
       "      <td>2.670929</td>\n",
       "      <td>7.450480</td>\n",
       "      <td>0.712996</td>\n",
       "      <td>-9.600709</td>\n",
       "      <td>17.637365</td>\n",
       "    </tr>\n",
       "    <tr>\n",
       "      <th>beta_state__12</th>\n",
       "      <td>3.804237</td>\n",
       "      <td>7.458728</td>\n",
       "      <td>0.715822</td>\n",
       "      <td>-8.867807</td>\n",
       "      <td>18.441426</td>\n",
       "    </tr>\n",
       "    <tr>\n",
       "      <th>beta_state__13</th>\n",
       "      <td>3.188062</td>\n",
       "      <td>7.454746</td>\n",
       "      <td>0.715864</td>\n",
       "      <td>-8.723429</td>\n",
       "      <td>18.279336</td>\n",
       "    </tr>\n",
       "    <tr>\n",
       "      <th>beta_state__14</th>\n",
       "      <td>3.716548</td>\n",
       "      <td>7.452933</td>\n",
       "      <td>0.715411</td>\n",
       "      <td>-8.557376</td>\n",
       "      <td>18.538001</td>\n",
       "    </tr>\n",
       "    <tr>\n",
       "      <th>beta_state__15</th>\n",
       "      <td>3.373470</td>\n",
       "      <td>7.456201</td>\n",
       "      <td>0.715019</td>\n",
       "      <td>-8.601999</td>\n",
       "      <td>18.553843</td>\n",
       "    </tr>\n",
       "    <tr>\n",
       "      <th>beta_state__16</th>\n",
       "      <td>3.361941</td>\n",
       "      <td>7.458700</td>\n",
       "      <td>0.715859</td>\n",
       "      <td>-8.741513</td>\n",
       "      <td>18.327609</td>\n",
       "    </tr>\n",
       "    <tr>\n",
       "      <th>beta_state__17</th>\n",
       "      <td>3.656097</td>\n",
       "      <td>7.464337</td>\n",
       "      <td>0.716139</td>\n",
       "      <td>-8.283547</td>\n",
       "      <td>18.858066</td>\n",
       "    </tr>\n",
       "    <tr>\n",
       "      <th>beta_state__18</th>\n",
       "      <td>4.445241</td>\n",
       "      <td>7.458065</td>\n",
       "      <td>0.715097</td>\n",
       "      <td>-7.572676</td>\n",
       "      <td>19.450833</td>\n",
       "    </tr>\n",
       "    <tr>\n",
       "      <th>beta_state__19</th>\n",
       "      <td>3.065723</td>\n",
       "      <td>7.452636</td>\n",
       "      <td>0.714003</td>\n",
       "      <td>-8.619663</td>\n",
       "      <td>18.590641</td>\n",
       "    </tr>\n",
       "    <tr>\n",
       "      <th>beta_state__20</th>\n",
       "      <td>2.585391</td>\n",
       "      <td>7.457875</td>\n",
       "      <td>0.715240</td>\n",
       "      <td>-9.635755</td>\n",
       "      <td>17.545079</td>\n",
       "    </tr>\n",
       "    <tr>\n",
       "      <th>beta_state__21</th>\n",
       "      <td>2.822125</td>\n",
       "      <td>7.444701</td>\n",
       "      <td>0.714870</td>\n",
       "      <td>-9.132517</td>\n",
       "      <td>18.097427</td>\n",
       "    </tr>\n",
       "    <tr>\n",
       "      <th>beta_state__22</th>\n",
       "      <td>3.385836</td>\n",
       "      <td>7.448915</td>\n",
       "      <td>0.715047</td>\n",
       "      <td>-8.458986</td>\n",
       "      <td>18.585061</td>\n",
       "    </tr>\n",
       "    <tr>\n",
       "      <th>beta_state__23</th>\n",
       "      <td>2.970168</td>\n",
       "      <td>7.445699</td>\n",
       "      <td>0.714500</td>\n",
       "      <td>-8.904057</td>\n",
       "      <td>18.154223</td>\n",
       "    </tr>\n",
       "    <tr>\n",
       "      <th>beta_state__24</th>\n",
       "      <td>3.968502</td>\n",
       "      <td>7.483924</td>\n",
       "      <td>0.716190</td>\n",
       "      <td>-8.380731</td>\n",
       "      <td>18.754351</td>\n",
       "    </tr>\n",
       "    <tr>\n",
       "      <th>beta_state__25</th>\n",
       "      <td>3.119675</td>\n",
       "      <td>7.454847</td>\n",
       "      <td>0.714951</td>\n",
       "      <td>-8.796879</td>\n",
       "      <td>18.179675</td>\n",
       "    </tr>\n",
       "    <tr>\n",
       "      <th>beta_state__26</th>\n",
       "      <td>3.853018</td>\n",
       "      <td>7.496154</td>\n",
       "      <td>0.714834</td>\n",
       "      <td>-8.157130</td>\n",
       "      <td>19.245342</td>\n",
       "    </tr>\n",
       "    <tr>\n",
       "      <th>beta_state__27</th>\n",
       "      <td>3.231336</td>\n",
       "      <td>7.472065</td>\n",
       "      <td>0.715798</td>\n",
       "      <td>-8.749036</td>\n",
       "      <td>18.457238</td>\n",
       "    </tr>\n",
       "    <tr>\n",
       "      <th>beta_state__28</th>\n",
       "      <td>3.412815</td>\n",
       "      <td>7.469358</td>\n",
       "      <td>0.716216</td>\n",
       "      <td>-8.914059</td>\n",
       "      <td>18.240364</td>\n",
       "    </tr>\n",
       "    <tr>\n",
       "      <th>beta_state__29</th>\n",
       "      <td>3.051274</td>\n",
       "      <td>7.456242</td>\n",
       "      <td>0.713148</td>\n",
       "      <td>-8.781928</td>\n",
       "      <td>18.689254</td>\n",
       "    </tr>\n",
       "    <tr>\n",
       "      <th>beta_state__30</th>\n",
       "      <td>3.106317</td>\n",
       "      <td>7.434250</td>\n",
       "      <td>0.713346</td>\n",
       "      <td>-8.617639</td>\n",
       "      <td>18.185432</td>\n",
       "    </tr>\n",
       "    <tr>\n",
       "      <th>beta_state__31</th>\n",
       "      <td>3.522664</td>\n",
       "      <td>7.489328</td>\n",
       "      <td>0.717130</td>\n",
       "      <td>-8.630452</td>\n",
       "      <td>18.757064</td>\n",
       "    </tr>\n",
       "    <tr>\n",
       "      <th>beta_state__32</th>\n",
       "      <td>2.620864</td>\n",
       "      <td>7.449212</td>\n",
       "      <td>0.715156</td>\n",
       "      <td>-9.265691</td>\n",
       "      <td>17.854805</td>\n",
       "    </tr>\n",
       "    <tr>\n",
       "      <th>beta_state__33</th>\n",
       "      <td>4.235151</td>\n",
       "      <td>7.459638</td>\n",
       "      <td>0.715802</td>\n",
       "      <td>-7.638576</td>\n",
       "      <td>19.356428</td>\n",
       "    </tr>\n",
       "    <tr>\n",
       "      <th>beta_state__34</th>\n",
       "      <td>4.779694</td>\n",
       "      <td>7.496426</td>\n",
       "      <td>0.717261</td>\n",
       "      <td>-7.843472</td>\n",
       "      <td>19.748556</td>\n",
       "    </tr>\n",
       "    <tr>\n",
       "      <th>beta_state__35</th>\n",
       "      <td>4.008211</td>\n",
       "      <td>7.451128</td>\n",
       "      <td>0.715236</td>\n",
       "      <td>-7.854628</td>\n",
       "      <td>19.102442</td>\n",
       "    </tr>\n",
       "    <tr>\n",
       "      <th>beta_state__36</th>\n",
       "      <td>3.362513</td>\n",
       "      <td>7.458997</td>\n",
       "      <td>0.715034</td>\n",
       "      <td>-8.672127</td>\n",
       "      <td>18.249129</td>\n",
       "    </tr>\n",
       "    <tr>\n",
       "      <th>beta_state__37</th>\n",
       "      <td>3.161434</td>\n",
       "      <td>7.439298</td>\n",
       "      <td>0.713616</td>\n",
       "      <td>-8.822431</td>\n",
       "      <td>18.160400</td>\n",
       "    </tr>\n",
       "    <tr>\n",
       "      <th>beta_state__38</th>\n",
       "      <td>3.149227</td>\n",
       "      <td>7.447591</td>\n",
       "      <td>0.714915</td>\n",
       "      <td>-8.641530</td>\n",
       "      <td>18.353000</td>\n",
       "    </tr>\n",
       "    <tr>\n",
       "      <th>beta_state__39</th>\n",
       "      <td>3.372195</td>\n",
       "      <td>7.451988</td>\n",
       "      <td>0.713586</td>\n",
       "      <td>-8.872663</td>\n",
       "      <td>18.183800</td>\n",
       "    </tr>\n",
       "    <tr>\n",
       "      <th>beta_state__40</th>\n",
       "      <td>3.930098</td>\n",
       "      <td>7.461923</td>\n",
       "      <td>0.716102</td>\n",
       "      <td>-8.511425</td>\n",
       "      <td>18.652717</td>\n",
       "    </tr>\n",
       "    <tr>\n",
       "      <th>beta_state__41</th>\n",
       "      <td>3.376324</td>\n",
       "      <td>7.438364</td>\n",
       "      <td>0.710560</td>\n",
       "      <td>-9.183972</td>\n",
       "      <td>18.315630</td>\n",
       "    </tr>\n",
       "    <tr>\n",
       "      <th>beta_state__42</th>\n",
       "      <td>3.892443</td>\n",
       "      <td>7.450985</td>\n",
       "      <td>0.715490</td>\n",
       "      <td>-8.062054</td>\n",
       "      <td>19.099248</td>\n",
       "    </tr>\n",
       "    <tr>\n",
       "      <th>beta_state__43</th>\n",
       "      <td>3.609017</td>\n",
       "      <td>7.441001</td>\n",
       "      <td>0.714588</td>\n",
       "      <td>-8.294499</td>\n",
       "      <td>18.704443</td>\n",
       "    </tr>\n",
       "    <tr>\n",
       "      <th>beta_state__44</th>\n",
       "      <td>3.923960</td>\n",
       "      <td>7.483349</td>\n",
       "      <td>0.716989</td>\n",
       "      <td>-8.438960</td>\n",
       "      <td>18.973799</td>\n",
       "    </tr>\n",
       "    <tr>\n",
       "      <th>beta_state__45</th>\n",
       "      <td>3.048217</td>\n",
       "      <td>7.463334</td>\n",
       "      <td>0.714055</td>\n",
       "      <td>-8.897953</td>\n",
       "      <td>18.686627</td>\n",
       "    </tr>\n",
       "    <tr>\n",
       "      <th>beta_state__46</th>\n",
       "      <td>2.999631</td>\n",
       "      <td>7.461501</td>\n",
       "      <td>0.716121</td>\n",
       "      <td>-8.777123</td>\n",
       "      <td>18.278470</td>\n",
       "    </tr>\n",
       "    <tr>\n",
       "      <th>beta_state__47</th>\n",
       "      <td>1.918134</td>\n",
       "      <td>7.451489</td>\n",
       "      <td>0.714543</td>\n",
       "      <td>-9.982272</td>\n",
       "      <td>17.157651</td>\n",
       "    </tr>\n",
       "    <tr>\n",
       "      <th>beta_state__48</th>\n",
       "      <td>4.966114</td>\n",
       "      <td>7.455374</td>\n",
       "      <td>0.714085</td>\n",
       "      <td>-6.584737</td>\n",
       "      <td>20.957646</td>\n",
       "    </tr>\n",
       "    <tr>\n",
       "      <th>beta_state__49</th>\n",
       "      <td>3.270568</td>\n",
       "      <td>7.449382</td>\n",
       "      <td>0.715182</td>\n",
       "      <td>-8.596827</td>\n",
       "      <td>18.475427</td>\n",
       "    </tr>\n",
       "    <tr>\n",
       "      <th>beta_state__50</th>\n",
       "      <td>3.433910</td>\n",
       "      <td>7.496819</td>\n",
       "      <td>0.715378</td>\n",
       "      <td>-8.504006</td>\n",
       "      <td>18.862700</td>\n",
       "    </tr>\n",
       "  </tbody>\n",
       "</table>\n",
       "</div>"
      ],
      "text/plain": [
       "                    mean        sd  mc_error    hpd_2.5   hpd_97.5\n",
       "alpha          -2.137391  7.636280  0.632411 -18.655108  10.849472\n",
       "beta_sex        0.487642  0.107402  0.006095   0.282722   0.701244\n",
       "mu_race        -2.363410  7.214707  0.599637 -17.502645   9.800341\n",
       "sigma_race      2.158422  1.209690  0.079143   0.782122   4.519896\n",
       "beta_race__0   -2.646718  7.209612  0.600702 -16.555696  11.320959\n",
       "beta_race__1   -4.882862  7.258150  0.604763 -20.014413   8.218237\n",
       "beta_race__2   -1.216341  7.221593  0.601688 -15.366775  12.586352\n",
       "beta_race__3   -1.660323  7.209047  0.601198 -15.718048  12.270491\n",
       "beta_race__4   -1.300095  7.214427  0.601585 -15.290540  12.613408\n",
       "mu_state        3.422217  7.438696  0.714476  -8.343693  18.639932\n",
       "beta_state__0   4.282654  7.430462  0.713057  -7.991173  19.174775\n",
       "beta_state__1   4.012363  7.423249  0.710931  -7.887061  19.117996\n",
       "beta_state__2   3.987741  7.453249  0.715359  -7.610075  19.420970\n",
       "beta_state__3   3.372585  7.484568  0.717325  -8.667186  18.625147\n",
       "beta_state__4   2.366776  7.443183  0.714638  -9.632680  17.445439\n",
       "beta_state__5   2.823034  7.443851  0.713841  -9.204634  17.957353\n",
       "beta_state__6   3.348225  7.475558  0.717173  -8.600913  18.685644\n",
       "beta_state__7   3.674396  7.473461  0.716764  -8.875341  18.513260\n",
       "beta_state__8   2.190802  7.461534  0.715212 -10.154080  17.028648\n",
       "beta_state__9   3.326962  7.440274  0.714249  -8.571847  18.532117\n",
       "beta_state__10  3.868655  7.443083  0.714224  -8.163074  18.882852\n",
       "beta_state__11  2.670929  7.450480  0.712996  -9.600709  17.637365\n",
       "beta_state__12  3.804237  7.458728  0.715822  -8.867807  18.441426\n",
       "beta_state__13  3.188062  7.454746  0.715864  -8.723429  18.279336\n",
       "beta_state__14  3.716548  7.452933  0.715411  -8.557376  18.538001\n",
       "beta_state__15  3.373470  7.456201  0.715019  -8.601999  18.553843\n",
       "beta_state__16  3.361941  7.458700  0.715859  -8.741513  18.327609\n",
       "beta_state__17  3.656097  7.464337  0.716139  -8.283547  18.858066\n",
       "beta_state__18  4.445241  7.458065  0.715097  -7.572676  19.450833\n",
       "beta_state__19  3.065723  7.452636  0.714003  -8.619663  18.590641\n",
       "beta_state__20  2.585391  7.457875  0.715240  -9.635755  17.545079\n",
       "beta_state__21  2.822125  7.444701  0.714870  -9.132517  18.097427\n",
       "beta_state__22  3.385836  7.448915  0.715047  -8.458986  18.585061\n",
       "beta_state__23  2.970168  7.445699  0.714500  -8.904057  18.154223\n",
       "beta_state__24  3.968502  7.483924  0.716190  -8.380731  18.754351\n",
       "beta_state__25  3.119675  7.454847  0.714951  -8.796879  18.179675\n",
       "beta_state__26  3.853018  7.496154  0.714834  -8.157130  19.245342\n",
       "beta_state__27  3.231336  7.472065  0.715798  -8.749036  18.457238\n",
       "beta_state__28  3.412815  7.469358  0.716216  -8.914059  18.240364\n",
       "beta_state__29  3.051274  7.456242  0.713148  -8.781928  18.689254\n",
       "beta_state__30  3.106317  7.434250  0.713346  -8.617639  18.185432\n",
       "beta_state__31  3.522664  7.489328  0.717130  -8.630452  18.757064\n",
       "beta_state__32  2.620864  7.449212  0.715156  -9.265691  17.854805\n",
       "beta_state__33  4.235151  7.459638  0.715802  -7.638576  19.356428\n",
       "beta_state__34  4.779694  7.496426  0.717261  -7.843472  19.748556\n",
       "beta_state__35  4.008211  7.451128  0.715236  -7.854628  19.102442\n",
       "beta_state__36  3.362513  7.458997  0.715034  -8.672127  18.249129\n",
       "beta_state__37  3.161434  7.439298  0.713616  -8.822431  18.160400\n",
       "beta_state__38  3.149227  7.447591  0.714915  -8.641530  18.353000\n",
       "beta_state__39  3.372195  7.451988  0.713586  -8.872663  18.183800\n",
       "beta_state__40  3.930098  7.461923  0.716102  -8.511425  18.652717\n",
       "beta_state__41  3.376324  7.438364  0.710560  -9.183972  18.315630\n",
       "beta_state__42  3.892443  7.450985  0.715490  -8.062054  19.099248\n",
       "beta_state__43  3.609017  7.441001  0.714588  -8.294499  18.704443\n",
       "beta_state__44  3.923960  7.483349  0.716989  -8.438960  18.973799\n",
       "beta_state__45  3.048217  7.463334  0.714055  -8.897953  18.686627\n",
       "beta_state__46  2.999631  7.461501  0.716121  -8.777123  18.278470\n",
       "beta_state__47  1.918134  7.451489  0.714543  -9.982272  17.157651\n",
       "beta_state__48  4.966114  7.455374  0.714085  -6.584737  20.957646\n",
       "beta_state__49  3.270568  7.449382  0.715182  -8.596827  18.475427\n",
       "beta_state__50  3.433910  7.496819  0.715378  -8.504006  18.862700"
      ]
     },
     "execution_count": 61,
     "metadata": {},
     "output_type": "execute_result"
    }
   ],
   "source": [
    "pm.df_summary(trace_complete, varnames_model_complete)"
   ]
  },
  {
   "cell_type": "code",
   "execution_count": 72,
   "metadata": {},
   "outputs": [
    {
     "data": {
      "text/plain": [
       "<matplotlib.gridspec.GridSpec at 0x1256b1278>"
      ]
     },
     "execution_count": 72,
     "metadata": {},
     "output_type": "execute_result"
    },
    {
     "data": {
      "image/png": "[encoded data removed]",
      "text/plain": [
       "<matplotlib.figure.Figure at 0x1256b19b0>"
      ]
     },
     "metadata": {},
     "output_type": "display_data"
    }
   ],
   "source": [
    "plt.figure(figsize=(6,11))\n",
    "pm.forestplot(trace_complete, varnames_model_complete)"
   ]
  },
  {
   "cell_type": "markdown",
   "metadata": {},
   "source": [
    "# Predictions"
   ]
  },
  {
   "cell_type": "markdown",
   "metadata": {},
   "source": [
    "generate full set of cell input data"
   ]
  },
  {
   "cell_type": "code",
   "execution_count": 63,
   "metadata": {},
   "outputs": [
    {
     "data": {
      "text/plain": [
       "[('Female', 'Asian or Asian-American', 'Alabama'),\n",
       " ('Female', 'Asian or Asian-American', 'Alaska')]"
      ]
     },
     "execution_count": 63,
     "metadata": {},
     "output_type": "execute_result"
    }
   ],
   "source": [
    "all_cells_list = list(itertools.product(np.sort(d_only['sex'].unique()), \n",
    "                                        np.sort(d_only['racecmb'].unique()),\n",
    "                                        sorted(state_number_to_name.values())))\n",
    "all_cells_list[:2]"
   ]
  },
  {
   "cell_type": "code",
   "execution_count": 64,
   "metadata": {},
   "outputs": [
    {
     "data": {
      "text/plain": [
       "510"
      ]
     },
     "execution_count": 64,
     "metadata": {},
     "output_type": "execute_result"
    }
   ],
   "source": [
    "len(all_cells_list)"
   ]
  },
  {
   "cell_type": "code",
   "execution_count": 65,
   "metadata": {},
   "outputs": [
    {
     "data": {
      "text/html": [
       "<div>\n",
       "<style scoped>\n",
       "    .dataframe tbody tr th:only-of-type {\n",
       "        vertical-align: middle;\n",
       "    }\n",
       "\n",
       "    .dataframe tbody tr th {\n",
       "        vertical-align: top;\n",
       "    }\n",
       "\n",
       "    .dataframe thead th {\n",
       "        text-align: right;\n",
       "    }\n",
       "</style>\n",
       "<table border=\"1\" class=\"dataframe\">\n",
       "  <thead>\n",
       "    <tr style=\"text-align: right;\">\n",
       "      <th></th>\n",
       "      <th>sex</th>\n",
       "      <th>racecmb</th>\n",
       "      <th>state</th>\n",
       "    </tr>\n",
       "  </thead>\n",
       "  <tbody>\n",
       "    <tr>\n",
       "      <th>0</th>\n",
       "      <td>Female</td>\n",
       "      <td>Asian or Asian-American</td>\n",
       "      <td>Alabama</td>\n",
       "    </tr>\n",
       "    <tr>\n",
       "      <th>1</th>\n",
       "      <td>Female</td>\n",
       "      <td>Asian or Asian-American</td>\n",
       "      <td>Alaska</td>\n",
       "    </tr>\n",
       "  </tbody>\n",
       "</table>\n",
       "</div>"
      ],
      "text/plain": [
       "      sex                  racecmb    state\n",
       "0  Female  Asian or Asian-American  Alabama\n",
       "1  Female  Asian or Asian-American   Alaska"
      ]
     },
     "execution_count": 65,
     "metadata": {},
     "output_type": "execute_result"
    }
   ],
   "source": [
    "all_cells = pd.DataFrame(all_cells_list, columns=['sex','racecmb','state'])\n",
    "all_cells[:2]"
   ]
  },
  {
   "cell_type": "code",
   "execution_count": 66,
   "metadata": {},
   "outputs": [
    {
     "data": {
      "text/html": [
       "<div>\n",
       "<style scoped>\n",
       "    .dataframe tbody tr th:only-of-type {\n",
       "        vertical-align: middle;\n",
       "    }\n",
       "\n",
       "    .dataframe tbody tr th {\n",
       "        vertical-align: top;\n",
       "    }\n",
       "\n",
       "    .dataframe thead th {\n",
       "        text-align: right;\n",
       "    }\n",
       "</style>\n",
       "<table border=\"1\" class=\"dataframe\">\n",
       "  <thead>\n",
       "    <tr style=\"text-align: right;\">\n",
       "      <th></th>\n",
       "      <th>sex_Male</th>\n",
       "      <th>racecmb_Asian or Asian-American</th>\n",
       "      <th>racecmb_Black or African-American</th>\n",
       "      <th>racecmb_Mixed Race</th>\n",
       "      <th>racecmb_Or some other race</th>\n",
       "      <th>racecmb_White</th>\n",
       "      <th>state_Alabama</th>\n",
       "      <th>state_Alaska</th>\n",
       "      <th>state_Arizona</th>\n",
       "      <th>state_Arkansas</th>\n",
       "      <th>...</th>\n",
       "      <th>state_South Dakota</th>\n",
       "      <th>state_Tennessee</th>\n",
       "      <th>state_Texas</th>\n",
       "      <th>state_Utah</th>\n",
       "      <th>state_Vermont</th>\n",
       "      <th>state_Virginia</th>\n",
       "      <th>state_Washington</th>\n",
       "      <th>state_West Virginia</th>\n",
       "      <th>state_Wisconsin</th>\n",
       "      <th>state_Wyoming</th>\n",
       "    </tr>\n",
       "  </thead>\n",
       "  <tbody>\n",
       "    <tr>\n",
       "      <th>0</th>\n",
       "      <td>0</td>\n",
       "      <td>1</td>\n",
       "      <td>0</td>\n",
       "      <td>0</td>\n",
       "      <td>0</td>\n",
       "      <td>0</td>\n",
       "      <td>1</td>\n",
       "      <td>0</td>\n",
       "      <td>0</td>\n",
       "      <td>0</td>\n",
       "      <td>...</td>\n",
       "      <td>0</td>\n",
       "      <td>0</td>\n",
       "      <td>0</td>\n",
       "      <td>0</td>\n",
       "      <td>0</td>\n",
       "      <td>0</td>\n",
       "      <td>0</td>\n",
       "      <td>0</td>\n",
       "      <td>0</td>\n",
       "      <td>0</td>\n",
       "    </tr>\n",
       "    <tr>\n",
       "      <th>1</th>\n",
       "      <td>0</td>\n",
       "      <td>1</td>\n",
       "      <td>0</td>\n",
       "      <td>0</td>\n",
       "      <td>0</td>\n",
       "      <td>0</td>\n",
       "      <td>0</td>\n",
       "      <td>1</td>\n",
       "      <td>0</td>\n",
       "      <td>0</td>\n",
       "      <td>...</td>\n",
       "      <td>0</td>\n",
       "      <td>0</td>\n",
       "      <td>0</td>\n",
       "      <td>0</td>\n",
       "      <td>0</td>\n",
       "      <td>0</td>\n",
       "      <td>0</td>\n",
       "      <td>0</td>\n",
       "      <td>0</td>\n",
       "      <td>0</td>\n",
       "    </tr>\n",
       "    <tr>\n",
       "      <th>2</th>\n",
       "      <td>0</td>\n",
       "      <td>1</td>\n",
       "      <td>0</td>\n",
       "      <td>0</td>\n",
       "      <td>0</td>\n",
       "      <td>0</td>\n",
       "      <td>0</td>\n",
       "      <td>0</td>\n",
       "      <td>1</td>\n",
       "      <td>0</td>\n",
       "      <td>...</td>\n",
       "      <td>0</td>\n",
       "      <td>0</td>\n",
       "      <td>0</td>\n",
       "      <td>0</td>\n",
       "      <td>0</td>\n",
       "      <td>0</td>\n",
       "      <td>0</td>\n",
       "      <td>0</td>\n",
       "      <td>0</td>\n",
       "      <td>0</td>\n",
       "    </tr>\n",
       "  </tbody>\n",
       "</table>\n",
       "<p>3 rows × 57 columns</p>\n",
       "</div>"
      ],
      "text/plain": [
       "   sex_Male  racecmb_Asian or Asian-American  \\\n",
       "0         0                                1   \n",
       "1         0                                1   \n",
       "2         0                                1   \n",
       "\n",
       "   racecmb_Black or African-American  racecmb_Mixed Race  \\\n",
       "0                                  0                   0   \n",
       "1                                  0                   0   \n",
       "2                                  0                   0   \n",
       "\n",
       "   racecmb_Or some other race  racecmb_White  state_Alabama  state_Alaska  \\\n",
       "0                           0              0              1             0   \n",
       "1                           0              0              0             1   \n",
       "2                           0              0              0             0   \n",
       "\n",
       "   state_Arizona  state_Arkansas      ...        state_South Dakota  \\\n",
       "0              0               0      ...                         0   \n",
       "1              0               0      ...                         0   \n",
       "2              1               0      ...                         0   \n",
       "\n",
       "   state_Tennessee  state_Texas  state_Utah  state_Vermont  state_Virginia  \\\n",
       "0                0            0           0              0               0   \n",
       "1                0            0           0              0               0   \n",
       "2                0            0           0              0               0   \n",
       "\n",
       "   state_Washington  state_West Virginia  state_Wisconsin  state_Wyoming  \n",
       "0                 0                    0                0              0  \n",
       "1                 0                    0                0              0  \n",
       "2                 0                    0                0              0  \n",
       "\n",
       "[3 rows x 57 columns]"
      ]
     },
     "execution_count": 66,
     "metadata": {},
     "output_type": "execute_result"
    }
   ],
   "source": [
    "# remove sex_Female since we only need one col for sex\n",
    "all_cells_dummies = pd.get_dummies(all_cells).drop('sex_Female', 1)\n",
    "all_cells_dummies[:3]"
   ]
  },
  {
   "cell_type": "markdown",
   "metadata": {},
   "source": [
    "predictions"
   ]
  },
  {
   "cell_type": "code",
   "execution_count": 67,
   "metadata": {
    "collapsed": true
   },
   "outputs": [],
   "source": [
    "def standard_logistic(x):\n",
    "    return 1 / (1 + np.exp(-x))\n",
    "\n",
    "def classify_with_matrix(values_matrix, threshold, trace_data, varnames, add_intercept=False):\n",
    "    if add_intercept:\n",
    "        # add a column at the beginning with all ones, to match up w/ something like an alpha param\n",
    "        values_matrix = np.c_[np.ones(len(values_matrix)), values_matrix]\n",
    "\n",
    "    mean_vals = pm.df_summary(trace_data, varnames)['mean'].values\n",
    "\n",
    "    mu = np.dot(values_matrix, mean_vals)\n",
    "\n",
    "    prob = standard_logistic(mu)\n",
    "    return prob, prob > threshold"
   ]
  },
  {
   "cell_type": "code",
   "execution_count": 68,
   "metadata": {},
   "outputs": [
    {
     "data": {
      "text/plain": [
       "(510,)"
      ]
     },
     "execution_count": 68,
     "metadata": {},
     "output_type": "execute_result"
    }
   ],
   "source": [
    "probs, _ = classify_with_matrix(all_cells_dummies, 0.5, trace_complete,\n",
    "                                ['alpha','beta_sex','beta_race','beta_state'], add_intercept=True)\n",
    "probs.shape"
   ]
  },
  {
   "cell_type": "code",
   "execution_count": 69,
   "metadata": {},
   "outputs": [
    {
     "data": {
      "text/plain": [
       "(510, 4)"
      ]
     },
     "execution_count": 69,
     "metadata": {},
     "output_type": "execute_result"
    }
   ],
   "source": [
    "all_cells['trump_prob'] = probs\n",
    "all_cells.shape"
   ]
  },
  {
   "cell_type": "code",
   "execution_count": 70,
   "metadata": {},
   "outputs": [
    {
     "data": {
      "text/html": [
       "<div>\n",
       "<style scoped>\n",
       "    .dataframe tbody tr th:only-of-type {\n",
       "        vertical-align: middle;\n",
       "    }\n",
       "\n",
       "    .dataframe tbody tr th {\n",
       "        vertical-align: top;\n",
       "    }\n",
       "\n",
       "    .dataframe thead th {\n",
       "        text-align: right;\n",
       "    }\n",
       "</style>\n",
       "<table border=\"1\" class=\"dataframe\">\n",
       "  <thead>\n",
       "    <tr style=\"text-align: right;\">\n",
       "      <th></th>\n",
       "      <th>sex</th>\n",
       "      <th>racecmb</th>\n",
       "      <th>state</th>\n",
       "      <th>trump_prob</th>\n",
       "    </tr>\n",
       "  </thead>\n",
       "  <tbody>\n",
       "    <tr>\n",
       "      <th>0</th>\n",
       "      <td>Female</td>\n",
       "      <td>Asian or Asian-American</td>\n",
       "      <td>Alabama</td>\n",
       "      <td>0.377199</td>\n",
       "    </tr>\n",
       "    <tr>\n",
       "      <th>1</th>\n",
       "      <td>Female</td>\n",
       "      <td>Asian or Asian-American</td>\n",
       "      <td>Alaska</td>\n",
       "      <td>0.316101</td>\n",
       "    </tr>\n",
       "  </tbody>\n",
       "</table>\n",
       "</div>"
      ],
      "text/plain": [
       "      sex                  racecmb    state  trump_prob\n",
       "0  Female  Asian or Asian-American  Alabama    0.377199\n",
       "1  Female  Asian or Asian-American   Alaska    0.316101"
      ]
     },
     "execution_count": 70,
     "metadata": {},
     "output_type": "execute_result"
    }
   ],
   "source": [
    "all_cells[:2]"
   ]
  },
  {
   "cell_type": "code",
   "execution_count": 71,
   "metadata": {},
   "outputs": [
    {
     "data": {
      "text/plain": [
       "<matplotlib.axes._subplots.AxesSubplot at 0x125552c50>"
      ]
     },
     "execution_count": 71,
     "metadata": {},
     "output_type": "execute_result"
    },
    {
     "data": {
      "image/png": "[encoded data removed]",
      "text/plain": [
       "<matplotlib.figure.Figure at 0x11d292c50>"
      ]
     },
     "metadata": {},
     "output_type": "display_data"
    }
   ],
   "source": [
    "plt.figure(figsize=(6,11))\n",
    "sns.heatmap(all_cells.pivot_table(columns=['sex','racecmb'],index='state',values='trump_prob'))"
   ]
  },
  {
   "cell_type": "markdown",
   "metadata": {},
   "source": [
    "Side note: changing the SD on the beta_state params does appear to have kept the indiv state coefs, for those states w/ small amts of data, from blowing out and overwhelming the impact of the sex and race coefs. I don't know if it's caused too much impact on the other states - hopefully not, because they have enough data that they can still end up where they should be? I want to check w/ the actual changes below in the post-stratified predictions."
   ]
  },
  {
   "cell_type": "markdown",
   "metadata": {},
   "source": [
    "# CPS data"
   ]
  },
  {
   "cell_type": "code",
   "execution_count": 73,
   "metadata": {},
   "outputs": [
    {
     "data": {
      "text/plain": [
       "(185487, 4)"
      ]
     },
     "execution_count": 73,
     "metadata": {},
     "output_type": "execute_result"
    }
   ],
   "source": [
    "d_pop = pd.read_csv('~/OneDrive/Personal/School/Master\\'s/DATA 512/Project/cps_population.csv')\n",
    "d_pop.shape"
   ]
  },
  {
   "cell_type": "code",
   "execution_count": 74,
   "metadata": {},
   "outputs": [
    {
     "data": {
      "text/html": [
       "<div>\n",
       "<style scoped>\n",
       "    .dataframe tbody tr th:only-of-type {\n",
       "        vertical-align: middle;\n",
       "    }\n",
       "\n",
       "    .dataframe tbody tr th {\n",
       "        vertical-align: top;\n",
       "    }\n",
       "\n",
       "    .dataframe thead th {\n",
       "        text-align: right;\n",
       "    }\n",
       "</style>\n",
       "<table border=\"1\" class=\"dataframe\">\n",
       "  <thead>\n",
       "    <tr style=\"text-align: right;\">\n",
       "      <th></th>\n",
       "      <th>RACE</th>\n",
       "      <th>WTSUPP</th>\n",
       "      <th>SEX</th>\n",
       "      <th>STATECENSUS</th>\n",
       "    </tr>\n",
       "  </thead>\n",
       "  <tbody>\n",
       "    <tr>\n",
       "      <th>0</th>\n",
       "      <td>White</td>\n",
       "      <td>1132.05</td>\n",
       "      <td>Female</td>\n",
       "      <td>Maine</td>\n",
       "    </tr>\n",
       "    <tr>\n",
       "      <th>1</th>\n",
       "      <td>White</td>\n",
       "      <td>1077.54</td>\n",
       "      <td>Female</td>\n",
       "      <td>Maine</td>\n",
       "    </tr>\n",
       "  </tbody>\n",
       "</table>\n",
       "</div>"
      ],
      "text/plain": [
       "    RACE   WTSUPP     SEX STATECENSUS\n",
       "0  White  1132.05  Female       Maine\n",
       "1  White  1077.54  Female       Maine"
      ]
     },
     "execution_count": 74,
     "metadata": {},
     "output_type": "execute_result"
    }
   ],
   "source": [
    "d_pop[:2]"
   ]
  },
  {
   "cell_type": "markdown",
   "metadata": {},
   "source": [
    "## Mapping CPS values to Pew values"
   ]
  },
  {
   "cell_type": "markdown",
   "metadata": {},
   "source": [
    "Based on the quick examination of the fields I'm using right now, I think sex and state are actually good to go w/ no further work. For race I'll need to map, as CPS has a lot more values."
   ]
  },
  {
   "cell_type": "code",
   "execution_count": 75,
   "metadata": {},
   "outputs": [
    {
     "data": {
      "text/plain": [
       "White                        142972\n",
       "Black or African-American     22872\n",
       "Asian or Asian-American       10709\n",
       "Mixed Race                     4690\n",
       "Or some other race             4244\n",
       "Name: mapped_racecmb, dtype: int64"
      ]
     },
     "execution_count": 75,
     "metadata": {},
     "output_type": "execute_result"
    }
   ],
   "source": [
    "map_cps_race_to_pew_racecmb = {\n",
    "    'White':'White',\n",
    "    'Black/Negro':'Black or African-American',\n",
    "    'Asian only':'Asian or Asian-American',\n",
    "    'American Indian/Aleut/Eskimo':'Or some other race',\n",
    "    'White-American Indian':'Mixed Race',\n",
    "    'White-Black':'Mixed Race',\n",
    "    'Hawaiian/Pacific Islander only':'Or some other race',\n",
    "    'White-Asian':'Mixed Race',\n",
    "    'White-Hawaiian/Pacific Islander':'Mixed Race',\n",
    "    'Black-American Indian':'Mixed Race',\n",
    "    'Asian-Hawaiian/Pacific Islander':'Mixed Race',\n",
    "    'White-Black-American Indian':'Mixed Race',\n",
    "    'White-Asian-Hawaiian/Pacific Islander':'Mixed Race',\n",
    "    'Black-Asian':'Mixed Race',\n",
    "    'White-Black-Asian':'Mixed Race',\n",
    "    'Four or five races, unspecified':'Mixed Race',\n",
    "    'Black-Hawaiian/Pacific Islander':'Mixed Race',\n",
    "    'White-American Indian-Asian':'Mixed Race',\n",
    "    'Two or three races, unspecified':'Mixed Race',\n",
    "    'American Indian-Asian':'Mixed Race',\n",
    "    'White-Black-American Indian-Asian':'Mixed Race',\n",
    "    'White-Black--Hawaiian/Pacific Islander':'Mixed Race',\n",
    "    'White-American Indian-Asian-Hawaiian/Pacific Islander':'Mixed Race',\n",
    "    'White-American Indian-Hawaiian/Pacific Islander':'Mixed Race',\n",
    "    'American Indian-Hawaiian/Pacific Islander':'Mixed Race',\n",
    "    'Black-American Indian-Asian':'Mixed Race'\n",
    "}\n",
    "map_cps_race_to_pew_racecmb\n",
    "\n",
    "d_pop['mapped_racecmb'] = d_pop['RACE'].map(map_cps_race_to_pew_racecmb)\n",
    "\n",
    "d_pop['mapped_racecmb'].value_counts(dropna=False)"
   ]
  },
  {
   "cell_type": "markdown",
   "metadata": {},
   "source": [
    "## Add predicted votes"
   ]
  },
  {
   "cell_type": "code",
   "execution_count": 76,
   "metadata": {},
   "outputs": [
    {
     "data": {
      "text/plain": [
       "(510, 4)"
      ]
     },
     "execution_count": 76,
     "metadata": {},
     "output_type": "execute_result"
    }
   ],
   "source": [
    "population_by_cell = d_pop.groupby(['SEX','mapped_racecmb','STATECENSUS'], as_index=False)['WTSUPP'].sum()\n",
    "population_by_cell.shape"
   ]
  },
  {
   "cell_type": "code",
   "execution_count": 77,
   "metadata": {},
   "outputs": [
    {
     "data": {
      "text/html": [
       "<div>\n",
       "<style scoped>\n",
       "    .dataframe tbody tr th:only-of-type {\n",
       "        vertical-align: middle;\n",
       "    }\n",
       "\n",
       "    .dataframe tbody tr th {\n",
       "        vertical-align: top;\n",
       "    }\n",
       "\n",
       "    .dataframe thead th {\n",
       "        text-align: right;\n",
       "    }\n",
       "</style>\n",
       "<table border=\"1\" class=\"dataframe\">\n",
       "  <thead>\n",
       "    <tr style=\"text-align: right;\">\n",
       "      <th></th>\n",
       "      <th>sex</th>\n",
       "      <th>racecmb</th>\n",
       "      <th>state</th>\n",
       "      <th>trump_prob</th>\n",
       "      <th>population</th>\n",
       "    </tr>\n",
       "  </thead>\n",
       "  <tbody>\n",
       "    <tr>\n",
       "      <th>0</th>\n",
       "      <td>Female</td>\n",
       "      <td>Asian or Asian-American</td>\n",
       "      <td>Alabama</td>\n",
       "      <td>0.377199</td>\n",
       "      <td>51040.97</td>\n",
       "    </tr>\n",
       "    <tr>\n",
       "      <th>1</th>\n",
       "      <td>Female</td>\n",
       "      <td>Asian or Asian-American</td>\n",
       "      <td>Alaska</td>\n",
       "      <td>0.316101</td>\n",
       "      <td>28853.07</td>\n",
       "    </tr>\n",
       "    <tr>\n",
       "      <th>2</th>\n",
       "      <td>Female</td>\n",
       "      <td>Asian or Asian-American</td>\n",
       "      <td>Arizona</td>\n",
       "      <td>0.310803</td>\n",
       "      <td>124310.67</td>\n",
       "    </tr>\n",
       "  </tbody>\n",
       "</table>\n",
       "</div>"
      ],
      "text/plain": [
       "      sex                  racecmb    state  trump_prob  population\n",
       "0  Female  Asian or Asian-American  Alabama    0.377199    51040.97\n",
       "1  Female  Asian or Asian-American   Alaska    0.316101    28853.07\n",
       "2  Female  Asian or Asian-American  Arizona    0.310803   124310.67"
      ]
     },
     "execution_count": 77,
     "metadata": {},
     "output_type": "execute_result"
    }
   ],
   "source": [
    "all_cells_with_pop = all_cells.merge(population_by_cell, \n",
    "                                     left_on=['sex','racecmb','state'], \n",
    "                                     right_on=['SEX','mapped_racecmb','STATECENSUS'],\n",
    "                                     validate='1:1')[['sex','racecmb','state','trump_prob','WTSUPP']]\n",
    "all_cells_with_pop.rename(columns={'WTSUPP':'population'}, inplace=True)\n",
    "all_cells_with_pop[:3]"
   ]
  },
  {
   "cell_type": "code",
   "execution_count": 78,
   "metadata": {},
   "outputs": [
    {
     "data": {
      "text/plain": [
       "(318868490.0, 318868490.0)"
      ]
     },
     "execution_count": 78,
     "metadata": {},
     "output_type": "execute_result"
    }
   ],
   "source": [
    "# confirm that the totals are the same in both our cell data and in the CPS data\n",
    "round(all_cells_with_pop['population'].sum()), round(d_pop['WTSUPP'].sum())"
   ]
  },
  {
   "cell_type": "code",
   "execution_count": 80,
   "metadata": {},
   "outputs": [
    {
     "data": {
      "text/html": [
       "<div>\n",
       "<style scoped>\n",
       "    .dataframe tbody tr th:only-of-type {\n",
       "        vertical-align: middle;\n",
       "    }\n",
       "\n",
       "    .dataframe tbody tr th {\n",
       "        vertical-align: top;\n",
       "    }\n",
       "\n",
       "    .dataframe thead th {\n",
       "        text-align: right;\n",
       "    }\n",
       "</style>\n",
       "<table border=\"1\" class=\"dataframe\">\n",
       "  <thead>\n",
       "    <tr style=\"text-align: right;\">\n",
       "      <th></th>\n",
       "      <th>sex</th>\n",
       "      <th>racecmb</th>\n",
       "      <th>state</th>\n",
       "      <th>trump_prob</th>\n",
       "      <th>population</th>\n",
       "      <th>votes_clinton</th>\n",
       "      <th>votes_trump</th>\n",
       "    </tr>\n",
       "  </thead>\n",
       "  <tbody>\n",
       "    <tr>\n",
       "      <th>0</th>\n",
       "      <td>Female</td>\n",
       "      <td>Asian or Asian-American</td>\n",
       "      <td>Alabama</td>\n",
       "      <td>0.377199</td>\n",
       "      <td>51040.97</td>\n",
       "      <td>31788</td>\n",
       "      <td>19252</td>\n",
       "    </tr>\n",
       "    <tr>\n",
       "      <th>1</th>\n",
       "      <td>Female</td>\n",
       "      <td>Asian or Asian-American</td>\n",
       "      <td>Alaska</td>\n",
       "      <td>0.316101</td>\n",
       "      <td>28853.07</td>\n",
       "      <td>19732</td>\n",
       "      <td>9120</td>\n",
       "    </tr>\n",
       "  </tbody>\n",
       "</table>\n",
       "</div>"
      ],
      "text/plain": [
       "      sex                  racecmb    state  trump_prob  population  \\\n",
       "0  Female  Asian or Asian-American  Alabama    0.377199    51040.97   \n",
       "1  Female  Asian or Asian-American   Alaska    0.316101    28853.07   \n",
       "\n",
       "   votes_clinton  votes_trump  \n",
       "0          31788        19252  \n",
       "1          19732         9120  "
      ]
     },
     "execution_count": 80,
     "metadata": {},
     "output_type": "execute_result"
    }
   ],
   "source": [
    "all_cells_with_results = all_cells_with_pop.copy()\n",
    "all_cells_with_results['votes_clinton'] = np.round(all_cells_with_results['population'] * (1-all_cells_with_results['trump_prob']), 1).astype('int')\n",
    "all_cells_with_results['votes_trump'] = np.round(all_cells_with_results['population'] * all_cells_with_results['trump_prob'], 1).astype('int')\n",
    "all_cells_with_results[:2]"
   ]
  },
  {
   "cell_type": "markdown",
   "metadata": {},
   "source": [
    "## And get prediction"
   ]
  },
  {
   "cell_type": "code",
   "execution_count": 81,
   "metadata": {},
   "outputs": [
    {
     "data": {
      "text/plain": [
       "318868030"
      ]
     },
     "execution_count": 81,
     "metadata": {},
     "output_type": "execute_result"
    }
   ],
   "source": [
    "all_votes_count = all_cells_with_results['votes_clinton'].sum() + \\\n",
    "                  all_cells_with_results['votes_trump'].sum()\n",
    "all_votes_count"
   ]
  },
  {
   "cell_type": "code",
   "execution_count": 82,
   "metadata": {},
   "outputs": [
    {
     "data": {
      "text/plain": [
       "(180693667, 138174363)"
      ]
     },
     "execution_count": 82,
     "metadata": {},
     "output_type": "execute_result"
    }
   ],
   "source": [
    "all_cells_with_results['votes_clinton'].sum(), all_cells_with_results['votes_trump'].sum()"
   ]
  },
  {
   "cell_type": "code",
   "execution_count": 84,
   "metadata": {},
   "outputs": [
    {
     "data": {
      "text/plain": [
       "(0.5666722593669864, 0.4333277406330136)"
      ]
     },
     "execution_count": 84,
     "metadata": {},
     "output_type": "execute_result"
    }
   ],
   "source": [
    "all_cells_with_results['votes_clinton'].sum() / all_votes_count, \\\n",
    "all_cells_with_results['votes_trump'].sum()/ all_votes_count"
   ]
  },
  {
   "cell_type": "markdown",
   "metadata": {},
   "source": [
    "## What does the Pew poll say?"
   ]
  },
  {
   "cell_type": "code",
   "execution_count": 85,
   "metadata": {},
   "outputs": [
    {
     "data": {
      "text/plain": [
       "4904.5"
      ]
     },
     "execution_count": 85,
     "metadata": {},
     "output_type": "execute_result"
    }
   ],
   "source": [
    "d_only['weight'].sum()"
   ]
  },
  {
   "cell_type": "code",
   "execution_count": 86,
   "metadata": {},
   "outputs": [
    {
     "data": {
      "text/plain": [
       "q10horseGP\n",
       "Clinton/lean Clinton    2628.352941\n",
       "Trump/lean Trump        2276.147059\n",
       "Name: weight, dtype: float64"
      ]
     },
     "execution_count": 86,
     "metadata": {},
     "output_type": "execute_result"
    }
   ],
   "source": [
    "d_only.groupby(['q10horseGP'])['weight'].sum()"
   ]
  },
  {
   "cell_type": "code",
   "execution_count": 87,
   "metadata": {},
   "outputs": [
    {
     "data": {
      "text/plain": [
       "(0.53590640048454907, 0.46409359951545098)"
      ]
     },
     "execution_count": 87,
     "metadata": {},
     "output_type": "execute_result"
    }
   ],
   "source": [
    "d_only[d_only['q10horseGP'] == 'Clinton/lean Clinton']['weight'].sum() / d_only['weight'].sum(), \\\n",
    "d_only[d_only['q10horseGP'] == 'Trump/lean Trump']['weight'].sum() / d_only['weight'].sum()"
   ]
  },
  {
   "cell_type": "markdown",
   "metadata": {},
   "source": [
    "# Our predictions, adjusted by expected voting"
   ]
  },
  {
   "cell_type": "code",
   "execution_count": 88,
   "metadata": {},
   "outputs": [
    {
     "data": {
      "text/plain": [
       "(131389, 5)"
      ]
     },
     "execution_count": 88,
     "metadata": {},
     "output_type": "execute_result"
    }
   ],
   "source": [
    "d_voting = pd.read_csv('~/OneDrive/Personal/School/Master\\'s/DATA 512/Project/cps_votes.csv')\n",
    "d_voting.shape"
   ]
  },
  {
   "cell_type": "code",
   "execution_count": 89,
   "metadata": {},
   "outputs": [
    {
     "data": {
      "text/html": [
       "<div>\n",
       "<style scoped>\n",
       "    .dataframe tbody tr th:only-of-type {\n",
       "        vertical-align: middle;\n",
       "    }\n",
       "\n",
       "    .dataframe tbody tr th {\n",
       "        vertical-align: top;\n",
       "    }\n",
       "\n",
       "    .dataframe thead th {\n",
       "        text-align: right;\n",
       "    }\n",
       "</style>\n",
       "<table border=\"1\" class=\"dataframe\">\n",
       "  <thead>\n",
       "    <tr style=\"text-align: right;\">\n",
       "      <th></th>\n",
       "      <th>RACE</th>\n",
       "      <th>WTFINL</th>\n",
       "      <th>SEX</th>\n",
       "      <th>STATEFIP</th>\n",
       "      <th>VOTED</th>\n",
       "    </tr>\n",
       "  </thead>\n",
       "  <tbody>\n",
       "    <tr>\n",
       "      <th>0</th>\n",
       "      <td>White</td>\n",
       "      <td>1878.9962</td>\n",
       "      <td>Male</td>\n",
       "      <td>Alabama</td>\n",
       "      <td>Voted</td>\n",
       "    </tr>\n",
       "    <tr>\n",
       "      <th>1</th>\n",
       "      <td>White</td>\n",
       "      <td>1519.4506</td>\n",
       "      <td>Female</td>\n",
       "      <td>Alabama</td>\n",
       "      <td>Did not vote</td>\n",
       "    </tr>\n",
       "  </tbody>\n",
       "</table>\n",
       "</div>"
      ],
      "text/plain": [
       "    RACE     WTFINL     SEX STATEFIP         VOTED\n",
       "0  White  1878.9962    Male  Alabama         Voted\n",
       "1  White  1519.4506  Female  Alabama  Did not vote"
      ]
     },
     "execution_count": 89,
     "metadata": {},
     "output_type": "execute_result"
    }
   ],
   "source": [
    "d_voting[:2]"
   ]
  },
  {
   "cell_type": "code",
   "execution_count": 90,
   "metadata": {},
   "outputs": [
    {
     "data": {
      "text/plain": [
       "White                        104857\n",
       "Black or African-American     14055\n",
       "Asian or Asian-American        6972\n",
       "Mixed Race                     2901\n",
       "Or some other race             2604\n",
       "Name: mapped_racecmb, dtype: int64"
      ]
     },
     "execution_count": 90,
     "metadata": {},
     "output_type": "execute_result"
    }
   ],
   "source": [
    "d_voting['mapped_racecmb'] = d_voting['RACE'].map(map_cps_race_to_pew_racecmb)\n",
    "d_voting['mapped_racecmb'].value_counts(dropna=False)"
   ]
  },
  {
   "cell_type": "code",
   "execution_count": 91,
   "metadata": {},
   "outputs": [
    {
     "data": {
      "text/plain": [
       "(508, 4)"
      ]
     },
     "execution_count": 91,
     "metadata": {},
     "output_type": "execute_result"
    }
   ],
   "source": [
    "d_voting_pop_by_cell = d_voting.groupby(['SEX','mapped_racecmb','STATEFIP'], as_index=False)['WTFINL'].sum()\n",
    "d_voting_pop_by_cell.shape"
   ]
  },
  {
   "cell_type": "markdown",
   "metadata": {},
   "source": [
    "Hmm... that should be 2 x 5 x 51 = 510. Which states don't have all one row for each cell?"
   ]
  },
  {
   "cell_type": "code",
   "execution_count": 93,
   "metadata": {},
   "outputs": [
    {
     "data": {
      "text/plain": [
       "array(['Maine', 'Vermont'], dtype=object)"
      ]
     },
     "execution_count": 93,
     "metadata": {},
     "output_type": "execute_result"
    }
   ],
   "source": [
    "(d_voting_pop_by_cell['STATEFIP'].unique())[d_voting_pop_by_cell.groupby('STATEFIP').size() < 10]"
   ]
  },
  {
   "cell_type": "code",
   "execution_count": 94,
   "metadata": {},
   "outputs": [
    {
     "data": {
      "text/html": [
       "<div>\n",
       "<style scoped>\n",
       "    .dataframe tbody tr th:only-of-type {\n",
       "        vertical-align: middle;\n",
       "    }\n",
       "\n",
       "    .dataframe tbody tr th {\n",
       "        vertical-align: top;\n",
       "    }\n",
       "\n",
       "    .dataframe thead th {\n",
       "        text-align: right;\n",
       "    }\n",
       "</style>\n",
       "<table border=\"1\" class=\"dataframe\">\n",
       "  <thead>\n",
       "    <tr style=\"text-align: right;\">\n",
       "      <th></th>\n",
       "      <th>SEX</th>\n",
       "      <th>mapped_racecmb</th>\n",
       "      <th>STATEFIP</th>\n",
       "      <th>WTFINL</th>\n",
       "    </tr>\n",
       "  </thead>\n",
       "  <tbody>\n",
       "    <tr>\n",
       "      <th>19</th>\n",
       "      <td>Female</td>\n",
       "      <td>Asian or Asian-American</td>\n",
       "      <td>Maine</td>\n",
       "      <td>9754.6069</td>\n",
       "    </tr>\n",
       "    <tr>\n",
       "      <th>70</th>\n",
       "      <td>Female</td>\n",
       "      <td>Black or African-American</td>\n",
       "      <td>Maine</td>\n",
       "      <td>4462.1727</td>\n",
       "    </tr>\n",
       "    <tr>\n",
       "      <th>121</th>\n",
       "      <td>Female</td>\n",
       "      <td>Mixed Race</td>\n",
       "      <td>Maine</td>\n",
       "      <td>13686.0606</td>\n",
       "    </tr>\n",
       "    <tr>\n",
       "      <th>222</th>\n",
       "      <td>Female</td>\n",
       "      <td>White</td>\n",
       "      <td>Maine</td>\n",
       "      <td>644054.1601</td>\n",
       "    </tr>\n",
       "    <tr>\n",
       "      <th>273</th>\n",
       "      <td>Male</td>\n",
       "      <td>Asian or Asian-American</td>\n",
       "      <td>Maine</td>\n",
       "      <td>5334.7327</td>\n",
       "    </tr>\n",
       "    <tr>\n",
       "      <th>324</th>\n",
       "      <td>Male</td>\n",
       "      <td>Black or African-American</td>\n",
       "      <td>Maine</td>\n",
       "      <td>14303.7411</td>\n",
       "    </tr>\n",
       "    <tr>\n",
       "      <th>375</th>\n",
       "      <td>Male</td>\n",
       "      <td>Mixed Race</td>\n",
       "      <td>Maine</td>\n",
       "      <td>20999.6773</td>\n",
       "    </tr>\n",
       "    <tr>\n",
       "      <th>426</th>\n",
       "      <td>Male</td>\n",
       "      <td>Or some other race</td>\n",
       "      <td>Maine</td>\n",
       "      <td>5108.2904</td>\n",
       "    </tr>\n",
       "    <tr>\n",
       "      <th>476</th>\n",
       "      <td>Male</td>\n",
       "      <td>White</td>\n",
       "      <td>Maine</td>\n",
       "      <td>598546.5575</td>\n",
       "    </tr>\n",
       "  </tbody>\n",
       "</table>\n",
       "</div>"
      ],
      "text/plain": [
       "        SEX             mapped_racecmb STATEFIP       WTFINL\n",
       "19   Female    Asian or Asian-American    Maine    9754.6069\n",
       "70   Female  Black or African-American    Maine    4462.1727\n",
       "121  Female                 Mixed Race    Maine   13686.0606\n",
       "222  Female                      White    Maine  644054.1601\n",
       "273    Male    Asian or Asian-American    Maine    5334.7327\n",
       "324    Male  Black or African-American    Maine   14303.7411\n",
       "375    Male                 Mixed Race    Maine   20999.6773\n",
       "426    Male         Or some other race    Maine    5108.2904\n",
       "476    Male                      White    Maine  598546.5575"
      ]
     },
     "execution_count": 94,
     "metadata": {},
     "output_type": "execute_result"
    }
   ],
   "source": [
    "d_voting_pop_by_cell[d_voting_pop_by_cell['STATEFIP'] == 'Maine']"
   ]
  },
  {
   "cell_type": "code",
   "execution_count": 95,
   "metadata": {},
   "outputs": [
    {
     "data": {
      "text/html": [
       "<div>\n",
       "<style scoped>\n",
       "    .dataframe tbody tr th:only-of-type {\n",
       "        vertical-align: middle;\n",
       "    }\n",
       "\n",
       "    .dataframe tbody tr th {\n",
       "        vertical-align: top;\n",
       "    }\n",
       "\n",
       "    .dataframe thead th {\n",
       "        text-align: right;\n",
       "    }\n",
       "</style>\n",
       "<table border=\"1\" class=\"dataframe\">\n",
       "  <thead>\n",
       "    <tr style=\"text-align: right;\">\n",
       "      <th></th>\n",
       "      <th>SEX</th>\n",
       "      <th>mapped_racecmb</th>\n",
       "      <th>STATEFIP</th>\n",
       "      <th>WTFINL</th>\n",
       "    </tr>\n",
       "  </thead>\n",
       "  <tbody>\n",
       "    <tr>\n",
       "      <th>45</th>\n",
       "      <td>Female</td>\n",
       "      <td>Asian or Asian-American</td>\n",
       "      <td>Vermont</td>\n",
       "      <td>7194.2980</td>\n",
       "    </tr>\n",
       "    <tr>\n",
       "      <th>96</th>\n",
       "      <td>Female</td>\n",
       "      <td>Black or African-American</td>\n",
       "      <td>Vermont</td>\n",
       "      <td>3659.6508</td>\n",
       "    </tr>\n",
       "    <tr>\n",
       "      <th>147</th>\n",
       "      <td>Female</td>\n",
       "      <td>Mixed Race</td>\n",
       "      <td>Vermont</td>\n",
       "      <td>7383.7707</td>\n",
       "    </tr>\n",
       "    <tr>\n",
       "      <th>197</th>\n",
       "      <td>Female</td>\n",
       "      <td>Or some other race</td>\n",
       "      <td>Vermont</td>\n",
       "      <td>3078.2986</td>\n",
       "    </tr>\n",
       "    <tr>\n",
       "      <th>248</th>\n",
       "      <td>Female</td>\n",
       "      <td>White</td>\n",
       "      <td>Vermont</td>\n",
       "      <td>292484.9831</td>\n",
       "    </tr>\n",
       "    <tr>\n",
       "      <th>299</th>\n",
       "      <td>Male</td>\n",
       "      <td>Asian or Asian-American</td>\n",
       "      <td>Vermont</td>\n",
       "      <td>8141.2312</td>\n",
       "    </tr>\n",
       "    <tr>\n",
       "      <th>350</th>\n",
       "      <td>Male</td>\n",
       "      <td>Black or African-American</td>\n",
       "      <td>Vermont</td>\n",
       "      <td>4593.6401</td>\n",
       "    </tr>\n",
       "    <tr>\n",
       "      <th>401</th>\n",
       "      <td>Male</td>\n",
       "      <td>Mixed Race</td>\n",
       "      <td>Vermont</td>\n",
       "      <td>8969.2326</td>\n",
       "    </tr>\n",
       "    <tr>\n",
       "      <th>502</th>\n",
       "      <td>Male</td>\n",
       "      <td>White</td>\n",
       "      <td>Vermont</td>\n",
       "      <td>283089.8951</td>\n",
       "    </tr>\n",
       "  </tbody>\n",
       "</table>\n",
       "</div>"
      ],
      "text/plain": [
       "        SEX             mapped_racecmb STATEFIP       WTFINL\n",
       "45   Female    Asian or Asian-American  Vermont    7194.2980\n",
       "96   Female  Black or African-American  Vermont    3659.6508\n",
       "147  Female                 Mixed Race  Vermont    7383.7707\n",
       "197  Female         Or some other race  Vermont    3078.2986\n",
       "248  Female                      White  Vermont  292484.9831\n",
       "299    Male    Asian or Asian-American  Vermont    8141.2312\n",
       "350    Male  Black or African-American  Vermont    4593.6401\n",
       "401    Male                 Mixed Race  Vermont    8969.2326\n",
       "502    Male                      White  Vermont  283089.8951"
      ]
     },
     "execution_count": 95,
     "metadata": {},
     "output_type": "execute_result"
    }
   ],
   "source": [
    "d_voting_pop_by_cell[d_voting_pop_by_cell['STATEFIP'] == 'Vermont']"
   ]
  },
  {
   "cell_type": "markdown",
   "metadata": {},
   "source": [
    "Turns out that Maine is missing females of 'Or some other race' and Vermont is missing males of 'Or some other race'."
   ]
  },
  {
   "cell_type": "code",
   "execution_count": 96,
   "metadata": {},
   "outputs": [
    {
     "data": {
      "text/plain": [
       "(490, 4)"
      ]
     },
     "execution_count": 96,
     "metadata": {},
     "output_type": "execute_result"
    }
   ],
   "source": [
    "d_voted_pop_by_cell = d_voting[d_voting['VOTED'] == 'Voted'].groupby(['SEX','mapped_racecmb','STATEFIP'], as_index=False)['WTFINL'].sum()\n",
    "d_voted_pop_by_cell.shape"
   ]
  },
  {
   "cell_type": "code",
   "execution_count": 97,
   "metadata": {},
   "outputs": [
    {
     "data": {
      "text/html": [
       "<div>\n",
       "<style scoped>\n",
       "    .dataframe tbody tr th:only-of-type {\n",
       "        vertical-align: middle;\n",
       "    }\n",
       "\n",
       "    .dataframe tbody tr th {\n",
       "        vertical-align: top;\n",
       "    }\n",
       "\n",
       "    .dataframe thead th {\n",
       "        text-align: right;\n",
       "    }\n",
       "</style>\n",
       "<table border=\"1\" class=\"dataframe\">\n",
       "  <thead>\n",
       "    <tr style=\"text-align: right;\">\n",
       "      <th></th>\n",
       "      <th>SEX</th>\n",
       "      <th>mapped_racecmb</th>\n",
       "      <th>STATEFIP</th>\n",
       "      <th>WTFINL</th>\n",
       "    </tr>\n",
       "  </thead>\n",
       "  <tbody>\n",
       "    <tr>\n",
       "      <th>0</th>\n",
       "      <td>Female</td>\n",
       "      <td>Asian or Asian-American</td>\n",
       "      <td>Alabama</td>\n",
       "      <td>1822.7216</td>\n",
       "    </tr>\n",
       "    <tr>\n",
       "      <th>1</th>\n",
       "      <td>Female</td>\n",
       "      <td>Asian or Asian-American</td>\n",
       "      <td>Alaska</td>\n",
       "      <td>4588.3356</td>\n",
       "    </tr>\n",
       "  </tbody>\n",
       "</table>\n",
       "</div>"
      ],
      "text/plain": [
       "      SEX           mapped_racecmb STATEFIP     WTFINL\n",
       "0  Female  Asian or Asian-American  Alabama  1822.7216\n",
       "1  Female  Asian or Asian-American   Alaska  4588.3356"
      ]
     },
     "execution_count": 97,
     "metadata": {},
     "output_type": "execute_result"
    }
   ],
   "source": [
    "d_voted_pop_by_cell[:2]"
   ]
  },
  {
   "cell_type": "code",
   "execution_count": 98,
   "metadata": {},
   "outputs": [
    {
     "data": {
      "text/plain": [
       "(475, 4)"
      ]
     },
     "execution_count": 98,
     "metadata": {},
     "output_type": "execute_result"
    }
   ],
   "source": [
    "d_didnotvote_pop_by_cell = d_voting[d_voting['VOTED'] == 'Did not vote'].groupby(['SEX','mapped_racecmb','STATEFIP'], as_index=False)['WTFINL'].sum()\n",
    "d_didnotvote_pop_by_cell.shape"
   ]
  },
  {
   "cell_type": "code",
   "execution_count": 99,
   "metadata": {},
   "outputs": [
    {
     "data": {
      "text/html": [
       "<div>\n",
       "<style scoped>\n",
       "    .dataframe tbody tr th:only-of-type {\n",
       "        vertical-align: middle;\n",
       "    }\n",
       "\n",
       "    .dataframe tbody tr th {\n",
       "        vertical-align: top;\n",
       "    }\n",
       "\n",
       "    .dataframe thead th {\n",
       "        text-align: right;\n",
       "    }\n",
       "</style>\n",
       "<table border=\"1\" class=\"dataframe\">\n",
       "  <thead>\n",
       "    <tr style=\"text-align: right;\">\n",
       "      <th></th>\n",
       "      <th>SEX</th>\n",
       "      <th>mapped_racecmb</th>\n",
       "      <th>STATEFIP</th>\n",
       "      <th>WTFINL</th>\n",
       "    </tr>\n",
       "  </thead>\n",
       "  <tbody>\n",
       "    <tr>\n",
       "      <th>0</th>\n",
       "      <td>Female</td>\n",
       "      <td>Asian or Asian-American</td>\n",
       "      <td>Alabama</td>\n",
       "      <td>3167.1616</td>\n",
       "    </tr>\n",
       "    <tr>\n",
       "      <th>1</th>\n",
       "      <td>Female</td>\n",
       "      <td>Asian or Asian-American</td>\n",
       "      <td>Alaska</td>\n",
       "      <td>3133.0862</td>\n",
       "    </tr>\n",
       "  </tbody>\n",
       "</table>\n",
       "</div>"
      ],
      "text/plain": [
       "      SEX           mapped_racecmb STATEFIP     WTFINL\n",
       "0  Female  Asian or Asian-American  Alabama  3167.1616\n",
       "1  Female  Asian or Asian-American   Alaska  3133.0862"
      ]
     },
     "execution_count": 99,
     "metadata": {},
     "output_type": "execute_result"
    }
   ],
   "source": [
    "d_didnotvote_pop_by_cell[:2]"
   ]
  },
  {
   "cell_type": "code",
   "execution_count": 105,
   "metadata": {},
   "outputs": [
    {
     "data": {
      "text/html": [
       "<div>\n",
       "<style scoped>\n",
       "    .dataframe tbody tr th:only-of-type {\n",
       "        vertical-align: middle;\n",
       "    }\n",
       "\n",
       "    .dataframe tbody tr th {\n",
       "        vertical-align: top;\n",
       "    }\n",
       "\n",
       "    .dataframe thead th {\n",
       "        text-align: right;\n",
       "    }\n",
       "</style>\n",
       "<table border=\"1\" class=\"dataframe\">\n",
       "  <thead>\n",
       "    <tr style=\"text-align: right;\">\n",
       "      <th></th>\n",
       "      <th>sex</th>\n",
       "      <th>racecmb</th>\n",
       "      <th>state</th>\n",
       "      <th>voted_prop</th>\n",
       "    </tr>\n",
       "  </thead>\n",
       "  <tbody>\n",
       "    <tr>\n",
       "      <th>0</th>\n",
       "      <td>Female</td>\n",
       "      <td>Asian or Asian-American</td>\n",
       "      <td>Alabama</td>\n",
       "      <td>0.365283</td>\n",
       "    </tr>\n",
       "    <tr>\n",
       "      <th>1</th>\n",
       "      <td>Female</td>\n",
       "      <td>Asian or Asian-American</td>\n",
       "      <td>Alaska</td>\n",
       "      <td>0.594235</td>\n",
       "    </tr>\n",
       "    <tr>\n",
       "      <th>2</th>\n",
       "      <td>Female</td>\n",
       "      <td>Asian or Asian-American</td>\n",
       "      <td>Arizona</td>\n",
       "      <td>0.721009</td>\n",
       "    </tr>\n",
       "    <tr>\n",
       "      <th>3</th>\n",
       "      <td>Female</td>\n",
       "      <td>Asian or Asian-American</td>\n",
       "      <td>Arkansas</td>\n",
       "      <td>1.000000</td>\n",
       "    </tr>\n",
       "    <tr>\n",
       "      <th>4</th>\n",
       "      <td>Female</td>\n",
       "      <td>Asian or Asian-American</td>\n",
       "      <td>California</td>\n",
       "      <td>0.617409</td>\n",
       "    </tr>\n",
       "  </tbody>\n",
       "</table>\n",
       "</div>"
      ],
      "text/plain": [
       "      sex                  racecmb       state  voted_prop\n",
       "0  Female  Asian or Asian-American     Alabama    0.365283\n",
       "1  Female  Asian or Asian-American      Alaska    0.594235\n",
       "2  Female  Asian or Asian-American     Arizona    0.721009\n",
       "3  Female  Asian or Asian-American    Arkansas    1.000000\n",
       "4  Female  Asian or Asian-American  California    0.617409"
      ]
     },
     "execution_count": 105,
     "metadata": {},
     "output_type": "execute_result"
    }
   ],
   "source": [
    "def get_voted_proportion(g):\n",
    "    voted_count = g[g['VOTED'] == 'Voted']['WTFINL'].sum()\n",
    "    if np.isnan(voted_count): # if there are no vote rows, then we had zero (don't think there's a way to do this via a built-in function)\n",
    "        voted_count = 0\n",
    "    \n",
    "    didnotvote_count = g[g['VOTED'] == 'Did not vote']['WTFINL'].sum()\n",
    "    if np.isnan(didnotvote_count): \n",
    "        didnotvote_count = 0\n",
    "\n",
    "    total_count = voted_count + didnotvote_count\n",
    "    \n",
    "    if total_count != 0:\n",
    "        return voted_count / (voted_count + didnotvote_count)\n",
    "    else:\n",
    "        return np.nan\n",
    "\n",
    "\n",
    "# have to use reset_index instead of as_index=False because the latter isn't working w/ .apply\n",
    "d_voted_prop = d_voting.groupby(['SEX','mapped_racecmb','STATEFIP']).apply(get_voted_proportion).reset_index()\n",
    "d_voted_prop.rename(columns={0:'voted_prop','SEX':'sex','mapped_racecmb':'racecmb','STATEFIP':'state'}, inplace=True)\n",
    "d_voted_prop[:5]"
   ]
  },
  {
   "cell_type": "markdown",
   "metadata": {},
   "source": [
    "## Impute/guess at some proportions where we don't have data"
   ]
  },
  {
   "cell_type": "code",
   "execution_count": 104,
   "metadata": {},
   "outputs": [
    {
     "data": {
      "text/html": [
       "<div>\n",
       "<style scoped>\n",
       "    .dataframe tbody tr th:only-of-type {\n",
       "        vertical-align: middle;\n",
       "    }\n",
       "\n",
       "    .dataframe tbody tr th {\n",
       "        vertical-align: top;\n",
       "    }\n",
       "\n",
       "    .dataframe thead th {\n",
       "        text-align: right;\n",
       "    }\n",
       "</style>\n",
       "<table border=\"1\" class=\"dataframe\">\n",
       "  <thead>\n",
       "    <tr style=\"text-align: right;\">\n",
       "      <th></th>\n",
       "      <th>sex</th>\n",
       "      <th>racecmb</th>\n",
       "      <th>state</th>\n",
       "      <th>trump_prob</th>\n",
       "      <th>population</th>\n",
       "      <th>votes_clinton</th>\n",
       "      <th>votes_trump</th>\n",
       "    </tr>\n",
       "  </thead>\n",
       "  <tbody>\n",
       "    <tr>\n",
       "      <th>0</th>\n",
       "      <td>Female</td>\n",
       "      <td>Asian or Asian-American</td>\n",
       "      <td>Alabama</td>\n",
       "      <td>0.377199</td>\n",
       "      <td>51040.97</td>\n",
       "      <td>31788</td>\n",
       "      <td>19252</td>\n",
       "    </tr>\n",
       "    <tr>\n",
       "      <th>1</th>\n",
       "      <td>Female</td>\n",
       "      <td>Asian or Asian-American</td>\n",
       "      <td>Alaska</td>\n",
       "      <td>0.316101</td>\n",
       "      <td>28853.07</td>\n",
       "      <td>19732</td>\n",
       "      <td>9120</td>\n",
       "    </tr>\n",
       "  </tbody>\n",
       "</table>\n",
       "</div>"
      ],
      "text/plain": [
       "      sex                  racecmb    state  trump_prob  population  \\\n",
       "0  Female  Asian or Asian-American  Alabama    0.377199    51040.97   \n",
       "1  Female  Asian or Asian-American   Alaska    0.316101    28853.07   \n",
       "\n",
       "   votes_clinton  votes_trump  \n",
       "0          31788        19252  \n",
       "1          19732         9120  "
      ]
     },
     "execution_count": 104,
     "metadata": {},
     "output_type": "execute_result"
    }
   ],
   "source": [
    "all_cells_with_results[:2]"
   ]
  },
  {
   "cell_type": "code",
   "execution_count": 106,
   "metadata": {},
   "outputs": [
    {
     "data": {
      "text/plain": [
       "(510, 8)"
      ]
     },
     "execution_count": 106,
     "metadata": {},
     "output_type": "execute_result"
    }
   ],
   "source": [
    "all_cells_with_results_and_voted_prop = all_cells_with_results.merge(d_voted_prop, \n",
    "                on=['sex','racecmb','state'], how='left')\n",
    "all_cells_with_results_and_voted_prop.shape"
   ]
  },
  {
   "cell_type": "code",
   "execution_count": 107,
   "metadata": {},
   "outputs": [
    {
     "data": {
      "text/html": [
       "<div>\n",
       "<style scoped>\n",
       "    .dataframe tbody tr th:only-of-type {\n",
       "        vertical-align: middle;\n",
       "    }\n",
       "\n",
       "    .dataframe tbody tr th {\n",
       "        vertical-align: top;\n",
       "    }\n",
       "\n",
       "    .dataframe thead th {\n",
       "        text-align: right;\n",
       "    }\n",
       "</style>\n",
       "<table border=\"1\" class=\"dataframe\">\n",
       "  <thead>\n",
       "    <tr style=\"text-align: right;\">\n",
       "      <th></th>\n",
       "      <th>sex</th>\n",
       "      <th>racecmb</th>\n",
       "      <th>state</th>\n",
       "      <th>trump_prob</th>\n",
       "      <th>population</th>\n",
       "      <th>votes_clinton</th>\n",
       "      <th>votes_trump</th>\n",
       "      <th>voted_prop</th>\n",
       "    </tr>\n",
       "  </thead>\n",
       "  <tbody>\n",
       "    <tr>\n",
       "      <th>0</th>\n",
       "      <td>Female</td>\n",
       "      <td>Asian or Asian-American</td>\n",
       "      <td>Alabama</td>\n",
       "      <td>0.377199</td>\n",
       "      <td>51040.97</td>\n",
       "      <td>31788</td>\n",
       "      <td>19252</td>\n",
       "      <td>0.365283</td>\n",
       "    </tr>\n",
       "    <tr>\n",
       "      <th>1</th>\n",
       "      <td>Female</td>\n",
       "      <td>Asian or Asian-American</td>\n",
       "      <td>Alaska</td>\n",
       "      <td>0.316101</td>\n",
       "      <td>28853.07</td>\n",
       "      <td>19732</td>\n",
       "      <td>9120</td>\n",
       "      <td>0.594235</td>\n",
       "    </tr>\n",
       "  </tbody>\n",
       "</table>\n",
       "</div>"
      ],
      "text/plain": [
       "      sex                  racecmb    state  trump_prob  population  \\\n",
       "0  Female  Asian or Asian-American  Alabama    0.377199    51040.97   \n",
       "1  Female  Asian or Asian-American   Alaska    0.316101    28853.07   \n",
       "\n",
       "   votes_clinton  votes_trump  voted_prop  \n",
       "0          31788        19252    0.365283  \n",
       "1          19732         9120    0.594235  "
      ]
     },
     "execution_count": 107,
     "metadata": {},
     "output_type": "execute_result"
    }
   ],
   "source": [
    "all_cells_with_results_and_voted_prop[:2]"
   ]
  },
  {
   "cell_type": "markdown",
   "metadata": {},
   "source": [
    "The Nov 2016 monthly CPS data doesn't have voted data for every single one of the 510 cells. For two - noted (WHERE?) - there's no data at all/no rows at all for a particular combination, and for more there's at least some rows but there are no voted/did not vote rows for that cell. In either case, we have a nan, since we can't say anything at all about that cell. (There are also some cells where all of the rows are either vote or did not vote, and we've - for better or worse - already marked these as 100% or 0%, respectively.)\n",
    "\n",
    "Also, I checked a few of the cells and the number of actual votes for the cells are small, so we likely won't change our results in ways we'd notice. \n",
    "\n",
    "For ease of implementation, we'll just set these values to the average voted proportion (overall - we could do it from common cells, but won't bother since the number of affected votes is so small)."
   ]
  },
  {
   "cell_type": "code",
   "execution_count": 108,
   "metadata": {},
   "outputs": [
    {
     "data": {
      "text/plain": [
       "0.71859397336959685"
      ]
     },
     "execution_count": 108,
     "metadata": {},
     "output_type": "execute_result"
    }
   ],
   "source": [
    "voted_count = d_voting[d_voting['VOTED'] == 'Voted']['WTFINL'].sum()\n",
    "did_not_vote_count = d_voting[d_voting['VOTED'] == 'Did not vote']['WTFINL'].sum()\n",
    "overall_prop_voted = voted_count / (voted_count + did_not_vote_count)\n",
    "overall_prop_voted"
   ]
  },
  {
   "cell_type": "code",
   "execution_count": 109,
   "metadata": {
    "collapsed": true
   },
   "outputs": [],
   "source": [
    "all_cells_with_results_and_voted_prop['voted_prop'].fillna(overall_prop_voted, inplace=True)"
   ]
  },
  {
   "cell_type": "code",
   "execution_count": 110,
   "metadata": {},
   "outputs": [
    {
     "data": {
      "text/html": [
       "<div>\n",
       "<style scoped>\n",
       "    .dataframe tbody tr th:only-of-type {\n",
       "        vertical-align: middle;\n",
       "    }\n",
       "\n",
       "    .dataframe tbody tr th {\n",
       "        vertical-align: top;\n",
       "    }\n",
       "\n",
       "    .dataframe thead th {\n",
       "        text-align: right;\n",
       "    }\n",
       "</style>\n",
       "<table border=\"1\" class=\"dataframe\">\n",
       "  <thead>\n",
       "    <tr style=\"text-align: right;\">\n",
       "      <th></th>\n",
       "      <th>sex</th>\n",
       "      <th>racecmb</th>\n",
       "      <th>state</th>\n",
       "      <th>trump_prob</th>\n",
       "      <th>population</th>\n",
       "      <th>votes_clinton</th>\n",
       "      <th>votes_trump</th>\n",
       "      <th>voted_prop</th>\n",
       "    </tr>\n",
       "  </thead>\n",
       "  <tbody>\n",
       "  </tbody>\n",
       "</table>\n",
       "</div>"
      ],
      "text/plain": [
       "Empty DataFrame\n",
       "Columns: [sex, racecmb, state, trump_prob, population, votes_clinton, votes_trump, voted_prop]\n",
       "Index: []"
      ]
     },
     "execution_count": 110,
     "metadata": {},
     "output_type": "execute_result"
    }
   ],
   "source": [
    "all_cells_with_results_and_voted_prop[all_cells_with_results_and_voted_prop['voted_prop'].isnull()]"
   ]
  },
  {
   "cell_type": "code",
   "execution_count": 111,
   "metadata": {},
   "outputs": [
    {
     "data": {
      "text/html": [
       "<div>\n",
       "<style scoped>\n",
       "    .dataframe tbody tr th:only-of-type {\n",
       "        vertical-align: middle;\n",
       "    }\n",
       "\n",
       "    .dataframe tbody tr th {\n",
       "        vertical-align: top;\n",
       "    }\n",
       "\n",
       "    .dataframe thead th {\n",
       "        text-align: right;\n",
       "    }\n",
       "</style>\n",
       "<table border=\"1\" class=\"dataframe\">\n",
       "  <thead>\n",
       "    <tr style=\"text-align: right;\">\n",
       "      <th></th>\n",
       "      <th>sex</th>\n",
       "      <th>racecmb</th>\n",
       "      <th>state</th>\n",
       "      <th>trump_prob</th>\n",
       "      <th>population</th>\n",
       "      <th>votes_clinton</th>\n",
       "      <th>votes_trump</th>\n",
       "      <th>voted_prop</th>\n",
       "      <th>est_population_voted</th>\n",
       "      <th>votes_clinton_adj</th>\n",
       "      <th>votes_trump_adj</th>\n",
       "    </tr>\n",
       "  </thead>\n",
       "  <tbody>\n",
       "    <tr>\n",
       "      <th>0</th>\n",
       "      <td>Female</td>\n",
       "      <td>Asian or Asian-American</td>\n",
       "      <td>Alabama</td>\n",
       "      <td>0.377199</td>\n",
       "      <td>51040.97</td>\n",
       "      <td>31788</td>\n",
       "      <td>19252</td>\n",
       "      <td>0.365283</td>\n",
       "      <td>18644.420075</td>\n",
       "      <td>11612</td>\n",
       "      <td>7033</td>\n",
       "    </tr>\n",
       "    <tr>\n",
       "      <th>1</th>\n",
       "      <td>Female</td>\n",
       "      <td>Asian or Asian-American</td>\n",
       "      <td>Alaska</td>\n",
       "      <td>0.316101</td>\n",
       "      <td>28853.07</td>\n",
       "      <td>19732</td>\n",
       "      <td>9120</td>\n",
       "      <td>0.594235</td>\n",
       "      <td>17145.491035</td>\n",
       "      <td>11726</td>\n",
       "      <td>5420</td>\n",
       "    </tr>\n",
       "    <tr>\n",
       "      <th>2</th>\n",
       "      <td>Female</td>\n",
       "      <td>Asian or Asian-American</td>\n",
       "      <td>Arizona</td>\n",
       "      <td>0.310803</td>\n",
       "      <td>124310.67</td>\n",
       "      <td>85674</td>\n",
       "      <td>38636</td>\n",
       "      <td>0.721009</td>\n",
       "      <td>89629.100394</td>\n",
       "      <td>61772</td>\n",
       "      <td>27857</td>\n",
       "    </tr>\n",
       "  </tbody>\n",
       "</table>\n",
       "</div>"
      ],
      "text/plain": [
       "      sex                  racecmb    state  trump_prob  population  \\\n",
       "0  Female  Asian or Asian-American  Alabama    0.377199    51040.97   \n",
       "1  Female  Asian or Asian-American   Alaska    0.316101    28853.07   \n",
       "2  Female  Asian or Asian-American  Arizona    0.310803   124310.67   \n",
       "\n",
       "   votes_clinton  votes_trump  voted_prop  est_population_voted  \\\n",
       "0          31788        19252    0.365283          18644.420075   \n",
       "1          19732         9120    0.594235          17145.491035   \n",
       "2          85674        38636    0.721009          89629.100394   \n",
       "\n",
       "   votes_clinton_adj  votes_trump_adj  \n",
       "0              11612             7033  \n",
       "1              11726             5420  \n",
       "2              61772            27857  "
      ]
     },
     "execution_count": 111,
     "metadata": {},
     "output_type": "execute_result"
    }
   ],
   "source": [
    "all_cells_with_results_and_adj_voted_data = all_cells_with_results_and_voted_prop.copy()\n",
    "all_cells_with_results_and_adj_voted_data['est_population_voted'] = all_cells_with_results_and_adj_voted_data['population'] * \\\n",
    "                                                            all_cells_with_results_and_adj_voted_data['voted_prop']\n",
    "all_cells_with_results_and_adj_voted_data['votes_clinton_adj'] = np.round(all_cells_with_results_and_adj_voted_data['est_population_voted'] * \\\n",
    "                                                            (1 - all_cells_with_results_and_adj_voted_data['trump_prob'])).astype(int)\n",
    "all_cells_with_results_and_adj_voted_data['votes_trump_adj'] = np.round(all_cells_with_results_and_adj_voted_data['est_population_voted'] * \\\n",
    "                                                            all_cells_with_results_and_adj_voted_data['trump_prob']).astype(int)\n",
    "\n",
    "all_cells_with_results_and_adj_voted_data[:3]"
   ]
  },
  {
   "cell_type": "markdown",
   "metadata": {},
   "source": [
    "## What's the prediction based on counts adjusted for likelihood to vote?"
   ]
  },
  {
   "cell_type": "code",
   "execution_count": 112,
   "metadata": {},
   "outputs": [
    {
     "data": {
      "text/plain": [
       "227710319"
      ]
     },
     "execution_count": 112,
     "metadata": {},
     "output_type": "execute_result"
    }
   ],
   "source": [
    "all_votes_adj_count = all_cells_with_results_and_adj_voted_data['votes_clinton_adj'].sum() + \\\n",
    "                      all_cells_with_results_and_adj_voted_data['votes_trump_adj'].sum()\n",
    "all_votes_adj_count"
   ]
  },
  {
   "cell_type": "code",
   "execution_count": 113,
   "metadata": {},
   "outputs": [
    {
     "data": {
      "text/plain": [
       "(129190405, 98519914)"
      ]
     },
     "execution_count": 113,
     "metadata": {},
     "output_type": "execute_result"
    }
   ],
   "source": [
    "all_cells_with_results_and_adj_voted_data['votes_clinton_adj'].sum(), \\\n",
    "all_cells_with_results_and_adj_voted_data['votes_trump_adj'].sum()"
   ]
  },
  {
   "cell_type": "code",
   "execution_count": 114,
   "metadata": {},
   "outputs": [
    {
     "data": {
      "text/plain": [
       "(0.56734541309917541, 0.43265458690082464)"
      ]
     },
     "execution_count": 114,
     "metadata": {},
     "output_type": "execute_result"
    }
   ],
   "source": [
    "all_cells_with_results_and_adj_voted_data['votes_clinton_adj'].sum() / all_votes_adj_count, \\\n",
    "all_cells_with_results_and_adj_voted_data['votes_trump_adj'].sum()  / all_votes_adj_count"
   ]
  },
  {
   "cell_type": "markdown",
   "metadata": {},
   "source": [
    "This proportion is dismayingly close to the original prediction - here 0.568 vs 0.567, even though the number of votes is so much smaller and, from an eyeball perspectie I thought that certain cells that I know have diff props for voting one or the other (for ex, depending on race) appeared to have a different likelihood to have voted. It's still different from the Pew prediction. If I did get this right, at least I tried it and showed that this alone isn't the cause of the difference.\n",
    "\n",
    "TODO First off, I absolutely need to sanity check the above, especially the end (when I was most tired), and make sure everything holds up and is consistent. Perhaps I made obvious mistakes."
   ]
  },
  {
   "cell_type": "code",
   "execution_count": null,
   "metadata": {
    "collapsed": true
   },
   "outputs": [],
   "source": []
  }
 ],
 "metadata": {
  "kernelspec": {
   "display_name": "Python 3",
   "language": "python",
   "name": "python3"
  },
  "language_info": {
   "codemirror_mode": {
    "name": "ipython",
    "version": 3
   },
   "file_extension": ".py",
   "mimetype": "text/x-python",
   "name": "python",
   "nbconvert_exporter": "python",
   "pygments_lexer": "ipython3",
   "version": "3.6.1"
  }
 },
 "nbformat": 4,
 "nbformat_minor": 2
}
