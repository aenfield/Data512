{
 "cells": [
  {
   "cell_type": "markdown",
   "metadata": {},
   "source": [
    "# Enfield, Andrew - DATA 512, A1: Data curation"
   ]
  },
  {
   "cell_type": "markdown",
   "metadata": {},
   "source": [
    "This notebook pulls, prepares, and analyzes data about the amount of monthly English Wikipedia traffic from January 1, 2008 through September 30, 2017. For more information about the work and data, refer to the [README](Readme.md).\n",
    "\n",
    "A few notes:\n",
    "- Normally I'd prefer to keep the explanation and background that's in the README here in the notebook, so everything's in a single file, but I've split it up this time as that's what the assignment requested. I won't copy/paste because keeping duplicate content in sync is horrible.\n",
    "- Real reproducibility needs tests for the code. A lot of my implementation below is in functions. I'd normally put these functions in at least one separate file that I import into this notebook, and I'd have tests in an additional file. For this assignment I'll just keep everything in this file, for simplicity, even though it means I can't test the code the way I normally would."
   ]
  },
  {
   "cell_type": "markdown",
   "metadata": {},
   "source": [
    "# Prereqs "
   ]
  },
  {
   "cell_type": "markdown",
   "metadata": {},
   "source": [
    "This code requires the libraries as described below."
   ]
  },
  {
   "cell_type": "code",
   "execution_count": 1,
   "metadata": {
    "collapsed": true
   },
   "outputs": [],
   "source": [
    "# load data\n",
    "import requests\n",
    "import os\n",
    "import json\n",
    "\n",
    "# prepare and analyze data\n",
    "import pandas as pd\n",
    "import numpy as np\n",
    "import matplotlib.pyplot as plt\n",
    "from mpl_toolkits.axes_grid.anchored_artists import AnchoredText # for addtl annotations in charts\n",
    "from matplotlib.ticker import FuncFormatter # for custom axis labels\n",
    "from IPython.core.pylabtools import figsize\n",
    "import seaborn as sns # for formatting\n",
    "%matplotlib inline "
   ]
  },
  {
   "cell_type": "code",
   "execution_count": 2,
   "metadata": {
    "collapsed": true
   },
   "outputs": [],
   "source": [
    "sns.set_style(\"whitegrid\")\n",
    "figsize(14,7)"
   ]
  },
  {
   "cell_type": "markdown",
   "metadata": {},
   "source": [
    "# Load data"
   ]
  },
  {
   "cell_type": "markdown",
   "metadata": {
    "collapsed": true
   },
   "source": [
    "This section loads the data from the two APIs described in the [README](README.md), producing five separate .json files, one for each API and access combination.\n",
    "\n",
    "First, I'll define some variables to hold the date ranges we'll use. Passing the the exact ending day of the last month, as I do here, causes the API to return the same same result as passing a day in the following month; passing the ending day also simplifies the filename generation code below because that code doesn't need to 'go back in time' to output the correct month value."
   ]
  },
  {
   "cell_type": "code",
   "execution_count": 3,
   "metadata": {
    "collapsed": true
   },
   "outputs": [],
   "source": [
    "PAGECOUNTS_START = '2008010100'\n",
    "PAGECOUNTS_END = '2016073100'\n",
    "PAGEVIEWS_START = '2015070100'\n",
    "PAGEVIEWS_END = '2017093000'\n",
    "\n",
    "API_DATE_FORMAT = '%Y%m%d%H'\n",
    "\n",
    "USER_AGENT = 'https://github.com/aenfield'"
   ]
  },
  {
   "cell_type": "markdown",
   "metadata": {},
   "source": [
    "Then I'll define functions that hold the logic I'll use to name and load each file."
   ]
  },
  {
   "cell_type": "code",
   "execution_count": 4,
   "metadata": {
    "collapsed": true
   },
   "outputs": [],
   "source": [
    "def get_param_dict_from_params(access, start, end):\n",
    "    \"\"\"Convenience function to get a params dict for the API call given the passed values.\"\"\"\n",
    "    return {'access': access, 'start': start, 'end': end}"
   ]
  },
  {
   "cell_type": "code",
   "execution_count": 5,
   "metadata": {
    "collapsed": true
   },
   "outputs": [],
   "source": [
    "def get_filename_from_params(apiname, params):\n",
    "    \"\"\"Return a filename, for saving or loading JSON, given the API and required parameters.\"\"\"\n",
    "    \n",
    "    # Mark up the dict so we can pass a dict with all values we need.\n",
    "    # We have to format the start/end because .format doesn't handle\n",
    "    # string slicing in the format string itself. We'll use a copy\n",
    "    # so we don't modify the passed dict as an undesirable side effect.\n",
    "    p = params.copy()\n",
    "    p['apiname'] = apiname \n",
    "    p['start'] = p['start'][:6] # we only want year/month - could convert to datetime and format but this is simpler given that we know the input format\n",
    "    p['end'] = p['end'][:6]\n",
    "    return \"{apiname}_{access}_{start}_{end}.json\".format(**p)"
   ]
  },
  {
   "cell_type": "code",
   "execution_count": 6,
   "metadata": {
    "collapsed": true
   },
   "outputs": [],
   "source": [
    "def download_page_access_data(apiname, params, user_agent, force=False, verbose=False):\n",
    "    \"\"\"Download and save results from the specified API to a local file, by default only if local file doesn't exist.\n",
    "    \n",
    "    apiname - 'pagecounts' or 'pageviews'\n",
    "    params - a dict containing 'access', 'start', and 'end' keys; use get_param_dict_from_params\n",
    "    user_agent - an identifier for the user making the request; can be a GitHub user URL or general email address\n",
    "    force - download data and overwrite local file, even if file already exists; default is False\n",
    "    verbose - print diagnostic data; default is false\n",
    "    \"\"\"\n",
    "    \n",
    "    filename = get_filename_from_params(apiname, params)\n",
    "    if verbose: print(\"Using filename: {}.\".format(filename)) \n",
    "    \n",
    "    if (not os.path.exists(filename)) | (force == True):\n",
    "        if (apiname == 'pagecounts'):\n",
    "            endpoint_template = 'https://wikimedia.org/api/rest_v1/metrics/legacy/pagecounts/aggregate/en.wikipedia.org/{access}/monthly/{start}/{end}'\n",
    "        elif (apiname == 'pageviews'):\n",
    "            endpoint_template = 'https://wikimedia.org/api/rest_v1/metrics/pageviews/aggregate/en.wikipedia.org/{access}/user/monthly/{start}/{end}'\n",
    "        # note that I'm not checking for valid apiname values - per what I understand\n",
    "        # standard Python practice to be, it's the caller's responsibility to pass\n",
    "        # correct values - here if they don't, the REST request will fail\n",
    "\n",
    "        url = endpoint_template.format(**params)\n",
    "        if verbose: print(\"Retrieving {} .\".format(url))\n",
    "            \n",
    "        response = requests.get(url, headers = {'User-Agent':'{}'.format(user_agent)})\n",
    "        if verbose: print(\"Done with retrieval. Status code: {}.\".format(response.status_code))\n",
    "            \n",
    "        with open(filename, 'w') as file:\n",
    "            file.write(response.text) # requests doesn't have a method to download and write at the same time, like urllib, so we write here (urllib doesn't easily enable user agent setting, so we don't use it)\n",
    "        if verbose: print(\"Saved file.\")\n",
    "    else:\n",
    "        if verbose: print(\"Local file exists already.\")"
   ]
  },
  {
   "cell_type": "markdown",
   "metadata": {},
   "source": [
    "And specify the required parameters for each API call."
   ]
  },
  {
   "cell_type": "code",
   "execution_count": 7,
   "metadata": {
    "collapsed": true
   },
   "outputs": [],
   "source": [
    "data_specs = [('pagecounts', 'desktop-site', PAGECOUNTS_START, PAGECOUNTS_END),\n",
    "              ('pagecounts', 'mobile-site', PAGECOUNTS_START, PAGECOUNTS_END),\n",
    "              ('pageviews', 'desktop', PAGEVIEWS_START, PAGEVIEWS_END),\n",
    "              ('pageviews', 'mobile-web', PAGEVIEWS_START, PAGEVIEWS_END),\n",
    "              ('pageviews', 'mobile-app', PAGEVIEWS_START, PAGEVIEWS_END)]"
   ]
  },
  {
   "cell_type": "markdown",
   "metadata": {},
   "source": [
    "And finally, I'll download the data and save to a file, for each API and access combination, producing five files. I've set the 'force' argument to True to show the data being downloaded; setting it to false would make the code only download the data if a local file doesn't already exist."
   ]
  },
  {
   "cell_type": "code",
   "execution_count": 8,
   "metadata": {},
   "outputs": [
    {
     "name": "stdout",
     "output_type": "stream",
     "text": [
      "Using filename: pagecounts_desktop-site_200801_201607.json.\n",
      "Retrieving https://wikimedia.org/api/rest_v1/metrics/legacy/pagecounts/aggregate/en.wikipedia.org/desktop-site/monthly/2008010100/2016073100 .\n",
      "Done with retrieval. Status code: 200.\n",
      "Saved file.\n",
      "Using filename: pagecounts_mobile-site_200801_201607.json.\n",
      "Retrieving https://wikimedia.org/api/rest_v1/metrics/legacy/pagecounts/aggregate/en.wikipedia.org/mobile-site/monthly/2008010100/2016073100 .\n",
      "Done with retrieval. Status code: 200.\n",
      "Saved file.\n",
      "Using filename: pageviews_desktop_201507_201709.json.\n",
      "Retrieving https://wikimedia.org/api/rest_v1/metrics/pageviews/aggregate/en.wikipedia.org/desktop/user/monthly/2015070100/2017093000 .\n",
      "Done with retrieval. Status code: 200.\n",
      "Saved file.\n",
      "Using filename: pageviews_mobile-web_201507_201709.json.\n",
      "Retrieving https://wikimedia.org/api/rest_v1/metrics/pageviews/aggregate/en.wikipedia.org/mobile-web/user/monthly/2015070100/2017093000 .\n",
      "Done with retrieval. Status code: 200.\n",
      "Saved file.\n",
      "Using filename: pageviews_mobile-app_201507_201709.json.\n",
      "Retrieving https://wikimedia.org/api/rest_v1/metrics/pageviews/aggregate/en.wikipedia.org/mobile-app/user/monthly/2015070100/2017093000 .\n",
      "Done with retrieval. Status code: 200.\n",
      "Saved file.\n"
     ]
    }
   ],
   "source": [
    "for (apiname, access, start, end) in data_specs:\n",
    "    download_page_access_data(apiname, get_param_dict_from_params(access, start, end), \n",
    "                         USER_AGENT, force=True, verbose=True)"
   ]
  },
  {
   "cell_type": "markdown",
   "metadata": {},
   "source": [
    "# Prepare data"
   ]
  },
  {
   "cell_type": "markdown",
   "metadata": {},
   "source": [
    "Then, I'll prepare the data, ultimately producing a single dataframe with a row per month and columns for the counts from each API access value and columns for the sum totals from the two APIs.\n",
    "\n",
    "First, I define a function here that prepares the data from a single API call/.json file, and then call this function for each of the five files. The function loads the data from the file, creates a dataframe from JSON, adds/renames/drops columns to make the data consistent across dataframes/files, and creates a date-based row index."
   ]
  },
  {
   "cell_type": "code",
   "execution_count": 9,
   "metadata": {
    "collapsed": true
   },
   "outputs": [],
   "source": [
    "def get_cleaned_dataframe(apiname, access, start, end):\n",
    "    \"\"\"Load the data from the file with specified apiname, access, start, and dates and return a cleaned \n",
    "    dataframe suitable for further use with data from other API calls.\"\"\"\n",
    "\n",
    "    filename = get_filename_from_params(apiname, get_param_dict_from_params(access, start, end))\n",
    "    with open(filename) as json_data:\n",
    "        d_as_json = json.load(json_data)\n",
    "\n",
    "    # pandas read_json needs the data as a string (not parsed JSON) and without the \n",
    "    # 'items' preface that the API returns; we can't let read_json convert dates because it \n",
    "    # doesn't handle this format ok - we'll convert next\n",
    "    df = pd.read_json(json.dumps(d_as_json['items']), orient='records', convert_dates=False)\n",
    "    \n",
    "    # add column that specifies the api from which this dataframe came\n",
    "    df['api'] = apiname\n",
    "    \n",
    "    # make the columns consistent across different API calls\n",
    "    # rename doesn't error if the column doesn't exist, so no need to special case dataframes from diff APIs\n",
    "    df.rename(columns = {'access-site': 'access', 'count': 'views'}, inplace=True)\n",
    "    \n",
    "    # get rid of columns we don't need\n",
    "    # use ignore so we don't fail on dfs that don't have all columns\n",
    "    df.drop(['agent', 'project', 'granularity'], axis=1, errors='ignore', inplace=True) \n",
    "    \n",
    "    # create and use a date-based row index\n",
    "    df['timestamp'] = pd.to_datetime(df['timestamp'], format=API_DATE_FORMAT)\n",
    "    df.set_index('timestamp', inplace=True)\n",
    "\n",
    "    return df"
   ]
  },
  {
   "cell_type": "markdown",
   "metadata": {},
   "source": [
    "Then, use the above function to get a cleaned dataframe for each API call/file, and store these dataframes in a dict indexed by the API and access value."
   ]
  },
  {
   "cell_type": "code",
   "execution_count": 10,
   "metadata": {},
   "outputs": [
    {
     "data": {
      "text/plain": [
       "5"
      ]
     },
     "execution_count": 10,
     "metadata": {},
     "output_type": "execute_result"
    }
   ],
   "source": [
    "all_data_as_dfs = {f'{apiname}_{access}' : get_cleaned_dataframe(apiname, access, start, end) for \n",
    "                   (apiname, access, start, end) in data_specs}\n",
    "len(all_data_as_dfs)"
   ]
  },
  {
   "cell_type": "markdown",
   "metadata": {},
   "source": [
    "Then sum the 'mobile-web' and 'mobile-app' totals from the Pageviews API to create a new dataframe in the same format as the dataframes from the data files."
   ]
  },
  {
   "cell_type": "code",
   "execution_count": 11,
   "metadata": {},
   "outputs": [
    {
     "data": {
      "text/html": [
       "<div>\n",
       "<style>\n",
       "    .dataframe thead tr:only-child th {\n",
       "        text-align: right;\n",
       "    }\n",
       "\n",
       "    .dataframe thead th {\n",
       "        text-align: left;\n",
       "    }\n",
       "\n",
       "    .dataframe tbody tr th {\n",
       "        vertical-align: top;\n",
       "    }\n",
       "</style>\n",
       "<table border=\"1\" class=\"dataframe\">\n",
       "  <thead>\n",
       "    <tr style=\"text-align: right;\">\n",
       "      <th></th>\n",
       "      <th>views</th>\n",
       "      <th>access</th>\n",
       "      <th>api</th>\n",
       "    </tr>\n",
       "    <tr>\n",
       "      <th>timestamp</th>\n",
       "      <th></th>\n",
       "      <th></th>\n",
       "      <th></th>\n",
       "    </tr>\n",
       "  </thead>\n",
       "  <tbody>\n",
       "    <tr>\n",
       "      <th>2015-07-01</th>\n",
       "      <td>3288755294</td>\n",
       "      <td>mobile</td>\n",
       "      <td>pageviews</td>\n",
       "    </tr>\n",
       "    <tr>\n",
       "      <th>2015-08-01</th>\n",
       "      <td>3302333038</td>\n",
       "      <td>mobile</td>\n",
       "      <td>pageviews</td>\n",
       "    </tr>\n",
       "    <tr>\n",
       "      <th>2015-09-01</th>\n",
       "      <td>3170203333</td>\n",
       "      <td>mobile</td>\n",
       "      <td>pageviews</td>\n",
       "    </tr>\n",
       "  </tbody>\n",
       "</table>\n",
       "</div>"
      ],
      "text/plain": [
       "                 views  access        api\n",
       "timestamp                                \n",
       "2015-07-01  3288755294  mobile  pageviews\n",
       "2015-08-01  3302333038  mobile  pageviews\n",
       "2015-09-01  3170203333  mobile  pageviews"
      ]
     },
     "execution_count": 11,
     "metadata": {},
     "output_type": "execute_result"
    }
   ],
   "source": [
    "pageviews_mobile_df = (all_data_as_dfs['pageviews_mobile-web']['views'] + all_data_as_dfs['pageviews_mobile-app']['views']).to_frame()\n",
    "pageviews_mobile_df['access'] = 'mobile'\n",
    "pageviews_mobile_df['api'] = 'pageviews'\n",
    "pageviews_mobile_df[:3]"
   ]
  },
  {
   "cell_type": "markdown",
   "metadata": {},
   "source": [
    "Then combine the dataframes that hold the data I'm going to visualize. This is four dataframes: two dataframes directly from the Pagecounts API, one dataframe for desktop data directly from the Pageviews API, and one dataframe created immediately previous with mobile data from the Pageviews API.\n",
    "\n",
    "The resulting dataframe is in 'long' format: it has a row per combination of month, API, and access."
   ]
  },
  {
   "cell_type": "code",
   "execution_count": 12,
   "metadata": {},
   "outputs": [
    {
     "data": {
      "text/plain": [
       "179"
      ]
     },
     "execution_count": 12,
     "metadata": {},
     "output_type": "execute_result"
    }
   ],
   "source": [
    "all_data_long = pd.concat([all_data_as_dfs['pagecounts_desktop-site'], all_data_as_dfs['pagecounts_mobile-site'],\n",
    "                           all_data_as_dfs['pageviews_desktop'], pageviews_mobile_df])\n",
    "len(all_data_long)"
   ]
  },
  {
   "cell_type": "markdown",
   "metadata": {},
   "source": [
    "Just to be careful, I'll sanity check the number of rows from different APIs and access values."
   ]
  },
  {
   "cell_type": "code",
   "execution_count": 13,
   "metadata": {},
   "outputs": [
    {
     "data": {
      "text/plain": [
       "pagecounts    125\n",
       "pageviews      54\n",
       "Name: api, dtype: int64"
      ]
     },
     "execution_count": 13,
     "metadata": {},
     "output_type": "execute_result"
    }
   ],
   "source": [
    "all_data_long['api'].value_counts(dropna=False)"
   ]
  },
  {
   "cell_type": "code",
   "execution_count": 14,
   "metadata": {},
   "outputs": [
    {
     "data": {
      "text/plain": [
       "desktop-site    103\n",
       "mobile           27\n",
       "desktop          27\n",
       "mobile-site      22\n",
       "Name: access, dtype: int64"
      ]
     },
     "execution_count": 14,
     "metadata": {},
     "output_type": "execute_result"
    }
   ],
   "source": [
    "all_data_long['access'].value_counts(dropna=False)"
   ]
  },
  {
   "cell_type": "code",
   "execution_count": 15,
   "metadata": {},
   "outputs": [
    {
     "data": {
      "text/html": [
       "<div>\n",
       "<style>\n",
       "    .dataframe thead tr:only-child th {\n",
       "        text-align: right;\n",
       "    }\n",
       "\n",
       "    .dataframe thead th {\n",
       "        text-align: left;\n",
       "    }\n",
       "\n",
       "    .dataframe tbody tr th {\n",
       "        vertical-align: top;\n",
       "    }\n",
       "</style>\n",
       "<table border=\"1\" class=\"dataframe\">\n",
       "  <thead>\n",
       "    <tr style=\"text-align: right;\">\n",
       "      <th></th>\n",
       "      <th>access</th>\n",
       "      <th>api</th>\n",
       "      <th>views</th>\n",
       "    </tr>\n",
       "    <tr>\n",
       "      <th>timestamp</th>\n",
       "      <th></th>\n",
       "      <th></th>\n",
       "      <th></th>\n",
       "    </tr>\n",
       "  </thead>\n",
       "  <tbody>\n",
       "    <tr>\n",
       "      <th>2008-01-01</th>\n",
       "      <td>desktop-site</td>\n",
       "      <td>pagecounts</td>\n",
       "      <td>4930902570</td>\n",
       "    </tr>\n",
       "    <tr>\n",
       "      <th>2008-02-01</th>\n",
       "      <td>desktop-site</td>\n",
       "      <td>pagecounts</td>\n",
       "      <td>4818393763</td>\n",
       "    </tr>\n",
       "  </tbody>\n",
       "</table>\n",
       "</div>"
      ],
      "text/plain": [
       "                  access         api       views\n",
       "timestamp                                       \n",
       "2008-01-01  desktop-site  pagecounts  4930902570\n",
       "2008-02-01  desktop-site  pagecounts  4818393763"
      ]
     },
     "execution_count": 15,
     "metadata": {},
     "output_type": "execute_result"
    }
   ],
   "source": [
    "all_data_long[:2]"
   ]
  },
  {
   "cell_type": "markdown",
   "metadata": {},
   "source": [
    "Ultimately I want to visualize by month and output a .csv with a row per month and columns for each API/access combination. Here I pivot the above 'long' dataframe into a 'wide' dataframe with a row per month and a column per API/access combination."
   ]
  },
  {
   "cell_type": "code",
   "execution_count": 16,
   "metadata": {},
   "outputs": [
    {
     "data": {
      "text/html": [
       "<div>\n",
       "<style>\n",
       "    .dataframe thead tr:only-child th {\n",
       "        text-align: right;\n",
       "    }\n",
       "\n",
       "    .dataframe thead th {\n",
       "        text-align: left;\n",
       "    }\n",
       "\n",
       "    .dataframe tbody tr th {\n",
       "        vertical-align: top;\n",
       "    }\n",
       "</style>\n",
       "<table border=\"1\" class=\"dataframe\">\n",
       "  <thead>\n",
       "    <tr style=\"text-align: right;\">\n",
       "      <th>access</th>\n",
       "      <th>desktop</th>\n",
       "      <th>desktop-site</th>\n",
       "      <th>mobile</th>\n",
       "      <th>mobile-site</th>\n",
       "    </tr>\n",
       "    <tr>\n",
       "      <th>timestamp</th>\n",
       "      <th></th>\n",
       "      <th></th>\n",
       "      <th></th>\n",
       "      <th></th>\n",
       "    </tr>\n",
       "  </thead>\n",
       "  <tbody>\n",
       "    <tr>\n",
       "      <th>2008-01-01</th>\n",
       "      <td>NaN</td>\n",
       "      <td>4.930903e+09</td>\n",
       "      <td>NaN</td>\n",
       "      <td>NaN</td>\n",
       "    </tr>\n",
       "    <tr>\n",
       "      <th>2008-02-01</th>\n",
       "      <td>NaN</td>\n",
       "      <td>4.818394e+09</td>\n",
       "      <td>NaN</td>\n",
       "      <td>NaN</td>\n",
       "    </tr>\n",
       "    <tr>\n",
       "      <th>2008-03-01</th>\n",
       "      <td>NaN</td>\n",
       "      <td>4.955406e+09</td>\n",
       "      <td>NaN</td>\n",
       "      <td>NaN</td>\n",
       "    </tr>\n",
       "  </tbody>\n",
       "</table>\n",
       "</div>"
      ],
      "text/plain": [
       "access      desktop  desktop-site  mobile  mobile-site\n",
       "timestamp                                             \n",
       "2008-01-01      NaN  4.930903e+09     NaN          NaN\n",
       "2008-02-01      NaN  4.818394e+09     NaN          NaN\n",
       "2008-03-01      NaN  4.955406e+09     NaN          NaN"
      ]
     },
     "execution_count": 16,
     "metadata": {},
     "output_type": "execute_result"
    }
   ],
   "source": [
    "all_data_wide = all_data_long.pivot(columns='access', values='views')\n",
    "all_data_wide[:3]"
   ]
  },
  {
   "cell_type": "markdown",
   "metadata": {},
   "source": [
    "Then I rename the columns to the names specified in the assignment."
   ]
  },
  {
   "cell_type": "code",
   "execution_count": 17,
   "metadata": {},
   "outputs": [
    {
     "data": {
      "text/html": [
       "<div>\n",
       "<style>\n",
       "    .dataframe thead tr:only-child th {\n",
       "        text-align: right;\n",
       "    }\n",
       "\n",
       "    .dataframe thead th {\n",
       "        text-align: left;\n",
       "    }\n",
       "\n",
       "    .dataframe tbody tr th {\n",
       "        vertical-align: top;\n",
       "    }\n",
       "</style>\n",
       "<table border=\"1\" class=\"dataframe\">\n",
       "  <thead>\n",
       "    <tr style=\"text-align: right;\">\n",
       "      <th></th>\n",
       "      <th>pageview_desktop_views</th>\n",
       "      <th>pagecount_desktop_views</th>\n",
       "      <th>pageview_mobile_views</th>\n",
       "      <th>pagecount_mobile_views</th>\n",
       "    </tr>\n",
       "    <tr>\n",
       "      <th>timestamp</th>\n",
       "      <th></th>\n",
       "      <th></th>\n",
       "      <th></th>\n",
       "      <th></th>\n",
       "    </tr>\n",
       "  </thead>\n",
       "  <tbody>\n",
       "    <tr>\n",
       "      <th>2008-01-01</th>\n",
       "      <td>NaN</td>\n",
       "      <td>4.930903e+09</td>\n",
       "      <td>NaN</td>\n",
       "      <td>NaN</td>\n",
       "    </tr>\n",
       "    <tr>\n",
       "      <th>2008-02-01</th>\n",
       "      <td>NaN</td>\n",
       "      <td>4.818394e+09</td>\n",
       "      <td>NaN</td>\n",
       "      <td>NaN</td>\n",
       "    </tr>\n",
       "    <tr>\n",
       "      <th>2008-03-01</th>\n",
       "      <td>NaN</td>\n",
       "      <td>4.955406e+09</td>\n",
       "      <td>NaN</td>\n",
       "      <td>NaN</td>\n",
       "    </tr>\n",
       "  </tbody>\n",
       "</table>\n",
       "</div>"
      ],
      "text/plain": [
       "            pageview_desktop_views  pagecount_desktop_views  \\\n",
       "timestamp                                                     \n",
       "2008-01-01                     NaN             4.930903e+09   \n",
       "2008-02-01                     NaN             4.818394e+09   \n",
       "2008-03-01                     NaN             4.955406e+09   \n",
       "\n",
       "            pageview_mobile_views  pagecount_mobile_views  \n",
       "timestamp                                                  \n",
       "2008-01-01                    NaN                     NaN  \n",
       "2008-02-01                    NaN                     NaN  \n",
       "2008-03-01                    NaN                     NaN  "
      ]
     },
     "execution_count": 17,
     "metadata": {},
     "output_type": "execute_result"
    }
   ],
   "source": [
    "all_data_wide.rename(columns = {'desktop':'pageview_desktop_views',\n",
    "                                'mobile':'pageview_mobile_views',\n",
    "                                'desktop-site':'pagecount_desktop_views',\n",
    "                                'mobile-site':'pagecount_mobile_views'}, inplace=True)\n",
    "\n",
    "all_data_wide.columns.name = '' # don't want the default column index name of 'access' anymore\n",
    "\n",
    "all_data_wide[:3]"
   ]
  },
  {
   "cell_type": "markdown",
   "metadata": {},
   "source": [
    "And I add columns to hold the totals for each month from the Pagecounts and Pageviews APIs, using fillna to replace NaN values with zero so the addition returns a number and not NaN."
   ]
  },
  {
   "cell_type": "code",
   "execution_count": 18,
   "metadata": {},
   "outputs": [
    {
     "data": {
      "text/html": [
       "<div>\n",
       "<style>\n",
       "    .dataframe thead tr:only-child th {\n",
       "        text-align: right;\n",
       "    }\n",
       "\n",
       "    .dataframe thead th {\n",
       "        text-align: left;\n",
       "    }\n",
       "\n",
       "    .dataframe tbody tr th {\n",
       "        vertical-align: top;\n",
       "    }\n",
       "</style>\n",
       "<table border=\"1\" class=\"dataframe\">\n",
       "  <thead>\n",
       "    <tr style=\"text-align: right;\">\n",
       "      <th></th>\n",
       "      <th>pageview_desktop_views</th>\n",
       "      <th>pagecount_desktop_views</th>\n",
       "      <th>pageview_mobile_views</th>\n",
       "      <th>pagecount_mobile_views</th>\n",
       "      <th>pagecount_all_views</th>\n",
       "      <th>pageview_all_views</th>\n",
       "    </tr>\n",
       "    <tr>\n",
       "      <th>timestamp</th>\n",
       "      <th></th>\n",
       "      <th></th>\n",
       "      <th></th>\n",
       "      <th></th>\n",
       "      <th></th>\n",
       "      <th></th>\n",
       "    </tr>\n",
       "  </thead>\n",
       "  <tbody>\n",
       "    <tr>\n",
       "      <th>2008-01-01</th>\n",
       "      <td>NaN</td>\n",
       "      <td>4.930903e+09</td>\n",
       "      <td>NaN</td>\n",
       "      <td>NaN</td>\n",
       "      <td>4.930903e+09</td>\n",
       "      <td>0.0</td>\n",
       "    </tr>\n",
       "    <tr>\n",
       "      <th>2008-02-01</th>\n",
       "      <td>NaN</td>\n",
       "      <td>4.818394e+09</td>\n",
       "      <td>NaN</td>\n",
       "      <td>NaN</td>\n",
       "      <td>4.818394e+09</td>\n",
       "      <td>0.0</td>\n",
       "    </tr>\n",
       "    <tr>\n",
       "      <th>2008-03-01</th>\n",
       "      <td>NaN</td>\n",
       "      <td>4.955406e+09</td>\n",
       "      <td>NaN</td>\n",
       "      <td>NaN</td>\n",
       "      <td>4.955406e+09</td>\n",
       "      <td>0.0</td>\n",
       "    </tr>\n",
       "  </tbody>\n",
       "</table>\n",
       "</div>"
      ],
      "text/plain": [
       "            pageview_desktop_views  pagecount_desktop_views  \\\n",
       "timestamp                                                     \n",
       "2008-01-01                     NaN             4.930903e+09   \n",
       "2008-02-01                     NaN             4.818394e+09   \n",
       "2008-03-01                     NaN             4.955406e+09   \n",
       "\n",
       "            pageview_mobile_views  pagecount_mobile_views  \\\n",
       "timestamp                                                   \n",
       "2008-01-01                    NaN                     NaN   \n",
       "2008-02-01                    NaN                     NaN   \n",
       "2008-03-01                    NaN                     NaN   \n",
       "\n",
       "            pagecount_all_views  pageview_all_views  \n",
       "timestamp                                            \n",
       "2008-01-01         4.930903e+09                 0.0  \n",
       "2008-02-01         4.818394e+09                 0.0  \n",
       "2008-03-01         4.955406e+09                 0.0  "
      ]
     },
     "execution_count": 18,
     "metadata": {},
     "output_type": "execute_result"
    }
   ],
   "source": [
    "all_data_wide['pagecount_all_views'] = all_data_wide['pagecount_desktop_views'].fillna(0) + all_data_wide['pagecount_mobile_views'].fillna(0)\n",
    "all_data_wide['pageview_all_views'] = all_data_wide['pageview_desktop_views'].fillna(0) + all_data_wide['pageview_mobile_views'].fillna(0)\n",
    "all_data_wide[:3]"
   ]
  },
  {
   "cell_type": "markdown",
   "metadata": {},
   "source": [
    "Then sort the columns so data from each API is next to each other."
   ]
  },
  {
   "cell_type": "code",
   "execution_count": 19,
   "metadata": {
    "collapsed": true
   },
   "outputs": [],
   "source": [
    "all_data_wide = all_data_wide.reindex_axis(sorted(all_data_wide.columns), axis=1)"
   ]
  },
  {
   "cell_type": "markdown",
   "metadata": {},
   "source": [
    "For a cleaner chart, we want every column and row combination for which we know we have no valid data to hold NaN. By default a line chart doesn't plot anything when for NaN values, which is what we want because in this case 'nothing' tells us we have no data, instead of falsely telling us that we could have page views but just didn't. \n",
    "\n",
    "The columns directly from the API calls already hold NaNs, so we only need to set NaNs for the two sum total columns. I don't set NaN for every row - I only set it for rows for which I retrieved data, using the date range variables defined previously."
   ]
  },
  {
   "cell_type": "code",
   "execution_count": 20,
   "metadata": {
    "collapsed": true
   },
   "outputs": [],
   "source": [
    "all_data_wide.loc[all_data_wide.index > pd.to_datetime(PAGECOUNTS_END, format='%Y%m%d%H'), 'pagecount_all_views'] = np.nan\n",
    "all_data_wide.loc[all_data_wide.index < pd.to_datetime(PAGEVIEWS_START, format='%Y%m%d%H'), 'pageview_all_views'] = np.nan"
   ]
  },
  {
   "cell_type": "code",
   "execution_count": 21,
   "metadata": {},
   "outputs": [
    {
     "data": {
      "text/html": [
       "<div>\n",
       "<style>\n",
       "    .dataframe thead tr:only-child th {\n",
       "        text-align: right;\n",
       "    }\n",
       "\n",
       "    .dataframe thead th {\n",
       "        text-align: left;\n",
       "    }\n",
       "\n",
       "    .dataframe tbody tr th {\n",
       "        vertical-align: top;\n",
       "    }\n",
       "</style>\n",
       "<table border=\"1\" class=\"dataframe\">\n",
       "  <thead>\n",
       "    <tr style=\"text-align: right;\">\n",
       "      <th></th>\n",
       "      <th>pagecount_all_views</th>\n",
       "      <th>pagecount_desktop_views</th>\n",
       "      <th>pagecount_mobile_views</th>\n",
       "      <th>pageview_all_views</th>\n",
       "      <th>pageview_desktop_views</th>\n",
       "      <th>pageview_mobile_views</th>\n",
       "    </tr>\n",
       "    <tr>\n",
       "      <th>timestamp</th>\n",
       "      <th></th>\n",
       "      <th></th>\n",
       "      <th></th>\n",
       "      <th></th>\n",
       "      <th></th>\n",
       "      <th></th>\n",
       "    </tr>\n",
       "  </thead>\n",
       "  <tbody>\n",
       "    <tr>\n",
       "      <th>2008-01-01</th>\n",
       "      <td>4.930903e+09</td>\n",
       "      <td>4.930903e+09</td>\n",
       "      <td>NaN</td>\n",
       "      <td>NaN</td>\n",
       "      <td>NaN</td>\n",
       "      <td>NaN</td>\n",
       "    </tr>\n",
       "    <tr>\n",
       "      <th>2008-02-01</th>\n",
       "      <td>4.818394e+09</td>\n",
       "      <td>4.818394e+09</td>\n",
       "      <td>NaN</td>\n",
       "      <td>NaN</td>\n",
       "      <td>NaN</td>\n",
       "      <td>NaN</td>\n",
       "    </tr>\n",
       "  </tbody>\n",
       "</table>\n",
       "</div>"
      ],
      "text/plain": [
       "            pagecount_all_views  pagecount_desktop_views  \\\n",
       "timestamp                                                  \n",
       "2008-01-01         4.930903e+09             4.930903e+09   \n",
       "2008-02-01         4.818394e+09             4.818394e+09   \n",
       "\n",
       "            pagecount_mobile_views  pageview_all_views  \\\n",
       "timestamp                                                \n",
       "2008-01-01                     NaN                 NaN   \n",
       "2008-02-01                     NaN                 NaN   \n",
       "\n",
       "            pageview_desktop_views  pageview_mobile_views  \n",
       "timestamp                                                  \n",
       "2008-01-01                     NaN                    NaN  \n",
       "2008-02-01                     NaN                    NaN  "
      ]
     },
     "execution_count": 21,
     "metadata": {},
     "output_type": "execute_result"
    }
   ],
   "source": [
    "all_data_wide[:2]"
   ]
  },
  {
   "cell_type": "markdown",
   "metadata": {},
   "source": [
    "# Visualize for analysis"
   ]
  },
  {
   "cell_type": "markdown",
   "metadata": {},
   "source": [
    "Finally, draw the chart."
   ]
  },
  {
   "cell_type": "code",
   "execution_count": 22,
   "metadata": {},
   "outputs": [
    {
     "data": {
      "image/png": "[encoded data removed]",
      "text/plain": [
       "<matplotlib.figure.Figure at 0x11cada160>"
      ]
     },
     "metadata": {},
     "output_type": "display_data"
    }
   ],
   "source": [
    "ax = all_data_wide.plot(title='Page views by API for English Wikipedia, by month', \n",
    "                        ylim=0, sort_columns=True, style=['k--','g--','b--', 'k', 'g', 'b']) \n",
    "ax.get_yaxis().set_major_formatter(FuncFormatter(lambda x, p: f'{x / 1000000.0:.0f}'))\n",
    "plt.ylabel('Views (in millions)')\n",
    "plt.xlabel('') # don't need name of index, which is 'timestamp'\n",
    "\n",
    "# overwrite default pandas legend, which shows six labels, with a legend \n",
    "# that only shows one row per type (all, desktop, mobile)\n",
    "lines, labels = ax.get_legend_handles_labels()\n",
    "ax.legend(lines[3:], ['All','Desktop','Mobile'], loc=2)\n",
    "\n",
    "note_text = \"\"\"Notes:\n",
    "- Dashed lines show data from the Pagecounts API, solid lines show data from the Pageviews API.\n",
    "- The Pageviews API counts are only from 'user' devices: spiders and bots aren't included, in contrast to the Pagecounts data.\n",
    "- The desktop and total lines overlap through September 2014.\n",
    "- The Pagecounts and Pageview mobile lines overlap approximately starting in July 2015.\"\"\"\n",
    "ax.add_artist(AnchoredText(note_text, loc=3, prop=dict(size=10)))\n",
    "\n",
    "plt.savefig('page_views_by_api.png', dpi=300)"
   ]
  },
  {
   "cell_type": "markdown",
   "metadata": {},
   "source": [
    "And then output the final processed data as a .csv file.\n",
    "\n",
    "The assignment requires separate columns for the year and month, so I'll create those columns here from the row index, and then when I output the .csv leave out the single datetime column entirely."
   ]
  },
  {
   "cell_type": "code",
   "execution_count": 23,
   "metadata": {
    "collapsed": true
   },
   "outputs": [],
   "source": [
    "# this code specifies the index for each Series so that values are appropriately associated with the \n",
    "# index values that already exist in the data frame - without this, the Series that is\n",
    "# returned from the right side has the default integer index values, and since these\n",
    "# don't match the index values in the dataframe, the assignment would just result in \n",
    "# all np.nan values for the new year and month columns\n",
    "all_data_wide['year'] = pd.Series(all_data_wide.index.map(lambda dt: pd.Timestamp(dt).year), index=all_data_wide.index)\n",
    "all_data_wide['month'] = pd.Series(all_data_wide.index.map(lambda dt: f\"{pd.Timestamp(dt).month:02}\"), index=all_data_wide.index) # format to pad with leading zero"
   ]
  },
  {
   "cell_type": "code",
   "execution_count": 24,
   "metadata": {},
   "outputs": [
    {
     "data": {
      "text/plain": [
       "'en-wikipedia_traffic_200801-201709.csv'"
      ]
     },
     "execution_count": 24,
     "metadata": {},
     "output_type": "execute_result"
    }
   ],
   "source": [
    "# dates are the first date of the old API to the last date of the new API\n",
    "filename_output = f'en-wikipedia_traffic_{PAGECOUNTS_START[:6]}-{PAGEVIEWS_END[:6]}.csv'\n",
    "filename_output"
   ]
  },
  {
   "cell_type": "code",
   "execution_count": 25,
   "metadata": {
    "collapsed": true
   },
   "outputs": [],
   "source": [
    "all_data_wide.fillna(0).to_csv(filename_output, index=False)"
   ]
  },
  {
   "cell_type": "code",
   "execution_count": null,
   "metadata": {
    "collapsed": true
   },
   "outputs": [],
   "source": []
  }
 ],
 "metadata": {
  "kernelspec": {
   "display_name": "Python 3",
   "language": "python",
   "name": "python3"
  },
  "language_info": {
   "codemirror_mode": {
    "name": "ipython",
    "version": 3
   },
   "file_extension": ".py",
   "mimetype": "text/x-python",
   "name": "python",
   "nbconvert_exporter": "python",
   "pygments_lexer": "ipython3",
   "version": "3.6.2"
  }
 },
 "nbformat": 4,
 "nbformat_minor": 2
}
