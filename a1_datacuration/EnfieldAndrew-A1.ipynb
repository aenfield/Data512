{
 "cells": [
  {
   "cell_type": "markdown",
   "metadata": {},
   "source": [
    "# DATA 512, A1: Data curation"
   ]
  },
  {
   "cell_type": "code",
   "execution_count": 228,
   "metadata": {},
   "outputs": [],
   "source": [
    "import pandas as pd\n",
    "import numpy as np\n",
    "%matplotlib inline \n",
    "# TODO is the %matplotlib recommended or old?\n",
    "\n",
    "import requests\n",
    "import os\n",
    "import json"
   ]
  },
  {
   "cell_type": "markdown",
   "metadata": {},
   "source": [
    "## Page counts\n",
    "- 1/1/2008 to 7/31/2016 per the assignment wiki page (although 8/1/2008 to 7/31/2016 per class slides)\n",
    "- 'desktop-site' can also be 'mobile-site'\n",
    "\n",
    "URL \n",
    "https://wikimedia.org/api/rest_v1/metrics/legacy/pagecounts/aggregate/en.wikipedia.org/desktop-site/monthly/2008010100/2008040100\n",
    "\n",
    "API docs w/ URL\n",
    "https://wikimedia.org/api/rest_v1/#!/Pagecounts_data_(legacy)/get_metrics_legacy_pagecounts_aggregate_project_access_site_granularity_start_end\n",
    "\n",
    "## Page views\n",
    "- 7/1/2015 to present per class slides\n",
    "- 'desktop' can also be 'mobile-app' or 'mobile-web'\n",
    "- 'user' says we do not want spider/crawler views\n",
    "\n",
    "URL https://wikimedia.org/api/rest_v1/metrics/pageviews/aggregate/en.wikipedia.org/desktop/user/monthly/2015070100/2017100100\n",
    "\n",
    "API docs w/ URL https://wikimedia.org/api/rest_v1/#!/Pageviews_data/get_metrics_pageviews_aggregate_project_access_agent_granularity_start_end"
   ]
  },
  {
   "cell_type": "markdown",
   "metadata": {},
   "source": [
    "**TODO** make sure to explain why we're setting the API params as we do in the hardcode URL and changeable stuff below, since we refer to here."
   ]
  },
  {
   "cell_type": "markdown",
   "metadata": {},
   "source": [
    "**TODO** note that real reproducibility needs tests for the code - i'd normally put the functions i define below in a separate file that I import here, and then test them from that separate file. for this one i'll just keep everything in this file for simplicity even though it means i can't test them the way i normally would."
   ]
  },
  {
   "cell_type": "code",
   "execution_count": 2,
   "metadata": {},
   "outputs": [
    {
     "name": "stdout",
     "output_type": "stream",
     "text": [
      "{'items': [{'project': 'en.wikipedia', 'access': 'mobile-web', 'agent': 'spider', 'granularity': 'monthly', 'timestamp': '2017090100', 'views': 69790930}]}\n"
     ]
    }
   ],
   "source": [
    "endpoint = 'https://wikimedia.org/api/rest_v1/metrics/pageviews/aggregate/{project}/{access}/{agent}/{granularity}/{start}/{end}'\n",
    "\n",
    "headers={'User-Agent' : 'https://github.com/your_github_username', 'From' : 'your_uw_email@uw.edu'}\n",
    "\n",
    "params = {'project' : 'en.wikipedia.org',\n",
    "            'access' : 'mobile-web',\n",
    "            'agent' : 'spider',\n",
    "            'granularity' : 'monthly',\n",
    "            'start' : '2017090100',\n",
    "            'end' : '2017101000'#use the first day of the following month to ensure a full month of data is collected\n",
    "            }\n",
    "\n",
    "api_call = requests.get(endpoint.format(**params), headers=headers)\n",
    "response = api_call.json()\n",
    "print(response)"
   ]
  },
  {
   "cell_type": "code",
   "execution_count": null,
   "metadata": {
    "collapsed": true
   },
   "outputs": [],
   "source": []
  },
  {
   "cell_type": "code",
   "execution_count": 51,
   "metadata": {},
   "outputs": [
    {
     "data": {
      "text/plain": [
       "'201507'"
      ]
     },
     "execution_count": 51,
     "metadata": {},
     "output_type": "execute_result"
    }
   ],
   "source": [
    "foodate = \"2015070100\"\n",
    "foodate[:6]"
   ]
  },
  {
   "cell_type": "code",
   "execution_count": 91,
   "metadata": {
    "collapsed": true
   },
   "outputs": [],
   "source": [
    "PAGECOUNTS_START = '2008010100'\n",
    "PAGECOUNTS_END = '2016073100'\n",
    "PAGEVIEWS_START = '2015070100'\n",
    "PAGEVIEWS_END = '2017093000'\n",
    "# note that passing the exact ending day of the last month, as above, causes the API to return \n",
    "# the same same result as passing a day in the following month; passing the ending day\n",
    "# also simplifies the filename generation code because it doesn't need to 'go back'\n",
    "\n",
    "USER_AGENT = 'https://github.com/aenfield'"
   ]
  },
  {
   "cell_type": "code",
   "execution_count": 92,
   "metadata": {
    "collapsed": true
   },
   "outputs": [],
   "source": [
    "def get_param_dict_from_params(access, start, end):\n",
    "    \"\"\"Convenience function to get a params dict given the passed values.\"\"\"\n",
    "    return {'access': access, 'start': start, 'end': end}"
   ]
  },
  {
   "cell_type": "code",
   "execution_count": 130,
   "metadata": {},
   "outputs": [],
   "source": [
    "def get_filename_from_params(apiname, params):\n",
    "    \"\"\"TODO docs. include that because of the practice of passing a \"\"\"\n",
    "    \n",
    "    # Mark up the dict so we can pass a dict with all values we need.\n",
    "    # We have to format the start/end because .format doesn't handle\n",
    "    # string slicing in the format string itself. We'll use a copy\n",
    "    # so we don't modify the passed dict as an undesirable side effect.\n",
    "    p = params.copy()\n",
    "    p['apiname'] = apiname \n",
    "    p['start'] = p['start'][:6] # we only want year/month - could convert to datetime and format but this is simpler given that we know the input format\n",
    "    p['end'] = p['end'][:6]\n",
    "    return \"{apiname}_{access}_{start}_{end}.json\".format(**p)"
   ]
  },
  {
   "cell_type": "code",
   "execution_count": 131,
   "metadata": {},
   "outputs": [
    {
     "data": {
      "text/plain": [
       "'pageviews_mobile_app_201507_201709.json'"
      ]
     },
     "execution_count": 131,
     "metadata": {},
     "output_type": "execute_result"
    }
   ],
   "source": [
    "get_filename_from_params('pageviews', get_param_dict_from_params('mobile_app', PAGEVIEWS_START, PAGEVIEWS_END))"
   ]
  },
  {
   "cell_type": "code",
   "execution_count": 198,
   "metadata": {},
   "outputs": [],
   "source": [
    "def download_page_access_data(apiname, params, user_agent, force=False, verbose=False):\n",
    "    \"\"\"TODO add docs, including the allowed values for access per a given endpoint, \n",
    "    and that behavior is to just pass through failure if something incorrect is passed, and that\n",
    "    this saves the data as files if they don't already exist/haven't been downloaded yet\"\"\"\n",
    "    # TODO incorp these notes into the genearl or param docs\n",
    "    # Define endpoint URLs to include/hardcode the params we don't need to vary, per the above text. \n",
    "    # Also, for ease in calling the function, I'm b clarity and since only access/access-site needs to change per request, I've promoted \n",
    "    # this to a specifically  named function parameter, which I'll consistently call 'access'. Finally, \n",
    "    # since the API doc says only 'User-Agent' is required (not 'From'), I'll also promote this to \n",
    "    # a function parameter. we need to pass more than we would as params so we have the data easily \n",
    "    # to use when checking for/writing files\n",
    "    \n",
    "    filename = get_filename_from_params(apiname, params)\n",
    "    if verbose: print(\"Using filename: {}.\".format(filename)) \n",
    "    \n",
    "    if (not os.path.exists(filename)) | (force == True):\n",
    "        if (apiname == 'pagecounts'):\n",
    "            endpoint_template = 'https://wikimedia.org/api/rest_v1/metrics/legacy/pagecounts/aggregate/en.wikipedia.org/{access}/monthly/{start}/{end}'\n",
    "        elif (apiname == 'pageviews'):\n",
    "            endpoint_template = 'https://wikimedia.org/api/rest_v1/metrics/pageviews/aggregate/en.wikipedia.org/{access}/user/monthly/{start}/{end}'\n",
    "        # note that I'm not checking for valid apiname values - per what I understand\n",
    "        # standard Python practice to be, it's the caller's responsibility to pass\n",
    "        # correct values - here if they don't, the REST request will fail\n",
    "\n",
    "        url = endpoint_template.format(**params)\n",
    "        if verbose: print(\"Retrieving {} .\".format(url))\n",
    "        response = requests.get(url, headers = {'User-Agent':'{}'.format(user_agent)})\n",
    "        with open(filename, 'w') as file:\n",
    "            file.write(response.text) # requests doesn't have a method to download and write at the same time, like urllib, so we write here (urllib doesn't easily enable user agent setting, so we don't use it)\n",
    "            \n",
    "    if verbose: print(\"Complete.\")"
   ]
  },
  {
   "cell_type": "code",
   "execution_count": 199,
   "metadata": {},
   "outputs": [
    {
     "name": "stdout",
     "output_type": "stream",
     "text": [
      "Using filename: pageviews_desktop_201507_201709.json.\n",
      "Retrieving https://wikimedia.org/api/rest_v1/metrics/pageviews/aggregate/en.wikipedia.org/desktop/user/monthly/2015070100/2017093000 .\n",
      "Complete.\n"
     ]
    }
   ],
   "source": [
    "download_page_access_data('pageviews', \n",
    "                     get_param_dict_from_params('desktop', PAGEVIEWS_START, PAGEVIEWS_END), \n",
    "                     USER_AGENT, force=True, verbose=True)"
   ]
  },
  {
   "cell_type": "code",
   "execution_count": 217,
   "metadata": {},
   "outputs": [
    {
     "data": {
      "text/html": [
       "<div>\n",
       "<style>\n",
       "    .dataframe thead tr:only-child th {\n",
       "        text-align: right;\n",
       "    }\n",
       "\n",
       "    .dataframe thead th {\n",
       "        text-align: left;\n",
       "    }\n",
       "\n",
       "    .dataframe tbody tr th {\n",
       "        vertical-align: top;\n",
       "    }\n",
       "</style>\n",
       "<table border=\"1\" class=\"dataframe\">\n",
       "  <thead>\n",
       "    <tr style=\"text-align: right;\">\n",
       "      <th></th>\n",
       "      <th>access</th>\n",
       "      <th>agent</th>\n",
       "      <th>granularity</th>\n",
       "      <th>project</th>\n",
       "      <th>timestamp</th>\n",
       "      <th>views</th>\n",
       "    </tr>\n",
       "  </thead>\n",
       "  <tbody>\n",
       "    <tr>\n",
       "      <th>0</th>\n",
       "      <td>desktop</td>\n",
       "      <td>user</td>\n",
       "      <td>monthly</td>\n",
       "      <td>en.wikipedia</td>\n",
       "      <td>2015070100</td>\n",
       "      <td>4376666686</td>\n",
       "    </tr>\n",
       "    <tr>\n",
       "      <th>1</th>\n",
       "      <td>desktop</td>\n",
       "      <td>user</td>\n",
       "      <td>monthly</td>\n",
       "      <td>en.wikipedia</td>\n",
       "      <td>2015080100</td>\n",
       "      <td>4332482183</td>\n",
       "    </tr>\n",
       "    <tr>\n",
       "      <th>2</th>\n",
       "      <td>desktop</td>\n",
       "      <td>user</td>\n",
       "      <td>monthly</td>\n",
       "      <td>en.wikipedia</td>\n",
       "      <td>2015090100</td>\n",
       "      <td>4485491704</td>\n",
       "    </tr>\n",
       "    <tr>\n",
       "      <th>3</th>\n",
       "      <td>desktop</td>\n",
       "      <td>user</td>\n",
       "      <td>monthly</td>\n",
       "      <td>en.wikipedia</td>\n",
       "      <td>2015100100</td>\n",
       "      <td>4477532755</td>\n",
       "    </tr>\n",
       "    <tr>\n",
       "      <th>4</th>\n",
       "      <td>desktop</td>\n",
       "      <td>user</td>\n",
       "      <td>monthly</td>\n",
       "      <td>en.wikipedia</td>\n",
       "      <td>2015110100</td>\n",
       "      <td>4287720220</td>\n",
       "    </tr>\n",
       "  </tbody>\n",
       "</table>\n",
       "</div>"
      ],
      "text/plain": [
       "    access agent granularity       project   timestamp       views\n",
       "0  desktop  user     monthly  en.wikipedia  2015070100  4376666686\n",
       "1  desktop  user     monthly  en.wikipedia  2015080100  4332482183\n",
       "2  desktop  user     monthly  en.wikipedia  2015090100  4485491704\n",
       "3  desktop  user     monthly  en.wikipedia  2015100100  4477532755\n",
       "4  desktop  user     monthly  en.wikipedia  2015110100  4287720220"
      ]
     },
     "execution_count": 217,
     "metadata": {},
     "output_type": "execute_result"
    }
   ],
   "source": [
    "f = get_filename_from_params('pageviews', get_param_dict_from_params('desktop', PAGEVIEWS_START, PAGEVIEWS_END))\n",
    "with open(f) as json_data:\n",
    "    d_as_json = json.load(json_data)\n",
    "    \n",
    "# pandas read_json needs the data as a string (not parsed JSON) and without the \n",
    "# 'items' preface that the API returns; we can't let read_json convert dates because it \n",
    "# doesn't handle this format ok - we'll convert next\n",
    "d = pd.read_json(json.dumps(d_as_json['items']), orient='records', convert_dates=False)\n",
    "d[:5]"
   ]
  },
  {
   "cell_type": "code",
   "execution_count": 220,
   "metadata": {},
   "outputs": [],
   "source": [
    "d['timestamp'] = pd.to_datetime(d['timestamp'], format='%Y%m%d%H')"
   ]
  },
  {
   "cell_type": "code",
   "execution_count": 221,
   "metadata": {},
   "outputs": [
    {
     "data": {
      "text/plain": [
       "access                 object\n",
       "agent                  object\n",
       "granularity            object\n",
       "project                object\n",
       "timestamp      datetime64[ns]\n",
       "views                   int64\n",
       "dtype: object"
      ]
     },
     "execution_count": 221,
     "metadata": {},
     "output_type": "execute_result"
    }
   ],
   "source": [
    "d.dtypes             "
   ]
  },
  {
   "cell_type": "code",
   "execution_count": 222,
   "metadata": {},
   "outputs": [
    {
     "data": {
      "text/html": [
       "<div>\n",
       "<style>\n",
       "    .dataframe thead tr:only-child th {\n",
       "        text-align: right;\n",
       "    }\n",
       "\n",
       "    .dataframe thead th {\n",
       "        text-align: left;\n",
       "    }\n",
       "\n",
       "    .dataframe tbody tr th {\n",
       "        vertical-align: top;\n",
       "    }\n",
       "</style>\n",
       "<table border=\"1\" class=\"dataframe\">\n",
       "  <thead>\n",
       "    <tr style=\"text-align: right;\">\n",
       "      <th></th>\n",
       "      <th>access</th>\n",
       "      <th>agent</th>\n",
       "      <th>granularity</th>\n",
       "      <th>project</th>\n",
       "      <th>timestamp</th>\n",
       "      <th>views</th>\n",
       "    </tr>\n",
       "  </thead>\n",
       "  <tbody>\n",
       "    <tr>\n",
       "      <th>0</th>\n",
       "      <td>desktop</td>\n",
       "      <td>user</td>\n",
       "      <td>monthly</td>\n",
       "      <td>en.wikipedia</td>\n",
       "      <td>2015-07-01</td>\n",
       "      <td>4376666686</td>\n",
       "    </tr>\n",
       "    <tr>\n",
       "      <th>1</th>\n",
       "      <td>desktop</td>\n",
       "      <td>user</td>\n",
       "      <td>monthly</td>\n",
       "      <td>en.wikipedia</td>\n",
       "      <td>2015-08-01</td>\n",
       "      <td>4332482183</td>\n",
       "    </tr>\n",
       "    <tr>\n",
       "      <th>2</th>\n",
       "      <td>desktop</td>\n",
       "      <td>user</td>\n",
       "      <td>monthly</td>\n",
       "      <td>en.wikipedia</td>\n",
       "      <td>2015-09-01</td>\n",
       "      <td>4485491704</td>\n",
       "    </tr>\n",
       "    <tr>\n",
       "      <th>3</th>\n",
       "      <td>desktop</td>\n",
       "      <td>user</td>\n",
       "      <td>monthly</td>\n",
       "      <td>en.wikipedia</td>\n",
       "      <td>2015-10-01</td>\n",
       "      <td>4477532755</td>\n",
       "    </tr>\n",
       "    <tr>\n",
       "      <th>4</th>\n",
       "      <td>desktop</td>\n",
       "      <td>user</td>\n",
       "      <td>monthly</td>\n",
       "      <td>en.wikipedia</td>\n",
       "      <td>2015-11-01</td>\n",
       "      <td>4287720220</td>\n",
       "    </tr>\n",
       "  </tbody>\n",
       "</table>\n",
       "</div>"
      ],
      "text/plain": [
       "    access agent granularity       project  timestamp       views\n",
       "0  desktop  user     monthly  en.wikipedia 2015-07-01  4376666686\n",
       "1  desktop  user     monthly  en.wikipedia 2015-08-01  4332482183\n",
       "2  desktop  user     monthly  en.wikipedia 2015-09-01  4485491704\n",
       "3  desktop  user     monthly  en.wikipedia 2015-10-01  4477532755\n",
       "4  desktop  user     monthly  en.wikipedia 2015-11-01  4287720220"
      ]
     },
     "execution_count": 222,
     "metadata": {},
     "output_type": "execute_result"
    }
   ],
   "source": [
    "d[:5]"
   ]
  },
  {
   "cell_type": "code",
   "execution_count": 223,
   "metadata": {},
   "outputs": [
    {
     "data": {
      "text/html": [
       "<div>\n",
       "<style>\n",
       "    .dataframe thead tr:only-child th {\n",
       "        text-align: right;\n",
       "    }\n",
       "\n",
       "    .dataframe thead th {\n",
       "        text-align: left;\n",
       "    }\n",
       "\n",
       "    .dataframe tbody tr th {\n",
       "        vertical-align: top;\n",
       "    }\n",
       "</style>\n",
       "<table border=\"1\" class=\"dataframe\">\n",
       "  <thead>\n",
       "    <tr style=\"text-align: right;\">\n",
       "      <th></th>\n",
       "      <th>access</th>\n",
       "      <th>agent</th>\n",
       "      <th>granularity</th>\n",
       "      <th>project</th>\n",
       "      <th>views</th>\n",
       "    </tr>\n",
       "    <tr>\n",
       "      <th>timestamp</th>\n",
       "      <th></th>\n",
       "      <th></th>\n",
       "      <th></th>\n",
       "      <th></th>\n",
       "      <th></th>\n",
       "    </tr>\n",
       "  </thead>\n",
       "  <tbody>\n",
       "    <tr>\n",
       "      <th>2015-07-01</th>\n",
       "      <td>desktop</td>\n",
       "      <td>user</td>\n",
       "      <td>monthly</td>\n",
       "      <td>en.wikipedia</td>\n",
       "      <td>4376666686</td>\n",
       "    </tr>\n",
       "    <tr>\n",
       "      <th>2015-08-01</th>\n",
       "      <td>desktop</td>\n",
       "      <td>user</td>\n",
       "      <td>monthly</td>\n",
       "      <td>en.wikipedia</td>\n",
       "      <td>4332482183</td>\n",
       "    </tr>\n",
       "    <tr>\n",
       "      <th>2015-09-01</th>\n",
       "      <td>desktop</td>\n",
       "      <td>user</td>\n",
       "      <td>monthly</td>\n",
       "      <td>en.wikipedia</td>\n",
       "      <td>4485491704</td>\n",
       "    </tr>\n",
       "    <tr>\n",
       "      <th>2015-10-01</th>\n",
       "      <td>desktop</td>\n",
       "      <td>user</td>\n",
       "      <td>monthly</td>\n",
       "      <td>en.wikipedia</td>\n",
       "      <td>4477532755</td>\n",
       "    </tr>\n",
       "    <tr>\n",
       "      <th>2015-11-01</th>\n",
       "      <td>desktop</td>\n",
       "      <td>user</td>\n",
       "      <td>monthly</td>\n",
       "      <td>en.wikipedia</td>\n",
       "      <td>4287720220</td>\n",
       "    </tr>\n",
       "  </tbody>\n",
       "</table>\n",
       "</div>"
      ],
      "text/plain": [
       "             access agent granularity       project       views\n",
       "timestamp                                                      \n",
       "2015-07-01  desktop  user     monthly  en.wikipedia  4376666686\n",
       "2015-08-01  desktop  user     monthly  en.wikipedia  4332482183\n",
       "2015-09-01  desktop  user     monthly  en.wikipedia  4485491704\n",
       "2015-10-01  desktop  user     monthly  en.wikipedia  4477532755\n",
       "2015-11-01  desktop  user     monthly  en.wikipedia  4287720220"
      ]
     },
     "execution_count": 223,
     "metadata": {},
     "output_type": "execute_result"
    }
   ],
   "source": [
    "d.set_index('timestamp', inplace=True)\n",
    "d[:5]"
   ]
  },
  {
   "cell_type": "code",
   "execution_count": 229,
   "metadata": {},
   "outputs": [
    {
     "data": {
      "text/plain": [
       "<matplotlib.axes._subplots.AxesSubplot at 0x115d24a90>"
      ]
     },
     "execution_count": 229,
     "metadata": {},
     "output_type": "execute_result"
    },
    {
     "data": {
      "image/png": "[encoded data removed]",
      "text/plain": [
       "<matplotlib.figure.Figure at 0x115d5d6a0>"
      ]
     },
     "metadata": {},
     "output_type": "display_data"
    }
   ],
   "source": [
    "d['views'].plot()"
   ]
  },
  {
   "cell_type": "code",
   "execution_count": null,
   "metadata": {
    "collapsed": true
   },
   "outputs": [],
   "source": []
  },
  {
   "cell_type": "code",
   "execution_count": null,
   "metadata": {
    "collapsed": true
   },
   "outputs": [],
   "source": []
  },
  {
   "cell_type": "code",
   "execution_count": 34,
   "metadata": {},
   "outputs": [
    {
     "data": {
      "text/plain": [
       "{'items': [{'access-site': 'mobile-site',\n",
       "   'count': 3091546685,\n",
       "   'granularity': 'monthly',\n",
       "   'project': 'en.wikipedia',\n",
       "   'timestamp': '2014100100'},\n",
       "  {'access-site': 'mobile-site',\n",
       "   'count': 3027489668,\n",
       "   'granularity': 'monthly',\n",
       "   'project': 'en.wikipedia',\n",
       "   'timestamp': '2014110100'},\n",
       "  {'access-site': 'mobile-site',\n",
       "   'count': 3278950021,\n",
       "   'granularity': 'monthly',\n",
       "   'project': 'en.wikipedia',\n",
       "   'timestamp': '2014120100'},\n",
       "  {'access-site': 'mobile-site',\n",
       "   'count': 3485302091,\n",
       "   'granularity': 'monthly',\n",
       "   'project': 'en.wikipedia',\n",
       "   'timestamp': '2015010100'},\n",
       "  {'access-site': 'mobile-site',\n",
       "   'count': 3091534479,\n",
       "   'granularity': 'monthly',\n",
       "   'project': 'en.wikipedia',\n",
       "   'timestamp': '2015020100'},\n",
       "  {'access-site': 'mobile-site',\n",
       "   'count': 3330832588,\n",
       "   'granularity': 'monthly',\n",
       "   'project': 'en.wikipedia',\n",
       "   'timestamp': '2015030100'},\n",
       "  {'access-site': 'mobile-site',\n",
       "   'count': 3222089917,\n",
       "   'granularity': 'monthly',\n",
       "   'project': 'en.wikipedia',\n",
       "   'timestamp': '2015040100'},\n",
       "  {'access-site': 'mobile-site',\n",
       "   'count': 3334069483,\n",
       "   'granularity': 'monthly',\n",
       "   'project': 'en.wikipedia',\n",
       "   'timestamp': '2015050100'},\n",
       "  {'access-site': 'mobile-site',\n",
       "   'count': 3038162463,\n",
       "   'granularity': 'monthly',\n",
       "   'project': 'en.wikipedia',\n",
       "   'timestamp': '2015060100'},\n",
       "  {'access-site': 'mobile-site',\n",
       "   'count': 3254472695,\n",
       "   'granularity': 'monthly',\n",
       "   'project': 'en.wikipedia',\n",
       "   'timestamp': '2015070100'},\n",
       "  {'access-site': 'mobile-site',\n",
       "   'count': 3268487582,\n",
       "   'granularity': 'monthly',\n",
       "   'project': 'en.wikipedia',\n",
       "   'timestamp': '2015080100'},\n",
       "  {'access-site': 'mobile-site',\n",
       "   'count': 3172429827,\n",
       "   'granularity': 'monthly',\n",
       "   'project': 'en.wikipedia',\n",
       "   'timestamp': '2015090100'},\n",
       "  {'access-site': 'mobile-site',\n",
       "   'count': 3246082505,\n",
       "   'granularity': 'monthly',\n",
       "   'project': 'en.wikipedia',\n",
       "   'timestamp': '2015100100'},\n",
       "  {'access-site': 'mobile-site',\n",
       "   'count': 3218234512,\n",
       "   'granularity': 'monthly',\n",
       "   'project': 'en.wikipedia',\n",
       "   'timestamp': '2015110100'},\n",
       "  {'access-site': 'mobile-site',\n",
       "   'count': 3387411863,\n",
       "   'granularity': 'monthly',\n",
       "   'project': 'en.wikipedia',\n",
       "   'timestamp': '2015120100'},\n",
       "  {'access-site': 'mobile-site',\n",
       "   'count': 3739628742,\n",
       "   'granularity': 'monthly',\n",
       "   'project': 'en.wikipedia',\n",
       "   'timestamp': '2016010100'},\n",
       "  {'access-site': 'mobile-site',\n",
       "   'count': 3333231392,\n",
       "   'granularity': 'monthly',\n",
       "   'project': 'en.wikipedia',\n",
       "   'timestamp': '2016020100'},\n",
       "  {'access-site': 'mobile-site',\n",
       "   'count': 3419853636,\n",
       "   'granularity': 'monthly',\n",
       "   'project': 'en.wikipedia',\n",
       "   'timestamp': '2016030100'},\n",
       "  {'access-site': 'mobile-site',\n",
       "   'count': 3301385124,\n",
       "   'granularity': 'monthly',\n",
       "   'project': 'en.wikipedia',\n",
       "   'timestamp': '2016040100'},\n",
       "  {'access-site': 'mobile-site',\n",
       "   'count': 3418435805,\n",
       "   'granularity': 'monthly',\n",
       "   'project': 'en.wikipedia',\n",
       "   'timestamp': '2016050100'},\n",
       "  {'access-site': 'mobile-site',\n",
       "   'count': 3372618063,\n",
       "   'granularity': 'monthly',\n",
       "   'project': 'en.wikipedia',\n",
       "   'timestamp': '2016060100'},\n",
       "  {'access-site': 'mobile-site',\n",
       "   'count': 3500661121,\n",
       "   'granularity': 'monthly',\n",
       "   'project': 'en.wikipedia',\n",
       "   'timestamp': '2016070100'}]}"
      ]
     },
     "execution_count": 34,
     "metadata": {},
     "output_type": "execute_result"
    }
   ],
   "source": [
    "j = get_page_access_data(endpoint_pagecounts, 'mobile-site', user_agent)\n",
    "j"
   ]
  },
  {
   "cell_type": "code",
   "execution_count": 36,
   "metadata": {},
   "outputs": [
    {
     "data": {
      "text/plain": [
       "{'items': [{'access': 'desktop',\n",
       "   'agent': 'user',\n",
       "   'granularity': 'monthly',\n",
       "   'project': 'en.wikipedia',\n",
       "   'timestamp': '2015070100',\n",
       "   'views': 4376666686},\n",
       "  {'access': 'desktop',\n",
       "   'agent': 'user',\n",
       "   'granularity': 'monthly',\n",
       "   'project': 'en.wikipedia',\n",
       "   'timestamp': '2015080100',\n",
       "   'views': 4332482183},\n",
       "  {'access': 'desktop',\n",
       "   'agent': 'user',\n",
       "   'granularity': 'monthly',\n",
       "   'project': 'en.wikipedia',\n",
       "   'timestamp': '2015090100',\n",
       "   'views': 4485491704},\n",
       "  {'access': 'desktop',\n",
       "   'agent': 'user',\n",
       "   'granularity': 'monthly',\n",
       "   'project': 'en.wikipedia',\n",
       "   'timestamp': '2015100100',\n",
       "   'views': 4477532755},\n",
       "  {'access': 'desktop',\n",
       "   'agent': 'user',\n",
       "   'granularity': 'monthly',\n",
       "   'project': 'en.wikipedia',\n",
       "   'timestamp': '2015110100',\n",
       "   'views': 4287720220},\n",
       "  {'access': 'desktop',\n",
       "   'agent': 'user',\n",
       "   'granularity': 'monthly',\n",
       "   'project': 'en.wikipedia',\n",
       "   'timestamp': '2015120100',\n",
       "   'views': 4100012037},\n",
       "  {'access': 'desktop',\n",
       "   'agent': 'user',\n",
       "   'granularity': 'monthly',\n",
       "   'project': 'en.wikipedia',\n",
       "   'timestamp': '2016010100',\n",
       "   'views': 4436179457},\n",
       "  {'access': 'desktop',\n",
       "   'agent': 'user',\n",
       "   'granularity': 'monthly',\n",
       "   'project': 'en.wikipedia',\n",
       "   'timestamp': '2016020100',\n",
       "   'views': 4250997185},\n",
       "  {'access': 'desktop',\n",
       "   'agent': 'user',\n",
       "   'granularity': 'monthly',\n",
       "   'project': 'en.wikipedia',\n",
       "   'timestamp': '2016030100',\n",
       "   'views': 4286590426},\n",
       "  {'access': 'desktop',\n",
       "   'agent': 'user',\n",
       "   'granularity': 'monthly',\n",
       "   'project': 'en.wikipedia',\n",
       "   'timestamp': '2016040100',\n",
       "   'views': 4149383857},\n",
       "  {'access': 'desktop',\n",
       "   'agent': 'user',\n",
       "   'granularity': 'monthly',\n",
       "   'project': 'en.wikipedia',\n",
       "   'timestamp': '2016050100',\n",
       "   'views': 4191778094},\n",
       "  {'access': 'desktop',\n",
       "   'agent': 'user',\n",
       "   'granularity': 'monthly',\n",
       "   'project': 'en.wikipedia',\n",
       "   'timestamp': '2016060100',\n",
       "   'views': 3888839711},\n",
       "  {'access': 'desktop',\n",
       "   'agent': 'user',\n",
       "   'granularity': 'monthly',\n",
       "   'project': 'en.wikipedia',\n",
       "   'timestamp': '2016070100',\n",
       "   'views': 4337865827},\n",
       "  {'access': 'desktop',\n",
       "   'agent': 'user',\n",
       "   'granularity': 'monthly',\n",
       "   'project': 'en.wikipedia',\n",
       "   'timestamp': '2016080100',\n",
       "   'views': 4695046216},\n",
       "  {'access': 'desktop',\n",
       "   'agent': 'user',\n",
       "   'granularity': 'monthly',\n",
       "   'project': 'en.wikipedia',\n",
       "   'timestamp': '2016090100',\n",
       "   'views': 4135006498},\n",
       "  {'access': 'desktop',\n",
       "   'agent': 'user',\n",
       "   'granularity': 'monthly',\n",
       "   'project': 'en.wikipedia',\n",
       "   'timestamp': '2016100100',\n",
       "   'views': 4361737690},\n",
       "  {'access': 'desktop',\n",
       "   'agent': 'user',\n",
       "   'granularity': 'monthly',\n",
       "   'project': 'en.wikipedia',\n",
       "   'timestamp': '2016110100',\n",
       "   'views': 4392068236},\n",
       "  {'access': 'desktop',\n",
       "   'agent': 'user',\n",
       "   'granularity': 'monthly',\n",
       "   'project': 'en.wikipedia',\n",
       "   'timestamp': '2016120100',\n",
       "   'views': 4209608578},\n",
       "  {'access': 'desktop',\n",
       "   'agent': 'user',\n",
       "   'granularity': 'monthly',\n",
       "   'project': 'en.wikipedia',\n",
       "   'timestamp': '2017010100',\n",
       "   'views': 4521980398},\n",
       "  {'access': 'desktop',\n",
       "   'agent': 'user',\n",
       "   'granularity': 'monthly',\n",
       "   'project': 'en.wikipedia',\n",
       "   'timestamp': '2017020100',\n",
       "   'views': 4026702163},\n",
       "  {'access': 'desktop',\n",
       "   'agent': 'user',\n",
       "   'granularity': 'monthly',\n",
       "   'project': 'en.wikipedia',\n",
       "   'timestamp': '2017030100',\n",
       "   'views': 4319971902},\n",
       "  {'access': 'desktop',\n",
       "   'agent': 'user',\n",
       "   'granularity': 'monthly',\n",
       "   'project': 'en.wikipedia',\n",
       "   'timestamp': '2017040100',\n",
       "   'views': 3951456992},\n",
       "  {'access': 'desktop',\n",
       "   'agent': 'user',\n",
       "   'granularity': 'monthly',\n",
       "   'project': 'en.wikipedia',\n",
       "   'timestamp': '2017050100',\n",
       "   'views': 4187870579},\n",
       "  {'access': 'desktop',\n",
       "   'agent': 'user',\n",
       "   'granularity': 'monthly',\n",
       "   'project': 'en.wikipedia',\n",
       "   'timestamp': '2017060100',\n",
       "   'views': 3604550997},\n",
       "  {'access': 'desktop',\n",
       "   'agent': 'user',\n",
       "   'granularity': 'monthly',\n",
       "   'project': 'en.wikipedia',\n",
       "   'timestamp': '2017070100',\n",
       "   'views': 3565444544},\n",
       "  {'access': 'desktop',\n",
       "   'agent': 'user',\n",
       "   'granularity': 'monthly',\n",
       "   'project': 'en.wikipedia',\n",
       "   'timestamp': '2017080100',\n",
       "   'views': 3575572313},\n",
       "  {'access': 'desktop',\n",
       "   'agent': 'user',\n",
       "   'granularity': 'monthly',\n",
       "   'project': 'en.wikipedia',\n",
       "   'timestamp': '2017090100',\n",
       "   'views': 3547447892}]}"
      ]
     },
     "execution_count": 36,
     "metadata": {},
     "output_type": "execute_result"
    }
   ],
   "source": [
    "j = get_page_access_data(endpoint_pageviews, 'desktop', user_agent)\n",
    "j"
   ]
  },
  {
   "cell_type": "code",
   "execution_count": 38,
   "metadata": {},
   "outputs": [
    {
     "data": {
      "text/plain": [
       "{'items': [{'access': 'mobile-app',\n",
       "   'agent': 'user',\n",
       "   'granularity': 'monthly',\n",
       "   'project': 'en.wikipedia',\n",
       "   'timestamp': '2015070100',\n",
       "   'views': 109624146},\n",
       "  {'access': 'mobile-app',\n",
       "   'agent': 'user',\n",
       "   'granularity': 'monthly',\n",
       "   'project': 'en.wikipedia',\n",
       "   'timestamp': '2015080100',\n",
       "   'views': 109669149},\n",
       "  {'access': 'mobile-app',\n",
       "   'agent': 'user',\n",
       "   'granularity': 'monthly',\n",
       "   'project': 'en.wikipedia',\n",
       "   'timestamp': '2015090100',\n",
       "   'views': 96221684},\n",
       "  {'access': 'mobile-app',\n",
       "   'agent': 'user',\n",
       "   'granularity': 'monthly',\n",
       "   'project': 'en.wikipedia',\n",
       "   'timestamp': '2015100100',\n",
       "   'views': 94523777},\n",
       "  {'access': 'mobile-app',\n",
       "   'agent': 'user',\n",
       "   'granularity': 'monthly',\n",
       "   'project': 'en.wikipedia',\n",
       "   'timestamp': '2015110100',\n",
       "   'views': 94353925},\n",
       "  {'access': 'mobile-app',\n",
       "   'agent': 'user',\n",
       "   'granularity': 'monthly',\n",
       "   'project': 'en.wikipedia',\n",
       "   'timestamp': '2015120100',\n",
       "   'views': 99438956},\n",
       "  {'access': 'mobile-app',\n",
       "   'agent': 'user',\n",
       "   'granularity': 'monthly',\n",
       "   'project': 'en.wikipedia',\n",
       "   'timestamp': '2016010100',\n",
       "   'views': 106432767},\n",
       "  {'access': 'mobile-app',\n",
       "   'agent': 'user',\n",
       "   'granularity': 'monthly',\n",
       "   'project': 'en.wikipedia',\n",
       "   'timestamp': '2016020100',\n",
       "   'views': 92414130},\n",
       "  {'access': 'mobile-app',\n",
       "   'agent': 'user',\n",
       "   'granularity': 'monthly',\n",
       "   'project': 'en.wikipedia',\n",
       "   'timestamp': '2016030100',\n",
       "   'views': 97899074},\n",
       "  {'access': 'mobile-app',\n",
       "   'agent': 'user',\n",
       "   'granularity': 'monthly',\n",
       "   'project': 'en.wikipedia',\n",
       "   'timestamp': '2016040100',\n",
       "   'views': 81719003},\n",
       "  {'access': 'mobile-app',\n",
       "   'agent': 'user',\n",
       "   'granularity': 'monthly',\n",
       "   'project': 'en.wikipedia',\n",
       "   'timestamp': '2016050100',\n",
       "   'views': 98738513},\n",
       "  {'access': 'mobile-app',\n",
       "   'agent': 'user',\n",
       "   'granularity': 'monthly',\n",
       "   'project': 'en.wikipedia',\n",
       "   'timestamp': '2016060100',\n",
       "   'views': 96908466},\n",
       "  {'access': 'mobile-app',\n",
       "   'agent': 'user',\n",
       "   'granularity': 'monthly',\n",
       "   'project': 'en.wikipedia',\n",
       "   'timestamp': '2016070100',\n",
       "   'views': 101398640},\n",
       "  {'access': 'mobile-app',\n",
       "   'agent': 'user',\n",
       "   'granularity': 'monthly',\n",
       "   'project': 'en.wikipedia',\n",
       "   'timestamp': '2016080100',\n",
       "   'views': 97172509},\n",
       "  {'access': 'mobile-app',\n",
       "   'agent': 'user',\n",
       "   'granularity': 'monthly',\n",
       "   'project': 'en.wikipedia',\n",
       "   'timestamp': '2016090100',\n",
       "   'views': 83037939},\n",
       "  {'access': 'mobile-app',\n",
       "   'agent': 'user',\n",
       "   'granularity': 'monthly',\n",
       "   'project': 'en.wikipedia',\n",
       "   'timestamp': '2016100100',\n",
       "   'views': 67174886},\n",
       "  {'access': 'mobile-app',\n",
       "   'agent': 'user',\n",
       "   'granularity': 'monthly',\n",
       "   'project': 'en.wikipedia',\n",
       "   'timestamp': '2016110100',\n",
       "   'views': 83623769},\n",
       "  {'access': 'mobile-app',\n",
       "   'agent': 'user',\n",
       "   'granularity': 'monthly',\n",
       "   'project': 'en.wikipedia',\n",
       "   'timestamp': '2016120100',\n",
       "   'views': 128976033},\n",
       "  {'access': 'mobile-app',\n",
       "   'agent': 'user',\n",
       "   'granularity': 'monthly',\n",
       "   'project': 'en.wikipedia',\n",
       "   'timestamp': '2017010100',\n",
       "   'views': 211813191},\n",
       "  {'access': 'mobile-app',\n",
       "   'agent': 'user',\n",
       "   'granularity': 'monthly',\n",
       "   'project': 'en.wikipedia',\n",
       "   'timestamp': '2017020100',\n",
       "   'views': 189059134},\n",
       "  {'access': 'mobile-app',\n",
       "   'agent': 'user',\n",
       "   'granularity': 'monthly',\n",
       "   'project': 'en.wikipedia',\n",
       "   'timestamp': '2017030100',\n",
       "   'views': 184098693},\n",
       "  {'access': 'mobile-app',\n",
       "   'agent': 'user',\n",
       "   'granularity': 'monthly',\n",
       "   'project': 'en.wikipedia',\n",
       "   'timestamp': '2017040100',\n",
       "   'views': 115051969},\n",
       "  {'access': 'mobile-app',\n",
       "   'agent': 'user',\n",
       "   'granularity': 'monthly',\n",
       "   'project': 'en.wikipedia',\n",
       "   'timestamp': '2017050100',\n",
       "   'views': 118805669},\n",
       "  {'access': 'mobile-app',\n",
       "   'agent': 'user',\n",
       "   'granularity': 'monthly',\n",
       "   'project': 'en.wikipedia',\n",
       "   'timestamp': '2017060100',\n",
       "   'views': 115285847},\n",
       "  {'access': 'mobile-app',\n",
       "   'agent': 'user',\n",
       "   'granularity': 'monthly',\n",
       "   'project': 'en.wikipedia',\n",
       "   'timestamp': '2017070100',\n",
       "   'views': 124118219},\n",
       "  {'access': 'mobile-app',\n",
       "   'agent': 'user',\n",
       "   'granularity': 'monthly',\n",
       "   'project': 'en.wikipedia',\n",
       "   'timestamp': '2017080100',\n",
       "   'views': 119171796},\n",
       "  {'access': 'mobile-app',\n",
       "   'agent': 'user',\n",
       "   'granularity': 'monthly',\n",
       "   'project': 'en.wikipedia',\n",
       "   'timestamp': '2017090100',\n",
       "   'views': 114615188}]}"
      ]
     },
     "execution_count": 38,
     "metadata": {},
     "output_type": "execute_result"
    }
   ],
   "source": [
    "j = get_page_access_data(endpoint_pageviews, 'mobile-app', user_agent)\n",
    "j"
   ]
  },
  {
   "cell_type": "code",
   "execution_count": 39,
   "metadata": {},
   "outputs": [
    {
     "data": {
      "text/plain": [
       "{'items': [{'access': 'mobile-app',\n",
       "   'agent': 'user',\n",
       "   'granularity': 'monthly',\n",
       "   'project': 'en.wikipedia',\n",
       "   'timestamp': '2015070100',\n",
       "   'views': 109624146},\n",
       "  {'access': 'mobile-app',\n",
       "   'agent': 'user',\n",
       "   'granularity': 'monthly',\n",
       "   'project': 'en.wikipedia',\n",
       "   'timestamp': '2015080100',\n",
       "   'views': 109669149},\n",
       "  {'access': 'mobile-app',\n",
       "   'agent': 'user',\n",
       "   'granularity': 'monthly',\n",
       "   'project': 'en.wikipedia',\n",
       "   'timestamp': '2015090100',\n",
       "   'views': 96221684},\n",
       "  {'access': 'mobile-app',\n",
       "   'agent': 'user',\n",
       "   'granularity': 'monthly',\n",
       "   'project': 'en.wikipedia',\n",
       "   'timestamp': '2015100100',\n",
       "   'views': 94523777},\n",
       "  {'access': 'mobile-app',\n",
       "   'agent': 'user',\n",
       "   'granularity': 'monthly',\n",
       "   'project': 'en.wikipedia',\n",
       "   'timestamp': '2015110100',\n",
       "   'views': 94353925},\n",
       "  {'access': 'mobile-app',\n",
       "   'agent': 'user',\n",
       "   'granularity': 'monthly',\n",
       "   'project': 'en.wikipedia',\n",
       "   'timestamp': '2015120100',\n",
       "   'views': 99438956},\n",
       "  {'access': 'mobile-app',\n",
       "   'agent': 'user',\n",
       "   'granularity': 'monthly',\n",
       "   'project': 'en.wikipedia',\n",
       "   'timestamp': '2016010100',\n",
       "   'views': 106432767},\n",
       "  {'access': 'mobile-app',\n",
       "   'agent': 'user',\n",
       "   'granularity': 'monthly',\n",
       "   'project': 'en.wikipedia',\n",
       "   'timestamp': '2016020100',\n",
       "   'views': 92414130},\n",
       "  {'access': 'mobile-app',\n",
       "   'agent': 'user',\n",
       "   'granularity': 'monthly',\n",
       "   'project': 'en.wikipedia',\n",
       "   'timestamp': '2016030100',\n",
       "   'views': 97899074},\n",
       "  {'access': 'mobile-app',\n",
       "   'agent': 'user',\n",
       "   'granularity': 'monthly',\n",
       "   'project': 'en.wikipedia',\n",
       "   'timestamp': '2016040100',\n",
       "   'views': 81719003},\n",
       "  {'access': 'mobile-app',\n",
       "   'agent': 'user',\n",
       "   'granularity': 'monthly',\n",
       "   'project': 'en.wikipedia',\n",
       "   'timestamp': '2016050100',\n",
       "   'views': 98738513},\n",
       "  {'access': 'mobile-app',\n",
       "   'agent': 'user',\n",
       "   'granularity': 'monthly',\n",
       "   'project': 'en.wikipedia',\n",
       "   'timestamp': '2016060100',\n",
       "   'views': 96908466},\n",
       "  {'access': 'mobile-app',\n",
       "   'agent': 'user',\n",
       "   'granularity': 'monthly',\n",
       "   'project': 'en.wikipedia',\n",
       "   'timestamp': '2016070100',\n",
       "   'views': 101398640},\n",
       "  {'access': 'mobile-app',\n",
       "   'agent': 'user',\n",
       "   'granularity': 'monthly',\n",
       "   'project': 'en.wikipedia',\n",
       "   'timestamp': '2016080100',\n",
       "   'views': 97172509},\n",
       "  {'access': 'mobile-app',\n",
       "   'agent': 'user',\n",
       "   'granularity': 'monthly',\n",
       "   'project': 'en.wikipedia',\n",
       "   'timestamp': '2016090100',\n",
       "   'views': 83037939},\n",
       "  {'access': 'mobile-app',\n",
       "   'agent': 'user',\n",
       "   'granularity': 'monthly',\n",
       "   'project': 'en.wikipedia',\n",
       "   'timestamp': '2016100100',\n",
       "   'views': 67174886},\n",
       "  {'access': 'mobile-app',\n",
       "   'agent': 'user',\n",
       "   'granularity': 'monthly',\n",
       "   'project': 'en.wikipedia',\n",
       "   'timestamp': '2016110100',\n",
       "   'views': 83623769},\n",
       "  {'access': 'mobile-app',\n",
       "   'agent': 'user',\n",
       "   'granularity': 'monthly',\n",
       "   'project': 'en.wikipedia',\n",
       "   'timestamp': '2016120100',\n",
       "   'views': 128976033},\n",
       "  {'access': 'mobile-app',\n",
       "   'agent': 'user',\n",
       "   'granularity': 'monthly',\n",
       "   'project': 'en.wikipedia',\n",
       "   'timestamp': '2017010100',\n",
       "   'views': 211813191},\n",
       "  {'access': 'mobile-app',\n",
       "   'agent': 'user',\n",
       "   'granularity': 'monthly',\n",
       "   'project': 'en.wikipedia',\n",
       "   'timestamp': '2017020100',\n",
       "   'views': 189059134},\n",
       "  {'access': 'mobile-app',\n",
       "   'agent': 'user',\n",
       "   'granularity': 'monthly',\n",
       "   'project': 'en.wikipedia',\n",
       "   'timestamp': '2017030100',\n",
       "   'views': 184098693},\n",
       "  {'access': 'mobile-app',\n",
       "   'agent': 'user',\n",
       "   'granularity': 'monthly',\n",
       "   'project': 'en.wikipedia',\n",
       "   'timestamp': '2017040100',\n",
       "   'views': 115051969},\n",
       "  {'access': 'mobile-app',\n",
       "   'agent': 'user',\n",
       "   'granularity': 'monthly',\n",
       "   'project': 'en.wikipedia',\n",
       "   'timestamp': '2017050100',\n",
       "   'views': 118805669},\n",
       "  {'access': 'mobile-app',\n",
       "   'agent': 'user',\n",
       "   'granularity': 'monthly',\n",
       "   'project': 'en.wikipedia',\n",
       "   'timestamp': '2017060100',\n",
       "   'views': 115285847},\n",
       "  {'access': 'mobile-app',\n",
       "   'agent': 'user',\n",
       "   'granularity': 'monthly',\n",
       "   'project': 'en.wikipedia',\n",
       "   'timestamp': '2017070100',\n",
       "   'views': 124118219},\n",
       "  {'access': 'mobile-app',\n",
       "   'agent': 'user',\n",
       "   'granularity': 'monthly',\n",
       "   'project': 'en.wikipedia',\n",
       "   'timestamp': '2017080100',\n",
       "   'views': 119171796},\n",
       "  {'access': 'mobile-app',\n",
       "   'agent': 'user',\n",
       "   'granularity': 'monthly',\n",
       "   'project': 'en.wikipedia',\n",
       "   'timestamp': '2017090100',\n",
       "   'views': 114615188}]}"
      ]
     },
     "execution_count": 39,
     "metadata": {},
     "output_type": "execute_result"
    }
   ],
   "source": [
    "j = get_page_access_data(endpoint_pageviews, 'mobile-app', user_agent)\n",
    "j"
   ]
  },
  {
   "cell_type": "code",
   "execution_count": null,
   "metadata": {
    "collapsed": true
   },
   "outputs": [],
   "source": []
  },
  {
   "cell_type": "code",
   "execution_count": null,
   "metadata": {
    "collapsed": true
   },
   "outputs": [],
   "source": []
  },
  {
   "cell_type": "code",
   "execution_count": null,
   "metadata": {
    "collapsed": true
   },
   "outputs": [],
   "source": []
  },
  {
   "cell_type": "code",
   "execution_count": 13,
   "metadata": {},
   "outputs": [
    {
     "data": {
      "text/plain": [
       "'bar'"
      ]
     },
     "execution_count": 13,
     "metadata": {},
     "output_type": "execute_result"
    }
   ],
   "source": [
    "#baz = {'foo':'bar'}\n",
    "'{foo}'.format(**{'foo':'bar'})"
   ]
  },
  {
   "cell_type": "code",
   "execution_count": 16,
   "metadata": {},
   "outputs": [
    {
     "data": {
      "text/plain": [
       "{'User-Agent': 'bar'}"
      ]
     },
     "execution_count": 16,
     "metadata": {},
     "output_type": "execute_result"
    }
   ],
   "source": [
    "{'User-Agent':'{foo}'.format(**{'foo':'bar'})}"
   ]
  },
  {
   "cell_type": "code",
   "execution_count": 19,
   "metadata": {},
   "outputs": [
    {
     "data": {
      "text/plain": [
       "{'User-Agent': 'https://github.com/aenfield'}"
      ]
     },
     "execution_count": 19,
     "metadata": {},
     "output_type": "execute_result"
    }
   ],
   "source": [
    "{'User-Agent':'{user_agent}'.format(**{'user_agent':user_agent})}"
   ]
  },
  {
   "cell_type": "code",
   "execution_count": 28,
   "metadata": {},
   "outputs": [
    {
     "data": {
      "text/plain": [
       "{'User-Agent': 'https://github.com/aenfield'}"
      ]
     },
     "execution_count": 28,
     "metadata": {},
     "output_type": "execute_result"
    }
   ],
   "source": [
    "{'User-Agent':'{}'.format(user_agent)}"
   ]
  },
  {
   "cell_type": "code",
   "execution_count": null,
   "metadata": {
    "collapsed": true
   },
   "outputs": [],
   "source": []
  }
 ],
 "metadata": {
  "kernelspec": {
   "display_name": "Python 3",
   "language": "python",
   "name": "python3"
  },
  "language_info": {
   "codemirror_mode": {
    "name": "ipython",
    "version": 3
   },
   "file_extension": ".py",
   "mimetype": "text/x-python",
   "name": "python",
   "nbconvert_exporter": "python",
   "pygments_lexer": "ipython3",
   "version": "3.6.2"
  }
 },
 "nbformat": 4,
 "nbformat_minor": 2
}
